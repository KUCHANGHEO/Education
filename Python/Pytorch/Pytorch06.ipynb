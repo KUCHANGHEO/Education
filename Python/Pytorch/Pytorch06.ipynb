{
 "cells": [
  {
   "cell_type": "code",
   "execution_count": 37,
   "id": "0b1e8373",
   "metadata": {},
   "outputs": [],
   "source": [
    "import torch\n",
    "import torch.nn as nn\n",
    "import torch.nn.functional as F\n",
    "import random\n",
    "import torchvision.datasets as dsets\n",
    "import torchvision.transforms as transforms"
   ]
  },
  {
   "cell_type": "code",
   "execution_count": 6,
   "id": "d320d269",
   "metadata": {},
   "outputs": [
    {
     "name": "stdout",
     "output_type": "stream",
     "text": [
      "cuda\n"
     ]
    }
   ],
   "source": [
    "device = 'cuda' if torch.cuda.is_available() else 'cpu'\n",
    "print(device)"
   ]
  },
  {
   "cell_type": "code",
   "execution_count": 7,
   "id": "de44cba9",
   "metadata": {},
   "outputs": [],
   "source": [
    "random.seed(777)\n",
    "torch.manual_seed(777)\n",
    "if device == 'cuda':\n",
    "    torch.cuda.manual_seed_all(777)"
   ]
  },
  {
   "cell_type": "code",
   "execution_count": 8,
   "id": "aa4830ef",
   "metadata": {},
   "outputs": [],
   "source": [
    "X = torch.FloatTensor([[0,0],[0,1],[1,0],[1,1]]).to(device)\n",
    "Y = torch.FloatTensor([[0],[1],[1],[1]]).to(device)"
   ]
  },
  {
   "cell_type": "code",
   "execution_count": 12,
   "id": "a8ad658f",
   "metadata": {},
   "outputs": [],
   "source": [
    "linear = torch.nn.Linear(2,1, bias=True)\n",
    "sigmoid = torch.nn.Sigmoid()"
   ]
  },
  {
   "cell_type": "code",
   "execution_count": 13,
   "id": "5d1c834a",
   "metadata": {},
   "outputs": [],
   "source": [
    "model = torch.nn.Sequential(linear, sigmoid).to(device)"
   ]
  },
  {
   "cell_type": "code",
   "execution_count": 16,
   "id": "0f1b900e",
   "metadata": {},
   "outputs": [],
   "source": [
    "criterion = torch.nn.BCELoss().to(device)\n",
    "optimizer = torch.optim.SGD(model.parameters(), lr=1)"
   ]
  },
  {
   "cell_type": "code",
   "execution_count": 17,
   "id": "ad669952",
   "metadata": {
    "scrolled": true
   },
   "outputs": [
    {
     "name": "stdout",
     "output_type": "stream",
     "text": [
      "0 0.5374191999435425\n",
      "100 0.09002634882926941\n",
      "200 0.04709795117378235\n",
      "300 0.031525708734989166\n",
      "400 0.023596646264195442\n",
      "500 0.01881965436041355\n",
      "600 0.01563565991818905\n",
      "700 0.013365145772695541\n",
      "800 0.011665990576148033\n",
      "900 0.010347504168748856\n",
      "1000 0.009295000694692135\n",
      "1100 0.00843575969338417\n",
      "1200 0.007721099071204662\n",
      "1300 0.007117511238902807\n",
      "1400 0.0066010188311338425\n",
      "1500 0.006154135800898075\n",
      "1600 0.005763684399425983\n",
      "1700 0.005419618915766478\n",
      "1800 0.005114212166517973\n",
      "1900 0.004841233603656292\n",
      "2000 0.004595791455358267\n",
      "2100 0.0043740239925682545\n",
      "2200 0.004172575660049915\n",
      "2300 0.00398884667083621\n",
      "2400 0.0038205571472644806\n",
      "2500 0.003665834665298462\n",
      "2600 0.0035231562796980143\n",
      "2700 0.0033911194186657667\n",
      "2800 0.0032685936894267797\n",
      "2900 0.0031545856036245823\n",
      "3000 0.003048250451683998\n",
      "3100 0.0029488515574485064\n",
      "3200 0.002855711616575718\n",
      "3300 0.002768303267657757\n",
      "3400 0.0026859967038035393\n",
      "3500 0.0026084596756845713\n",
      "3600 0.0025352865923196077\n",
      "3700 0.002466101897880435\n",
      "3800 0.002400575438514352\n",
      "3900 0.002338451100513339\n",
      "4000 0.0022794294636696577\n",
      "4100 0.002223329385742545\n",
      "4200 0.0021698966156691313\n",
      "4300 0.0021189951803535223\n",
      "4400 0.002070370828732848\n",
      "4500 0.0020239781588315964\n",
      "4600 0.001979576889425516\n",
      "4700 0.0019371071830391884\n",
      "4800 0.0018964192131534219\n",
      "4900 0.0018573931884020567\n",
      "5000 0.0018199535552412271\n",
      "5100 0.0017839808715507388\n",
      "5200 0.0017493703635409474\n",
      "5300 0.001716121332719922\n",
      "5400 0.001684099668636918\n",
      "5500 0.0016532448353245854\n",
      "5600 0.0016234972281381488\n",
      "5700 0.001594797009602189\n",
      "5800 0.0015670990105718374\n",
      "5900 0.0015403581783175468\n",
      "6000 0.0015145295765250921\n",
      "6100 0.0014894792111590505\n",
      "6200 0.0014653110411018133\n",
      "6300 0.0014418456703424454\n",
      "6400 0.001419172971509397\n",
      "6500 0.0013971879379823804\n",
      "6600 0.0013758759014308453\n",
      "6700 0.0013552217278629541\n",
      "6800 0.0013351356610655785\n",
      "6900 0.0013156625209376216\n",
      "7000 0.0012967574875801802\n",
      "7100 0.0012783606071025133\n",
      "7200 0.0012605168158188462\n",
      "7300 0.0012431214563548565\n",
      "7400 0.0012262044474482536\n",
      "7500 0.0012098103761672974\n",
      "7600 0.001193745294585824\n",
      "7700 0.0011781733483076096\n",
      "7800 0.0011629899963736534\n",
      "7900 0.0011481652036309242\n",
      "8000 0.0011337139876559377\n",
      "8100 0.0011196512496098876\n",
      "8200 0.001105902367271483\n",
      "8300 0.0010924822418019176\n",
      "8400 0.0010794504778459668\n",
      "8500 0.001066627912223339\n",
      "8600 0.0010541491210460663\n",
      "8700 0.001042028539814055\n",
      "8800 0.0010301024885848165\n",
      "8900 0.0010184452403336763\n",
      "9000 0.0010070716962218285\n",
      "9100 0.000995937269181013\n",
      "9200 0.0009850567439571023\n",
      "9300 0.0009744152775965631\n",
      "9400 0.0009639978525228798\n",
      "9500 0.0009538044687360525\n",
      "9600 0.0009437754051759839\n",
      "9700 0.0009340150863863528\n",
      "9800 0.000924448948353529\n",
      "9900 0.000915047072339803\n",
      "10000 0.0009058543364517391\n"
     ]
    }
   ],
   "source": [
    "for step in range(10001): \n",
    "    optimizer.zero_grad()\n",
    "    hypothesis = model(X)\n",
    "\n",
    "    # 비용 함수\n",
    "    cost = criterion(hypothesis, Y)\n",
    "    cost.backward()\n",
    "    optimizer.step()\n",
    "\n",
    "    if step % 100 == 0: # 100번째 에포크마다 비용 출력\n",
    "        print(step, cost.item())"
   ]
  },
  {
   "cell_type": "code",
   "execution_count": 18,
   "id": "be92ffba",
   "metadata": {},
   "outputs": [
    {
     "name": "stdout",
     "output_type": "stream",
     "text": [
      "모델의 출력값(Hypothesis):  [[0.00201146]\n",
      " [0.9991955 ]\n",
      " [0.9991955 ]\n",
      " [1.        ]]\n",
      "모델의 예측값(Predicted):  [[0.]\n",
      " [1.]\n",
      " [1.]\n",
      " [1.]]\n",
      "실제값(Y):  [[0.]\n",
      " [1.]\n",
      " [1.]\n",
      " [1.]]\n",
      "정확도(Accuracy):  1.0\n"
     ]
    }
   ],
   "source": [
    "with torch.no_grad():\n",
    "    hypothesis = model(X)\n",
    "    predicted = (hypothesis > 0.5).float()\n",
    "    accuracy = (predicted == Y).float().mean()\n",
    "    print('모델의 출력값(Hypothesis): ', hypothesis.detach().cpu().numpy())\n",
    "    print('모델의 예측값(Predicted): ', predicted.detach().cpu().numpy())\n",
    "    print('실제값(Y): ', Y.cpu().numpy())\n",
    "    print('정확도(Accuracy): ', accuracy.item())"
   ]
  },
  {
   "cell_type": "code",
   "execution_count": 19,
   "id": "2a58d1ba",
   "metadata": {},
   "outputs": [],
   "source": [
    "X = torch.FloatTensor([[0, 0], [0, 1], [1, 0], [1, 1]]).to(device)\n",
    "Y = torch.FloatTensor([[0], [1], [1], [0]]).to(device)"
   ]
  },
  {
   "cell_type": "code",
   "execution_count": 28,
   "id": "b1aa4562",
   "metadata": {},
   "outputs": [],
   "source": [
    "# 히든 레이어 축라\n",
    "model = nn.Sequential(\n",
    "          nn.Linear(2, 10, bias=True), # input_layer = 2, hidden_layer1 = 10\n",
    "          nn.Sigmoid(),\n",
    "          nn.Linear(10, 10, bias=True), # hidden_layer1 = 10, hidden_layer2 = 10\n",
    "          nn.Sigmoid(),\n",
    "          nn.Linear(10, 10, bias=True), # hidden_layer2 = 10, hidden_layer3 = 10\n",
    "          nn.Sigmoid(),\n",
    "          nn.Linear(10, 1, bias=True), # hidden_layer3 = 10, output_layer = 1\n",
    "          nn.Sigmoid()\n",
    "          ).to(device)"
   ]
  },
  {
   "cell_type": "code",
   "execution_count": 32,
   "id": "d09ad1d3",
   "metadata": {},
   "outputs": [],
   "source": [
    "criterion = torch.nn.BCELoss().to(device)\n",
    "optimizer = torch.optim.SGD(model.parameters(), lr=0.1)  # modified learning rate from 0.1 to 1"
   ]
  },
  {
   "cell_type": "code",
   "execution_count": 33,
   "id": "68eb1368",
   "metadata": {
    "scrolled": true
   },
   "outputs": [
    {
     "name": "stdout",
     "output_type": "stream",
     "text": [
      "0 0.0001407220115652308\n",
      "100 0.0001404686481691897\n",
      "200 0.00014014079351909459\n",
      "300 0.00013987252896185964\n",
      "400 0.0001396042644046247\n",
      "500 0.0001393509010085836\n",
      "600 0.00013906774984207004\n",
      "700 0.0001387994852848351\n",
      "800 0.000138546121888794\n",
      "900 0.00013829277304466814\n",
      "1000 0.00013803940964862704\n",
      "1100 0.00013775625848211348\n",
      "1200 0.00013750289508607239\n",
      "1300 0.0001372495316900313\n",
      "1400 0.00013698128168471158\n",
      "1500 0.00013672791828867048\n",
      "1600 0.00013648947060573846\n",
      "1700 0.00013623610720969737\n",
      "1800 0.0001359827583655715\n",
      "1900 0.00013571450836025178\n",
      "2000 0.0001354462292511016\n",
      "2100 0.00013519288040697575\n",
      "2200 0.00013495443272404373\n",
      "2300 0.00013470108387991786\n",
      "2400 0.0001344626216450706\n",
      "2500 0.00013420925824902952\n",
      "2600 0.0001339708105660975\n",
      "2700 0.00013371746172197163\n",
      "2800 0.0001334790140390396\n",
      "2900 0.00013322565064299852\n",
      "3000 0.0001329872029600665\n",
      "3100 0.0001327338395640254\n",
      "3200 0.00013251029304228723\n",
      "3300 0.0001322718453593552\n",
      "3400 0.0001320035953540355\n",
      "3500 0.00013175024650990963\n",
      "3600 0.00013152668543625623\n",
      "3700 0.0001312882377533242\n",
      "3800 0.0001310497900703922\n",
      "3900 0.00013081132783554494\n",
      "4000 0.00013058778131380677\n",
      "4100 0.00013034933363087475\n",
      "4200 0.00013011088594794273\n",
      "4300 0.00012987243826501071\n",
      "4400 0.00012963397603016347\n",
      "4500 0.0001293806271860376\n",
      "4600 0.0001292017986997962\n",
      "4700 0.00012896333646494895\n",
      "4800 0.00012873978994321078\n",
      "4900 0.00012850134226027876\n",
      "5000 0.00012826288002543151\n",
      "5100 0.00012802444689441472\n",
      "5200 0.0001278158015338704\n",
      "5300 0.00012757733929902315\n",
      "5400 0.00012732399045489728\n",
      "5500 0.0001271004439331591\n",
      "5600 0.00012692160089500248\n",
      "5700 0.00012668315321207047\n",
      "5800 0.00012644470552913845\n",
      "5900 0.00012620625784620643\n",
      "6000 0.00012601251364685595\n",
      "6100 0.00012577406596392393\n",
      "6200 0.0001255654206033796\n",
      "6300 0.00012537169095594436\n",
      "6400 0.00012514812988229096\n",
      "6500 0.00012490968219935894\n",
      "6600 0.00012473085371311754\n",
      "6700 0.00012450729263946414\n",
      "6800 0.00012426884495653212\n",
      "6900 0.00012407510075718164\n",
      "7000 0.0001238515687873587\n",
      "7100 0.00012364292342681438\n",
      "7200 0.00012343427806627005\n",
      "7300 0.00012322564725764096\n",
      "7400 0.00012301700189709663\n",
      "7500 0.00012282325769774616\n",
      "7600 0.00012258481001481414\n",
      "7700 0.00012239106581546366\n",
      "7800 0.00012219732161611319\n",
      "7900 0.00012195887393318117\n",
      "8000 0.00012178003089502454\n",
      "8100 0.00012157139281043783\n",
      "8200 0.00012134785356465727\n",
      "8300 0.00012115411664126441\n",
      "8400 0.00012094546400476247\n",
      "8500 0.00012076663551852107\n",
      "8600 0.00012052818055963144\n",
      "8700 0.00012034934479743242\n",
      "8800 0.0001201406994368881\n",
      "8900 0.00011993206135230139\n",
      "9000 0.00011975322559010237\n",
      "9100 0.00011954458022955805\n",
      "9200 0.00011930613254662603\n",
      "9300 0.00011915710638277233\n",
      "9400 0.00011891865869984031\n",
      "9500 0.00011876962526002899\n",
      "9600 0.00011853118485305458\n",
      "9700 0.00011835234181489795\n",
      "9800 0.00011817350605269894\n",
      "9900 0.0001179350510938093\n",
      "10000 0.0001177562226075679\n"
     ]
    }
   ],
   "source": [
    "for epoch in range(10001):\n",
    "    optimizer.zero_grad()\n",
    "    # forward 연산\n",
    "    hypothesis = model(X)\n",
    "\n",
    "    # 비용 함수\n",
    "    cost = criterion(hypothesis, Y)\n",
    "    cost.backward()\n",
    "    optimizer.step()\n",
    "\n",
    "    # 100의 배수에 해당되는 에포크마다 비용을 출력\n",
    "    if epoch % 100 == 0:\n",
    "        print(epoch, cost.item())"
   ]
  },
  {
   "cell_type": "code",
   "execution_count": 34,
   "id": "cd4dde7f",
   "metadata": {},
   "outputs": [
    {
     "name": "stdout",
     "output_type": "stream",
     "text": [
      "모델의 출력값(Hypothesis):  [[8.7724649e-05]\n",
      " [9.9988401e-01]\n",
      " [9.9988973e-01]\n",
      " [1.5699732e-04]]\n",
      "모델의 예측값(Predicted):  [[0.]\n",
      " [1.]\n",
      " [1.]\n",
      " [0.]]\n",
      "실제값(Y):  [[0.]\n",
      " [1.]\n",
      " [1.]\n",
      " [0.]]\n",
      "정확도(Accuracy):  1.0\n"
     ]
    }
   ],
   "source": [
    "with torch.no_grad():\n",
    "    hypothesis = model(X)\n",
    "    predicted = (hypothesis > 0.5).float()\n",
    "    accuracy = (predicted == Y).float().mean()\n",
    "    print('모델의 출력값(Hypothesis): ', hypothesis.detach().cpu().numpy())\n",
    "    print('모델의 예측값(Predicted): ', predicted.detach().cpu().numpy())\n",
    "    print('실제값(Y): ', Y.cpu().numpy())\n",
    "    print('정확도(Accuracy): ', accuracy.item())"
   ]
  },
  {
   "cell_type": "code",
   "execution_count": 35,
   "id": "4467299d",
   "metadata": {},
   "outputs": [],
   "source": [
    "###"
   ]
  },
  {
   "cell_type": "code",
   "execution_count": 36,
   "id": "6ab0eb23",
   "metadata": {},
   "outputs": [],
   "source": [
    "# parameters\n",
    "learning_rate = 0.5\n",
    "batch_size = 10"
   ]
  },
  {
   "cell_type": "code",
   "execution_count": 38,
   "id": "e8383db5",
   "metadata": {},
   "outputs": [],
   "source": [
    "# MNIST dataset\n",
    "mnist_train = dsets.MNIST(root='MNIST_data/',\n",
    "                          train=True,\n",
    "                          transform=transforms.ToTensor(),\n",
    "                          download=True)\n",
    "\n",
    "mnist_test = dsets.MNIST(root='MNIST_data/',\n",
    "                         train=False,\n",
    "                         transform=transforms.ToTensor(),\n",
    "                         download=True)"
   ]
  },
  {
   "cell_type": "code",
   "execution_count": 39,
   "id": "a0cb33ac",
   "metadata": {},
   "outputs": [],
   "source": [
    "# dataset loader\n",
    "data_loader = torch.utils.data.DataLoader(dataset=mnist_train,\n",
    "                                          batch_size=batch_size,\n",
    "                                          shuffle=True,\n",
    "                                          drop_last=True)"
   ]
  },
  {
   "cell_type": "code",
   "execution_count": 40,
   "id": "fe046fee",
   "metadata": {},
   "outputs": [],
   "source": [
    "w1 = torch.nn.Parameter(torch.Tensor(784, 30)).to(device)\n",
    "b1 = torch.nn.Parameter(torch.Tensor(30)).to(device)\n",
    "w2 = torch.nn.Parameter(torch.Tensor(30, 10)).to(device)\n",
    "b2 = torch.nn.Parameter(torch.Tensor(10)).to(device)"
   ]
  },
  {
   "cell_type": "code",
   "execution_count": 41,
   "id": "8d3b9969",
   "metadata": {},
   "outputs": [
    {
     "data": {
      "text/plain": [
       "tensor([ 0.1009, -0.2272, -0.1022, -0.9369,  0.6552, -0.8914,  0.1989,  0.7264,\n",
       "         0.3932, -0.5963], device='cuda:0', grad_fn=<ToCopyBackward0>)"
      ]
     },
     "execution_count": 41,
     "metadata": {},
     "output_type": "execute_result"
    }
   ],
   "source": [
    "torch.nn.init.normal_(w1)\n",
    "torch.nn.init.normal_(b1)\n",
    "torch.nn.init.normal_(w2)\n",
    "torch.nn.init.normal_(b2)"
   ]
  },
  {
   "cell_type": "code",
   "execution_count": 42,
   "id": "bc8a7637",
   "metadata": {},
   "outputs": [],
   "source": [
    "def sigmoid(x):\n",
    "    #  sigmoid function\n",
    "    return 1.0 / (1.0 + torch.exp(-x))\n",
    "    # return torch.div(torch.tensor(1), torch.add(torch.tensor(1.0), torch.exp(-x)))"
   ]
  },
  {
   "cell_type": "code",
   "execution_count": 43,
   "id": "7be9e6dd",
   "metadata": {},
   "outputs": [],
   "source": [
    "def sigmoid_prime(x):\n",
    "    # derivative of the sigmoid function\n",
    "    return sigmoid(x) * (1 - sigmoid(x))"
   ]
  },
  {
   "cell_type": "code",
   "execution_count": 44,
   "id": "37dc8b22",
   "metadata": {},
   "outputs": [
    {
     "name": "stderr",
     "output_type": "stream",
     "text": [
      "C:\\Users\\wjsrn\\anaconda3\\envs\\py39t116\\lib\\site-packages\\torchvision\\datasets\\mnist.py:80: UserWarning: test_data has been renamed data\n",
      "  warnings.warn(\"test_data has been renamed data\")\n",
      "C:\\Users\\wjsrn\\anaconda3\\envs\\py39t116\\lib\\site-packages\\torchvision\\datasets\\mnist.py:70: UserWarning: test_labels has been renamed targets\n",
      "  warnings.warn(\"test_labels has been renamed targets\")\n"
     ]
    },
    {
     "name": "stdout",
     "output_type": "stream",
     "text": [
      "792\n",
      "843\n",
      "863\n",
      "881\n",
      "880\n",
      "890\n",
      "898\n",
      "913\n",
      "896\n",
      "904\n"
     ]
    }
   ],
   "source": [
    "X_test = mnist_test.test_data.view(-1, 28 * 28).float().to(device)[:1000]\n",
    "Y_test = mnist_test.test_labels.to(device)[:1000]\n",
    "i = 0\n",
    "while not i == 10000:\n",
    "    for X, Y in data_loader:\n",
    "        i += 1\n",
    "\n",
    "        # forward\n",
    "        X = X.view(-1, 28 * 28).to(device)\n",
    "        Y = torch.zeros((batch_size, 10)).scatter_(1, Y.unsqueeze(1), 1).to(device)    # one-hot\n",
    "        l1 = torch.add(torch.matmul(X, w1), b1)\n",
    "        a1 = sigmoid(l1)\n",
    "        l2 = torch.add(torch.matmul(a1, w2), b2)\n",
    "        y_pred = sigmoid(l2)\n",
    "\n",
    "        diff = y_pred - Y\n",
    "\n",
    "        # Back prop (chain rule)\n",
    "        d_l2 = diff * sigmoid_prime(l2)\n",
    "        d_b2 = d_l2\n",
    "        d_w2 = torch.matmul(torch.transpose(a1, 0, 1), d_l2)\n",
    "\n",
    "        d_a1 = torch.matmul(d_l2, torch.transpose(w2, 0, 1))\n",
    "        d_l1 = d_a1 * sigmoid_prime(l1)\n",
    "        d_b1 = d_l1\n",
    "        d_w1 = torch.matmul(torch.transpose(X, 0, 1), d_l1)\n",
    "\n",
    "        w1 = w1 - learning_rate * d_w1\n",
    "        b1 = b1 - learning_rate * torch.mean(d_b1, 0)\n",
    "        w2 = w2 - learning_rate * d_w2\n",
    "        b2 = b2 - learning_rate * torch.mean(d_b2, 0)\n",
    "\n",
    "        if i % 1000 == 0:\n",
    "            l1 = torch.add(torch.matmul(X_test, w1), b1)\n",
    "            a1 = sigmoid(l1)\n",
    "            l2 = torch.add(torch.matmul(a1, w2), b2)\n",
    "            y_pred = sigmoid(l2)\n",
    "            acct_mat = torch.argmax(y_pred, 1) == Y_test\n",
    "            acct_res = acct_mat.sum()\n",
    "            print(acct_res.item())\n",
    "\n",
    "        if i == 10000:\n",
    "            break"
   ]
  },
  {
   "cell_type": "code",
   "execution_count": 45,
   "id": "242a617d",
   "metadata": {},
   "outputs": [
    {
     "name": "stderr",
     "output_type": "stream",
     "text": [
      "UsageError: Line magic function `%` not found.\n"
     ]
    }
   ],
   "source": [
    "import numpy as np\n",
    "import matplotlib.pyplot as plt\n",
    "% matplotlib inline\n",
    "from sklearn.datasets import fetch_openml"
   ]
  },
  {
   "cell_type": "code",
   "execution_count": 46,
   "id": "09ef2582",
   "metadata": {},
   "outputs": [],
   "source": [
    "# MNIST dataset\n",
    "mnist_train = dsets.MNIST(root='MNIST_data/',\n",
    "                          train=True,\n",
    "                          transform=transforms.ToTensor(),\n",
    "                          download=True)\n",
    "\n",
    "mnist_test = dsets.MNIST(root='MNIST_data/',\n",
    "                         train=False,\n",
    "                         transform=transforms.ToTensor(),\n",
    "                         download=True)"
   ]
  },
  {
   "cell_type": "code",
   "execution_count": 47,
   "id": "f8719521",
   "metadata": {},
   "outputs": [],
   "source": [
    "# dataset loader\n",
    "data_loader = torch.utils.data.DataLoader(dataset=mnist_train,\n",
    "                                          batch_size=batch_size,\n",
    "                                          shuffle=True,\n",
    "                                          drop_last=True)"
   ]
  },
  {
   "cell_type": "code",
   "execution_count": 48,
   "id": "b4e40196",
   "metadata": {},
   "outputs": [
    {
     "name": "stdout",
     "output_type": "stream",
     "text": [
      "Sequential(\n",
      "  (fc1): Linear(in_features=784, out_features=100, bias=True)\n",
      "  (relu1): ReLU()\n",
      "  (fc2): Linear(in_features=100, out_features=100, bias=True)\n",
      "  (relu2): ReLU()\n",
      "  (fc3): Linear(in_features=100, out_features=10, bias=True)\n",
      ")\n"
     ]
    }
   ],
   "source": [
    "model = nn.Sequential()\n",
    "model.add_module('fc1', nn.Linear(28*28*1, 100))\n",
    "model.add_module('relu1', nn.ReLU())\n",
    "model.add_module('fc2', nn.Linear(100, 100))\n",
    "model.add_module('relu2', nn.ReLU())\n",
    "model.add_module('fc3', nn.Linear(100, 10))\n",
    "\n",
    "print(model)"
   ]
  },
  {
   "cell_type": "code",
   "execution_count": 50,
   "id": "1b8b8216",
   "metadata": {},
   "outputs": [],
   "source": [
    "# 오차함수 선택\n",
    "loss_fn = nn.CrossEntropyLoss()\n",
    "\n",
    "# 가중치를 학습하기 위한 최적화 기법 선택\n",
    "optimizer = torch.optim.Adam(model.parameters(), lr=0.01)"
   ]
  },
  {
   "cell_type": "code",
   "execution_count": 51,
   "id": "0ca757c4",
   "metadata": {},
   "outputs": [],
   "source": [
    "def train(epoch):\n",
    "    model.train()  # 신경망을 학습 모드로 전환\n",
    "\n",
    "    # 데이터로더에서 미니배치를 하나씩 꺼내 학습을 수행\n",
    "    for data, targets in loader_train:\n",
    "\n",
    "        optimizer.zero_grad()  # 경사를 0으로 초기화\n",
    "        outputs = model(data)  # 데이터를 입력하고 출력을 계산\n",
    "        loss = loss_fn(outputs, targets)  # 출력과 훈련 데이터 정답 간의 오차를 계산\n",
    "        loss.backward()  # 오차를 역전파 계산\n",
    "        optimizer.step()  # 역전파 계산한 값으로 가중치를 수정\n",
    "\n",
    "    print(\"epoch{}：완료\\n\".format(epoch))"
   ]
  },
  {
   "cell_type": "code",
   "execution_count": 52,
   "id": "2239f189",
   "metadata": {},
   "outputs": [],
   "source": [
    "def test():\n",
    "    model.eval()  # 신경망을 추론 모드로 전환\n",
    "    correct = 0\n",
    "\n",
    "    # 데이터로더에서 미니배치를 하나씩 꺼내 추론을 수행\n",
    "    with torch.no_grad():  # 추론 과정에는 미분이 필요없음\n",
    "        for data, targets in loader_test:\n",
    "\n",
    "            outputs = model(data)  # 데이터를 입력하고 출력을 계산\n",
    "\n",
    "            # 추론 계산\n",
    "            _, predicted = torch.max(outputs.data, 1)  # 확률이 가장 높은 레이블이 무엇인지 계산\n",
    "            correct += predicted.eq(targets.data.view_as(predicted)).sum()  # 정답과 일치한 경우 정답 카운트를 증가\n",
    "\n",
    "    # 정확도 출력\n",
    "    data_num = len(loader_test.dataset)  # 데이터 총 건수\n",
    "    print('\\n테스트 데이터에서 예측 정확도: {}/{} ({:.0f}%)\\n'.format(correct,\n",
    "                                                   data_num, 100. * correct / data_num))"
   ]
  },
  {
   "cell_type": "code",
   "execution_count": 53,
   "id": "337370e2",
   "metadata": {},
   "outputs": [
    {
     "ename": "NameError",
     "evalue": "name 'loader_test' is not defined",
     "output_type": "error",
     "traceback": [
      "\u001b[1;31m---------------------------------------------------------------------------\u001b[0m",
      "\u001b[1;31mNameError\u001b[0m                                 Traceback (most recent call last)",
      "Input \u001b[1;32mIn [53]\u001b[0m, in \u001b[0;36m<cell line: 1>\u001b[1;34m()\u001b[0m\n\u001b[1;32m----> 1\u001b[0m \u001b[43mtest\u001b[49m\u001b[43m(\u001b[49m\u001b[43m)\u001b[49m\n",
      "Input \u001b[1;32mIn [52]\u001b[0m, in \u001b[0;36mtest\u001b[1;34m()\u001b[0m\n\u001b[0;32m      5\u001b[0m \u001b[38;5;66;03m# 데이터로더에서 미니배치를 하나씩 꺼내 추론을 수행\u001b[39;00m\n\u001b[0;32m      6\u001b[0m \u001b[38;5;28;01mwith\u001b[39;00m torch\u001b[38;5;241m.\u001b[39mno_grad():  \u001b[38;5;66;03m# 추론 과정에는 미분이 필요없음\u001b[39;00m\n\u001b[1;32m----> 7\u001b[0m     \u001b[38;5;28;01mfor\u001b[39;00m data, targets \u001b[38;5;129;01min\u001b[39;00m \u001b[43mloader_test\u001b[49m:\n\u001b[0;32m      9\u001b[0m         outputs \u001b[38;5;241m=\u001b[39m model(data)  \u001b[38;5;66;03m# 데이터를 입력하고 출력을 계산\u001b[39;00m\n\u001b[0;32m     11\u001b[0m         \u001b[38;5;66;03m# 추론 계산\u001b[39;00m\n",
      "\u001b[1;31mNameError\u001b[0m: name 'loader_test' is not defined"
     ]
    }
   ],
   "source": [
    "test()"
   ]
  },
  {
   "cell_type": "code",
   "execution_count": null,
   "id": "f7c12698",
   "metadata": {},
   "outputs": [],
   "source": []
  }
 ],
 "metadata": {
  "kernelspec": {
   "display_name": "Python 3 (ipykernel)",
   "language": "python",
   "name": "python3"
  },
  "language_info": {
   "codemirror_mode": {
    "name": "ipython",
    "version": 3
   },
   "file_extension": ".py",
   "mimetype": "text/x-python",
   "name": "python",
   "nbconvert_exporter": "python",
   "pygments_lexer": "ipython3",
   "version": "3.9.12"
  }
 },
 "nbformat": 4,
 "nbformat_minor": 5
}
