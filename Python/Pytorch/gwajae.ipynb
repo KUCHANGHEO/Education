{
 "cells": [
  {
   "cell_type": "code",
   "execution_count": 1,
   "id": "4e57c7d1",
   "metadata": {},
   "outputs": [
    {
     "name": "stderr",
     "output_type": "stream",
     "text": [
      "C:\\Anaconda3\\envs\\py39tf2\\lib\\site-packages\\tqdm\\auto.py:22: TqdmWarning: IProgress not found. Please update jupyter and ipywidgets. See https://ipywidgets.readthedocs.io/en/stable/user_install.html\n",
      "  from .autonotebook import tqdm as notebook_tqdm\n"
     ]
    }
   ],
   "source": [
    "import torch\n",
    "import torch.nn as nn\n",
    "import torch.nn.functional as F\n",
    "import torch.optim as optim\n",
    "from torch.utils.data import TensorDataset # 텐서데이터셋\n",
    "from torch.utils.data import DataLoader # 데이터로더\n",
    "import pandas as pd\n",
    "import numpy as np"
   ]
  },
  {
   "cell_type": "code",
   "execution_count": 2,
   "id": "5bb29351",
   "metadata": {},
   "outputs": [
    {
     "data": {
      "text/plain": [
       "<torch._C.Generator at 0x1969cbcad70>"
      ]
     },
     "execution_count": 2,
     "metadata": {},
     "output_type": "execute_result"
    }
   ],
   "source": [
    "torch.manual_seed(1)"
   ]
  },
  {
   "cell_type": "code",
   "execution_count": 3,
   "id": "6b036791",
   "metadata": {},
   "outputs": [
    {
     "data": {
      "text/html": [
       "<div>\n",
       "<style scoped>\n",
       "    .dataframe tbody tr th:only-of-type {\n",
       "        vertical-align: middle;\n",
       "    }\n",
       "\n",
       "    .dataframe tbody tr th {\n",
       "        vertical-align: top;\n",
       "    }\n",
       "\n",
       "    .dataframe thead th {\n",
       "        text-align: right;\n",
       "    }\n",
       "</style>\n",
       "<table border=\"1\" class=\"dataframe\">\n",
       "  <thead>\n",
       "    <tr style=\"text-align: right;\">\n",
       "      <th></th>\n",
       "      <th>admit</th>\n",
       "      <th>gre</th>\n",
       "      <th>gpa</th>\n",
       "      <th>rank</th>\n",
       "    </tr>\n",
       "  </thead>\n",
       "  <tbody>\n",
       "    <tr>\n",
       "      <th>0</th>\n",
       "      <td>0</td>\n",
       "      <td>380.0</td>\n",
       "      <td>3.21</td>\n",
       "      <td>3</td>\n",
       "    </tr>\n",
       "    <tr>\n",
       "      <th>1</th>\n",
       "      <td>1</td>\n",
       "      <td>660.0</td>\n",
       "      <td>3.67</td>\n",
       "      <td>3</td>\n",
       "    </tr>\n",
       "    <tr>\n",
       "      <th>2</th>\n",
       "      <td>1</td>\n",
       "      <td>800.0</td>\n",
       "      <td>4.00</td>\n",
       "      <td>1</td>\n",
       "    </tr>\n",
       "    <tr>\n",
       "      <th>3</th>\n",
       "      <td>1</td>\n",
       "      <td>640.0</td>\n",
       "      <td>3.19</td>\n",
       "      <td>4</td>\n",
       "    </tr>\n",
       "    <tr>\n",
       "      <th>4</th>\n",
       "      <td>0</td>\n",
       "      <td>520.0</td>\n",
       "      <td>2.33</td>\n",
       "      <td>4</td>\n",
       "    </tr>\n",
       "    <tr>\n",
       "      <th>...</th>\n",
       "      <td>...</td>\n",
       "      <td>...</td>\n",
       "      <td>...</td>\n",
       "      <td>...</td>\n",
       "    </tr>\n",
       "    <tr>\n",
       "      <th>421</th>\n",
       "      <td>1</td>\n",
       "      <td>750.0</td>\n",
       "      <td>3.44</td>\n",
       "      <td>4</td>\n",
       "    </tr>\n",
       "    <tr>\n",
       "      <th>422</th>\n",
       "      <td>1</td>\n",
       "      <td>710.0</td>\n",
       "      <td>3.66</td>\n",
       "      <td>4</td>\n",
       "    </tr>\n",
       "    <tr>\n",
       "      <th>423</th>\n",
       "      <td>0</td>\n",
       "      <td>450.0</td>\n",
       "      <td>3.25</td>\n",
       "      <td>4</td>\n",
       "    </tr>\n",
       "    <tr>\n",
       "      <th>424</th>\n",
       "      <td>1</td>\n",
       "      <td>760.0</td>\n",
       "      <td>3.76</td>\n",
       "      <td>2</td>\n",
       "    </tr>\n",
       "    <tr>\n",
       "      <th>425</th>\n",
       "      <td>1</td>\n",
       "      <td>710.0</td>\n",
       "      <td>3.82</td>\n",
       "      <td>3</td>\n",
       "    </tr>\n",
       "  </tbody>\n",
       "</table>\n",
       "<p>426 rows × 4 columns</p>\n",
       "</div>"
      ],
      "text/plain": [
       "     admit    gre   gpa  rank\n",
       "0        0  380.0  3.21     3\n",
       "1        1  660.0  3.67     3\n",
       "2        1  800.0  4.00     1\n",
       "3        1  640.0  3.19     4\n",
       "4        0  520.0  2.33     4\n",
       "..     ...    ...   ...   ...\n",
       "421      1  750.0  3.44     4\n",
       "422      1  710.0  3.66     4\n",
       "423      0  450.0  3.25     4\n",
       "424      1  760.0  3.76     2\n",
       "425      1  710.0  3.82     3\n",
       "\n",
       "[426 rows x 4 columns]"
      ]
     },
     "execution_count": 3,
     "metadata": {},
     "output_type": "execute_result"
    }
   ],
   "source": [
    "df = pd.read_csv('gpascore.csv')\n",
    "df"
   ]
  },
  {
   "cell_type": "code",
   "execution_count": 4,
   "id": "aa866691",
   "metadata": {},
   "outputs": [
    {
     "data": {
      "text/plain": [
       "admit    1.00\n",
       "gre       NaN\n",
       "gpa      3.81\n",
       "rank     1.00\n",
       "Name: 19, dtype: float64"
      ]
     },
     "execution_count": 4,
     "metadata": {},
     "output_type": "execute_result"
    }
   ],
   "source": [
    "df.iloc[19,:]"
   ]
  },
  {
   "cell_type": "code",
   "execution_count": 5,
   "id": "72e8dcab",
   "metadata": {},
   "outputs": [],
   "source": [
    "df.drop(19, inplace=True)"
   ]
  },
  {
   "cell_type": "code",
   "execution_count": 6,
   "id": "bb26bc25",
   "metadata": {},
   "outputs": [
    {
     "data": {
      "text/plain": [
       "admit      0.00\n",
       "gre      500.00\n",
       "gpa        3.17\n",
       "rank       3.00\n",
       "Name: 20, dtype: float64"
      ]
     },
     "execution_count": 6,
     "metadata": {},
     "output_type": "execute_result"
    }
   ],
   "source": [
    "df.iloc[19,:]"
   ]
  },
  {
   "cell_type": "code",
   "execution_count": 7,
   "id": "b590acdb",
   "metadata": {},
   "outputs": [],
   "source": [
    "from sklearn.preprocessing import MinMaxScaler"
   ]
  },
  {
   "cell_type": "code",
   "execution_count": 8,
   "id": "913e8215",
   "metadata": {},
   "outputs": [],
   "source": [
    "scaler = MinMaxScaler()"
   ]
  },
  {
   "cell_type": "code",
   "execution_count": 9,
   "id": "f3af079f",
   "metadata": {},
   "outputs": [
    {
     "data": {
      "text/plain": [
       "MinMaxScaler()"
      ]
     },
     "execution_count": 9,
     "metadata": {},
     "output_type": "execute_result"
    }
   ],
   "source": [
    "scaler.fit(df)"
   ]
  },
  {
   "cell_type": "code",
   "execution_count": 10,
   "id": "82eb3deb",
   "metadata": {},
   "outputs": [],
   "source": [
    "df_scaled = scaler.transform(df)"
   ]
  },
  {
   "cell_type": "code",
   "execution_count": 11,
   "id": "bf3280f4",
   "metadata": {},
   "outputs": [
    {
     "data": {
      "text/plain": [
       "array([[0.        , 0.27586207, 0.57978723, 0.66666667],\n",
       "       [1.        , 0.75862069, 0.82446809, 0.66666667],\n",
       "       [1.        , 1.        , 1.        , 0.        ],\n",
       "       ...,\n",
       "       [0.        , 0.39655172, 0.60106383, 1.        ],\n",
       "       [1.        , 0.93103448, 0.87234043, 0.33333333],\n",
       "       [1.        , 0.84482759, 0.90425532, 0.66666667]])"
      ]
     },
     "execution_count": 11,
     "metadata": {},
     "output_type": "execute_result"
    }
   ],
   "source": [
    "df_scaled"
   ]
  },
  {
   "cell_type": "code",
   "execution_count": 12,
   "id": "357cab0a",
   "metadata": {},
   "outputs": [],
   "source": [
    "x_train = np.array(df.iloc[:,1:4])\n",
    "y_train = np.array(df.iloc[:,0])"
   ]
  },
  {
   "cell_type": "code",
   "execution_count": 13,
   "id": "daad15f7",
   "metadata": {
    "scrolled": false
   },
   "outputs": [
    {
     "name": "stdout",
     "output_type": "stream",
     "text": [
      "torch.Size([425, 3])\n",
      "torch.Size([425, 1])\n"
     ]
    }
   ],
   "source": [
    "x_train = torch.FloatTensor(x_train)\n",
    "y_train = torch.FloatTensor(y_train)\n",
    "y_train = y_train.reshape(425,1)\n",
    "print(x_train.shape)\n",
    "print(y_train.shape)"
   ]
  },
  {
   "cell_type": "code",
   "execution_count": 41,
   "id": "d79412fd",
   "metadata": {},
   "outputs": [],
   "source": [
    "# 모델 초기화\n",
    "W = torch.zeros((3, 1), requires_grad=True)\n",
    "b = torch.zeros(1, requires_grad=True)"
   ]
  },
  {
   "cell_type": "code",
   "execution_count": 42,
   "id": "fc7d4f2d",
   "metadata": {},
   "outputs": [],
   "source": [
    "# optimizer 설정\n",
    "optimizer = optim.Adam([W, b], lr=0.01)"
   ]
  },
  {
   "cell_type": "code",
   "execution_count": 48,
   "id": "a1b6af19",
   "metadata": {
    "scrolled": true
   },
   "outputs": [
    {
     "name": "stdout",
     "output_type": "stream",
     "text": [
      "Epoch    0/5000 Cost: 0.152397\n",
      "Epoch  100/5000 Cost: 0.151441\n",
      "Epoch  200/5000 Cost: 0.151329\n",
      "Epoch  300/5000 Cost: 0.151227\n",
      "Epoch  400/5000 Cost: 0.151122\n",
      "Epoch  500/5000 Cost: 0.151015\n",
      "Epoch  600/5000 Cost: 0.150907\n",
      "Epoch  700/5000 Cost: 0.150796\n",
      "Epoch  800/5000 Cost: 0.150684\n",
      "Epoch  900/5000 Cost: 0.150569\n",
      "Epoch 1000/5000 Cost: 0.150453\n",
      "Epoch 1100/5000 Cost: 0.150335\n",
      "Epoch 1200/5000 Cost: 0.150215\n",
      "Epoch 1300/5000 Cost: 0.150094\n",
      "Epoch 1400/5000 Cost: 0.149972\n",
      "Epoch 1500/5000 Cost: 0.149848\n",
      "Epoch 1600/5000 Cost: 0.149724\n",
      "Epoch 1700/5000 Cost: 0.149599\n",
      "Epoch 1800/5000 Cost: 0.149779\n",
      "Epoch 1900/5000 Cost: 0.149838\n",
      "Epoch 2000/5000 Cost: 0.150075\n",
      "Epoch 2100/5000 Cost: 0.152882\n",
      "Epoch 2200/5000 Cost: 0.149997\n",
      "Epoch 2300/5000 Cost: 0.149295\n",
      "Epoch 2400/5000 Cost: 0.150736\n",
      "Epoch 2500/5000 Cost: 0.148804\n",
      "Epoch 2600/5000 Cost: 0.148623\n",
      "Epoch 2700/5000 Cost: 0.148525\n",
      "Epoch 2800/5000 Cost: 0.148744\n",
      "Epoch 2900/5000 Cost: 0.149602\n",
      "Epoch 3000/5000 Cost: 0.148295\n",
      "Epoch 3100/5000 Cost: 0.152185\n",
      "Epoch 3200/5000 Cost: 0.149782\n",
      "Epoch 3300/5000 Cost: 0.148088\n",
      "Epoch 3400/5000 Cost: 0.149176\n",
      "Epoch 3500/5000 Cost: 0.148589\n",
      "Epoch 3600/5000 Cost: 0.147831\n",
      "Epoch 3700/5000 Cost: 0.149030\n",
      "Epoch 3800/5000 Cost: 0.148474\n",
      "Epoch 3900/5000 Cost: 0.148518\n",
      "Epoch 4000/5000 Cost: 0.147572\n",
      "Epoch 4100/5000 Cost: 0.149370\n",
      "Epoch 4200/5000 Cost: 0.148269\n",
      "Epoch 4300/5000 Cost: 0.148293\n",
      "Epoch 4400/5000 Cost: 0.147422\n",
      "Epoch 4500/5000 Cost: 0.150318\n",
      "Epoch 4600/5000 Cost: 0.147301\n",
      "Epoch 4700/5000 Cost: 0.148287\n",
      "Epoch 4800/5000 Cost: 0.147171\n",
      "Epoch 4900/5000 Cost: 0.147278\n",
      "Epoch 5000/5000 Cost: 0.148687\n"
     ]
    }
   ],
   "source": [
    "nb_epochs = 5000\n",
    "for epoch in range(nb_epochs + 1):\n",
    "\n",
    "    # Cost 계산\n",
    "    hypothesis = torch.sigmoid(x_train.matmul(W) + b)\n",
    "    cost = F.mse_loss(hypothesis, y_train)\n",
    "\n",
    "    # cost로 H(x) 개선\n",
    "    optimizer.zero_grad()\n",
    "    cost.backward()\n",
    "    optimizer.step()\n",
    "\n",
    "    # 100번마다 로그 출력\n",
    "    if epoch % 100 == 0:\n",
    "        print('Epoch {:4d}/{} Cost: {:.6f}'.format(\n",
    "            epoch, nb_epochs, cost.item()\n",
    "        ))"
   ]
  },
  {
   "cell_type": "code",
   "execution_count": 49,
   "id": "960596e1",
   "metadata": {},
   "outputs": [
    {
     "name": "stdout",
     "output_type": "stream",
     "text": [
      "tensor([[0.0671],\n",
      "        [0.7210],\n",
      "        [0.9501],\n",
      "        [0.3361],\n",
      "        [0.0129]], grad_fn=<SliceBackward0>)\n"
     ]
    }
   ],
   "source": [
    "hypothesis = torch.sigmoid(x_train.matmul(W) + b)\n",
    "print(hypothesis[:5])"
   ]
  },
  {
   "cell_type": "code",
   "execution_count": 50,
   "id": "1167a03e",
   "metadata": {},
   "outputs": [
    {
     "name": "stdout",
     "output_type": "stream",
     "text": [
      "tensor([[False],\n",
      "        [ True],\n",
      "        [ True],\n",
      "        [False],\n",
      "        [False]])\n"
     ]
    }
   ],
   "source": [
    "prediction = hypothesis >= torch.FloatTensor([0.5])\n",
    "print(prediction[:5])"
   ]
  },
  {
   "cell_type": "code",
   "execution_count": 51,
   "id": "94a490f0",
   "metadata": {},
   "outputs": [
    {
     "name": "stdout",
     "output_type": "stream",
     "text": [
      "tensor([[ True],\n",
      "        [ True],\n",
      "        [ True],\n",
      "        [False],\n",
      "        [ True]])\n"
     ]
    }
   ],
   "source": [
    "correct_prediction = prediction.float() == y_train\n",
    "print(correct_prediction[:5])"
   ]
  },
  {
   "cell_type": "code",
   "execution_count": 52,
   "id": "18e71cb1",
   "metadata": {},
   "outputs": [
    {
     "name": "stdout",
     "output_type": "stream",
     "text": [
      "The model has an accuracy of 80.71% for the training set.\n"
     ]
    }
   ],
   "source": [
    "accuracy = correct_prediction.sum().item() / len(correct_prediction)\n",
    "print('The model has an accuracy of {:2.2f}% for the training set.'.format(accuracy * 100))"
   ]
  },
  {
   "cell_type": "code",
   "execution_count": null,
   "id": "7914b74a",
   "metadata": {},
   "outputs": [],
   "source": []
  }
 ],
 "metadata": {
  "kernelspec": {
   "display_name": "Python 3 (ipykernel)",
   "language": "python",
   "name": "python3"
  },
  "language_info": {
   "codemirror_mode": {
    "name": "ipython",
    "version": 3
   },
   "file_extension": ".py",
   "mimetype": "text/x-python",
   "name": "python",
   "nbconvert_exporter": "python",
   "pygments_lexer": "ipython3",
   "version": "3.9.12"
  },
  "toc": {
   "base_numbering": 1,
   "nav_menu": {},
   "number_sections": true,
   "sideBar": true,
   "skip_h1_title": false,
   "title_cell": "Table of Contents",
   "title_sidebar": "Contents",
   "toc_cell": false,
   "toc_position": {},
   "toc_section_display": true,
   "toc_window_display": false
  },
  "varInspector": {
   "cols": {
    "lenName": 16,
    "lenType": 16,
    "lenVar": 40
   },
   "kernels_config": {
    "python": {
     "delete_cmd_postfix": "",
     "delete_cmd_prefix": "del ",
     "library": "var_list.py",
     "varRefreshCmd": "print(var_dic_list())"
    },
    "r": {
     "delete_cmd_postfix": ") ",
     "delete_cmd_prefix": "rm(",
     "library": "var_list.r",
     "varRefreshCmd": "cat(var_dic_list()) "
    }
   },
   "types_to_exclude": [
    "module",
    "function",
    "builtin_function_or_method",
    "instance",
    "_Feature"
   ],
   "window_display": false
  }
 },
 "nbformat": 4,
 "nbformat_minor": 5
}
