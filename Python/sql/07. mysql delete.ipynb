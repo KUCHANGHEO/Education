{
 "cells": [
  {
   "cell_type": "code",
   "execution_count": 1,
   "id": "235b6cf9",
   "metadata": {},
   "outputs": [],
   "source": [
    "import pymysql as mysql\n",
    "from python_mysql_dbconfig import read_db_config\n",
    "\n",
    "Error = mysql.Error()\n",
    "\n",
    "\n",
    "\n",
    "def delete_book(book_id):\n",
    "\n",
    "    query = \"DELETE FROM book WHERE bookid = %s\"\n",
    "\n",
    "    try:\n",
    "        # read database configuration\n",
    "        dbconfig = read_db_config()\n",
    "        \n",
    "        # connect to the database server\n",
    "        conn = mysql.Connection(**dbconfig)\n",
    "\n",
    "        # execute the query\n",
    "        cursor = conn.cursor()\n",
    "        cursor.execute(query, book_id)\n",
    "\n",
    "        # accept the change\n",
    "        conn.commit()\n",
    "\n",
    "    except Error as error:\n",
    "        print(error)\n",
    "\n",
    "    finally:\n",
    "        cursor.close()\n",
    "        conn.close()\n",
    "\n",
    "if __name__ == '__main__':\n",
    "    delete_book(11)"
   ]
  },
  {
   "cell_type": "code",
   "execution_count": null,
   "id": "e260afa3",
   "metadata": {},
   "outputs": [],
   "source": []
  }
 ],
 "metadata": {
  "kernelspec": {
   "display_name": "Python 3 (ipykernel)",
   "language": "python",
   "name": "python3"
  },
  "language_info": {
   "codemirror_mode": {
    "name": "ipython",
    "version": 3
   },
   "file_extension": ".py",
   "mimetype": "text/x-python",
   "name": "python",
   "nbconvert_exporter": "python",
   "pygments_lexer": "ipython3",
   "version": "3.8.11"
  },
  "nbTranslate": {
   "displayLangs": [
    "*"
   ],
   "hotkey": "",
   "langInMainMenu": true,
   "sourceLang": "en",
   "targetLang": "fr",
   "useGoogleTranslate": true
  },
  "toc": {
   "base_numbering": 1,
   "nav_menu": {},
   "number_sections": true,
   "sideBar": true,
   "skip_h1_title": false,
   "title_cell": "Table of Contents",
   "title_sidebar": "Contents",
   "toc_cell": false,
   "toc_position": {},
   "toc_section_display": true,
   "toc_window_display": false
  },
  "varInspector": {
   "cols": {
    "lenName": 16,
    "lenType": 16,
    "lenVar": 40
   },
   "kernels_config": {
    "python": {
     "delete_cmd_postfix": "",
     "delete_cmd_prefix": "del ",
     "library": "var_list.py",
     "varRefreshCmd": "print(var_dic_list())"
    },
    "r": {
     "delete_cmd_postfix": ") ",
     "delete_cmd_prefix": "rm(",
     "library": "var_list.r",
     "varRefreshCmd": "cat(var_dic_list()) "
    }
   },
   "types_to_exclude": [
    "module",
    "function",
    "builtin_function_or_method",
    "instance",
    "_Feature"
   ],
   "window_display": false
  }
 },
 "nbformat": 4,
 "nbformat_minor": 5
}
