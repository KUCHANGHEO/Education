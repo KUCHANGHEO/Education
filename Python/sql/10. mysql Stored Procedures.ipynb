{
 "cells": [
  {
   "cell_type": "markdown",
   "id": "4220a3ac",
   "metadata": {},
   "source": [
    "USE python_mysql;\n",
    "\n",
    "DELIMITER $$\n",
    "\n",
    "CREATE PROCEDURE find_all()\n",
    "BEGIN\n",
    "\tSELECT \n",
    "\t\ttitle, \n",
    "\t\tisbn, \n",
    "        CONCAT(first_name,' ',last_name) AS author\n",
    "\tFROM books\n",
    "\tINNER JOIN book_author \n",
    "\t\tON book_author.book_id =  books.id\n",
    "\tINNER JOIN authors\n",
    "\t\tON book_author.author_id = authors.id\n",
    "\tORDER BY title;\n",
    "END$$\n",
    "\n",
    "DELIMITER ;"
   ]
  },
  {
   "cell_type": "markdown",
   "id": "ccd8685c",
   "metadata": {},
   "source": [
    "DELIMITER$$\n",
    " \n",
    "CREATE PROCEDURE find_by_isbn( \n",
    "\tIN p_isbn VARCHAR(13),   \n",
    "     OUT p_title VARCHAR(255)    \n",
    ")   \n",
    "BEGIN   \n",
    " \tSELECT title    \n",
    "    INTO p_title    \n",
    "    FROM books   \n",
    "\tWHERE isbn = p_isbn;   \n",
    "END$$\n",
    "\n",
    "DELIMITER ;"
   ]
  },
  {
   "cell_type": "code",
   "execution_count": 3,
   "id": "a3914854",
   "metadata": {},
   "outputs": [
    {
     "ename": "UnboundLocalError",
     "evalue": "local variable 'cursor' referenced before assignment",
     "output_type": "error",
     "traceback": [
      "\u001b[1;31m---------------------------------------------------------------------------\u001b[0m",
      "\u001b[1;31mNameError\u001b[0m                                 Traceback (most recent call last)",
      "Input \u001b[1;32mIn [3]\u001b[0m, in \u001b[0;36mcall_find_all_sp\u001b[1;34m()\u001b[0m\n\u001b[0;32m     11\u001b[0m dbconfig \u001b[38;5;241m=\u001b[39m read_db_config()\n\u001b[1;32m---> 12\u001b[0m conn \u001b[38;5;241m=\u001b[39m \u001b[43mMySQLConnection\u001b[49m(\u001b[38;5;241m*\u001b[39m\u001b[38;5;241m*\u001b[39mdbconfig)\n\u001b[0;32m     13\u001b[0m cursor \u001b[38;5;241m=\u001b[39m conn\u001b[38;5;241m.\u001b[39mcursor()\n",
      "\u001b[1;31mNameError\u001b[0m: name 'MySQLConnection' is not defined",
      "\nDuring handling of the above exception, another exception occurred:\n",
      "\u001b[1;31mTypeError\u001b[0m                                 Traceback (most recent call last)",
      "Input \u001b[1;32mIn [3]\u001b[0m, in \u001b[0;36mcall_find_all_sp\u001b[1;34m()\u001b[0m\n\u001b[0;32m     19\u001b[0m         \u001b[38;5;28mprint\u001b[39m(result\u001b[38;5;241m.\u001b[39mfetchall())\n\u001b[1;32m---> 21\u001b[0m \u001b[38;5;28;01mexcept\u001b[39;00m Error \u001b[38;5;28;01mas\u001b[39;00m error:\n\u001b[0;32m     22\u001b[0m     \u001b[38;5;28mprint\u001b[39m(error)\n",
      "\u001b[1;31mTypeError\u001b[0m: catching classes that do not inherit from BaseException is not allowed",
      "\nDuring handling of the above exception, another exception occurred:\n",
      "\u001b[1;31mUnboundLocalError\u001b[0m                         Traceback (most recent call last)",
      "Input \u001b[1;32mIn [3]\u001b[0m, in \u001b[0;36m<cell line: 29>\u001b[1;34m()\u001b[0m\n\u001b[0;32m     26\u001b[0m         conn\u001b[38;5;241m.\u001b[39mclose()\n\u001b[0;32m     29\u001b[0m \u001b[38;5;28;01mif\u001b[39;00m \u001b[38;5;18m__name__\u001b[39m \u001b[38;5;241m==\u001b[39m \u001b[38;5;124m'\u001b[39m\u001b[38;5;124m__main__\u001b[39m\u001b[38;5;124m'\u001b[39m:\n\u001b[1;32m---> 30\u001b[0m     \u001b[43mcall_find_all_sp\u001b[49m\u001b[43m(\u001b[49m\u001b[43m)\u001b[49m\n",
      "Input \u001b[1;32mIn [3]\u001b[0m, in \u001b[0;36mcall_find_all_sp\u001b[1;34m()\u001b[0m\n\u001b[0;32m     22\u001b[0m     \u001b[38;5;28mprint\u001b[39m(error)\n\u001b[0;32m     24\u001b[0m \u001b[38;5;28;01mfinally\u001b[39;00m:\n\u001b[1;32m---> 25\u001b[0m     \u001b[43mcursor\u001b[49m\u001b[38;5;241m.\u001b[39mclose()\n\u001b[0;32m     26\u001b[0m     conn\u001b[38;5;241m.\u001b[39mclose()\n",
      "\u001b[1;31mUnboundLocalError\u001b[0m: local variable 'cursor' referenced before assignment"
     ]
    }
   ],
   "source": [
    "import pymysql as mysql\n",
    "from python_mysql_dbconfig import read_db_config\n",
    "\n",
    "Error = mysql.Error()\n",
    "\n",
    "# read database configuration\n",
    "dbconfig = read_db_config()\n",
    "\n",
    "def call_find_all_sp():\n",
    "    try:\n",
    "        dbconfig = read_db_config()\n",
    "        conn = MySQLConnection(**dbconfig)\n",
    "        cursor = conn.cursor()\n",
    "\n",
    "        cursor.callproc('find_all')\n",
    "\n",
    "        # print out the result\n",
    "        for result in cursor.stored_results():\n",
    "            print(result.fetchall())\n",
    "\n",
    "    except Error as error:\n",
    "        print(error)\n",
    "\n",
    "    finally:\n",
    "        cursor.close()\n",
    "        conn.close()\n",
    "\n",
    "\n",
    "if __name__ == '__main__':\n",
    "    call_find_all_sp()"
   ]
  },
  {
   "cell_type": "code",
   "execution_count": 2,
   "id": "8b4e28a6",
   "metadata": {},
   "outputs": [
    {
     "ename": "ModuleNotFoundError",
     "evalue": "No module named 'mysql'",
     "output_type": "error",
     "traceback": [
      "\u001b[1;31m---------------------------------------------------------------------------\u001b[0m",
      "\u001b[1;31mModuleNotFoundError\u001b[0m                       Traceback (most recent call last)",
      "Input \u001b[1;32mIn [2]\u001b[0m, in \u001b[0;36m<cell line: 1>\u001b[1;34m()\u001b[0m\n\u001b[1;32m----> 1\u001b[0m \u001b[38;5;28;01mfrom\u001b[39;00m \u001b[38;5;21;01mmysql\u001b[39;00m\u001b[38;5;21;01m.\u001b[39;00m\u001b[38;5;21;01mconnector\u001b[39;00m \u001b[38;5;28;01mimport\u001b[39;00m MySQLConnection, Error\n\u001b[0;32m      2\u001b[0m \u001b[38;5;28;01mfrom\u001b[39;00m \u001b[38;5;21;01mpython_mysql_dbconfig\u001b[39;00m \u001b[38;5;28;01mimport\u001b[39;00m read_db_config\n\u001b[0;32m      5\u001b[0m \u001b[38;5;28;01mdef\u001b[39;00m \u001b[38;5;21mcall_find_by_isbn\u001b[39m():\n",
      "\u001b[1;31mModuleNotFoundError\u001b[0m: No module named 'mysql'"
     ]
    }
   ],
   "source": [
    "from mysql.connector import MySQLConnection, Error\n",
    "from python_mysql_dbconfig import read_db_config\n",
    "\n",
    "\n",
    "def call_find_by_isbn():\n",
    "    try:\n",
    "        db_config = read_db_config()\n",
    "        conn = MySQLConnection(**db_config)\n",
    "        cursor = conn.cursor()\n",
    "\n",
    "        args = ['1236400967773', 0]\n",
    "        result_args = cursor.callproc('find_by_isbn', args)\n",
    "\n",
    "        print(result_args[1])\n",
    "\n",
    "    except Error as e:\n",
    "        print(e)\n",
    "\n",
    "    finally:\n",
    "        cursor.close()\n",
    "        conn.close()\n",
    "\n",
    "\n",
    "if __name__ == '__main__':\n",
    "    call_find_by_isbn()"
   ]
  },
  {
   "cell_type": "code",
   "execution_count": null,
   "id": "b6e46653",
   "metadata": {},
   "outputs": [],
   "source": []
  }
 ],
 "metadata": {
  "kernelspec": {
   "display_name": "Python 3 (ipykernel)",
   "language": "python",
   "name": "python3"
  },
  "language_info": {
   "codemirror_mode": {
    "name": "ipython",
    "version": 3
   },
   "file_extension": ".py",
   "mimetype": "text/x-python",
   "name": "python",
   "nbconvert_exporter": "python",
   "pygments_lexer": "ipython3",
   "version": "3.9.12"
  },
  "nbTranslate": {
   "displayLangs": [
    "*"
   ],
   "hotkey": "",
   "langInMainMenu": true,
   "sourceLang": "en",
   "targetLang": "fr",
   "useGoogleTranslate": true
  },
  "toc": {
   "base_numbering": 1,
   "nav_menu": {},
   "number_sections": true,
   "sideBar": true,
   "skip_h1_title": false,
   "title_cell": "Table of Contents",
   "title_sidebar": "Contents",
   "toc_cell": false,
   "toc_position": {},
   "toc_section_display": true,
   "toc_window_display": false
  },
  "varInspector": {
   "cols": {
    "lenName": 16,
    "lenType": 16,
    "lenVar": 40
   },
   "kernels_config": {
    "python": {
     "delete_cmd_postfix": "",
     "delete_cmd_prefix": "del ",
     "library": "var_list.py",
     "varRefreshCmd": "print(var_dic_list())"
    },
    "r": {
     "delete_cmd_postfix": ") ",
     "delete_cmd_prefix": "rm(",
     "library": "var_list.r",
     "varRefreshCmd": "cat(var_dic_list()) "
    }
   },
   "types_to_exclude": [
    "module",
    "function",
    "builtin_function_or_method",
    "instance",
    "_Feature"
   ],
   "window_display": false
  }
 },
 "nbformat": 4,
 "nbformat_minor": 5
}
