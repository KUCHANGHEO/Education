{
 "cells": [
  {
   "cell_type": "code",
   "execution_count": 23,
   "id": "0c6e718c",
   "metadata": {},
   "outputs": [],
   "source": [
    "import pymysql as mysql\n",
    "from python_mysql_dbconfig import read_db_config\n",
    "\n",
    "Error = mysql.Error()"
   ]
  },
  {
   "cell_type": "code",
   "execution_count": 26,
   "id": "ca95cede",
   "metadata": {},
   "outputs": [
    {
     "name": "stdout",
     "output_type": "stream",
     "text": [
      "INSERT INTO book(bookid, bookname, publisher, price) VALUES(%s, %s, %s, %s)\n",
      "last insert id not found\n"
     ]
    }
   ],
   "source": [
    "def insert_book(books):\n",
    "    \n",
    "    query = \"INSERT INTO book(bookid, bookname, publisher, price) VALUES(%s, %s, %s, %s)\"\n",
    "    \n",
    "    print(query)\n",
    "    \n",
    "    try:\n",
    "        dbconfig = read_db_config()\n",
    "        conn = mysql.Connection(**dbconfig)\n",
    "\n",
    "        cursor = conn.cursor()\n",
    "        cursor.execute(query, books)\n",
    "\n",
    "        conn.commit()\n",
    "    except Error as error:\n",
    "        print(error)\n",
    "\n",
    "    finally:\n",
    "        cursor.close()\n",
    "        conn.close()\n",
    "\n",
    "def main():\n",
    "    \n",
    "    books = (12, \"파이썬 기초\", \"중앙정보\", 13000)\n",
    "    \n",
    "    insert_book(books)\n",
    "\n",
    "if __name__ == '__main__':\n",
    "    main()"
   ]
  },
  {
   "cell_type": "code",
   "execution_count": null,
   "id": "c53a2fd5",
   "metadata": {},
   "outputs": [],
   "source": []
  },
  {
   "cell_type": "code",
   "execution_count": null,
   "id": "ded5de6a",
   "metadata": {},
   "outputs": [],
   "source": []
  },
  {
   "cell_type": "code",
   "execution_count": null,
   "id": "29d9ee10",
   "metadata": {},
   "outputs": [],
   "source": []
  }
 ],
 "metadata": {
  "kernelspec": {
   "display_name": "Python 3 (ipykernel)",
   "language": "python",
   "name": "python3"
  },
  "language_info": {
   "codemirror_mode": {
    "name": "ipython",
    "version": 3
   },
   "file_extension": ".py",
   "mimetype": "text/x-python",
   "name": "python",
   "nbconvert_exporter": "python",
   "pygments_lexer": "ipython3",
   "version": "3.9.12"
  },
  "nbTranslate": {
   "displayLangs": [
    "*"
   ],
   "hotkey": "",
   "langInMainMenu": true,
   "sourceLang": "en",
   "targetLang": "fr",
   "useGoogleTranslate": true
  },
  "toc": {
   "base_numbering": 1,
   "nav_menu": {},
   "number_sections": true,
   "sideBar": true,
   "skip_h1_title": false,
   "title_cell": "Table of Contents",
   "title_sidebar": "Contents",
   "toc_cell": false,
   "toc_position": {},
   "toc_section_display": true,
   "toc_window_display": false
  },
  "varInspector": {
   "cols": {
    "lenName": 16,
    "lenType": 16,
    "lenVar": 40
   },
   "kernels_config": {
    "python": {
     "delete_cmd_postfix": "",
     "delete_cmd_prefix": "del ",
     "library": "var_list.py",
     "varRefreshCmd": "print(var_dic_list())"
    },
    "r": {
     "delete_cmd_postfix": ") ",
     "delete_cmd_prefix": "rm(",
     "library": "var_list.r",
     "varRefreshCmd": "cat(var_dic_list()) "
    }
   },
   "types_to_exclude": [
    "module",
    "function",
    "builtin_function_or_method",
    "instance",
    "_Feature"
   ],
   "window_display": false
  }
 },
 "nbformat": 4,
 "nbformat_minor": 5
}
