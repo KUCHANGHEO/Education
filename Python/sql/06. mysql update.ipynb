{
 "cells": [
  {
   "cell_type": "code",
   "execution_count": 2,
   "id": "e9606e15",
   "metadata": {},
   "outputs": [],
   "source": [
    "import pymysql as mysql\n",
    "from python_mysql_dbconfig import read_db_config\n",
    "\n",
    "Error = mysql.Error()\n",
    "\n",
    "# read database configuration\n",
    "dbconfig = read_db_config()\n",
    "\n",
    "def update_book( bookid, bookname ):\n",
    "\n",
    "    # prepare query and data\n",
    "    query = \"UPDATE book SET bookname = %s \" \\\n",
    "            \"WHERE bookid = %s\"\n",
    "    \n",
    "    data = ( bookname, bookid )\n",
    "\n",
    "    try:\n",
    "        # connect to the database server\n",
    "        conn = mysql.Connection(**dbconfig)\n",
    "\n",
    "        # establish cursor\n",
    "        cursor = conn.cursor()\n",
    "        \n",
    "        # cursor.execute(query)\n",
    "        cursor.execute(query, data)\n",
    "        \n",
    "        # accept the changes\n",
    "        conn.commit()\n",
    "\n",
    "    except Error as error:\n",
    "        print(error)\n",
    "\n",
    "    finally:\n",
    "        cursor.close()\n",
    "        conn.close()\n",
    "\n",
    "\n",
    "if __name__ == '__main__':\n",
    "    \n",
    "    update_book(12, '파이썬 전문가')"
   ]
  },
  {
   "cell_type": "code",
   "execution_count": null,
   "id": "c53f392d",
   "metadata": {},
   "outputs": [],
   "source": []
  }
 ],
 "metadata": {
  "kernelspec": {
   "display_name": "Python 3 (ipykernel)",
   "language": "python",
   "name": "python3"
  },
  "language_info": {
   "codemirror_mode": {
    "name": "ipython",
    "version": 3
   },
   "file_extension": ".py",
   "mimetype": "text/x-python",
   "name": "python",
   "nbconvert_exporter": "python",
   "pygments_lexer": "ipython3",
   "version": "3.9.12"
  },
  "nbTranslate": {
   "displayLangs": [
    "*"
   ],
   "hotkey": "",
   "langInMainMenu": true,
   "sourceLang": "en",
   "targetLang": "fr",
   "useGoogleTranslate": true
  },
  "toc": {
   "base_numbering": 1,
   "nav_menu": {},
   "number_sections": true,
   "sideBar": true,
   "skip_h1_title": false,
   "title_cell": "Table of Contents",
   "title_sidebar": "Contents",
   "toc_cell": false,
   "toc_position": {},
   "toc_section_display": true,
   "toc_window_display": false
  },
  "varInspector": {
   "cols": {
    "lenName": 16,
    "lenType": 16,
    "lenVar": 40
   },
   "kernels_config": {
    "python": {
     "delete_cmd_postfix": "",
     "delete_cmd_prefix": "del ",
     "library": "var_list.py",
     "varRefreshCmd": "print(var_dic_list())"
    },
    "r": {
     "delete_cmd_postfix": ") ",
     "delete_cmd_prefix": "rm(",
     "library": "var_list.r",
     "varRefreshCmd": "cat(var_dic_list()) "
    }
   },
   "types_to_exclude": [
    "module",
    "function",
    "builtin_function_or_method",
    "instance",
    "_Feature"
   ],
   "window_display": false
  }
 },
 "nbformat": 4,
 "nbformat_minor": 5
}
