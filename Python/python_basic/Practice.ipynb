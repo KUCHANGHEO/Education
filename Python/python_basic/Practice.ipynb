{
 "cells": [
  {
   "cell_type": "code",
   "execution_count": 1,
   "id": "c3cf584a-e856-454f-8fbc-c320e0605511",
   "metadata": {},
   "outputs": [
    {
     "name": "stdout",
     "output_type": "stream",
     "text": [
      "{'dog': '개', 'cat': '고양이', 'fish': '생선', 'bird': '새'}\n"
     ]
    }
   ],
   "source": [
    "dic = {\"dog\":\"개\",\"cat\":\"고양이\",\"fish\":\"생선\"}\n",
    "if \"bird\" in dic.keys():\n",
    "    print(dic)\n",
    "else:\n",
    "    dic['bird'] = \"새\"\n",
    "    print(dic)"
   ]
  },
  {
   "cell_type": "code",
   "execution_count": 2,
   "id": "38d95c96-3a37-4a9f-8381-9234519f5e47",
   "metadata": {},
   "outputs": [
    {
     "name": "stdout",
     "output_type": "stream",
     "text": [
      "[1, 2, 3, 4, 5, 6, 7, 8, 9, 10]\n"
     ]
    }
   ],
   "source": [
    "li = []\n",
    "for i in range(1,11):\n",
    "    li.append(i)\n",
    "print(li)"
   ]
  },
  {
   "cell_type": "code",
   "execution_count": 3,
   "id": "0b7bb06f-52fb-402d-9515-7e3ee82882e6",
   "metadata": {},
   "outputs": [
    {
     "name": "stdout",
     "output_type": "stream",
     "text": [
      "짝수를 입력해 주세요\n"
     ]
    },
    {
     "name": "stdin",
     "output_type": "stream",
     "text": [
      "입력할 수 2\n"
     ]
    },
    {
     "name": "stdout",
     "output_type": "stream",
     "text": [
      "2은(는) 짝수 입니다\n"
     ]
    }
   ],
   "source": [
    "print(\"짝수를 입력해 주세요\")\n",
    "num = int(input(\"입력할 수\"))\n",
    "if num % 2 == 0:\n",
    "    print(f\"{num}은(는) 짝수 입니다\")\n",
    "else:\n",
    "    print(f\"{num}은(는) 짝수가 아닙니다\")"
   ]
  },
  {
   "cell_type": "code",
   "execution_count": 55,
   "id": "904f4f8f-7af0-4140-b078-8c8bb74ba64d",
   "metadata": {},
   "outputs": [
    {
     "name": "stdout",
     "output_type": "stream",
     "text": [
      "2\n",
      "4\n",
      "6\n",
      "8\n",
      "10\n",
      "12\n",
      "14\n",
      "16\n",
      "18\n",
      "20\n"
     ]
    }
   ],
   "source": [
    "num = 0\n",
    "while True:\n",
    "    num = num + 1\n",
    "    if num % 2 != 0:\n",
    "        continue\n",
    "    if num > 20:\n",
    "        break\n",
    "    print(num)"
   ]
  },
  {
   "cell_type": "code",
   "execution_count": 56,
   "id": "e4bd66b0-5ec6-4952-8028-43c7ccaa60bd",
   "metadata": {},
   "outputs": [],
   "source": [
    "def mul(*a):\n",
    "    m = 1\n",
    "    for i in a:\n",
    "        m = m * i \n",
    "    return m"
   ]
  },
  {
   "cell_type": "code",
   "execution_count": 57,
   "id": "478b0d9e-d178-457d-b888-dfb44d75eb7d",
   "metadata": {},
   "outputs": [
    {
     "data": {
      "text/plain": [
       "24"
      ]
     },
     "execution_count": 57,
     "metadata": {},
     "output_type": "execute_result"
    }
   ],
   "source": [
    "mul(2,3,4)"
   ]
  },
  {
   "cell_type": "code",
   "execution_count": 58,
   "id": "847c8f07-3628-4599-bf78-507e1077fbcd",
   "metadata": {},
   "outputs": [],
   "source": [
    "def open_write(*a):\n",
    "    f = open(\"새파일.txt\",mode=\"a\")\n",
    "    for i in a:\n",
    "        data = \"%d \\n\" % i\n",
    "        f.write(data)\n",
    "    f.close()"
   ]
  },
  {
   "cell_type": "code",
   "execution_count": 59,
   "id": "86f8b828-d882-4a44-864f-eca781115da3",
   "metadata": {},
   "outputs": [],
   "source": [
    "open_write(10, 45, 65)"
   ]
  },
  {
   "cell_type": "code",
   "execution_count": 11,
   "id": "ed6552d4-83b2-419f-84ce-23df8dd93e9a",
   "metadata": {},
   "outputs": [],
   "source": [
    "def avg(*a):\n",
    "    sum = 0\n",
    "    for i  in a:\n",
    "        sum += i\n",
    "    div = sum / len(a)\n",
    "    return div\n"
   ]
  },
  {
   "cell_type": "code",
   "execution_count": 12,
   "id": "f3a0e13c-cf3b-41fa-b725-6d8c7addaf0f",
   "metadata": {},
   "outputs": [
    {
     "data": {
      "text/plain": [
       "20.0"
      ]
     },
     "execution_count": 12,
     "metadata": {},
     "output_type": "execute_result"
    }
   ],
   "source": [
    "(avg(20, 10, 30))"
   ]
  },
  {
   "cell_type": "code",
   "execution_count": 22,
   "id": "ef29c038-659e-4e97-9074-d1b252792922",
   "metadata": {},
   "outputs": [
    {
     "name": "stdout",
     "output_type": "stream",
     "text": [
      "156361\n"
     ]
    }
   ],
   "source": [
    "i = 0\n",
    "sum = 0\n",
    "while i < 1000:\n",
    "    if i % 5 == 0:\n",
    "        sum += i\n",
    "    elif i % 7 == 0:\n",
    "        sum += i\n",
    "    i += 1\n",
    "print(sum)"
   ]
  },
  {
   "cell_type": "code",
   "execution_count": 38,
   "id": "b94486b2-3ef2-451a-8dc5-9ed9adcbe416",
   "metadata": {},
   "outputs": [],
   "source": [
    "class gaje:\n",
    "    def __init__(self):\n",
    "        value = 0 \n",
    "    \n",
    "    def vlavla(self, val1):\n",
    "        value = val1 * val1\n",
    "        return value\n",
    "    "
   ]
  },
  {
   "cell_type": "code",
   "execution_count": 37,
   "id": "be017ecf-3492-4526-98a9-ac4817cf146d",
   "metadata": {},
   "outputs": [
    {
     "data": {
      "text/plain": [
       "9"
      ]
     },
     "execution_count": 37,
     "metadata": {},
     "output_type": "execute_result"
    }
   ],
   "source": [
    "ggg = gaje()\n",
    "ggg.vlavla(3)"
   ]
  },
  {
   "cell_type": "code",
   "execution_count": null,
   "id": "f54a6929-464b-47f1-870c-66f701f92887",
   "metadata": {},
   "outputs": [],
   "source": [
    "li = [1,2,3,4,5,6,7,8,9,10]\n",
    "num = []\n",
    "\n",
    "for i in li:\n",
    "    if i % 3 != 0 and i % 4 != 0:\n",
    "        num.append(i*5)\n",
    "\n",
    "print (num)\n"
   ]
  },
  {
   "cell_type": "code",
   "execution_count": null,
   "id": "9d86fef6-9b57-436b-aed0-ca925b1baa64",
   "metadata": {},
   "outputs": [],
   "source": [
    "li = [1,2,3,4,5,6,7,8,9,10]\n",
    "num= [i*5 for i in li if i%3 and i%4 !=0]\n",
    "print(num)\n"
   ]
  },
  {
   "cell_type": "code",
   "execution_count": 3,
   "id": "8aca5ff1-92d3-4cbd-b536-5b6202b96145",
   "metadata": {},
   "outputs": [
    {
     "name": "stdout",
     "output_type": "stream",
     "text": [
      "3\n",
      "15\n",
      "36\n"
     ]
    }
   ],
   "source": [
    "result = 0\n",
    "i = 1\n",
    "while i <10:\n",
    "    result += i\n",
    "    i += 1\n",
    "    if i % 3 != 0:\n",
    "        continue\n",
    "    print(result)"
   ]
  },
  {
   "cell_type": "code",
   "execution_count": 5,
   "id": "5aa4fbaf-7345-4380-8627-38fadcf98437",
   "metadata": {},
   "outputs": [],
   "source": [
    "class Cal:\n",
    "    def __init__(self):\n",
    "        self.value = 0\n",
    "        \n",
    "        def add(self,a):\n",
    "            self.value += a"
   ]
  },
  {
   "cell_type": "code",
   "execution_count": 10,
   "id": "95836951-b784-4d0f-aef0-e1cb2cfb7908",
   "metadata": {},
   "outputs": [],
   "source": [
    "class Human:\n",
    "    def __init__(self, name, age , sex):\n",
    "        self.name = name\n",
    "        self.age = age\n",
    "        self.sex = sex"
   ]
  },
  {
   "cell_type": "code",
   "execution_count": 14,
   "id": "2845f907-9e81-44ff-84f8-e0a2fc5f2740",
   "metadata": {},
   "outputs": [],
   "source": [
    "CH = Human(\"구창회\",26,\"man\")"
   ]
  },
  {
   "cell_type": "code",
   "execution_count": 15,
   "id": "e9008f2f-1c76-4b9d-806d-c2e499b9bedf",
   "metadata": {},
   "outputs": [
    {
     "name": "stdout",
     "output_type": "stream",
     "text": [
      "구창회\n",
      "26\n",
      "man\n"
     ]
    }
   ],
   "source": [
    "print(CH.name)\n",
    "print(CH.age)\n",
    "print(CH.sex)"
   ]
  },
  {
   "cell_type": "code",
   "execution_count": 21,
   "id": "3de82c0c-997f-4ecc-a657-3b4779b1489d",
   "metadata": {},
   "outputs": [
    {
     "data": {
      "text/plain": [
       "10"
      ]
     },
     "execution_count": 21,
     "metadata": {},
     "output_type": "execute_result"
    }
   ],
   "source": [
    "class Mul:\n",
    "    def __init__(self,i):\n",
    "        self.i = i\n",
    "    def mul3(self):\n",
    "        return self.i*3\n",
    "    def mul4(self):\n",
    "        return self.i*4\n",
    "    def mul5(self):\n",
    "        return self.i*5\n",
    "    \n",
    "k = Mul(2)\n",
    "k.mul5()\n"
   ]
  },
  {
   "cell_type": "code",
   "execution_count": 22,
   "id": "5c91d8d4-9a19-4934-a9ab-565f9fb1bcc2",
   "metadata": {},
   "outputs": [
    {
     "data": {
      "text/plain": [
       "5"
      ]
     },
     "execution_count": 22,
     "metadata": {},
     "output_type": "execute_result"
    }
   ],
   "source": [
    "class Calculator:\n",
    "    def __init__(self):\n",
    "        value = 0\n",
    "        \n",
    "    def add(self, a, b):\n",
    "        value = a + b\n",
    "        return value\n",
    "\n",
    "\n",
    "cal = Calculator()\n",
    "cal.add(2,3)\n",
    "        "
   ]
  },
  {
   "cell_type": "code",
   "execution_count": 26,
   "id": "1820c8c2-5de6-4ab8-9d53-7b6fce150cc3",
   "metadata": {},
   "outputs": [
    {
     "data": {
      "text/plain": [
       "120"
      ]
     },
     "execution_count": 26,
     "metadata": {},
     "output_type": "execute_result"
    }
   ],
   "source": [
    "import math\n",
    "math.factorial(5)"
   ]
  },
  {
   "cell_type": "code",
   "execution_count": 27,
   "id": "0fe9b3b3-3e27-432a-9b52-8d45f9393bf5",
   "metadata": {},
   "outputs": [],
   "source": [
    "def odd(a):\n",
    "    if a == 0:\n",
    "        print(\"0입니다\")\n",
    "    elif a % 2 != 0:\n",
    "        print(\"홀수입니다\")\n",
    "    else:\n",
    "        print(\"짝수입니다\")"
   ]
  },
  {
   "cell_type": "code",
   "execution_count": 31,
   "id": "92fd53b9-d5da-41a3-8c10-69c829926709",
   "metadata": {},
   "outputs": [
    {
     "data": {
      "image/png": "[encoded data removed]",
      "text/plain": [
       "<Figure size 432x288 with 1 Axes>"
      ]
     },
     "metadata": {
      "needs_background": "light"
     },
     "output_type": "display_data"
    }
   ],
   "source": [
    "# sin 그래프\n",
    "import matplotlib.pyplot as plt\n",
    "import numpy as np\n",
    "from math import pi\n",
    "x = np.linspace(0,2*pi,100)\n",
    "plt.plot(x,np.sin(x))\n",
    "plt.plot(x,np.cos(x))\n",
    "plt.title(\"sin, cos Graph\")\n",
    "plt.show()"
   ]
  },
  {
   "cell_type": "code",
   "execution_count": 34,
   "id": "7e617632-ede1-43d2-acc2-1d57916ca76a",
   "metadata": {},
   "outputs": [],
   "source": [
    "with open(\"greeting.txt\",mode = \"w\") as f:\n",
    "    f.write(\"Hello\")"
   ]
  },
  {
   "cell_type": "code",
   "execution_count": 35,
   "id": "374196d0-053b-41f7-a4e5-dff6697f7c25",
   "metadata": {},
   "outputs": [],
   "source": [
    "with open(\"pythonpractice.txt\",mode = \"w\")as f:\n",
    "    f.write(\"Python is the future\")"
   ]
  },
  {
   "cell_type": "code",
   "execution_count": 37,
   "id": "3db3a435-1092-4c6f-a014-3d34d32c49b6",
   "metadata": {},
   "outputs": [
    {
     "name": "stdout",
     "output_type": "stream",
     "text": [
      "Python is the future\n"
     ]
    }
   ],
   "source": [
    "with open(\"pythonpractice.txt\",mode = \"r\")as f:\n",
    "    print(f.read())"
   ]
  },
  {
   "cell_type": "code",
   "execution_count": 38,
   "id": "45b52d16-0915-42dd-8a61-53c21356c354",
   "metadata": {},
   "outputs": [
    {
     "data": {
      "text/plain": [
       "7"
      ]
     },
     "execution_count": 38,
     "metadata": {},
     "output_type": "execute_result"
    }
   ],
   "source": [
    "import math\n",
    "\n",
    "math.floor(7.77)"
   ]
  },
  {
   "cell_type": "code",
   "execution_count": 39,
   "id": "9e17167b-8fc9-46cf-9950-24a917d9b720",
   "metadata": {},
   "outputs": [
    {
     "data": {
      "text/plain": [
       "1.7724538509055159"
      ]
     },
     "execution_count": 39,
     "metadata": {},
     "output_type": "execute_result"
    }
   ],
   "source": [
    "math.sqrt(.pi)"
   ]
  },
  {
   "cell_type": "code",
   "execution_count": 7,
   "id": "241bc4cc-8ddc-47f3-a58c-4ac7a4486aee",
   "metadata": {},
   "outputs": [
    {
     "data": {
      "text/plain": [
       "['ace', 'car', 'eat']"
      ]
     },
     "execution_count": 7,
     "metadata": {},
     "output_type": "execute_result"
    }
   ],
   "source": [
    "def spell(x):\n",
    "    return len(x) == 3\n",
    "\n",
    "list(filter(spell, [\"ace\", \"blue\", \"car\", \"do\", \"eat\"]))"
   ]
  },
  {
   "cell_type": "code",
   "execution_count": 6,
   "id": "82a33d96-b070-494f-9a9c-8d6e2c2547b3",
   "metadata": {},
   "outputs": [
    {
     "data": {
      "text/plain": [
       "[1, 4, 9, 16]"
      ]
     },
     "execution_count": 6,
     "metadata": {},
     "output_type": "execute_result"
    }
   ],
   "source": [
    "list(map(lambda a: a * a, [1, 2, 3, 4]))"
   ]
  },
  {
   "cell_type": "code",
   "execution_count": 4,
   "id": "ff78fd7b-9c12-4d06-a22f-d5e5b674b8cb",
   "metadata": {},
   "outputs": [
    {
     "name": "stdout",
     "output_type": "stream",
     "text": [
      "1번 학생 이름 a\n",
      "2번 학생 이름 b\n",
      "3번 학생 이름 c\n",
      "4번 학생 이름 d\n"
     ]
    }
   ],
   "source": [
    "students = ['a','b','c','d']\n",
    "for  i, std in enumerate(students):\n",
    "    print(f\"{i+1}번 학생 이름 {std}\")"
   ]
  },
  {
   "cell_type": "code",
   "execution_count": 7,
   "id": "5a00bf29-e3ec-497e-a5c4-9fa36bd5586b",
   "metadata": {},
   "outputs": [
    {
     "data": {
      "text/plain": [
       "[2, 4, 6, 8, 10]"
      ]
     },
     "execution_count": 7,
     "metadata": {},
     "output_type": "execute_result"
    }
   ],
   "source": [
    "list(filter(lambda a:a % 2 == 0, [1,2,3,4,5,6,7,8,9,10]))"
   ]
  },
  {
   "cell_type": "code",
   "execution_count": 8,
   "id": "0bbc4af7-9b8a-4412-9fff-f163adf4bc9d",
   "metadata": {},
   "outputs": [
    {
     "data": {
      "text/plain": [
       "[2, 4, 6, 8, 10]"
      ]
     },
     "execution_count": 8,
     "metadata": {},
     "output_type": "execute_result"
    }
   ],
   "source": [
    "def is_even(x):\n",
    "    return x % 2 == 0\n",
    "\n",
    "list(filter(is_even, [1,2,3,4,5,6,7,8,9,10]))"
   ]
  },
  {
   "cell_type": "code",
   "execution_count": 13,
   "id": "3d6f53db-aa85-4109-865f-ef2c9140b8ac",
   "metadata": {},
   "outputs": [],
   "source": [
    "def div_mod(num1,num2):\n",
    "    try:\n",
    "        value = num1/num2\n",
    "        return value\n",
    "    except ZeroDivisionError as e:\n",
    "        return e\n",
    "    "
   ]
  },
  {
   "cell_type": "code",
   "execution_count": 12,
   "id": "aecf5e56-66d7-4c61-bf67-810bedfa37b4",
   "metadata": {},
   "outputs": [
    {
     "name": "stdout",
     "output_type": "stream",
     "text": [
      "division by zero\n"
     ]
    }
   ],
   "source": [
    "div_mod(24,0)"
   ]
  },
  {
   "cell_type": "code",
   "execution_count": 25,
   "id": "577dbc40-1e4e-4702-89c9-b078e4cf6c5a",
   "metadata": {},
   "outputs": [
    {
     "name": "stdin",
     "output_type": "stream",
     "text": [
      "숫자를 입력해 주세요:  dsa\n"
     ]
    },
    {
     "name": "stdout",
     "output_type": "stream",
     "text": [
      "ValueError\n"
     ]
    }
   ],
   "source": [
    "try:\n",
    "    num = int(input(\"숫자를 입력해 주세요: \"))\n",
    "    print(num)\n",
    "except:\n",
    "    print(\"ValueError\")"
   ]
  },
  {
   "cell_type": "code",
   "execution_count": 26,
   "id": "ba47a4a4-9da8-43ca-ab3b-0817123a0e8c",
   "metadata": {},
   "outputs": [],
   "source": [
    "Fibo_seq = [1,2,3,5,8,13,23]\n",
    "\n",
    "even_list = list(filter(lambda a: a % 2 == 0,Fibo_seq))"
   ]
  },
  {
   "cell_type": "code",
   "execution_count": 27,
   "id": "6593fe58-1bae-4b3f-91d2-1886666433f0",
   "metadata": {},
   "outputs": [
    {
     "name": "stdout",
     "output_type": "stream",
     "text": [
      "[2, 8]\n"
     ]
    }
   ],
   "source": [
    "print(even_list)"
   ]
  },
  {
   "cell_type": "code",
   "execution_count": 32,
   "id": "feb5ca82-0d55-4cc5-a65b-1fbbf33be84e",
   "metadata": {},
   "outputs": [],
   "source": [
    "name_list = [\"김은하\",\"이우주\",\"박태양\"]\n",
    "age_list = [23, 28, 35]\n",
    "job_list = [\"대학생\",\"취업준비생\",\"회사원\"]\n",
    "\n",
    "profile = list(zip(name_list, age_list, job_list))"
   ]
  },
  {
   "cell_type": "code",
   "execution_count": 33,
   "id": "1309f2b8-26f6-431c-93b3-b857501e3572",
   "metadata": {},
   "outputs": [
    {
     "name": "stdout",
     "output_type": "stream",
     "text": [
      "[('김은하', 23, '대학생'), ('이우주', 28, '취업준비생'), ('박태양', 35, '회사원')]\n"
     ]
    }
   ],
   "source": [
    "print(profile)"
   ]
  },
  {
   "cell_type": "code",
   "execution_count": 34,
   "id": "184990a1-223a-4d2c-b88e-b72868469318",
   "metadata": {},
   "outputs": [],
   "source": [
    "class Calculator:\n",
    "    def __init__(self):\n",
    "        self.value = 0\n",
    "        \n",
    "    def add(self, val):\n",
    "        self.value += val"
   ]
  },
  {
   "cell_type": "code",
   "execution_count": 39,
   "id": "ea667b39-96d1-4bdc-92e4-a282abe0079b",
   "metadata": {},
   "outputs": [],
   "source": [
    "class UpgradeCalculator(Calculator):\n",
    "    def add(self, val):\n",
    "        self.value += val\n",
    "        return self.value\n",
    "    \n",
    "    def minus(self, val):\n",
    "        self.value -= val\n",
    "        return self.value"
   ]
  },
  {
   "cell_type": "code",
   "execution_count": 40,
   "id": "eb2899ce-91ae-4db2-b7ff-d409b6eee305",
   "metadata": {},
   "outputs": [
    {
     "data": {
      "text/plain": [
       "3"
      ]
     },
     "execution_count": 40,
     "metadata": {},
     "output_type": "execute_result"
    }
   ],
   "source": [
    "cal = UpgradeCalculator()\n",
    "cal.add(10)\n",
    "cal.minus(7)"
   ]
  },
  {
   "cell_type": "code",
   "execution_count": 41,
   "id": "36dd7615-3d37-4621-a1a4-d7dc7104d78a",
   "metadata": {},
   "outputs": [
    {
     "data": {
      "text/plain": [
       "'0xea'"
      ]
     },
     "execution_count": 41,
     "metadata": {},
     "output_type": "execute_result"
    }
   ],
   "source": [
    "hex(234)"
   ]
  },
  {
   "cell_type": "code",
   "execution_count": 42,
   "id": "f6ea9eab-42d5-47d8-b4a3-98c457b9c276",
   "metadata": {},
   "outputs": [
    {
     "data": {
      "text/plain": [
       "234"
      ]
     },
     "execution_count": 42,
     "metadata": {},
     "output_type": "execute_result"
    }
   ],
   "source": [
    "int(hex(234), base = 16)"
   ]
  },
  {
   "cell_type": "code",
   "execution_count": 43,
   "id": "b4e7dc58-ce91-4fba-9503-69a7c628d715",
   "metadata": {},
   "outputs": [
    {
     "data": {
      "text/plain": [
       "[3, 6, 9]"
      ]
     },
     "execution_count": 43,
     "metadata": {},
     "output_type": "execute_result"
    }
   ],
   "source": [
    "list(filter(lambda a: a % 3 == 0, [1,2,3,4,5,6,7,8,9,10]))"
   ]
  },
  {
   "cell_type": "code",
   "execution_count": 44,
   "id": "d59b862e-6c9d-49f7-9371-cb5dba8f749d",
   "metadata": {},
   "outputs": [
    {
     "data": {
      "text/plain": [
       "['ace', 'car']"
      ]
     },
     "execution_count": 44,
     "metadata": {},
     "output_type": "execute_result"
    }
   ],
   "source": [
    "def spell(x):\n",
    "    return len(x) == 3\n",
    "\n",
    "list(filter(spell, [\"ace\", \"blue\", \"car\", \"do\", \"eight\"]))"
   ]
  },
  {
   "cell_type": "code",
   "execution_count": 45,
   "id": "f2c61d85-2c1b-4124-8be7-bb7fbd2a3aa1",
   "metadata": {},
   "outputs": [
    {
     "data": {
      "text/plain": [
       "[1, 4, 9, 16]"
      ]
     },
     "execution_count": 45,
     "metadata": {},
     "output_type": "execute_result"
    }
   ],
   "source": [
    "list(map(lambda a: a * a, [1, 2, 3, 4]))"
   ]
  },
  {
   "cell_type": "code",
   "execution_count": 46,
   "id": "9b77058c-1749-42ad-a6d8-55419abd7e18",
   "metadata": {},
   "outputs": [
    {
     "data": {
      "text/plain": [
       "[3, 6, 9, 12]"
      ]
     },
     "execution_count": 46,
     "metadata": {},
     "output_type": "execute_result"
    }
   ],
   "source": [
    "list(map(lambda a: a * 3,[1,2,3,4]))"
   ]
  },
  {
   "cell_type": "code",
   "execution_count": 49,
   "id": "4c9d0d3a-a98e-44ab-9d29-6bf0dec4c9e5",
   "metadata": {},
   "outputs": [
    {
     "data": {
      "text/plain": [
       "-1"
      ]
     },
     "execution_count": 49,
     "metadata": {},
     "output_type": "execute_result"
    }
   ],
   "source": [
    "a = [-8,2,7,5,-3,5,0,1]\n",
    "a = sorted(a)\n",
    "a[0]+a[7]"
   ]
  },
  {
   "cell_type": "code",
   "execution_count": 50,
   "id": "68fd1f74-048c-49e7-b84d-3d515c996587",
   "metadata": {},
   "outputs": [
    {
     "data": {
      "text/plain": [
       "5.6667"
      ]
     },
     "execution_count": 50,
     "metadata": {},
     "output_type": "execute_result"
    }
   ],
   "source": [
    "round(17/3,4)"
   ]
  },
  {
   "cell_type": "code",
   "execution_count": 51,
   "id": "8426365a-b3d8-4055-9233-786b1552cc19",
   "metadata": {},
   "outputs": [],
   "source": [
    "import glob"
   ]
  },
  {
   "cell_type": "code",
   "execution_count": 52,
   "id": "0cecf428-97ce-4b07-9e8b-948009965d3e",
   "metadata": {},
   "outputs": [
    {
     "data": {
      "text/plain": [
       "['C:\\\\python\\\\argv_test.py',\n",
       " 'C:\\\\python\\\\mod1.py',\n",
       " 'C:\\\\python\\\\mod2.py',\n",
       " 'C:\\\\python\\\\my_python.py',\n",
       " 'C:\\\\python\\\\temp.py',\n",
       " 'C:\\\\python\\\\test1.py',\n",
       " 'C:\\\\python\\\\thread_test.py']"
      ]
     },
     "execution_count": 52,
     "metadata": {},
     "output_type": "execute_result"
    }
   ],
   "source": [
    "glob.glob(\"C:\\python\\*.py\")"
   ]
  },
  {
   "cell_type": "code",
   "execution_count": 54,
   "id": "c7dfa511-2a32-469e-b8db-0cce0c9d3b0b",
   "metadata": {},
   "outputs": [],
   "source": [
    "import time"
   ]
  },
  {
   "cell_type": "code",
   "execution_count": 65,
   "id": "70174e96-10f6-4e64-96d4-86145d5c53f6",
   "metadata": {},
   "outputs": [
    {
     "data": {
      "text/plain": [
       "'2022/03/02 15:41:26'"
      ]
     },
     "execution_count": 65,
     "metadata": {},
     "output_type": "execute_result"
    }
   ],
   "source": [
    "time.strftime('%Y/%m/%d %X')"
   ]
  },
  {
   "cell_type": "code",
   "execution_count": 66,
   "id": "44745462-23df-48f0-a339-2c4f95fe81d1",
   "metadata": {},
   "outputs": [],
   "source": [
    "import random"
   ]
  },
  {
   "cell_type": "code",
   "execution_count": 90,
   "id": "1f4ca713-5a13-47c3-9026-72b67ca7fbc9",
   "metadata": {},
   "outputs": [
    {
     "data": {
      "text/plain": [
       "[44, 31, 18, 30, 23, 28]"
      ]
     },
     "execution_count": 90,
     "metadata": {},
     "output_type": "execute_result"
    }
   ],
   "source": [
    "random.sample(range(1,46),k = 6)"
   ]
  },
  {
   "cell_type": "code",
   "execution_count": 120,
   "id": "f7d7386b-7d7a-42bc-85cc-c8d48d5130b5",
   "metadata": {},
   "outputs": [],
   "source": [
    "import time\n",
    "def time_log():\n",
    "    n = 0\n",
    "    f = open(f\"time_{n}.txt\",mode = \"w\")\n",
    "    data = time.asctime()\n",
    "    f.write(data)\n",
    "    f.close()\n",
    "    n += 1\n",
    "    return n"
   ]
  },
  {
   "cell_type": "code",
   "execution_count": 128,
   "id": "518a4a03-f7de-4bfa-83b8-1cfa86f9c29d",
   "metadata": {},
   "outputs": [],
   "source": [
    "for n in range(1,10):\n",
    "    f = open(f\"time_{n}.txt\",mode = \"w\")\n",
    "    data = time.asctime()\n",
    "    f.write(data)\n",
    "    f.close()\n",
    "    time.sleep(10)"
   ]
  },
  {
   "cell_type": "code",
   "execution_count": 142,
   "id": "297cfb28-0ffc-44ea-95e3-2315d2e21770",
   "metadata": {},
   "outputs": [
    {
     "name": "stdout",
     "output_type": "stream",
     "text": [
      "['C:/python\\\\time_0.txt', 'C:/python\\\\time_1.txt', 'C:/python\\\\time_2.txt', 'C:/python\\\\time_3.txt', 'C:/python\\\\time_4.txt', 'C:/python\\\\time_5.txt', 'C:/python\\\\time_6.txt', 'C:/python\\\\time_7.txt', 'C:/python\\\\time_8.txt', 'C:/python\\\\time_9.txt']\n"
     ]
    }
   ],
   "source": [
    "import glob\n",
    "a = glob.glob(\"C:/python/time*.txt\")\n",
    "print(a)"
   ]
  },
  {
   "cell_type": "code",
   "execution_count": 154,
   "id": "a643c3ce-b058-45df-ab04-a69d336a683f",
   "metadata": {},
   "outputs": [
    {
     "name": "stdout",
     "output_type": "stream",
     "text": [
      "Wed Mar  2 17:59:33 2022\n"
     ]
    }
   ],
   "source": [
    "import random\n",
    "b = random.choice(a)\n",
    "f = open(f\"{b}\",mode = \"r\")\n",
    "print(f.read())\n",
    "f.close()"
   ]
  },
  {
   "cell_type": "code",
   "execution_count": 2,
   "id": "1d1e7ad9-6a1b-4cc2-871c-cb883be3d88c",
   "metadata": {},
   "outputs": [
    {
     "data": {
      "text/plain": [
       "'L'"
      ]
     },
     "execution_count": 2,
     "metadata": {},
     "output_type": "execute_result"
    }
   ],
   "source": [
    "import random\n",
    "a = chr(random.randint(65,90))"
   ]
  },
  {
   "cell_type": "code",
   "execution_count": 6,
   "id": "5e52be29-9a47-48b1-90b9-ec6be781fb8f",
   "metadata": {},
   "outputs": [],
   "source": [
    "d = [1,2]\n",
    "d.remove(2)\n",
    "print(d)\n",
    "[1]"
   ]
  },
  {
   "cell_type": "code",
   "execution_count": 7,
   "id": "9525e657-2e54-4bcc-bfad-97fa6391b1b1",
   "metadata": {},
   "outputs": [],
   "source": [
    "d.remove(2)"
   ]
  },
  {
   "cell_type": "code",
   "execution_count": 8,
   "id": "0380b996-53c1-41ab-946a-2a38aa41697c",
   "metadata": {},
   "outputs": [
    {
     "name": "stdout",
     "output_type": "stream",
     "text": [
      "[1]\n"
     ]
    }
   ],
   "source": [
    "print(d)"
   ]
  },
  {
   "cell_type": "code",
   "execution_count": 34,
   "id": "ae58f029-d286-4388-9c1c-cd002d73fd65",
   "metadata": {},
   "outputs": [
    {
     "name": "stdout",
     "output_type": "stream",
     "text": [
      "1\n",
      "4\n",
      "7\n",
      "2\n",
      "2\n",
      "3\n",
      "7\n",
      "1\n",
      "1\n",
      "4\n",
      "2\n",
      "3\n",
      "6\n"
     ]
    }
   ],
   "source": [
    "import random\n",
    "while True:\n",
    "    a = random.randint(1,10)\n",
    "    if a <= 7:\n",
    "        print(a)\n",
    "    else:\n",
    "        break"
   ]
  },
  {
   "cell_type": "code",
   "execution_count": 41,
   "id": "3dea224c-324c-4b3f-b3d1-fb9789d51634",
   "metadata": {},
   "outputs": [
    {
     "data": {
      "text/plain": [
       "'2022년 03월 03일 Thu AM 09시 51분 35초'"
      ]
     },
     "execution_count": 41,
     "metadata": {},
     "output_type": "execute_result"
    }
   ],
   "source": [
    "import time\n",
    "time.strftime('%Y년 %m월 %d일 %a %p %I시 %M분 %S초',time.localtime())"
   ]
  },
  {
   "cell_type": "code",
   "execution_count": null,
   "id": "f7bd04a2-7953-4698-9957-f9a65265c993",
   "metadata": {},
   "outputs": [],
   "source": [
    "import re\n",
    "\n",
    "p = re.compile('\\d{6}[-][34]\\d{6}')"
   ]
  },
  {
   "cell_type": "code",
   "execution_count": 7,
   "id": "7129c88b-ef1c-4613-a802-889d0ab74aed",
   "metadata": {},
   "outputs": [],
   "source": [
    "def mul_mul(n):\n",
    "    if n == 1:\n",
    "        return 1\n",
    "    return n + mul_mul(n-1)"
   ]
  },
  {
   "cell_type": "code",
   "execution_count": 9,
   "id": "815e779f-3977-43ec-b23e-96ee121cab36",
   "metadata": {},
   "outputs": [
    {
     "name": "stdout",
     "output_type": "stream",
     "text": [
      "1 3 6 10 15 21 28 36 45 55 66 78 91 105 120 "
     ]
    }
   ],
   "source": [
    "for i in range(1, 16):\n",
    "    print(mul_mul(i), end=\" \")"
   ]
  },
  {
   "cell_type": "code",
   "execution_count": null,
   "id": "1874633e-6526-4954-b995-d32941fbd860",
   "metadata": {},
   "outputs": [],
   "source": [
    "자주 사용 하는 객 체의 메서드\n",
    "\n",
    "group()\n",
    "\n",
    "start()\n",
    "\n",
    "end()\n",
    "\n",
    "span()"
   ]
  },
  {
   "cell_type": "code",
   "execution_count": 12,
   "id": "67997d21-a083-41de-ad06-4f0366dc1369",
   "metadata": {},
   "outputs": [],
   "source": [
    "import re\n",
    "\n",
    "m = re.search(r'\\d[a-d][b-z]', \"123abcd\")"
   ]
  },
  {
   "cell_type": "code",
   "execution_count": 13,
   "id": "95b51816-ecb1-4a15-8d58-a8e0dceb39fd",
   "metadata": {},
   "outputs": [
    {
     "data": {
      "text/plain": [
       "<re.Match object; span=(2, 5), match='3ab'>"
      ]
     },
     "execution_count": 13,
     "metadata": {},
     "output_type": "execute_result"
    }
   ],
   "source": [
    "m"
   ]
  },
  {
   "cell_type": "code",
   "execution_count": 14,
   "id": "d4ac8afc-d15d-42df-b1af-2d5d1ae7c440",
   "metadata": {},
   "outputs": [
    {
     "data": {
      "text/plain": [
       "'3ab'"
      ]
     },
     "execution_count": 14,
     "metadata": {},
     "output_type": "execute_result"
    }
   ],
   "source": [
    "m.group()"
   ]
  },
  {
   "cell_type": "code",
   "execution_count": 15,
   "id": "2dc7737c-bf02-4948-b7cf-bf43158778ab",
   "metadata": {},
   "outputs": [],
   "source": [
    "strings = ['123abcd','124abcd','125abcd','126abcd','123ebcd','123fbcd']"
   ]
  },
  {
   "cell_type": "code",
   "execution_count": 28,
   "id": "f6bfc35f-f691-4f89-a125-e1dc9c3a83b4",
   "metadata": {},
   "outputs": [
    {
     "name": "stdout",
     "output_type": "stream",
     "text": [
      "3ab\n",
      "4ab\n",
      "5ab\n",
      "6ab\n"
     ]
    }
   ],
   "source": [
    "# 바로 뒤에 strings를 넣으면 리스트 형태라 str 을 요구하는 것과 다름으로 오류남\n",
    "# 그래서 for문을 이용하여 리스트의 스트링을 하나씩 검사해봄\n",
    "for string in strings:\n",
    "    m = re.search(r'\\d[a-d][b-z]', string)\n",
    "    if m:\n",
    "        print(m.group())"
   ]
  },
  {
   "cell_type": "code",
   "execution_count": 29,
   "id": "908354f7-dc67-410b-8579-7ee0ef052168",
   "metadata": {},
   "outputs": [
    {
     "name": "stdout",
     "output_type": "stream",
     "text": [
      "3ab\n",
      "4ab\n",
      "5ab\n",
      "6ab\n"
     ]
    }
   ],
   "source": [
    "try:\n",
    "    for string in strings:\n",
    "        print(re.search(r'\\d[a-d][b-z]', string).group())\n",
    "except:\n",
    "    pass"
   ]
  },
  {
   "cell_type": "code",
   "execution_count": 31,
   "id": "ef7ab0e2-9bd5-4cb4-8b4d-40e84a2bcc9d",
   "metadata": {},
   "outputs": [
    {
     "name": "stdout",
     "output_type": "stream",
     "text": [
      "3ab\n",
      "4ab\n",
      "5ab\n",
      "6ab\n"
     ]
    }
   ],
   "source": [
    "# 패턴도 밖으로 빼서 변수에 넣어줄수 있다\n",
    "strings = ['123abcd','124abcd','125abcd','126abcd','123ebcd','123fbcd']\n",
    "pattern = r'\\d[a-d][b-z]'\n",
    "for string in strings:\n",
    "    m = re.search(pattern, string)\n",
    "    if m:\n",
    "        print(m.group())"
   ]
  },
  {
   "cell_type": "code",
   "execution_count": null,
   "id": "32ca9ce7-f65f-4e22-9ef6-8e156020e538",
   "metadata": {},
   "outputs": [],
   "source": []
  }
 ],
 "metadata": {
  "kernelspec": {
   "display_name": "Python 3 (ipykernel)",
   "language": "python",
   "name": "python3"
  },
  "language_info": {
   "codemirror_mode": {
    "name": "ipython",
    "version": 3
   },
   "file_extension": ".py",
   "mimetype": "text/x-python",
   "name": "python",
   "nbconvert_exporter": "python",
   "pygments_lexer": "ipython3",
   "version": "3.9.7"
  }
 },
 "nbformat": 4,
 "nbformat_minor": 5
}
