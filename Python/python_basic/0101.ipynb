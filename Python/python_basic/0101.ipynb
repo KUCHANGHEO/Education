{
 "cells": [
  {
   "cell_type": "markdown",
   "id": "323a7808-29e4-4062-b48e-c383c95c8faa",
   "metadata": {
    "tags": []
   },
   "source": [
    "## 사용자 입력 input( ) 알아보기\n",
    "- 출력값이 문자열이다"
   ]
  },
  {
   "cell_type": "code",
   "execution_count": 4,
   "id": "3a9a9d76-1093-4fc9-8bae-82896d286a8c",
   "metadata": {},
   "outputs": [
    {
     "name": "stdout",
     "output_type": "stream",
     "text": [
      "I ate 5 apples. So I was sick 3 days.\n"
     ]
    }
   ],
   "source": [
    "num = 5\n",
    "day = 3\n",
    "\n",
    "print(f\"I ate {num} apples. So I was sick {day} days.\")"
   ]
  },
  {
   "cell_type": "code",
   "execution_count": 11,
   "id": "e61ed734-0117-4951-8f75-9109f617bf92",
   "metadata": {},
   "outputs": [
    {
     "name": "stdin",
     "output_type": "stream",
     "text": [
      "몇 개 먹었나요? 5\n",
      "몇일: 2\n"
     ]
    },
    {
     "name": "stdout",
     "output_type": "stream",
     "text": [
      "I ate 5 apples. So I was sick 2 days.\n"
     ]
    }
   ],
   "source": [
    "num = input(\"몇 개 먹었나요?\")\n",
    "day = input(\"몇일:\")\n",
    "\n",
    "print(f\"I ate {num} apples. So I was sick {day} days.\")"
   ]
  },
  {
   "cell_type": "code",
   "execution_count": 14,
   "id": "fc234ab2-9cee-4dd1-92ba-d86ece3500c1",
   "metadata": {},
   "outputs": [
    {
     "name": "stdin",
     "output_type": "stream",
     "text": [
      "숫자를 입력해 주세요:  1234\n",
      "숫자를 입력해 주세요:  432\n"
     ]
    }
   ],
   "source": [
    "a = input(\"숫자를 입력해 주세요: \")\n",
    "b = input(\"숫자를 입력해 주세요: \")"
   ]
  },
  {
   "cell_type": "code",
   "execution_count": 15,
   "id": "3352bde6-3b86-4ec3-97d2-1bc88410337d",
   "metadata": {},
   "outputs": [
    {
     "data": {
      "text/plain": [
       "'1234432'"
      ]
     },
     "execution_count": 15,
     "metadata": {},
     "output_type": "execute_result"
    }
   ],
   "source": [
    "a + b"
   ]
  },
  {
   "cell_type": "markdown",
   "id": "9328604a-0ee0-459d-b83e-3c106f7a00c7",
   "metadata": {},
   "source": [
    "input 함수는 입력 값을 str 으로 저장"
   ]
  },
  {
   "cell_type": "code",
   "execution_count": 16,
   "id": "73dfac21-0da9-4db9-9df7-a2ec185605b2",
   "metadata": {},
   "outputs": [
    {
     "data": {
      "text/plain": [
       "1234"
      ]
     },
     "execution_count": 16,
     "metadata": {},
     "output_type": "execute_result"
    }
   ],
   "source": [
    "int(a)"
   ]
  },
  {
   "cell_type": "code",
   "execution_count": 17,
   "id": "b45e5640-3abd-4354-b59c-791e74492c6d",
   "metadata": {},
   "outputs": [
    {
     "data": {
      "text/plain": [
       "1666"
      ]
     },
     "execution_count": 17,
     "metadata": {},
     "output_type": "execute_result"
    }
   ],
   "source": [
    "int(a) + int(b)"
   ]
  },
  {
   "cell_type": "code",
   "execution_count": 19,
   "id": "f80d9a73-1753-4cdc-8fcc-c197ee2c7e75",
   "metadata": {},
   "outputs": [
    {
     "name": "stdin",
     "output_type": "stream",
     "text": [
      "숫자를 입력해 주세요:  123\n",
      "숫자를 입력해 주세요:  456\n"
     ]
    }
   ],
   "source": [
    "a = int(input(\"숫자를 입력해 주세요: \"))\n",
    "b = int(input(\"숫자를 입력해 주세요: \"))"
   ]
  },
  {
   "cell_type": "code",
   "execution_count": 20,
   "id": "b9c93156-d5b0-4309-a997-0346fd421371",
   "metadata": {},
   "outputs": [
    {
     "data": {
      "text/plain": [
       "579"
      ]
     },
     "execution_count": 20,
     "metadata": {},
     "output_type": "execute_result"
    }
   ],
   "source": [
    "a + b"
   ]
  },
  {
   "cell_type": "code",
   "execution_count": 26,
   "id": "e4466623-884e-4d00-a7f2-2646c46b6d38",
   "metadata": {},
   "outputs": [
    {
     "name": "stdin",
     "output_type": "stream",
     "text": [
      "입력할 수 13\n"
     ]
    },
    {
     "name": "stdout",
     "output_type": "stream",
     "text": [
      "13을 11로 나눈 나머지는 2 입니다\n"
     ]
    }
   ],
   "source": [
    "# 입력받은 수를 11로 나눈 나머지를 알고싶다.\n",
    "num = int(input(\"입력할 수\"))\n",
    "print(f\"{num}을 11로 나눈 나머지는 {n % 11} 입니다\")"
   ]
  },
  {
   "cell_type": "code",
   "execution_count": 29,
   "id": "36d0f245-3025-45fe-ba57-2f41073bb340",
   "metadata": {},
   "outputs": [
    {
     "name": "stdin",
     "output_type": "stream",
     "text": [
      "이름:  홍길동\n",
      "나이:  13세[\n"
     ]
    },
    {
     "name": "stdout",
     "output_type": "stream",
     "text": [
      "나의 이름은 홍길동이고 나이는 13세[살 입니다\n"
     ]
    }
   ],
   "source": [
    "# 이름과 나이를 입력 받아서\n",
    "#\"나의 이름은 000이고 나이는 00살 입니다\"\n",
    "\n",
    "name = input(\"이름: \")\n",
    "age = input(\"나이: \")\n",
    "print(f\"나의 이름은 {name}이고 나이는 {age}살 입니다\")"
   ]
  },
  {
   "cell_type": "markdown",
   "id": "43a5773c-6fee-4c04-99f0-ba79ef6cc65d",
   "metadata": {},
   "source": [
    "# 제어문"
   ]
  },
  {
   "cell_type": "markdown",
   "id": "cb1ef220-aa5d-4224-af35-989cf80466cb",
   "metadata": {},
   "source": [
    "## if 문"
   ]
  },
  {
   "cell_type": "markdown",
   "id": "a380a506-cc7a-48fa-8ad7-d35d012e1163",
   "metadata": {},
   "source": [
    "```\n",
    "if 조건:\n",
    "    실행될 문장1\n",
    "    실행될 문장2\n",
    "else:\n",
    "    실행될 문장1\n",
    "```"
   ]
  },
  {
   "cell_type": "code",
   "execution_count": 33,
   "id": "f30638c9-cbd9-475b-9cf0-cb4269f6279d",
   "metadata": {},
   "outputs": [
    {
     "name": "stdout",
     "output_type": "stream",
     "text": [
      "Yes\n"
     ]
    }
   ],
   "source": [
    "if 1 < 2:\n",
    "    print(\"Yes\")"
   ]
  },
  {
   "cell_type": "code",
   "execution_count": 34,
   "id": "d77b8c46-ec65-4e2a-b8fa-fc502638ff62",
   "metadata": {
    "tags": []
   },
   "outputs": [],
   "source": [
    "if 1 > 2:\n",
    "    print(\"Yes\")"
   ]
  },
  {
   "cell_type": "code",
   "execution_count": 36,
   "id": "7bd11ffa-1d4f-4ce1-ab60-d5a51e6ba021",
   "metadata": {},
   "outputs": [
    {
     "name": "stdout",
     "output_type": "stream",
     "text": [
      "no\n"
     ]
    }
   ],
   "source": [
    "if 1 > 2:\n",
    "    print(\"Yes\")\n",
    "else:\n",
    "    print(\"no\")"
   ]
  },
  {
   "cell_type": "code",
   "execution_count": 106,
   "id": "d89d3b14-623c-466e-9856-5d33c2664a18",
   "metadata": {},
   "outputs": [
    {
     "name": "stdout",
     "output_type": "stream",
     "text": [
      "three\n"
     ]
    }
   ],
   "source": [
    "if a == 1:\n",
    "    print(\"yes\")\n",
    "elif a == 2:\n",
    "    print(\"two\")\n",
    "else:\n",
    "    print(\"three\")"
   ]
  },
  {
   "cell_type": "markdown",
   "id": "adece6ce-8b17-4d6f-877f-a2d5a9b942ba",
   "metadata": {},
   "source": [
    "```\n",
    "    x <  y : x가 y보다 작다\n",
    "    x >  y : x가 y보다 크다\n",
    "    x == y : x와 y가 같다\n",
    "    x != y : x와 y가 같지않다\n",
    "    x >= y : x가 y보다 크거나 같다\n",
    "    x <= y : x가 y보다 작거나 같다\n",
    "```    "
   ]
  },
  {
   "cell_type": "code",
   "execution_count": 38,
   "id": "ae83ca1e-cb6e-4192-abfc-6a4dca02be6a",
   "metadata": {},
   "outputs": [
    {
     "name": "stdin",
     "output_type": "stream",
     "text": [
      "숫자를 입력해 주세요 2\n"
     ]
    },
    {
     "name": "stdout",
     "output_type": "stream",
     "text": [
      "짝수입니다.\n"
     ]
    }
   ],
   "source": [
    "# 입력받아서 짝수이면 짝수입니다. 홀수이면 홀수입니다를 출력\n",
    "num = int(input(\"숫자를 입력해 주세요\"))\n",
    "if num % 2 == 0:\n",
    "    print(\"짝수입니다.\")\n",
    "else:\n",
    "    print(\"홀수입니다.\")"
   ]
  },
  {
   "cell_type": "code",
   "execution_count": 40,
   "id": "eead77f8-e631-43b5-b256-49a960d972dd",
   "metadata": {},
   "outputs": [
    {
     "name": "stdin",
     "output_type": "stream",
     "text": [
      "온도를 입력해주세요:  25\n"
     ]
    },
    {
     "name": "stdout",
     "output_type": "stream",
     "text": [
      "가을입니다.\n"
     ]
    }
   ],
   "source": [
    "# 온도를 입력받아서 30도 이상이면 \"여름입니다.\"\n",
    "# 20도 이상이면 \"가을입니다.\"\n",
    "# 0도 이상이면 \"봄입니다.\n",
    "# 0도 이하이면 \"겨울입니다.\"\n",
    "\n",
    "temp = int(input(\"온도를 입력해주세요: \"))\n",
    "\n",
    "if temp >= 30:\n",
    "    print(\"여름입니다.\")\n",
    "elif temp >= 20:\n",
    "    print(\"가을입니다.\")\n",
    "elif temp >= 0:\n",
    "    print(\"봄 입니다.\")\n",
    "else:\n",
    "    print(\"겨울 입니다.\")"
   ]
  },
  {
   "cell_type": "markdown",
   "id": "10af78e0-0c28-4717-b9c5-5df4afeb7590",
   "metadata": {},
   "source": [
    "```\n",
    "    x or y : x와 y 둘중 하나만 참이어도 참이다\n",
    "    x and y: x 와 y 모두 참이여야 한다\n",
    "    not x  : x가 거짓이면 참이다\n",
    "```"
   ]
  },
  {
   "cell_type": "markdown",
   "id": "7575391c-53ac-489b-a9c7-42c7c21a4838",
   "metadata": {
    "tags": []
   },
   "source": [
    "- A in B 의 형태"
   ]
  },
  {
   "cell_type": "code",
   "execution_count": 43,
   "id": "f74a9a02-50c5-4ae8-8d3c-d59e695c3d45",
   "metadata": {},
   "outputs": [
    {
     "name": "stdout",
     "output_type": "stream",
     "text": [
      "Taxi\n"
     ]
    }
   ],
   "source": [
    "pocket = [\"bill\", \"coins\", \"card\"]\n",
    "if \"bill\" in pocket:\n",
    "    print(\"Taxi\")\n",
    "elif \"coins\" in pocket:\n",
    "    print(\"Bus\")\n",
    "else:\n",
    "    print(\"Walk\")"
   ]
  },
  {
   "cell_type": "markdown",
   "id": "446711ce-390f-4fa1-af0a-ce60adb7bcdc",
   "metadata": {},
   "source": [
    "## for 문"
   ]
  },
  {
   "cell_type": "code",
   "execution_count": 46,
   "id": "baf450e5-6596-4f7f-9df8-69e1a4780c3e",
   "metadata": {},
   "outputs": [
    {
     "name": "stdout",
     "output_type": "stream",
     "text": [
      "1\n",
      "10\n",
      "2\n",
      "20\n",
      "3\n",
      "30\n"
     ]
    }
   ],
   "source": [
    "for i in [1, 2, 3]:\n",
    "    print(i)\n",
    "    print( i*10)"
   ]
  },
  {
   "cell_type": "code",
   "execution_count": 47,
   "id": "3a896fc8-c7a4-411a-b763-76cb4513410c",
   "metadata": {},
   "outputs": [
    {
     "name": "stdout",
     "output_type": "stream",
     "text": [
      "yes\n",
      "yes\n",
      "yes\n"
     ]
    }
   ],
   "source": [
    "for i in [1, 2, 3]:\n",
    "    print(\"yes\")"
   ]
  },
  {
   "cell_type": "code",
   "execution_count": 48,
   "id": "53e01ee5-05cf-4cfc-8ad7-e69c4b7d98de",
   "metadata": {},
   "outputs": [
    {
     "name": "stdout",
     "output_type": "stream",
     "text": [
      "1\n",
      "yes\n",
      "2\n",
      "yes\n",
      "3\n",
      "yes\n",
      "no\n"
     ]
    }
   ],
   "source": [
    "for i in [1, 2, 3]:\n",
    "    print(i)\n",
    "    print(\"yes\")\n",
    "print(\"no\")"
   ]
  },
  {
   "cell_type": "code",
   "execution_count": 51,
   "id": "10d31831-533c-4b6f-b960-b386dc85ce89",
   "metadata": {},
   "outputs": [
    {
     "name": "stdout",
     "output_type": "stream",
     "text": [
      "1\n",
      "2\n",
      "3\n",
      "4\n",
      "5\n",
      "6\n",
      "7\n",
      "8\n",
      "9\n",
      "10\n"
     ]
    }
   ],
   "source": [
    "numbers = [1, 2, 3, 4, 5, 6, 7, 8, 9, 10]\n",
    "for number in numbers:\n",
    "    print(number)"
   ]
  },
  {
   "cell_type": "code",
   "execution_count": 53,
   "id": "aa282fae-0aa7-4e46-9022-54b81ab6451d",
   "metadata": {},
   "outputs": [
    {
     "data": {
      "text/plain": [
       "range(0, 10)"
      ]
     },
     "execution_count": 53,
     "metadata": {},
     "output_type": "execute_result"
    }
   ],
   "source": [
    "range(10)"
   ]
  },
  {
   "cell_type": "code",
   "execution_count": 54,
   "id": "355be300-3682-47e1-be0f-22f529f15845",
   "metadata": {},
   "outputs": [
    {
     "data": {
      "text/plain": [
       "[0, 1, 2, 3, 4, 5, 6, 7, 8, 9]"
      ]
     },
     "execution_count": 54,
     "metadata": {},
     "output_type": "execute_result"
    }
   ],
   "source": [
    "list(range(10))"
   ]
  },
  {
   "cell_type": "code",
   "execution_count": 59,
   "id": "843101a9-e7ca-4f95-840d-b188dc36d02a",
   "metadata": {},
   "outputs": [
    {
     "data": {
      "text/plain": [
       "[1, 2, 3, 4, 5, 6, 7, 8, 9, 10]"
      ]
     },
     "execution_count": 59,
     "metadata": {},
     "output_type": "execute_result"
    }
   ],
   "source": [
    "list(range(1,11))"
   ]
  },
  {
   "cell_type": "code",
   "execution_count": 60,
   "id": "15a9f155-b9df-4276-83cb-6494c723e249",
   "metadata": {},
   "outputs": [
    {
     "data": {
      "text/plain": [
       "[1, 3, 5, 7, 9]"
      ]
     },
     "execution_count": 60,
     "metadata": {},
     "output_type": "execute_result"
    }
   ],
   "source": [
    "list(range(1,11, 2))"
   ]
  },
  {
   "cell_type": "code",
   "execution_count": 61,
   "id": "cdf6acdc-8adb-4d5e-b20f-fe844043175a",
   "metadata": {},
   "outputs": [
    {
     "data": {
      "text/plain": [
       "[1, 4, 7, 10]"
      ]
     },
     "execution_count": 61,
     "metadata": {},
     "output_type": "execute_result"
    }
   ],
   "source": [
    "list(range(1,11, 3))"
   ]
  },
  {
   "cell_type": "code",
   "execution_count": 56,
   "id": "4d0b5f72-4df9-4632-b5e4-9dcf217342ae",
   "metadata": {},
   "outputs": [
    {
     "name": "stdout",
     "output_type": "stream",
     "text": [
      "1\n",
      "2\n",
      "3\n",
      "4\n",
      "5\n",
      "6\n",
      "7\n",
      "8\n",
      "9\n",
      "10\n"
     ]
    }
   ],
   "source": [
    "for number in range(1,11):\n",
    "    print(number)"
   ]
  },
  {
   "cell_type": "code",
   "execution_count": 71,
   "id": "a0766f22-acd9-478d-aebd-c979093116c5",
   "metadata": {},
   "outputs": [
    {
     "name": "stdout",
     "output_type": "stream",
     "text": [
      "2 4 6 8 10 12 14 16 18 20 22 24 26 28 30 32 34 36 38 40 42 44 46 48 50 52 54 56 58 60 62 64 66 68 70 72 74 76 78 80 82 84 86 88 90 92 94 96 98 100 "
     ]
    }
   ],
   "source": [
    "# 1부터 10까지 사이의 모든 짝수를 출력해 주세요\n",
    "\n",
    "for i in range(1,100,2):\n",
    "    print(i+1, end = ' ')"
   ]
  },
  {
   "cell_type": "code",
   "execution_count": 81,
   "id": "9e9c8a71-a90b-410e-b691-570c378d282b",
   "metadata": {},
   "outputs": [
    {
     "name": "stdout",
     "output_type": "stream",
     "text": [
      "1 a\n",
      "1 b\n",
      "1 c\n",
      "2 a\n",
      "2 b\n",
      "2 c\n"
     ]
    }
   ],
   "source": [
    "for i in [1,2]:\n",
    "    for j in [\"a\", \"b\", \"c\"]:\n",
    "        print(i,j)"
   ]
  },
  {
   "cell_type": "code",
   "execution_count": 105,
   "id": "9ac4008c-9cda-45e7-b514-80153da0e0e8",
   "metadata": {},
   "outputs": [
    {
     "name": "stdout",
     "output_type": "stream",
     "text": [
      "<2단>\n",
      "2 X 1 = 2\n",
      "2 X 2 = 4\n",
      "2 X 3 = 6\n",
      "2 X 4 = 8\n",
      "2 X 5 = 10\n",
      "2 X 6 = 12\n",
      "2 X 7 = 14\n",
      "2 X 8 = 16\n",
      "2 X 9 = 18\n",
      "\n",
      "<3단>\n",
      "3 X 1 = 3\n",
      "3 X 2 = 6\n",
      "3 X 3 = 9\n",
      "3 X 4 = 12\n",
      "3 X 5 = 15\n",
      "3 X 6 = 18\n",
      "3 X 7 = 21\n",
      "3 X 8 = 24\n",
      "3 X 9 = 27\n",
      "\n",
      "<4단>\n",
      "4 X 1 = 4\n",
      "4 X 2 = 8\n",
      "4 X 3 = 12\n",
      "4 X 4 = 16\n",
      "4 X 5 = 20\n",
      "4 X 6 = 24\n",
      "4 X 7 = 28\n",
      "4 X 8 = 32\n",
      "4 X 9 = 36\n",
      "\n",
      "<5단>\n",
      "5 X 1 = 5\n",
      "5 X 2 = 10\n",
      "5 X 3 = 15\n",
      "5 X 4 = 20\n",
      "5 X 5 = 25\n",
      "5 X 6 = 30\n",
      "5 X 7 = 35\n",
      "5 X 8 = 40\n",
      "5 X 9 = 45\n",
      "\n",
      "<6단>\n",
      "6 X 1 = 6\n",
      "6 X 2 = 12\n",
      "6 X 3 = 18\n",
      "6 X 4 = 24\n",
      "6 X 5 = 30\n",
      "6 X 6 = 36\n",
      "6 X 7 = 42\n",
      "6 X 8 = 48\n",
      "6 X 9 = 54\n",
      "\n",
      "<7단>\n",
      "7 X 1 = 7\n",
      "7 X 2 = 14\n",
      "7 X 3 = 21\n",
      "7 X 4 = 28\n",
      "7 X 5 = 35\n",
      "7 X 6 = 42\n",
      "7 X 7 = 49\n",
      "7 X 8 = 56\n",
      "7 X 9 = 63\n",
      "\n",
      "<8단>\n",
      "8 X 1 = 8\n",
      "8 X 2 = 16\n",
      "8 X 3 = 24\n",
      "8 X 4 = 32\n",
      "8 X 5 = 40\n",
      "8 X 6 = 48\n",
      "8 X 7 = 56\n",
      "8 X 8 = 64\n",
      "8 X 9 = 72\n",
      "\n",
      "<9단>\n",
      "9 X 1 = 9\n",
      "9 X 2 = 18\n",
      "9 X 3 = 27\n",
      "9 X 4 = 36\n",
      "9 X 5 = 45\n",
      "9 X 6 = 54\n",
      "9 X 7 = 63\n",
      "9 X 8 = 72\n",
      "9 X 9 = 81\n",
      "\n"
     ]
    }
   ],
   "source": [
    "for i in range(2,10):\n",
    "    print(f\"<{i}단>\")\n",
    "    for j in range(1,10):\n",
    "        print(f\"{i} X {j} = {i*j}\")\n",
    "    print()"
   ]
  }
 ],
 "metadata": {
  "kernelspec": {
   "display_name": "Python 3 (ipykernel)",
   "language": "python",
   "name": "python3"
  },
  "language_info": {
   "codemirror_mode": {
    "name": "ipython",
    "version": 3
   },
   "file_extension": ".py",
   "mimetype": "text/x-python",
   "name": "python",
   "nbconvert_exporter": "python",
   "pygments_lexer": "ipython3",
   "version": "3.9.7"
  }
 },
 "nbformat": 4,
 "nbformat_minor": 5
}
