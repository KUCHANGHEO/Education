{
 "cells": [
  {
   "cell_type": "markdown",
   "id": "0a0799de-7f45-4cbb-b546-991a076c866b",
   "metadata": {},
   "source": [
    "# 자료형\n",
    "프로그램의 기본이자 핵심 단위"
   ]
  },
  {
   "cell_type": "markdown",
   "id": "cd815981-f503-471f-8263-2b22bd49d484",
   "metadata": {
    "tags": []
   },
   "source": [
    "## 숫자형\n",
    "Number"
   ]
  },
  {
   "cell_type": "markdown",
   "id": "42e14fba-04b4-4e2e-9678-0390dec877b5",
   "metadata": {},
   "source": [
    "숫자형에는 정수형과 실수형이 있다."
   ]
  },
  {
   "cell_type": "markdown",
   "id": "0a1eecc5-fc39-4b4c-bed3-a3149ecc43e0",
   "metadata": {
    "tags": []
   },
   "source": [
    "### 정수형\n",
    " Integer, INT"
   ]
  },
  {
   "cell_type": "code",
   "execution_count": 2,
   "id": "af50181b-2815-4432-8878-3dc68a94ea2f",
   "metadata": {},
   "outputs": [
    {
     "name": "stdout",
     "output_type": "stream",
     "text": [
      "123\n"
     ]
    }
   ],
   "source": [
    "a = 123\n",
    "print(a)"
   ]
  },
  {
   "cell_type": "code",
   "execution_count": 3,
   "id": "eccdb036-47b4-4c14-bf56-46a89a7caf3c",
   "metadata": {},
   "outputs": [
    {
     "data": {
      "text/plain": [
       "int"
      ]
     },
     "execution_count": 3,
     "metadata": {},
     "output_type": "execute_result"
    }
   ],
   "source": [
    "type(a)"
   ]
  },
  {
   "cell_type": "code",
   "execution_count": 171,
   "id": "8549a7d5-6ced-4560-b74c-ebd6f3c8a45c",
   "metadata": {},
   "outputs": [
    {
     "data": {
      "text/plain": [
       "int"
      ]
     },
     "execution_count": 171,
     "metadata": {},
     "output_type": "execute_result"
    }
   ],
   "source": [
    "a = -123\n",
    "type(a)"
   ]
  },
  {
   "cell_type": "markdown",
   "id": "45ba959c-6bd3-412a-851c-97d771cf324c",
   "metadata": {
    "tags": []
   },
   "source": [
    "### 실수형\n",
    " Floating Number 부동\n",
    " 3.141592 314.1592 3141592.0 0.3141592 0.003141592"
   ]
  },
  {
   "cell_type": "code",
   "execution_count": 4,
   "id": "71f7f417-93e3-468d-9e81-1574e0413683",
   "metadata": {},
   "outputs": [
    {
     "name": "stdout",
     "output_type": "stream",
     "text": [
      "1.2\n"
     ]
    }
   ],
   "source": [
    "a = 1.2\n",
    "print(a)"
   ]
  },
  {
   "cell_type": "code",
   "execution_count": 5,
   "id": "6a39423d-7c1b-4c4e-ae42-e3304ea6e290",
   "metadata": {},
   "outputs": [
    {
     "data": {
      "text/plain": [
       "float"
      ]
     },
     "execution_count": 5,
     "metadata": {},
     "output_type": "execute_result"
    }
   ],
   "source": [
    "type(a)"
   ]
  },
  {
   "cell_type": "code",
   "execution_count": 12,
   "id": "b72ac80a-8abc-4604-8e65-5ee7877841a5",
   "metadata": {},
   "outputs": [
    {
     "name": "stdout",
     "output_type": "stream",
     "text": [
      "42.4\n",
      "4240.0\n"
     ]
    },
    {
     "data": {
      "text/plain": [
       "0.00424"
      ]
     },
     "execution_count": 12,
     "metadata": {},
     "output_type": "execute_result"
    }
   ],
   "source": [
    "print(4.24E1)\n",
    "# 4.24 * 10\n",
    "print(4.24E3)\n",
    "# 4.24 * 1000\n",
    "4.24E-3"
   ]
  },
  {
   "cell_type": "markdown",
   "id": "351ba323-cc1c-43c6-9817-d74583f82068",
   "metadata": {},
   "source": [
    "### 연산자"
   ]
  },
  {
   "cell_type": "code",
   "execution_count": 13,
   "id": "15ec7abf-5933-4219-976f-73dd7c0dc477",
   "metadata": {},
   "outputs": [
    {
     "data": {
      "text/plain": [
       "0.3333333333333333"
      ]
     },
     "execution_count": 13,
     "metadata": {},
     "output_type": "execute_result"
    }
   ],
   "source": [
    "1/3"
   ]
  },
  {
   "cell_type": "code",
   "execution_count": 19,
   "id": "b6946935-2462-4dc6-89d4-65adea6060ef",
   "metadata": {},
   "outputs": [
    {
     "data": {
      "text/plain": [
       "1024"
      ]
     },
     "execution_count": 19,
     "metadata": {},
     "output_type": "execute_result"
    }
   ],
   "source": [
    "# ** : 거듭제곱\n",
    "2**10"
   ]
  },
  {
   "cell_type": "code",
   "execution_count": 18,
   "id": "f21a28dd-85b8-4602-aafa-9e8034e4be85",
   "metadata": {},
   "outputs": [
    {
     "data": {
      "text/plain": [
       "1"
      ]
     },
     "execution_count": 18,
     "metadata": {},
     "output_type": "execute_result"
    }
   ],
   "source": [
    "# // : 몫\n",
    "13//4\n",
    "7//4"
   ]
  },
  {
   "cell_type": "code",
   "execution_count": 23,
   "id": "13a6bcaf-8b88-4010-9ce1-96be716750b1",
   "metadata": {},
   "outputs": [
    {
     "data": {
      "text/plain": [
       "1"
      ]
     },
     "execution_count": 23,
     "metadata": {},
     "output_type": "execute_result"
    }
   ],
   "source": [
    "# % : 나머지\n",
    "13 % 4\n",
    "7 % 4\n",
    "7 % 2"
   ]
  },
  {
   "cell_type": "code",
   "execution_count": 24,
   "id": "ffe8e9d6-ea29-4b01-a8e6-ab587bb23dd7",
   "metadata": {},
   "outputs": [
    {
     "name": "stdout",
     "output_type": "stream",
     "text": [
      "4\n"
     ]
    },
    {
     "data": {
      "text/plain": [
       "2"
      ]
     },
     "execution_count": 24,
     "metadata": {},
     "output_type": "execute_result"
    }
   ],
   "source": [
    "print(14//3)\n",
    "14 % 3"
   ]
  },
  {
   "cell_type": "markdown",
   "id": "2adeea1d-9712-4241-b342-f70628474c94",
   "metadata": {
    "tags": []
   },
   "source": [
    "## 문자열\n",
    "한글자: character 문자\n",
    "두글자이상: string 문자열"
   ]
  },
  {
   "cell_type": "markdown",
   "id": "0c2189b1-ac35-4ab5-aa4e-b6c47256baff",
   "metadata": {},
   "source": [
    "### 홑따옴표와 쌍따옴표"
   ]
  },
  {
   "cell_type": "code",
   "execution_count": 26,
   "id": "5094ead8-29c6-4088-872b-3c4d5e8f2966",
   "metadata": {},
   "outputs": [
    {
     "name": "stdout",
     "output_type": "stream",
     "text": [
      "Hello\n",
      "Hello\n"
     ]
    }
   ],
   "source": [
    "print('Hello')\n",
    "print(\"Hello\")"
   ]
  },
  {
   "cell_type": "code",
   "execution_count": 172,
   "id": "f39a2f92-6979-49cb-ad70-ed664acbeb2e",
   "metadata": {},
   "outputs": [
    {
     "name": "stdout",
     "output_type": "stream",
     "text": [
      "그가 \"사랑해요\"라고 말했다.\n",
      "그가 '사랑해요'라고 말했다.\n"
     ]
    }
   ],
   "source": [
    "# 문자열에 작은따옴표,큰따옴표 포함시키기\n",
    "\n",
    "print('그가 \"사랑해요\"라고 말했다.')\n",
    "print(\"그가 '사랑해요'라고 말했다.\")"
   ]
  },
  {
   "cell_type": "code",
   "execution_count": 173,
   "id": "9813c860-434e-4d6f-994d-7cf4092bf528",
   "metadata": {},
   "outputs": [
    {
     "name": "stdout",
     "output_type": "stream",
     "text": [
      "그가 \"사랑해요\"라고 말했다.\n",
      "     그녀도 \"나도요\"라고 말했다.\n"
     ]
    }
   ],
   "source": [
    "# 줄을 바꿀때 쓰는 큰따옴표 3개\n",
    "print('''그가 \"사랑해요\"라고 말했다.\n",
    "     그녀도 \"나도요\"라고 말했다.''')"
   ]
  },
  {
   "cell_type": "code",
   "execution_count": 9,
   "id": "821ce300-6d83-4b86-adcd-608a7775092e",
   "metadata": {},
   "outputs": [
    {
     "name": "stdout",
     "output_type": "stream",
     "text": [
      "그가 \"사랑해요\"라고 말했다. \n",
      "그녀도 \"나도요\"라고 말했다.\n"
     ]
    }
   ],
   "source": [
    "# Escape character(탈출문자)\n",
    "print('그가 \"사랑해요\"라고 말했다. \\n그녀도 \"나도요\"라고 말했다.')"
   ]
  },
  {
   "cell_type": "code",
   "execution_count": 8,
   "id": "8d88e526-bf31-42c0-8c60-34a7a7f3c873",
   "metadata": {},
   "outputs": [
    {
     "name": "stdout",
     "output_type": "stream",
     "text": [
      "그가 \"사랑해요\"라고 말했다. \t 그녀도 \"나도요\"라고 말했다.\n"
     ]
    }
   ],
   "source": [
    "print('그가 \"사랑해요\"라고 말했다. \\t 그녀도 \"나도요\"라고 말했다.')"
   ]
  },
  {
   "cell_type": "markdown",
   "id": "3ec42674-8ad7-4f88-a454-1ae034af24bf",
   "metadata": {},
   "source": [
    "- \\n 문자열안에서 줄을 바꿀 때 사용\n",
    "- \\t 문자열 사이에 탭 간격을 줄 때 사용\n",
    "- \\\\ 문자\\를 그대로 표현할 때 사용\n",
    "- \\' 작은따옴표'를 그대로 표현할 때 사용\n",
    "- \\\" 큰따옴표\"를 그대로 표현할 때 사용\n",
    "- \\r 캐리지 리턴(줄 바꿈 문자, 현재 커서를 가장 앞으로 이동)\n",
    "- \\f 폼 피드(줄 바꿈 문자, 현재 커서를 다음 줄로 이동)\n",
    "- \\a 벨 소리(출력할 때 PC 스피커에서 '삑'소리가 난다)\n",
    "- \\b 백스페이스\n",
    "- \\000 널문자"
   ]
  },
  {
   "cell_type": "markdown",
   "id": "80081ee4-2245-4fce-b25e-ce6471a8fa59",
   "metadata": {},
   "source": [
    "### 문자열의 연산"
   ]
  },
  {
   "cell_type": "code",
   "execution_count": 175,
   "id": "6e075e74-b3bc-4fda-9258-29ed2d046ebc",
   "metadata": {},
   "outputs": [
    {
     "data": {
      "text/plain": [
       "'Pythonfun'"
      ]
     },
     "execution_count": 175,
     "metadata": {},
     "output_type": "execute_result"
    }
   ],
   "source": [
    "a = 'Python'\n",
    "b = 'fun'\n",
    "a + b"
   ]
  },
  {
   "cell_type": "code",
   "execution_count": 176,
   "id": "26c59ccd-947a-424e-9aed-9c95471ae794",
   "metadata": {},
   "outputs": [
    {
     "data": {
      "text/plain": [
       "'Pythonfun'"
      ]
     },
     "execution_count": 176,
     "metadata": {},
     "output_type": "execute_result"
    }
   ],
   "source": [
    "# 문자열 이어붙이기 (concatenate)\n",
    "a + b"
   ]
  },
  {
   "cell_type": "code",
   "execution_count": 177,
   "id": "4de90621-5c57-4f3e-b5bd-0456ebd6a717",
   "metadata": {},
   "outputs": [
    {
     "data": {
      "text/plain": [
       "'PythonPythonPython'"
      ]
     },
     "execution_count": 177,
     "metadata": {},
     "output_type": "execute_result"
    }
   ],
   "source": [
    "# 3번 반복\n",
    "a*3"
   ]
  },
  {
   "cell_type": "code",
   "execution_count": 179,
   "id": "4c97aee0-a8f2-4753-b55b-3a6545abe35a",
   "metadata": {},
   "outputs": [
    {
     "name": "stdout",
     "output_type": "stream",
     "text": [
      "================================================================================\n",
      "My program\n",
      "================================================================================\n"
     ]
    }
   ],
   "source": [
    "print(\"=\"*80)\n",
    "print(\"My program\")\n",
    "print(\"=\"*80)"
   ]
  },
  {
   "cell_type": "code",
   "execution_count": 180,
   "id": "4f821580-38df-4cba-857d-fc39751cfcf0",
   "metadata": {},
   "outputs": [
    {
     "data": {
      "text/plain": [
       "6"
      ]
     },
     "execution_count": 180,
     "metadata": {},
     "output_type": "execute_result"
    }
   ],
   "source": [
    "len(a)"
   ]
  },
  {
   "cell_type": "code",
   "execution_count": 181,
   "id": "0819c2b3-4f8a-46a0-9a1a-97bb4b88ac2f",
   "metadata": {},
   "outputs": [
    {
     "name": "stdout",
     "output_type": "stream",
     "text": [
      "Python\n"
     ]
    }
   ],
   "source": [
    "print(a)"
   ]
  },
  {
   "cell_type": "code",
   "execution_count": 249,
   "id": "c59c6aee-1295-46bd-9ecb-0f5c221e2ef7",
   "metadata": {},
   "outputs": [
    {
     "name": "stdout",
     "output_type": "stream",
     "text": [
      "Life is short. You need python\n"
     ]
    },
    {
     "data": {
      "text/plain": [
       "30"
      ]
     },
     "execution_count": 249,
     "metadata": {},
     "output_type": "execute_result"
    }
   ],
   "source": [
    "a = \"Life is short. You need python\"\n",
    "print(a)\n",
    "len(a)"
   ]
  },
  {
   "cell_type": "markdown",
   "id": "34f26ba3-4a5a-4c54-8a8c-bbeca0b92d9f",
   "metadata": {},
   "source": [
    "#### 인덱싱\n",
    "- 하나씩 하나씩, 낱개로\n"
   ]
  },
  {
   "cell_type": "code",
   "execution_count": 250,
   "id": "1c07c7fc-3bdd-48b9-9ff1-3463076f9397",
   "metadata": {},
   "outputs": [
    {
     "name": "stdout",
     "output_type": "stream",
     "text": [
      "Life is short. You need python\n"
     ]
    }
   ],
   "source": [
    "print(a)"
   ]
  },
  {
   "cell_type": "code",
   "execution_count": 251,
   "id": "425637bc-ca4c-4392-9212-8dadd974e1ea",
   "metadata": {},
   "outputs": [
    {
     "data": {
      "text/plain": [
       "'f'"
      ]
     },
     "execution_count": 251,
     "metadata": {},
     "output_type": "execute_result"
    }
   ],
   "source": [
    "a[2]"
   ]
  },
  {
   "cell_type": "code",
   "execution_count": 252,
   "id": "67732b2d-75cb-4161-a4de-239b631f9bed",
   "metadata": {},
   "outputs": [
    {
     "data": {
      "text/plain": [
       "'e'"
      ]
     },
     "execution_count": 252,
     "metadata": {},
     "output_type": "execute_result"
    }
   ],
   "source": [
    "a[3]"
   ]
  },
  {
   "cell_type": "code",
   "execution_count": 253,
   "id": "46a7c42c-1083-496a-8103-deb2b216c8c6",
   "metadata": {},
   "outputs": [
    {
     "data": {
      "text/plain": [
       "'i'"
      ]
     },
     "execution_count": 253,
     "metadata": {},
     "output_type": "execute_result"
    }
   ],
   "source": [
    "a[1]"
   ]
  },
  {
   "cell_type": "code",
   "execution_count": 254,
   "id": "84b9fbec-e8f6-42a1-ae23-fdf867dafd98",
   "metadata": {},
   "outputs": [
    {
     "data": {
      "text/plain": [
       "'L'"
      ]
     },
     "execution_count": 254,
     "metadata": {},
     "output_type": "execute_result"
    }
   ],
   "source": [
    "# 시작하는 숫자는 0이다\n",
    "a[0]"
   ]
  },
  {
   "cell_type": "markdown",
   "id": "fefbcfef-ed40-423e-98fd-5ea188a9f01e",
   "metadata": {},
   "source": [
    "#### 슬라이싱\n",
    "slicing\n",
    "- 뭉텅뭉텅"
   ]
  },
  {
   "cell_type": "code",
   "execution_count": 255,
   "id": "3787e1c6-bba7-4924-8b4a-9dba2e1d04f2",
   "metadata": {},
   "outputs": [
    {
     "name": "stdout",
     "output_type": "stream",
     "text": [
      "Life\n"
     ]
    }
   ],
   "source": [
    "''' Life\n",
    "L, i, f, e\n",
    "덧셈 '''\n",
    "\n",
    "print(a[0]+a[1]+a[2]+a[3])"
   ]
  },
  {
   "cell_type": "code",
   "execution_count": 256,
   "id": "edd6863e-feab-4c0e-9cea-5051b025ede2",
   "metadata": {},
   "outputs": [
    {
     "data": {
      "text/plain": [
       "'Life'"
      ]
     },
     "execution_count": 256,
     "metadata": {},
     "output_type": "execute_result"
    }
   ],
   "source": [
    "a[0:4] #start : stop <= : <"
   ]
  },
  {
   "cell_type": "code",
   "execution_count": 257,
   "id": "3d9bde71-d386-416a-84db-2a0ff6dbdab5",
   "metadata": {},
   "outputs": [
    {
     "data": {
      "text/plain": [
       "'Life is short. You need python'"
      ]
     },
     "execution_count": 257,
     "metadata": {},
     "output_type": "execute_result"
    }
   ],
   "source": [
    "a"
   ]
  },
  {
   "cell_type": "code",
   "execution_count": 258,
   "id": "ee1321be-e5b9-4106-96f1-7e146dae2a27",
   "metadata": {},
   "outputs": [
    {
     "data": {
      "text/plain": [
       "'short'"
      ]
     },
     "execution_count": 258,
     "metadata": {},
     "output_type": "execute_result"
    }
   ],
   "source": [
    "# short를 출력해 보자\n",
    "a[8:13]"
   ]
  },
  {
   "cell_type": "code",
   "execution_count": 259,
   "id": "1448e0f4-b07a-4b7f-b1de-983fd980590f",
   "metadata": {},
   "outputs": [
    {
     "data": {
      "text/plain": [
       "'s'"
      ]
     },
     "execution_count": 259,
     "metadata": {},
     "output_type": "execute_result"
    }
   ],
   "source": [
    "a[8]"
   ]
  },
  {
   "cell_type": "markdown",
   "id": "d6e0edbe-4d54-4373-8327-57d97cc952ca",
   "metadata": {
    "tags": []
   },
   "source": [
    "개수를 쉽게 세는 방법 <br>\n",
    " 1 <= a < 3\n",
    " 1 < a <= 3\n",
    " 1 < a < 3\n",
    " 1 <= a <= 3\n",
    " 10 <= a < 100\n",
    " </br>"
   ]
  },
  {
   "cell_type": "code",
   "execution_count": 260,
   "id": "94716b0c-0567-4c3a-b20d-59eaff3e5128",
   "metadata": {},
   "outputs": [
    {
     "data": {
      "text/plain": [
       "'Life is short. You need python'"
      ]
     },
     "execution_count": 260,
     "metadata": {},
     "output_type": "execute_result"
    }
   ],
   "source": [
    "a"
   ]
  },
  {
   "cell_type": "code",
   "execution_count": 261,
   "id": "7ad16a2c-faaf-4d62-b5d1-5686d22f70af",
   "metadata": {},
   "outputs": [
    {
     "data": {
      "text/plain": [
       "'Life'"
      ]
     },
     "execution_count": 261,
     "metadata": {},
     "output_type": "execute_result"
    }
   ],
   "source": [
    "a[:4]"
   ]
  },
  {
   "cell_type": "code",
   "execution_count": 262,
   "id": "491bc6d1-1e4f-47fa-b540-39a33d6d324d",
   "metadata": {},
   "outputs": [
    {
     "data": {
      "text/plain": [
       "'python'"
      ]
     },
     "execution_count": 262,
     "metadata": {},
     "output_type": "execute_result"
    }
   ],
   "source": [
    "a[24:30]"
   ]
  },
  {
   "cell_type": "code",
   "execution_count": 263,
   "id": "a001e649-1293-4634-bcb0-200f53fc1d84",
   "metadata": {},
   "outputs": [
    {
     "data": {
      "text/plain": [
       "'python'"
      ]
     },
     "execution_count": 263,
     "metadata": {},
     "output_type": "execute_result"
    }
   ],
   "source": [
    "a[24:]"
   ]
  },
  {
   "cell_type": "code",
   "execution_count": 264,
   "id": "26413781-3813-48c5-9277-33420eae3f2e",
   "metadata": {},
   "outputs": [
    {
     "data": {
      "text/plain": [
       "'Life is short. You need python'"
      ]
     },
     "execution_count": 264,
     "metadata": {},
     "output_type": "execute_result"
    }
   ],
   "source": [
    "a[:]"
   ]
  },
  {
   "cell_type": "code",
   "execution_count": 265,
   "id": "22b4f525-8c31-4944-8396-9c692ff8032d",
   "metadata": {},
   "outputs": [
    {
     "data": {
      "text/plain": [
       "'python'"
      ]
     },
     "execution_count": 265,
     "metadata": {},
     "output_type": "execute_result"
    }
   ],
   "source": [
    "a[24:]"
   ]
  },
  {
   "cell_type": "code",
   "execution_count": 266,
   "id": "1e08763b-6d9f-4ffe-bd55-4c8db4de3be2",
   "metadata": {},
   "outputs": [
    {
     "data": {
      "text/plain": [
       "'python'"
      ]
     },
     "execution_count": 266,
     "metadata": {},
     "output_type": "execute_result"
    }
   ],
   "source": [
    "a[-6:]"
   ]
  },
  {
   "cell_type": "code",
   "execution_count": 270,
   "id": "dc5c1ee0-2ca2-4d50-945e-19a52101451a",
   "metadata": {},
   "outputs": [
    {
     "data": {
      "text/plain": [
       "'You need'"
      ]
     },
     "execution_count": 270,
     "metadata": {},
     "output_type": "execute_result"
    }
   ],
   "source": [
    "a[15:-7]"
   ]
  },
  {
   "cell_type": "code",
   "execution_count": 271,
   "id": "c1ff71d2-c831-44d2-85d1-1a136fc0d566",
   "metadata": {},
   "outputs": [
    {
     "name": "stdout",
     "output_type": "stream",
     "text": [
      "20220222cold\n"
     ]
    }
   ],
   "source": [
    "today = \"20220222cold\"\n",
    "print(today)"
   ]
  },
  {
   "cell_type": "code",
   "execution_count": 272,
   "id": "1a2f60dc-da22-4ae6-9478-7186a5b5c31a",
   "metadata": {},
   "outputs": [
    {
     "name": "stdout",
     "output_type": "stream",
     "text": [
      "12\n",
      "2022\n",
      "0222\n",
      "cold\n"
     ]
    }
   ],
   "source": [
    "'''\n",
    "1.모두 몇글자?\n",
    "2.세 조각\n",
    "  2022\n",
    "  0222\n",
    "  cold\n",
    "  으로 출력을 해 주세요.\n",
    "'''\n",
    "\n",
    "print(len(today))\n",
    "print(today[:4])\n",
    "print(today[4:8])\n",
    "print(today[8:12])\n"
   ]
  },
  {
   "cell_type": "markdown",
   "id": "063469fb-5983-46cf-9a92-accaf81226bc",
   "metadata": {},
   "source": [
    "#### 포맷팅\n",
    "formatting"
   ]
  },
  {
   "cell_type": "markdown",
   "id": "0bf4069d-e26e-4f88-8509-ef41e21faa20",
   "metadata": {},
   "source": [
    "##### 첫번째 방법"
   ]
  },
  {
   "cell_type": "code",
   "execution_count": 273,
   "id": "fb5e0569-a23f-4cef-8a6c-36d4b30f8619",
   "metadata": {},
   "outputs": [
    {
     "name": "stdout",
     "output_type": "stream",
     "text": [
      "I eat five apples. So I sicked two days\n"
     ]
    }
   ],
   "source": [
    "print(\"I eat five apples. So I sicked two days\")"
   ]
  },
  {
   "cell_type": "code",
   "execution_count": 203,
   "id": "71b03b12-88ed-40a9-847b-db3826f64f53",
   "metadata": {},
   "outputs": [
    {
     "name": "stdout",
     "output_type": "stream",
     "text": [
      "I eat five apples. So I sicked two days\n"
     ]
    }
   ],
   "source": [
    "# %s 문자열넣기\n",
    "number = \"five\"\n",
    "print(\"I eat %s apples. So I sicked two days\" %number)"
   ]
  },
  {
   "cell_type": "code",
   "execution_count": 274,
   "id": "b5729cc1-4094-45ea-84ff-7ea4f2cdffcc",
   "metadata": {},
   "outputs": [
    {
     "name": "stdout",
     "output_type": "stream",
     "text": [
      "I eat five apples. So I sicked 2 days\n"
     ]
    }
   ],
   "source": [
    "# %s 문자열넣기\n",
    "# %d 숫자 넣기\n",
    "# 2개 이상의 값 넣기\n",
    "number = \"five\"\n",
    "day =2\n",
    "print(\"I eat %s apples. So I sicked %d days\" %(number,day))"
   ]
  },
  {
   "cell_type": "markdown",
   "id": "de7b5be0-098f-44de-b983-6e073e142ec0",
   "metadata": {},
   "source": [
    "- %s 문자열(String)\n",
    "- %c 문자 1개(Character)\n",
    "- %d 정수(Integer)\n",
    "- %f 부동 소수(Floating-point)\n",
    "- %o 8진수\n",
    "- %x 16진수\n",
    "- %% Literal %(문자 '%'자체)"
   ]
  },
  {
   "cell_type": "code",
   "execution_count": 275,
   "id": "0ec60363-4f4a-4be2-b691-7c019178e68d",
   "metadata": {},
   "outputs": [
    {
     "name": "stdout",
     "output_type": "stream",
     "text": [
      "I eat five apples. So I sicked 2 days\n"
     ]
    }
   ],
   "source": [
    "# %s 문자열넣기\n",
    "# %d 숫자 넣기\n",
    "number = \"five\"\n",
    "day =2\n",
    "print(\"I eat %s apples. So I sicked %s days\" %(number,day))\n",
    "# 숫자2는 정수지만 %s로 선언한 순간 문자형으로 취급한다"
   ]
  },
  {
   "cell_type": "code",
   "execution_count": 283,
   "id": "5261efba-a33c-40c7-8448-39d7f6d6d7b3",
   "metadata": {},
   "outputs": [
    {
     "name": "stdout",
     "output_type": "stream",
     "text": [
      "        hi\n"
     ]
    }
   ],
   "source": [
    "# %10s는 전체길이가 10개인 문자열 공간에서 대입되는 값을 오른쪽으로 정렬\n",
    "print(\"%10s\" % \"hi\")"
   ]
  },
  {
   "cell_type": "code",
   "execution_count": 284,
   "id": "3ba5a857-0d00-4bf8-b9ea-efbc7a2a4fc1",
   "metadata": {},
   "outputs": [
    {
     "name": "stdout",
     "output_type": "stream",
     "text": [
      "hi        jane\n"
     ]
    }
   ],
   "source": [
    "# 반대쪽인 왼쪽정렬은 %-10s\n",
    "print(\"%-10sjane\" % 'hi')"
   ]
  },
  {
   "cell_type": "code",
   "execution_count": 285,
   "id": "ba9362c1-6736-45e6-8ac9-4bcd6f6f194a",
   "metadata": {},
   "outputs": [
    {
     "name": "stdout",
     "output_type": "stream",
     "text": [
      "3.4213\n"
     ]
    }
   ],
   "source": [
    "# 소수점을 네 번째 자리까지 나타내고 싶은경우\n",
    "print(\"%0.4f\" % 3.42134234)"
   ]
  },
  {
   "cell_type": "code",
   "execution_count": 286,
   "id": "5543463e-dd75-425a-b51e-cef0788cc087",
   "metadata": {},
   "outputs": [
    {
     "name": "stdout",
     "output_type": "stream",
     "text": [
      "    3.4213\n"
     ]
    }
   ],
   "source": [
    "# 소수점을 네 번째 자리까지 정렬하고 오른쪽으로 정렬\n",
    "print(\"%10.4f\" % 3.42134234)"
   ]
  },
  {
   "cell_type": "markdown",
   "id": "ce60e101-a328-4327-9ea3-5c098c8e6cf0",
   "metadata": {},
   "source": [
    "##### 두번째 방법"
   ]
  },
  {
   "cell_type": "code",
   "execution_count": 276,
   "id": "f3542d9d-439c-437b-bea6-678da9bad8aa",
   "metadata": {},
   "outputs": [
    {
     "name": "stdout",
     "output_type": "stream",
     "text": [
      "I eat five apples. So I sicked 2 days\n",
      "I eat 2 apples. So I sicked five days\n",
      "I eat 2 apples. So I sicked 2 days\n"
     ]
    }
   ],
   "source": [
    "number = \"five\"\n",
    "day =2\n",
    "print(\"I eat {0} apples. So I sicked {1} days\".format(number,day))\n",
    "print(\"I eat {1} apples. So I sicked {0} days\".format(number,day))\n",
    "print(\"I eat {1} apples. So I sicked {1} days\".format(number,day))"
   ]
  },
  {
   "cell_type": "code",
   "execution_count": 207,
   "id": "e467fe0b-6e1f-4ab2-958c-1f87b51cacf6",
   "metadata": {},
   "outputs": [
    {
     "name": "stdout",
     "output_type": "stream",
     "text": [
      "I eat five apples. So I sicked 2 days\n"
     ]
    }
   ],
   "source": [
    "print(\"I eat {number} apples. So I sicked {day} days\".format(number=\"five\",day=2))"
   ]
  },
  {
   "cell_type": "code",
   "execution_count": 288,
   "id": "27d6b41c-33fa-4786-a24c-8e11c5076356",
   "metadata": {},
   "outputs": [
    {
     "name": "stdout",
     "output_type": "stream",
     "text": [
      "hi        \n"
     ]
    }
   ],
   "source": [
    "\n",
    "print(\"{0:<10}\".format(\"hi\"))"
   ]
  },
  {
   "cell_type": "code",
   "execution_count": 289,
   "id": "e6af67ca-5286-47b1-8f9e-67b9493e7f53",
   "metadata": {},
   "outputs": [
    {
     "name": "stdout",
     "output_type": "stream",
     "text": [
      "        hi\n"
     ]
    }
   ],
   "source": [
    "print(\"{0:>10}\".format(\"hi\"))"
   ]
  },
  {
   "cell_type": "code",
   "execution_count": 290,
   "id": "cf6fdc08-709d-4caa-9a4d-fb21be0f23ce",
   "metadata": {},
   "outputs": [
    {
     "name": "stdout",
     "output_type": "stream",
     "text": [
      "    hi    \n"
     ]
    }
   ],
   "source": [
    "print(\"{0:^10}\".format(\"hi\"))"
   ]
  },
  {
   "cell_type": "code",
   "execution_count": 292,
   "id": "474496ce-78fd-43cd-83be-6cd0d047cf7e",
   "metadata": {},
   "outputs": [
    {
     "name": "stdout",
     "output_type": "stream",
     "text": [
      "====hi====\n"
     ]
    }
   ],
   "source": [
    "print(\"{0:=^10}\".format(\"hi\"))"
   ]
  },
  {
   "cell_type": "code",
   "execution_count": 294,
   "id": "f1e1465a-8b93-46b9-9f6b-dc2a22862a33",
   "metadata": {},
   "outputs": [
    {
     "name": "stdout",
     "output_type": "stream",
     "text": [
      "hi!!!!!!!!\n"
     ]
    }
   ],
   "source": [
    "print(\"{0:!<10}\".format(\"hi\"))"
   ]
  },
  {
   "cell_type": "code",
   "execution_count": 296,
   "id": "b1f8a021-7a16-4ac8-9f7f-28d424395d23",
   "metadata": {},
   "outputs": [
    {
     "name": "stdout",
     "output_type": "stream",
     "text": [
      "3.4213\n"
     ]
    }
   ],
   "source": [
    "print(\"{0:0.4f}\".format(3.42134234))"
   ]
  },
  {
   "cell_type": "code",
   "execution_count": 305,
   "id": "c130520d-3d9a-4b90-8ced-1cff427c867c",
   "metadata": {},
   "outputs": [
    {
     "name": "stdout",
     "output_type": "stream",
     "text": [
      "    3.4213\n"
     ]
    }
   ],
   "source": [
    "print(\"{0:10.4f}\".format(3.42134234))"
   ]
  },
  {
   "cell_type": "code",
   "execution_count": 306,
   "id": "64fb21e3-40c6-4621-bbe2-2f34079f0da5",
   "metadata": {},
   "outputs": [
    {
     "name": "stdout",
     "output_type": "stream",
     "text": [
      "============3.4213============\n"
     ]
    }
   ],
   "source": [
    "print(\"{0:=^30.4f}\".format(3.42134234))"
   ]
  },
  {
   "cell_type": "markdown",
   "id": "5bef2078-fe23-478e-bab4-f0505a5f8b8d",
   "metadata": {},
   "source": [
    "##### 세번째 방법 f-string"
   ]
  },
  {
   "cell_type": "code",
   "execution_count": 307,
   "id": "3e63bca3-3fdf-488e-80cd-ba1db45702ce",
   "metadata": {},
   "outputs": [
    {
     "name": "stdout",
     "output_type": "stream",
     "text": [
      "I eat five apples. So I sicked 2 days\n"
     ]
    }
   ],
   "source": [
    "number = \"five\"\n",
    "day =2\n",
    "print(f\"I eat {number} apples. So I sicked {day} days\")"
   ]
  },
  {
   "cell_type": "code",
   "execution_count": 308,
   "id": "9f12bf18-5cbb-4d12-8335-954d2b736243",
   "metadata": {},
   "outputs": [
    {
     "name": "stdout",
     "output_type": "stream",
     "text": [
      "나는 내년이면 31살이 된다.\n"
     ]
    }
   ],
   "source": [
    "age = 30\n",
    "print(f'나는 내년이면 {age+1}살이 된다.')"
   ]
  },
  {
   "cell_type": "code",
   "execution_count": 309,
   "id": "33df58bd-b827-4079-a2e9-0f60e20425d6",
   "metadata": {},
   "outputs": [
    {
     "name": "stdout",
     "output_type": "stream",
     "text": [
      "나의 이름은 홍길동입니다. 나이는 30입니다.\n"
     ]
    }
   ],
   "source": [
    "d = {'name':'홍길동', 'age':30}\n",
    "print(f'나의 이름은 {d[\"name\"]}입니다. 나이는 {d[\"age\"]}입니다.')"
   ]
  },
  {
   "cell_type": "code",
   "execution_count": 311,
   "id": "2b9d8c1a-54c0-489e-9f25-b3baa38dc49e",
   "metadata": {},
   "outputs": [
    {
     "name": "stdout",
     "output_type": "stream",
     "text": [
      "hi        \n",
      "        hi\n",
      "    hi    \n"
     ]
    }
   ],
   "source": [
    "print(f'{\"hi\":<10}')\n",
    "print(f'{\"hi\":>10}')\n",
    "print(f'{\"hi\":^10}')"
   ]
  },
  {
   "cell_type": "code",
   "execution_count": 314,
   "id": "f7800968-9fe1-467b-a235-2302429bc619",
   "metadata": {},
   "outputs": [
    {
     "name": "stdout",
     "output_type": "stream",
     "text": [
      "====hi====\n",
      "hi!!!!!!!!\n"
     ]
    }
   ],
   "source": [
    "print(f'{\"hi\":=^10}')\n",
    "print(f'{\"hi\":!<10}')"
   ]
  },
  {
   "cell_type": "code",
   "execution_count": 318,
   "id": "2a4f7be2-f227-4bab-86e8-142e02234211",
   "metadata": {},
   "outputs": [
    {
     "name": "stdout",
     "output_type": "stream",
     "text": [
      "3.4213\n",
      "    3.4213\n"
     ]
    }
   ],
   "source": [
    "y = 3.42134234\n",
    "print(f'{y:0.4f}')\n",
    "print(f'{y:10.4f}')"
   ]
  },
  {
   "cell_type": "markdown",
   "id": "3a17a16e-4a67-45f1-a02f-3ff47bb0c525",
   "metadata": {},
   "source": [
    "#### 문자열 관련 함수"
   ]
  },
  {
   "cell_type": "code",
   "execution_count": 319,
   "id": "1b52721b-3318-44ac-9bac-e18b8a8e354b",
   "metadata": {},
   "outputs": [],
   "source": [
    "a = \"Hello\""
   ]
  },
  {
   "cell_type": "code",
   "execution_count": 320,
   "id": "dac2b476-bfdc-472d-8cef-5f6ccbcb7ee0",
   "metadata": {},
   "outputs": [
    {
     "data": {
      "text/plain": [
       "5"
      ]
     },
     "execution_count": 320,
     "metadata": {},
     "output_type": "execute_result"
    }
   ],
   "source": [
    "len(a)"
   ]
  },
  {
   "cell_type": "code",
   "execution_count": 321,
   "id": "d608cee9-6929-490f-bbfc-7b420c0017b6",
   "metadata": {},
   "outputs": [
    {
     "data": {
      "text/plain": [
       "2"
      ]
     },
     "execution_count": 321,
     "metadata": {},
     "output_type": "execute_result"
    }
   ],
   "source": [
    "# 문자열중 해당 문자의 갯수를 세는 함수 count\n",
    "\"Hello\".count(\"l\")"
   ]
  },
  {
   "cell_type": "code",
   "execution_count": 322,
   "id": "695ee766-63b9-4442-9931-ee08547957b5",
   "metadata": {},
   "outputs": [
    {
     "data": {
      "text/plain": [
       "2"
      ]
     },
     "execution_count": 322,
     "metadata": {},
     "output_type": "execute_result"
    }
   ],
   "source": [
    "a.count(\"l\")"
   ]
  },
  {
   "cell_type": "code",
   "execution_count": 323,
   "id": "b4762239-7e13-438c-9f0f-92f89deaf1c6",
   "metadata": {},
   "outputs": [
    {
     "data": {
      "text/plain": [
       "str"
      ]
     },
     "execution_count": 323,
     "metadata": {},
     "output_type": "execute_result"
    }
   ],
   "source": [
    "type(a)"
   ]
  },
  {
   "cell_type": "code",
   "execution_count": 324,
   "id": "b974a35a-8972-4b2b-9600-9d7568bc0d70",
   "metadata": {},
   "outputs": [
    {
     "data": {
      "text/plain": [
       "'HELLO'"
      ]
     },
     "execution_count": 324,
     "metadata": {},
     "output_type": "execute_result"
    }
   ],
   "source": [
    "# 객체지향 (object Oriented )\n",
    "'''type(a):str, int\n",
    "\"Hello\"\n",
    "car go\n",
    "객체란\n",
    "    동사: 메소드 go(), back(), turn()\n",
    "    형용사: 속성 color, size,\n",
    "car.go()  car.turn() \n",
    "car.color car.size'''\n",
    "\n",
    "a = \"Hello\"\n",
    "a.upper()"
   ]
  },
  {
   "cell_type": "code",
   "execution_count": 325,
   "id": "f14a7782-6c1c-4761-bf08-8edca3ef4350",
   "metadata": {},
   "outputs": [],
   "source": [
    "b = 3"
   ]
  },
  {
   "cell_type": "code",
   "execution_count": 326,
   "id": "99f76f4c-5d66-43a7-a03f-44f045af135a",
   "metadata": {},
   "outputs": [
    {
     "data": {
      "text/plain": [
       "int"
      ]
     },
     "execution_count": 326,
     "metadata": {},
     "output_type": "execute_result"
    }
   ],
   "source": [
    "type(b)"
   ]
  },
  {
   "cell_type": "code",
   "execution_count": 327,
   "id": "d87f3607-90db-4eca-9d9a-162d50d3e6fc",
   "metadata": {},
   "outputs": [
    {
     "data": {
      "text/plain": [
       "'hello'"
      ]
     },
     "execution_count": 327,
     "metadata": {},
     "output_type": "execute_result"
    }
   ],
   "source": [
    "\"HELLO\".lower()"
   ]
  },
  {
   "cell_type": "code",
   "execution_count": 328,
   "id": "c055d6ad-d425-4d07-80c6-e0c1c324470a",
   "metadata": {},
   "outputs": [
    {
     "data": {
      "text/plain": [
       "'Hello'"
      ]
     },
     "execution_count": 328,
     "metadata": {},
     "output_type": "execute_result"
    }
   ],
   "source": [
    "a"
   ]
  },
  {
   "cell_type": "code",
   "execution_count": 329,
   "id": "48684333-a226-4390-b1b0-160f3b4970ce",
   "metadata": {},
   "outputs": [
    {
     "data": {
      "text/plain": [
       "4"
      ]
     },
     "execution_count": 329,
     "metadata": {},
     "output_type": "execute_result"
    }
   ],
   "source": [
    "# 문자열 중 해당 문자가 처음으로 나온 위치를 반환한다. 만약 존재하지 않는다면 -1를 반환한다\n",
    "a.find(\"o\")"
   ]
  },
  {
   "cell_type": "code",
   "execution_count": 220,
   "id": "e04ee64f-2b3c-4775-aade-01dbc644f638",
   "metadata": {},
   "outputs": [
    {
     "data": {
      "text/plain": [
       "0"
      ]
     },
     "execution_count": 220,
     "metadata": {},
     "output_type": "execute_result"
    }
   ],
   "source": [
    "a.find(\"H\")"
   ]
  },
  {
   "cell_type": "code",
   "execution_count": 330,
   "id": "10cc2068-d0bd-422d-9478-b78a6006ef32",
   "metadata": {},
   "outputs": [
    {
     "data": {
      "text/plain": [
       "4"
      ]
     },
     "execution_count": 330,
     "metadata": {},
     "output_type": "execute_result"
    }
   ],
   "source": [
    "# 앞의 find함수와 다른 점은 문자열 안에 존재하지 않는 문자를 찾으면 오류가 발생한다는 점이다\n",
    "a.index(\"o\")"
   ]
  },
  {
   "cell_type": "code",
   "execution_count": 222,
   "id": "5f83a183-da1b-4aab-86fb-42aa341fdefb",
   "metadata": {},
   "outputs": [
    {
     "data": {
      "text/plain": [
       "2"
      ]
     },
     "execution_count": 222,
     "metadata": {},
     "output_type": "execute_result"
    }
   ],
   "source": [
    "a.index(\"l\")"
   ]
  },
  {
   "cell_type": "code",
   "execution_count": 331,
   "id": "81543936-9eec-43f2-9640-b665e060f251",
   "metadata": {},
   "outputs": [
    {
     "data": {
      "text/plain": [
       "'a,b,c,d'"
      ]
     },
     "execution_count": 331,
     "metadata": {},
     "output_type": "execute_result"
    }
   ],
   "source": [
    "#문자열 삽입(join)\n",
    "\",\".join(\"abcd\")"
   ]
  },
  {
   "cell_type": "code",
   "execution_count": 332,
   "id": "0fa20736-0c88-43d3-88c5-1d75034562a1",
   "metadata": {},
   "outputs": [
    {
     "data": {
      "text/plain": [
       "'a:b:c:d'"
      ]
     },
     "execution_count": 332,
     "metadata": {},
     "output_type": "execute_result"
    }
   ],
   "source": [
    "\":\".join(\"abcd\")"
   ]
  },
  {
   "cell_type": "code",
   "execution_count": 336,
   "id": "8647b887-2473-4d29-ba40-0c14540b20eb",
   "metadata": {},
   "outputs": [
    {
     "name": "stdout",
     "output_type": "stream",
     "text": [
      "HELLO\n"
     ]
    }
   ],
   "source": [
    "# 소문자를 대문자로 바꾸기\n",
    "a = \"hello\".upper()\n",
    "print(a)"
   ]
  },
  {
   "cell_type": "code",
   "execution_count": 334,
   "id": "c792d18d-c26b-425f-967d-7170e185ce41",
   "metadata": {},
   "outputs": [
    {
     "data": {
      "text/plain": [
       "str"
      ]
     },
     "execution_count": 334,
     "metadata": {},
     "output_type": "execute_result"
    }
   ],
   "source": [
    "type(a)"
   ]
  },
  {
   "cell_type": "code",
   "execution_count": 335,
   "id": "b3e486ff-9abf-42dc-b3f2-729db5253716",
   "metadata": {},
   "outputs": [
    {
     "data": {
      "text/plain": [
       "'hello'"
      ]
     },
     "execution_count": 335,
     "metadata": {},
     "output_type": "execute_result"
    }
   ],
   "source": [
    "# 대문자를 소문자로 바꾸기\n",
    "\"HELLO\".lower()"
   ]
  },
  {
   "cell_type": "code",
   "execution_count": 337,
   "id": "af8e37f8-ddbc-49c6-a87c-8d56f3ad3f84",
   "metadata": {},
   "outputs": [
    {
     "data": {
      "text/plain": [
       "'Hello'"
      ]
     },
     "execution_count": 337,
     "metadata": {},
     "output_type": "execute_result"
    }
   ],
   "source": [
    "#capitalize함수는 첫번째 문자를 대문자로 바꾼다\n",
    "\"hello\".upper().lower().capitalize()"
   ]
  },
  {
   "cell_type": "code",
   "execution_count": 338,
   "id": "25a36b95-10d3-4386-af5c-7bef8e5d11f1",
   "metadata": {},
   "outputs": [
    {
     "name": "stdout",
     "output_type": "stream",
     "text": [
      "   Hello   \n"
     ]
    }
   ],
   "source": [
    "a = \"   Hello   \"\n",
    "print(a)"
   ]
  },
  {
   "cell_type": "code",
   "execution_count": 343,
   "id": "21ebf197-ccec-476b-aa61-6f679cd707c9",
   "metadata": {},
   "outputs": [
    {
     "data": {
      "text/plain": [
       "11"
      ]
     },
     "execution_count": 343,
     "metadata": {},
     "output_type": "execute_result"
    }
   ],
   "source": [
    "# 공백은 문자로 처리\n",
    "len(a)"
   ]
  },
  {
   "cell_type": "code",
   "execution_count": 344,
   "id": "5a4dca22-eb86-4b30-a833-4b258368786a",
   "metadata": {},
   "outputs": [
    {
     "data": {
      "text/plain": [
       "'Hello'"
      ]
     },
     "execution_count": 344,
     "metadata": {},
     "output_type": "execute_result"
    }
   ],
   "source": [
    "# strip함수는 공백을 지운다\n",
    "a.strip()"
   ]
  },
  {
   "cell_type": "code",
   "execution_count": 345,
   "id": "41c939b2-ac9c-4896-9d59-b859a0f14070",
   "metadata": {},
   "outputs": [
    {
     "data": {
      "text/plain": [
       "11"
      ]
     },
     "execution_count": 345,
     "metadata": {},
     "output_type": "execute_result"
    }
   ],
   "source": [
    "# 공백을 지운것 처럼 보이지만 문자갯수는 줄지 않았다\n",
    "len(a)"
   ]
  },
  {
   "cell_type": "code",
   "execution_count": 346,
   "id": "5164724c-1b9c-467d-a6bd-77e88d139ee2",
   "metadata": {},
   "outputs": [
    {
     "data": {
      "text/plain": [
       "'   Hello'"
      ]
     },
     "execution_count": 346,
     "metadata": {},
     "output_type": "execute_result"
    }
   ],
   "source": [
    "# 우측 공백지우기\n",
    "a.rstrip()"
   ]
  },
  {
   "cell_type": "code",
   "execution_count": 347,
   "id": "1657f483-e5bd-4fce-a437-148a63f50f8a",
   "metadata": {},
   "outputs": [
    {
     "data": {
      "text/plain": [
       "'Hello   '"
      ]
     },
     "execution_count": 347,
     "metadata": {},
     "output_type": "execute_result"
    }
   ],
   "source": [
    "# 좌측 공백 지우기\n",
    "a.lstrip()"
   ]
  },
  {
   "cell_type": "code",
   "execution_count": 348,
   "id": "5229ea45-c44e-4226-bfe8-42df0c1d72df",
   "metadata": {},
   "outputs": [
    {
     "data": {
      "text/plain": [
       "'   Hi   '"
      ]
     },
     "execution_count": 348,
     "metadata": {},
     "output_type": "execute_result"
    }
   ],
   "source": [
    "# replace(바뀌게 될 문자열,바꿀문자열) 함수는 문자열 안의 특정한 값을 다른값으로 치환한다\n",
    "a.replace(\"Hello\", \"Hi\")"
   ]
  },
  {
   "cell_type": "code",
   "execution_count": 349,
   "id": "8f7d2890-4bf0-4c7e-86e7-9241e288826c",
   "metadata": {},
   "outputs": [
    {
     "name": "stdout",
     "output_type": "stream",
     "text": [
      "Life is short\n"
     ]
    }
   ],
   "source": [
    "a = \"Life is short\"\n",
    "print(a)"
   ]
  },
  {
   "cell_type": "code",
   "execution_count": 350,
   "id": "dc00d386-4955-444e-b9ac-5a9eee7d34e9",
   "metadata": {},
   "outputs": [
    {
     "data": {
      "text/plain": [
       "['Life', 'is', 'short']"
      ]
     },
     "execution_count": 350,
     "metadata": {},
     "output_type": "execute_result"
    }
   ],
   "source": [
    "# split함수는 문자열을 나눈다\n",
    "a.split()"
   ]
  },
  {
   "cell_type": "markdown",
   "id": "dc5f17f8-7a94-4242-a1c7-2ff300789278",
   "metadata": {},
   "source": [
    "a = \"a:b:c:d\"\n",
    "a.split(\":\")"
   ]
  },
  {
   "cell_type": "code",
   "execution_count": 239,
   "id": "b3bd5faa-74cd-4bb1-80c4-1e92bb0b6b04",
   "metadata": {},
   "outputs": [
    {
     "name": "stdin",
     "output_type": "stream",
     "text": [
      " a,b,c,d\n"
     ]
    },
    {
     "data": {
      "text/plain": [
       "['a', 'b', 'c', 'd']"
      ]
     },
     "execution_count": 239,
     "metadata": {},
     "output_type": "execute_result"
    }
   ],
   "source": [
    "input().split(\",\")"
   ]
  },
  {
   "cell_type": "code",
   "execution_count": 168,
   "id": "63b4122c-5de8-4fa9-a1e3-39473f21439c",
   "metadata": {},
   "outputs": [
    {
     "data": {
      "text/plain": [
       "'A:B:C:D'"
      ]
     },
     "execution_count": 168,
     "metadata": {},
     "output_type": "execute_result"
    }
   ],
   "source": [
    "a.title()"
   ]
  },
  {
   "cell_type": "code",
   "execution_count": 170,
   "id": "ad672cbe-0c04-4b1b-922a-15301e62a748",
   "metadata": {},
   "outputs": [
    {
     "data": {
      "text/plain": [
       "'Life Is Short'"
      ]
     },
     "execution_count": 170,
     "metadata": {},
     "output_type": "execute_result"
    }
   ],
   "source": [
    "\"Life is short\".title()"
   ]
  },
  {
   "cell_type": "markdown",
   "id": "434d5d65-36d0-4505-b9ac-ad5cd071dea7",
   "metadata": {},
   "source": [
    "## 참거짓형(불 자료형)\n",
    "boolean, bool"
   ]
  },
  {
   "cell_type": "code",
   "execution_count": 224,
   "id": "0aeb4dd7-e450-4922-b0ed-8ed236c22b95",
   "metadata": {},
   "outputs": [
    {
     "data": {
      "text/plain": [
       "True"
      ]
     },
     "execution_count": 224,
     "metadata": {},
     "output_type": "execute_result"
    }
   ],
   "source": [
    "1 == 1"
   ]
  },
  {
   "cell_type": "code",
   "execution_count": 226,
   "id": "05945538-0cf4-4324-8d52-0d59c3a8f861",
   "metadata": {},
   "outputs": [
    {
     "data": {
      "text/plain": [
       "False"
      ]
     },
     "execution_count": 226,
     "metadata": {},
     "output_type": "execute_result"
    }
   ],
   "source": [
    "1 > 2"
   ]
  },
  {
   "cell_type": "code",
   "execution_count": 227,
   "id": "4760cd22-d389-4b74-b2d9-4a2fd6d85be4",
   "metadata": {},
   "outputs": [
    {
     "name": "stdout",
     "output_type": "stream",
     "text": [
      "1\n",
      "2\n",
      "3\n"
     ]
    }
   ],
   "source": [
    "for i in [ 1, 2, 3]:\n",
    "    print(i)"
   ]
  },
  {
   "cell_type": "code",
   "execution_count": 230,
   "id": "6086d56d-648f-494c-b11f-d82606b09c43",
   "metadata": {},
   "outputs": [
    {
     "name": "stdout",
     "output_type": "stream",
     "text": [
      "참일 때 실행\n"
     ]
    }
   ],
   "source": [
    "if 1 < 2:\n",
    "    print(\"참일 때 실행\")\n",
    "else :\n",
    "    print(\"거짓일 때 실행\")"
   ]
  },
  {
   "cell_type": "code",
   "execution_count": 231,
   "id": "b47bbafc-7df4-4108-893e-81cb8413fd10",
   "metadata": {},
   "outputs": [
    {
     "name": "stdout",
     "output_type": "stream",
     "text": [
      "거짓일 때 실행\n"
     ]
    }
   ],
   "source": [
    "if 1 > 2:\n",
    "    print(\"참일 때 실행\")\n",
    "else :\n",
    "    print(\"거짓일 때 실행\")"
   ]
  },
  {
   "cell_type": "code",
   "execution_count": 235,
   "id": "9e0e5013-3598-42d9-bd74-c3d75407781d",
   "metadata": {},
   "outputs": [
    {
     "name": "stdout",
     "output_type": "stream",
     "text": [
      "참일 때 실행\n"
     ]
    }
   ],
   "source": [
    "if -1:\n",
    "    print(\"참일 때 실행\")\n",
    "else :\n",
    "    print(\"거짓일 때 실행\")"
   ]
  },
  {
   "cell_type": "code",
   "execution_count": 236,
   "id": "6642728a-d693-4936-8f70-c3454c0b3023",
   "metadata": {},
   "outputs": [
    {
     "name": "stdout",
     "output_type": "stream",
     "text": [
      "거짓일 때 실행\n"
     ]
    }
   ],
   "source": [
    "if 0:\n",
    "    print(\"참일 때 실행\")\n",
    "else :\n",
    "    print(\"거짓일 때 실행\")"
   ]
  },
  {
   "cell_type": "markdown",
   "id": "42f03e73-7f0a-4ab4-97ad-edfd4d5288d0",
   "metadata": {},
   "source": [
    "숫자중 0 만 거짓이다"
   ]
  },
  {
   "cell_type": "code",
   "execution_count": 238,
   "id": "dcd7c4b6-4f92-48f1-8add-5316b9cd91f8",
   "metadata": {},
   "outputs": [
    {
     "name": "stdout",
     "output_type": "stream",
     "text": [
      "참일 때 실행\n"
     ]
    }
   ],
   "source": [
    "if \"Hello\":\n",
    "    print(\"참일 때 실행\")\n",
    "else :\n",
    "    print(\"거짓일 때 실행\")"
   ]
  },
  {
   "cell_type": "code",
   "execution_count": 239,
   "id": "7b16544f-c26e-4f3e-948f-7aaa55378749",
   "metadata": {},
   "outputs": [
    {
     "name": "stdout",
     "output_type": "stream",
     "text": [
      "거짓일 때 실행\n"
     ]
    }
   ],
   "source": [
    "if \"\":\n",
    "    print(\"참일 때 실행\")\n",
    "else :\n",
    "    print(\"거짓일 때 실행\")"
   ]
  },
  {
   "cell_type": "markdown",
   "id": "ddd94b33-6dd4-44cc-9548-80d7df6bcaa1",
   "metadata": {},
   "source": [
    "문자열은 텅빈것만 거짓이다"
   ]
  },
  {
   "cell_type": "markdown",
   "id": "8c52df5a-339c-4ab8-bc19-4f13c8eac54c",
   "metadata": {},
   "source": [
    "```\n",
    "    문자열 \"\"같이 값이 없는것만 거짓\n",
    "    숫자형 0 만 거짓\n",
    "    리스트 []같이 리스트가 비어있는것이 거짓\n",
    "    튜플 딕셔너리도 리스트와 마찬가지\n",
    "```"
   ]
  },
  {
   "cell_type": "code",
   "execution_count": 240,
   "id": "17013e5f-d7ff-4327-8e5f-e01a64429fb0",
   "metadata": {},
   "outputs": [
    {
     "data": {
      "text/plain": [
       "True"
      ]
     },
     "execution_count": 240,
     "metadata": {},
     "output_type": "execute_result"
    }
   ],
   "source": [
    "a = True\n",
    "a"
   ]
  },
  {
   "cell_type": "code",
   "execution_count": 241,
   "id": "29fab7a8-2d48-485f-ad77-b1704a37dcee",
   "metadata": {},
   "outputs": [
    {
     "data": {
      "text/plain": [
       "bool"
      ]
     },
     "execution_count": 241,
     "metadata": {},
     "output_type": "execute_result"
    }
   ],
   "source": [
    "type(a)"
   ]
  },
  {
   "cell_type": "code",
   "execution_count": 245,
   "id": "aafee6f1-80cb-45c7-98e2-b637a23466ca",
   "metadata": {},
   "outputs": [
    {
     "data": {
      "text/plain": [
       "True"
      ]
     },
     "execution_count": 245,
     "metadata": {},
     "output_type": "execute_result"
    }
   ],
   "source": [
    "a = 1 < 2\n",
    "a"
   ]
  },
  {
   "cell_type": "code",
   "execution_count": 246,
   "id": "3351270c-e476-433c-8634-b213326259ba",
   "metadata": {},
   "outputs": [
    {
     "data": {
      "text/plain": [
       "True"
      ]
     },
     "execution_count": 246,
     "metadata": {},
     "output_type": "execute_result"
    }
   ],
   "source": [
    "bool(2)"
   ]
  },
  {
   "cell_type": "code",
   "execution_count": 247,
   "id": "85c399c6-31e0-41e1-8387-2e2468d3c71d",
   "metadata": {},
   "outputs": [
    {
     "data": {
      "text/plain": [
       "False"
      ]
     },
     "execution_count": 247,
     "metadata": {},
     "output_type": "execute_result"
    }
   ],
   "source": [
    "bool(0)"
   ]
  },
  {
   "cell_type": "markdown",
   "id": "ffec8ff2-e7a2-4d80-a66d-022854551bd4",
   "metadata": {},
   "source": [
    "## 데이터 형변환"
   ]
  },
  {
   "cell_type": "markdown",
   "id": "75193e4f-003f-4a58-a19c-1d018b613288",
   "metadata": {},
   "source": [
    "```\n",
    " 숫자: inttger , floating point \n",
    "       int,      float\n",
    "       int()     float()\n",
    "       \n",
    " 문자: string\n",
    "       str\n",
    "       str()\n",
    "       \n",
    " 참,거짓: boolean\n",
    "          bool\n",
    "          bool()\n",
    "```"
   ]
  },
  {
   "cell_type": "code",
   "execution_count": 248,
   "id": "d2e5e239-9b85-4d21-b5dd-f4b8573cb920",
   "metadata": {},
   "outputs": [
    {
     "data": {
      "text/plain": [
       "3"
      ]
     },
     "execution_count": 248,
     "metadata": {},
     "output_type": "execute_result"
    }
   ],
   "source": [
    "int(3.14)"
   ]
  },
  {
   "cell_type": "code",
   "execution_count": 249,
   "id": "2072c891-497d-432c-b6dd-dddea5319faf",
   "metadata": {},
   "outputs": [
    {
     "data": {
      "text/plain": [
       "3.0"
      ]
     },
     "execution_count": 249,
     "metadata": {},
     "output_type": "execute_result"
    }
   ],
   "source": [
    "float(3)"
   ]
  },
  {
   "cell_type": "code",
   "execution_count": 252,
   "id": "f0a922dd-29a5-413e-ab1d-e972d80a7ea8",
   "metadata": {},
   "outputs": [
    {
     "data": {
      "text/plain": [
       "1"
      ]
     },
     "execution_count": 252,
     "metadata": {},
     "output_type": "execute_result"
    }
   ],
   "source": [
    "a = '1'\n",
    "a\n",
    "int(a)"
   ]
  },
  {
   "cell_type": "code",
   "execution_count": 253,
   "id": "4da6bd4f-bc2c-4af1-bde0-675a46ffd3d4",
   "metadata": {},
   "outputs": [
    {
     "data": {
      "text/plain": [
       "'2'"
      ]
     },
     "execution_count": 253,
     "metadata": {},
     "output_type": "execute_result"
    }
   ],
   "source": [
    "str(2)"
   ]
  },
  {
   "cell_type": "markdown",
   "id": "1e83ec3e-b864-4e4d-84f7-9219c487c411",
   "metadata": {},
   "source": [
    "- 자료형: 숫자형, 문자형, 참거짓형\n",
    "- 파이썬 고유의 자료형: 리스트, 튜플, 딕셔너리, 집합"
   ]
  },
  {
   "cell_type": "markdown",
   "id": "ed31411b-6c74-46d8-9cfa-582603be96c5",
   "metadata": {},
   "source": [
    "## 리스트"
   ]
  },
  {
   "cell_type": "markdown",
   "id": "ec526dc3-897d-40c4-965d-0c9abcd4e474",
   "metadata": {
    "tags": []
   },
   "source": [
    "### 만들기  \n",
    " 대괄호[]로 묶어준다\n",
    "- 만들기, 접근, 수정, 삭제\n",
    "- CRUD (Creat, Read, Update, Delete)"
   ]
  },
  {
   "cell_type": "code",
   "execution_count": 7,
   "id": "aa46645e-44f6-47ca-96f0-9f552ebaa16f",
   "metadata": {},
   "outputs": [
    {
     "name": "stdout",
     "output_type": "stream",
     "text": [
      "1\n"
     ]
    }
   ],
   "source": [
    "a = 1\n",
    "print(a)"
   ]
  },
  {
   "cell_type": "code",
   "execution_count": 11,
   "id": "ca676095-3540-4adb-8510-21e6c95f8478",
   "metadata": {},
   "outputs": [
    {
     "data": {
      "text/plain": [
       "int"
      ]
     },
     "execution_count": 11,
     "metadata": {},
     "output_type": "execute_result"
    }
   ],
   "source": [
    "type(a)"
   ]
  },
  {
   "cell_type": "code",
   "execution_count": 10,
   "id": "253aa2c3-14b9-4c56-9825-842b34a00c10",
   "metadata": {},
   "outputs": [
    {
     "name": "stdout",
     "output_type": "stream",
     "text": [
      "[1, 2, 3]\n"
     ]
    }
   ],
   "source": [
    "# 2개이상의 숫자를 하나로 묶어주는것\n",
    "b = [1,2,3]\n",
    "print(b)"
   ]
  },
  {
   "cell_type": "code",
   "execution_count": 12,
   "id": "5908e6b6-727c-44b4-8491-765af6662af9",
   "metadata": {},
   "outputs": [
    {
     "data": {
      "text/plain": [
       "list"
      ]
     },
     "execution_count": 12,
     "metadata": {},
     "output_type": "execute_result"
    }
   ],
   "source": [
    "type(b)"
   ]
  },
  {
   "cell_type": "code",
   "execution_count": 14,
   "id": "eeefacd8-ce9f-48b6-bede-68610eaeb1b2",
   "metadata": {},
   "outputs": [
    {
     "data": {
      "text/plain": [
       "3"
      ]
     },
     "execution_count": 14,
     "metadata": {},
     "output_type": "execute_result"
    }
   ],
   "source": [
    "len(b)"
   ]
  },
  {
   "cell_type": "code",
   "execution_count": 34,
   "id": "8699d017-2bc5-467e-9513-43b4f6da972e",
   "metadata": {},
   "outputs": [],
   "source": [
    "# 리스트 안에는 숫자,문자 심지어 리스트까지 들어갈수 있다\n",
    "# list 안에 list는 nested list(중첩 리스트) 라고 한다\n",
    "\n",
    "a = [1, 2, \"철수\", \"영희\", [10, 11, 12, \"Hello\"]]"
   ]
  },
  {
   "cell_type": "code",
   "execution_count": 16,
   "id": "32a4cc34-18da-4155-951e-8c43b2cd355f",
   "metadata": {},
   "outputs": [
    {
     "data": {
      "text/plain": [
       "5"
      ]
     },
     "execution_count": 16,
     "metadata": {},
     "output_type": "execute_result"
    }
   ],
   "source": [
    "# 리스트안에 리스트는 묶어서 하나로 취급한다\n",
    "len(a)"
   ]
  },
  {
   "cell_type": "markdown",
   "id": "561d33e6-48f8-4baa-9ed5-7530f5ea3714",
   "metadata": {},
   "source": [
    "### 접근하기\n",
    "\n",
    "- indexing, slicing"
   ]
  },
  {
   "cell_type": "code",
   "execution_count": 19,
   "id": "95ad79dc-4d44-4425-a1f2-882c06d248d5",
   "metadata": {},
   "outputs": [
    {
     "data": {
      "text/plain": [
       "[1, 2, '철수', '영희', [10, 11, 12, 'Hello']]"
      ]
     },
     "execution_count": 19,
     "metadata": {},
     "output_type": "execute_result"
    }
   ],
   "source": [
    "a"
   ]
  },
  {
   "cell_type": "code",
   "execution_count": 39,
   "id": "e895dc47-461d-4e65-b4c4-af50fd067826",
   "metadata": {},
   "outputs": [
    {
     "data": {
      "text/plain": [
       "'철수'"
      ]
     },
     "execution_count": 39,
     "metadata": {},
     "output_type": "execute_result"
    }
   ],
   "source": [
    "# 리스트의 인덱싱\n",
    "a[2]"
   ]
  },
  {
   "cell_type": "code",
   "execution_count": 21,
   "id": "4c6167e3-148f-4544-90f7-b13a0922096c",
   "metadata": {},
   "outputs": [
    {
     "data": {
      "text/plain": [
       "[10, 11, 12, 'Hello']"
      ]
     },
     "execution_count": 21,
     "metadata": {},
     "output_type": "execute_result"
    }
   ],
   "source": [
    "a[4]"
   ]
  },
  {
   "cell_type": "code",
   "execution_count": 27,
   "id": "8a63886b-1a41-4db4-981a-8e71ccfed03d",
   "metadata": {},
   "outputs": [
    {
     "data": {
      "text/plain": [
       "12"
      ]
     },
     "execution_count": 27,
     "metadata": {},
     "output_type": "execute_result"
    }
   ],
   "source": [
    "# 리스트 안에 리스트를 꺼내는법\n",
    "a[4][2]"
   ]
  },
  {
   "cell_type": "code",
   "execution_count": 40,
   "id": "85a1475f-eb32-4c79-b7b2-d5625b00e7f7",
   "metadata": {},
   "outputs": [
    {
     "data": {
      "text/plain": [
       "'llo'"
      ]
     },
     "execution_count": 40,
     "metadata": {},
     "output_type": "execute_result"
    }
   ],
   "source": [
    "# llo 를 출력해 주세요(slicing)\n",
    "a[4][3][2:]"
   ]
  },
  {
   "cell_type": "markdown",
   "id": "c2ffc99d-c314-46d3-82bb-4665cd892f40",
   "metadata": {},
   "source": [
    "옆에 대괄호가 추가될수록 하위 리스트로 들어감"
   ]
  },
  {
   "cell_type": "code",
   "execution_count": 38,
   "id": "3b3d70e6-ea7d-4f8f-9ded-d26667aa5ddf",
   "metadata": {
    "jupyter": {
     "source_hidden": true
    },
    "tags": []
   },
   "outputs": [
    {
     "data": {
      "text/plain": [
       "[2, 3]"
      ]
     },
     "execution_count": 38,
     "metadata": {},
     "output_type": "execute_result"
    }
   ],
   "source": [
    "c = [1,2,3,4,5,]\n",
    "result = c[1:3]\n",
    "result"
   ]
  },
  {
   "cell_type": "markdown",
   "id": "f724ecbf-0a89-487d-8b97-b3a19cbf7e69",
   "metadata": {},
   "source": [
    "### 연산하기"
   ]
  },
  {
   "cell_type": "code",
   "execution_count": 68,
   "id": "a0a09f26-c840-460a-98b4-2b2235632c14",
   "metadata": {},
   "outputs": [],
   "source": [
    "a = [1, 2, 3]\n",
    "b = [4, 5, 6]"
   ]
  },
  {
   "cell_type": "code",
   "execution_count": 69,
   "id": "f411a4ca-5a13-4f58-a709-fa74febe0b8e",
   "metadata": {},
   "outputs": [
    {
     "data": {
      "text/plain": [
       "[1, 2, 3, 4, 5, 6]"
      ]
     },
     "execution_count": 69,
     "metadata": {},
     "output_type": "execute_result"
    }
   ],
   "source": [
    "a + b\n",
    "# concatenate"
   ]
  },
  {
   "cell_type": "code",
   "execution_count": 70,
   "id": "5ab780e1-b288-4cc1-b364-b50f9fdbf5a8",
   "metadata": {},
   "outputs": [
    {
     "data": {
      "text/plain": [
       "[1, 2, 3, 1, 2, 3, 1, 2, 3]"
      ]
     },
     "execution_count": 70,
     "metadata": {},
     "output_type": "execute_result"
    }
   ],
   "source": [
    "a * 3"
   ]
  },
  {
   "cell_type": "markdown",
   "id": "0e290ca0-b854-4a63-891d-c7b240a3531e",
   "metadata": {},
   "source": [
    "리스트의 연산은 문자열의 연산과 똑같다"
   ]
  },
  {
   "cell_type": "markdown",
   "id": "1b3f6407-b92d-42fd-aaa8-024b34e8c09f",
   "metadata": {},
   "source": [
    "### 수정하기"
   ]
  },
  {
   "cell_type": "code",
   "execution_count": 71,
   "id": "e1616474-97a9-4f33-9693-237b01807c7e",
   "metadata": {},
   "outputs": [
    {
     "data": {
      "text/plain": [
       "[1, 2, 3]"
      ]
     },
     "execution_count": 71,
     "metadata": {},
     "output_type": "execute_result"
    }
   ],
   "source": [
    "a"
   ]
  },
  {
   "cell_type": "code",
   "execution_count": 72,
   "id": "8483f4f1-2158-4a83-afcd-6109fbf55c27",
   "metadata": {},
   "outputs": [],
   "source": [
    "# A  =  B\n",
    "# A  <- B 오른쪽에서 왼쪽으로 덮어쓴다\n",
    "\n",
    "a[1] = 20"
   ]
  },
  {
   "cell_type": "code",
   "execution_count": 73,
   "id": "0731c4a2-941d-4d38-9dd6-09ab9ddd0c03",
   "metadata": {},
   "outputs": [
    {
     "name": "stdout",
     "output_type": "stream",
     "text": [
      "[1, 20, 3]\n"
     ]
    }
   ],
   "source": [
    "print(a)"
   ]
  },
  {
   "cell_type": "code",
   "execution_count": 74,
   "id": "f1520fc3-62fd-4a0c-bbd4-66b36eab7fa3",
   "metadata": {},
   "outputs": [
    {
     "data": {
      "text/plain": [
       "[1, 20, 30]"
      ]
     },
     "execution_count": 74,
     "metadata": {},
     "output_type": "execute_result"
    }
   ],
   "source": [
    "a[2] = 30\n",
    "a"
   ]
  },
  {
   "cell_type": "code",
   "execution_count": 75,
   "id": "00ff9172-dd33-461d-bbae-bd59dac621fd",
   "metadata": {},
   "outputs": [
    {
     "data": {
      "text/plain": [
       "[1, 20]"
      ]
     },
     "execution_count": 75,
     "metadata": {},
     "output_type": "execute_result"
    }
   ],
   "source": [
    "del a[2]\n",
    "a"
   ]
  },
  {
   "cell_type": "code",
   "execution_count": 76,
   "id": "ae7a8d18-2cdb-47fb-baa9-ed90c9be3f07",
   "metadata": {},
   "outputs": [
    {
     "name": "stdout",
     "output_type": "stream",
     "text": [
      "[1, 2, 3, 4, 5]\n"
     ]
    },
    {
     "data": {
      "text/plain": [
       "[1, 2]"
      ]
     },
     "execution_count": 76,
     "metadata": {},
     "output_type": "execute_result"
    }
   ],
   "source": [
    "a = [1, 2, 3, 4, 5]\n",
    "print(a)\n",
    "del a[2:]\n",
    "a"
   ]
  },
  {
   "cell_type": "markdown",
   "id": "6ac0677f-9d67-4f9f-a547-b3b5fbd40c4b",
   "metadata": {},
   "source": [
    "### 리스트 관련 함수"
   ]
  },
  {
   "cell_type": "code",
   "execution_count": 255,
   "id": "6909557e-4fe6-4592-8186-76df7ea22e11",
   "metadata": {},
   "outputs": [
    {
     "data": {
      "text/plain": [
       "[1, 2, 3]"
      ]
     },
     "execution_count": 255,
     "metadata": {},
     "output_type": "execute_result"
    }
   ],
   "source": [
    "a = [1, 2, 3]\n",
    "a"
   ]
  },
  {
   "cell_type": "code",
   "execution_count": 256,
   "id": "38156393-5e70-45ac-a235-8b5aad1f8fab",
   "metadata": {},
   "outputs": [
    {
     "data": {
      "text/plain": [
       "[1, 2, 3, 4]"
      ]
     },
     "execution_count": 256,
     "metadata": {},
     "output_type": "execute_result"
    }
   ],
   "source": [
    "# 요소 추가(append)\n",
    "a.append(4)\n",
    "a"
   ]
  },
  {
   "cell_type": "code",
   "execution_count": 257,
   "id": "99199f0d-09cd-4849-969e-370c37b95275",
   "metadata": {},
   "outputs": [
    {
     "data": {
      "text/plain": [
       "[1, 2, 3, 4, '철수']"
      ]
     },
     "execution_count": 257,
     "metadata": {},
     "output_type": "execute_result"
    }
   ],
   "source": [
    "a.append(\"철수\")\n",
    "a"
   ]
  },
  {
   "cell_type": "code",
   "execution_count": 258,
   "id": "b8cab9c8-3b8f-4027-971a-724687a9b85a",
   "metadata": {},
   "outputs": [
    {
     "data": {
      "text/plain": [
       "[1, 2, 3, 4, '철수', [10, 11, 12]]"
      ]
     },
     "execution_count": 258,
     "metadata": {},
     "output_type": "execute_result"
    }
   ],
   "source": [
    "a.append([10, 11, 12])\n",
    "a"
   ]
  },
  {
   "cell_type": "code",
   "execution_count": 259,
   "id": "977519c4-a5b6-4e27-846d-c52d68f60c77",
   "metadata": {},
   "outputs": [
    {
     "data": {
      "text/plain": [
       "[1, 2, 3]"
      ]
     },
     "execution_count": 259,
     "metadata": {},
     "output_type": "execute_result"
    }
   ],
   "source": [
    "# append는 비어있는 리스트에 넣어줄때 주로 사용된다\n",
    "li = []\n",
    "li.append(1)\n",
    "li.append(2)\n",
    "li.append(3)\n",
    "li"
   ]
  },
  {
   "cell_type": "code",
   "execution_count": 260,
   "id": "ca89b89c-3a84-4f29-89f2-d07a30fa097e",
   "metadata": {},
   "outputs": [
    {
     "data": {
      "text/plain": [
       "[1, 3, 2, 4]"
      ]
     },
     "execution_count": 260,
     "metadata": {},
     "output_type": "execute_result"
    }
   ],
   "source": [
    "a = [1,3,2,4]\n",
    "a"
   ]
  },
  {
   "cell_type": "code",
   "execution_count": 261,
   "id": "beac4fa8-8aa0-485b-bb04-4752d05f4041",
   "metadata": {},
   "outputs": [
    {
     "data": {
      "text/plain": [
       "[1, 2, 3, 4]"
      ]
     },
     "execution_count": 261,
     "metadata": {},
     "output_type": "execute_result"
    }
   ],
   "source": [
    "# 정렬하기(sort)\n",
    "a.sort()\n",
    "a"
   ]
  },
  {
   "cell_type": "code",
   "execution_count": 262,
   "id": "22390385-bdfa-412e-a72c-01d31a36ac94",
   "metadata": {},
   "outputs": [
    {
     "data": {
      "text/plain": [
       "['b', 'c', 'a']"
      ]
     },
     "execution_count": 262,
     "metadata": {},
     "output_type": "execute_result"
    }
   ],
   "source": [
    "# 뒤집기(reverse)\n",
    "a = [\"a\", \"c\", \"b\"]\n",
    "a.reverse()\n",
    "a"
   ]
  },
  {
   "cell_type": "code",
   "execution_count": 263,
   "id": "e8502894-43f8-4ca4-b4f2-54c51734fa1c",
   "metadata": {},
   "outputs": [
    {
     "data": {
      "text/plain": [
       "[4, 3, 2, 1]"
      ]
     },
     "execution_count": 263,
     "metadata": {},
     "output_type": "execute_result"
    }
   ],
   "source": [
    "a = [2, 4, 3, 1]\n",
    "# 최종 출력형태는 [4, 3, 2, 1]이 되도록 해봅시다\n",
    "a.sort()\n",
    "a.reverse()\n",
    "a"
   ]
  },
  {
   "cell_type": "code",
   "execution_count": 264,
   "id": "e741e9c9-f233-473b-9680-492ef6f70666",
   "metadata": {},
   "outputs": [
    {
     "data": {
      "text/plain": [
       "1"
      ]
     },
     "execution_count": 264,
     "metadata": {},
     "output_type": "execute_result"
    }
   ],
   "source": [
    "# index는 리스트안의 해당 요소의 위치를 반환해주는 함수\n",
    "a.index(3)"
   ]
  },
  {
   "cell_type": "code",
   "execution_count": 265,
   "id": "2e356dcc-6fc8-40b1-878e-04e5a9d090b9",
   "metadata": {},
   "outputs": [
    {
     "data": {
      "text/plain": [
       "3"
      ]
     },
     "execution_count": 265,
     "metadata": {},
     "output_type": "execute_result"
    }
   ],
   "source": [
    "a.index(1)"
   ]
  },
  {
   "cell_type": "code",
   "execution_count": 266,
   "id": "9ca6e88a-86aa-47c7-8f6c-be2823cbbdda",
   "metadata": {},
   "outputs": [
    {
     "data": {
      "text/plain": [
       "[4, '길동', 3, 2, 1]"
      ]
     },
     "execution_count": 266,
     "metadata": {},
     "output_type": "execute_result"
    }
   ],
   "source": [
    "# insert는 리스트 a번째 위치에 b를 삽입하는 함수\n",
    "a.insert(1, \"길동\")\n",
    "a"
   ]
  },
  {
   "cell_type": "code",
   "execution_count": 267,
   "id": "433f2b59-c815-4f50-864d-6e403723a256",
   "metadata": {},
   "outputs": [
    {
     "data": {
      "text/plain": [
       "[4, 3, 2, 1]"
      ]
     },
     "execution_count": 267,
     "metadata": {},
     "output_type": "execute_result"
    }
   ],
   "source": [
    "# remove는 리스트에서 첫번째로 나오는 요소를 삭제하는 함수\n",
    "a.remove(\"길동\")\n",
    "a"
   ]
  },
  {
   "cell_type": "code",
   "execution_count": 268,
   "id": "6de9eeb8-1471-4205-9c84-1dafa76c0045",
   "metadata": {},
   "outputs": [
    {
     "data": {
      "text/plain": [
       "[1, 2, 3]"
      ]
     },
     "execution_count": 268,
     "metadata": {},
     "output_type": "execute_result"
    }
   ],
   "source": [
    "a = [1,2,3]\n",
    "a"
   ]
  },
  {
   "cell_type": "code",
   "execution_count": 269,
   "id": "70ae28a7-3a53-4969-b772-d1ccda336bba",
   "metadata": {},
   "outputs": [
    {
     "data": {
      "text/plain": [
       "3"
      ]
     },
     "execution_count": 269,
     "metadata": {},
     "output_type": "execute_result"
    }
   ],
   "source": [
    "# 리스트의 맨 마지막 요소를 보여주고 그 요소는 삭제한다\n",
    "a.pop()"
   ]
  },
  {
   "cell_type": "code",
   "execution_count": 138,
   "id": "9e70450e-27fa-4ff3-bc9e-c84ae83d2e7e",
   "metadata": {},
   "outputs": [
    {
     "data": {
      "text/plain": [
       "[1, 2]"
      ]
     },
     "execution_count": 138,
     "metadata": {},
     "output_type": "execute_result"
    }
   ],
   "source": [
    "a\n",
    "# pop에 의해 보여진 3은 지워졌다"
   ]
  },
  {
   "cell_type": "code",
   "execution_count": 139,
   "id": "f80dc120-2623-4a9d-81a0-5e8a5cefaebc",
   "metadata": {},
   "outputs": [
    {
     "data": {
      "text/plain": [
       "2"
      ]
     },
     "execution_count": 139,
     "metadata": {},
     "output_type": "execute_result"
    }
   ],
   "source": [
    "a.pop()"
   ]
  },
  {
   "cell_type": "code",
   "execution_count": 140,
   "id": "d1cf13ab-8fce-43a1-8274-9d1b25dd1156",
   "metadata": {},
   "outputs": [
    {
     "data": {
      "text/plain": [
       "[1]"
      ]
     },
     "execution_count": 140,
     "metadata": {},
     "output_type": "execute_result"
    }
   ],
   "source": [
    "a"
   ]
  },
  {
   "cell_type": "code",
   "execution_count": 270,
   "id": "7f97e87a-26e7-4365-87c8-1f746848800d",
   "metadata": {},
   "outputs": [
    {
     "data": {
      "text/plain": [
       "3"
      ]
     },
     "execution_count": 270,
     "metadata": {},
     "output_type": "execute_result"
    }
   ],
   "source": [
    "# count는 리스트안에 요소의 갯수를 세는 함수\n",
    "a = [1, 2, 3, 1, 2, 1]\n",
    "a.count(1)"
   ]
  },
  {
   "cell_type": "code",
   "execution_count": 271,
   "id": "c3546503-f1e0-4291-9702-c442a3e70315",
   "metadata": {},
   "outputs": [
    {
     "data": {
      "text/plain": [
       "[1, 2, 3, 1, 2, 1, [4, 5]]"
      ]
     },
     "execution_count": 271,
     "metadata": {},
     "output_type": "execute_result"
    }
   ],
   "source": [
    "a.append([4, 5])\n",
    "a"
   ]
  },
  {
   "cell_type": "code",
   "execution_count": 272,
   "id": "ca5c8fb9-c726-433c-8a7f-ce5c986f9d24",
   "metadata": {},
   "outputs": [
    {
     "data": {
      "text/plain": [
       "[1, 2, 3, 1, 2, 1, [4, 5], 4, 5]"
      ]
     },
     "execution_count": 272,
     "metadata": {},
     "output_type": "execute_result"
    }
   ],
   "source": [
    "# extend는 append와 다르게 리스트안에 리스트를 리스트아닌 형태로 넣는다\n",
    "a.extend([4, 5])\n",
    "a"
   ]
  },
  {
   "cell_type": "markdown",
   "id": "7abc53dc-cf59-4dd2-85e5-ff885a65e980",
   "metadata": {},
   "source": [
    "## 튜플\n",
    "tuple\n",
    "- 리스트와 99% 같다\n",
    "- 리스트는 []으로 둘러싸지만 튜플은 ()으로 둘러싼다\n",
    "- 튜플은 리스트와 다르게 수정할수 없다"
   ]
  },
  {
   "cell_type": "code",
   "execution_count": 152,
   "id": "e468247a-403a-4162-8165-03de5450d9d3",
   "metadata": {},
   "outputs": [
    {
     "data": {
      "text/plain": [
       "[1, 2, 3]"
      ]
     },
     "execution_count": 152,
     "metadata": {},
     "output_type": "execute_result"
    }
   ],
   "source": [
    "a = [1,2,3]\n",
    "a"
   ]
  },
  {
   "cell_type": "code",
   "execution_count": 149,
   "id": "6c8139ea-7fb6-4e79-907d-0a0bbb6ff465",
   "metadata": {},
   "outputs": [
    {
     "data": {
      "text/plain": [
       "list"
      ]
     },
     "execution_count": 149,
     "metadata": {},
     "output_type": "execute_result"
    }
   ],
   "source": [
    "type(a)"
   ]
  },
  {
   "cell_type": "code",
   "execution_count": 153,
   "id": "0e1745fc-65f9-446a-b56c-037c61ea536d",
   "metadata": {},
   "outputs": [
    {
     "data": {
      "text/plain": [
       "(1, 2, 3)"
      ]
     },
     "execution_count": 153,
     "metadata": {},
     "output_type": "execute_result"
    }
   ],
   "source": [
    "a = (1,2,3)\n",
    "a"
   ]
  },
  {
   "cell_type": "code",
   "execution_count": 151,
   "id": "c5798b0d-9c5c-49b1-9c08-005ae3da5078",
   "metadata": {},
   "outputs": [
    {
     "data": {
      "text/plain": [
       "tuple"
      ]
     },
     "execution_count": 151,
     "metadata": {},
     "output_type": "execute_result"
    }
   ],
   "source": [
    "type(a)"
   ]
  },
  {
   "cell_type": "code",
   "execution_count": 155,
   "id": "1343e1c7-a5f9-47f9-8a5b-c7de2544a4cc",
   "metadata": {},
   "outputs": [
    {
     "name": "stdout",
     "output_type": "stream",
     "text": [
      "(1, 2, 3)\n"
     ]
    }
   ],
   "source": [
    "# 괄호를 안넣었음에도 자동적으로 괄호가 넣어져서 튜플 형태가 되었다\n",
    "a = 1, 2, 3\n",
    "print(a)"
   ]
  },
  {
   "cell_type": "code",
   "execution_count": 156,
   "id": "812b4168-26cf-4736-948b-dfe0a3c0bf2a",
   "metadata": {},
   "outputs": [
    {
     "data": {
      "text/plain": [
       "tuple"
      ]
     },
     "execution_count": 156,
     "metadata": {},
     "output_type": "execute_result"
    }
   ],
   "source": [
    "type(a)"
   ]
  },
  {
   "cell_type": "code",
   "execution_count": 157,
   "id": "60aa1992-5530-49f4-ab33-5b7b671caf4f",
   "metadata": {},
   "outputs": [
    {
     "data": {
      "text/plain": [
       "1"
      ]
     },
     "execution_count": 157,
     "metadata": {},
     "output_type": "execute_result"
    }
   ],
   "source": [
    "a[0]"
   ]
  },
  {
   "cell_type": "code",
   "execution_count": 158,
   "id": "2957c2b2-3e45-4090-b93b-ce90a91c7359",
   "metadata": {},
   "outputs": [
    {
     "data": {
      "text/plain": [
       "(1, 2, 3)"
      ]
     },
     "execution_count": 158,
     "metadata": {},
     "output_type": "execute_result"
    }
   ],
   "source": [
    "a[:]"
   ]
  },
  {
   "cell_type": "code",
   "execution_count": 162,
   "id": "fae8f56b-6bb0-4c12-bf2e-3e6987851c1b",
   "metadata": {},
   "outputs": [
    {
     "name": "stdout",
     "output_type": "stream",
     "text": [
      "[1]\n",
      "(1,)\n",
      "()\n"
     ]
    }
   ],
   "source": [
    "a = [1]\n",
    "print(a)\n",
    "b = (1,)\n",
    "print(b)\n",
    "c = ()\n",
    "print(c)"
   ]
  },
  {
   "cell_type": "markdown",
   "id": "87b01275-2f60-4633-89ad-934bcc9ba422",
   "metadata": {},
   "source": [
    "## 딕셔너리\n",
    "dirctionary"
   ]
  },
  {
   "cell_type": "markdown",
   "id": "27eb7d31-b6d0-4e9e-829a-ed7da3a5d1dc",
   "metadata": {},
   "source": [
    "### 만들기"
   ]
  },
  {
   "cell_type": "code",
   "execution_count": 170,
   "id": "f18ad048-75ae-4657-b286-bd35a646d96e",
   "metadata": {},
   "outputs": [],
   "source": [
    "# 딕셔너리는 {}중괄호를 써서 만든다\n",
    "dic = {'name':'pey','phone':'0119993323','apple':'사과, 능금, 등등'}\n",
    "# Json 파일이 dictionary 형태이다\n",
    "# 딕셔너리는 { Key : Value }의 쌍이다"
   ]
  },
  {
   "cell_type": "code",
   "execution_count": 182,
   "id": "d16c0935-8cea-4117-a1c2-da590ce7a284",
   "metadata": {},
   "outputs": [
    {
     "data": {
      "text/plain": [
       "{'apple': '사과', 'banana': '바나나', 'cherry': '체리'}"
      ]
     },
     "execution_count": 182,
     "metadata": {},
     "output_type": "execute_result"
    }
   ],
   "source": [
    "a = {\"apple\":\"사과\",\"banana\":\"바나나\",\"cherry\":\"체리\"}\n",
    "a"
   ]
  },
  {
   "cell_type": "code",
   "execution_count": 183,
   "id": "92eec084-4a4b-42fb-80ca-1294e8f961da",
   "metadata": {},
   "outputs": [
    {
     "data": {
      "text/plain": [
       "dict"
      ]
     },
     "execution_count": 183,
     "metadata": {},
     "output_type": "execute_result"
    }
   ],
   "source": [
    "type(a)"
   ]
  },
  {
   "cell_type": "markdown",
   "id": "3c79c8c4-5df8-4c17-a6a1-a578c5219eff",
   "metadata": {},
   "source": [
    "### 접근하기"
   ]
  },
  {
   "cell_type": "code",
   "execution_count": 184,
   "id": "3f11362c-7bc1-4536-8878-b901fd4e8619",
   "metadata": {},
   "outputs": [
    {
     "data": {
      "text/plain": [
       "'사과'"
      ]
     },
     "execution_count": 184,
     "metadata": {},
     "output_type": "execute_result"
    }
   ],
   "source": [
    "a[\"apple\"]"
   ]
  },
  {
   "cell_type": "code",
   "execution_count": 185,
   "id": "fb0926ab-30bc-4180-b37d-b7b54cf7a92d",
   "metadata": {},
   "outputs": [
    {
     "data": {
      "text/plain": [
       "dict_keys(['apple', 'banana', 'cherry'])"
      ]
     },
     "execution_count": 185,
     "metadata": {},
     "output_type": "execute_result"
    }
   ],
   "source": [
    "a.keys()"
   ]
  },
  {
   "cell_type": "code",
   "execution_count": 186,
   "id": "40629579-b534-41da-8f43-57b9663d0db0",
   "metadata": {},
   "outputs": [
    {
     "data": {
      "text/plain": [
       "dict_values(['사과', '바나나', '체리'])"
      ]
     },
     "execution_count": 186,
     "metadata": {},
     "output_type": "execute_result"
    }
   ],
   "source": [
    "a.values()"
   ]
  },
  {
   "cell_type": "code",
   "execution_count": 187,
   "id": "a60e3b1c-4b6e-41cc-8b48-0477115ba83f",
   "metadata": {},
   "outputs": [
    {
     "data": {
      "text/plain": [
       "{'apple': '사과', 'banana': '바나나', 'cherry': '체리'}"
      ]
     },
     "execution_count": 187,
     "metadata": {},
     "output_type": "execute_result"
    }
   ],
   "source": [
    "a"
   ]
  },
  {
   "cell_type": "markdown",
   "id": "6ce26318-0bdb-4a71-8c88-acef5864b804",
   "metadata": {},
   "source": [
    "### 수정하기"
   ]
  },
  {
   "cell_type": "code",
   "execution_count": 188,
   "id": "0c255db1-3fed-4303-a929-ffc3e2eb751f",
   "metadata": {
    "jupyter": {
     "source_hidden": true
    },
    "tags": []
   },
   "outputs": [],
   "source": [
    "a['banana'] = \"버네너\""
   ]
  },
  {
   "cell_type": "code",
   "execution_count": 189,
   "id": "398ce7d0-8f89-476f-9f93-98010320c948",
   "metadata": {},
   "outputs": [
    {
     "data": {
      "text/plain": [
       "{'apple': '사과', 'banana': '버네너', 'cherry': '체리'}"
      ]
     },
     "execution_count": 189,
     "metadata": {},
     "output_type": "execute_result"
    }
   ],
   "source": [
    "a"
   ]
  },
  {
   "cell_type": "code",
   "execution_count": 190,
   "id": "b09404cd-3e48-423a-8e65-bdcabf61bc97",
   "metadata": {},
   "outputs": [
    {
     "data": {
      "text/plain": [
       "{'apple': '사과', 'banana': '버네너', 'cherry': '체리', 'banan': '버네너'}"
      ]
     },
     "execution_count": 190,
     "metadata": {},
     "output_type": "execute_result"
    }
   ],
   "source": [
    "# 없는 Key 값을 입력하면 \n",
    "a['banan'] = \"버네너\"\n",
    "a"
   ]
  },
  {
   "cell_type": "code",
   "execution_count": 191,
   "id": "a1c5532e-c56e-40e9-837a-18244429afcf",
   "metadata": {},
   "outputs": [
    {
     "data": {
      "text/plain": [
       "{'apple': '사과',\n",
       " 'banana': '버네너',\n",
       " 'cherry': '체리',\n",
       " 'banan': '버네너',\n",
       " 'durian': '두리안'}"
      ]
     },
     "execution_count": 191,
     "metadata": {},
     "output_type": "execute_result"
    }
   ],
   "source": [
    "a['durian'] = \"두리안\"\n",
    "a"
   ]
  },
  {
   "cell_type": "markdown",
   "id": "7b061bb4-47a7-42ab-9081-102b1fdee131",
   "metadata": {},
   "source": [
    "- Key 값이 있으면 수정을 하고, 없으면 만든다"
   ]
  },
  {
   "cell_type": "code",
   "execution_count": 192,
   "id": "ccdd4af8-8564-4efe-b112-6e1b6774b105",
   "metadata": {},
   "outputs": [
    {
     "data": {
      "text/plain": [
       "{'apple': '사과', 'banana': '버네너', 'cherry': '체리', 'durian': '두리안'}"
      ]
     },
     "execution_count": 192,
     "metadata": {},
     "output_type": "execute_result"
    }
   ],
   "source": [
    "# 삭제\n",
    "del a[\"banan\"]\n",
    "a"
   ]
  },
  {
   "cell_type": "code",
   "execution_count": 195,
   "id": "fb0293d1-893a-41f8-9eaf-09b8fa66a103",
   "metadata": {},
   "outputs": [
    {
     "data": {
      "text/plain": [
       "{'apple': ['사과', '능금', '백설'], 'banana': '버네너', 'cherry': '체리', 'durian': '두리안'}"
      ]
     },
     "execution_count": 195,
     "metadata": {},
     "output_type": "execute_result"
    }
   ],
   "source": [
    "# 여러개 넣기 []로 묶어주기\n",
    "a[\"apple\"] = [\"사과\", \"능금\", \"백설\"]\n",
    "a"
   ]
  },
  {
   "cell_type": "code",
   "execution_count": 196,
   "id": "b07d52ac-be99-4f07-aced-138ccc5f126e",
   "metadata": {},
   "outputs": [
    {
     "data": {
      "text/plain": [
       "['사과', '능금', '백설']"
      ]
     },
     "execution_count": 196,
     "metadata": {},
     "output_type": "execute_result"
    }
   ],
   "source": [
    "a.get('apple')"
   ]
  },
  {
   "cell_type": "code",
   "execution_count": 198,
   "id": "ebbc2036-9599-4b19-8195-a195ab7f3322",
   "metadata": {},
   "outputs": [
    {
     "name": "stdout",
     "output_type": "stream",
     "text": [
      "{'name': '홍길동', 'birth': '1128', 'age': '30'}\n"
     ]
    }
   ],
   "source": [
    "dic = {'name':'홍길동','birth':'1128','age':'30'}\n",
    "print(dic)"
   ]
  },
  {
   "cell_type": "markdown",
   "id": "e79f9d9c-5dad-4918-a774-82b3f8ae1139",
   "metadata": {},
   "source": [
    "## 집합 자료형"
   ]
  },
  {
   "cell_type": "code",
   "execution_count": 207,
   "id": "f71d5e5e-92ce-4f96-a137-e07d5b7bd1be",
   "metadata": {},
   "outputs": [
    {
     "name": "stdout",
     "output_type": "stream",
     "text": [
      "{1, 2, 3}\n",
      "{2, 3, 4}\n"
     ]
    }
   ],
   "source": [
    "s1 = set([1,2,3])\n",
    "s2 = set([2,3,4])\n",
    "print(s1)\n",
    "print(s2)"
   ]
  },
  {
   "cell_type": "code",
   "execution_count": 208,
   "id": "5cfd5803-e96e-4332-87b1-901530fb3542",
   "metadata": {},
   "outputs": [
    {
     "data": {
      "text/plain": [
       "set"
      ]
     },
     "execution_count": 208,
     "metadata": {},
     "output_type": "execute_result"
    }
   ],
   "source": [
    "type(s1)"
   ]
  },
  {
   "cell_type": "code",
   "execution_count": 209,
   "id": "0bd70f51-68b9-4051-a553-665f8ad435f7",
   "metadata": {},
   "outputs": [
    {
     "data": {
      "text/plain": [
       "{'H', 'e', 'l', 'o'}"
      ]
     },
     "execution_count": 209,
     "metadata": {},
     "output_type": "execute_result"
    }
   ],
   "source": [
    "# 중복을 허용하지않는다, 순서가 없다\n",
    "s3 = set(\"Hello\")\n",
    "s3"
   ]
  },
  {
   "cell_type": "code",
   "execution_count": 210,
   "id": "6af1c1af-f06b-4940-8c3c-2c40e5bc12b2",
   "metadata": {},
   "outputs": [
    {
     "data": {
      "text/plain": [
       "{1, 2, 3, 4}"
      ]
     },
     "execution_count": 210,
     "metadata": {},
     "output_type": "execute_result"
    }
   ],
   "source": [
    "# 합집합\n",
    "s1.union(s2)"
   ]
  },
  {
   "cell_type": "code",
   "execution_count": 211,
   "id": "a98e6389-1e48-496d-bfe9-b3c7eca26e35",
   "metadata": {},
   "outputs": [
    {
     "data": {
      "text/plain": [
       "{1, 2, 3, 4}"
      ]
     },
     "execution_count": 211,
     "metadata": {},
     "output_type": "execute_result"
    }
   ],
   "source": [
    "s1 | s2"
   ]
  },
  {
   "cell_type": "code",
   "execution_count": 212,
   "id": "4bd40a63-eb60-4bd3-ab02-5b9305cd2d19",
   "metadata": {},
   "outputs": [
    {
     "data": {
      "text/plain": [
       "{2, 3}"
      ]
     },
     "execution_count": 212,
     "metadata": {},
     "output_type": "execute_result"
    }
   ],
   "source": [
    "# 교집합\n",
    "s1.intersection(s2)"
   ]
  },
  {
   "cell_type": "code",
   "execution_count": 213,
   "id": "7f13eebc-a4eb-4fbf-b191-b88ba29da469",
   "metadata": {},
   "outputs": [
    {
     "data": {
      "text/plain": [
       "{2, 3}"
      ]
     },
     "execution_count": 213,
     "metadata": {},
     "output_type": "execute_result"
    }
   ],
   "source": [
    "s1 & s2"
   ]
  },
  {
   "cell_type": "code",
   "execution_count": 214,
   "id": "42f98a8d-aa4f-4619-96a4-9f87e52df3de",
   "metadata": {},
   "outputs": [
    {
     "data": {
      "text/plain": [
       "{1}"
      ]
     },
     "execution_count": 214,
     "metadata": {},
     "output_type": "execute_result"
    }
   ],
   "source": [
    "# 차집합\n",
    "s1.difference(s2)"
   ]
  },
  {
   "cell_type": "code",
   "execution_count": 215,
   "id": "51081329-9a5d-48e4-9611-81b9ee672994",
   "metadata": {},
   "outputs": [
    {
     "data": {
      "text/plain": [
       "{4}"
      ]
     },
     "execution_count": 215,
     "metadata": {},
     "output_type": "execute_result"
    }
   ],
   "source": [
    "s2.difference(s1)"
   ]
  },
  {
   "cell_type": "code",
   "execution_count": 216,
   "id": "430e3946-4b90-4430-9792-7566937e9001",
   "metadata": {},
   "outputs": [
    {
     "data": {
      "text/plain": [
       "{1}"
      ]
     },
     "execution_count": 216,
     "metadata": {},
     "output_type": "execute_result"
    }
   ],
   "source": [
    "s1 - s2"
   ]
  },
  {
   "cell_type": "code",
   "execution_count": 217,
   "id": "4ec112e4-fd08-43c2-baeb-0a7a834e8796",
   "metadata": {},
   "outputs": [
    {
     "data": {
      "text/plain": [
       "{4}"
      ]
     },
     "execution_count": 217,
     "metadata": {},
     "output_type": "execute_result"
    }
   ],
   "source": [
    "s2 - s1"
   ]
  },
  {
   "cell_type": "code",
   "execution_count": 218,
   "id": "8d6c2872-c0ab-4c90-8d3b-311805328b55",
   "metadata": {},
   "outputs": [],
   "source": [
    "s1.add(4)"
   ]
  },
  {
   "cell_type": "code",
   "execution_count": 219,
   "id": "09ba7784-d5a8-4fce-ad8d-f438dea9d076",
   "metadata": {},
   "outputs": [
    {
     "data": {
      "text/plain": [
       "{1, 2, 3, 4}"
      ]
     },
     "execution_count": 219,
     "metadata": {},
     "output_type": "execute_result"
    }
   ],
   "source": [
    "s1"
   ]
  },
  {
   "cell_type": "code",
   "execution_count": 221,
   "id": "8f55ef04-dc74-4e74-bd60-6e9647a2c77c",
   "metadata": {},
   "outputs": [
    {
     "data": {
      "text/plain": [
       "{1, 2, 3, 4, 5, 6, 7}"
      ]
     },
     "execution_count": 221,
     "metadata": {},
     "output_type": "execute_result"
    }
   ],
   "source": [
    "s1.update([5,6,7])\n",
    "s1"
   ]
  },
  {
   "cell_type": "code",
   "execution_count": 223,
   "id": "664392da-3905-4415-a684-932b3135977d",
   "metadata": {},
   "outputs": [
    {
     "data": {
      "text/plain": [
       "{2, 3, 4, 5, 6, 7}"
      ]
     },
     "execution_count": 223,
     "metadata": {},
     "output_type": "execute_result"
    }
   ],
   "source": [
    "s1.remove(1)\n",
    "s1"
   ]
  },
  {
   "cell_type": "code",
   "execution_count": null,
   "id": "907b9991-61c8-4530-8829-4cb11843f73c",
   "metadata": {},
   "outputs": [],
   "source": []
  },
  {
   "cell_type": "markdown",
   "id": "407ca43b-23a2-4433-93d4-66da1cd1ad29",
   "metadata": {
    "tags": []
   },
   "source": [
    "## 사용자 입력 input( ) 알아보기\n",
    "- 출력값이 문자열이다"
   ]
  },
  {
   "cell_type": "code",
   "execution_count": null,
   "id": "b95bb5b5-47a6-43d5-8872-c94dd3d81a5d",
   "metadata": {},
   "outputs": [],
   "source": []
  },
  {
   "cell_type": "code",
   "execution_count": 4,
   "id": "0dc7f209-83c3-4d4f-aed8-4463bd93250b",
   "metadata": {},
   "outputs": [
    {
     "name": "stdout",
     "output_type": "stream",
     "text": [
      "I ate 5 apples. So I was sick 3 days.\n"
     ]
    }
   ],
   "source": [
    "num = 5\n",
    "day = 3\n",
    "\n",
    "print(f\"I ate {num} apples. So I was sick {day} days.\")"
   ]
  },
  {
   "cell_type": "code",
   "execution_count": 11,
   "id": "f8977dea-5e08-47d4-9184-1f5ef065abc4",
   "metadata": {},
   "outputs": [
    {
     "name": "stdin",
     "output_type": "stream",
     "text": [
      "몇 개 먹었나요? 5\n",
      "몇일: 2\n"
     ]
    },
    {
     "name": "stdout",
     "output_type": "stream",
     "text": [
      "I ate 5 apples. So I was sick 2 days.\n"
     ]
    }
   ],
   "source": [
    "num = input(\"몇 개 먹었나요?\")\n",
    "day = input(\"몇일:\")\n",
    "\n",
    "print(f\"I ate {num} apples. So I was sick {day} days.\")"
   ]
  },
  {
   "cell_type": "code",
   "execution_count": 14,
   "id": "f6451703-8c39-49b5-937a-7f1f42a87fa5",
   "metadata": {},
   "outputs": [
    {
     "name": "stdin",
     "output_type": "stream",
     "text": [
      "숫자를 입력해 주세요:  1234\n",
      "숫자를 입력해 주세요:  432\n"
     ]
    }
   ],
   "source": [
    "a = input(\"숫자를 입력해 주세요: \")\n",
    "b = input(\"숫자를 입력해 주세요: \")"
   ]
  },
  {
   "cell_type": "code",
   "execution_count": 15,
   "id": "c4121bf3-51da-4320-bf99-1cf4572bf497",
   "metadata": {},
   "outputs": [
    {
     "data": {
      "text/plain": [
       "'1234432'"
      ]
     },
     "execution_count": 15,
     "metadata": {},
     "output_type": "execute_result"
    }
   ],
   "source": [
    "a + b"
   ]
  },
  {
   "cell_type": "code",
   "execution_count": 16,
   "id": "36d2dc16-c6ec-4f05-ba2c-ede6635cc9e0",
   "metadata": {},
   "outputs": [
    {
     "data": {
      "text/plain": [
       "1234"
      ]
     },
     "execution_count": 16,
     "metadata": {},
     "output_type": "execute_result"
    }
   ],
   "source": [
    "int(a)"
   ]
  },
  {
   "cell_type": "code",
   "execution_count": 17,
   "id": "8c593726-4741-4549-834e-ed3572490e3e",
   "metadata": {},
   "outputs": [
    {
     "data": {
      "text/plain": [
       "1666"
      ]
     },
     "execution_count": 17,
     "metadata": {},
     "output_type": "execute_result"
    }
   ],
   "source": [
    "int(a) + int(b)"
   ]
  },
  {
   "cell_type": "code",
   "execution_count": 19,
   "id": "c6a670d0-d641-48d9-8c27-2cec72c117ec",
   "metadata": {},
   "outputs": [
    {
     "name": "stdin",
     "output_type": "stream",
     "text": [
      "숫자를 입력해 주세요:  123\n",
      "숫자를 입력해 주세요:  456\n"
     ]
    }
   ],
   "source": [
    "a = int(input(\"숫자를 입력해 주세요: \"))\n",
    "b = int(input(\"숫자를 입력해 주세요: \"))"
   ]
  },
  {
   "cell_type": "code",
   "execution_count": 20,
   "id": "b9c93156-d5b0-4309-a997-0346fd421371",
   "metadata": {},
   "outputs": [
    {
     "data": {
      "text/plain": [
       "579"
      ]
     },
     "execution_count": 20,
     "metadata": {},
     "output_type": "execute_result"
    }
   ],
   "source": [
    "a + b"
   ]
  },
  {
   "cell_type": "code",
   "execution_count": 26,
   "id": "082a9ec2-e363-4952-bd84-10d2604f71e1",
   "metadata": {},
   "outputs": [
    {
     "name": "stdin",
     "output_type": "stream",
     "text": [
      "입력할 수 13\n"
     ]
    },
    {
     "name": "stdout",
     "output_type": "stream",
     "text": [
      "13을 11로 나눈 나머지는 2 입니다\n"
     ]
    }
   ],
   "source": [
    "# 입력받은 수를 11로 나눈 나머지를 알고싶다.\n",
    "num = int(input(\"입력할 수\"))\n",
    "print(f\"{num}을 11로 나눈 나머지는 {n % 11} 입니다\")"
   ]
  },
  {
   "cell_type": "code",
   "execution_count": 29,
   "id": "63e57975-b7c1-4cf4-bcd2-968df9c33fe2",
   "metadata": {},
   "outputs": [
    {
     "name": "stdin",
     "output_type": "stream",
     "text": [
      "이름:  홍길동\n",
      "나이:  13세[\n"
     ]
    },
    {
     "name": "stdout",
     "output_type": "stream",
     "text": [
      "나의 이름은 홍길동이고 나이는 13세[살 입니다\n"
     ]
    }
   ],
   "source": [
    "# 이름과 나이를 입력 받아서\n",
    "#\"나의 이름은 000이고 나이는 00살 입니다\"\n",
    "\n",
    "name = input(\"이름: \")\n",
    "age = input(\"나이: \")\n",
    "print(f\"나의 이름은 {name}이고 나이는 {age}살 입니다\")"
   ]
  },
  {
   "cell_type": "markdown",
   "id": "242d6c9a-8df8-4b79-a492-2ce99dc2f90a",
   "metadata": {},
   "source": [
    "# 제어문"
   ]
  },
  {
   "cell_type": "markdown",
   "id": "65fc77e0-ed56-4b86-b373-d108234f3ab1",
   "metadata": {},
   "source": [
    "## if 문"
   ]
  },
  {
   "cell_type": "markdown",
   "id": "408b7a87-3251-48d9-9811-377310475823",
   "metadata": {},
   "source": [
    "```\n",
    "if 조건:\n",
    "    실행될 문장1\n",
    "    실행될 문장2\n",
    "else:\n",
    "    실행될 문장1\n",
    "```"
   ]
  },
  {
   "cell_type": "code",
   "execution_count": 33,
   "id": "cb6e3468-3824-401d-a1a2-31790850ba7d",
   "metadata": {},
   "outputs": [
    {
     "name": "stdout",
     "output_type": "stream",
     "text": [
      "Yes\n"
     ]
    }
   ],
   "source": [
    "if 1 < 2:\n",
    "    print(\"Yes\")"
   ]
  },
  {
   "cell_type": "code",
   "execution_count": 34,
   "id": "b42e31c5-3b57-43fa-ae74-7f0ecbf05990",
   "metadata": {
    "tags": []
   },
   "outputs": [],
   "source": [
    "if 1 > 2:\n",
    "    print(\"Yes\")"
   ]
  },
  {
   "cell_type": "code",
   "execution_count": 36,
   "id": "4569a6cd-5200-4ee8-9eec-4841b02f783c",
   "metadata": {},
   "outputs": [
    {
     "name": "stdout",
     "output_type": "stream",
     "text": [
      "no\n"
     ]
    }
   ],
   "source": [
    "if 1 > 2:\n",
    "    print(\"Yes\")\n",
    "else:\n",
    "    print(\"no\")"
   ]
  },
  {
   "cell_type": "code",
   "execution_count": 106,
   "id": "d1e6d2b3-be84-4ec8-81dc-a1eea2da1d79",
   "metadata": {},
   "outputs": [
    {
     "name": "stdout",
     "output_type": "stream",
     "text": [
      "three\n"
     ]
    }
   ],
   "source": [
    "if a == 1:\n",
    "    print(\"yes\")\n",
    "elif a == 2:\n",
    "    print(\"two\")\n",
    "else:\n",
    "    print(\"three\")"
   ]
  },
  {
   "cell_type": "markdown",
   "id": "df6675c1-f7d1-4135-8600-ba0c5fba5abc",
   "metadata": {},
   "source": [
    "```\n",
    "    x <  y : x가 y보다 작다\n",
    "    x >  y : x가 y보다 크다\n",
    "    x == y : x와 y가 같다\n",
    "    x != y : x와 y가 같지않다\n",
    "    x >= y : x가 y보다 크거나 같다\n",
    "    x <= y : x가 y보다 작거나 같다\n",
    "```    "
   ]
  },
  {
   "cell_type": "code",
   "execution_count": 38,
   "id": "b3c64504-264b-4f30-991a-358126cf2d48",
   "metadata": {},
   "outputs": [
    {
     "name": "stdin",
     "output_type": "stream",
     "text": [
      "숫자를 입력해 주세요 2\n"
     ]
    },
    {
     "name": "stdout",
     "output_type": "stream",
     "text": [
      "짝수입니다.\n"
     ]
    }
   ],
   "source": [
    "# 입력받아서 짝수이면 짝수입니다. 홀수이면 홀수입니다를 출력\n",
    "num = int(input(\"숫자를 입력해 주세요\"))\n",
    "if num % 2 == 0:\n",
    "    print(\"짝수입니다.\")\n",
    "else:\n",
    "    print(\"홀수입니다.\")"
   ]
  },
  {
   "cell_type": "code",
   "execution_count": 40,
   "id": "c3d071ca-b911-4154-a5a9-d1ccfe0ab6e4",
   "metadata": {},
   "outputs": [
    {
     "name": "stdin",
     "output_type": "stream",
     "text": [
      "온도를 입력해주세요:  25\n"
     ]
    },
    {
     "name": "stdout",
     "output_type": "stream",
     "text": [
      "가을입니다.\n"
     ]
    }
   ],
   "source": [
    "# 온도를 입력받아서 30도 이상이면 \"여름입니다.\"\n",
    "# 20도 이상이면 \"가을입니다.\"\n",
    "# 0도 이상이면 \"봄입니다.\n",
    "# 0도 이하이면 \"겨울입니다.\"\n",
    "\n",
    "temp = int(input(\"온도를 입력해주세요: \"))\n",
    "\n",
    "if temp >= 30:\n",
    "    print(\"여름입니다.\")\n",
    "elif temp >= 20:\n",
    "    print(\"가을입니다.\")\n",
    "elif temp >= 0:\n",
    "    print(\"봄 입니다.\")\n",
    "else:\n",
    "    print(\"겨울 입니다.\")"
   ]
  },
  {
   "cell_type": "markdown",
   "id": "5206baba-5528-46fb-8d21-a5e28526a6b1",
   "metadata": {},
   "source": [
    "```\n",
    "    x or y : x와 y 둘중 하나만 참이어도 참이다\n",
    "    x and y: x 와 y 모두 참이여야 한다\n",
    "    not x  : x가 거짓이면 참이다\n",
    "```"
   ]
  },
  {
   "cell_type": "markdown",
   "id": "98e6f096-7b7b-4130-b478-9e436a25f3d3",
   "metadata": {
    "tags": []
   },
   "source": [
    "- A in B 의 형태"
   ]
  },
  {
   "cell_type": "code",
   "execution_count": 43,
   "id": "2522938c-3eee-4097-b58c-e8fcb8670252",
   "metadata": {},
   "outputs": [
    {
     "name": "stdout",
     "output_type": "stream",
     "text": [
      "Taxi\n"
     ]
    }
   ],
   "source": [
    "pocket = [\"bill\", \"coins\", \"card\"]\n",
    "if \"bill\" in pocket:\n",
    "    print(\"Taxi\")\n",
    "elif \"coins\" in pocket:\n",
    "    print(\"Bus\")\n",
    "else:\n",
    "    print(\"Walk\")"
   ]
  },
  {
   "cell_type": "markdown",
   "id": "b44a2950-80cb-4788-94a1-e392d44f925b",
   "metadata": {},
   "source": [
    "## for 문"
   ]
  },
  {
   "cell_type": "code",
   "execution_count": 46,
   "id": "c4d4cd98-6f80-422e-95c7-c21708564532",
   "metadata": {},
   "outputs": [
    {
     "name": "stdout",
     "output_type": "stream",
     "text": [
      "1\n",
      "10\n",
      "2\n",
      "20\n",
      "3\n",
      "30\n"
     ]
    }
   ],
   "source": [
    "for i in [1, 2, 3]:\n",
    "    print(i)\n",
    "    print( i*10)"
   ]
  },
  {
   "cell_type": "code",
   "execution_count": 47,
   "id": "d3d291ce-d1a9-430f-a8a1-d1313fff479e",
   "metadata": {},
   "outputs": [
    {
     "name": "stdout",
     "output_type": "stream",
     "text": [
      "yes\n",
      "yes\n",
      "yes\n"
     ]
    }
   ],
   "source": [
    "for i in [1, 2, 3]:\n",
    "    print(\"yes\")"
   ]
  },
  {
   "cell_type": "code",
   "execution_count": 48,
   "id": "b825ac4c-542c-4bfc-bcbd-c335a32073cc",
   "metadata": {},
   "outputs": [
    {
     "name": "stdout",
     "output_type": "stream",
     "text": [
      "1\n",
      "yes\n",
      "2\n",
      "yes\n",
      "3\n",
      "yes\n",
      "no\n"
     ]
    }
   ],
   "source": [
    "for i in [1, 2, 3]:\n",
    "    print(i)\n",
    "    print(\"yes\")\n",
    "print(\"no\")"
   ]
  },
  {
   "cell_type": "code",
   "execution_count": 51,
   "id": "bc7b541f-9079-4bd0-8475-816a922c62b1",
   "metadata": {},
   "outputs": [
    {
     "name": "stdout",
     "output_type": "stream",
     "text": [
      "1\n",
      "2\n",
      "3\n",
      "4\n",
      "5\n",
      "6\n",
      "7\n",
      "8\n",
      "9\n",
      "10\n"
     ]
    }
   ],
   "source": [
    "numbers = [1, 2, 3, 4, 5, 6, 7, 8, 9, 10]\n",
    "for number in numbers:\n",
    "    print(number)"
   ]
  },
  {
   "cell_type": "code",
   "execution_count": 53,
   "id": "47f22f2c-695b-49b6-abeb-2b6bfe1e83e9",
   "metadata": {},
   "outputs": [
    {
     "data": {
      "text/plain": [
       "range(0, 10)"
      ]
     },
     "execution_count": 53,
     "metadata": {},
     "output_type": "execute_result"
    }
   ],
   "source": [
    "range(10)"
   ]
  },
  {
   "cell_type": "code",
   "execution_count": 54,
   "id": "586ab6a3-01a1-4233-88da-24aa2e4fa04d",
   "metadata": {},
   "outputs": [
    {
     "data": {
      "text/plain": [
       "[0, 1, 2, 3, 4, 5, 6, 7, 8, 9]"
      ]
     },
     "execution_count": 54,
     "metadata": {},
     "output_type": "execute_result"
    }
   ],
   "source": [
    "list(range(10))"
   ]
  },
  {
   "cell_type": "code",
   "execution_count": 59,
   "id": "fd3852a9-a05a-45f3-bb57-a69771afad64",
   "metadata": {},
   "outputs": [
    {
     "data": {
      "text/plain": [
       "[1, 2, 3, 4, 5, 6, 7, 8, 9, 10]"
      ]
     },
     "execution_count": 59,
     "metadata": {},
     "output_type": "execute_result"
    }
   ],
   "source": [
    "list(range(1,11))"
   ]
  },
  {
   "cell_type": "code",
   "execution_count": 60,
   "id": "70149945-9c0a-47b8-82e7-1aff2b618ea9",
   "metadata": {},
   "outputs": [
    {
     "data": {
      "text/plain": [
       "[1, 3, 5, 7, 9]"
      ]
     },
     "execution_count": 60,
     "metadata": {},
     "output_type": "execute_result"
    }
   ],
   "source": [
    "list(range(1,11, 2))"
   ]
  },
  {
   "cell_type": "code",
   "execution_count": 61,
   "id": "61d5385f-d3fc-4855-8da2-b84300803161",
   "metadata": {},
   "outputs": [
    {
     "data": {
      "text/plain": [
       "[1, 4, 7, 10]"
      ]
     },
     "execution_count": 61,
     "metadata": {},
     "output_type": "execute_result"
    }
   ],
   "source": [
    "list(range(1,11, 3))"
   ]
  },
  {
   "cell_type": "code",
   "execution_count": 56,
   "id": "57aa8211-098f-486a-b97e-28281b7d15dc",
   "metadata": {},
   "outputs": [
    {
     "name": "stdout",
     "output_type": "stream",
     "text": [
      "1\n",
      "2\n",
      "3\n",
      "4\n",
      "5\n",
      "6\n",
      "7\n",
      "8\n",
      "9\n",
      "10\n"
     ]
    }
   ],
   "source": [
    "for number in range(1,11):\n",
    "    print(number)"
   ]
  },
  {
   "cell_type": "code",
   "execution_count": 71,
   "id": "689f023d-5709-4fe6-9df5-30ae972c1014",
   "metadata": {},
   "outputs": [
    {
     "name": "stdout",
     "output_type": "stream",
     "text": [
      "2 4 6 8 10 12 14 16 18 20 22 24 26 28 30 32 34 36 38 40 42 44 46 48 50 52 54 56 58 60 62 64 66 68 70 72 74 76 78 80 82 84 86 88 90 92 94 96 98 100 "
     ]
    }
   ],
   "source": [
    "# 1부터 10까지 사이의 모든 짝수를 출력해 주세요\n",
    "\n",
    "for i in range(1,100,2):\n",
    "    print(i+1, end = ' ')"
   ]
  },
  {
   "cell_type": "code",
   "execution_count": 81,
   "id": "f9385d13-9323-4f09-be49-607779b022bd",
   "metadata": {},
   "outputs": [
    {
     "name": "stdout",
     "output_type": "stream",
     "text": [
      "1 a\n",
      "1 b\n",
      "1 c\n",
      "2 a\n",
      "2 b\n",
      "2 c\n"
     ]
    }
   ],
   "source": [
    "for i in [1,2]:\n",
    "    for j in [\"a\", \"b\", \"c\"]:\n",
    "        print(i,j)"
   ]
  },
  {
   "cell_type": "code",
   "execution_count": 105,
   "id": "8d5fffeb-968b-4a5c-bf2b-ce2b0eda49e2",
   "metadata": {},
   "outputs": [
    {
     "name": "stdout",
     "output_type": "stream",
     "text": [
      "<2단>\n",
      "2 X 1 = 2\n",
      "2 X 2 = 4\n",
      "2 X 3 = 6\n",
      "2 X 4 = 8\n",
      "2 X 5 = 10\n",
      "2 X 6 = 12\n",
      "2 X 7 = 14\n",
      "2 X 8 = 16\n",
      "2 X 9 = 18\n",
      "\n",
      "<3단>\n",
      "3 X 1 = 3\n",
      "3 X 2 = 6\n",
      "3 X 3 = 9\n",
      "3 X 4 = 12\n",
      "3 X 5 = 15\n",
      "3 X 6 = 18\n",
      "3 X 7 = 21\n",
      "3 X 8 = 24\n",
      "3 X 9 = 27\n",
      "\n",
      "<4단>\n",
      "4 X 1 = 4\n",
      "4 X 2 = 8\n",
      "4 X 3 = 12\n",
      "4 X 4 = 16\n",
      "4 X 5 = 20\n",
      "4 X 6 = 24\n",
      "4 X 7 = 28\n",
      "4 X 8 = 32\n",
      "4 X 9 = 36\n",
      "\n",
      "<5단>\n",
      "5 X 1 = 5\n",
      "5 X 2 = 10\n",
      "5 X 3 = 15\n",
      "5 X 4 = 20\n",
      "5 X 5 = 25\n",
      "5 X 6 = 30\n",
      "5 X 7 = 35\n",
      "5 X 8 = 40\n",
      "5 X 9 = 45\n",
      "\n",
      "<6단>\n",
      "6 X 1 = 6\n",
      "6 X 2 = 12\n",
      "6 X 3 = 18\n",
      "6 X 4 = 24\n",
      "6 X 5 = 30\n",
      "6 X 6 = 36\n",
      "6 X 7 = 42\n",
      "6 X 8 = 48\n",
      "6 X 9 = 54\n",
      "\n",
      "<7단>\n",
      "7 X 1 = 7\n",
      "7 X 2 = 14\n",
      "7 X 3 = 21\n",
      "7 X 4 = 28\n",
      "7 X 5 = 35\n",
      "7 X 6 = 42\n",
      "7 X 7 = 49\n",
      "7 X 8 = 56\n",
      "7 X 9 = 63\n",
      "\n",
      "<8단>\n",
      "8 X 1 = 8\n",
      "8 X 2 = 16\n",
      "8 X 3 = 24\n",
      "8 X 4 = 32\n",
      "8 X 5 = 40\n",
      "8 X 6 = 48\n",
      "8 X 7 = 56\n",
      "8 X 8 = 64\n",
      "8 X 9 = 72\n",
      "\n",
      "<9단>\n",
      "9 X 1 = 9\n",
      "9 X 2 = 18\n",
      "9 X 3 = 27\n",
      "9 X 4 = 36\n",
      "9 X 5 = 45\n",
      "9 X 6 = 54\n",
      "9 X 7 = 63\n",
      "9 X 8 = 72\n",
      "9 X 9 = 81\n",
      "\n"
     ]
    }
   ],
   "source": [
    "for i in range(2,10):\n",
    "    print(f\"<{i}단>\")\n",
    "    for j in range(1,10):\n",
    "        print(f\"{i} X {j} = {i*j}\")\n",
    "    print()"
   ]
  },
  {
   "cell_type": "code",
   "execution_count": 209,
   "id": "ab48164f-5ffb-4655-b4f1-9e8e55001d01",
   "metadata": {},
   "outputs": [
    {
     "name": "stdout",
     "output_type": "stream",
     "text": [
      "3\n",
      "7\n",
      "11\n"
     ]
    }
   ],
   "source": [
    "# for 안에 반복하는 변수는 여러개 쓸수 있다\n",
    "a = [(1,2),(3,4),(5,6)]\n",
    "for (i,j) in a:\n",
    "    print((i+j))"
   ]
  },
  {
   "cell_type": "code",
   "execution_count": 35,
   "id": "f6a5915c-48ce-4ce8-9c7c-34ebde3dd55d",
   "metadata": {},
   "outputs": [
    {
     "name": "stdout",
     "output_type": "stream",
     "text": [
      "1번 학생 합격입니다\n",
      "2번 학생 불합격입니다\n",
      "3번 학생 합격입니다\n",
      "4번 학생 불합격입니다\n",
      "5번 학생 합격입니다\n"
     ]
    }
   ],
   "source": [
    "marks = [90, 25, 67, 45, 80]\n",
    "number = 0\n",
    "for mark in marks:\n",
    "    number = number +1\n",
    "    if mark > 60:\n",
    "        print(f\"{number}번 학생 합격입니다\")\n",
    "    else:\n",
    "        print(f\"{number}번 학생 불합격입니다\")"
   ]
  },
  {
   "cell_type": "code",
   "execution_count": 40,
   "id": "6642058e-c6d9-4a69-b5c7-7ba3146fd4f7",
   "metadata": {},
   "outputs": [
    {
     "name": "stdout",
     "output_type": "stream",
     "text": [
      "5050\n"
     ]
    }
   ],
   "source": [
    "# 1부터 10까지 더하기\n",
    "num = 0\n",
    "for i in range(1,101):\n",
    "    #num = num + i\n",
    "    num += i # i 만큼씩 증가 위랑 같음\n",
    "print(num)"
   ]
  },
  {
   "cell_type": "code",
   "execution_count": 210,
   "id": "8a474412-c57e-41f7-b593-f561aa46e53f",
   "metadata": {},
   "outputs": [
    {
     "name": "stdout",
     "output_type": "stream",
     "text": [
      "1 a\n",
      "1 b\n",
      "1 c\n",
      "2 a\n",
      "2 b\n",
      "2 c\n",
      "3 a\n",
      "3 b\n",
      "3 c\n"
     ]
    }
   ],
   "source": [
    "# for 문 안에 for문을 넣어 리스트 안에 리스트를 접근하기\n",
    "a = [[1,2,3],[\"a\",\"b\",\"c\"]]\n",
    "for i in a[0]:\n",
    "    for j in a[1]:\n",
    "        print(i, j)\n"
   ]
  },
  {
   "cell_type": "code",
   "execution_count": 211,
   "id": "e0a51e76-f249-462d-9491-23cf2523c731",
   "metadata": {},
   "outputs": [
    {
     "name": "stdout",
     "output_type": "stream",
     "text": [
      "[3, 6, 9, 12]\n"
     ]
    }
   ],
   "source": [
    "# 다른 리스트 값을 변형시켜 빈 리스트에 넣기 append\n",
    "a = [1,2,3,4]\n",
    "result = []\n",
    "for i in a:\n",
    "    result.append(i*3)\n",
    "print(result)"
   ]
  },
  {
   "cell_type": "code",
   "execution_count": 215,
   "id": "fd6780b7-922c-461f-a1a4-add1087127b7",
   "metadata": {},
   "outputs": [
    {
     "name": "stdout",
     "output_type": "stream",
     "text": [
      "[2, 4, 6, 8]\n"
     ]
    }
   ],
   "source": [
    "# 아예 리스트 안에 넣어서 처리할수도 있다 (리스트 내포)\n",
    "a = [1,2,3,4]\n",
    "\n",
    "result = [2*i for i in a]\n",
    "\n",
    "print(result)"
   ]
  },
  {
   "cell_type": "code",
   "execution_count": 213,
   "id": "242acedc-5516-4881-b569-1a9b67d61beb",
   "metadata": {},
   "outputs": [
    {
     "name": "stdout",
     "output_type": "stream",
     "text": [
      "[6, 12]\n"
     ]
    }
   ],
   "source": [
    "# %,for apppend\n",
    "a = [1,2,3,4]\n",
    "result = []\n",
    "for i in a:\n",
    "    if i % 2 == 0:\n",
    "        result.append(i*3)\n",
    "print(result)"
   ]
  },
  {
   "cell_type": "code",
   "execution_count": 55,
   "id": "b9a9372d-9b75-4f7b-b706-83a03b830fd1",
   "metadata": {},
   "outputs": [
    {
     "name": "stdout",
     "output_type": "stream",
     "text": [
      "[6, 12]\n"
     ]
    }
   ],
   "source": [
    "a = [1,2,3,4]\n",
    "\n",
    "result = [3*i for i in a if i % 2 == 0]\n",
    "\n",
    "print(result)"
   ]
  },
  {
   "cell_type": "code",
   "execution_count": 56,
   "id": "7cb34f00-9cf8-4d2b-ba3f-5a32891d1001",
   "metadata": {},
   "outputs": [
    {
     "name": "stdout",
     "output_type": "stream",
     "text": [
      "1\n",
      "2\n",
      "3\n",
      "4\n",
      "a\n",
      "b\n",
      "c\n",
      "d\n"
     ]
    }
   ],
   "source": [
    "a = [1,2,3,4],[\"a\",\"b\",\"c\",\"d\"]\n",
    "for i in [0,1]:\n",
    "    for j in [0,1,2,3]:\n",
    "        print(a[i][j])"
   ]
  },
  {
   "cell_type": "code",
   "execution_count": 214,
   "id": "a36aff00-2e52-4fe5-8f40-4598c84f2471",
   "metadata": {},
   "outputs": [
    {
     "name": "stdout",
     "output_type": "stream",
     "text": [
      "1\n",
      "2\n",
      "3\n",
      "4\n",
      "a\n",
      "b\n",
      "c\n",
      "d\n"
     ]
    }
   ],
   "source": [
    "a = [1,2,3,4],[\"a\",\"b\",\"c\",\"d\"]\n",
    "for i in range(len(a)):        #범위를 len으로 대체\n",
    "    for j in range(len(a[i])):\n",
    "        print(a[i][j])"
   ]
  },
  {
   "cell_type": "markdown",
   "id": "6a8ae1db-1f8d-4f41-9a5d-42951a7b1222",
   "metadata": {},
   "source": [
    "## While문\n",
    "- if문과 for문의 합"
   ]
  },
  {
   "cell_type": "code",
   "execution_count": 60,
   "id": "a4a9a190-fbc7-4f07-a084-3ca9855643ba",
   "metadata": {},
   "outputs": [
    {
     "name": "stdout",
     "output_type": "stream",
     "text": [
      "55\n"
     ]
    }
   ],
   "source": [
    "# for문은 루프의 횟수를 알때만 가능하다\n",
    "sum = 0\n",
    "for i in range(11):\n",
    "    sum += i\n",
    "print(sum)"
   ]
  },
  {
   "cell_type": "markdown",
   "id": "6c8eaaa3-3be2-4d1e-9ef0-9d5ec266ece4",
   "metadata": {},
   "source": [
    "```\n",
    "while 조건 :\n",
    "    실행될 문장\n",
    "```    "
   ]
  },
  {
   "cell_type": "code",
   "execution_count": 216,
   "id": "7536dae9-a9db-4e7c-a171-151f9f64dba6",
   "metadata": {},
   "outputs": [
    {
     "name": "stdout",
     "output_type": "stream",
     "text": [
      "1\n",
      "2\n",
      "3\n",
      "4\n",
      "5\n",
      "6\n",
      "7\n",
      "8\n",
      "9\n",
      "10\n"
     ]
    }
   ],
   "source": [
    "# while문은 루프 조건과 횟수를 조정가능\n",
    "k = 0\n",
    "while k < 10:\n",
    "    k += 1\n",
    "    print(k)"
   ]
  },
  {
   "cell_type": "code",
   "execution_count": 217,
   "id": "9e775e1a-1f48-4e7e-9272-b06712f26927",
   "metadata": {},
   "outputs": [
    {
     "name": "stdout",
     "output_type": "stream",
     "text": [
      "1\n"
     ]
    }
   ],
   "source": [
    "# break 와 continue의 차이\n",
    "a = 0\n",
    "while a < 10:\n",
    "    a += 1\n",
    "    if a % 2 == 0:\n",
    "        break # break에 걸린순간 루프에서 벗어난다\n",
    "    print(a)"
   ]
  },
  {
   "cell_type": "code",
   "execution_count": 218,
   "id": "de097194-c6fa-4603-89d2-b070b1f96e10",
   "metadata": {},
   "outputs": [
    {
     "name": "stdout",
     "output_type": "stream",
     "text": [
      "1\n",
      "3\n",
      "5\n",
      "7\n",
      "9\n"
     ]
    }
   ],
   "source": [
    "a = 0\n",
    "while a < 10:\n",
    "    a += 1\n",
    "    if a % 2 == 0:\n",
    "        continue #continue에 걸린순간 바로 다음 루프로 넘어간다\n",
    "    print(a)"
   ]
  },
  {
   "cell_type": "code",
   "execution_count": 71,
   "id": "ac3fcaf7-29ee-4468-89b3-8a188b7c3c42",
   "metadata": {},
   "outputs": [
    {
     "name": "stdout",
     "output_type": "stream",
     "text": [
      "1\n",
      "2\n",
      "4\n",
      "5\n",
      "7\n",
      "8\n",
      "10\n"
     ]
    }
   ],
   "source": [
    "a = 0\n",
    "while a < 10:\n",
    "    a += 1\n",
    "    if a % 3 == 0:\n",
    "        continue\n",
    "    print(a)"
   ]
  },
  {
   "cell_type": "code",
   "execution_count": 76,
   "id": "d2625527-9caa-445d-b4d2-d7a1e7b3e4b8",
   "metadata": {},
   "outputs": [
    {
     "name": "stdout",
     "output_type": "stream",
     "text": [
      "1\n",
      "2\n",
      "3\n",
      "4\n",
      "5\n",
      "6\n",
      "7\n",
      "8\n",
      "9\n",
      "10\n"
     ]
    }
   ],
   "source": [
    "import time\n",
    "\n",
    "a = 0\n",
    "while a < 10:\n",
    "    a += 1\n",
    "    print(a)\n",
    "    time.sleep(0.5)"
   ]
  },
  {
   "cell_type": "code",
   "execution_count": 79,
   "id": "11299dac-2fce-4929-a97d-89a54695d369",
   "metadata": {},
   "outputs": [
    {
     "name": "stdout",
     "output_type": "stream",
     "text": [
      "79.0\n"
     ]
    }
   ],
   "source": [
    "a = [70, 60, 55, 75, 95, 90, 80, 80, 85, 100]\n",
    "sum = 0\n",
    "for i in a:\n",
    "    sum += i\n",
    "d = sum/len(a)\n",
    "print(d)"
   ]
  },
  {
   "cell_type": "markdown",
   "id": "62a52368-e0e6-41ed-94d8-35abcbad7cb0",
   "metadata": {},
   "source": [
    "# 프로그램 입출력"
   ]
  },
  {
   "cell_type": "markdown",
   "id": "0e1912f0-f2d9-4c8c-a23e-06e0cbc986a7",
   "metadata": {},
   "source": [
    "## 함수"
   ]
  },
  {
   "cell_type": "markdown",
   "id": "710c37d9-fba1-4d55-8db0-8bf296e1e642",
   "metadata": {},
   "source": [
    "### 함수 만들기\n",
    " def 함수이름(입력값):\n",
    "     수행할문장"
   ]
  },
  {
   "cell_type": "code",
   "execution_count": 219,
   "id": "6df0eadd-a6b7-4438-a092-8e53205fa00f",
   "metadata": {},
   "outputs": [],
   "source": [
    "def add(a,b):\n",
    "    c = a + b\n",
    "    return(c)"
   ]
  },
  {
   "cell_type": "code",
   "execution_count": 220,
   "id": "e7adb9b4-e79b-405d-af3d-c270973e079c",
   "metadata": {},
   "outputs": [
    {
     "data": {
      "text/plain": [
       "5"
      ]
     },
     "execution_count": 220,
     "metadata": {},
     "output_type": "execute_result"
    }
   ],
   "source": [
    "add(2,3)"
   ]
  },
  {
   "cell_type": "code",
   "execution_count": 96,
   "id": "0fd5a385-6d2f-413b-8b55-cf8cdacaa789",
   "metadata": {},
   "outputs": [
    {
     "name": "stdout",
     "output_type": "stream",
     "text": [
      "hi\n"
     ]
    }
   ],
   "source": [
    "# 입력값이 없는 함수\n",
    "def say():\n",
    "    return 'hi'\n",
    "\n",
    "a = say()\n",
    "print(a)"
   ]
  },
  {
   "cell_type": "code",
   "execution_count": 93,
   "id": "aa4050cb-988a-485d-bb03-cd20a79ca267",
   "metadata": {
    "tags": []
   },
   "outputs": [],
   "source": [
    "# 결과값이 없는 함수\n",
    "def add(a,b):\n",
    "    print(\"%d, %d의 합은 %d입니다.\" %(a, b, a+b))"
   ]
  },
  {
   "cell_type": "code",
   "execution_count": 94,
   "id": "4bfd8b77-2c64-4f2a-9825-542aa8035040",
   "metadata": {},
   "outputs": [
    {
     "name": "stdout",
     "output_type": "stream",
     "text": [
      "3, 4의 합은 7입니다.\n"
     ]
    }
   ],
   "source": [
    "add(3, 4)"
   ]
  },
  {
   "cell_type": "code",
   "execution_count": 221,
   "id": "73b7cc8e-4cff-42df-ac56-d196a9cd7496",
   "metadata": {},
   "outputs": [
    {
     "data": {
      "text/plain": [
       "4"
      ]
     },
     "execution_count": 221,
     "metadata": {},
     "output_type": "execute_result"
    }
   ],
   "source": [
    "#  1개를 입력받아서 입력값의 2배를 출력해주는 함수\n",
    "\n",
    "def bi(a):\n",
    "    return 2*a\n",
    "\n",
    "bi(2)"
   ]
  },
  {
   "cell_type": "code",
   "execution_count": 98,
   "id": "ac71a4a2-00d9-438d-abba-b8e8fd461090",
   "metadata": {},
   "outputs": [
    {
     "name": "stdout",
     "output_type": "stream",
     "text": [
      "12\n"
     ]
    }
   ],
   "source": [
    "# 2개를 입력받아서, 두수의 곱을 출력해주는 함수\n",
    "\n",
    "def ma(c, d):\n",
    "    return c*d\n",
    "\n",
    "print(ma(3,4))"
   ]
  },
  {
   "cell_type": "code",
   "execution_count": 223,
   "id": "231dfbc5-e339-4f48-bfb0-416162a245e0",
   "metadata": {},
   "outputs": [],
   "source": [
    "# 디폴트 값이 있는 함수\n",
    "def add(a, b, c = 10):\n",
    "    result = a - b + c\n",
    "    return result\n",
    "\n",
    "#디폴트 값은 항상 뒤에\n",
    "# def add(a, b= 10 ,c) 이러면 안됨"
   ]
  },
  {
   "cell_type": "code",
   "execution_count": 225,
   "id": "3b94eb2f-3068-481c-871c-3001db5f643c",
   "metadata": {},
   "outputs": [
    {
     "data": {
      "text/plain": [
       "9"
      ]
     },
     "execution_count": 225,
     "metadata": {},
     "output_type": "execute_result"
    }
   ],
   "source": [
    "# 입력값이 없어도 디폴트 값이 있으면 처리된다\n",
    "add(1, 2)"
   ]
  },
  {
   "cell_type": "code",
   "execution_count": 227,
   "id": "c9e38fa7-f56d-424b-8880-20169f4b30ee",
   "metadata": {},
   "outputs": [
    {
     "data": {
      "text/plain": [
       "4"
      ]
     },
     "execution_count": 227,
     "metadata": {},
     "output_type": "execute_result"
    }
   ],
   "source": [
    "# 디폴트 값에 값을 넣어주면 바뀐다\n",
    "add(2,1,3)"
   ]
  },
  {
   "cell_type": "code",
   "execution_count": 229,
   "id": "e9c13224-4368-49f6-95fb-e24addbbd7c7",
   "metadata": {},
   "outputs": [
    {
     "data": {
      "text/plain": [
       "2"
      ]
     },
     "execution_count": 229,
     "metadata": {},
     "output_type": "execute_result"
    }
   ],
   "source": [
    "add(a=1,b=2,c=3)"
   ]
  },
  {
   "cell_type": "code",
   "execution_count": 230,
   "id": "756967f8-4194-4023-a765-76cdbf5d649c",
   "metadata": {},
   "outputs": [
    {
     "data": {
      "text/plain": [
       "2"
      ]
     },
     "execution_count": 230,
     "metadata": {},
     "output_type": "execute_result"
    }
   ],
   "source": [
    "# 위치가 바뀌어도 순서대로 처리 된다\n",
    "add(b=2,a=1,c=3)"
   ]
  },
  {
   "cell_type": "code",
   "execution_count": 122,
   "id": "ed88c624-a82e-4cb9-bfe6-18ad0d54a309",
   "metadata": {},
   "outputs": [],
   "source": [
    "# 입력값이 몇개가 될지 모를때 매개변수 앞에*표시를 한다\n",
    "def add_many(*a):\n",
    "    result = 0\n",
    "    for i in a:\n",
    "        result = result + i\n",
    "    return result"
   ]
  },
  {
   "cell_type": "code",
   "execution_count": 123,
   "id": "cbbb3a4b-420e-49e4-a71a-6ef41e88cd7e",
   "metadata": {},
   "outputs": [
    {
     "data": {
      "text/plain": [
       "15"
      ]
     },
     "execution_count": 123,
     "metadata": {},
     "output_type": "execute_result"
    }
   ],
   "source": [
    "add_many(1,2,3,4,5)"
   ]
  },
  {
   "cell_type": "markdown",
   "id": "1a393d2f-60cc-4979-a3b0-c551f8cbb0a2",
   "metadata": {},
   "source": [
    "키워드 파라미터\n",
    "- *매개변수 : 입력값을 전부 모아 튜플로 만드는 키워드 파라미터\n",
    "- ** 매개변수 : 입력값을 딕셔너리로 바꿔주는 키워드 파라미터"
   ]
  },
  {
   "cell_type": "code",
   "execution_count": 231,
   "id": "ecea16a0-c3cb-4228-bb33-2b738cd23586",
   "metadata": {},
   "outputs": [],
   "source": [
    "# return\n",
    "def add_mul(a,b):\n",
    "    return a+b, a*b"
   ]
  },
  {
   "cell_type": "code",
   "execution_count": 232,
   "id": "80698faa-87ea-4dfc-8c44-816a048b1c51",
   "metadata": {},
   "outputs": [],
   "source": [
    "result = add_mul(3,4)"
   ]
  },
  {
   "cell_type": "code",
   "execution_count": 234,
   "id": "e12468ba-14b6-48e2-bda5-12a04dfe5353",
   "metadata": {},
   "outputs": [
    {
     "name": "stdout",
     "output_type": "stream",
     "text": [
      "(7, 12)\n"
     ]
    }
   ],
   "source": [
    "# 두개의 return 결과를 하나의 튜플로 보여준다\n",
    "print(result)"
   ]
  },
  {
   "cell_type": "code",
   "execution_count": 235,
   "id": "e0eb4b4f-a869-4480-a2ee-1539c9affa7f",
   "metadata": {},
   "outputs": [
    {
     "name": "stdout",
     "output_type": "stream",
     "text": [
      "7 12\n"
     ]
    }
   ],
   "source": [
    "# 두개의 결과값을 받고싶다면 두개의 객체로 함수를 호출한다\n",
    "first, second = add_mul(3,4)\n",
    "print(first,second)"
   ]
  },
  {
   "cell_type": "code",
   "execution_count": 236,
   "id": "c1286557-9799-48c0-aaef-3f8b00c79a36",
   "metadata": {},
   "outputs": [
    {
     "name": "stdout",
     "output_type": "stream",
     "text": [
      "5050\n"
     ]
    }
   ],
   "source": [
    "# for 문을 써서 1부터 100까지의 합\n",
    "sum = 0\n",
    "for i in range(1,101):\n",
    "    sum += i\n",
    "print(sum)"
   ]
  },
  {
   "cell_type": "code",
   "execution_count": 144,
   "id": "53cf6dba-8c2e-4e15-b03c-31f48c66d78d",
   "metadata": {},
   "outputs": [],
   "source": [
    "def add_x(a):\n",
    "    sum = 0\n",
    "    for i in range(1,a+1):\n",
    "        sum += i\n",
    "    print(sum)"
   ]
  },
  {
   "cell_type": "code",
   "execution_count": 143,
   "id": "1a086c54-847f-4225-97bd-74372473fdd2",
   "metadata": {},
   "outputs": [
    {
     "name": "stdout",
     "output_type": "stream",
     "text": [
      "5050\n"
     ]
    }
   ],
   "source": [
    "add_x(100)"
   ]
  },
  {
   "cell_type": "code",
   "execution_count": 136,
   "id": "dfac48e8-efca-4fc3-94e8-5e4d73c509d8",
   "metadata": {},
   "outputs": [
    {
     "name": "stdin",
     "output_type": "stream",
     "text": [
      "어디까지 더할까요? 100\n"
     ]
    },
    {
     "name": "stdout",
     "output_type": "stream",
     "text": [
      "5050\n"
     ]
    }
   ],
   "source": [
    "# for 문을 써서 1부터 입력받은 수까지의 합\n",
    "sum = 0\n",
    "num = int(input(\"어디까지 더할까요?\"))\n",
    "for i in range(1,num+1):\n",
    "    sum += i\n",
    "print(sum)"
   ]
  },
  {
   "cell_type": "code",
   "execution_count": 131,
   "id": "e102b42f-1f9e-4b59-a2f7-f1fb69b80c58",
   "metadata": {},
   "outputs": [
    {
     "name": "stdout",
     "output_type": "stream",
     "text": [
      "2500\n"
     ]
    }
   ],
   "source": [
    "# for 문을 써서 1부터 100까지의 합 홀수\n",
    "sum = 0\n",
    "for i in range(1,101,2):\n",
    "    sum += i\n",
    "print(sum)"
   ]
  },
  {
   "cell_type": "code",
   "execution_count": 139,
   "id": "fb525613-a09c-4031-a368-9e492191699f",
   "metadata": {},
   "outputs": [
    {
     "name": "stdin",
     "output_type": "stream",
     "text": [
      "aaa 1\n",
      "bbb 10\n"
     ]
    },
    {
     "name": "stdout",
     "output_type": "stream",
     "text": [
      "25\n"
     ]
    }
   ],
   "source": [
    "# for 문을 써서 a부터 b까지의 합 홀수\n",
    "sum = 0\n",
    "a = int(input(\"aaa\"))\n",
    "b = int(input(\"bbb\"))\n",
    "for i in range(a,b+1,2):\n",
    "    sum += i\n",
    "print(sum)"
   ]
  },
  {
   "cell_type": "code",
   "execution_count": 151,
   "id": "16f3726a-494c-4ac8-9f95-dba899e1b773",
   "metadata": {},
   "outputs": [],
   "source": [
    "def add_plus(a,b):\n",
    "    sum = 0\n",
    "    for i in range(a,b+1,2):\n",
    "        sum += i\n",
    "    return sum"
   ]
  },
  {
   "cell_type": "code",
   "execution_count": 147,
   "id": "99a6d89f-9310-4ca7-87a3-c52c8238270c",
   "metadata": {},
   "outputs": [
    {
     "name": "stdout",
     "output_type": "stream",
     "text": [
      "2500\n"
     ]
    }
   ],
   "source": [
    "add_plus(1,100)"
   ]
  },
  {
   "cell_type": "code",
   "execution_count": 152,
   "id": "e9bf65a9-b9d3-41e9-9314-a35bec1f7c77",
   "metadata": {},
   "outputs": [],
   "source": [
    "# 이름과 나이를 입력받는 함수\n",
    "def myname(a,b):\n",
    "    return(f\"나의 이름은 {a}이고 나이는{b}입니다\")"
   ]
  },
  {
   "cell_type": "code",
   "execution_count": 153,
   "id": "b3df31c5-b790-403a-bbfb-719e4093b861",
   "metadata": {},
   "outputs": [
    {
     "data": {
      "text/plain": [
       "'나의 이름은 홍길동이고 나이는23입니다'"
      ]
     },
     "execution_count": 153,
     "metadata": {},
     "output_type": "execute_result"
    }
   ],
   "source": [
    "myname(\"홍길동\",23)"
   ]
  },
  {
   "cell_type": "code",
   "execution_count": 158,
   "id": "d32fb007-0992-4046-95b4-b427312dc053",
   "metadata": {},
   "outputs": [],
   "source": [
    "def sum_mean(*a):\n",
    "    sum = 0\n",
    "    mean = 0\n",
    "    for i in a:\n",
    "        sum += i\n",
    "    mean = sum / len(a)\n",
    "    return \"총합은 %d이고 평균은 %d입니다.\" %(sum,mean)"
   ]
  },
  {
   "cell_type": "code",
   "execution_count": 159,
   "id": "9dc38f47-e853-45ca-9655-e4de76763216",
   "metadata": {},
   "outputs": [
    {
     "data": {
      "text/plain": [
       "'총합은 180이고 평균은 60입니다.'"
      ]
     },
     "execution_count": 159,
     "metadata": {},
     "output_type": "execute_result"
    }
   ],
   "source": [
    "sum_mean(60,60,60)"
   ]
  },
  {
   "cell_type": "code",
   "execution_count": 160,
   "id": "d88b7a93-fed3-4040-b34c-187c78c7ac88",
   "metadata": {},
   "outputs": [],
   "source": [
    "# print와 return의 차이\n",
    "def func_print(a):\n",
    "    print(2*a)\n",
    "    \n",
    "def func_return(a):\n",
    "    return 2*a"
   ]
  },
  {
   "cell_type": "code",
   "execution_count": 161,
   "id": "64493ec8-dd39-4203-9fbd-e10d94dcf474",
   "metadata": {},
   "outputs": [
    {
     "name": "stdout",
     "output_type": "stream",
     "text": [
      "4\n"
     ]
    },
    {
     "data": {
      "text/plain": [
       "4"
      ]
     },
     "execution_count": 161,
     "metadata": {},
     "output_type": "execute_result"
    }
   ],
   "source": [
    "func_print(2)\n",
    "func_return(2)"
   ]
  },
  {
   "cell_type": "code",
   "execution_count": 169,
   "id": "5838aa4a-0f87-410b-8346-33f144fcee38",
   "metadata": {},
   "outputs": [],
   "source": [
    "r =func_return(10)\n",
    "r+10"
   ]
  },
  {
   "cell_type": "code",
   "execution_count": 172,
   "id": "f1be6201-71ad-4032-ace6-3475e06395a0",
   "metadata": {},
   "outputs": [
    {
     "data": {
      "text/plain": [
       "int"
      ]
     },
     "execution_count": 172,
     "metadata": {},
     "output_type": "execute_result"
    }
   ],
   "source": [
    "type(r)"
   ]
  },
  {
   "cell_type": "code",
   "execution_count": 171,
   "id": "62d40c45-5de2-45e3-93e0-241e3bd830e6",
   "metadata": {},
   "outputs": [
    {
     "name": "stdout",
     "output_type": "stream",
     "text": [
      "20\n"
     ]
    }
   ],
   "source": [
    "p = func_print(10)\n",
    "p # + 10 하면 return과 다르게 안된다"
   ]
  },
  {
   "cell_type": "code",
   "execution_count": 173,
   "id": "506dd23b-9979-47ec-80d8-b0793fb46cd1",
   "metadata": {},
   "outputs": [
    {
     "data": {
      "text/plain": [
       "NoneType"
      ]
     },
     "execution_count": 173,
     "metadata": {},
     "output_type": "execute_result"
    }
   ],
   "source": [
    "type(p)"
   ]
  },
  {
   "cell_type": "code",
   "execution_count": 174,
   "id": "41f9053a-c2a8-4484-9909-36c4be319f18",
   "metadata": {},
   "outputs": [],
   "source": [
    "# print는 결과 값이 없다 print후 사라져버리기 때문"
   ]
  },
  {
   "cell_type": "markdown",
   "id": "9e96292f-08ae-4882-a3a3-bb239baf9ca8",
   "metadata": {},
   "source": [
    "### 함수안에서 선언한 변수의 범위"
   ]
  },
  {
   "cell_type": "code",
   "execution_count": 178,
   "id": "c4719432-34e4-44f7-b4d8-81d14efbe6f5",
   "metadata": {},
   "outputs": [
    {
     "name": "stdout",
     "output_type": "stream",
     "text": [
      "1\n"
     ]
    }
   ],
   "source": [
    "a = 1            # 함수 밖의 변수 a\n",
    "def vartest(a):  # vartest 함수 선언\n",
    "    a = a + 1\n",
    "\n",
    "vartest(a)       # vartest 함수의 입력값으로 a를 줌\n",
    "print(a)         # a값 출력"
   ]
  },
  {
   "cell_type": "code",
   "execution_count": 179,
   "id": "6580d203-eec5-496f-98ef-7828ee5d638f",
   "metadata": {},
   "outputs": [],
   "source": [
    "# 프로그램 전체에서 쓸수있는것 전역변수\n",
    "# 한정된 함수에서만 쓸수있는것 지역변수"
   ]
  },
  {
   "cell_type": "code",
   "execution_count": 187,
   "id": "f77074b0-e09c-4d4a-a29f-8a54804c770b",
   "metadata": {},
   "outputs": [
    {
     "name": "stdout",
     "output_type": "stream",
     "text": [
      "2\n"
     ]
    }
   ],
   "source": [
    "#return\n",
    "a = 1            # 함수 밖의 변수 a\n",
    "def vartest(a):  # vartest 함수 선언\n",
    "    a = a + 1\n",
    "    return a     # return 을사용하여 결과값을 함수밖 변수 a에 대입\n",
    "a = vartest(a)   # vartest 함수의 입력값으로 a를 줌\n",
    "print(a)         # a값 출력"
   ]
  },
  {
   "cell_type": "code",
   "execution_count": 188,
   "id": "09de1501-9d36-41a4-ad8f-fb3966d4c592",
   "metadata": {},
   "outputs": [
    {
     "name": "stdout",
     "output_type": "stream",
     "text": [
      "2\n"
     ]
    }
   ],
   "source": [
    "#global\n",
    "a = 1            # 함수 밖의 변수 a\n",
    "def vartest():  # vartest 함수 선언\n",
    "    global a    # \n",
    "    a = a + 1\n",
    "vartest()       # vartest 함수의 입력값으로 a를 줌\n",
    "print(a)         # a값 출력"
   ]
  },
  {
   "cell_type": "code",
   "execution_count": 190,
   "id": "f11c9be7-cc94-472a-b7c1-38245546cfe2",
   "metadata": {},
   "outputs": [
    {
     "name": "stdout",
     "output_type": "stream",
     "text": [
      "7\n"
     ]
    }
   ],
   "source": [
    "#lambda\n",
    "add = lambda a,b: a+b\n",
    "result = add(3,4)\n",
    "print(result)"
   ]
  },
  {
   "cell_type": "code",
   "execution_count": 191,
   "id": "03a1d4c5-8e5a-4ebb-937a-1beb6ab0d97f",
   "metadata": {},
   "outputs": [
    {
     "data": {
      "text/plain": [
       "5"
      ]
     },
     "execution_count": 191,
     "metadata": {},
     "output_type": "execute_result"
    }
   ],
   "source": [
    "(lambda a, b: a+b)(2,3)"
   ]
  },
  {
   "cell_type": "code",
   "execution_count": 192,
   "id": "c513ac4b-26a4-483d-95c6-81ab4be3be18",
   "metadata": {},
   "outputs": [
    {
     "data": {
      "text/plain": [
       "8"
      ]
     },
     "execution_count": 192,
     "metadata": {},
     "output_type": "execute_result"
    }
   ],
   "source": [
    "# 입력받은 수를 2배해서 출력해주는 람다함수\n",
    "(lambda a:a*2)(4)"
   ]
  },
  {
   "cell_type": "markdown",
   "id": "14cef66a-9b64-4099-8765-e3310e9ed0cd",
   "metadata": {},
   "source": [
    "## 파일 읽고 쓰기\n",
    "- (I.O) input output"
   ]
  },
  {
   "cell_type": "code",
   "execution_count": 193,
   "id": "2987b480-4cd8-43ff-b206-ad7582c9b7a3",
   "metadata": {},
   "outputs": [
    {
     "data": {
      "text/plain": [
       "'C:\\\\Users\\\\wjsrn\\\\OneDrive\\\\TR\\\\Python'"
      ]
     },
     "execution_count": 193,
     "metadata": {},
     "output_type": "execute_result"
    }
   ],
   "source": [
    "pwd # present working directory"
   ]
  },
  {
   "cell_type": "code",
   "execution_count": 194,
   "id": "55ae1663-e062-46bd-af87-7309eec85f6c",
   "metadata": {},
   "outputs": [
    {
     "name": "stdout",
     "output_type": "stream",
     "text": [
      " C 드라이브의 볼륨에는 이름이 없습니다.\n",
      " 볼륨 일련 번호: 10C3-24C4\n",
      "\n",
      " C:\\Users\\wjsrn\\OneDrive\\TR\\Python 디렉터리\n",
      "\n",
      "2022-02-24  오후 04:26    <DIR>          .\n",
      "2022-02-24  오후 04:26    <DIR>          ..\n",
      "2022-02-24  오전 09:01    <DIR>          .ipynb_checkpoints\n",
      "2022-02-23  오후 02:39                 0 .txt\n",
      "2022-02-24  오전 09:00            17,889 0101.ipynb\n",
      "2022-02-24  오후 04:26           130,181 python01.ipynb\n",
      "               3개 파일             148,070 바이트\n",
      "               3개 디렉터리  171,441,250,304 바이트 남음\n"
     ]
    }
   ],
   "source": [
    "ls"
   ]
  },
  {
   "cell_type": "code",
   "execution_count": 201,
   "id": "526a1ada-9e7d-4589-be8d-a0e1b0003a8d",
   "metadata": {},
   "outputs": [],
   "source": [
    "# 파일이름: greeting.txt\n",
    "# 내용 : Hello\n",
    "\n",
    "f = open(\"greeting.txt\",mode='w')"
   ]
  },
  {
   "cell_type": "code",
   "execution_count": 202,
   "id": "318de77c-810b-483a-85b8-2a8d812e017f",
   "metadata": {},
   "outputs": [
    {
     "data": {
      "text/plain": [
       "_io.TextIOWrapper"
      ]
     },
     "execution_count": 202,
     "metadata": {},
     "output_type": "execute_result"
    }
   ],
   "source": [
    "type(f)"
   ]
  },
  {
   "cell_type": "code",
   "execution_count": 203,
   "id": "7072214d-bb5c-4aa4-b71d-8bcd908f158b",
   "metadata": {},
   "outputs": [],
   "source": [
    "f.write(\"Hello\")\n",
    "f.close()"
   ]
  },
  {
   "cell_type": "code",
   "execution_count": 204,
   "id": "c4f4fa33-a0ee-473b-8a9c-749c1111605b",
   "metadata": {},
   "outputs": [],
   "source": [
    "f = open(\"새파일.txt\",mode=\"w\")\n",
    "for i in range(1,11):\n",
    "    data = \"%d번째 줄입니다.\\n\" % i\n",
    "    f.write(data)\n",
    "f.close()"
   ]
  },
  {
   "cell_type": "code",
   "execution_count": 208,
   "id": "1c0fe1c9-e617-457c-bc1e-b1c38f90d97a",
   "metadata": {},
   "outputs": [],
   "source": [
    "f = open(\"새파일.txt\",mode=\"a\")\n",
    "for i in range(3,21):\n",
    "    data = \"%d번째 줄입니다.\\n\" % i\n",
    "    f.write(data)\n",
    "f.close()"
   ]
  },
  {
   "cell_type": "code",
   "execution_count": null,
   "id": "198c3cd1-d4a0-4f80-81bd-831aec3c2b04",
   "metadata": {},
   "outputs": [],
   "source": [
    "cd C:/user/user\n",
    "jupyter lab"
   ]
  },
  {
   "cell_type": "code",
   "execution_count": 2,
   "id": "13305f69-ccf7-40f0-96b5-04c34ed1a8f9",
   "metadata": {},
   "outputs": [],
   "source": [
    "f = open(\"python.txt\",mode=\"w\")\n",
    "f.write(\"파이썬은 재및어\")\n",
    "f.close()"
   ]
  },
  {
   "cell_type": "code",
   "execution_count": 4,
   "id": "8adf42e1-4687-439f-b584-8f930e789878",
   "metadata": {},
   "outputs": [],
   "source": [
    "f = open(\"python.txt\",mode=\"a\")\n",
    "for i in range(1,6):\n",
    "    data = \"\\n%d\" % i\n",
    "    f.write(data)\n",
    "f.close()"
   ]
  },
  {
   "cell_type": "code",
   "execution_count": 8,
   "id": "35d63e5c-c4c7-4456-a461-f79418c22ddd",
   "metadata": {},
   "outputs": [
    {
     "name": "stdout",
     "output_type": "stream",
     "text": [
      "1번째 줄입니다.\n",
      "\n"
     ]
    }
   ],
   "source": [
    "#파일 읽기\n",
    "f = open(\"새파일.txt\",mode=\"r\")\n",
    "print(f.readline())\n",
    "f.close()"
   ]
  },
  {
   "cell_type": "code",
   "execution_count": 11,
   "id": "f4501dab-c41a-4795-a59d-16d12f3c6d07",
   "metadata": {},
   "outputs": [
    {
     "name": "stdout",
     "output_type": "stream",
     "text": [
      "1번째 줄입니다.\n",
      "2번째 줄입니다.\n",
      "3번째 줄입니다.\n",
      "4번째 줄입니다.\n",
      "3번째 줄입니다.\n",
      "4번째 줄입니다.\n",
      "5번째 줄입니다.\n",
      "6번째 줄입니다.\n",
      "7번째 줄입니다.\n",
      "8번째 줄입니다.\n",
      "9번째 줄입니다."
     ]
    }
   ],
   "source": [
    "# lines\n",
    "f = open(\"새파일.txt\",mode=\"r\")\n",
    "lines =f.readlines()\n",
    "for line in lines:\n",
    "    print(line,end=\"\")\n",
    "f.close()"
   ]
  },
  {
   "cell_type": "code",
   "execution_count": 13,
   "id": "7a5f42a6-7e43-4113-9da9-9c4a124e93b9",
   "metadata": {},
   "outputs": [
    {
     "name": "stdout",
     "output_type": "stream",
     "text": [
      "1번째 줄입니다.\n",
      "2번째 줄입니다.\n",
      "3번째 줄입니다.\n",
      "4번째 줄입니다.\n",
      "3번째 줄입니다.\n",
      "4번째 줄입니다.\n",
      "5번째 줄입니다.\n",
      "6번째 줄입니다.\n",
      "7번째 줄입니다.\n",
      "8번째 줄입니다.\n",
      "9번째 줄입니다.\n"
     ]
    }
   ],
   "source": [
    "# read\n",
    "f = open(\"새파일.txt\",mode=\"r\")\n",
    "print(f.read())\n",
    "f.close()"
   ]
  },
  {
   "cell_type": "markdown",
   "id": "06d3de4a-beac-42ce-9995-e72857c2bd3c",
   "metadata": {},
   "source": [
    "mode의 종류\n",
    "- w, r, a와 다른 모드 binary:사진jpg, 음악mp3, 영상mp4\n",
    "- text는 디폴트값이지만 binary는 wb, rb ,ab 처럼 넣어줘야한다"
   ]
  },
  {
   "cell_type": "code",
   "execution_count": 15,
   "id": "404de91f-f7e5-46f5-8636-80ed0c9d657d",
   "metadata": {},
   "outputs": [
    {
     "name": "stdout",
     "output_type": "stream",
     "text": [
      "1번째 줄입니다.\n",
      "2번째 줄입니다.\n",
      "3번째 줄입니다.\n",
      "4번째 줄입니다.\n",
      "3번째 줄입니다.\n",
      "4번째 줄입니다.\n",
      "5번째 줄입니다.\n",
      "6번째 줄입니다.\n",
      "7번째 줄입니다.\n",
      "8번째 줄입니다.\n",
      "9번째 줄입니다.\n"
     ]
    }
   ],
   "source": [
    "# with\n",
    "f = open(\"새파일.txt\",mode=\"r\")\n",
    "print(f.read())\n",
    "f.close()"
   ]
  },
  {
   "cell_type": "code",
   "execution_count": 17,
   "id": "80201f39-b0b9-4704-8959-54c9dee8ce2f",
   "metadata": {},
   "outputs": [
    {
     "name": "stdout",
     "output_type": "stream",
     "text": [
      "1번째 줄입니다.\n",
      "2번째 줄입니다.\n",
      "3번째 줄입니다.\n",
      "4번째 줄입니다.\n",
      "3번째 줄입니다.\n",
      "4번째 줄입니다.\n",
      "5번째 줄입니다.\n",
      "6번째 줄입니다.\n",
      "7번째 줄입니다.\n",
      "8번째 줄입니다.\n",
      "9번째 줄입니다.\n"
     ]
    }
   ],
   "source": [
    "# with를 넣어주면 close를 안써도 된다\n",
    "with open(\"새파일.txt\",\"r\") as f:\n",
    "    print(f.read())"
   ]
  },
  {
   "cell_type": "code",
   "execution_count": 18,
   "id": "819d0903-26e6-4be3-a83c-552a335313f0",
   "metadata": {},
   "outputs": [
    {
     "name": "stdout",
     "output_type": "stream",
     "text": [
      "Life is too short\n"
     ]
    }
   ],
   "source": [
    "with open(\"test.txt\",\"w\")as f1:\n",
    "    f1.write(\"Life is too short\")\n",
    "\n",
    "with open(\"test.txt\",\"r\")as f2:\n",
    "    print(f2.read())"
   ]
  },
  {
   "cell_type": "markdown",
   "id": "66f71ab1-39af-419a-a436-fde39b1243e1",
   "metadata": {},
   "source": [
    "# 파이썬 날개 달기"
   ]
  },
  {
   "cell_type": "markdown",
   "id": "066dccbe-9dcc-4724-89ec-cdb491f1aaeb",
   "metadata": {},
   "source": [
    "## 클래스"
   ]
  },
  {
   "cell_type": "code",
   "execution_count": 20,
   "id": "56d5a644-6e13-43c1-867e-9ba0bf829ef6",
   "metadata": {},
   "outputs": [
    {
     "name": "stdout",
     "output_type": "stream",
     "text": [
      "3\n",
      "7\n"
     ]
    }
   ],
   "source": [
    "result = 0\n",
    "\n",
    "def add(num):\n",
    "    global result\n",
    "    result += num\n",
    "    return result\n",
    "\n",
    "print(add(3))\n",
    "print(add(4))"
   ]
  },
  {
   "cell_type": "code",
   "execution_count": 22,
   "id": "60cca87e-da32-47bd-a4ce-12b65e6698bf",
   "metadata": {},
   "outputs": [
    {
     "name": "stdout",
     "output_type": "stream",
     "text": [
      "3\n",
      "7\n",
      "3\n",
      "10\n"
     ]
    }
   ],
   "source": [
    "result1 = 0\n",
    "result2 = 0\n",
    "\n",
    "def add1(num):\n",
    "    global result1\n",
    "    result1 += num\n",
    "    return result1\n",
    "\n",
    "def add2(num):\n",
    "    global result2\n",
    "    result2 += num\n",
    "    return result2\n",
    "\n",
    "print(add1(3))\n",
    "print(add1(4))\n",
    "print(add2(3))\n",
    "print(add2(7))"
   ]
  },
  {
   "cell_type": "code",
   "execution_count": 34,
   "id": "09148d0c-e219-4eb6-99f8-1766a5a518aa",
   "metadata": {},
   "outputs": [
    {
     "name": "stdout",
     "output_type": "stream",
     "text": [
      "3\n",
      "7\n",
      "3\n",
      "10\n"
     ]
    }
   ],
   "source": [
    "# 클래스는 설계도와 비슷하다\n",
    "class Pos:\n",
    "    \n",
    "    def __init__(self):\n",
    "        self.result = 0\n",
    "    \n",
    "    def add(self, num):\n",
    "        self.result += num\n",
    "        return self.result\n",
    "    def sub(self, num):\n",
    "        self.result -= num\n",
    "        return self.result\n",
    "    def div(self, num):\n",
    "        self.result = self.result / num\n",
    "        return self.result\n",
    "    def mul(self, num):\n",
    "        self.result = self.result * num\n",
    "        return self.result\n",
    "    \n",
    "# 곱하기 나누기 기능이 있는 칼래스를 짜 봅시다.\n",
    "# machine 객체를 생성하고 \n",
    "'''\n",
    "    20\n",
    "    +30\n",
    "    +10\n",
    "    /5\n",
    "'''\n",
    "    \n",
    "pos1 = Pos()\n",
    "pos2 = Pos()\n",
    "\n",
    "print(pos1.add(3))\n",
    "print(pos1.add(4))\n",
    "print(pos2.add(3))\n",
    "print(pos2.add(7))"
   ]
  },
  {
   "cell_type": "code",
   "execution_count": 30,
   "id": "646c1c72-7307-49c8-9a70-ddf4e50eb2d8",
   "metadata": {},
   "outputs": [
    {
     "name": "stdout",
     "output_type": "stream",
     "text": [
      "-3\n"
     ]
    }
   ],
   "source": [
    "pos3 = Pos()\n",
    "print(pos3.sub(3))"
   ]
  },
  {
   "cell_type": "code",
   "execution_count": 33,
   "id": "d51f0a1d-158d-47e0-9a77-98db6c15c11c",
   "metadata": {},
   "outputs": [
    {
     "data": {
      "text/plain": [
       "100.0"
      ]
     },
     "execution_count": 33,
     "metadata": {},
     "output_type": "execute_result"
    }
   ],
   "source": [
    "machine = Pos()\n",
    "machine.add(20)\n",
    "machine.add(30)\n",
    "machine.mul(10)\n",
    "machine.div(5)"
   ]
  },
  {
   "cell_type": "code",
   "execution_count": null,
   "id": "d75ceba0-76bb-4e9a-91e8-59cd14f92b59",
   "metadata": {},
   "outputs": [],
   "source": [
    "# 객체(object) == 인스턴스(instance)\n",
    "# 함수 == 메소드(method)"
   ]
  },
  {
   "cell_type": "code",
   "execution_count": 59,
   "id": "39f803c9-8d05-4c56-a9f6-8175015400c6",
   "metadata": {},
   "outputs": [],
   "source": [
    "# self란 클래스를 호출할 인스턴스를 지칭하는 명령어이다\n",
    "class FourCal:\n",
    "    \n",
    "    def setdata(self, first, second):\n",
    "        self.first = first\n",
    "        self.second = second\n",
    "        \n",
    "    def add(self):\n",
    "        result = self.first + self.second\n",
    "        return result\n",
    "    def sub(self):\n",
    "        result = self.first - self.second\n",
    "        return result\n",
    "    def div(self):\n",
    "        result = self.first / self.second\n",
    "        return result\n",
    "    def mul(self):\n",
    "        result = self.first * self.second\n",
    "        return result"
   ]
  },
  {
   "cell_type": "code",
   "execution_count": 60,
   "id": "7459b33e-4938-401e-b986-013838323eb5",
   "metadata": {},
   "outputs": [],
   "source": [
    "obj = FourCal()\n",
    "obz = FourCal()"
   ]
  },
  {
   "cell_type": "code",
   "execution_count": 68,
   "id": "d3173afe-181e-4b8f-aa86-7d3cc2cf7baf",
   "metadata": {},
   "outputs": [],
   "source": [
    "obj.setdata(2,1)\n",
    "obz.setdata(10,20)"
   ]
  },
  {
   "cell_type": "code",
   "execution_count": 69,
   "id": "ef645b17-8bef-47d4-81ba-92d92338f788",
   "metadata": {},
   "outputs": [
    {
     "name": "stdout",
     "output_type": "stream",
     "text": [
      "2\n",
      "1\n",
      "10\n",
      "20\n"
     ]
    }
   ],
   "source": [
    "print(obj.first)\n",
    "print(obj.second)\n",
    "print(obz.first)\n",
    "print(obz.second)"
   ]
  },
  {
   "cell_type": "code",
   "execution_count": 70,
   "id": "796e2af4-fc4e-431e-9424-61db8d6aa816",
   "metadata": {},
   "outputs": [
    {
     "data": {
      "text/plain": [
       "1762159257936"
      ]
     },
     "execution_count": 70,
     "metadata": {},
     "output_type": "execute_result"
    }
   ],
   "source": [
    "id(obj.first)"
   ]
  },
  {
   "cell_type": "code",
   "execution_count": 71,
   "id": "d83c885b-e056-461f-b7d7-eb40ac28c8ea",
   "metadata": {},
   "outputs": [
    {
     "data": {
      "text/plain": [
       "1762159258192"
      ]
     },
     "execution_count": 71,
     "metadata": {},
     "output_type": "execute_result"
    }
   ],
   "source": [
    "id(obz.first)"
   ]
  },
  {
   "cell_type": "code",
   "execution_count": 77,
   "id": "ebd24409-518b-450c-8558-67cac4776215",
   "metadata": {},
   "outputs": [
    {
     "name": "stdout",
     "output_type": "stream",
     "text": [
      "3\n",
      "1\n",
      "2.0\n",
      "2\n",
      "30\n",
      "-10\n",
      "0.5\n",
      "200\n"
     ]
    }
   ],
   "source": [
    "print(obj.add())\n",
    "print(obj.sub())\n",
    "print(obj.div())\n",
    "print(obj.mul())\n",
    "print(obz.add())\n",
    "print(obz.sub())\n",
    "print(obz.div())\n",
    "print(obz.mul())"
   ]
  },
  {
   "cell_type": "markdown",
   "id": "6972d291-771a-463a-8481-d27a7d9feff1",
   "metadata": {},
   "source": [
    "setdata로 하면 입력을 안해도 실행은 되서 뭐가 잘못된지 모른다"
   ]
  },
  {
   "cell_type": "markdown",
   "id": "a1459ea8-f3c9-4094-9682-e3becbcb9b18",
   "metadata": {},
   "source": [
    "### 생성자(constructor)\n",
    "__init__"
   ]
  },
  {
   "cell_type": "code",
   "execution_count": 78,
   "id": "2f61166d-053a-4c90-8c17-d5c5de57c0e6",
   "metadata": {},
   "outputs": [],
   "source": [
    "class FourCal:\n",
    "    \n",
    "    def __init__(self, first, second): # special method\n",
    "        self.first = first             # 생성과 동시에 이함수를 무조건 실행\n",
    "        self.second = second\n",
    "        \n",
    "    def add(self):\n",
    "        result = self.first + self.second\n",
    "        return result\n",
    "    def sub(self):\n",
    "        result = self.first - self.second\n",
    "        return result\n",
    "    def div(self):\n",
    "        result = self.first / self.second\n",
    "        return result\n",
    "    def mul(self):\n",
    "        result = self.first * self.second\n",
    "        return result"
   ]
  },
  {
   "cell_type": "code",
   "execution_count": 80,
   "id": "45358ce8-3351-4252-92f0-5d22aa89e2bd",
   "metadata": {},
   "outputs": [],
   "source": [
    "# __init__을 넣었기 떄문에 무조건 두 값을 넣어줘야 실행됨\n",
    "cal = FourCal(10,8)"
   ]
  },
  {
   "cell_type": "markdown",
   "id": "e60ad624-ed0d-4f6d-9bf6-3ef814160e37",
   "metadata": {},
   "source": [
    "### 클래스의 상속\n",
    "- Inheritance"
   ]
  },
  {
   "cell_type": "code",
   "execution_count": 2,
   "id": "cc4264b0-25ff-4b8b-a55c-27a0aeeacc85",
   "metadata": {},
   "outputs": [],
   "source": [
    "class FourCal:\n",
    "    \n",
    "    def __init__(self, first, second): # special method\n",
    "        self.first = first             # 생성과 동시에 이함수를 무조건 실행\n",
    "        self.second = second\n",
    "        \n",
    "    def add(self):\n",
    "        result = self.first + self.second\n",
    "        return result\n",
    "    def sub(self):\n",
    "        result = self.first - self.second\n",
    "        return result\n",
    "    def div(self):\n",
    "        result = self.first / self.second\n",
    "        return result\n",
    "    def mul(self):\n",
    "        result = self.first * self.second\n",
    "        return result"
   ]
  },
  {
   "cell_type": "code",
   "execution_count": 3,
   "id": "91d3a942-b125-46e6-84c1-37512f5821e7",
   "metadata": {},
   "outputs": [],
   "source": [
    "class Child(FourCal):\n",
    "    pass"
   ]
  },
  {
   "cell_type": "code",
   "execution_count": 4,
   "id": "155bc548-9499-4b8f-9f23-53ef93823823",
   "metadata": {},
   "outputs": [],
   "source": [
    "a = Child(1,2)"
   ]
  },
  {
   "cell_type": "code",
   "execution_count": 5,
   "id": "f82b8921-d05a-4bb3-b9f9-48e1bc3ba520",
   "metadata": {},
   "outputs": [
    {
     "data": {
      "text/plain": [
       "3"
      ]
     },
     "execution_count": 5,
     "metadata": {},
     "output_type": "execute_result"
    }
   ],
   "source": [
    "a.add()"
   ]
  },
  {
   "cell_type": "markdown",
   "id": "6da82a79-4b90-44e4-b33c-6313050cdb88",
   "metadata": {},
   "source": [
    "```\n",
    "    상속을 하는 이유\n",
    "    보통 기존클래스를 변경하거나 기능을 추가하거나 기존기능을 변경하려고 할때 사용한다\n",
    "    하지만 왜 기존 클래스를 수정하지 않는지 의문이든다.\n",
    "    기존 클래스가 라이브러리 형태로 제공되거나 수정이 허용되지 않는 상황이라면 상속을 사용해야한다\n",
    "```    "
   ]
  },
  {
   "cell_type": "code",
   "execution_count": 6,
   "id": "257467bd-3c86-4c65-8703-556c9b478f85",
   "metadata": {},
   "outputs": [],
   "source": [
    "class Child(FourCal):\n",
    "    def power(self):\n",
    "        result = self.first ** self.second\n",
    "        return result"
   ]
  },
  {
   "cell_type": "code",
   "execution_count": 7,
   "id": "627ee43d-a7ef-40b5-bca6-8e16a6374db1",
   "metadata": {},
   "outputs": [],
   "source": [
    "a = Child(2, 3)"
   ]
  },
  {
   "cell_type": "code",
   "execution_count": 9,
   "id": "0c9d4f29-a4ef-4bc9-b52f-c7510c242bab",
   "metadata": {},
   "outputs": [
    {
     "data": {
      "text/plain": [
       "8"
      ]
     },
     "execution_count": 9,
     "metadata": {},
     "output_type": "execute_result"
    }
   ],
   "source": [
    "a.power()\n",
    "# 상속을 하면 부모 클래스 의외에 메소드를 추가 해서 쓸수있다"
   ]
  },
  {
   "cell_type": "markdown",
   "id": "eca09c38-c429-44a8-9294-75b5ee7861b1",
   "metadata": {},
   "source": [
    "### 오버라이딩"
   ]
  },
  {
   "cell_type": "code",
   "execution_count": 10,
   "id": "97f5c662-dd5a-4577-8671-cb6718cc01a1",
   "metadata": {},
   "outputs": [
    {
     "data": {
      "text/plain": [
       "0.6666666666666666"
      ]
     },
     "execution_count": 10,
     "metadata": {},
     "output_type": "execute_result"
    }
   ],
   "source": [
    "a.mul()\n",
    "a.div()"
   ]
  },
  {
   "cell_type": "code",
   "execution_count": 14,
   "id": "c3eab19d-ea65-408c-8028-99fe7d65146c",
   "metadata": {},
   "outputs": [
    {
     "data": {
      "text/plain": [
       "0"
      ]
     },
     "execution_count": 14,
     "metadata": {},
     "output_type": "execute_result"
    }
   ],
   "source": [
    "a = Child(1,0)\n",
    "a.mul()\n",
    "# 0을 이용해서 곱셈은 되지만 나눗셈은 안된다"
   ]
  },
  {
   "cell_type": "code",
   "execution_count": 15,
   "id": "f18efa9d-418e-4e6e-b3c6-2e62eeab9657",
   "metadata": {},
   "outputs": [],
   "source": [
    "class Child(FourCal):\n",
    "    def power(self):\n",
    "        result = self.first ** self.second\n",
    "        return result\n",
    "    def div(self):\n",
    "        if self.second != 0:\n",
    "            result = self.first / self.second\n",
    "            return result\n",
    "        else:\n",
    "            print(\"0으로 나누면 안됩니다\")"
   ]
  },
  {
   "cell_type": "code",
   "execution_count": 16,
   "id": "d29a55ca-d534-4f1d-a758-dcaffc8bf7d8",
   "metadata": {},
   "outputs": [
    {
     "name": "stdout",
     "output_type": "stream",
     "text": [
      "0으로 나누면 안됩니다\n"
     ]
    }
   ],
   "source": [
    "a = Child(1,0)\n",
    "a.div()"
   ]
  },
  {
   "cell_type": "markdown",
   "id": "97c52e69-1b25-44d3-a386-7578bf992bcb",
   "metadata": {},
   "source": [
    "```\n",
    "    이렇게 부모 클래스에 있는 메서드를 동일한 이름으로 다시 만드는 것을\n",
    "    메소드 오버라이딩(Overriding,덮어쓰기)라고 합니다.\n",
    "    이렇게 메소드를 오버라이딩 하면 부모 클래스의 메소드 대신 오버라이딩한\n",
    "    메소드가 호출된다.\n",
    "```"
   ]
  },
  {
   "cell_type": "markdown",
   "id": "07c63125-6e14-41fb-b085-0f5bb98024da",
   "metadata": {},
   "source": [
    "### 클래스 변수"
   ]
  },
  {
   "cell_type": "code",
   "execution_count": 17,
   "id": "f028f31d-706e-4729-a374-f0af573d7901",
   "metadata": {},
   "outputs": [],
   "source": [
    "class Family:\n",
    "    lastname = \"Kim\""
   ]
  },
  {
   "cell_type": "code",
   "execution_count": 20,
   "id": "e8c29ecb-4f46-4e6e-9543-3f595f59e200",
   "metadata": {},
   "outputs": [
    {
     "name": "stdout",
     "output_type": "stream",
     "text": [
      "Kim\n"
     ]
    }
   ],
   "source": [
    "print(Family.lastname)"
   ]
  },
  {
   "cell_type": "code",
   "execution_count": 21,
   "id": "ba3ab8a0-c961-45f5-bef6-d992b9e0c116",
   "metadata": {},
   "outputs": [
    {
     "name": "stdout",
     "output_type": "stream",
     "text": [
      "Kim\n",
      "Kim\n"
     ]
    }
   ],
   "source": [
    "a = Family()\n",
    "b = Family()\n",
    "print(a.lastname)\n",
    "print(b.lastname)"
   ]
  },
  {
   "cell_type": "code",
   "execution_count": 23,
   "id": "7f5a895c-a956-46ae-9456-7baa02bc376b",
   "metadata": {},
   "outputs": [
    {
     "name": "stdout",
     "output_type": "stream",
     "text": [
      "Park\n",
      "Park\n"
     ]
    }
   ],
   "source": [
    "# 클래스 변수 값을 변경했더니 클래스로 만든 객체의 lastname값 모두 변경됨\n",
    "Family.lastname = \"Park\"\n",
    "print(a.lastname)\n",
    "print(b.lastname)"
   ]
  },
  {
   "cell_type": "code",
   "execution_count": 26,
   "id": "2b8230e5-0a74-4415-8de8-017a433b77b6",
   "metadata": {},
   "outputs": [
    {
     "name": "stdout",
     "output_type": "stream",
     "text": [
      "2479160517808\n",
      "2479160517808\n",
      "2479160517808\n"
     ]
    }
   ],
   "source": [
    "# id 값도 전부 같음으로 모두 같은 메모리를 가리키고있다\n",
    "print(id(Family.lastname))\n",
    "print(id(a.lastname))\n",
    "print(id(b.lastname))"
   ]
  },
  {
   "cell_type": "markdown",
   "id": "2647b3a8-755c-4457-9ee3-67f395e1d1af",
   "metadata": {},
   "source": [
    "## 모듈\n",
    "- 모듈이란 함수나 변수 또는 클래스를 모아 놓은 파일이다\n",
    "- 모듈은 다른 파이썬 프로그램에서 불러와 사용할수 있겠끔 만든 파이썬 파일이라고도 한다"
   ]
  },
  {
   "cell_type": "code",
   "execution_count": 33,
   "id": "183d79e9-254e-46a9-a655-0fe2692fe22d",
   "metadata": {},
   "outputs": [
    {
     "data": {
      "text/plain": [
       "2.0"
      ]
     },
     "execution_count": 33,
     "metadata": {},
     "output_type": "execute_result"
    }
   ],
   "source": [
    "import numpy\n",
    "numpy.sqrt(4)"
   ]
  },
  {
   "cell_type": "markdown",
   "id": "f63b38b1-336c-4b4b-870f-572f4646686a",
   "metadata": {},
   "source": [
    "```\n",
    "    Import의 사용방법은 import 모듈 이름\n",
    "    import 모듈이름 as 객체 로 별칭을 지어줄수도 있다\n",
    "    때로는 모듈의 함수만 사용하고 싶을때는\n",
    "    from 모듈 이름 import 모듈 함수\n",
    "    2 가지 이상 함수를 이용하고 싶으면 어떻게 할까\n",
    "    from mod1 import add,sub같이 함수를 다 불러오거나\n",
    "    from mod1 import* 뒤에 *을 붙여줘서 모든함수를 불러서 사용할수 있다\n",
    "                                              \n",
    "```"
   ]
  },
  {
   "cell_type": "code",
   "execution_count": 45,
   "id": "907a21d3-c91e-4b29-bf95-7c1092329be3",
   "metadata": {},
   "outputs": [
    {
     "data": {
      "text/plain": [
       "2.0"
      ]
     },
     "execution_count": 45,
     "metadata": {},
     "output_type": "execute_result"
    }
   ],
   "source": [
    "# 별칭(alias) 으로 불러오기\n",
    "import numpy as np\n",
    "np.sqrt(4)"
   ]
  },
  {
   "cell_type": "code",
   "execution_count": 32,
   "id": "ea036ede-5704-4638-81a1-c5a2b4a47abb",
   "metadata": {},
   "outputs": [
    {
     "data": {
      "text/plain": [
       "2.0"
      ]
     },
     "execution_count": 32,
     "metadata": {},
     "output_type": "execute_result"
    }
   ],
   "source": [
    "# 함수 이름만 사용하기\n",
    "from numpy import sqrt\n",
    "sqrt(4)"
   ]
  },
  {
   "cell_type": "code",
   "execution_count": 44,
   "id": "6a59ee87-9440-4232-8130-df20964dd139",
   "metadata": {},
   "outputs": [
    {
     "data": {
      "text/plain": [
       "6.123233995736766e-17"
      ]
     },
     "execution_count": 44,
     "metadata": {},
     "output_type": "execute_result"
    }
   ],
   "source": [
    "import numpy\n",
    "from math import pi\n",
    "numpy.cos(pi/2)\n"
   ]
  },
  {
   "cell_type": "code",
   "execution_count": 54,
   "id": "6a77bc0c-532b-475e-a595-c95f83eb5b8d",
   "metadata": {},
   "outputs": [],
   "source": [
    "x = np.linspace(0,2*pi,100) # 등분할"
   ]
  },
  {
   "cell_type": "code",
   "execution_count": 55,
   "id": "e0f333eb-67b4-495c-a74f-ed1b06473d1f",
   "metadata": {},
   "outputs": [],
   "source": [
    "y = np.sin(x)"
   ]
  },
  {
   "cell_type": "code",
   "execution_count": 56,
   "id": "7870d21a-ed39-4500-9c45-22b4ee80b537",
   "metadata": {},
   "outputs": [],
   "source": [
    "import matplotlib.pyplot as plt\n",
    "import numpy as np"
   ]
  },
  {
   "cell_type": "code",
   "execution_count": 58,
   "id": "bd6a56e9-c015-47e0-8044-ac150365ba7a",
   "metadata": {},
   "outputs": [
    {
     "data": {
      "text/plain": [
       "[<matplotlib.lines.Line2D at 0x2413ba95c10>]"
      ]
     },
     "execution_count": 58,
     "metadata": {},
     "output_type": "execute_result"
    },
    {
     "data": {
      "image/png": "[encoded data removed]",
      "text/plain": [
       "<Figure size 432x288 with 1 Axes>"
      ]
     },
     "metadata": {
      "needs_background": "light"
     },
     "output_type": "display_data"
    }
   ],
   "source": [
    "# sin 그래프\n",
    "x = np.linspace(0,2*pi,100)\n",
    "plt.plot(x,np.sin(x))"
   ]
  },
  {
   "cell_type": "code",
   "execution_count": 59,
   "id": "bcb586f7-085f-4e21-8ee2-4f62e949546a",
   "metadata": {},
   "outputs": [
    {
     "data": {
      "text/plain": [
       "[<matplotlib.lines.Line2D at 0x2413bb08d30>]"
      ]
     },
     "execution_count": 59,
     "metadata": {},
     "output_type": "execute_result"
    },
    {
     "data": {
      "image/png": "[encoded data removed]",
      "text/plain": [
       "<Figure size 432x288 with 1 Axes>"
      ]
     },
     "metadata": {
      "needs_background": "light"
     },
     "output_type": "display_data"
    }
   ],
   "source": [
    "# sin 그래프\n",
    "x = np.linspace(0,2*np.pi, 100)\n",
    "plt.plot(x,np.cos(x)) and plt.plot(x,np.sin(x))"
   ]
  },
  {
   "cell_type": "markdown",
   "id": "1b00956d-5d1d-4027-bbd6-298982e59e32",
   "metadata": {},
   "source": [
    "```\n",
    "import는 현재 디렉터리에 있는 파일이나 파이썬 라이브러리가 저장된 디렉터리에 있는\n",
    "모듈만 불러올수 있다\n",
    "```"
   ]
  },
  {
   "cell_type": "markdown",
   "id": "917a8ad5-042e-4c6a-a767-c9710521b872",
   "metadata": {},
   "source": [
    "- 인스턴스 변수"
   ]
  },
  {
   "cell_type": "code",
   "execution_count": 3,
   "id": "e51967d4-8262-4441-bbc3-53f6aa407cf9",
   "metadata": {},
   "outputs": [
    {
     "name": "stdout",
     "output_type": "stream",
     "text": [
      "Park 25\n",
      "Park 25\n"
     ]
    }
   ],
   "source": [
    "class Person:\n",
    "    def __init__(self):\n",
    "        self.name = \"Park\"\n",
    "        self.age = 25\n",
    "        \n",
    "p1 = Person()\n",
    "print(p1.name,p1.age)\n",
    "\n",
    "p2 = Person()\n",
    "print(p2.name,p2.age)"
   ]
  },
  {
   "cell_type": "code",
   "execution_count": null,
   "id": "d6d237e4-10c5-4cc0-a649-dd9696a9c2ef",
   "metadata": {},
   "outputs": [
    {
     "name": "stdin",
     "output_type": "stream",
     "text": [
      "이름을 입력하세요:  홍길동\n",
      "나이는요? 25\n"
     ]
    },
    {
     "name": "stdout",
     "output_type": "stream",
     "text": [
      "홍길동 25\n"
     ]
    }
   ],
   "source": [
    "class Person:\n",
    "    def __init__(self):\n",
    "        self.name = input(\"이름을 입력하세요: \")\n",
    "        self.age = int(input(\"나이는요? \"))\n",
    "        \n",
    "p1 = Person()\n",
    "print(p1.name,p1.age)"
   ]
  },
  {
   "cell_type": "code",
   "execution_count": 6,
   "id": "0484e782-88fc-43db-8f14-ab6e318facac",
   "metadata": {},
   "outputs": [
    {
     "name": "stdout",
     "output_type": "stream",
     "text": [
      "Park 25\n"
     ]
    }
   ],
   "source": [
    "class Person:\n",
    "    def __init__(self, name, age):\n",
    "        self.name = name\n",
    "        self.age = age\n",
    "        \n",
    "p1 = Person(\"Park\", 25)\n",
    "print(p1.name,p1.age)"
   ]
  },
  {
   "cell_type": "markdown",
   "id": "9cfc9c4d-b10b-4965-80a7-815a95fe8a7e",
   "metadata": {},
   "source": [
    "- 인스턴스 메소드"
   ]
  },
  {
   "cell_type": "code",
   "execution_count": 28,
   "id": "fada8dec-b765-4daa-93c4-be5f93c46ef7",
   "metadata": {},
   "outputs": [],
   "source": [
    "class Person:\n",
    "    # 클래스 변수\n",
    "    lastname = \"박\"\n",
    "    \n",
    "    # 인스턴스 변수 생성자\n",
    "    def __init__(self, name, age):\n",
    "        self.name = name\n",
    "        self.age = age\n",
    "    \n",
    "    # 메소드\n",
    "    def show(self):\n",
    "        print(\"이름:\",self.name,\"\\t나이:\",self.age)"
   ]
  },
  {
   "cell_type": "code",
   "execution_count": 30,
   "id": "b292cd3e-545f-4c35-8f7e-ff6da8a11172",
   "metadata": {},
   "outputs": [
    {
     "name": "stdout",
     "output_type": "stream",
     "text": [
      "박\n",
      "이름: Park \t나이: 25\n"
     ]
    }
   ],
   "source": [
    "p1 = Person(\"Park\",25)\n",
    "print(p1.lastname)\n",
    "p1.show()"
   ]
  },
  {
   "cell_type": "code",
   "execution_count": 31,
   "id": "f1c88eda-fc83-4ecb-9527-a42cdb34f55f",
   "metadata": {},
   "outputs": [],
   "source": [
    "p2 = Person(\"정자\",30)"
   ]
  },
  {
   "cell_type": "code",
   "execution_count": 32,
   "id": "ebe4f165-d8fc-4d18-b266-f37bbe03b4f7",
   "metadata": {},
   "outputs": [
    {
     "name": "stdout",
     "output_type": "stream",
     "text": [
      "박\n",
      "이름: 정자 \t나이: 30\n"
     ]
    }
   ],
   "source": [
    "print(p2.lastname)\n",
    "p2.show()"
   ]
  },
  {
   "cell_type": "code",
   "execution_count": 38,
   "id": "1d64d4ba-a257-4539-932a-ccb890a1d7bc",
   "metadata": {},
   "outputs": [
    {
     "name": "stdin",
     "output_type": "stream",
     "text": [
      "이름을 입력하세요:  a\n",
      "나이는요?  1\n",
      "이름을 입력하세요:  b\n",
      "나이는요?  2\n",
      "이름을 입력하세요:  c\n",
      "나이는요?  3\n"
     ]
    },
    {
     "name": "stdout",
     "output_type": "stream",
     "text": [
      "3\n"
     ]
    }
   ],
   "source": [
    "class Person:\n",
    "    def __init__(self):\n",
    "        self.name = input(\"이름을 입력하세요: \")\n",
    "        self.age = int(input(\"나이는요? \"))\n",
    "\n",
    "Persons = []\n",
    "for _ in range(3):\n",
    "    Persons.append(Person())\n",
    "print(len(Persons))"
   ]
  },
  {
   "cell_type": "code",
   "execution_count": 39,
   "id": "e7cbd47b-942a-40c7-bcf8-7a9a10d0d495",
   "metadata": {},
   "outputs": [
    {
     "name": "stdout",
     "output_type": "stream",
     "text": [
      "a 1\n",
      "b 2\n",
      "c 3\n"
     ]
    }
   ],
   "source": [
    "for person in Persons:\n",
    "    print(person.name, person.age)"
   ]
  },
  {
   "cell_type": "code",
   "execution_count": 44,
   "id": "b77a6ba9-f7d1-4972-adf3-e87a89a49157",
   "metadata": {},
   "outputs": [
    {
     "name": "stdin",
     "output_type": "stream",
     "text": [
      "이름을 입력하세요:  a\n",
      "나이는요?  1\n",
      "이름을 입력하세요:  b\n",
      "나이는요?  2\n",
      "이름을 입력하세요:  c\n",
      "나이는요?  3\n"
     ]
    },
    {
     "name": "stdout",
     "output_type": "stream",
     "text": [
      "이름: a \t나이: 1\n",
      "이름: b \t나이: 2\n",
      "이름: c \t나이: 3\n"
     ]
    }
   ],
   "source": [
    "class Person:\n",
    "    \n",
    "    def __init__(self):\n",
    "        self.name = input(\"이름을 입력하세요: \")\n",
    "        self.age = int(input(\"나이는요? \"))\n",
    "    \n",
    "    # 메소드\n",
    "    def show(self):\n",
    "        print(\"이름:\",self.name,\"\\t나이:\",self.age)\n",
    "        \n",
    "persons = []\n",
    "for _ in range(3):\n",
    "    persons.append(Person())\n",
    "    \n",
    "for person in persons:\n",
    "    person.show()"
   ]
  },
  {
   "cell_type": "markdown",
   "id": "44481c98-6693-430d-87c4-c08631c8689e",
   "metadata": {},
   "source": [
    "- 상속후 변수 추가하기"
   ]
  },
  {
   "cell_type": "code",
   "execution_count": 65,
   "id": "61769329-b231-4dc0-9733-223e3c6eedf9",
   "metadata": {},
   "outputs": [],
   "source": [
    "class Person:\n",
    "    def __init__(self):\n",
    "        self.name = \"Park\"\n",
    "        self.age = 23\n",
    "        \n",
    "class Korean(Person):\n",
    "    def __init__(self):\n",
    "        super().__init__()  #super()을 이용하여 부모의 init을 실행\n",
    "        self.lang = \"한국어\"\n",
    "        \n",
    "class American(Person):\n",
    "    def __init__(self):\n",
    "        super().__init__()  \n",
    "        self.lang = \"영어\"    "
   ]
  },
  {
   "cell_type": "code",
   "execution_count": 61,
   "id": "02ac5448-6173-4aa4-8efa-1901d787ff3e",
   "metadata": {},
   "outputs": [],
   "source": [
    "K1 = Korean()"
   ]
  },
  {
   "cell_type": "code",
   "execution_count": 62,
   "id": "63554b68-bd6e-4927-ba05-d96b9e4e0202",
   "metadata": {},
   "outputs": [
    {
     "data": {
      "text/plain": [
       "'한국어'"
      ]
     },
     "execution_count": 62,
     "metadata": {},
     "output_type": "execute_result"
    }
   ],
   "source": [
    "K1.lang"
   ]
  },
  {
   "cell_type": "code",
   "execution_count": 63,
   "id": "01518e9a-2fb3-4b38-8b1e-f56232fb1eb6",
   "metadata": {},
   "outputs": [
    {
     "data": {
      "text/plain": [
       "'Park'"
      ]
     },
     "execution_count": 63,
     "metadata": {},
     "output_type": "execute_result"
    }
   ],
   "source": [
    "K1.name"
   ]
  },
  {
   "cell_type": "markdown",
   "id": "0c0be2a3-8e12-46da-9b1c-e3ffbab1cabc",
   "metadata": {},
   "source": [
    "```\n",
    "객체: 형용사 속성,변수 attribute 예)car.color car.size car.year\n",
    "       동사  메소드,함수  method 예) car.go() car.turn() \n",
    "```\n",
    "- 상속후 메소드 추가하기"
   ]
  },
  {
   "cell_type": "code",
   "execution_count": 73,
   "id": "71c2e471-31da-4304-a839-1de641f900a7",
   "metadata": {},
   "outputs": [],
   "source": [
    "class Person:\n",
    "    def __init__(self):\n",
    "        self.name = \"길동\"\n",
    "        self.age = 23\n",
    "    \n",
    "    def show(self):\n",
    "        print(f\"이름은 {self.name}이고 나이는 {self.age}입니다.\")\n",
    "        \n",
    "    def say(self):\n",
    "        print(\"어서오세요\")\n",
    "        \n",
    "class Korean(Person):\n",
    "    def __init__(self):\n",
    "        super().__init__()\n",
    "        self.lang = \"한국어\"\n",
    "        \n",
    "    def say(self):\n",
    "        print(\"안녕하세요\")\n",
    "        \n",
    "class American(Person):\n",
    "    def __init__(self):\n",
    "        super().__init__()  \n",
    "        self.lang = \"영어\"\n",
    "        \n",
    "    def say(self):\n",
    "        print(\"Good Mornig\")"
   ]
  },
  {
   "cell_type": "code",
   "execution_count": 74,
   "id": "ab1aff19-1104-4ae7-a6af-3e28d9bccb84",
   "metadata": {},
   "outputs": [],
   "source": [
    "p1 = Person()\n",
    "p2 = Korean()\n",
    "p3 = American()"
   ]
  },
  {
   "cell_type": "code",
   "execution_count": 79,
   "id": "c23d49c8-1ca9-4fde-9047-9d2506ad7563",
   "metadata": {},
   "outputs": [
    {
     "name": "stdout",
     "output_type": "stream",
     "text": [
      "이름은 길동이고 나이는 23입니다.\n",
      "어서오세요\n"
     ]
    }
   ],
   "source": [
    "p1.show()\n",
    "p1.say()"
   ]
  },
  {
   "cell_type": "code",
   "execution_count": 80,
   "id": "0bbb158e-e9e4-48fc-9341-f5b0ec7eced8",
   "metadata": {},
   "outputs": [
    {
     "name": "stdout",
     "output_type": "stream",
     "text": [
      "이름은 길동이고 나이는 23입니다.\n",
      "안녕하세요\n"
     ]
    }
   ],
   "source": [
    "p2.show()\n",
    "p2.say()"
   ]
  },
  {
   "cell_type": "code",
   "execution_count": 81,
   "id": "88f8e75c-a057-42dc-b382-4326042fb237",
   "metadata": {},
   "outputs": [
    {
     "name": "stdout",
     "output_type": "stream",
     "text": [
      "이름은 길동이고 나이는 23입니다.\n",
      "Good Mornig\n"
     ]
    }
   ],
   "source": [
    "p3.show()\n",
    "p3.say()"
   ]
  },
  {
   "cell_type": "markdown",
   "id": "f26f599e-3174-4569-a989-e9c1198a8001",
   "metadata": {},
   "source": [
    "- 클래스 변수와 인스턴스 변수"
   ]
  },
  {
   "cell_type": "code",
   "execution_count": 96,
   "id": "4e49d506-57ad-47c4-840c-b7ea45be612d",
   "metadata": {},
   "outputs": [],
   "source": [
    "name = \"li\"                       # 전역 변수\n",
    "class Person:\n",
    "    name = \"Park\"                 # 클래스 변수\n",
    "    \n",
    "    def __init__(self, name):\n",
    "        self.name = name          # 인스턴스 변수, 지역변수, 로컬변수"
   ]
  },
  {
   "cell_type": "code",
   "execution_count": 97,
   "id": "1c73297d-130b-40e3-9912-f3ab9293e3a9",
   "metadata": {},
   "outputs": [],
   "source": [
    "p1 = Person(\"Kim\")"
   ]
  },
  {
   "cell_type": "code",
   "execution_count": 98,
   "id": "05492ef4-44aa-4c5f-88bf-9fd9e8a98b98",
   "metadata": {},
   "outputs": [
    {
     "data": {
      "text/plain": [
       "'Kim'"
      ]
     },
     "execution_count": 98,
     "metadata": {},
     "output_type": "execute_result"
    }
   ],
   "source": [
    "p1.name # 인스턴스 변수"
   ]
  },
  {
   "cell_type": "code",
   "execution_count": 99,
   "id": "5ae5731b-b90c-4c93-8599-ea62115b0984",
   "metadata": {},
   "outputs": [
    {
     "data": {
      "text/plain": [
       "'Park'"
      ]
     },
     "execution_count": 99,
     "metadata": {},
     "output_type": "execute_result"
    }
   ],
   "source": [
    "Person.name # 클래스이름.클래스변수"
   ]
  },
  {
   "cell_type": "code",
   "execution_count": 100,
   "id": "1029ac3d-60ae-4a8b-8dfc-d83b71027bf0",
   "metadata": {},
   "outputs": [
    {
     "data": {
      "text/plain": [
       "'li'"
      ]
     },
     "execution_count": 100,
     "metadata": {},
     "output_type": "execute_result"
    }
   ],
   "source": [
    "name # 전역 변수"
   ]
  },
  {
   "cell_type": "markdown",
   "id": "73e9cbc6-ff0d-4f36-8385-18d69c2bf627",
   "metadata": {},
   "source": [
    " Quiz\n",
    "```\n",
    "Peaple 이라는 클래스를 만듭니다\n",
    "전역변수는 전우치 클래스 변수는 홍길동, 인스턴스 변수는 장길산\n",
    "```"
   ]
  },
  {
   "cell_type": "code",
   "execution_count": 102,
   "id": "a339ef45-30c7-4850-81c9-547b5e0e5d1d",
   "metadata": {},
   "outputs": [],
   "source": [
    "name = \"전우치\"                       # 전역 변수\n",
    "class People:\n",
    "    name = \"홍길동\"                 # 클래스 변수\n",
    "    \n",
    "    def __init__(self, name):\n",
    "        self.name = name \n",
    "p1 = People(\"장길산\")"
   ]
  },
  {
   "cell_type": "code",
   "execution_count": 104,
   "id": "b61c5d25-4b58-4032-b769-8cd90e88cdf6",
   "metadata": {},
   "outputs": [
    {
     "name": "stdout",
     "output_type": "stream",
     "text": [
      "전우치 홍길동 장길산\n"
     ]
    }
   ],
   "source": [
    "print(name, People.name, p1.name)"
   ]
  },
  {
   "cell_type": "markdown",
   "id": "ef5be723-2059-444d-bb77-b47a0dbc6cb2",
   "metadata": {},
   "source": [
    "## 에외처리"
   ]
  },
  {
   "cell_type": "markdown",
   "id": "368fe616-d742-4649-aabd-d69de058fe56",
   "metadata": {},
   "source": [
    "```\n",
    "a = [10, 11, 12]\n",
    "for i in range(4):\n",
    "    print(a[i])\n",
    "이렇게 하면 4번 반복하는데 리스트는 3개뿐이라 에러가 생긴다\n",
    "```   "
   ]
  },
  {
   "cell_type": "code",
   "execution_count": 113,
   "id": "56e4e747-06cf-4842-91b5-1b0285495858",
   "metadata": {},
   "outputs": [
    {
     "name": "stdout",
     "output_type": "stream",
     "text": [
      "10\n",
      "11\n",
      "12\n"
     ]
    }
   ],
   "source": [
    "# try except 를 이용하여 에러가 일어나도 빠져나갈수 있게 한다\n",
    "a = [10, 11, 12]\n",
    "\n",
    "try:\n",
    "    for i in range(4):\n",
    "        print(a[i])\n",
    "except:\n",
    "    pass"
   ]
  },
  {
   "cell_type": "code",
   "execution_count": 110,
   "id": "23187471-166b-4899-9c7b-239050d3924a",
   "metadata": {},
   "outputs": [
    {
     "name": "stdout",
     "output_type": "stream",
     "text": [
      "에러\n"
     ]
    }
   ],
   "source": [
    "try:\n",
    "    4/0\n",
    "except:\n",
    "    print(\"에러\")"
   ]
  },
  {
   "cell_type": "code",
   "execution_count": 114,
   "id": "37b0b71a-4acb-46cf-8a6a-63fa35be6d85",
   "metadata": {},
   "outputs": [
    {
     "name": "stdout",
     "output_type": "stream",
     "text": [
      "에러\n"
     ]
    }
   ],
   "source": [
    "# except 뒤에 에러 내용을 알면  에러 종류를 써주면 그 에러만 걸러진다\n",
    "try:\n",
    "    4/0\n",
    "except ZeroDivisionError:\n",
    "    print(\"에러\")"
   ]
  },
  {
   "cell_type": "code",
   "execution_count": 122,
   "id": "c94b9e89-d438-4cfe-a096-c3aba2e5bfb7",
   "metadata": {},
   "outputs": [
    {
     "name": "stdout",
     "output_type": "stream",
     "text": [
      "division by zero\n"
     ]
    }
   ],
   "source": [
    "# as를 이용하여 에러를 객체에 저장할수 있다\n",
    "try:\n",
    "    4/0\n",
    "except ZeroDivisionError as e:\n",
    "    print(e)"
   ]
  },
  {
   "cell_type": "code",
   "execution_count": 119,
   "id": "528085c5-b078-4dea-84b5-3c38398916fb",
   "metadata": {},
   "outputs": [
    {
     "name": "stdout",
     "output_type": "stream",
     "text": [
      "list index out of range\n"
     ]
    }
   ],
   "source": [
    "try:\n",
    "    a = [1,2,3]\n",
    "    a[4]\n",
    "except IndexError as e:\n",
    "    print(e) "
   ]
  },
  {
   "cell_type": "code",
   "execution_count": 123,
   "id": "c5220dc2-2bff-4a68-9c7f-a1e6f56ccaa4",
   "metadata": {},
   "outputs": [
    {
     "name": "stdout",
     "output_type": "stream",
     "text": [
      "division by zero\n"
     ]
    }
   ],
   "source": [
    "# except 여러개 쓰기\n",
    "try:\n",
    "    4/0\n",
    "except ZeroDivisionError as e:\n",
    "    print(e)\n",
    "except IndexError as e:\n",
    "    print(e)"
   ]
  },
  {
   "cell_type": "code",
   "execution_count": 125,
   "id": "6dca9928-3079-4597-9d6f-1aa5ec4adc33",
   "metadata": {},
   "outputs": [
    {
     "name": "stdout",
     "output_type": "stream",
     "text": [
      "list index out of range\n"
     ]
    }
   ],
   "source": [
    "# 먼저 나온 에러를 처리한다\n",
    "try:\n",
    "    a = [1,2]\n",
    "    print(a[3])\n",
    "    4/0\n",
    "except ZeroDivisionError as e:\n",
    "    print(e)\n",
    "except IndexError as e:\n",
    "    print(e)"
   ]
  },
  {
   "cell_type": "code",
   "execution_count": 127,
   "id": "a6e5f851-b257-4f2f-adec-8b8a51c65ebc",
   "metadata": {},
   "outputs": [
    {
     "name": "stdout",
     "output_type": "stream",
     "text": [
      "list index out of range\n"
     ]
    }
   ],
   "source": [
    "# ()괄호를 이용하여 한문장으로 끝낼수있다\n",
    "try:\n",
    "    a = [1,2]\n",
    "    print(a[3])\n",
    "    4/0\n",
    "except (ZeroDivisionError, IndexError) as e:\n",
    "    print(e)"
   ]
  },
  {
   "cell_type": "code",
   "execution_count": 133,
   "id": "395f45fc-b73a-4cab-8b7f-3ccaf028b351",
   "metadata": {},
   "outputs": [],
   "source": [
    "# 반드시 fly라는 함수를 써야하는 class 일때\n",
    "# 강제로 에러를 일으키는 raise를 이용하여 경고한다\n",
    "class Bird:\n",
    "    def fly(self):\n",
    "        raise NotImplementedError"
   ]
  },
  {
   "cell_type": "code",
   "execution_count": 139,
   "id": "c6e302c4-e70e-44d9-8716-a2a89e6fa698",
   "metadata": {},
   "outputs": [
    {
     "name": "stdout",
     "output_type": "stream",
     "text": [
      "날다\n"
     ]
    }
   ],
   "source": [
    "'''\n",
    "    class Eagle(Bird): #fly함수를 안썻을때 에러가 난다\n",
    "    pass\n",
    "'''\n",
    "class Eagle(Bird):\n",
    "    def fly(self):\n",
    "        print(\"날다\")\n",
    "        \n",
    "e1 = Eagle()\n",
    "e1.fly()"
   ]
  },
  {
   "cell_type": "markdown",
   "id": "e43548bd-03c6-45eb-8b05-a5d30325b22e",
   "metadata": {},
   "source": [
    "## 내장함수"
   ]
  },
  {
   "cell_type": "code",
   "execution_count": 140,
   "id": "330b59e0-93e4-4bbc-bbc4-16a75f4389da",
   "metadata": {},
   "outputs": [],
   "source": [
    "li = [1,2,3]"
   ]
  },
  {
   "cell_type": "code",
   "execution_count": 142,
   "id": "48ad79e0-76a6-4703-ba72-2db41c1b3ec3",
   "metadata": {
    "collapsed": true,
    "jupyter": {
     "outputs_hidden": true
    },
    "tags": []
   },
   "outputs": [
    {
     "data": {
      "text/plain": [
       "['__add__',\n",
       " '__class__',\n",
       " '__class_getitem__',\n",
       " '__contains__',\n",
       " '__delattr__',\n",
       " '__delitem__',\n",
       " '__dir__',\n",
       " '__doc__',\n",
       " '__eq__',\n",
       " '__format__',\n",
       " '__ge__',\n",
       " '__getattribute__',\n",
       " '__getitem__',\n",
       " '__gt__',\n",
       " '__hash__',\n",
       " '__iadd__',\n",
       " '__imul__',\n",
       " '__init__',\n",
       " '__init_subclass__',\n",
       " '__iter__',\n",
       " '__le__',\n",
       " '__len__',\n",
       " '__lt__',\n",
       " '__mul__',\n",
       " '__ne__',\n",
       " '__new__',\n",
       " '__reduce__',\n",
       " '__reduce_ex__',\n",
       " '__repr__',\n",
       " '__reversed__',\n",
       " '__rmul__',\n",
       " '__setattr__',\n",
       " '__setitem__',\n",
       " '__sizeof__',\n",
       " '__str__',\n",
       " '__subclasshook__',\n",
       " 'append',\n",
       " 'clear',\n",
       " 'copy',\n",
       " 'count',\n",
       " 'extend',\n",
       " 'index',\n",
       " 'insert',\n",
       " 'pop',\n",
       " 'remove',\n",
       " 'reverse',\n",
       " 'sort']"
      ]
     },
     "execution_count": 142,
     "metadata": {},
     "output_type": "execute_result"
    }
   ],
   "source": [
    "dir(li)"
   ]
  },
  {
   "cell_type": "code",
   "execution_count": null,
   "id": "0d843952-cbcc-4d4a-a815-d4a6a5982042",
   "metadata": {},
   "outputs": [],
   "source": [
    "print()\n",
    "int()\n",
    "float()\n",
    "str()\n",
    "bool()\n",
    "type()\n",
    "range()\n",
    "len()\n",
    "sum()"
   ]
  },
  {
   "cell_type": "code",
   "execution_count": 143,
   "id": "fd8914a6-c6bf-4f43-85d1-ac94206a0f71",
   "metadata": {},
   "outputs": [
    {
     "data": {
      "text/plain": [
       "3"
      ]
     },
     "execution_count": 143,
     "metadata": {},
     "output_type": "execute_result"
    }
   ],
   "source": [
    "abs(-3)"
   ]
  },
  {
   "cell_type": "code",
   "execution_count": 144,
   "id": "84316cee-985e-4614-a9eb-9b40e5e2bad1",
   "metadata": {},
   "outputs": [
    {
     "data": {
      "text/plain": [
       "True"
      ]
     },
     "execution_count": 144,
     "metadata": {},
     "output_type": "execute_result"
    }
   ],
   "source": [
    "all([1,2,3])"
   ]
  },
  {
   "cell_type": "code",
   "execution_count": 145,
   "id": "30589a06-72e3-4ec8-a049-be2cec45aaa1",
   "metadata": {},
   "outputs": [
    {
     "data": {
      "text/plain": [
       "False"
      ]
     },
     "execution_count": 145,
     "metadata": {},
     "output_type": "execute_result"
    }
   ],
   "source": [
    "all([1,2,3,0])"
   ]
  },
  {
   "cell_type": "code",
   "execution_count": 146,
   "id": "5dad3b74-0d97-4790-8fb3-55a2453b353d",
   "metadata": {},
   "outputs": [
    {
     "data": {
      "text/plain": [
       "True"
      ]
     },
     "execution_count": 146,
     "metadata": {},
     "output_type": "execute_result"
    }
   ],
   "source": [
    "any([1,2,3,0])"
   ]
  },
  {
   "cell_type": "code",
   "execution_count": 148,
   "id": "e8b0c0b5-ca4b-4a08-afff-083d99adbd9b",
   "metadata": {},
   "outputs": [
    {
     "data": {
      "text/plain": [
       "'a'"
      ]
     },
     "execution_count": 148,
     "metadata": {},
     "output_type": "execute_result"
    }
   ],
   "source": [
    "chr(97)"
   ]
  },
  {
   "cell_type": "code",
   "execution_count": 150,
   "id": "03cdf624-eec5-4e37-aae9-569a9ff9b3b1",
   "metadata": {},
   "outputs": [
    {
     "data": {
      "text/plain": [
       "(3, 2)"
      ]
     },
     "execution_count": 150,
     "metadata": {},
     "output_type": "execute_result"
    }
   ],
   "source": [
    "divmod(11,3)"
   ]
  },
  {
   "cell_type": "code",
   "execution_count": 151,
   "id": "308e52d0-40eb-442c-b453-f69b4e2be68c",
   "metadata": {},
   "outputs": [
    {
     "name": "stdout",
     "output_type": "stream",
     "text": [
      "0 body\n",
      "1 foo\n",
      "2 bar\n"
     ]
    }
   ],
   "source": [
    "for i, name in enumerate(['body', 'foo', 'bar']):\n",
    "    print(i, name)"
   ]
  },
  {
   "cell_type": "code",
   "execution_count": 157,
   "id": "924a3889-ec9e-46d5-91b1-7022a5777ff9",
   "metadata": {},
   "outputs": [
    {
     "data": {
      "text/plain": [
       "[-2, -1, 1, 2]"
      ]
     },
     "execution_count": 157,
     "metadata": {},
     "output_type": "execute_result"
    }
   ],
   "source": [
    "#filter(return 값이 참 거짓인 함수, 리스트 자료형)\n",
    "\n",
    "list(filter(bool, [-2, -1, 0 ,1 ,2]))"
   ]
  },
  {
   "cell_type": "code",
   "execution_count": 1,
   "id": "1b6ed558-3ded-4f4d-a4a0-fa1d6464b5a9",
   "metadata": {},
   "outputs": [
    {
     "data": {
      "text/plain": [
       "[1, 2]"
      ]
     },
     "execution_count": 1,
     "metadata": {},
     "output_type": "execute_result"
    }
   ],
   "source": [
    "def positive(x):\n",
    "    return x > 0\n",
    "\n",
    "list(filter(positive, [-2, -1, 0, 1, 2]))"
   ]
  },
  {
   "cell_type": "code",
   "execution_count": 2,
   "id": "350b97ab-0d51-416a-9df5-b5bb60826b6a",
   "metadata": {},
   "outputs": [
    {
     "data": {
      "text/plain": [
       "[1, 2]"
      ]
     },
     "execution_count": 2,
     "metadata": {},
     "output_type": "execute_result"
    }
   ],
   "source": [
    "list(filter(lambda a: a > 0, [-2, -1, 0, 1, 2]))"
   ]
  },
  {
   "cell_type": "code",
   "execution_count": 162,
   "id": "f7cfad5d-e987-4e0d-87be-f9f63b198552",
   "metadata": {},
   "outputs": [
    {
     "data": {
      "text/plain": [
       "'0xea'"
      ]
     },
     "execution_count": 162,
     "metadata": {},
     "output_type": "execute_result"
    }
   ],
   "source": [
    "hex(234)"
   ]
  },
  {
   "cell_type": "code",
   "execution_count": 164,
   "id": "e2b8d6c8-e82b-4c01-a8f2-0c4fee4703ff",
   "metadata": {},
   "outputs": [
    {
     "data": {
      "text/plain": [
       "234"
      ]
     },
     "execution_count": 164,
     "metadata": {},
     "output_type": "execute_result"
    }
   ],
   "source": [
    "int(0xea)"
   ]
  },
  {
   "cell_type": "code",
   "execution_count": 166,
   "id": "ba2bc1a7-5ff3-43d5-a84e-023fe2b37c9d",
   "metadata": {},
   "outputs": [
    {
     "data": {
      "text/plain": [
       "3"
      ]
     },
     "execution_count": 166,
     "metadata": {},
     "output_type": "execute_result"
    }
   ],
   "source": [
    "# int(숫자, ?) 숫자 뒤에 2, 8, 16 등 진수를 써넣으면 그 숫자를 해당 진수로 바꿔준다\n",
    "int('11',2)"
   ]
  },
  {
   "cell_type": "code",
   "execution_count": 169,
   "id": "a775396c-b301-44db-91aa-6527fd1fbdfd",
   "metadata": {},
   "outputs": [
    {
     "data": {
      "text/plain": [
       "[0, 1, 2]"
      ]
     },
     "execution_count": 169,
     "metadata": {},
     "output_type": "execute_result"
    }
   ],
   "source": [
    "list(range(3))"
   ]
  },
  {
   "cell_type": "code",
   "execution_count": null,
   "id": "f53c4e80-030d-437c-80a3-d7359b74d774",
   "metadata": {},
   "outputs": [],
   "source": [
    "#list(list(3)) list로 리스트를 작성하고 인덱싱도 가능하지만 리스트로 볼수없다"
   ]
  },
  {
   "cell_type": "code",
   "execution_count": 3,
   "id": "36671fc4-469a-4159-bc29-db77a799792a",
   "metadata": {},
   "outputs": [
    {
     "data": {
      "text/plain": [
       "['H', 'e', 'l', 'l', 'o']"
      ]
     },
     "execution_count": 3,
     "metadata": {},
     "output_type": "execute_result"
    }
   ],
   "source": [
    "list(\"Hello\")"
   ]
  },
  {
   "cell_type": "code",
   "execution_count": 4,
   "id": "06e35af8-b089-49b8-a6e8-b213d8b821c5",
   "metadata": {},
   "outputs": [
    {
     "data": {
      "text/plain": [
       "[1, 2, 3]"
      ]
     },
     "execution_count": 4,
     "metadata": {},
     "output_type": "execute_result"
    }
   ],
   "source": [
    "list((1,2,3))"
   ]
  },
  {
   "cell_type": "code",
   "execution_count": 8,
   "id": "818e0b9b-739b-4d05-bf73-3b900f80a731",
   "metadata": {},
   "outputs": [
    {
     "name": "stdout",
     "output_type": "stream",
     "text": [
      "[2, 4, 6, 8]\n"
     ]
    }
   ],
   "source": [
    "def two_times(numberList):\n",
    "    result = []\n",
    "    for number in numberList:\n",
    "        result.append(number*2)\n",
    "    return result\n",
    "\n",
    "result = two_times([1, 2, 3, 4])\n",
    "print(result)"
   ]
  },
  {
   "cell_type": "code",
   "execution_count": 11,
   "id": "efe17d79-7c77-4b89-90d9-e6a1fc149a38",
   "metadata": {},
   "outputs": [
    {
     "data": {
      "text/plain": [
       "[2, 4, 6, 8]"
      ]
     },
     "execution_count": 11,
     "metadata": {},
     "output_type": "execute_result"
    }
   ],
   "source": [
    "list(map(lambda a: a*2, [1, 2, 3, 4]))"
   ]
  },
  {
   "cell_type": "markdown",
   "id": "f1c9cb9c-83c6-4325-9e7d-59c6abd06eee",
   "metadata": {},
   "source": [
    "```\n",
    "iterable: 순환가능한, 반복가능한\n",
    "range(3): 0, 1, 2\n",
    "for i in iterable한 자료형\n",
    "리스트, 튜플, 딕셔너리, set, str,  range\n",
    "```"
   ]
  },
  {
   "cell_type": "markdown",
   "id": "279a1eab-5adb-4070-a106-517920e9caa2",
   "metadata": {},
   "source": [
    "```\n",
    "    mutable 수정 가능한\n",
    "    mutable 자료형, immutable 자료형\n",
    "    [1,2,3] 2 <- 20 이렇게 바꿀수 있을때\n",
    "    [1,2,3] 리스트는 mutable\n",
    "    (1,2,3) 튜플은 immutable\n",
    "    mutable list, dictionary\n",
    "    immutable tuple, str, int\n",
    "```"
   ]
  },
  {
   "cell_type": "code",
   "execution_count": 14,
   "id": "f40cbc3e-6310-4792-a3b1-1a1d330b770a",
   "metadata": {},
   "outputs": [
    {
     "data": {
      "text/plain": [
       "[1, 2, 3]"
      ]
     },
     "execution_count": 14,
     "metadata": {},
     "output_type": "execute_result"
    }
   ],
   "source": [
    "a = [2,1,3]\n",
    "sorted(a)"
   ]
  },
  {
   "cell_type": "code",
   "execution_count": 16,
   "id": "341bd8d2-cec6-4093-a753-fe4f14803593",
   "metadata": {},
   "outputs": [
    {
     "data": {
      "text/plain": [
       "[2, 1, 3]"
      ]
     },
     "execution_count": 16,
     "metadata": {},
     "output_type": "execute_result"
    }
   ],
   "source": [
    "# sorted 는 정리를 해준것 처럼 보이지만 안에는 그대로다\n",
    "a"
   ]
  },
  {
   "cell_type": "code",
   "execution_count": 18,
   "id": "1116eee9-d977-4090-b5b0-fb46628d0c41",
   "metadata": {},
   "outputs": [
    {
     "data": {
      "text/plain": [
       "[1, 2, 3]"
      ]
     },
     "execution_count": 18,
     "metadata": {},
     "output_type": "execute_result"
    }
   ],
   "source": [
    "# 덮어 씌워주면 sorted 된걸로 바뀐다\n",
    "a = sorted(a)\n",
    "a"
   ]
  },
  {
   "cell_type": "code",
   "execution_count": 21,
   "id": "0a56dd2f-911b-4f9b-8451-8cac4c25d40f",
   "metadata": {},
   "outputs": [],
   "source": [
    "a = [2,1,3]\n",
    "a.sort()"
   ]
  },
  {
   "cell_type": "code",
   "execution_count": 23,
   "id": "1d9936a6-f1f7-4c1e-baab-d682e321c43f",
   "metadata": {},
   "outputs": [
    {
     "data": {
      "text/plain": [
       "[1, 2, 3]"
      ]
     },
     "execution_count": 23,
     "metadata": {},
     "output_type": "execute_result"
    }
   ],
   "source": [
    "# sort는 자동으로 값도 바꿔준다\n",
    "a"
   ]
  },
  {
   "cell_type": "code",
   "execution_count": 24,
   "id": "7c789023-9655-4e42-99aa-66314e070722",
   "metadata": {},
   "outputs": [
    {
     "data": {
      "text/plain": [
       "[(1, 4), (2, 5), (3, 6)]"
      ]
     },
     "execution_count": 24,
     "metadata": {},
     "output_type": "execute_result"
    }
   ],
   "source": [
    "# filter, map, zip 자주쓰이는 내장함수\n",
    "list(zip([1,2,3], [4,5,6]))"
   ]
  },
  {
   "cell_type": "code",
   "execution_count": 25,
   "id": "520a1924-11b6-42cb-b96f-38032f542e04",
   "metadata": {},
   "outputs": [
    {
     "data": {
      "text/plain": [
       "[(1, 4, 7), (2, 5, 8), (3, 6, 9)]"
      ]
     },
     "execution_count": 25,
     "metadata": {},
     "output_type": "execute_result"
    }
   ],
   "source": [
    "list(zip([1,2,3],[4,5,6],[7,8,9]))"
   ]
  },
  {
   "cell_type": "code",
   "execution_count": 27,
   "id": "65b899e3-4d9a-43ca-9d24-ff4f255abc97",
   "metadata": {},
   "outputs": [
    {
     "data": {
      "text/plain": [
       "[('a', 'd'), ('b', 'e'), ('c', 'f')]"
      ]
     },
     "execution_count": 27,
     "metadata": {},
     "output_type": "execute_result"
    }
   ],
   "source": [
    "list(zip(\"abc\",\"def\"))"
   ]
  },
  {
   "cell_type": "markdown",
   "id": "55d099cd-09d6-4d32-b921-25ffb72b7866",
   "metadata": {},
   "source": [
    "## 외장 함수\n",
    "- 라이브러리"
   ]
  },
  {
   "cell_type": "markdown",
   "id": "d2a3302e-ef3d-4b57-981d-7e212f75edfb",
   "metadata": {},
   "source": [
    "### pickle 라이브러리"
   ]
  },
  {
   "cell_type": "code",
   "execution_count": 1,
   "id": "a9407bfb-586b-4ad4-97fd-c2f367919086",
   "metadata": {},
   "outputs": [],
   "source": [
    "import pickle"
   ]
  },
  {
   "cell_type": "code",
   "execution_count": 4,
   "id": "bdb9d6eb-285e-477a-b9c8-5115515f50c7",
   "metadata": {},
   "outputs": [],
   "source": [
    "f = open(\"test.txt\", \"wb\")\n",
    "data = {1:\"python\", 2:\"you need\"}\n",
    "pickle.dump(data, f)\n",
    "f.close()"
   ]
  },
  {
   "cell_type": "code",
   "execution_count": 8,
   "id": "9589b0d6-23d7-4d50-b580-0f3bcb471a8f",
   "metadata": {},
   "outputs": [
    {
     "name": "stdout",
     "output_type": "stream",
     "text": [
      "{1: 'python', 2: 'you need'}\n"
     ]
    }
   ],
   "source": [
    "f =  open(\"test.txt\",\"rb\")\n",
    "data = pickle.load(f)\n",
    "print(data)"
   ]
  },
  {
   "cell_type": "markdown",
   "id": "98da86f4-6435-4d03-b8c4-2bb884887082",
   "metadata": {},
   "source": [
    "### os"
   ]
  },
  {
   "cell_type": "code",
   "execution_count": 9,
   "id": "a9ef9569-0e75-4ae2-94f8-6c4e326e8955",
   "metadata": {},
   "outputs": [],
   "source": [
    "# os\n",
    "import os"
   ]
  },
  {
   "cell_type": "code",
   "execution_count": 83,
   "id": "5bc50d0b-07f4-4f15-8005-12fb3d7d181f",
   "metadata": {
    "collapsed": true,
    "jupyter": {
     "outputs_hidden": true
    },
    "tags": []
   },
   "outputs": [
    {
     "data": {
      "text/plain": [
       "environ{'ALLUSERSPROFILE': 'C:\\\\ProgramData',\n",
       "        'APPDATA': 'C:\\\\Users\\\\wjsrn\\\\AppData\\\\Roaming',\n",
       "        'CDSROOT': 'C:\\\\OrCAD\\\\OrCAD_16.6_Lite',\n",
       "        'COMMONPROGRAMFILES': 'C:\\\\Program Files\\\\Common Files',\n",
       "        'COMMONPROGRAMFILES(X86)': 'C:\\\\Program Files (x86)\\\\Common Files',\n",
       "        'COMMONPROGRAMW6432': 'C:\\\\Program Files\\\\Common Files',\n",
       "        'COMPUTERNAME': 'DESKTOP-IRDUUJD',\n",
       "        'COMSPEC': 'C:\\\\WINDOWS\\\\system32\\\\cmd.exe',\n",
       "        'CONCEPT_INST_DIR': 'C:\\\\OrCAD\\\\OrCAD_16.6_Lite',\n",
       "        'CONDA_DEFAULT_ENV': 'base',\n",
       "        'CONDA_EXE': 'C:\\\\Users\\\\wjsrn\\\\anaconda3\\\\Scripts\\\\conda.exe',\n",
       "        'CONDA_PREFIX': 'C:\\\\Users\\\\wjsrn\\\\anaconda3',\n",
       "        'CONDA_PROMPT_MODIFIER': '(base) ',\n",
       "        'CONDA_PYTHON_EXE': 'C:\\\\Users\\\\wjsrn\\\\anaconda3\\\\python.exe',\n",
       "        'CONDA_SHLVL': '1',\n",
       "        'DPIAWARE': '0',\n",
       "        'DRIVERDATA': 'C:\\\\Windows\\\\System32\\\\Drivers\\\\DriverData',\n",
       "        'FPS_BROWSER_APP_PROFILE_STRING': 'Internet Explorer',\n",
       "        'FPS_BROWSER_USER_PROFILE_STRING': 'Default',\n",
       "        'HOME': 'C:\\\\Users\\\\wjsrn\\\\AppData\\\\Roaming\\\\SPB_16.6',\n",
       "        'HOMEDRIVE': 'C:',\n",
       "        'HOMEPATH': '\\\\Users\\\\wjsrn',\n",
       "        'LOCALAPPDATA': 'C:\\\\Users\\\\wjsrn\\\\AppData\\\\Local',\n",
       "        'LOGONSERVER': '\\\\\\\\DESKTOP-IRDUUJD',\n",
       "        'NUMBER_OF_PROCESSORS': '4',\n",
       "        'ONEDRIVE': 'C:\\\\Users\\\\wjsrn\\\\OneDrive',\n",
       "        'ONEDRIVECONSUMER': 'C:\\\\Users\\\\wjsrn\\\\OneDrive',\n",
       "        'OS': 'Windows_NT',\n",
       "        'PATH': 'C:\\\\Users\\\\wjsrn\\\\anaconda3;C:\\\\Users\\\\wjsrn\\\\anaconda3\\\\Library\\\\mingw-w64\\\\bin;C:\\\\Users\\\\wjsrn\\\\anaconda3\\\\Library\\\\usr\\\\bin;C:\\\\Users\\\\wjsrn\\\\anaconda3\\\\Library\\\\bin;C:\\\\Users\\\\wjsrn\\\\anaconda3\\\\Scripts;C:\\\\Users\\\\wjsrn\\\\anaconda3\\\\bin;C:\\\\Users\\\\wjsrn\\\\anaconda3\\\\condabin;C:\\\\Program Files (x86)\\\\Common Files\\\\Oracle\\\\Java\\\\javapath;C:\\\\Program Files (x86)\\\\NAT Service;C:\\\\Windows\\\\system32;C:\\\\Windows;C:\\\\Windows\\\\System32\\\\Wbem;C:\\\\Windows\\\\System32\\\\WindowsPowerShell\\\\v1.0;C:\\\\Windows\\\\System32\\\\OpenSSH;C:\\\\Program Files\\\\NVIDIA Corporation\\\\NVIDIA NvDLISR;C:\\\\WINDOWS\\\\system32;C:\\\\WINDOWS;C:\\\\WINDOWS\\\\System32\\\\Wbem;C:\\\\WINDOWS\\\\System32\\\\WindowsPowerShell\\\\v1.0;C:\\\\WINDOWS\\\\System32\\\\OpenSSH;C:\\\\Program Files (x86)\\\\NVIDIA Corporation\\\\PhysX\\\\Common;\"C:\\\\Users\\\\wjsrn\\\\AppData\\\\Local\\\\Programs\\\\Python\\\\Python38-32\\\\Scripts;\";\"C:\\\\Users\\\\wjsrn\\\\AppData\\\\Local\\\\Programs\\\\Python\\\\Python38-32;C:\\\\Program Files\\\\dotnet;C:\\\\WINDOWS\\\\system32;C:\\\\WINDOWS;C:\\\\WINDOWS\\\\System32\\\\Wbem;C:\\\\WINDOWS\\\\System32\\\\WindowsPowerShell\\\\v1.0;C:\\\\WINDOWS\\\\System32\\\\OpenSSH;C:\\\\Program Files\\\\Cloudflare\\\\Cloudflare WARP;C:\\\\Users\\\\wjsrn\\\\anaconda3;C:\\\\Users\\\\wjsrn\\\\anaconda3\\\\Library\\\\mingw-w64\\\\bin;C:\\\\Users\\\\wjsrn\\\\anaconda3\\\\Library\\\\usr\\\\bin;C:\\\\Users\\\\wjsrn\\\\anaconda3\\\\Library\\\\bin;C:\\\\Users\\\\wjsrn\\\\anaconda3\\\\Scripts;C:\\\\Users\\\\wjsrn\\\\AppData\\\\Local\\\\Programs\\\\Python\\\\Python38-32\\\\Scripts;C:\\\\Users\\\\wjsrn\\\\AppData\\\\Local\\\\Programs\\\\Python\\\\Python38-32;C:\\\\OrCAD\\\\OrCAD_16.6_Lite\\\\OpenAccess\\\\bin\\\\win32\\\\opt;C:\\\\OrCAD\\\\OrCAD_16.6_Lite\\\\tools\\\\pcb\\\\bin;C:\\\\OrCAD\\\\OrCAD_16.6_Lite\\\\tools\\\\fet\\\\bin;C:\\\\OrCAD\\\\OrCAD_16.6_Lite\\\\tools\\\\Capture;C:\\\\OrCAD\\\\OrCAD_16.6_Lite\\\\tools\\\\PSpice;C:\\\\OrCAD\\\\OrCAD_16.6_Lite\\\\tools\\\\specctra\\\\bin;C:\\\\OrCAD\\\\OrCAD_16.6_Lite\\\\tools\\\\bin;C:\\\\Users\\\\wjsrn\\\\AppData\\\\Local\\\\Microsoft\\\\WindowsApps;C:\\\\Program Files\\\\Bandizip',\n",
       "        'PATHEXT': '.COM;.EXE;.BAT;.CMD;.VBS;.VBE;.JS;.JSE;.WSF;.WSH;.MSC',\n",
       "        'PROCESSOR_ARCHITECTURE': 'AMD64',\n",
       "        'PROCESSOR_IDENTIFIER': 'Intel64 Family 6 Model 60 Stepping 3, GenuineIntel',\n",
       "        'PROCESSOR_LEVEL': '6',\n",
       "        'PROCESSOR_REVISION': '3c03',\n",
       "        'PROGRAMDATA': 'C:\\\\ProgramData',\n",
       "        'PROGRAMFILES': 'C:\\\\Program Files',\n",
       "        'PROGRAMFILES(X86)': 'C:\\\\Program Files (x86)',\n",
       "        'PROGRAMW6432': 'C:\\\\Program Files',\n",
       "        'PROMPT': '(base) $P$G',\n",
       "        'PSMODULEPATH': 'C:\\\\Program Files\\\\WindowsPowerShell\\\\Modules;C:\\\\WINDOWS\\\\system32\\\\WindowsPowerShell\\\\v1.0\\\\Modules',\n",
       "        'PUBLIC': 'C:\\\\Users\\\\Public',\n",
       "        'SESSIONNAME': 'Console',\n",
       "        'SYSTEMDRIVE': 'C:',\n",
       "        'SYSTEMROOT': 'C:\\\\WINDOWS',\n",
       "        'TEMP': 'C:\\\\Users\\\\wjsrn\\\\AppData\\\\Local\\\\Temp',\n",
       "        'TMP': 'C:\\\\Users\\\\wjsrn\\\\AppData\\\\Local\\\\Temp',\n",
       "        'USERDOMAIN': 'DESKTOP-IRDUUJD',\n",
       "        'USERDOMAIN_ROAMINGPROFILE': 'DESKTOP-IRDUUJD',\n",
       "        'USERNAME': 'wjsrn',\n",
       "        'USERPROFILE': 'C:\\\\Users\\\\wjsrn',\n",
       "        'VBOX_MSI_INSTALL_PATH': 'C:\\\\Program Files\\\\Oracle\\\\VirtualBox\\\\',\n",
       "        'WINDIR': 'C:\\\\WINDOWS',\n",
       "        'PYDEVD_USE_FRAME_EVAL': 'NO',\n",
       "        'JPY_INTERRUPT_EVENT': '3060',\n",
       "        'IPY_INTERRUPT_EVENT': '3060',\n",
       "        'JPY_PARENT_PID': '3064',\n",
       "        'TERM': 'xterm-color',\n",
       "        'CLICOLOR': '1',\n",
       "        'PAGER': 'cat',\n",
       "        'GIT_PAGER': 'cat',\n",
       "        'MPLBACKEND': 'module://matplotlib_inline.backend_inline'}"
      ]
     },
     "execution_count": 83,
     "metadata": {},
     "output_type": "execute_result"
    }
   ],
   "source": [
    "os.environ"
   ]
  },
  {
   "cell_type": "code",
   "execution_count": 11,
   "id": "2b11d124-cb42-435d-821a-f2e84fb3dbd1",
   "metadata": {},
   "outputs": [
    {
     "data": {
      "text/plain": [
       "'C:\\\\python'"
      ]
     },
     "execution_count": 11,
     "metadata": {},
     "output_type": "execute_result"
    }
   ],
   "source": [
    "pwd"
   ]
  },
  {
   "cell_type": "code",
   "execution_count": 21,
   "id": "df0072e6-b6e0-4630-b627-4d3694cd39ad",
   "metadata": {},
   "outputs": [],
   "source": [
    "os.chdir(\"C:\\python\")"
   ]
  },
  {
   "cell_type": "code",
   "execution_count": 22,
   "id": "03582eb0-0b8d-4e91-a4f6-f6679204a423",
   "metadata": {},
   "outputs": [
    {
     "data": {
      "text/plain": [
       "'C:\\\\python'"
      ]
     },
     "execution_count": 22,
     "metadata": {},
     "output_type": "execute_result"
    }
   ],
   "source": [
    "pwd"
   ]
  },
  {
   "cell_type": "code",
   "execution_count": 23,
   "id": "900a6e40-98aa-4ddc-9100-72019a85cc62",
   "metadata": {},
   "outputs": [
    {
     "name": "stdout",
     "output_type": "stream",
     "text": [
      " C 드라이브의 볼륨에는 이름이 없습니다.\n",
      " 볼륨 일련 번호: 10C3-24C4\n",
      "\n",
      " C:\\python 디렉터리\n",
      "\n",
      "2022-03-02  오전 11:15    <DIR>          .\n",
      "2022-03-02  오전 11:15    <DIR>          ..\n",
      "2022-03-02  오전 10:17    <DIR>          .ipynb_checkpoints\n",
      "2022-02-23  오후 02:39                 0 .txt\n",
      "2022-02-24  오전 09:00            17,889 0101.ipynb\n",
      "2022-03-02  오전 10:17                27 argv_test.py\n",
      "2022-02-28  오후 02:17                 5 greeting.txt\n",
      "2022-02-25  오후 04:46               230 mod1.py\n",
      "2022-02-25  오후 04:45                42 mod2.py\n",
      "2022-03-02  오전 09:51            42,101 Practice.ipynb\n",
      "2022-02-25  오전 09:47                45 python.txt\n",
      "2022-03-02  오전 11:15           241,681 python01.ipynb\n",
      "2022-02-28  오후 02:20                20 pythonpractice.txt\n",
      "2022-02-28  오전 10:36                29 temp.py\n",
      "2022-03-02  오전 10:40                40 test.txt\n",
      "2022-02-25  오전 10:47                76 test1.py\n",
      "2022-03-02  오전 10:15    <DIR>          __pycache__\n",
      "2022-02-25  오전 10:08               185 새파일.txt\n",
      "              14개 파일             302,370 바이트\n",
      "               4개 디렉터리  118,270,447,616 바이트 남음\n"
     ]
    }
   ],
   "source": [
    "!dir"
   ]
  },
  {
   "cell_type": "code",
   "execution_count": 19,
   "id": "dc2f0473-7384-4f3b-9be2-1895b964ee68",
   "metadata": {},
   "outputs": [
    {
     "data": {
      "text/plain": [
       "0"
      ]
     },
     "execution_count": 19,
     "metadata": {},
     "output_type": "execute_result"
    }
   ],
   "source": [
    "os.system(\"dir\")"
   ]
  },
  {
   "cell_type": "markdown",
   "id": "db4a1792-595c-45b4-9dfe-3814363f9cdf",
   "metadata": {},
   "source": [
    "```\n",
    "SHUTIL\n",
    "a -> b\n",
    "src: source\n",
    "dst: destination\n",
    "```"
   ]
  },
  {
   "cell_type": "markdown",
   "id": "71680908-8abf-4ce5-8318-e1110c8f6425",
   "metadata": {},
   "source": [
    "### shutil"
   ]
  },
  {
   "cell_type": "code",
   "execution_count": 24,
   "id": "5b37f44e-8dfd-4f4e-8d4e-fa7961f93808",
   "metadata": {},
   "outputs": [
    {
     "data": {
      "text/plain": [
       "'test_dst.txt'"
      ]
     },
     "execution_count": 24,
     "metadata": {},
     "output_type": "execute_result"
    }
   ],
   "source": [
    "import shutil\n",
    "shutil.copy(\"test.txt\", \"test_dst.txt\")"
   ]
  },
  {
   "cell_type": "markdown",
   "id": "410e0b9d-3402-40e4-b4ec-537ff22fa1d2",
   "metadata": {
    "tags": []
   },
   "source": [
    "### glob"
   ]
  },
  {
   "cell_type": "code",
   "execution_count": 25,
   "id": "b492dfed-f3b7-4df5-ac2c-5877740bf154",
   "metadata": {},
   "outputs": [],
   "source": [
    "# glob\n",
    "import glob"
   ]
  },
  {
   "cell_type": "code",
   "execution_count": 30,
   "id": "14fa336b-c562-4113-8812-f86478b765a2",
   "metadata": {},
   "outputs": [
    {
     "data": {
      "text/plain": [
       "['C:\\\\python\\\\0101.ipynb',\n",
       " 'C:\\\\python\\\\argv_test.py',\n",
       " 'C:\\\\python\\\\greeting.txt',\n",
       " 'C:\\\\python\\\\mod1.py',\n",
       " 'C:\\\\python\\\\mod2.py',\n",
       " 'C:\\\\python\\\\Practice.ipynb',\n",
       " 'C:\\\\python\\\\python.txt',\n",
       " 'C:\\\\python\\\\python01.ipynb',\n",
       " 'C:\\\\python\\\\pythonpractice.txt',\n",
       " 'C:\\\\python\\\\temp.py',\n",
       " 'C:\\\\python\\\\test.txt',\n",
       " 'C:\\\\python\\\\test1.py',\n",
       " 'C:\\\\python\\\\test_dst.txt',\n",
       " 'C:\\\\python\\\\__pycache__',\n",
       " 'C:\\\\python\\\\새파일.txt']"
      ]
     },
     "execution_count": 30,
     "metadata": {},
     "output_type": "execute_result"
    }
   ],
   "source": [
    "glob.glob(\"C:\\python\\*\")"
   ]
  },
  {
   "cell_type": "code",
   "execution_count": 28,
   "id": "df849fbb-ab80-4b32-bc99-338626e6b61d",
   "metadata": {},
   "outputs": [
    {
     "data": {
      "text/plain": [
       "['C:\\\\python\\\\argv_test.py',\n",
       " 'C:\\\\python\\\\mod1.py',\n",
       " 'C:\\\\python\\\\mod2.py',\n",
       " 'C:\\\\python\\\\temp.py',\n",
       " 'C:\\\\python\\\\test1.py']"
      ]
     },
     "execution_count": 28,
     "metadata": {},
     "output_type": "execute_result"
    }
   ],
   "source": [
    "glob.glob(\"C:\\python\\*.py\")"
   ]
  },
  {
   "cell_type": "markdown",
   "id": "6b226911-11b5-4b8d-bef6-0bb310b98365",
   "metadata": {},
   "source": [
    "### time"
   ]
  },
  {
   "cell_type": "code",
   "execution_count": 31,
   "id": "4dbc25a5-53aa-4002-91e2-86f1b201e125",
   "metadata": {},
   "outputs": [],
   "source": [
    "# time\n",
    "import time"
   ]
  },
  {
   "cell_type": "code",
   "execution_count": 32,
   "id": "d8f5b853-2ae4-4b7e-8461-988758eeb766",
   "metadata": {},
   "outputs": [
    {
     "data": {
      "text/plain": [
       "1646187672.455879"
      ]
     },
     "execution_count": 32,
     "metadata": {},
     "output_type": "execute_result"
    }
   ],
   "source": [
    "time.time()"
   ]
  },
  {
   "cell_type": "code",
   "execution_count": 34,
   "id": "cca74681-e2dd-47aa-806a-a78371f742a6",
   "metadata": {},
   "outputs": [
    {
     "name": "stdout",
     "output_type": "stream",
     "text": [
      "27436463.80651296\n",
      "457274.396775216\n",
      "19053.099865633998\n",
      "52.200273604476706\n"
     ]
    }
   ],
   "source": [
    "print(time.time()/60)\n",
    "print(time.time()/60/60)\n",
    "print(time.time()/60/60/24)\n",
    "print(time.time()/60/60/24/365)"
   ]
  },
  {
   "cell_type": "code",
   "execution_count": 35,
   "id": "94a13930-7551-4284-90a6-8d2e10fc4c90",
   "metadata": {},
   "outputs": [
    {
     "data": {
      "text/plain": [
       "time.struct_time(tm_year=2022, tm_mon=3, tm_mday=2, tm_hour=11, tm_min=25, tm_sec=18, tm_wday=2, tm_yday=61, tm_isdst=0)"
      ]
     },
     "execution_count": 35,
     "metadata": {},
     "output_type": "execute_result"
    }
   ],
   "source": [
    "time.localtime()"
   ]
  },
  {
   "cell_type": "code",
   "execution_count": 37,
   "id": "00880cf7-ee49-4c83-8391-bbfd937f5cd2",
   "metadata": {},
   "outputs": [
    {
     "data": {
      "text/plain": [
       "2022"
      ]
     },
     "execution_count": 37,
     "metadata": {},
     "output_type": "execute_result"
    }
   ],
   "source": [
    "time.localtime().tm_year"
   ]
  },
  {
   "cell_type": "code",
   "execution_count": 38,
   "id": "09052a86-abc3-43a1-84b3-3f071a2293f6",
   "metadata": {},
   "outputs": [
    {
     "data": {
      "text/plain": [
       "'Wed Mar  2 11:27:59 2022'"
      ]
     },
     "execution_count": 38,
     "metadata": {},
     "output_type": "execute_result"
    }
   ],
   "source": [
    "time.asctime()"
   ]
  },
  {
   "cell_type": "code",
   "execution_count": 44,
   "id": "2158adfd-365b-451b-9af7-a4519b50de8c",
   "metadata": {},
   "outputs": [
    {
     "data": {
      "text/plain": [
       "'Wed Mar  2 11:30:48 2022'"
      ]
     },
     "execution_count": 44,
     "metadata": {},
     "output_type": "execute_result"
    }
   ],
   "source": [
    "time.strftime('%c', time.localtime(time.time()))"
   ]
  },
  {
   "cell_type": "code",
   "execution_count": 45,
   "id": "c2251ccd-9b18-4a1e-aeca-b843f0bac340",
   "metadata": {},
   "outputs": [
    {
     "data": {
      "text/plain": [
       "'Wednesday Mar 11'"
      ]
     },
     "execution_count": 45,
     "metadata": {},
     "output_type": "execute_result"
    }
   ],
   "source": [
    "time.strftime('%A %b %I', time.localtime(time.time()))"
   ]
  },
  {
   "cell_type": "code",
   "execution_count": 47,
   "id": "3ca32d72-0d16-4ba5-8e88-a5fa89fe4fd0",
   "metadata": {},
   "outputs": [
    {
     "data": {
      "text/plain": [
       "'03 35 01 11:35:01 2022'"
      ]
     },
     "execution_count": 47,
     "metadata": {},
     "output_type": "execute_result"
    }
   ],
   "source": [
    "time.strftime('%m %M %S %X %Y', time.localtime(time.time()))"
   ]
  },
  {
   "cell_type": "code",
   "execution_count": 48,
   "id": "3d95a063-e9c9-4185-bef8-82e6c169f057",
   "metadata": {},
   "outputs": [
    {
     "name": "stdout",
     "output_type": "stream",
     "text": [
      "Hello\n",
      "Hello\n"
     ]
    },
    {
     "ename": "KeyboardInterrupt",
     "evalue": "",
     "output_type": "error",
     "traceback": [
      "\u001b[1;31m---------------------------------------------------------------------------\u001b[0m",
      "\u001b[1;31mKeyboardInterrupt\u001b[0m                         Traceback (most recent call last)",
      "\u001b[1;32m~\\AppData\\Local\\Temp/ipykernel_4376/671610844.py\u001b[0m in \u001b[0;36m<module>\u001b[1;34m\u001b[0m\n\u001b[0;32m      2\u001b[0m \u001b[1;32mwhile\u001b[0m \u001b[1;34m\"Hello\"\u001b[0m \u001b[1;33m:\u001b[0m\u001b[1;33m\u001b[0m\u001b[1;33m\u001b[0m\u001b[0m\n\u001b[0;32m      3\u001b[0m     \u001b[0mprint\u001b[0m\u001b[1;33m(\u001b[0m\u001b[1;34m\"Hello\"\u001b[0m\u001b[1;33m)\u001b[0m\u001b[1;33m\u001b[0m\u001b[1;33m\u001b[0m\u001b[0m\n\u001b[1;32m----> 4\u001b[1;33m     \u001b[0mtime\u001b[0m\u001b[1;33m.\u001b[0m\u001b[0msleep\u001b[0m\u001b[1;33m(\u001b[0m\u001b[1;36m5\u001b[0m\u001b[1;33m)\u001b[0m\u001b[1;33m\u001b[0m\u001b[1;33m\u001b[0m\u001b[0m\n\u001b[0m",
      "\u001b[1;31mKeyboardInterrupt\u001b[0m: "
     ]
    }
   ],
   "source": [
    "# time.sleap()\n",
    "while \"Hello\" :\n",
    "    print(\"Hello\")\n",
    "    time.sleep(5)"
   ]
  },
  {
   "cell_type": "markdown",
   "id": "9711538f-bf2c-41cf-95f3-55ee6a9cb4cb",
   "metadata": {},
   "source": [
    "### calendar"
   ]
  },
  {
   "cell_type": "code",
   "execution_count": 52,
   "id": "a516a6c0-59dd-4e18-9e10-eba5fc9264c8",
   "metadata": {
    "collapsed": true,
    "jupyter": {
     "outputs_hidden": true
    },
    "tags": []
   },
   "outputs": [
    {
     "name": "stdout",
     "output_type": "stream",
     "text": [
      "                                  2022\n",
      "\n",
      "      January                   February                   March\n",
      "Mo Tu We Th Fr Sa Su      Mo Tu We Th Fr Sa Su      Mo Tu We Th Fr Sa Su\n",
      "                1  2          1  2  3  4  5  6          1  2  3  4  5  6\n",
      " 3  4  5  6  7  8  9       7  8  9 10 11 12 13       7  8  9 10 11 12 13\n",
      "10 11 12 13 14 15 16      14 15 16 17 18 19 20      14 15 16 17 18 19 20\n",
      "17 18 19 20 21 22 23      21 22 23 24 25 26 27      21 22 23 24 25 26 27\n",
      "24 25 26 27 28 29 30      28                        28 29 30 31\n",
      "31\n",
      "\n",
      "       April                      May                       June\n",
      "Mo Tu We Th Fr Sa Su      Mo Tu We Th Fr Sa Su      Mo Tu We Th Fr Sa Su\n",
      "             1  2  3                         1             1  2  3  4  5\n",
      " 4  5  6  7  8  9 10       2  3  4  5  6  7  8       6  7  8  9 10 11 12\n",
      "11 12 13 14 15 16 17       9 10 11 12 13 14 15      13 14 15 16 17 18 19\n",
      "18 19 20 21 22 23 24      16 17 18 19 20 21 22      20 21 22 23 24 25 26\n",
      "25 26 27 28 29 30         23 24 25 26 27 28 29      27 28 29 30\n",
      "                          30 31\n",
      "\n",
      "        July                     August                  September\n",
      "Mo Tu We Th Fr Sa Su      Mo Tu We Th Fr Sa Su      Mo Tu We Th Fr Sa Su\n",
      "             1  2  3       1  2  3  4  5  6  7                1  2  3  4\n",
      " 4  5  6  7  8  9 10       8  9 10 11 12 13 14       5  6  7  8  9 10 11\n",
      "11 12 13 14 15 16 17      15 16 17 18 19 20 21      12 13 14 15 16 17 18\n",
      "18 19 20 21 22 23 24      22 23 24 25 26 27 28      19 20 21 22 23 24 25\n",
      "25 26 27 28 29 30 31      29 30 31                  26 27 28 29 30\n",
      "\n",
      "      October                   November                  December\n",
      "Mo Tu We Th Fr Sa Su      Mo Tu We Th Fr Sa Su      Mo Tu We Th Fr Sa Su\n",
      "                1  2          1  2  3  4  5  6                1  2  3  4\n",
      " 3  4  5  6  7  8  9       7  8  9 10 11 12 13       5  6  7  8  9 10 11\n",
      "10 11 12 13 14 15 16      14 15 16 17 18 19 20      12 13 14 15 16 17 18\n",
      "17 18 19 20 21 22 23      21 22 23 24 25 26 27      19 20 21 22 23 24 25\n",
      "24 25 26 27 28 29 30      28 29 30                  26 27 28 29 30 31\n",
      "31\n",
      "\n"
     ]
    }
   ],
   "source": [
    "# calendar\n",
    "import calendar\n",
    "print(calendar.calendar(2022))"
   ]
  },
  {
   "cell_type": "code",
   "execution_count": 51,
   "id": "a1f5c663-de05-48c6-b85f-0aae509c7644",
   "metadata": {},
   "outputs": [
    {
     "name": "stdout",
     "output_type": "stream",
     "text": [
      "     March 2022\n",
      "Mo Tu We Th Fr Sa Su\n",
      "    1  2  3  4  5  6\n",
      " 7  8  9 10 11 12 13\n",
      "14 15 16 17 18 19 20\n",
      "21 22 23 24 25 26 27\n",
      "28 29 30 31\n",
      "None\n"
     ]
    }
   ],
   "source": [
    "print(calendar.prmonth(2022, 3))"
   ]
  },
  {
   "cell_type": "code",
   "execution_count": 57,
   "id": "d6a8a917-616e-471e-9bac-1c939089e59e",
   "metadata": {},
   "outputs": [
    {
     "data": {
      "text/plain": [
       "3"
      ]
     },
     "execution_count": 57,
     "metadata": {},
     "output_type": "execute_result"
    }
   ],
   "source": [
    "calendar.weekday(2022,3,3)"
   ]
  },
  {
   "cell_type": "markdown",
   "id": "8fbde80c-15c7-4bdb-9808-551e7214732e",
   "metadata": {},
   "source": [
    "### random\n",
    "- random.random()\n",
    "- random.randint()\n",
    "- random.choice()\n",
    "- random.choices()\n",
    "- random.sample()"
   ]
  },
  {
   "cell_type": "code",
   "execution_count": 58,
   "id": "a1a50ca0-6a5a-416c-8645-95c5d30da340",
   "metadata": {},
   "outputs": [],
   "source": [
    "# random\n",
    "import random"
   ]
  },
  {
   "cell_type": "markdown",
   "id": "a0101a2e-bc1b-41a5-912b-6224e5524359",
   "metadata": {},
   "source": [
    "```\n",
    "random.seed() random, 난수\n",
    "1.0 3.9 0.3 5.2\n",
    "2,0 0,8 3,4 10.\n",
    "random.seed(2)\n",
    "random.random()\n",
    "```"
   ]
  },
  {
   "cell_type": "code",
   "execution_count": 76,
   "id": "05eeacb8-bb52-4c8d-864f-5a17e071c707",
   "metadata": {},
   "outputs": [
    {
     "data": {
      "text/plain": [
       "0.9664535356921388"
      ]
     },
     "execution_count": 76,
     "metadata": {},
     "output_type": "execute_result"
    }
   ],
   "source": [
    "random.seed(1234)\n",
    "random.random()\n",
    "# 논문같은걸 보고 같은 값으로 시작하기 위해서 시작값을 정해두는것"
   ]
  },
  {
   "cell_type": "code",
   "execution_count": 71,
   "id": "b5e77bae-371d-489a-a6fd-39a8e4c91400",
   "metadata": {},
   "outputs": [
    {
     "data": {
      "text/plain": [
       "0.4407325991753527"
      ]
     },
     "execution_count": 71,
     "metadata": {},
     "output_type": "execute_result"
    }
   ],
   "source": [
    "random.random() # 0 - 1 값을 돌려준다 # 값을 1개만 돌려준다"
   ]
  },
  {
   "cell_type": "code",
   "execution_count": 60,
   "id": "49544499-0915-4178-a200-df57c7aeb876",
   "metadata": {},
   "outputs": [
    {
     "data": {
      "text/plain": [
       "2"
      ]
     },
     "execution_count": 60,
     "metadata": {},
     "output_type": "execute_result"
    }
   ],
   "source": [
    "random.randint(1, 3)"
   ]
  },
  {
   "cell_type": "code",
   "execution_count": 61,
   "id": "bc85c785-30c8-457c-bb91-35e010ef823c",
   "metadata": {},
   "outputs": [
    {
     "data": {
      "text/plain": [
       "3"
      ]
     },
     "execution_count": 61,
     "metadata": {},
     "output_type": "execute_result"
    }
   ],
   "source": [
    "random.choice([1,2,3])"
   ]
  },
  {
   "cell_type": "code",
   "execution_count": 66,
   "id": "19b52155-3d24-4fb1-b5ef-26600b072c0e",
   "metadata": {},
   "outputs": [
    {
     "data": {
      "text/plain": [
       "[2, 3, 2, 3, 2, 3, 3, 1, 3, 1]"
      ]
     },
     "execution_count": 66,
     "metadata": {},
     "output_type": "execute_result"
    }
   ],
   "source": [
    "random.choices([1,2,3], k = 10) # with replacement 보건"
   ]
  },
  {
   "cell_type": "code",
   "execution_count": 69,
   "id": "d844b417-58eb-4462-80dd-eec3b1ac5886",
   "metadata": {},
   "outputs": [
    {
     "data": {
      "text/plain": [
       "[3, 2]"
      ]
     },
     "execution_count": 69,
     "metadata": {},
     "output_type": "execute_result"
    }
   ],
   "source": [
    "random.sample([1,2,3,4], k = 2)  # 비 보건 추출"
   ]
  },
  {
   "cell_type": "raw",
   "id": "e29dc5dd-9a8b-4508-9e12-e4856533e7b0",
   "metadata": {},
   "source": [
    "# random\n",
    "# np.random"
   ]
  },
  {
   "cell_type": "code",
   "execution_count": 77,
   "id": "6b17fb9e-3e45-4e1e-b32b-5095dc9d880e",
   "metadata": {},
   "outputs": [
    {
     "data": {
      "text/plain": [
       "[2, 3, 5, 1, 4]"
      ]
     },
     "execution_count": 77,
     "metadata": {},
     "output_type": "execute_result"
    }
   ],
   "source": [
    "data = [1,2,3,4,5]\n",
    "random.shuffle(data)\n",
    "data"
   ]
  },
  {
   "cell_type": "markdown",
   "id": "efbcb8e6-ebdc-4ad8-891d-4b98769b08d7",
   "metadata": {},
   "source": [
    "# 정규 표현식\n",
    "- Regular Expression"
   ]
  },
  {
   "cell_type": "code",
   "execution_count": null,
   "id": "69ae9054-aeed-41a1-b7d5-2e4b3b7e9fb3",
   "metadata": {},
   "outputs": [],
   "source": [
    "```\n",
    "\n",
    "```"
   ]
  },
  {
   "cell_type": "code",
   "execution_count": 78,
   "id": "1c425bec-ec4a-49d9-a120-cb06416c232d",
   "metadata": {},
   "outputs": [],
   "source": [
    "import re"
   ]
  },
  {
   "cell_type": "code",
   "execution_count": 80,
   "id": "050a72da-2915-42a9-98cf-4de044f96f2e",
   "metadata": {},
   "outputs": [
    {
     "data": {
      "text/plain": [
       "re.Pattern"
      ]
     },
     "execution_count": 80,
     "metadata": {},
     "output_type": "execute_result"
    }
   ],
   "source": [
    "pat = re.compile(r'abc')\n",
    "type(pat)"
   ]
  },
  {
   "cell_type": "code",
   "execution_count": 82,
   "id": "65110050-2e2c-4e8e-8258-b8c5ecfdc5ae",
   "metadata": {},
   "outputs": [
    {
     "data": {
      "text/plain": [
       "<re.Match object; span=(3, 6), match='abc'>"
      ]
     },
     "execution_count": 82,
     "metadata": {},
     "output_type": "execute_result"
    }
   ],
   "source": [
    "re.search(pat, \"123abcd\")"
   ]
  },
  {
   "cell_type": "markdown",
   "id": "8d31645f-be1d-488b-9c97-86fa63b9b7c4",
   "metadata": {},
   "source": [
    "문자 클래스[]\n",
    "\n",
    ".$*+ 같은 메타문자는\n",
    "\n",
    "문자 클래스 안에 들어오면 해당의미를 잃고 문자로 취급된다\n",
    "\n",
    "[]는 그리고 or의 의미를 가진다"
   ]
  },
  {
   "cell_type": "markdown",
   "id": "3d49970f-10ed-4727-adc1-95fc984b0efe",
   "metadata": {},
   "source": [
    "Dot(.)\n",
    "\n",
    "a.b = a + 모든 문자 하나 + b\n",
    "\n",
    "aab 나 a0b는 맞지만 abc는 ab가 붙어있음으로 틀리다\n",
    "\n",
    "a[.]b는 메타문자가 문자 클래스 안에있음으로 a.b문자열과 매치된다"
   ]
  },
  {
   "cell_type": "markdown",
   "id": "d030594b-a5bc-4782-a4bc-1a4d8b78c1dd",
   "metadata": {},
   "source": [
    "반복(*)\n",
    "\n",
    "ca*t <- 문자 바로 앞에 있는 a가 0번 이상 반복되면 매치\n",
    "\n",
    "ct 0번 반복되어 매치 cat a가 1번 반복되어 매치 caaat a가 3번 반복되어 매치"
   ]
  },
  {
   "cell_type": "markdown",
   "id": "6dd45a61-900e-4007-ab01-cd0383aee2de",
   "metadata": {},
   "source": [
    "반복(+)\n",
    "\n",
    "+는 최소 1번 이상 반복될때 사용한다\n",
    "\n",
    "cat caaaat은 *와 같이 매치 되지만\n",
    "\n",
    "위에 *랑 다르게 ct는 0번 반복이라 매치가 되지않는다"
   ]
  },
  {
   "cell_type": "markdown",
   "id": "38e7c0f2-7d61-41a7-a081-07f321ca0301",
   "metadata": {},
   "source": [
    "?\n",
    "\n",
    "?은 앞에 문자가 1번 이하로 나와야 매치가 된다"
   ]
  },
  {
   "cell_type": "markdown",
   "id": "c2b5dba6-5192-4df2-a0da-16302814281a",
   "metadata": {},
   "source": [
    "{m}\n",
    "\n",
    "ca{2}t <- a가 2번 반복되면 매치\n",
    "\n",
    "caat만 매치된다"
   ]
  },
  {
   "cell_type": "markdown",
   "id": "9fa91641-bb00-46b0-99ac-7f64a6bc59c7",
   "metadata": {},
   "source": [
    "{m,n}\n",
    "\n",
    "ca{2,5}t <- a가 2~5번 반복되면 매치\n",
    "\n",
    "cat은 안되고 caat은 되고 caaaaat 은 5번반복이므로 매치"
   ]
  },
  {
   "cell_type": "markdown",
   "id": "88b9a674-90dd-4173-a267-5fd21e5603d3",
   "metadata": {},
   "source": [
    "{2,5} {2,} {,5}\n",
    "\n",
    "\"2 ~ 5 \"\" 2~\"\"    ~5\""
   ]
  },
  {
   "cell_type": "code",
   "execution_count": 6,
   "id": "9f0e32c0-bc5b-409f-827f-85fb87f0b2ec",
   "metadata": {},
   "outputs": [
    {
     "data": {
      "text/plain": [
       "<re.Match object; span=(2, 8), match='abbbbb'>"
      ]
     },
     "execution_count": 6,
     "metadata": {},
     "output_type": "execute_result"
    }
   ],
   "source": [
    "import re\n",
    "\n",
    "a = \"diabbbbbfc32!#\"\n",
    "\n",
    "p = re.compile(\"ab*\")\n",
    "\n",
    "p.search(a)"
   ]
  },
  {
   "cell_type": "raw",
   "id": "f5727455-cf09-4ca1-8cff-b920b10f4800",
   "metadata": {},
   "source": [
    "a = p.search(\"ab*\",\"diabbbbbbbfc32!#\" )"
   ]
  },
  {
   "cell_type": "code",
   "execution_count": 9,
   "id": "f6411c0a-cb13-4d23-9965-f23cbabe807f",
   "metadata": {},
   "outputs": [
    {
     "name": "stdout",
     "output_type": "stream",
     "text": [
      "diabbbbbfc32!#\n"
     ]
    }
   ],
   "source": [
    "print(a)"
   ]
  },
  {
   "cell_type": "markdown",
   "id": "433a41b5-c3f6-4447-af1e-12aa7ca3426a",
   "metadata": {},
   "source": [
    "match\n",
    "\n",
    "match객체로 결과가 나옴"
   ]
  },
  {
   "cell_type": "markdown",
   "id": "9e687b65-3b23-4a8f-9e27-587b6550556e",
   "metadata": {},
   "source": [
    "search\n",
    "\n",
    "match객체 형태\n",
    "\n",
    "search는 첫번째로 찾은 하나만 결과로 나옴"
   ]
  },
  {
   "cell_type": "markdown",
   "id": "d0b6164d-4732-4b15-bc4a-e721caf2f249",
   "metadata": {},
   "source": [
    "findall\n",
    "\n",
    "findall은 다 찾아줌\n",
    "\n",
    "list 형태"
   ]
  },
  {
   "cell_type": "code",
   "execution_count": 19,
   "id": "c083e3dc-0a6b-4060-be35-d394b5b095e1",
   "metadata": {},
   "outputs": [
    {
     "name": "stdout",
     "output_type": "stream",
     "text": [
      "<re.Match object; span=(0, 6), match='python'>\n"
     ]
    }
   ],
   "source": [
    "import re\n",
    "p = re.compile('[a-z]+')\n",
    "m = p.match(\"python\")\n",
    "print(m)"
   ]
  },
  {
   "cell_type": "code",
   "execution_count": 20,
   "id": "cc543e82-396b-4097-b1e2-c181e46f8753",
   "metadata": {},
   "outputs": [
    {
     "data": {
      "text/plain": [
       "['life', 'is', 'too', 'short']"
      ]
     },
     "execution_count": 20,
     "metadata": {},
     "output_type": "execute_result"
    }
   ],
   "source": [
    "p = re.compile(\"[a-z]+\")\n",
    "p.findall(\"life is too short\")"
   ]
  },
  {
   "cell_type": "code",
   "execution_count": 11,
   "id": "7c8d60c7-d1e3-44ac-ad25-d26d7fa323ec",
   "metadata": {},
   "outputs": [
    {
     "data": {
      "text/plain": [
       "['life', 'is', 'too', 'short']"
      ]
     },
     "execution_count": 11,
     "metadata": {},
     "output_type": "execute_result"
    }
   ],
   "source": [
    "re.findall(\"[a-z]+\",\"life is too short\")"
   ]
  },
  {
   "cell_type": "markdown",
   "id": "49ee3444-b5c5-42ed-92ce-7399759c783b",
   "metadata": {},
   "source": [
    "finditer\n",
    "\n",
    "finditer는 오브젝트 형태로 출력함\n",
    "\n",
    "iterable한 객체 for문에 집어넣어서 찾아낼수있음"
   ]
  },
  {
   "cell_type": "code",
   "execution_count": 16,
   "id": "081e681d-0182-4ca2-943d-4f9eea5d73d0",
   "metadata": {},
   "outputs": [
    {
     "name": "stdout",
     "output_type": "stream",
     "text": [
      "<callable_iterator object at 0x000001AFF77DA1F0>\n"
     ]
    }
   ],
   "source": [
    "result = re.finditer(\"[a-z]+\",\"life is too short\")\n",
    "print(result)"
   ]
  },
  {
   "cell_type": "code",
   "execution_count": 15,
   "id": "43992add-8023-489d-83c6-bd0adc3c551b",
   "metadata": {},
   "outputs": [
    {
     "name": "stdout",
     "output_type": "stream",
     "text": [
      "<re.Match object; span=(0, 4), match='life'>\n",
      "<re.Match object; span=(5, 7), match='is'>\n",
      "<re.Match object; span=(8, 11), match='too'>\n",
      "<re.Match object; span=(12, 17), match='short'>\n"
     ]
    }
   ],
   "source": [
    "for r in result:\n",
    "    print(r)"
   ]
  },
  {
   "cell_type": "markdown",
   "id": "53428c60-d38e-4ed1-a4be-0fb500d0dabc",
   "metadata": {},
   "source": [
    "mathch 객체의 메소드"
   ]
  },
  {
   "cell_type": "code",
   "execution_count": 18,
   "id": "3f90625f-8e97-4dd4-b1da-dd23e9f5acbc",
   "metadata": {},
   "outputs": [],
   "source": [
    "m = re.search(\"[a-z]+\",\"life is too short\")"
   ]
  },
  {
   "cell_type": "code",
   "execution_count": 19,
   "id": "774c2e45-27ca-4046-bf77-c92637a393c1",
   "metadata": {},
   "outputs": [
    {
     "data": {
      "text/plain": [
       "<re.Match object; span=(0, 4), match='life'>"
      ]
     },
     "execution_count": 19,
     "metadata": {},
     "output_type": "execute_result"
    }
   ],
   "source": [
    "m"
   ]
  },
  {
   "cell_type": "code",
   "execution_count": 20,
   "id": "a9914826-2295-4db5-b097-dab8e9051004",
   "metadata": {},
   "outputs": [
    {
     "data": {
      "text/plain": [
       "0"
      ]
     },
     "execution_count": 20,
     "metadata": {},
     "output_type": "execute_result"
    }
   ],
   "source": [
    "m.start()"
   ]
  },
  {
   "cell_type": "code",
   "execution_count": 21,
   "id": "345029ed-54fc-4ab9-b768-d28a4cba2d7f",
   "metadata": {},
   "outputs": [
    {
     "data": {
      "text/plain": [
       "4"
      ]
     },
     "execution_count": 21,
     "metadata": {},
     "output_type": "execute_result"
    }
   ],
   "source": [
    "m.end()"
   ]
  },
  {
   "cell_type": "code",
   "execution_count": 22,
   "id": "5cc3e814-eba1-4b02-99a5-56009782ce7d",
   "metadata": {},
   "outputs": [
    {
     "data": {
      "text/plain": [
       "(0, 4)"
      ]
     },
     "execution_count": 22,
     "metadata": {},
     "output_type": "execute_result"
    }
   ],
   "source": [
    "m.span()"
   ]
  },
  {
   "cell_type": "code",
   "execution_count": 23,
   "id": "019b6387-059f-47f7-9d1e-43c94bd3da5f",
   "metadata": {},
   "outputs": [
    {
     "data": {
      "text/plain": [
       "'life'"
      ]
     },
     "execution_count": 23,
     "metadata": {},
     "output_type": "execute_result"
    }
   ],
   "source": [
    "m.group()"
   ]
  },
  {
   "cell_type": "code",
   "execution_count": 25,
   "id": "b251fc2b-5f53-4fe4-ac08-ea63e4261bb2",
   "metadata": {},
   "outputs": [
    {
     "data": {
      "text/plain": [
       "str"
      ]
     },
     "execution_count": 25,
     "metadata": {},
     "output_type": "execute_result"
    }
   ],
   "source": [
    "type(m.group())"
   ]
  },
  {
   "cell_type": "code",
   "execution_count": 26,
   "id": "edec5a3d-8e2f-47b9-90a7-ee7c839be98d",
   "metadata": {},
   "outputs": [
    {
     "name": "stdout",
     "output_type": "stream",
     "text": [
      "life\n",
      "is\n",
      "too\n",
      "short\n"
     ]
    }
   ],
   "source": [
    "result = re.finditer(\"[a-z]+\",\"life is too short\")\n",
    "for r in result:\n",
    "    print(r.group())"
   ]
  },
  {
   "cell_type": "markdown",
   "id": "dce1f278-7de4-47eb-8004-80a73a47ae0e",
   "metadata": {},
   "source": [
    "백슬래시 문제\n",
    "\n",
    "\\section 문자를 찾는다고 가장했을때\n",
    "\n",
    "\\section은 앞에 \\s를 메타 문자로 취급하기 때문에\n",
    "\n",
    "'\\\\\\section'으로 작성해야 '\\section'으로 해석한다\n",
    "\n",
    "\n",
    "표현식 앞에 r(raw)를 놔준다 p = re.compile(r'\\\\\\section')"
   ]
  },
  {
   "cell_type": "markdown",
   "id": "e2d8a1f2-b2c7-40fc-889b-3209a136691b",
   "metadata": {},
   "source": [
    "| : or\n",
    "\n",
    "^ : 문자열의 맨 처음 줄 바꿈 하면 줄바꾼 문자열도 검사함\n",
    "\n",
    "$ : ^와 반대 맨 끝\n",
    "\n",
    "\\A: ^과 동일 하지만 MULTILINE을 옵션을 이용하면 ^는 각 줄의 문자열 처음이지만 A는\n",
    "줄과 상관없이 전체 문자열의 처음하고만 매치된다\n",
    "\n",
    "\\Z: $과 동일 \\A와 같이 멀티라인 옵션을 사용할때는 $ 메타 문자 와는 달리 전체문자열\n",
    "\n",
    "\\b : 단어 구분자(word boundary) \n",
    "\n"
   ]
  },
  {
   "cell_type": "markdown",
   "id": "113c84fa-db64-45c0-8013-6f86a56c19e2",
   "metadata": {},
   "source": [
    "그루핑\n",
    "\n",
    "ABC가 반복되는지 조사 하는 정규식\n",
    "\n",
    "(ABC)+ 문자를 괄호에 넣어주면 ABC를 찾는다"
   ]
  },
  {
   "cell_type": "code",
   "execution_count": 22,
   "id": "1680131b-c666-4145-a3e6-54a27df35cbf",
   "metadata": {},
   "outputs": [
    {
     "name": "stdout",
     "output_type": "stream",
     "text": [
      "<re.Match object; span=(0, 18), match='park 010-1234-1234'>\n"
     ]
    }
   ],
   "source": [
    "p = re.compile(r\"\\w+\\s+\\d+[-]\\d+[-]\\d+\")\n",
    "m = p.search(\"park 010-1234-1234\")\n",
    "print(m)"
   ]
  },
  {
   "cell_type": "markdown",
   "id": "5b5fec5b-a3a9-4b9f-ac15-271915fb32ab",
   "metadata": {},
   "source": [
    "group(0) : 매치된 전체 문자열\n",
    "\n",
    "group(1) : 첫 번째 그룹에 해당하는 문자열\n",
    "\n",
    "group(2) : 두 번째 그룹에 해당하는 문자열\n",
    "\n",
    "group(n) : n 번째 그룹에 해당하는 문자열"
   ]
  },
  {
   "cell_type": "code",
   "execution_count": 27,
   "id": "48522e22-e943-48da-9083-47ababca72fc",
   "metadata": {},
   "outputs": [
    {
     "name": "stdout",
     "output_type": "stream",
     "text": [
      "park\n"
     ]
    }
   ],
   "source": [
    "p = re.compile(r\"(\\w+)\\s+(\\d+[-]\\d+[-]\\d+)\")\n",
    "m = p.search(\"park 010-1234-1234\")\n",
    "print(m.group(1))"
   ]
  },
  {
   "cell_type": "code",
   "execution_count": 29,
   "id": "0ecb70d8-fd93-402c-999a-20bfb07f00a1",
   "metadata": {},
   "outputs": [
    {
     "name": "stdout",
     "output_type": "stream",
     "text": [
      "010\n"
     ]
    }
   ],
   "source": [
    "p = re.compile(r\"(\\w+)\\s+((\\d+)[-]\\d+[-]\\d+)\")\n",
    "m = p.search(\"park 010-1234-1234\")\n",
    "print(m.group(3))\n",
    "# 그룹을 중첩되어 있는 경우는 바깥쪽 부터 시작하여 \n",
    "# 안쪽으로 들어 갈수록 인덱스가 증가한다"
   ]
  },
  {
   "cell_type": "code",
   "execution_count": 31,
   "id": "39278167-68a6-4c2b-966a-5a2314b2a940",
   "metadata": {
    "collapsed": true,
    "jupyter": {
     "outputs_hidden": true
    },
    "tags": []
   },
   "outputs": [
    {
     "name": "stdout",
     "output_type": "stream",
     "text": [
      "Support for regular expressions (RE).\n",
      "\n",
      "This module provides regular expression matching operations similar to\n",
      "those found in Perl.  It supports both 8-bit and Unicode strings; both\n",
      "the pattern and the strings being processed can contain null bytes and\n",
      "characters outside the US ASCII range.\n",
      "\n",
      "Regular expressions can contain both special and ordinary characters.\n",
      "Most ordinary characters, like \"A\", \"a\", or \"0\", are the simplest\n",
      "regular expressions; they simply match themselves.  You can\n",
      "concatenate ordinary characters, so last matches the string 'last'.\n",
      "\n",
      "The special characters are:\n",
      "    \".\"      Matches any character except a newline.\n",
      "    \"^\"      Matches the start of the string.\n",
      "    \"$\"      Matches the end of the string or just before the newline at\n",
      "             the end of the string.\n",
      "    \"*\"      Matches 0 or more (greedy) repetitions of the preceding RE.\n",
      "             Greedy means that it will match as many repetitions as possible.\n",
      "    \"+\"      Matches 1 or more (greedy) repetitions of the preceding RE.\n",
      "    \"?\"      Matches 0 or 1 (greedy) of the preceding RE.\n",
      "    *?,+?,?? Non-greedy versions of the previous three special characters.\n",
      "    {m,n}    Matches from m to n repetitions of the preceding RE.\n",
      "    {m,n}?   Non-greedy version of the above.\n",
      "    \"\\\\\"     Either escapes special characters or signals a special sequence.\n",
      "    []       Indicates a set of characters.\n",
      "             A \"^\" as the first character indicates a complementing set.\n",
      "    \"|\"      A|B, creates an RE that will match either A or B.\n",
      "    (...)    Matches the RE inside the parentheses.\n",
      "             The contents can be retrieved or matched later in the string.\n",
      "    (?aiLmsux) The letters set the corresponding flags defined below.\n",
      "    (?:...)  Non-grouping version of regular parentheses.\n",
      "    (?P<name>...) The substring matched by the group is accessible by name.\n",
      "    (?P=name)     Matches the text matched earlier by the group named name.\n",
      "    (?#...)  A comment; ignored.\n",
      "    (?=...)  Matches if ... matches next, but doesn't consume the string.\n",
      "    (?!...)  Matches if ... doesn't match next.\n",
      "    (?<=...) Matches if preceded by ... (must be fixed length).\n",
      "    (?<!...) Matches if not preceded by ... (must be fixed length).\n",
      "    (?(id/name)yes|no) Matches yes pattern if the group with id/name matched,\n",
      "                       the (optional) no pattern otherwise.\n",
      "\n",
      "The special sequences consist of \"\\\\\" and a character from the list\n",
      "below.  If the ordinary character is not on the list, then the\n",
      "resulting RE will match the second character.\n",
      "    \\number  Matches the contents of the group of the same number.\n",
      "    \\A       Matches only at the start of the string.\n",
      "    \\Z       Matches only at the end of the string.\n",
      "    \\b       Matches the empty string, but only at the start or end of a word.\n",
      "    \\B       Matches the empty string, but not at the start or end of a word.\n",
      "    \\d       Matches any decimal digit; equivalent to the set [0-9] in\n",
      "             bytes patterns or string patterns with the ASCII flag.\n",
      "             In string patterns without the ASCII flag, it will match the whole\n",
      "             range of Unicode digits.\n",
      "    \\D       Matches any non-digit character; equivalent to [^\\d].\n",
      "    \\s       Matches any whitespace character; equivalent to [ \\t\\n\\r\\f\\v] in\n",
      "             bytes patterns or string patterns with the ASCII flag.\n",
      "             In string patterns without the ASCII flag, it will match the whole\n",
      "             range of Unicode whitespace characters.\n",
      "    \\S       Matches any non-whitespace character; equivalent to [^\\s].\n",
      "    \\w       Matches any alphanumeric character; equivalent to [a-zA-Z0-9_]\n",
      "             in bytes patterns or string patterns with the ASCII flag.\n",
      "             In string patterns without the ASCII flag, it will match the\n",
      "             range of Unicode alphanumeric characters (letters plus digits\n",
      "             plus underscore).\n",
      "             With LOCALE, it will match the set [0-9_] plus characters defined\n",
      "             as letters for the current locale.\n",
      "    \\W       Matches the complement of \\w.\n",
      "    \\\\       Matches a literal backslash.\n",
      "\n",
      "This module exports the following functions:\n",
      "    match     Match a regular expression pattern to the beginning of a string.\n",
      "    fullmatch Match a regular expression pattern to all of a string.\n",
      "    search    Search a string for the presence of a pattern.\n",
      "    sub       Substitute occurrences of a pattern found in a string.\n",
      "    subn      Same as sub, but also return the number of substitutions made.\n",
      "    split     Split a string by the occurrences of a pattern.\n",
      "    findall   Find all occurrences of a pattern in a string.\n",
      "    finditer  Return an iterator yielding a Match object for each match.\n",
      "    compile   Compile a pattern into a Pattern object.\n",
      "    purge     Clear the regular expression cache.\n",
      "    escape    Backslash all non-alphanumerics in a string.\n",
      "\n",
      "Each function other than purge and escape can take an optional 'flags' argument\n",
      "consisting of one or more of the following module constants, joined by \"|\".\n",
      "A, L, and U are mutually exclusive.\n",
      "    A  ASCII       For string patterns, make \\w, \\W, \\b, \\B, \\d, \\D\n",
      "                   match the corresponding ASCII character categories\n",
      "                   (rather than the whole Unicode categories, which is the\n",
      "                   default).\n",
      "                   For bytes patterns, this flag is the only available\n",
      "                   behaviour and needn't be specified.\n",
      "    I  IGNORECASE  Perform case-insensitive matching.\n",
      "    L  LOCALE      Make \\w, \\W, \\b, \\B, dependent on the current locale.\n",
      "    M  MULTILINE   \"^\" matches the beginning of lines (after a newline)\n",
      "                   as well as the string.\n",
      "                   \"$\" matches the end of lines (before a newline) as well\n",
      "                   as the end of the string.\n",
      "    S  DOTALL      \".\" matches any character at all, including the newline.\n",
      "    X  VERBOSE     Ignore whitespace and comments for nicer looking RE's.\n",
      "    U  UNICODE     For compatibility only. Ignored for string patterns (it\n",
      "                   is the default), and forbidden for bytes patterns.\n",
      "\n",
      "This module also defines an exception 'error'.\n",
      "\n",
      "\n"
     ]
    }
   ],
   "source": [
    "print(re.__doc__)"
   ]
  },
  {
   "cell_type": "markdown",
   "id": "6262081f-8ee8-454d-83f4-b57b66a4383a",
   "metadata": {},
   "source": [
    "숫자만 : \\d [0~9]\n",
    "\n",
    "영어대소문자만 : [a~zA~Z]\n",
    "\n",
    "숫자+영어 : \\w [0~9a~zA~Z]\n",
    "\n",
    "한글만 : [가~힣]"
   ]
  },
  {
   "cell_type": "markdown",
   "id": "1f327069-ae3b-4fb6-9be0-e3e2f4133ed5",
   "metadata": {},
   "source": [
    "\\b([a])\\w{2}\\b\n",
    "\\w+([t]){2}\\w+\n",
    "\n",
    "([a][n][d])\n",
    "\n",
    "(\\b[a])\\w+)\n",
    "\n",
    "\n",
    "(\\w+[t]{2}\\w+)\n",
    "\n",
    "\n",
    "([P])\\w{7}\n",
    "\n",
    "[p]\\w[t]{2}\\w+\n",
    "\n",
    "\n",
    "\\bp.t{2}"
   ]
  },
  {
   "cell_type": "markdown",
   "id": "28c56e8c-390b-43f9-97ba-0a865300d682",
   "metadata": {},
   "source": [
    "# 파이썬 실력키우기"
   ]
  },
  {
   "cell_type": "code",
   "execution_count": 1,
   "id": "3f6b5897-8adb-4d02-91e8-c81b8f627955",
   "metadata": {},
   "outputs": [
    {
     "name": "stdout",
     "output_type": "stream",
     "text": [
      "233168\n"
     ]
    }
   ],
   "source": [
    "n = 1\n",
    "sum = 0\n",
    "while n < 1000:\n",
    "    if n % 3 == 0 or n % 5 == 0:\n",
    "        sum += n\n",
    "    n += 1\n",
    "print(sum)"
   ]
  },
  {
   "cell_type": "code",
   "execution_count": 2,
   "id": "e2028d20-0a6f-4681-98f7-61e09a3ab593",
   "metadata": {},
   "outputs": [],
   "source": [
    "def getTotalPage(m,n):\n",
    "    return m // n + 1"
   ]
  },
  {
   "cell_type": "code",
   "execution_count": 5,
   "id": "7b5c30cf-a756-4d91-8a55-64ef4f7f8490",
   "metadata": {},
   "outputs": [
    {
     "name": "stdout",
     "output_type": "stream",
     "text": [
      "3\n"
     ]
    }
   ],
   "source": [
    "print(getTotalPage(20,10))"
   ]
  },
  {
   "cell_type": "code",
   "execution_count": 6,
   "id": "6786db1c-9011-4176-9c90-21420c6b5456",
   "metadata": {},
   "outputs": [],
   "source": [
    "import pickle\n",
    "\n",
    "f = open(\"HelloWorld.pickle\", mode = \"wb\")\n",
    "data = (\"HelloWorld\")\n",
    "pickle.dump(data, f)\n",
    "f.close()"
   ]
  },
  {
   "cell_type": "code",
   "execution_count": 7,
   "id": "b2a9bdcd-2aa5-4567-96a2-164b946a0db6",
   "metadata": {},
   "outputs": [
    {
     "name": "stdout",
     "output_type": "stream",
     "text": [
      "HelloWorld\n"
     ]
    }
   ],
   "source": [
    "f = open(\"HelloWorld.pickle\", mode = \"rb\")\n",
    "data = pickle.load(f)\n",
    "print(data)"
   ]
  },
  {
   "cell_type": "code",
   "execution_count": 10,
   "id": "f072a64a-f230-43a1-b389-44029261546d",
   "metadata": {},
   "outputs": [
    {
     "data": {
      "text/plain": [
       "[9, 4, 6]"
      ]
     },
     "execution_count": 10,
     "metadata": {},
     "output_type": "execute_result"
    }
   ],
   "source": [
    "import random\n",
    "random.sample(range(1,11), k=3)"
   ]
  },
  {
   "cell_type": "code",
   "execution_count": 11,
   "id": "be1fced3-5c06-4796-b509-d5026456a14f",
   "metadata": {},
   "outputs": [
    {
     "name": "stdout",
     "output_type": "stream",
     "text": [
      "    January 2022\n",
      "Mo Tu We Th Fr Sa Su\n",
      "                1  2\n",
      " 3  4  5  6  7  8  9\n",
      "10 11 12 13 14 15 16\n",
      "17 18 19 20 21 22 23\n",
      "24 25 26 27 28 29 30\n",
      "31\n"
     ]
    }
   ],
   "source": [
    "import calendar\n",
    "import random\n",
    "\n",
    "a = calendar.prmonth(2022,random.randint(1,12))"
   ]
  },
  {
   "cell_type": "code",
   "execution_count": 12,
   "id": "4c612641-ac30-4d2c-89e5-6a79f00d31b0",
   "metadata": {},
   "outputs": [
    {
     "data": {
      "text/plain": [
       "'14h 28m 03/03/22'"
      ]
     },
     "execution_count": 12,
     "metadata": {},
     "output_type": "execute_result"
    }
   ],
   "source": [
    "import time\n",
    "\n",
    "time.strftime(\"%Hh %Mm %x\")"
   ]
  },
  {
   "cell_type": "code",
   "execution_count": 13,
   "id": "c71a56d7-1f07-476d-b570-ff8fdb15b2c1",
   "metadata": {},
   "outputs": [
    {
     "data": {
      "text/plain": [
       "96"
      ]
     },
     "execution_count": 13,
     "metadata": {},
     "output_type": "execute_result"
    }
   ],
   "source": [
    "import random\n",
    "\n",
    "max(random.choices(range(1,101),k = 10))"
   ]
  },
  {
   "cell_type": "code",
   "execution_count": 16,
   "id": "779b1e0d-8a4f-40ce-8d89-b6af99e3da4d",
   "metadata": {},
   "outputs": [
    {
     "data": {
      "text/plain": [
       "6"
      ]
     },
     "execution_count": 16,
     "metadata": {},
     "output_type": "execute_result"
    }
   ],
   "source": [
    "import calendar\n",
    "\n",
    "calendar.weekday(1950, 6, 25)"
   ]
  },
  {
   "cell_type": "code",
   "execution_count": 18,
   "id": "6b224652-6976-45cd-8a09-126365f8d136",
   "metadata": {},
   "outputs": [],
   "source": [
    "import sys\n",
    "\n",
    "option = sys.argv[1]\n",
    "\n",
    "if option == '-a':\n",
    "    memo = sys.argv[2]\n",
    "    f = open('memo.txt','a')\n",
    "    f.write(memo)\n",
    "    f.write('\\n')\n",
    "    f.close\n",
    "elif option == '-v':\n",
    "    f = open('memo.txt')\n",
    "    memo = f.read()\n",
    "    f.close()\n",
    "    print(memo)"
   ]
  },
  {
   "cell_type": "code",
   "execution_count": null,
   "id": "79c69c2b-4a68-4d4c-ac96-15355bdf1ce7",
   "metadata": {},
   "outputs": [],
   "source": []
  },
  {
   "cell_type": "code",
   "execution_count": 12,
   "id": "4691fada-f320-4615-a70b-0d84c55c30b4",
   "metadata": {},
   "outputs": [],
   "source": [
    "import re\n",
    "\n",
    "m = re.search(r'\\d[a-d][b-z]', \"123abcd\")"
   ]
  },
  {
   "cell_type": "code",
   "execution_count": 13,
   "id": "4108f46e-161f-4267-ab0e-80f2c98c2ac2",
   "metadata": {},
   "outputs": [
    {
     "data": {
      "text/plain": [
       "<re.Match object; span=(2, 5), match='3ab'>"
      ]
     },
     "execution_count": 13,
     "metadata": {},
     "output_type": "execute_result"
    }
   ],
   "source": [
    "m"
   ]
  },
  {
   "cell_type": "code",
   "execution_count": 14,
   "id": "7af68a99-4153-4f0d-8c27-a6ce5db7b242",
   "metadata": {},
   "outputs": [
    {
     "data": {
      "text/plain": [
       "'3ab'"
      ]
     },
     "execution_count": 14,
     "metadata": {},
     "output_type": "execute_result"
    }
   ],
   "source": [
    "m.group()"
   ]
  },
  {
   "cell_type": "code",
   "execution_count": 15,
   "id": "b25504bb-b027-4cbb-a85e-bf9f725136f6",
   "metadata": {},
   "outputs": [],
   "source": [
    "strings = ['123abcd','124abcd','125abcd','126abcd','123ebcd','123fbcd']"
   ]
  },
  {
   "cell_type": "code",
   "execution_count": 28,
   "id": "3f7dbd4f-fb87-4c7b-99e9-adbf06ff8f1a",
   "metadata": {},
   "outputs": [
    {
     "name": "stdout",
     "output_type": "stream",
     "text": [
      "3ab\n",
      "4ab\n",
      "5ab\n",
      "6ab\n"
     ]
    }
   ],
   "source": [
    "# 바로 뒤에 strings를 넣으면 리스트 형태라 str 을 요구하는 것과 다름으로 오류남\n",
    "# 그래서 for문을 이용하여 리스트의 스트링을 하나씩 검사해봄\n",
    "for string in strings:\n",
    "    m = re.search(r'\\d[a-d][b-z]', string)\n",
    "    if m:\n",
    "        print(m.group())"
   ]
  },
  {
   "cell_type": "code",
   "execution_count": 29,
   "id": "90498b78-94cd-4b3a-86d0-9e9d93325aa3",
   "metadata": {},
   "outputs": [
    {
     "name": "stdout",
     "output_type": "stream",
     "text": [
      "3ab\n",
      "4ab\n",
      "5ab\n",
      "6ab\n"
     ]
    }
   ],
   "source": [
    "try:\n",
    "    for string in strings:\n",
    "        print(re.search(r'\\d[a-d][b-z]', string).group())\n",
    "except:\n",
    "    pass"
   ]
  },
  {
   "cell_type": "code",
   "execution_count": 31,
   "id": "7f335f08-3067-4554-a50c-15c5eb4728fe",
   "metadata": {},
   "outputs": [
    {
     "name": "stdout",
     "output_type": "stream",
     "text": [
      "3ab\n",
      "4ab\n",
      "5ab\n",
      "6ab\n"
     ]
    }
   ],
   "source": [
    "# 패턴도 밖으로 빼서 변수에 넣어줄수 있다\n",
    "strings = ['123abcd','124abcd','125abcd','126abcd','123ebcd','123fbcd']\n",
    "pattern = r'\\d[a-d][b-z]'\n",
    "for string in strings:\n",
    "    m = re.search(pattern, string)\n",
    "    if m:\n",
    "        print(m.group())"
   ]
  },
  {
   "cell_type": "code",
   "execution_count": 8,
   "id": "a86bc8bc-0ef5-4123-bfe5-d628bc6de4cc",
   "metadata": {},
   "outputs": [
    {
     "name": "stdout",
     "output_type": "stream",
     "text": [
      "<re.Match object; span=(0, 3), match='123'>\n",
      "<re.Match object; span=(0, 3), match='124'>\n",
      "<re.Match object; span=(0, 3), match='125'>\n",
      "<re.Match object; span=(0, 3), match='126'>\n",
      "<re.Match object; span=(0, 3), match='123'>\n",
      "<re.Match object; span=(0, 3), match='123'>\n"
     ]
    }
   ],
   "source": [
    "import re\n",
    "strings = ['123abcd','124abcd','125abcd','126abcd','123ebcd','123fbcd']\n",
    "pattern =  r\"\\d{3,}\"\n",
    "for string in strings:\n",
    "    print(re.search(pattern, string))"
   ]
  },
  {
   "cell_type": "code",
   "execution_count": 16,
   "id": "2e1f1e6c-6348-4cc9-bc6a-287c24645cc1",
   "metadata": {},
   "outputs": [
    {
     "name": "stdout",
     "output_type": "stream",
     "text": [
      "<re.Match object; span=(0, 7), match='123abcd'>\n",
      "<re.Match object; span=(0, 7), match='124abcd'>\n",
      "<re.Match object; span=(0, 7), match='125abcd'>\n",
      "<re.Match object; span=(0, 7), match='126abcd'>\n"
     ]
    }
   ],
   "source": [
    "# 중간에 짜잘한게 있으면 안된다\n",
    "import re\n",
    "strings = ['123abcd','124abcd','125abcd','126abcd','B26A']\n",
    "pattern =  r\"^\\d\\w*[a-zA-Z]$\"\n",
    "for string in strings:\n",
    "    m = re.search(pattern, string)\n",
    "    if m:\n",
    "        print(m)"
   ]
  },
  {
   "cell_type": "code",
   "execution_count": 31,
   "id": "df85631f-d393-4bf9-b1e0-61834d8647d5",
   "metadata": {},
   "outputs": [
    {
     "name": "stdout",
     "output_type": "stream",
     "text": [
      "park 010-1234-1234\n",
      "park\n",
      "010-1234-1234\n",
      "1234\n",
      "1234\n",
      "park 010-1234-1235\n",
      "park\n",
      "010-1234-1235\n",
      "1235\n",
      "1235\n",
      "park 010-1234-1236\n",
      "park\n",
      "010-1234-1236\n",
      "1236\n",
      "1236\n",
      "park 010-1234-1237\n",
      "park\n",
      "010-1234-1237\n",
      "1237\n",
      "1237\n"
     ]
    }
   ],
   "source": [
    "# 문장의끝\n",
    "import re\n",
    "strings = ['park 010-1234-1234','park 010-1234-1235','park 010-1234-1236','park 010-1234-1237']\n",
    "pattern =  r\"(?P<name>\\w+)\\s(\\d{3}[-]\\d+[-](?P<last>\\d+))\"\n",
    "for string in strings:\n",
    "    m = re.search(pattern, string)\n",
    "    if m:\n",
    "        print(m.group())\n",
    "        print(m.group(\"name\"))\n",
    "        print(m.group(2))\n",
    "        print(m.group(3))\n",
    "        print(m.group(\"last\"))"
   ]
  },
  {
   "cell_type": "code",
   "execution_count": 32,
   "id": "ad7e5c6b-3ef5-4276-95ce-5547ee9c9e73",
   "metadata": {},
   "outputs": [
    {
     "data": {
      "text/plain": [
       "'colour socks and colour shoes'"
      ]
     },
     "execution_count": 32,
     "metadata": {},
     "output_type": "execute_result"
    }
   ],
   "source": [
    "import re\n",
    "p = re.compile('(blue|white|red)')\n",
    "p.sub('colour', 'blue socks and red shoes')"
   ]
  },
  {
   "cell_type": "code",
   "execution_count": 34,
   "id": "6768c750-d59e-4f45-ab94-63ade5c90367",
   "metadata": {},
   "outputs": [
    {
     "data": {
      "text/plain": [
       "'colour socks and red shoes'"
      ]
     },
     "execution_count": 34,
     "metadata": {},
     "output_type": "execute_result"
    }
   ],
   "source": [
    "re.sub(\"blue|white|red\", \"colour\", \"blue socks and red shoes\",count = 1)"
   ]
  },
  {
   "cell_type": "code",
   "execution_count": 35,
   "id": "d8e73693-7194-490c-a602-a3a752297f27",
   "metadata": {},
   "outputs": [
    {
     "name": "stdout",
     "output_type": "stream",
     "text": [
      "Support for regular expressions (RE).\n",
      "\n",
      "This module provides regular expression matching operations similar to\n",
      "those found in Perl.  It supports both 8-bit and Unicode strings; both\n",
      "the pattern and the strings being processed can contain null bytes and\n",
      "characters outside the US ASCII range.\n",
      "\n",
      "Regular expressions can contain both special and ordinary characters.\n",
      "Most ordinary characters, like \"A\", \"a\", or \"0\", are the simplest\n",
      "regular expressions; they simply match themselves.  You can\n",
      "concatenate ordinary characters, so last matches the string 'last'.\n",
      "\n",
      "The special characters are:\n",
      "    \".\"      Matches any character except a newline.\n",
      "    \"^\"      Matches the start of the string.\n",
      "    \"$\"      Matches the end of the string or just before the newline at\n",
      "             the end of the string.\n",
      "    \"*\"      Matches 0 or more (greedy) repetitions of the preceding RE.\n",
      "             Greedy means that it will match as many repetitions as possible.\n",
      "    \"+\"      Matches 1 or more (greedy) repetitions of the preceding RE.\n",
      "    \"?\"      Matches 0 or 1 (greedy) of the preceding RE.\n",
      "    *?,+?,?? Non-greedy versions of the previous three special characters.\n",
      "    {m,n}    Matches from m to n repetitions of the preceding RE.\n",
      "    {m,n}?   Non-greedy version of the above.\n",
      "    \"\\\\\"     Either escapes special characters or signals a special sequence.\n",
      "    []       Indicates a set of characters.\n",
      "             A \"^\" as the first character indicates a complementing set.\n",
      "    \"|\"      A|B, creates an RE that will match either A or B.\n",
      "    (...)    Matches the RE inside the parentheses.\n",
      "             The contents can be retrieved or matched later in the string.\n",
      "    (?aiLmsux) The letters set the corresponding flags defined below.\n",
      "    (?:...)  Non-grouping version of regular parentheses.\n",
      "    (?P<name>...) The substring matched by the group is accessible by name.\n",
      "    (?P=name)     Matches the text matched earlier by the group named name.\n",
      "    (?#...)  A comment; ignored.\n",
      "    (?=...)  Matches if ... matches next, but doesn't consume the string.\n",
      "    (?!...)  Matches if ... doesn't match next.\n",
      "    (?<=...) Matches if preceded by ... (must be fixed length).\n",
      "    (?<!...) Matches if not preceded by ... (must be fixed length).\n",
      "    (?(id/name)yes|no) Matches yes pattern if the group with id/name matched,\n",
      "                       the (optional) no pattern otherwise.\n",
      "\n",
      "The special sequences consist of \"\\\\\" and a character from the list\n",
      "below.  If the ordinary character is not on the list, then the\n",
      "resulting RE will match the second character.\n",
      "    \\number  Matches the contents of the group of the same number.\n",
      "    \\A       Matches only at the start of the string.\n",
      "    \\Z       Matches only at the end of the string.\n",
      "    \\b       Matches the empty string, but only at the start or end of a word.\n",
      "    \\B       Matches the empty string, but not at the start or end of a word.\n",
      "    \\d       Matches any decimal digit; equivalent to the set [0-9] in\n",
      "             bytes patterns or string patterns with the ASCII flag.\n",
      "             In string patterns without the ASCII flag, it will match the whole\n",
      "             range of Unicode digits.\n",
      "    \\D       Matches any non-digit character; equivalent to [^\\d].\n",
      "    \\s       Matches any whitespace character; equivalent to [ \\t\\n\\r\\f\\v] in\n",
      "             bytes patterns or string patterns with the ASCII flag.\n",
      "             In string patterns without the ASCII flag, it will match the whole\n",
      "             range of Unicode whitespace characters.\n",
      "    \\S       Matches any non-whitespace character; equivalent to [^\\s].\n",
      "    \\w       Matches any alphanumeric character; equivalent to [a-zA-Z0-9_]\n",
      "             in bytes patterns or string patterns with the ASCII flag.\n",
      "             In string patterns without the ASCII flag, it will match the\n",
      "             range of Unicode alphanumeric characters (letters plus digits\n",
      "             plus underscore).\n",
      "             With LOCALE, it will match the set [0-9_] plus characters defined\n",
      "             as letters for the current locale.\n",
      "    \\W       Matches the complement of \\w.\n",
      "    \\\\       Matches a literal backslash.\n",
      "\n",
      "This module exports the following functions:\n",
      "    match     Match a regular expression pattern to the beginning of a string.\n",
      "    fullmatch Match a regular expression pattern to all of a string.\n",
      "    search    Search a string for the presence of a pattern.\n",
      "    sub       Substitute occurrences of a pattern found in a string.\n",
      "    subn      Same as sub, but also return the number of substitutions made.\n",
      "    split     Split a string by the occurrences of a pattern.\n",
      "    findall   Find all occurrences of a pattern in a string.\n",
      "    finditer  Return an iterator yielding a Match object for each match.\n",
      "    compile   Compile a pattern into a Pattern object.\n",
      "    purge     Clear the regular expression cache.\n",
      "    escape    Backslash all non-alphanumerics in a string.\n",
      "\n",
      "Each function other than purge and escape can take an optional 'flags' argument\n",
      "consisting of one or more of the following module constants, joined by \"|\".\n",
      "A, L, and U are mutually exclusive.\n",
      "    A  ASCII       For string patterns, make \\w, \\W, \\b, \\B, \\d, \\D\n",
      "                   match the corresponding ASCII character categories\n",
      "                   (rather than the whole Unicode categories, which is the\n",
      "                   default).\n",
      "                   For bytes patterns, this flag is the only available\n",
      "                   behaviour and needn't be specified.\n",
      "    I  IGNORECASE  Perform case-insensitive matching.\n",
      "    L  LOCALE      Make \\w, \\W, \\b, \\B, dependent on the current locale.\n",
      "    M  MULTILINE   \"^\" matches the beginning of lines (after a newline)\n",
      "                   as well as the string.\n",
      "                   \"$\" matches the end of lines (before a newline) as well\n",
      "                   as the end of the string.\n",
      "    S  DOTALL      \".\" matches any character at all, including the newline.\n",
      "    X  VERBOSE     Ignore whitespace and comments for nicer looking RE's.\n",
      "    U  UNICODE     For compatibility only. Ignored for string patterns (it\n",
      "                   is the default), and forbidden for bytes patterns.\n",
      "\n",
      "This module also defines an exception 'error'.\n",
      "\n",
      "\n"
     ]
    }
   ],
   "source": [
    "print(re.__doc__)"
   ]
  },
  {
   "cell_type": "code",
   "execution_count": null,
   "id": "4c0b63f6-4173-4c86-970d-b6f3836f4444",
   "metadata": {},
   "outputs": [],
   "source": []
  }
 ],
 "metadata": {
  "kernelspec": {
   "display_name": "Python 3 (ipykernel)",
   "language": "python",
   "name": "python3"
  },
  "language_info": {
   "codemirror_mode": {
    "name": "ipython",
    "version": 3
   },
   "file_extension": ".py",
   "mimetype": "text/x-python",
   "name": "python",
   "nbconvert_exporter": "python",
   "pygments_lexer": "ipython3",
   "version": "3.9.7"
  }
 },
 "nbformat": 4,
 "nbformat_minor": 5
}
