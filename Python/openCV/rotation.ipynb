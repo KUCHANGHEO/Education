{
 "cells": [
  {
   "cell_type": "code",
   "execution_count": 2,
   "id": "d1e5ac2e",
   "metadata": {},
   "outputs": [],
   "source": [
    "import numpy as np,  cv2\n",
    "from Common.interpolation import bilinear_value\n",
    "from Common.utils import contain   , ck_time               # 사각형으로 범위 확인 함수"
   ]
  },
  {
   "cell_type": "code",
   "execution_count": null,
   "id": "9db437c6",
   "metadata": {},
   "outputs": [],
   "source": [
    "def rotate(img, degree):\n",
    "    dst = np.zeros(img.shape[:2], img.dtype)                     # 목적 영상 생성\n",
    "    radian = (degree/180) * np.pi                               # 회전 각도 - 라디언\n",
    "    sin, cos = np.sin(radian), np.cos(radian)   # 사인, 코사인 값 미리 계산\n",
    "\n",
    "    for i in range(img.shape[0]):                                       # 목적 영상 순회 - 역방향 사상\n",
    "        for j in range(img.shape[1]):\n",
    "            y = -j * sin + i * cos\n",
    "            x =  j * cos + i * sin                  # 회선 변환 수식\n",
    "            if contain((y, x), img.shape):             # 입력 영상의 범위 확인\n",
    "                dst[i, j] = bilinear_value(img, [x, y])           # 화소값 양선형 보간\n",
    "    return dst"
   ]
  },
  {
   "cell_type": "code",
   "execution_count": null,
   "id": "2b9d9241",
   "metadata": {},
   "outputs": [],
   "source": [
    "def rotate_pt(img, degree, pt):\n",
    "    dst = np.zeros(img.shape[:2], img.dtype)                     # 목적 영상 생성\n",
    "    radian = (degree/180) * np.pi                               # 회전 각도 - 라디언\n",
    "    sin, cos = np.sin(radian), np.cos(radian)   # 사인, 코사인 값 미리 계산\n",
    "\n",
    "    for i in range(img.shape[0]):                              # 목적 영상 순회 - 역방향 사상\n",
    "        for j in range(img.shape[1]):\n",
    "            jj, ii = np.subtract((j, i), pt)                # 중심좌표 평행이동,\n",
    "            y = -jj * sin + ii * cos               # 회선 변환 수식\n",
    "            x =  jj * cos + ii * sin\n",
    "            x, y = np.add((x, y), pt)\n",
    "            if contain((y, x), img.shape):                      # 입력 영상의 범위 확인\n",
    "                dst[i, j] = bilinear_value(img, [x, y])           # 화소값 양선형 보간\n",
    "    return dst"
   ]
  },
  {
   "cell_type": "code",
   "execution_count": null,
   "id": "3c802246",
   "metadata": {},
   "outputs": [],
   "source": [
    "image = cv2.imread('images/rotate.jpg', cv2.IMREAD_GRAYSCALE)\n",
    "if image is None: raise Exception(\"영상 파일을 읽기 에러\")"
   ]
  },
  {
   "cell_type": "code",
   "execution_count": null,
   "id": "40acd90d",
   "metadata": {},
   "outputs": [],
   "source": [
    "center = np.divmod(image.shape[::-1], 2)[0]\n",
    "dst1 = rotate(image, 20)                                        # 원점 기준 회전 변환\n",
    "dst2 = rotate_pt(image, 20, center )                             # 영상 중심 기준 회전 변환"
   ]
  },
  {
   "cell_type": "code",
   "execution_count": null,
   "id": "d831b88b",
   "metadata": {},
   "outputs": [],
   "source": [
    "cv2.imshow(\"image\", image)\n",
    "cv2.imshow(\"dst1-rotated on org\", dst1)\n",
    "cv2.imshow(\"dst2-rotated on center\", dst2)\n",
    "cv2.waitKey(0)\n",
    "cv2.destroyAllWindows()"
   ]
  },
  {
   "cell_type": "code",
   "execution_count": null,
   "id": "f7c7228e",
   "metadata": {},
   "outputs": [],
   "source": []
  }
 ],
 "metadata": {
  "kernelspec": {
   "display_name": "Python 3 (ipykernel)",
   "language": "python",
   "name": "python3"
  },
  "language_info": {
   "codemirror_mode": {
    "name": "ipython",
    "version": 3
   },
   "file_extension": ".py",
   "mimetype": "text/x-python",
   "name": "python",
   "nbconvert_exporter": "python",
   "pygments_lexer": "ipython3",
   "version": "3.9.12"
  },
  "toc": {
   "base_numbering": 1,
   "nav_menu": {},
   "number_sections": true,
   "sideBar": true,
   "skip_h1_title": false,
   "title_cell": "Table of Contents",
   "title_sidebar": "Contents",
   "toc_cell": false,
   "toc_position": {},
   "toc_section_display": true,
   "toc_window_display": false
  },
  "varInspector": {
   "cols": {
    "lenName": 16,
    "lenType": 16,
    "lenVar": 40
   },
   "kernels_config": {
    "python": {
     "delete_cmd_postfix": "",
     "delete_cmd_prefix": "del ",
     "library": "var_list.py",
     "varRefreshCmd": "print(var_dic_list())"
    },
    "r": {
     "delete_cmd_postfix": ") ",
     "delete_cmd_prefix": "rm(",
     "library": "var_list.r",
     "varRefreshCmd": "cat(var_dic_list()) "
    }
   },
   "types_to_exclude": [
    "module",
    "function",
    "builtin_function_or_method",
    "instance",
    "_Feature"
   ],
   "window_display": false
  }
 },
 "nbformat": 4,
 "nbformat_minor": 5
}
