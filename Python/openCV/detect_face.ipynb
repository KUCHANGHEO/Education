{
 "cells": [
  {
   "cell_type": "code",
   "execution_count": 8,
   "id": "6372b9d8",
   "metadata": {},
   "outputs": [],
   "source": [
    "import cv2, numpy as np"
   ]
  },
  {
   "cell_type": "code",
   "execution_count": 9,
   "id": "fae9f8bb",
   "metadata": {},
   "outputs": [],
   "source": [
    "def preprocessing(no):  # 검출 전처리\n",
    "    image = cv2.imread('images/face/%2d.jpg' %no, cv2.IMREAD_COLOR)\n",
    "    if image is None: return None, None\n",
    "    gray = cv2.cvtColor(image, cv2.COLOR_BGR2GRAY)  # 명암도 영상 변환\n",
    "    gray = cv2.equalizeHist(gray)  # 히스토그램 평활화\n",
    "    return image, gray"
   ]
  },
  {
   "cell_type": "code",
   "execution_count": 10,
   "id": "e4afd65f",
   "metadata": {},
   "outputs": [],
   "source": [
    "face_cascade = cv2.CascadeClassifier(\"haarcascade_frontalface_alt2.xml\")  # 정면 검출기\n",
    "eye_cascade = cv2.CascadeClassifier(\"haarcascade_eye.xml\")  # 눈 검출기\n",
    "image, gray = preprocessing(34)  # 전처리\n",
    "if image is None: raise Exception(\"영상 파일 읽기 에러\")"
   ]
  },
  {
   "cell_type": "code",
   "execution_count": 11,
   "id": "4c900cad",
   "metadata": {},
   "outputs": [
    {
     "data": {
      "text/plain": [
       "115"
      ]
     },
     "execution_count": 11,
     "metadata": {},
     "output_type": "execute_result"
    }
   ],
   "source": [
    "faces = face_cascade.detectMultiScale(gray, 1.1, 2, 0, (100, 100));  # 얼굴 검출\n",
    "if faces.any():\n",
    "    x, y, w, h = faces[0]\n",
    "    face_image = image[y:y + h, x:x + w]  # 얼굴 영역 영상 가져오기\n",
    "    eyes = eye_cascade.detectMultiScale(face_image, 1.15, 7, 0, (25, 20))  # 눈 검출 수행\n",
    "    if len(eyes) == 2:  # 눈 사각형이 검출되면\n",
    "        for ex, ey, ew, eh in eyes:\n",
    "            center = (x + ex + ew // 2, y + ey + eh // 2)\n",
    "            cv2.circle(image, center, 10, (0, 255, 0), 2)  # 눈 중심에 원 그리기\n",
    "    else:\n",
    "        print(\"눈 미검출\")\n",
    "    cv2.rectangle(image, faces[0], (255, 0, 0), 2)  # 얼굴 검출 사각형 그리기\n",
    "    cv2.imshow(\"image\", image)\n",
    "else: print(\"얼굴 미검출\")\n",
    "cv2.waitKey(0)"
   ]
  },
  {
   "cell_type": "code",
   "execution_count": null,
   "id": "e5861bb0",
   "metadata": {},
   "outputs": [],
   "source": []
  },
  {
   "cell_type": "code",
   "execution_count": null,
   "id": "d5cec522",
   "metadata": {},
   "outputs": [],
   "source": []
  }
 ],
 "metadata": {
  "kernelspec": {
   "display_name": "Python 3 (ipykernel)",
   "language": "python",
   "name": "python3"
  },
  "language_info": {
   "codemirror_mode": {
    "name": "ipython",
    "version": 3
   },
   "file_extension": ".py",
   "mimetype": "text/x-python",
   "name": "python",
   "nbconvert_exporter": "python",
   "pygments_lexer": "ipython3",
   "version": "3.9.12"
  },
  "toc": {
   "base_numbering": 1,
   "nav_menu": {},
   "number_sections": true,
   "sideBar": true,
   "skip_h1_title": false,
   "title_cell": "Table of Contents",
   "title_sidebar": "Contents",
   "toc_cell": false,
   "toc_position": {},
   "toc_section_display": true,
   "toc_window_display": false
  },
  "varInspector": {
   "cols": {
    "lenName": 16,
    "lenType": 16,
    "lenVar": 40
   },
   "kernels_config": {
    "python": {
     "delete_cmd_postfix": "",
     "delete_cmd_prefix": "del ",
     "library": "var_list.py",
     "varRefreshCmd": "print(var_dic_list())"
    },
    "r": {
     "delete_cmd_postfix": ") ",
     "delete_cmd_prefix": "rm(",
     "library": "var_list.r",
     "varRefreshCmd": "cat(var_dic_list()) "
    }
   },
   "types_to_exclude": [
    "module",
    "function",
    "builtin_function_or_method",
    "instance",
    "_Feature"
   ],
   "window_display": false
  }
 },
 "nbformat": 4,
 "nbformat_minor": 5
}
