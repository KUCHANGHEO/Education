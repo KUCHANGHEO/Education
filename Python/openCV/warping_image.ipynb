{
 "cells": [
  {
   "cell_type": "code",
   "execution_count": 1,
   "id": "e866ff0c",
   "metadata": {},
   "outputs": [],
   "source": [
    "import numpy as np, cv2, pickle"
   ]
  },
  {
   "cell_type": "code",
   "execution_count": 2,
   "id": "758b1ba7",
   "metadata": {},
   "outputs": [],
   "source": [
    "def findCorners(image, bSize):\n",
    "    gray = cv2.cvtColor(image, cv2.COLOR_BGR2GRAY)\n",
    "    ret, corners = cv2.findChessboardCorners(gray, bSize) # 코너 검출\n",
    "\n",
    "    if ret:        # 부화소(subpixel) 위치를 찾아서 코너 좌표 개선\n",
    "        criteria = (cv2.TermCriteria_MAX_ITER + cv2.TermCriteria_EPS, 30, 0.1)\n",
    "        cv2.cornerSubPix(gray, corners, (11, 11), (-1, -1), criteria)\n",
    "    return ret, np.array(corners, np.float32), image"
   ]
  },
  {
   "cell_type": "code",
   "execution_count": 3,
   "id": "4f9bf4ae",
   "metadata": {},
   "outputs": [],
   "source": [
    "def show_image(file, bSize, result):\n",
    "    cv2.drawChessboardCorners(result[2], bSize, result[1], result[0])  # 코너 표시\n",
    "    cv2.imshow(file, result[2])"
   ]
  },
  {
   "cell_type": "code",
   "execution_count": 4,
   "id": "4770d810",
   "metadata": {},
   "outputs": [],
   "source": [
    "def calibrate_correct(objectPoints, imagePoints, image):\n",
    "    size = image.shape[1::-1]\n",
    "    ret = cv2.calibrateCamera(objectPoints, imagePoints, size, None, None)\n",
    "\n",
    "    newSacle, roi = cv2.getOptimalNewCameraMatrix(ret[1], ret[2], size, 1)\n",
    "    undistorted = cv2.undistort(image, ret[1], ret[2], None, newSacle)\n",
    "    x, y, w, h = roi\n",
    "    return ret, undistorted, undistorted[y:y + h, x:x + w]  # 왜곡 영역 제거"
   ]
  },
  {
   "cell_type": "code",
   "execution_count": 5,
   "id": "3a6b55fc",
   "metadata": {},
   "outputs": [],
   "source": [
    "bSize = (8, 7)                                      # 체스판 코너 개수(가로, 세로)\n",
    "points = [(x, y, 0) for y in range(bSize[1]) for x in range(bSize[0])]\n",
    "points = np.array(points, np.float32)"
   ]
  },
  {
   "cell_type": "code",
   "execution_count": 6,
   "id": "d963f2e2",
   "metadata": {},
   "outputs": [],
   "source": [
    "# 코너 좌표 및 실세계 3차원 좌표\n",
    "files = [\"chessboard_01\", \"chessboard_02\", \"chessboard_02\"]\n",
    "images = [cv2.imread('images/%s.jpg' % file, 1) for file in files]\n",
    "results = [findCorners(image, bSize) for image in images]\n",
    "imagePoints = [result[1] for result in results if result[0]]\n",
    "objectPoints = [points] * len(imagePoints)"
   ]
  },
  {
   "cell_type": "code",
   "execution_count": 7,
   "id": "a2248b9d",
   "metadata": {},
   "outputs": [
    {
     "data": {
      "text/plain": [
       "[None, None, None]"
      ]
     },
     "execution_count": 7,
     "metadata": {},
     "output_type": "execute_result"
    }
   ],
   "source": [
    "[show_image(f, bSize, result) for f, result in zip(files, results) if result[0]]"
   ]
  },
  {
   "cell_type": "code",
   "execution_count": 8,
   "id": "03010806",
   "metadata": {},
   "outputs": [],
   "source": [
    "image = cv2.imread(\"images/chessboard_05.jpg\", cv2.IMREAD_COLOR)\n",
    "if image is None: raise Exception(\"영상 파일 읽기 에러\")"
   ]
  },
  {
   "cell_type": "code",
   "execution_count": 9,
   "id": "08127cdc",
   "metadata": {},
   "outputs": [],
   "source": [
    "ret, undistorted, correct_img = calibrate_correct(objectPoints, imagePoints, image)"
   ]
  },
  {
   "cell_type": "code",
   "execution_count": 10,
   "id": "1c7bc412",
   "metadata": {},
   "outputs": [
    {
     "name": "stdout",
     "output_type": "stream",
     "text": [
      "RMS error reported by cv2.calibrateCamera: 1.2269433985230855\n",
      "cameraMatrix =\n",
      "[[8.94658487e+04 0.00000000e+00 2.46011722e+02]\n",
      " [0.00000000e+00 7.89286371e+04 2.39597795e+02]\n",
      " [0.00000000e+00 0.00000000e+00 1.00000000e+00]]\n",
      "distCoeffs =\n",
      "[[ 6.06299602e+03  8.38249842e-02 -1.99409743e-01 -7.40967568e-01\n",
      "   1.03267091e-06]]\n",
      "rvecs =\n",
      "[[ 0.78135593 -0.00352163 -3.04251024]\n",
      " [ 0.78135593 -0.00352163 -3.04251024]\n",
      " [ 0.78135593 -0.00352163 -3.04251024]]\n",
      "tvecs =\n",
      "[[   3.26355645    3.03920514 1300.38267816]\n",
      " [   3.26355645    3.03920514 1300.38267816]\n",
      " [   3.26355645    3.03920514 1300.38267816]]\n"
     ]
    }
   ],
   "source": [
    "print(\"RMS error reported by cv2.calibrateCamera:\", ret[0])\n",
    "print(\"cameraMatrix =\\n%s\" % ret[1])\n",
    "print(\"distCoeffs =\\n%s\" % ret[2])\n",
    "print(\"rvecs =\\n%s\" % np.reshape(ret[3], (3,-1)))\n",
    "print(\"tvecs =\\n%s\" % np.reshape(ret[4], (3,-1)))"
   ]
  },
  {
   "cell_type": "code",
   "execution_count": 11,
   "id": "2c5affb3",
   "metadata": {},
   "outputs": [],
   "source": [
    "with open('camera_calibration.txt', 'wb') as f:\n",
    "    pickle.dump(ret, f)"
   ]
  },
  {
   "cell_type": "code",
   "execution_count": 12,
   "id": "d5325f71",
   "metadata": {},
   "outputs": [],
   "source": [
    "cv2.imshow(\"original\", image)\n",
    "cv2.imshow(\"undistorted\", undistorted)\n",
    "cv2.imshow(\"cropUndistorted\", correct_img)\n",
    "cv2.waitKey(0)\n",
    "cv2.destroyAllWindows()"
   ]
  },
  {
   "cell_type": "code",
   "execution_count": null,
   "id": "245dc205",
   "metadata": {},
   "outputs": [],
   "source": []
  }
 ],
 "metadata": {
  "kernelspec": {
   "display_name": "Python 3 (ipykernel)",
   "language": "python",
   "name": "python3"
  },
  "language_info": {
   "codemirror_mode": {
    "name": "ipython",
    "version": 3
   },
   "file_extension": ".py",
   "mimetype": "text/x-python",
   "name": "python",
   "nbconvert_exporter": "python",
   "pygments_lexer": "ipython3",
   "version": "3.9.12"
  },
  "toc": {
   "base_numbering": 1,
   "nav_menu": {},
   "number_sections": true,
   "sideBar": true,
   "skip_h1_title": false,
   "title_cell": "Table of Contents",
   "title_sidebar": "Contents",
   "toc_cell": false,
   "toc_position": {},
   "toc_section_display": true,
   "toc_window_display": false
  },
  "varInspector": {
   "cols": {
    "lenName": 16,
    "lenType": 16,
    "lenVar": 40
   },
   "kernels_config": {
    "python": {
     "delete_cmd_postfix": "",
     "delete_cmd_prefix": "del ",
     "library": "var_list.py",
     "varRefreshCmd": "print(var_dic_list())"
    },
    "r": {
     "delete_cmd_postfix": ") ",
     "delete_cmd_prefix": "rm(",
     "library": "var_list.r",
     "varRefreshCmd": "cat(var_dic_list()) "
    }
   },
   "types_to_exclude": [
    "module",
    "function",
    "builtin_function_or_method",
    "instance",
    "_Feature"
   ],
   "window_display": false
  }
 },
 "nbformat": 4,
 "nbformat_minor": 5
}
