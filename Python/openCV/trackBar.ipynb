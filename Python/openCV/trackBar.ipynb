{
 "cells": [
  {
   "cell_type": "code",
   "execution_count": 1,
   "id": "e963fd18",
   "metadata": {},
   "outputs": [],
   "source": [
    "import numpy as np\n",
    "import cv2\n",
    "def onChange(value):\n",
    "    global image, title                                 # 전역 변수 참조\n",
    "    add_value = value - int(image[0][0])                # 트렉바 값과 영상화소값 차분\n",
    "    image = image + add_value\n",
    "    cv2.imshow(title, image)\n",
    "def onMouse(event, x, y, flags, param):                 # 마우스 콜백 함수\n",
    "    global image, bar_name\n",
    "    if event == cv2.EVENT_RBUTTONDOWN:\n",
    "        if (image[0][0] < 246): image = image + 10\n",
    "        cv2.setTrackbarPos(bar_name, title, image[0][0])\t\t# 트랙바 위치 변경\n",
    "        cv2.imshow(title, image)\n",
    "    elif event == cv2.EVENT_LBUTTONDOWN:\n",
    "        if (image[0][0] >= 10): image = image - 10\n",
    "        cv2.setTrackbarPos(bar_name, title, image[0][0])\t\t# 트랙바 위치 변경\n",
    "        cv2.imshow(title, image)\n",
    "image = np.zeros((300, 500), np.uint8)\n",
    "title = \"Trackbar & Mouse Event\"                    \t\t# 윈도우 이름\n",
    "bar_name = \"Brightness\"                                # 트랙바 이름\n",
    "cv2.imshow(title, image)\n",
    "cv2.createTrackbar(bar_name, title, image[0][0], 255, onChange)   # 트랙바 콜백 함수\n",
    "cv2.setMouseCallback(title, onMouse)\n",
    "cv2.waitKey(0)\t\t\t\t\t\t\t\t\t\t\t\t\t# 키 입력 대기\n",
    "cv2.destroyAllWindows()"
   ]
  }
 ],
 "metadata": {
  "kernelspec": {
   "display_name": "Python 3 (ipykernel)",
   "language": "python",
   "name": "python3"
  },
  "language_info": {
   "codemirror_mode": {
    "name": "ipython",
    "version": 3
   },
   "file_extension": ".py",
   "mimetype": "text/x-python",
   "name": "python",
   "nbconvert_exporter": "python",
   "pygments_lexer": "ipython3",
   "version": "3.9.12"
  },
  "toc": {
   "base_numbering": 1,
   "nav_menu": {},
   "number_sections": true,
   "sideBar": true,
   "skip_h1_title": false,
   "title_cell": "Table of Contents",
   "title_sidebar": "Contents",
   "toc_cell": false,
   "toc_position": {},
   "toc_section_display": true,
   "toc_window_display": false
  },
  "varInspector": {
   "cols": {
    "lenName": 16,
    "lenType": 16,
    "lenVar": 40
   },
   "kernels_config": {
    "python": {
     "delete_cmd_postfix": "",
     "delete_cmd_prefix": "del ",
     "library": "var_list.py",
     "varRefreshCmd": "print(var_dic_list())"
    },
    "r": {
     "delete_cmd_postfix": ") ",
     "delete_cmd_prefix": "rm(",
     "library": "var_list.r",
     "varRefreshCmd": "cat(var_dic_list()) "
    }
   },
   "types_to_exclude": [
    "module",
    "function",
    "builtin_function_or_method",
    "instance",
    "_Feature"
   ],
   "window_display": false
  }
 },
 "nbformat": 4,
 "nbformat_minor": 5
}
