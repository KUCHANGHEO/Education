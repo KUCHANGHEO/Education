{
 "cells": [
  {
   "cell_type": "code",
   "execution_count": 1,
   "id": "06b9fd37",
   "metadata": {},
   "outputs": [],
   "source": [
    "import numpy as np, cv2\n",
    "from  Common.filters import filter"
   ]
  },
  {
   "cell_type": "code",
   "execution_count": 2,
   "id": "c9cac66d",
   "metadata": {},
   "outputs": [],
   "source": [
    "def differential(image, data1, data2):\n",
    "    mask1 = np.array(data1, np.float32).reshape(3, 3)\n",
    "    mask2 = np.array(data2, np.float32).reshape(3, 3)\n",
    "    dst1 = filter(image, mask1)                     # 사용자 정의 회선 함수\n",
    "    dst2 = filter(image, mask2)\n",
    "    dst = cv2.magnitude(dst1, dst2)                 # 회선 결과 두 행렬의 크기 계산\n",
    "    dst = cv2.convertScaleAbs(dst)                      # 윈도우 표시 위해 OpenCV 함수로 형변환 및 saturation 수행\n",
    "    dst1 = cv2.convertScaleAbs(dst1)\n",
    "    dst2 = cv2.convertScaleAbs(dst2)\n",
    "    return dst, dst1, dst2"
   ]
  },
  {
   "cell_type": "code",
   "execution_count": 3,
   "id": "109d9736",
   "metadata": {},
   "outputs": [],
   "source": [
    "image = cv2.imread(\"images/edge.jpg\", cv2.IMREAD_GRAYSCALE)\n",
    "if image is None: raise Exception(\"영상파일 읽기 오류\")    "
   ]
  },
  {
   "cell_type": "code",
   "execution_count": 4,
   "id": "1b1fe647",
   "metadata": {},
   "outputs": [],
   "source": [
    "data1 = [-1, 0, 1,                         # 프리윗 수직 마스크\n",
    "         -1, 0, 1,\n",
    "         -1, 0, 1]\n",
    "data2 = [-1,-1,-1,                         # 프리윗 수평 마스크\n",
    "          0, 0, 0,\n",
    "          1, 1, 1]\n",
    "dst, dst1, dst2 = differential(image, data1, data2)"
   ]
  },
  {
   "cell_type": "code",
   "execution_count": 5,
   "id": "c1501e5a",
   "metadata": {},
   "outputs": [
    {
     "data": {
      "text/plain": [
       "-1"
      ]
     },
     "execution_count": 5,
     "metadata": {},
     "output_type": "execute_result"
    }
   ],
   "source": [
    "cv2.imshow(\"image\", image)\n",
    "cv2.imshow(\"prewitt edge\", dst)\n",
    "cv2.imshow(\"dst1 - vertical mask\", dst1)\n",
    "cv2.imshow(\"dst2 - horizontal mask\", dst2)\n",
    "cv2.waitKey(0)\n",
    "cv2.destroyAllWindows()"
   ]
  },
  {
   "cell_type": "code",
   "execution_count": null,
   "id": "062f4863",
   "metadata": {},
   "outputs": [],
   "source": []
  }
 ],
 "metadata": {
  "kernelspec": {
   "display_name": "Python 3 (ipykernel)",
   "language": "python",
   "name": "python3"
  },
  "language_info": {
   "codemirror_mode": {
    "name": "ipython",
    "version": 3
   },
   "file_extension": ".py",
   "mimetype": "text/x-python",
   "name": "python",
   "nbconvert_exporter": "python",
   "pygments_lexer": "ipython3",
   "version": "3.9.12"
  },
  "toc": {
   "base_numbering": 1,
   "nav_menu": {},
   "number_sections": true,
   "sideBar": true,
   "skip_h1_title": false,
   "title_cell": "Table of Contents",
   "title_sidebar": "Contents",
   "toc_cell": false,
   "toc_position": {},
   "toc_section_display": true,
   "toc_window_display": false
  },
  "varInspector": {
   "cols": {
    "lenName": 16,
    "lenType": 16,
    "lenVar": 40
   },
   "kernels_config": {
    "python": {
     "delete_cmd_postfix": "",
     "delete_cmd_prefix": "del ",
     "library": "var_list.py",
     "varRefreshCmd": "print(var_dic_list())"
    },
    "r": {
     "delete_cmd_postfix": ") ",
     "delete_cmd_prefix": "rm(",
     "library": "var_list.r",
     "varRefreshCmd": "cat(var_dic_list()) "
    }
   },
   "types_to_exclude": [
    "module",
    "function",
    "builtin_function_or_method",
    "instance",
    "_Feature"
   ],
   "window_display": false
  }
 },
 "nbformat": 4,
 "nbformat_minor": 5
}
