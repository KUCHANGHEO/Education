{
 "cells": [
  {
   "cell_type": "code",
   "execution_count": 1,
   "id": "dd1fe2f7",
   "metadata": {},
   "outputs": [],
   "source": [
    "from header.plate_preprocess import *        # 전처리 및 후보 영역 검출 함수\n",
    "from header.plate_candidate import *\n",
    "from header.plate_classify import *  # k-NN 학습 및 분류"
   ]
  },
  {
   "cell_type": "code",
   "execution_count": 2,
   "id": "2a4a06a5",
   "metadata": {},
   "outputs": [
    {
     "name": "stdout",
     "output_type": "stream",
     "text": [
      "자동차 영상 번호 (0~20): 1\n"
     ]
    }
   ],
   "source": [
    "car_no = int(input(\"자동차 영상 번호 (0~20): \"))\n",
    "image, morph = preprocessing(car_no)                                    # 전처리\n",
    "candidates = find_candidates(morph)                            # 후보 영역 검색"
   ]
  },
  {
   "cell_type": "code",
   "execution_count": 3,
   "id": "c5811a8a",
   "metadata": {},
   "outputs": [],
   "source": [
    "fills = [color_candidate_img(image, size) for size, _, _ in candidates]\n",
    "new_candis = [find_candidates(fill) for fill in fills]\n",
    "new_candis = [cand[0] for cand in new_candis if cand]\n",
    "candidate_imgs = [rotate_plate(image, cand) for cand in new_candis]"
   ]
  },
  {
   "cell_type": "code",
   "execution_count": 4,
   "id": "08dac5e5",
   "metadata": {},
   "outputs": [],
   "source": [
    "svm = cv2.ml.SVM_load(\"SVMTrain.xml\")                  # 학습된 데이터 적재\n",
    "rows = np.reshape(candidate_imgs, (len(candidate_imgs), -1))    # 1행 데이터들로 변환\n",
    "_, results = svm.predict(rows.astype(\"float32\"))                # 분류 수행\n",
    "result = np.where(results == 1)[0]        # 1인 값의 위치 찾기"
   ]
  },
  {
   "cell_type": "code",
   "execution_count": 5,
   "id": "85058ad0",
   "metadata": {},
   "outputs": [],
   "source": [
    "plate_no = result[0] if len(result)>0 else -1"
   ]
  },
  {
   "cell_type": "code",
   "execution_count": 6,
   "id": "66eb7757",
   "metadata": {},
   "outputs": [],
   "source": [
    "K1, K2 = 10, 10\n",
    "nknn = kNN_train(\"images/train_numbers.png\", K1, 10, 20) # 숫자 학습\n",
    "tknn = kNN_train(\"images/train_texts.png\", K2, 40, 20)   # 문자 학습"
   ]
  },
  {
   "cell_type": "code",
   "execution_count": 8,
   "id": "454fef0c",
   "metadata": {},
   "outputs": [
    {
     "name": "stdout",
     "output_type": "stream",
     "text": [
      "정렬 인덱스: [5 0 6 4 3 2 1]\n",
      "숫자 분류 결과: [3 8 3 4 0 2 2]\n",
      "문자 분류 결과: 21\n",
      "분류 결과:  2 3 오 0 4 3 8\n"
     ]
    }
   ],
   "source": [
    "if plate_no >= 0:\n",
    "    plate_img = preprocessing_plate(candidate_imgs[plate_no])   # 번호판 영상 전처리\n",
    "    cells_roi = find_objects(cv2.bitwise_not(plate_img))\n",
    "    cells = [plate_img[y:y+h, x:x+w] for x,y,w,h in cells_roi]\n",
    "\n",
    "    classify_numbers(cells, nknn, tknn, K1, K2, cells_roi)      # 숫자 객체 분류\n",
    "\n",
    "    pts = np.int32(cv2.boxPoints(new_candis[plate_no]))\n",
    "    cv2.polylines(image, [pts], True,  (0, 255, 0), 2)\n",
    "\n",
    "    color_plate = cv2.cvtColor(plate_img, cv2.COLOR_GRAY2BGR)  # 컬러 번호판 영상\n",
    "    for x,y, w, h in cells_roi:\n",
    "        cv2.rectangle(color_plate, (x,y), (x+w,y+h), (0, 0, 255), 1)        # 번호판에 사각형 그리기\n",
    "\n",
    "    h,w  = color_plate.shape[:2]\n",
    "    image[0:h, 0:w] = color_plate\n",
    "else:\n",
    "    print(\"번호판 미검출\")\n",
    "\n",
    "cv2.imshow(\"image\", image)\n",
    "cv2.waitKey(0)\n",
    "cv2.destroyAllWindows()"
   ]
  },
  {
   "cell_type": "code",
   "execution_count": null,
   "id": "c3d95ec8",
   "metadata": {},
   "outputs": [],
   "source": []
  }
 ],
 "metadata": {
  "kernelspec": {
   "display_name": "Python 3 (ipykernel)",
   "language": "python",
   "name": "python3"
  },
  "language_info": {
   "codemirror_mode": {
    "name": "ipython",
    "version": 3
   },
   "file_extension": ".py",
   "mimetype": "text/x-python",
   "name": "python",
   "nbconvert_exporter": "python",
   "pygments_lexer": "ipython3",
   "version": "3.9.12"
  },
  "toc": {
   "base_numbering": 1,
   "nav_menu": {},
   "number_sections": true,
   "sideBar": true,
   "skip_h1_title": false,
   "title_cell": "Table of Contents",
   "title_sidebar": "Contents",
   "toc_cell": false,
   "toc_position": {},
   "toc_section_display": true,
   "toc_window_display": false
  },
  "varInspector": {
   "cols": {
    "lenName": 16,
    "lenType": 16,
    "lenVar": 40
   },
   "kernels_config": {
    "python": {
     "delete_cmd_postfix": "",
     "delete_cmd_prefix": "del ",
     "library": "var_list.py",
     "varRefreshCmd": "print(var_dic_list())"
    },
    "r": {
     "delete_cmd_postfix": ") ",
     "delete_cmd_prefix": "rm(",
     "library": "var_list.r",
     "varRefreshCmd": "cat(var_dic_list()) "
    }
   },
   "types_to_exclude": [
    "module",
    "function",
    "builtin_function_or_method",
    "instance",
    "_Feature"
   ],
   "window_display": false
  }
 },
 "nbformat": 4,
 "nbformat_minor": 5
}
