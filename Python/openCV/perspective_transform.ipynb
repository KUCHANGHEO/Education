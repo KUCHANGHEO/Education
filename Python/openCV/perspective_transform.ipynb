{
 "cells": [
  {
   "cell_type": "code",
   "execution_count": 1,
   "id": "cf9172cc",
   "metadata": {},
   "outputs": [],
   "source": [
    "import numpy as np, cv2"
   ]
  },
  {
   "cell_type": "code",
   "execution_count": 2,
   "id": "ff3bc2a9",
   "metadata": {},
   "outputs": [],
   "source": [
    "image = cv2.imread('images/perspective.jpg', cv2.IMREAD_COLOR)\n",
    "if image is None: raise Exception(\"영상 파일을 읽기 에러\")"
   ]
  },
  {
   "cell_type": "code",
   "execution_count": 3,
   "id": "f5e3ed43",
   "metadata": {},
   "outputs": [
    {
     "name": "stdout",
     "output_type": "stream",
     "text": [
      "[perspect_mat] = \n",
      "[[ 6.25789284e-01  3.98298577e-02 -6.88839366e+00]\n",
      " [-5.02676539e-01  1.06358288e+00  5.13923399e+01]\n",
      " [-1.57086418e-03  5.25700042e-04  1.00000000e+00]]\n",
      "\n"
     ]
    }
   ],
   "source": [
    "pts1 = np.float32([(80, 40),  (315, 133), (75, 300), (335, 300)] )\n",
    "pts2 = np.float32([(50, 60),  (340, 60), (50, 320), (340, 320)])\n",
    "perspect_mat = cv2.getPerspectiveTransform(pts1, pts2) #.astype('float32')\n",
    "dst = cv2.warpPerspective(image, perspect_mat, image.shape[1::-1], cv2.INTER_CUBIC)\n",
    "print(\"[perspect_mat] = \\n%s\\n\" % perspect_mat )"
   ]
  },
  {
   "cell_type": "code",
   "execution_count": 4,
   "id": "ceff8a81",
   "metadata": {},
   "outputs": [],
   "source": [
    "## 변환 좌표 계산 - 행렬 내적 이용 방법\n",
    "ones = np.ones((4,1), np.float64)\n",
    "pts3 = np.append(pts1, ones, axis=1)              # 원본 좌표 -> 동차 좌표 저장\n",
    "pts4 = cv2.gemm(pts3, perspect_mat.T, 1, None, 1)  # 행렬 곱으로 좌표 변환값 계산"
   ]
  },
  {
   "cell_type": "code",
   "execution_count": 5,
   "id": "9833fbcd",
   "metadata": {},
   "outputs": [
    {
     "name": "stdout",
     "output_type": "stream",
     "text": [
      " 원본 영상 좌표 \t 목적 영상 좌표 \t\t 동차 좌표 \t\t 변환 결과 좌표\n"
     ]
    }
   ],
   "source": [
    "## 변환 좌표 계산 - cv2.transform() 함수 이용방법\n",
    "# pts3 = np.expand_dims(pts1, axis=0)             # 차원 증가\n",
    "# pts4 = cv2.transform(pts3, perspect_mat)\n",
    "# pts4 = np.squeeze(pts4, axis=0)                 # 차원 감소\n",
    "# pts3 = np.squeeze(pts3, axis=0)                 # 출력 위해\n",
    "print(\" 원본 영상 좌표 \\t 목적 영상 좌표 \\t\\t 동차 좌표 \\t\\t 변환 결과 좌표\")"
   ]
  },
  {
   "cell_type": "code",
   "execution_count": 6,
   "id": "87d639f0",
   "metadata": {},
   "outputs": [
    {
     "name": "stdout",
     "output_type": "stream",
     "text": [
      "0 : [80. 40.]      [50. 60.]      [80. 40.  1.]     [50. 60.  1.]     \n",
      "1 : [315. 133.]    [340.  60.]    [315. 133.   1.]  [340.  60.   1.]  \n",
      "2 : [ 75. 300.]    [ 50. 320.]    [ 75. 300.   1.]  [ 50. 320.   1.]  \n",
      "3 : [335. 300.]    [340. 320.]    [335. 300.   1.]  [340. 320.   1.]  \n"
     ]
    }
   ],
   "source": [
    "for i in range(len(pts4)):\n",
    "    pts4[i] /= pts4[i][2]\n",
    "    print(\"%i : %-14s %-14s %-18s%-18s\" % (i, pts1[i], pts2[i], pts3[i], pts4[i]))\n",
    "    cv2.circle(image, tuple(pts1[i].astype(int)), 4, (0, 255, 0), -1) # 원본 영상에 pts1 표시\n",
    "    cv2.circle(dst  , tuple(pts2[i].astype(int)), 4, (0, 255, 0), -1) # 목적 영상에 pts2 표시"
   ]
  },
  {
   "cell_type": "code",
   "execution_count": 7,
   "id": "3e113728",
   "metadata": {},
   "outputs": [],
   "source": [
    "cv2.imshow(\"image\", image)\n",
    "cv2.imshow(\"dst_perspective\", dst)\n",
    "cv2.waitKey(0)\n",
    "cv2.destroyAllWindows()"
   ]
  },
  {
   "cell_type": "code",
   "execution_count": null,
   "id": "0bc073ef",
   "metadata": {},
   "outputs": [],
   "source": []
  }
 ],
 "metadata": {
  "kernelspec": {
   "display_name": "Python 3 (ipykernel)",
   "language": "python",
   "name": "python3"
  },
  "language_info": {
   "codemirror_mode": {
    "name": "ipython",
    "version": 3
   },
   "file_extension": ".py",
   "mimetype": "text/x-python",
   "name": "python",
   "nbconvert_exporter": "python",
   "pygments_lexer": "ipython3",
   "version": "3.9.12"
  },
  "toc": {
   "base_numbering": 1,
   "nav_menu": {},
   "number_sections": true,
   "sideBar": true,
   "skip_h1_title": false,
   "title_cell": "Table of Contents",
   "title_sidebar": "Contents",
   "toc_cell": false,
   "toc_position": {},
   "toc_section_display": true,
   "toc_window_display": false
  },
  "varInspector": {
   "cols": {
    "lenName": 16,
    "lenType": 16,
    "lenVar": 40
   },
   "kernels_config": {
    "python": {
     "delete_cmd_postfix": "",
     "delete_cmd_prefix": "del ",
     "library": "var_list.py",
     "varRefreshCmd": "print(var_dic_list())"
    },
    "r": {
     "delete_cmd_postfix": ") ",
     "delete_cmd_prefix": "rm(",
     "library": "var_list.r",
     "varRefreshCmd": "cat(var_dic_list()) "
    }
   },
   "types_to_exclude": [
    "module",
    "function",
    "builtin_function_or_method",
    "instance",
    "_Feature"
   ],
   "window_display": false
  }
 },
 "nbformat": 4,
 "nbformat_minor": 5
}
