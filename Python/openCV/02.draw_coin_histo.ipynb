{
 "cells": [
  {
   "cell_type": "code",
   "execution_count": 2,
   "id": "42eaf382",
   "metadata": {},
   "outputs": [],
   "source": [
    "from header.coin_preprocess import *\n",
    "from header.coin_utils import *                            # 기타 함수\n",
    "from Common.histogram import draw_histo_hue"
   ]
  },
  {
   "cell_type": "code",
   "execution_count": 3,
   "id": "b72129c7",
   "metadata": {},
   "outputs": [],
   "source": [
    "coin_no = 15\n",
    "image, th_img = preprocessing(coin_no)                            # 전처리 수행\n",
    "circles = find_coins(th_img)                     # 객체(회전사각형) 검출\n",
    "coin_imgs = make_coin_img(image, circles)                # 동전 영상 생성\n",
    "coin_hists = [calc_histo_hue(coin) for coin in coin_imgs] # 영상 히스토그램"
   ]
  },
  {
   "cell_type": "code",
   "execution_count": 4,
   "id": "c1f63c0e",
   "metadata": {},
   "outputs": [],
   "source": [
    "for i, img in enumerate(coin_imgs):\n",
    "    h, w = 200, 256\n",
    "    hist_img = draw_histo_hue(coin_hists[i], (h, w, 3))    # 색상 히스토그램 표시\n",
    "\n",
    "    merge = np.zeros((h, w+h, 3), np.uint8)\n",
    "    merge[:, :w] = hist_img\n",
    "    merge[:, w:] = cv2.resize(img, (h, h))\n",
    "    cv2.imshow(\"hist&coin-\" + str(i), merge)\n",
    "\n",
    "cv2.waitKey(0)\n",
    "cv2.destroyAllWindows()"
   ]
  },
  {
   "cell_type": "code",
   "execution_count": null,
   "id": "85065533",
   "metadata": {},
   "outputs": [],
   "source": []
  }
 ],
 "metadata": {
  "kernelspec": {
   "display_name": "Python 3 (ipykernel)",
   "language": "python",
   "name": "python3"
  },
  "language_info": {
   "codemirror_mode": {
    "name": "ipython",
    "version": 3
   },
   "file_extension": ".py",
   "mimetype": "text/x-python",
   "name": "python",
   "nbconvert_exporter": "python",
   "pygments_lexer": "ipython3",
   "version": "3.9.12"
  },
  "toc": {
   "base_numbering": 1,
   "nav_menu": {},
   "number_sections": true,
   "sideBar": true,
   "skip_h1_title": false,
   "title_cell": "Table of Contents",
   "title_sidebar": "Contents",
   "toc_cell": false,
   "toc_position": {},
   "toc_section_display": true,
   "toc_window_display": false
  },
  "varInspector": {
   "cols": {
    "lenName": 16,
    "lenType": 16,
    "lenVar": 40
   },
   "kernels_config": {
    "python": {
     "delete_cmd_postfix": "",
     "delete_cmd_prefix": "del ",
     "library": "var_list.py",
     "varRefreshCmd": "print(var_dic_list())"
    },
    "r": {
     "delete_cmd_postfix": ") ",
     "delete_cmd_prefix": "rm(",
     "library": "var_list.r",
     "varRefreshCmd": "cat(var_dic_list()) "
    }
   },
   "types_to_exclude": [
    "module",
    "function",
    "builtin_function_or_method",
    "instance",
    "_Feature"
   ],
   "window_display": false
  }
 },
 "nbformat": 4,
 "nbformat_minor": 5
}
