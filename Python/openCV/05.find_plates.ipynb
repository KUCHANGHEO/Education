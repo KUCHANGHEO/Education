{
 "cells": [
  {
   "cell_type": "code",
   "execution_count": 13,
   "id": "57ec1e01",
   "metadata": {},
   "outputs": [],
   "source": [
    "from header.plate_preprocess import *               # 전처리 및 후보 영역 검출 함수"
   ]
  },
  {
   "cell_type": "code",
   "execution_count": 14,
   "id": "df0551af",
   "metadata": {},
   "outputs": [
    {
     "name": "stdout",
     "output_type": "stream",
     "text": [
      "자동차 영상 번호 (0~15): 5\n"
     ]
    }
   ],
   "source": [
    "car_no = int(input(\"자동차 영상 번호 (0~15): \"))\n",
    "image, morph = preprocessing(car_no)                               # 전처리 - 이진화\n",
    "if image is None: Exception(\"영상 읽기 에러\")"
   ]
  },
  {
   "cell_type": "code",
   "execution_count": 15,
   "id": "d799860f",
   "metadata": {},
   "outputs": [
    {
     "name": "stdout",
     "output_type": "stream",
     "text": [
      "((325, 349), (128, 26), 7.411492824554443)\n",
      "((303, 266), (213, 40), 0.0)\n",
      "((124, 176), (100, 40), 70.70995330810547)\n"
     ]
    }
   ],
   "source": [
    "candidates = find_candidates(morph)                        # 번호판 후보 영역 검색\n",
    "for candidate in candidates:                                      # 후보 영역 표시\n",
    "    pts = np.int32(cv2.boxPoints(candidate))\n",
    "    cv2.polylines(image, [pts], True, (0, 225,255), 2)\n",
    "    print(candidate)"
   ]
  },
  {
   "cell_type": "code",
   "execution_count": 16,
   "id": "39b938b7",
   "metadata": {},
   "outputs": [],
   "source": [
    "if not candidates:\n",
    "    print(\"번호판 후보 영역 미검출\")\n",
    "cv2.imshow(\"image\", image)\n",
    "cv2.waitKey(0)\n",
    "cv2.destroyAllWindows()"
   ]
  },
  {
   "cell_type": "code",
   "execution_count": null,
   "id": "f248046c",
   "metadata": {},
   "outputs": [],
   "source": []
  }
 ],
 "metadata": {
  "kernelspec": {
   "display_name": "Python 3 (ipykernel)",
   "language": "python",
   "name": "python3"
  },
  "language_info": {
   "codemirror_mode": {
    "name": "ipython",
    "version": 3
   },
   "file_extension": ".py",
   "mimetype": "text/x-python",
   "name": "python",
   "nbconvert_exporter": "python",
   "pygments_lexer": "ipython3",
   "version": "3.9.12"
  },
  "toc": {
   "base_numbering": 1,
   "nav_menu": {},
   "number_sections": true,
   "sideBar": true,
   "skip_h1_title": false,
   "title_cell": "Table of Contents",
   "title_sidebar": "Contents",
   "toc_cell": false,
   "toc_position": {},
   "toc_section_display": true,
   "toc_window_display": false
  },
  "varInspector": {
   "cols": {
    "lenName": 16,
    "lenType": 16,
    "lenVar": 40
   },
   "kernels_config": {
    "python": {
     "delete_cmd_postfix": "",
     "delete_cmd_prefix": "del ",
     "library": "var_list.py",
     "varRefreshCmd": "print(var_dic_list())"
    },
    "r": {
     "delete_cmd_postfix": ") ",
     "delete_cmd_prefix": "rm(",
     "library": "var_list.r",
     "varRefreshCmd": "cat(var_dic_list()) "
    }
   },
   "types_to_exclude": [
    "module",
    "function",
    "builtin_function_or_method",
    "instance",
    "_Feature"
   ],
   "window_display": false
  }
 },
 "nbformat": 4,
 "nbformat_minor": 5
}
