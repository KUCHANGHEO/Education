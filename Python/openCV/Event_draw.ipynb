{
 "cells": [
  {
   "cell_type": "code",
   "execution_count": 1,
   "id": "32491cdc",
   "metadata": {},
   "outputs": [],
   "source": [
    "import numpy as np\n",
    "import cv2"
   ]
  },
  {
   "cell_type": "code",
   "execution_count": 2,
   "id": "dac42c75",
   "metadata": {},
   "outputs": [],
   "source": [
    "def onMouse(event, x, y, flags, param):\n",
    "    global title, pt\n",
    "    \n",
    "    if event == cv2.EVENT_LBUTTONDOWN:\n",
    "        if pt[0] < 0: pt = (x, y)\n",
    "        else:\n",
    "            cv2.rectangle(image, pt, (x,y), (255, 0, 0), 2)\n",
    "            cv2.imshow(title, image)\n",
    "            pt = (-1, -1)\n",
    "    \n",
    "    \n",
    "    elif event == cv2.EVENT_RBUTTONDOWN:\n",
    "        if pt[0] < 0: pt = (x,y)\n",
    "        else:\n",
    "            dx, dy = pt[0] - x, pt[1] - y\n",
    "            radius = int(np.sqrt(dx*dx + dy*dy))\n",
    "            cv2.circle(image, pt, radius, (0, 0, 255), 2)\n",
    "            cv2.imshow(title, image)\n",
    "            pt = (-1, -1)"
   ]
  },
  {
   "cell_type": "code",
   "execution_count": 3,
   "id": "b14d6a14",
   "metadata": {},
   "outputs": [],
   "source": [
    "image = np.full((300, 500, 3), (255, 255, 255), np.uint8)"
   ]
  },
  {
   "cell_type": "code",
   "execution_count": 5,
   "id": "9463d0b9",
   "metadata": {},
   "outputs": [],
   "source": [
    "pt = (-1, -1)\n",
    "title = \"Draw Event\"\n",
    "cv2.imshow(title, image)\n",
    "cv2.setMouseCallback(title, onMouse)\n",
    "cv2.waitKey(0)\n",
    "cv2.destroyAllWindows()"
   ]
  },
  {
   "cell_type": "code",
   "execution_count": null,
   "id": "dc991158",
   "metadata": {},
   "outputs": [],
   "source": []
  }
 ],
 "metadata": {
  "kernelspec": {
   "display_name": "Python 3 (ipykernel)",
   "language": "python",
   "name": "python3"
  },
  "language_info": {
   "codemirror_mode": {
    "name": "ipython",
    "version": 3
   },
   "file_extension": ".py",
   "mimetype": "text/x-python",
   "name": "python",
   "nbconvert_exporter": "python",
   "pygments_lexer": "ipython3",
   "version": "3.9.12"
  },
  "toc": {
   "base_numbering": 1,
   "nav_menu": {},
   "number_sections": true,
   "sideBar": true,
   "skip_h1_title": false,
   "title_cell": "Table of Contents",
   "title_sidebar": "Contents",
   "toc_cell": false,
   "toc_position": {},
   "toc_section_display": true,
   "toc_window_display": false
  },
  "varInspector": {
   "cols": {
    "lenName": 16,
    "lenType": 16,
    "lenVar": 40
   },
   "kernels_config": {
    "python": {
     "delete_cmd_postfix": "",
     "delete_cmd_prefix": "del ",
     "library": "var_list.py",
     "varRefreshCmd": "print(var_dic_list())"
    },
    "r": {
     "delete_cmd_postfix": ") ",
     "delete_cmd_prefix": "rm(",
     "library": "var_list.r",
     "varRefreshCmd": "cat(var_dic_list()) "
    }
   },
   "types_to_exclude": [
    "module",
    "function",
    "builtin_function_or_method",
    "instance",
    "_Feature"
   ],
   "window_display": false
  }
 },
 "nbformat": 4,
 "nbformat_minor": 5
}
