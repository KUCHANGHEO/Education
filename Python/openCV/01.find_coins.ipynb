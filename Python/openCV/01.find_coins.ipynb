{
 "cells": [
  {
   "cell_type": "code",
   "execution_count": 3,
   "id": "fa5f3063",
   "metadata": {},
   "outputs": [],
   "source": [
    "from header.coin_preprocess import *"
   ]
  },
  {
   "cell_type": "code",
   "execution_count": 4,
   "id": "fbb2b59d",
   "metadata": {},
   "outputs": [],
   "source": [
    "image, th_img = preprocessing(70)                           # 전처리 수행\n",
    "if image is None: raise Exception(\"영상 파일 읽기 에러\")"
   ]
  },
  {
   "cell_type": "code",
   "execution_count": 5,
   "id": "67ec75f7",
   "metadata": {},
   "outputs": [],
   "source": [
    "circles = find_coins(th_img)                            # 객체(회전사각형) 검출\n",
    "for center, radius in circles:\n",
    "    cv2.circle(image, center, radius, (0, 255, 0), 2)   # 동전 영상 원으로 표시"
   ]
  },
  {
   "cell_type": "code",
   "execution_count": 7,
   "id": "d28c81b1",
   "metadata": {},
   "outputs": [],
   "source": [
    "cv2.imshow(\"preprocessed image\", th_img)\n",
    "cv2.imshow(\"coin image\", image)\n",
    "cv2.waitKey(0)\n",
    "cv2.destroyAllWindows()"
   ]
  },
  {
   "cell_type": "code",
   "execution_count": null,
   "id": "2c38f9eb",
   "metadata": {},
   "outputs": [],
   "source": []
  }
 ],
 "metadata": {
  "kernelspec": {
   "display_name": "Python 3 (ipykernel)",
   "language": "python",
   "name": "python3"
  },
  "language_info": {
   "codemirror_mode": {
    "name": "ipython",
    "version": 3
   },
   "file_extension": ".py",
   "mimetype": "text/x-python",
   "name": "python",
   "nbconvert_exporter": "python",
   "pygments_lexer": "ipython3",
   "version": "3.9.12"
  },
  "toc": {
   "base_numbering": 1,
   "nav_menu": {},
   "number_sections": true,
   "sideBar": true,
   "skip_h1_title": false,
   "title_cell": "Table of Contents",
   "title_sidebar": "Contents",
   "toc_cell": false,
   "toc_position": {},
   "toc_section_display": true,
   "toc_window_display": false
  },
  "varInspector": {
   "cols": {
    "lenName": 16,
    "lenType": 16,
    "lenVar": 40
   },
   "kernels_config": {
    "python": {
     "delete_cmd_postfix": "",
     "delete_cmd_prefix": "del ",
     "library": "var_list.py",
     "varRefreshCmd": "print(var_dic_list())"
    },
    "r": {
     "delete_cmd_postfix": ") ",
     "delete_cmd_prefix": "rm(",
     "library": "var_list.r",
     "varRefreshCmd": "cat(var_dic_list()) "
    }
   },
   "types_to_exclude": [
    "module",
    "function",
    "builtin_function_or_method",
    "instance",
    "_Feature"
   ],
   "window_display": false
  }
 },
 "nbformat": 4,
 "nbformat_minor": 5
}
