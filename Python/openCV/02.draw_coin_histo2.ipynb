{
 "cells": [
  {
   "cell_type": "code",
   "execution_count": 1,
   "id": "379f9f32",
   "metadata": {},
   "outputs": [],
   "source": [
    "from Common.histogram import draw_histo_hue\n",
    "from header.coin_preprocess import *\n",
    "from header.coin_utils import *                            # 기타 함수"
   ]
  },
  {
   "cell_type": "code",
   "execution_count": 2,
   "id": "f4d71e38",
   "metadata": {},
   "outputs": [],
   "source": [
    "def onMouse(event, x, y, flags, param):\n",
    "    global pre_img, hist_roi\n",
    "    if event == cv2.EVENT_LBUTTONDOWN:          # 왼쪽 버튼 누르기\n",
    "        for i, ((cx, cy), radius) in enumerate(circles):    # 메뉴아이콘 사각형 조회\n",
    "            dx, dy = (cx - x), (cy - y)\n",
    "            dist = np.sqrt(dx**2 + dy**2)     # 동전 중점좌표와 클릭좌표간 거리\n",
    "\n",
    "            if dist < radius:\n",
    "                hist_img = draw_histo_hue(coin_hists[i], (80, 128, 3))\n",
    "                h, w = hist_img.shape[:2]\n",
    "                hist_roi = [x, y, w, h]\n",
    "                pre_img =  image[y:y + h, x:x + w].copy()\n",
    "                image[y:y+h, x:x+w] = hist_img\n",
    "                cv2.imshow(\"image\", image)\n",
    "\n",
    "    if event == cv2.EVENT_LBUTTONUP:            # 왼쪽 버튼 떼기\n",
    "        x, y, w, h =  hist_roi\n",
    "        image[y:y+h, x:x+w] = pre_img\n",
    "        cv2.imshow(\"image\", image)"
   ]
  },
  {
   "cell_type": "code",
   "execution_count": 3,
   "id": "18a217c5",
   "metadata": {},
   "outputs": [],
   "source": [
    "coin_no = 15\n",
    "image, th_img = preprocessing(coin_no)                            # 전처리 수행\n",
    "circles = find_coins(th_img)                    # 객체 검출"
   ]
  },
  {
   "cell_type": "code",
   "execution_count": 4,
   "id": "155bd675",
   "metadata": {},
   "outputs": [],
   "source": [
    "coin_imgs = make_coin_img(image, circles)                # 동전 영상 생성\n",
    "coin_hists = [calc_histo_hue(coin) for coin in coin_imgs] # 각 동전영상 히스토그램"
   ]
  },
  {
   "cell_type": "code",
   "execution_count": 5,
   "id": "f278f5a2",
   "metadata": {},
   "outputs": [
    {
     "data": {
      "text/plain": [
       "-1"
      ]
     },
     "execution_count": 5,
     "metadata": {},
     "output_type": "execute_result"
    }
   ],
   "source": [
    "for center, radius in circles:\n",
    "    cv2.circle(image, center, radius, (0, 255, 0), 2)\n",
    "\n",
    "cv2.imshow(\"image\", image)\n",
    "cv2.setMouseCallback(\"image\", onMouse)\n",
    "cv2.waitKey(0)\n",
    "cv2.destroyAllWindows()"
   ]
  },
  {
   "cell_type": "code",
   "execution_count": null,
   "id": "2f9e3d36",
   "metadata": {},
   "outputs": [],
   "source": []
  }
 ],
 "metadata": {
  "kernelspec": {
   "display_name": "Python 3 (ipykernel)",
   "language": "python",
   "name": "python3"
  },
  "language_info": {
   "codemirror_mode": {
    "name": "ipython",
    "version": 3
   },
   "file_extension": ".py",
   "mimetype": "text/x-python",
   "name": "python",
   "nbconvert_exporter": "python",
   "pygments_lexer": "ipython3",
   "version": "3.9.12"
  },
  "toc": {
   "base_numbering": 1,
   "nav_menu": {},
   "number_sections": true,
   "sideBar": true,
   "skip_h1_title": false,
   "title_cell": "Table of Contents",
   "title_sidebar": "Contents",
   "toc_cell": false,
   "toc_position": {},
   "toc_section_display": true,
   "toc_window_display": false
  },
  "varInspector": {
   "cols": {
    "lenName": 16,
    "lenType": 16,
    "lenVar": 40
   },
   "kernels_config": {
    "python": {
     "delete_cmd_postfix": "",
     "delete_cmd_prefix": "del ",
     "library": "var_list.py",
     "varRefreshCmd": "print(var_dic_list())"
    },
    "r": {
     "delete_cmd_postfix": ") ",
     "delete_cmd_prefix": "rm(",
     "library": "var_list.r",
     "varRefreshCmd": "cat(var_dic_list()) "
    }
   },
   "types_to_exclude": [
    "module",
    "function",
    "builtin_function_or_method",
    "instance",
    "_Feature"
   ],
   "window_display": false
  }
 },
 "nbformat": 4,
 "nbformat_minor": 5
}
