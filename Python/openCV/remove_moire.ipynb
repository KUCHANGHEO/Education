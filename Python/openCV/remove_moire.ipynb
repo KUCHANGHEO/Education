{
 "cells": [
  {
   "cell_type": "code",
   "execution_count": 1,
   "id": "0b571118",
   "metadata": {},
   "outputs": [],
   "source": [
    "import numpy as np, cv2\n",
    "from Common.fft2d import FFT, IFFT, calc_spectrum"
   ]
  },
  {
   "cell_type": "code",
   "execution_count": 2,
   "id": "d08d0551",
   "metadata": {},
   "outputs": [],
   "source": [
    "def onRemoveMoire(val):\n",
    "    radius = cv2.getTrackbarPos(\"radius\", title)\n",
    "    th  = cv2.getTrackbarPos(\"threshold\", title)\n",
    "    \n",
    "    mask= cv2.threshold(spectrum_img, th, 255, cv2.THRESH_BINARY_INV)[1]\n",
    "    y, x = np.divmod(mask.shape,2)[0]\n",
    "    cv2.circle(mask, (x, y), radius, 255, -1)\n",
    "\n",
    "    if dft.ndim<3:\n",
    "        remv_dft = np.zeros(dft.shape, np.complex)\n",
    "        remv_dft.imag = cv2.copyTo(dft.imag, mask=mask)\n",
    "        remv_dft.real = cv2.copyTo(dft.real, mask=mask)\n",
    "    else:\n",
    "        remv_dft = cv2.copyTo(dft, mask=mask)\n",
    "\n",
    "    result[:, image.shape[1]:] = IFFT(remv_dft, image.shape, mode)\n",
    "    cv2.imshow(title, calc_spectrum(remv_dft))\n",
    "    cv2.imshow(\"result\", result)"
   ]
  },
  {
   "cell_type": "code",
   "execution_count": 3,
   "id": "70952d7b",
   "metadata": {},
   "outputs": [],
   "source": [
    "image = cv2.imread('images/mo2.jpg', cv2.IMREAD_GRAYSCALE)\n",
    "if image is None: raise Exception(\"영상 파일 읽기 에러\")"
   ]
  },
  {
   "cell_type": "code",
   "execution_count": 4,
   "id": "9a1ae2f9",
   "metadata": {},
   "outputs": [],
   "source": [
    "mode = 3\n",
    "result = cv2.repeat(image, 1, 2)                    # 원본 영상 + 결과 영상\n",
    "dft, spectrum_img = FFT(image, mode)              # OpenCV dft() 함수 수행"
   ]
  },
  {
   "cell_type": "code",
   "execution_count": 5,
   "id": "0dd45470",
   "metadata": {},
   "outputs": [
    {
     "ename": "error",
     "evalue": "OpenCV(4.5.5) D:\\a\\opencv-python\\opencv-python\\opencv\\modules\\highgui\\src\\window.cpp:862: error: (-215:Assertion failed) trackbar in function 'cv::getTrackbarPos'\n",
     "output_type": "error",
     "traceback": [
      "\u001b[1;31m---------------------------------------------------------------------------\u001b[0m",
      "\u001b[1;31merror\u001b[0m                                     Traceback (most recent call last)",
      "Input \u001b[1;32mIn [2]\u001b[0m, in \u001b[0;36monRemoveMoire\u001b[1;34m(val)\u001b[0m\n\u001b[0;32m      1\u001b[0m \u001b[38;5;28;01mdef\u001b[39;00m \u001b[38;5;21monRemoveMoire\u001b[39m(val):\n\u001b[0;32m      2\u001b[0m     radius \u001b[38;5;241m=\u001b[39m cv2\u001b[38;5;241m.\u001b[39mgetTrackbarPos(\u001b[38;5;124m\"\u001b[39m\u001b[38;5;124mradius\u001b[39m\u001b[38;5;124m\"\u001b[39m, title)\n\u001b[1;32m----> 3\u001b[0m     th  \u001b[38;5;241m=\u001b[39m \u001b[43mcv2\u001b[49m\u001b[38;5;241;43m.\u001b[39;49m\u001b[43mgetTrackbarPos\u001b[49m\u001b[43m(\u001b[49m\u001b[38;5;124;43m\"\u001b[39;49m\u001b[38;5;124;43mthreshold\u001b[39;49m\u001b[38;5;124;43m\"\u001b[39;49m\u001b[43m,\u001b[49m\u001b[43m \u001b[49m\u001b[43mtitle\u001b[49m\u001b[43m)\u001b[49m\n\u001b[0;32m      5\u001b[0m     mask\u001b[38;5;241m=\u001b[39m cv2\u001b[38;5;241m.\u001b[39mthreshold(spectrum_img, th, \u001b[38;5;241m255\u001b[39m, cv2\u001b[38;5;241m.\u001b[39mTHRESH_BINARY_INV)[\u001b[38;5;241m1\u001b[39m]\n\u001b[0;32m      6\u001b[0m     y, x \u001b[38;5;241m=\u001b[39m np\u001b[38;5;241m.\u001b[39mdivmod(mask\u001b[38;5;241m.\u001b[39mshape,\u001b[38;5;241m2\u001b[39m)[\u001b[38;5;241m0\u001b[39m]\n",
      "\u001b[1;31merror\u001b[0m: OpenCV(4.5.5) D:\\a\\opencv-python\\opencv-python\\opencv\\modules\\highgui\\src\\window.cpp:862: error: (-215:Assertion failed) trackbar in function 'cv::getTrackbarPos'\n"
     ]
    },
    {
     "data": {
      "text/plain": [
       "-1"
      ]
     },
     "execution_count": 5,
     "metadata": {},
     "output_type": "execute_result"
    }
   ],
   "source": [
    "title = \"removed moire\"\n",
    "cv2.imshow(\"result\", result)\n",
    "cv2.imshow(title, spectrum_img)\n",
    "cv2.createTrackbar(\"radius\", title, 10, 255, onRemoveMoire)\n",
    "cv2.createTrackbar(\"threshold\", title, 120, 255, onRemoveMoire)\n",
    "cv2.waitKey(0)\n",
    "cv2"
   ]
  },
  {
   "cell_type": "code",
   "execution_count": null,
   "id": "589e4094",
   "metadata": {},
   "outputs": [],
   "source": []
  }
 ],
 "metadata": {
  "kernelspec": {
   "display_name": "Python 3 (ipykernel)",
   "language": "python",
   "name": "python3"
  },
  "language_info": {
   "codemirror_mode": {
    "name": "ipython",
    "version": 3
   },
   "file_extension": ".py",
   "mimetype": "text/x-python",
   "name": "python",
   "nbconvert_exporter": "python",
   "pygments_lexer": "ipython3",
   "version": "3.9.12"
  },
  "toc": {
   "base_numbering": 1,
   "nav_menu": {},
   "number_sections": true,
   "sideBar": true,
   "skip_h1_title": false,
   "title_cell": "Table of Contents",
   "title_sidebar": "Contents",
   "toc_cell": false,
   "toc_position": {},
   "toc_section_display": true,
   "toc_window_display": false
  },
  "varInspector": {
   "cols": {
    "lenName": 16,
    "lenType": 16,
    "lenVar": 40
   },
   "kernels_config": {
    "python": {
     "delete_cmd_postfix": "",
     "delete_cmd_prefix": "del ",
     "library": "var_list.py",
     "varRefreshCmd": "print(var_dic_list())"
    },
    "r": {
     "delete_cmd_postfix": ") ",
     "delete_cmd_prefix": "rm(",
     "library": "var_list.r",
     "varRefreshCmd": "cat(var_dic_list()) "
    }
   },
   "types_to_exclude": [
    "module",
    "function",
    "builtin_function_or_method",
    "instance",
    "_Feature"
   ],
   "window_display": false
  }
 },
 "nbformat": 4,
 "nbformat_minor": 5
}
