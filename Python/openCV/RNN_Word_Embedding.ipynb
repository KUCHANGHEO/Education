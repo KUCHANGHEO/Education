{
 "cells": [
  {
   "cell_type": "code",
   "execution_count": null,
   "id": "1mNTOmN93k6a",
   "metadata": {
    "colab": {
     "base_uri": "https://localhost:8080/"
    },
    "executionInfo": {
     "elapsed": 22842,
     "status": "ok",
     "timestamp": 1653013281734,
     "user": {
      "displayName": "YoungBok Hong",
      "userId": "00711479927724396415"
     },
     "user_tz": -540
    },
    "id": "1mNTOmN93k6a",
    "outputId": "49f67ecd-4ab2-4f20-df0e-1d4898bad3cd"
   },
   "outputs": [
    {
     "name": "stdout",
     "output_type": "stream",
     "text": [
      "Mounted at /content/drive\n"
     ]
    }
   ],
   "source": [
    "from google.colab import drive\n",
    "drive.mount('/content/drive')"
   ]
  },
  {
   "cell_type": "code",
   "execution_count": null,
   "id": "pk_vTtNa4n3Q",
   "metadata": {
    "colab": {
     "base_uri": "https://localhost:8080/"
    },
    "executionInfo": {
     "elapsed": 8267,
     "status": "ok",
     "timestamp": 1653013373068,
     "user": {
      "displayName": "YoungBok Hong",
      "userId": "00711479927724396415"
     },
     "user_tz": -540
    },
    "id": "pk_vTtNa4n3Q",
    "outputId": "ccb47a1a-3690-456f-b7d0-07b6d7e80d35"
   },
   "outputs": [
    {
     "name": "stdout",
     "output_type": "stream",
     "text": [
      "Collecting chars2vec\n",
      "  Downloading chars2vec-0.1.7.tar.gz (8.1 MB)\n",
      "\u001b[K     |████████████████████████████████| 8.1 MB 7.7 MB/s \n",
      "\u001b[?25hBuilding wheels for collected packages: chars2vec\n",
      "  Building wheel for chars2vec (setup.py) ... \u001b[?25l\u001b[?25hdone\n",
      "  Created wheel for chars2vec: filename=chars2vec-0.1.7-py3-none-any.whl size=8111097 sha256=8052ed9bd11ab97679bcf679f87610be2cb034e80ccc2e46395a559da2096d6a\n",
      "  Stored in directory: /root/.cache/pip/wheels/6d/55/76/0797aaeb92faa4840c9e352353f741aacbe443cb00c66af1c6\n",
      "Successfully built chars2vec\n",
      "Installing collected packages: chars2vec\n",
      "Successfully installed chars2vec-0.1.7\n"
     ]
    }
   ],
   "source": [
    "pip install chars2vec"
   ]
  },
  {
   "cell_type": "code",
   "execution_count": null,
   "id": "cab23957-64f7-4146-bed7-4cbfa60ebeba",
   "metadata": {
    "id": "cab23957-64f7-4146-bed7-4cbfa60ebeba"
   },
   "outputs": [],
   "source": [
    "# problem 파일 경로 Desktop/project/code_similarity/open/code\n",
    "\n",
    "# problem 폴더 안 예제 코드 확장자명 변경\n",
    "import os\n",
    "from tqdm import tqdm\n",
    "import re\n",
    "# .txt 병합\n",
    "import pandas as pd\n",
    "import numpy as np\n",
    "import sklearn\n",
    "\n",
    "from keras.layers import Input\n",
    "from sklearn.feature_extraction.text import TfidfVectorizer\n",
    "from tensorflow.keras.models import Sequential\n",
    "from tensorflow.keras.layers import LSTM,Dense,Embedding,Flatten\n",
    "from keras.preprocessing.text import Tokenizer\n",
    "from keras.preprocessing.sequence import pad_sequences\n",
    "from sklearn.model_selection import train_test_split\n",
    "from tensorflow.keras.models import load_model\n",
    "from tensorflow.keras.callbacks import EarlyStopping, ModelCheckpoint"
   ]
  },
  {
   "cell_type": "code",
   "execution_count": null,
   "id": "SfNkQJN9Rfjo",
   "metadata": {
    "colab": {
     "base_uri": "https://localhost:8080/",
     "height": 36
    },
    "executionInfo": {
     "elapsed": 314,
     "status": "ok",
     "timestamp": 1653013349167,
     "user": {
      "displayName": "YoungBok Hong",
      "userId": "00711479927724396415"
     },
     "user_tz": -540
    },
    "id": "SfNkQJN9Rfjo",
    "outputId": "e554287f-6d19-4825-8ace-fbe4326d1646"
   },
   "outputs": [
    {
     "data": {
      "application/vnd.google.colaboratory.intrinsic+json": {
       "type": "string"
      },
      "text/plain": [
       "'/content'"
      ]
     },
     "execution_count": 2,
     "metadata": {},
     "output_type": "execute_result"
    }
   ],
   "source": [
    "pwd"
   ]
  },
  {
   "cell_type": "code",
   "execution_count": null,
   "id": "0113ba20-86e2-4e80-a6e9-f9ad7504f24d",
   "metadata": {
    "colab": {
     "base_uri": "https://localhost:8080/"
    },
    "executionInfo": {
     "elapsed": 4,
     "status": "ok",
     "timestamp": 1653013381535,
     "user": {
      "displayName": "YoungBok Hong",
      "userId": "00711479927724396415"
     },
     "user_tz": -540
    },
    "id": "0113ba20-86e2-4e80-a6e9-f9ad7504f24d",
    "outputId": "1eb3d134-0d2e-4732-c22c-fd38f5667508"
   },
   "outputs": [
    {
     "data": {
      "text/plain": [
       "300"
      ]
     },
     "execution_count": 6,
     "metadata": {},
     "output_type": "execute_result"
    }
   ],
   "source": [
    "# 폴더 및 .py 파일 개수 확인\n",
    "code_folder = \"./drive/MyDrive/code_similarity/open/code\"\n",
    "problem_folders = os.listdir(code_folder)\n",
    "\n",
    "#Ds.store숨김\n",
    "problem_folders = [folder for folder in problem_folders if folder.startswith('problem')]\n",
    "\n",
    "# 폴더명 정렬\n",
    "problem_folders.sort(reverse=False)\n",
    "len(problem_folders)"
   ]
  },
  {
   "cell_type": "code",
   "execution_count": null,
   "id": "e7bb3133-e884-4e4d-a1da-9c7a259b00ff",
   "metadata": {
    "colab": {
     "base_uri": "https://localhost:8080/"
    },
    "executionInfo": {
     "elapsed": 512918,
     "status": "ok",
     "timestamp": 1653014006010,
     "user": {
      "displayName": "YoungBok Hong",
      "userId": "00711479927724396415"
     },
     "user_tz": -540
    },
    "id": "e7bb3133-e884-4e4d-a1da-9c7a259b00ff",
    "outputId": "5a0271bf-5255-456d-bd84-268367dfccf2"
   },
   "outputs": [
    {
     "name": "stderr",
     "output_type": "stream",
     "text": [
      "100%|██████████| 300/300 [08:32<00:00,  1.71s/it]\n"
     ]
    }
   ],
   "source": [
    "def preprocess_script(script):\n",
    "    '''\n",
    "    간단한 전처리 함수\n",
    "    주석 -> 삭제\n",
    "    '    '-> tab 변환\n",
    "    다중 개행 -> 한 번으로 변환\n",
    "    '''\n",
    "    with open(script,'r',encoding='utf-8') as file:\n",
    "        lines = file.readlines()\n",
    "        preproc_lines = []\n",
    "        for line in lines:\n",
    "            if line.lstrip().startswith('#'):\n",
    "                continue\n",
    "            line = line.rstrip()\n",
    "            if '#' in line:\n",
    "                line = line[:line.index('#')]\n",
    "            line = line.replace('\\n','')\n",
    "            line = line.replace('    ','\\t')\n",
    "            if line == '':\n",
    "                continue\n",
    "            preproc_lines.append(line)\n",
    "        preprocessed_script = '\\n'.join(preproc_lines)\n",
    "    return preprocessed_script\n",
    "\n",
    "preproc_scripts = []\n",
    "problem_nums = []\n",
    "\n",
    "for problem_folder in tqdm(problem_folders):\n",
    "    scripts = os.listdir(os.path.join(code_folder,problem_folder))\n",
    "    problem_num = scripts[7].split('_')[0] \n",
    "    for script in scripts:\n",
    "        script_file = os.path.join(code_folder,problem_folder,script)\n",
    "        preprocessed_script = preprocess_script(script_file)\n",
    "\n",
    "        preproc_scripts.append(preprocessed_script)\n",
    "    problem_nums.extend([problem_num]*len(scripts))"
   ]
  },
  {
   "cell_type": "code",
   "execution_count": null,
   "id": "Ze6W9PWv3sAy",
   "metadata": {
    "colab": {
     "base_uri": "https://localhost:8080/",
     "height": 424
    },
    "executionInfo": {
     "elapsed": 22,
     "status": "ok",
     "timestamp": 1652977404451,
     "user": {
      "displayName": "YoungBok Hong",
      "userId": "00711479927724396415"
     },
     "user_tz": -540
    },
    "id": "Ze6W9PWv3sAy",
    "outputId": "599d3717-66b6-46d1-eb06-1d9901645767"
   },
   "outputs": [
    {
     "data": {
      "text/html": [
       "\n",
       "  <div id=\"df-9ec70124-1e97-43ee-8a86-db0d5b94804d\">\n",
       "    <div class=\"colab-df-container\">\n",
       "      <div>\n",
       "<style scoped>\n",
       "    .dataframe tbody tr th:only-of-type {\n",
       "        vertical-align: middle;\n",
       "    }\n",
       "\n",
       "    .dataframe tbody tr th {\n",
       "        vertical-align: top;\n",
       "    }\n",
       "\n",
       "    .dataframe thead th {\n",
       "        text-align: right;\n",
       "    }\n",
       "</style>\n",
       "<table border=\"1\" class=\"dataframe\">\n",
       "  <thead>\n",
       "    <tr style=\"text-align: right;\">\n",
       "      <th></th>\n",
       "      <th>index</th>\n",
       "      <th>code</th>\n",
       "      <th>problem_num</th>\n",
       "    </tr>\n",
       "  </thead>\n",
       "  <tbody>\n",
       "    <tr>\n",
       "      <th>0</th>\n",
       "      <td>0</td>\n",
       "      <td>a = [x for x in range(9)]\\nfor i in a:\\n\\tfor ...</td>\n",
       "      <td>problem001</td>\n",
       "    </tr>\n",
       "    <tr>\n",
       "      <th>1</th>\n",
       "      <td>96</td>\n",
       "      <td>for i in range(1, 10):\\n\\tfor j in range(1, 10...</td>\n",
       "      <td>problem001</td>\n",
       "    </tr>\n",
       "    <tr>\n",
       "      <th>2</th>\n",
       "      <td>97</td>\n",
       "      <td>import itertools\\nr = range(1,10)\\nfor (x,y) i...</td>\n",
       "      <td>problem001</td>\n",
       "    </tr>\n",
       "    <tr>\n",
       "      <th>3</th>\n",
       "      <td>98</td>\n",
       "      <td>i=1\\nwhile i&lt;10:\\n\\tj=1\\n\\twhile j&lt;10:\\n\\t\\tpr...</td>\n",
       "      <td>problem001</td>\n",
       "    </tr>\n",
       "    <tr>\n",
       "      <th>4</th>\n",
       "      <td>99</td>\n",
       "      <td>i=[1,2,3,4,5,6,7,8,9]\\nj=[1,2,3,4,5,6,7,8,9]\\n...</td>\n",
       "      <td>problem001</td>\n",
       "    </tr>\n",
       "    <tr>\n",
       "      <th>...</th>\n",
       "      <td>...</td>\n",
       "      <td>...</td>\n",
       "      <td>...</td>\n",
       "    </tr>\n",
       "    <tr>\n",
       "      <th>45096</th>\n",
       "      <td>45001</td>\n",
       "      <td>import math\\ndef factorization(n):\\n\\tarr = []...</td>\n",
       "      <td>problem300</td>\n",
       "    </tr>\n",
       "    <tr>\n",
       "      <th>45097</th>\n",
       "      <td>45002</td>\n",
       "      <td>a,b=map(int,input().split())\\ng=1\\nwhile 1:\\n ...</td>\n",
       "      <td>problem300</td>\n",
       "    </tr>\n",
       "    <tr>\n",
       "      <th>45098</th>\n",
       "      <td>45003</td>\n",
       "      <td>from math import gcd\\ndef make_divisors(n):\\n\\...</td>\n",
       "      <td>problem300</td>\n",
       "    </tr>\n",
       "    <tr>\n",
       "      <th>45099</th>\n",
       "      <td>45005</td>\n",
       "      <td>import math\\ndef factorization(n):\\n\\td = [1]\\...</td>\n",
       "      <td>problem300</td>\n",
       "    </tr>\n",
       "    <tr>\n",
       "      <th>45100</th>\n",
       "      <td>45100</td>\n",
       "      <td>n, m = map(int, input().split(\" \"))\\ndef divis...</td>\n",
       "      <td>problem300</td>\n",
       "    </tr>\n",
       "  </tbody>\n",
       "</table>\n",
       "<p>45101 rows × 3 columns</p>\n",
       "</div>\n",
       "      <button class=\"colab-df-convert\" onclick=\"convertToInteractive('df-9ec70124-1e97-43ee-8a86-db0d5b94804d')\"\n",
       "              title=\"Convert this dataframe to an interactive table.\"\n",
       "              style=\"display:none;\">\n",
       "        \n",
       "  <svg xmlns=\"http://www.w3.org/2000/svg\" height=\"24px\"viewBox=\"0 0 24 24\"\n",
       "       width=\"24px\">\n",
       "    <path d=\"M0 0h24v24H0V0z\" fill=\"none\"/>\n",
       "    <path d=\"M18.56 5.44l.94 2.06.94-2.06 2.06-.94-2.06-.94-.94-2.06-.94 2.06-2.06.94zm-11 1L8.5 8.5l.94-2.06 2.06-.94-2.06-.94L8.5 2.5l-.94 2.06-2.06.94zm10 10l.94 2.06.94-2.06 2.06-.94-2.06-.94-.94-2.06-.94 2.06-2.06.94z\"/><path d=\"M17.41 7.96l-1.37-1.37c-.4-.4-.92-.59-1.43-.59-.52 0-1.04.2-1.43.59L10.3 9.45l-7.72 7.72c-.78.78-.78 2.05 0 2.83L4 21.41c.39.39.9.59 1.41.59.51 0 1.02-.2 1.41-.59l7.78-7.78 2.81-2.81c.8-.78.8-2.07 0-2.86zM5.41 20L4 18.59l7.72-7.72 1.47 1.35L5.41 20z\"/>\n",
       "  </svg>\n",
       "      </button>\n",
       "      \n",
       "  <style>\n",
       "    .colab-df-container {\n",
       "      display:flex;\n",
       "      flex-wrap:wrap;\n",
       "      gap: 12px;\n",
       "    }\n",
       "\n",
       "    .colab-df-convert {\n",
       "      background-color: #E8F0FE;\n",
       "      border: none;\n",
       "      border-radius: 50%;\n",
       "      cursor: pointer;\n",
       "      display: none;\n",
       "      fill: #1967D2;\n",
       "      height: 32px;\n",
       "      padding: 0 0 0 0;\n",
       "      width: 32px;\n",
       "    }\n",
       "\n",
       "    .colab-df-convert:hover {\n",
       "      background-color: #E2EBFA;\n",
       "      box-shadow: 0px 1px 2px rgba(60, 64, 67, 0.3), 0px 1px 3px 1px rgba(60, 64, 67, 0.15);\n",
       "      fill: #174EA6;\n",
       "    }\n",
       "\n",
       "    [theme=dark] .colab-df-convert {\n",
       "      background-color: #3B4455;\n",
       "      fill: #D2E3FC;\n",
       "    }\n",
       "\n",
       "    [theme=dark] .colab-df-convert:hover {\n",
       "      background-color: #434B5C;\n",
       "      box-shadow: 0px 1px 3px 1px rgba(0, 0, 0, 0.15);\n",
       "      filter: drop-shadow(0px 1px 2px rgba(0, 0, 0, 0.3));\n",
       "      fill: #FFFFFF;\n",
       "    }\n",
       "  </style>\n",
       "\n",
       "      <script>\n",
       "        const buttonEl =\n",
       "          document.querySelector('#df-9ec70124-1e97-43ee-8a86-db0d5b94804d button.colab-df-convert');\n",
       "        buttonEl.style.display =\n",
       "          google.colab.kernel.accessAllowed ? 'block' : 'none';\n",
       "\n",
       "        async function convertToInteractive(key) {\n",
       "          const element = document.querySelector('#df-9ec70124-1e97-43ee-8a86-db0d5b94804d');\n",
       "          const dataTable =\n",
       "            await google.colab.kernel.invokeFunction('convertToInteractive',\n",
       "                                                     [key], {});\n",
       "          if (!dataTable) return;\n",
       "\n",
       "          const docLinkHtml = 'Like what you see? Visit the ' +\n",
       "            '<a target=\"_blank\" href=https://colab.research.google.com/notebooks/data_table.ipynb>data table notebook</a>'\n",
       "            + ' to learn more about interactive tables.';\n",
       "          element.innerHTML = '';\n",
       "          dataTable['output_type'] = 'display_data';\n",
       "          await google.colab.output.renderOutput(dataTable, element);\n",
       "          const docLink = document.createElement('div');\n",
       "          docLink.innerHTML = docLinkHtml;\n",
       "          element.appendChild(docLink);\n",
       "        }\n",
       "      </script>\n",
       "    </div>\n",
       "  </div>\n",
       "  "
      ],
      "text/plain": [
       "       index                                               code problem_num\n",
       "0          0  a = [x for x in range(9)]\\nfor i in a:\\n\\tfor ...  problem001\n",
       "1         96  for i in range(1, 10):\\n\\tfor j in range(1, 10...  problem001\n",
       "2         97  import itertools\\nr = range(1,10)\\nfor (x,y) i...  problem001\n",
       "3         98  i=1\\nwhile i<10:\\n\\tj=1\\n\\twhile j<10:\\n\\t\\tpr...  problem001\n",
       "4         99  i=[1,2,3,4,5,6,7,8,9]\\nj=[1,2,3,4,5,6,7,8,9]\\n...  problem001\n",
       "...      ...                                                ...         ...\n",
       "45096  45001  import math\\ndef factorization(n):\\n\\tarr = []...  problem300\n",
       "45097  45002  a,b=map(int,input().split())\\ng=1\\nwhile 1:\\n ...  problem300\n",
       "45098  45003  from math import gcd\\ndef make_divisors(n):\\n\\...  problem300\n",
       "45099  45005  import math\\ndef factorization(n):\\n\\td = [1]\\...  problem300\n",
       "45100  45100  n, m = map(int, input().split(\" \"))\\ndef divis...  problem300\n",
       "\n",
       "[45101 rows x 3 columns]"
      ]
     },
     "execution_count": 5,
     "metadata": {},
     "output_type": "execute_result"
    }
   ],
   "source": [
    "code_df = pd.DataFrame(data = {'code':preproc_scripts, 'problem_num':problem_nums})\n",
    "\n",
    "code_df.sort_values('problem_num').reset_index()"
   ]
  },
  {
   "cell_type": "code",
   "execution_count": null,
   "id": "w5C3am_FQnTV",
   "metadata": {
    "colab": {
     "base_uri": "https://localhost:8080/",
     "height": 134
    },
    "executionInfo": {
     "elapsed": 522,
     "status": "error",
     "timestamp": 1652980698687,
     "user": {
      "displayName": "YoungBok Hong",
      "userId": "00711479927724396415"
     },
     "user_tz": -540
    },
    "id": "w5C3am_FQnTV",
    "outputId": "375a397c-5177-482f-a6ad-8beab12767d5"
   },
   "outputs": [
    {
     "ename": "SyntaxError",
     "evalue": "ignored",
     "output_type": "error",
     "traceback": [
      "\u001b[0;36m  File \u001b[0;32m\"<ipython-input-90-e80aac5a7807>\"\u001b[0;36m, line \u001b[0;32m3\u001b[0m\n\u001b[0;31m    i.replace(1,001)\u001b[0m\n\u001b[0m                  ^\u001b[0m\n\u001b[0;31mSyntaxError\u001b[0m\u001b[0;31m:\u001b[0m invalid token\n"
     ]
    }
   ],
   "source": [
    "'''\n",
    "#'%03d'\n",
    "i = [i for i in range(1,301)]\n",
    "code_df['problem_num'].replace('problem{i}', 'i')\n",
    "'''"
   ]
  },
  {
   "cell_type": "code",
   "execution_count": null,
   "id": "4zSHXRU5OqhI",
   "metadata": {
    "colab": {
     "base_uri": "https://localhost:8080/",
     "height": 223
    },
    "executionInfo": {
     "elapsed": 498,
     "status": "error",
     "timestamp": 1652979256196,
     "user": {
      "displayName": "YoungBok Hong",
      "userId": "00711479927724396415"
     },
     "user_tz": -540
    },
    "id": "4zSHXRU5OqhI",
    "outputId": "ca822192-74ff-4c4b-f70e-f41a62f4567d"
   },
   "outputs": [
    {
     "ename": "AttributeError",
     "evalue": "ignored",
     "output_type": "error",
     "traceback": [
      "\u001b[0;31m---------------------------------------------------------------------------\u001b[0m",
      "\u001b[0;31mAttributeError\u001b[0m                            Traceback (most recent call last)",
      "\u001b[0;32m<ipython-input-61-a68fff162994>\u001b[0m in \u001b[0;36m<module>\u001b[0;34m()\u001b[0m\n\u001b[1;32m      1\u001b[0m \u001b[0ma\u001b[0m \u001b[0;34m=\u001b[0m \u001b[0;34m[\u001b[0m\u001b[0;34m'problem001'\u001b[0m\u001b[0;34m,\u001b[0m\u001b[0;34m'problem002'\u001b[0m\u001b[0;34m,\u001b[0m\u001b[0;34m'problem003'\u001b[0m\u001b[0;34m,\u001b[0m\u001b[0;34m'problem004'\u001b[0m\u001b[0;34m]\u001b[0m\u001b[0;34m\u001b[0m\u001b[0;34m\u001b[0m\u001b[0m\n\u001b[1;32m      2\u001b[0m \u001b[0;32mfor\u001b[0m \u001b[0mi\u001b[0m \u001b[0;32min\u001b[0m \u001b[0mrange\u001b[0m\u001b[0;34m(\u001b[0m\u001b[0mlen\u001b[0m\u001b[0;34m(\u001b[0m\u001b[0ma\u001b[0m\u001b[0;34m)\u001b[0m\u001b[0;34m)\u001b[0m\u001b[0;34m:\u001b[0m\u001b[0;34m\u001b[0m\u001b[0;34m\u001b[0m\u001b[0m\n\u001b[0;32m----> 3\u001b[0;31m     \u001b[0mi\u001b[0m \u001b[0;34m=\u001b[0m \u001b[0ma\u001b[0m\u001b[0;34m.\u001b[0m\u001b[0mreplace\u001b[0m\u001b[0;34m(\u001b[0m\u001b[0;34m'problem{i}'\u001b[0m\u001b[0;34m,\u001b[0m \u001b[0;34m'{i}'\u001b[0m\u001b[0;34m)\u001b[0m\u001b[0;34m\u001b[0m\u001b[0;34m\u001b[0m\u001b[0m\n\u001b[0m\u001b[1;32m      4\u001b[0m     \u001b[0mprint\u001b[0m\u001b[0;34m(\u001b[0m\u001b[0mi\u001b[0m\u001b[0;34m)\u001b[0m\u001b[0;34m\u001b[0m\u001b[0;34m\u001b[0m\u001b[0m\n",
      "\u001b[0;31mAttributeError\u001b[0m: 'list' object has no attribute 'replace'"
     ]
    }
   ],
   "source": [
    "'''\n",
    "a = ['problem001','problem002','problem003','problem004']\n",
    "\n",
    "for i in range(len(a)):\n",
    "    i = a.replace('problem{i}', '{i}')\n",
    "    print(i)\n",
    "'''"
   ]
  },
  {
   "cell_type": "code",
   "execution_count": 1,
   "id": "snI9MSUYu_-Q",
   "metadata": {
    "colab": {
     "base_uri": "https://localhost:8080/",
     "height": 170
    },
    "executionInfo": {
     "elapsed": 12,
     "status": "error",
     "timestamp": 1653022425953,
     "user": {
      "displayName": "YoungBok Hong",
      "userId": "00711479927724396415"
     },
     "user_tz": -540
    },
    "id": "snI9MSUYu_-Q",
    "outputId": "1c8020c7-9a1e-4311-fe22-cf42a70d375a"
   },
   "outputs": [
    {
     "ename": "NameError",
     "evalue": "ignored",
     "output_type": "error",
     "traceback": [
      "\u001b[0;31m---------------------------------------------------------------------------\u001b[0m",
      "\u001b[0;31mNameError\u001b[0m                                 Traceback (most recent call last)",
      "\u001b[0;32m<ipython-input-1-688ac8038fd4>\u001b[0m in \u001b[0;36m<module>\u001b[0;34m()\u001b[0m\n\u001b[0;32m----> 1\u001b[0;31m \u001b[0mtest_csv\u001b[0m \u001b[0;34m=\u001b[0m \u001b[0mpd\u001b[0m\u001b[0;34m.\u001b[0m\u001b[0mread_csv\u001b[0m\u001b[0;34m(\u001b[0m\u001b[0;34m\"/content/drive/MyDrive/code_similarity/open/test.csv\"\u001b[0m\u001b[0;34m)\u001b[0m\u001b[0;34m\u001b[0m\u001b[0;34m\u001b[0m\u001b[0m\n\u001b[0m",
      "\u001b[0;31mNameError\u001b[0m: name 'pd' is not defined"
     ]
    }
   ],
   "source": [
    "test_csv = pd.read_csv(\"/content/drive/MyDrive/code_similarity/open/test.csv\")"
   ]
  },
  {
   "cell_type": "code",
   "execution_count": null,
   "id": "4zDkye2UvM7n",
   "metadata": {
    "executionInfo": {
     "elapsed": 8,
     "status": "aborted",
     "timestamp": 1653022425952,
     "user": {
      "displayName": "YoungBok Hong",
      "userId": "00711479927724396415"
     },
     "user_tz": -540
    },
    "id": "4zDkye2UvM7n"
   },
   "outputs": [],
   "source": [
    "test_csv.head(10000)"
   ]
  },
  {
   "cell_type": "code",
   "execution_count": null,
   "id": "X0GPhQFn9d29",
   "metadata": {
    "colab": {
     "base_uri": "https://localhost:8080/"
    },
    "executionInfo": {
     "elapsed": 559,
     "status": "ok",
     "timestamp": 1652978519487,
     "user": {
      "displayName": "YoungBok Hong",
      "userId": "00711479927724396415"
     },
     "user_tz": -540
    },
    "id": "X0GPhQFn9d29",
    "outputId": "6474e0ef-0d51-4040-aa25-0da5ea80da8a"
   },
   "outputs": [
    {
     "name": "stdout",
     "output_type": "stream",
     "text": [
      "<class 'pandas.core.series.Series'>\n",
      "<class 'pandas.core.series.Series'>\n"
     ]
    }
   ],
   "source": [
    "x = code_df['code']  #.drop('problem_num', axis = 1).values\n",
    "y = code_df['problem_num']\n",
    "print(type(x))\n",
    "print(type(y))"
   ]
  },
  {
   "cell_type": "code",
   "execution_count": null,
   "id": "YbFq0HqtwVHk",
   "metadata": {
    "id": "YbFq0HqtwVHk"
   },
   "outputs": [],
   "source": []
  },
  {
   "cell_type": "code",
   "execution_count": null,
   "id": "mrB29enivnIj",
   "metadata": {
    "id": "mrB29enivnIj"
   },
   "outputs": [],
   "source": [
    "#test_x = test_csv['code1']\n",
    "#test_y = test_csv['code2']"
   ]
  },
  {
   "cell_type": "code",
   "execution_count": null,
   "id": "VTvd-ndf3sMu",
   "metadata": {
    "id": "VTvd-ndf3sMu"
   },
   "outputs": [],
   "source": [
    "x_train, x_val, y_train, y_val = train_test_split(x, y,\n",
    "                                                  random_state=42,\n",
    "                                                  test_size=0.2,\n",
    "                                                  stratify = y\n",
    "                                                 )"
   ]
  },
  {
   "cell_type": "code",
   "execution_count": null,
   "id": "wr9WsdIh_Hkn",
   "metadata": {
    "colab": {
     "base_uri": "https://localhost:8080/"
    },
    "executionInfo": {
     "elapsed": 4,
     "status": "ok",
     "timestamp": 1652978520450,
     "user": {
      "displayName": "YoungBok Hong",
      "userId": "00711479927724396415"
     },
     "user_tz": -540
    },
    "id": "wr9WsdIh_Hkn",
    "outputId": "8f394077-2def-4951-e8ab-f11e4d4ae6d3"
   },
   "outputs": [
    {
     "name": "stdout",
     "output_type": "stream",
     "text": [
      "(36080,)\n",
      "(9021,)\n",
      "(36080,)\n",
      "(9021,)\n"
     ]
    },
    {
     "data": {
      "text/plain": [
       "29826    problem199\n",
       "33372    problem222\n",
       "30012    problem200\n",
       "6227     problem042\n",
       "32364    problem216\n",
       "            ...    \n",
       "6596     problem044\n",
       "4816     problem033\n",
       "40695    problem271\n",
       "39649    problem264\n",
       "28865    problem192\n",
       "Name: problem_num, Length: 36080, dtype: object"
      ]
     },
     "execution_count": 45,
     "metadata": {},
     "output_type": "execute_result"
    }
   ],
   "source": [
    "print(x_train.shape)\n",
    "print(x_val.shape)\n",
    "\n",
    "print(y_train.shape)\n",
    "print(y_val.shape)\n",
    "y_train"
   ]
  },
  {
   "cell_type": "code",
   "execution_count": null,
   "id": "hv33rbtiJLIz",
   "metadata": {
    "colab": {
     "base_uri": "https://localhost:8080/",
     "height": 36
    },
    "executionInfo": {
     "elapsed": 4132,
     "status": "ok",
     "timestamp": 1652978525037,
     "user": {
      "displayName": "YoungBok Hong",
      "userId": "00711479927724396415"
     },
     "user_tz": -540
    },
    "id": "hv33rbtiJLIz",
    "outputId": "0812f7c6-76f9-4f04-8c90-c3361751ad8e"
   },
   "outputs": [
    {
     "data": {
      "application/vnd.google.colaboratory.intrinsic+json": {
       "type": "string"
      },
      "text/plain": [
       "'\\nx_train = np.array(x_train)\\ny_train = np.array(y_val)'"
      ]
     },
     "execution_count": 46,
     "metadata": {},
     "output_type": "execute_result"
    }
   ],
   "source": [
    "tokenizer = Tokenizer() \n",
    "tokenizer.fit_on_texts(x_train)\n",
    "tokenizer.fit_on_texts(x_val)\n",
    "x_train = tokenizer.texts_to_sequences(x_train)\n",
    "x_val = tokenizer.texts_to_sequences(x_val)\n",
    "\n",
    "\"\"\"\n",
    "x_train = np.array(x_train)\n",
    "y_train = np.array(y_val)\"\"\""
   ]
  },
  {
   "cell_type": "code",
   "execution_count": null,
   "id": "1MLWHrc5ET0p",
   "metadata": {
    "colab": {
     "base_uri": "https://localhost:8080/",
     "height": 179
    },
    "executionInfo": {
     "elapsed": 13,
     "status": "ok",
     "timestamp": 1652978525038,
     "user": {
      "displayName": "YoungBok Hong",
      "userId": "00711479927724396415"
     },
     "user_tz": -540
    },
    "id": "1MLWHrc5ET0p",
    "outputId": "d8c06d57-76b2-45e7-ba29-4e412d87d638"
   },
   "outputs": [
    {
     "data": {
      "application/vnd.google.colaboratory.intrinsic+json": {
       "type": "string"
      },
      "text/plain": [
       "'threshold = 2\\ntotal_cnt = len(tokenizer.word_index) # 단어의 수\\nrare_cnt = 0 # 등장 빈도수가 threshold보다 작은 단어의 개수를 카운트\\ntotal_freq = 0 # 훈련 데이터의 전체 단어 빈도수 총 합\\nrare_freq = 0 # 등장 빈도수가 threshold보다 작은 단어의 등장 빈도수의 총 합\\n\\n# 단어와 빈도수의 쌍(pair)을 key와 value로 받는다.\\nfor key, value in tokenizer.word_counts.items():\\n    total_freq = total_freq + value\\n\\n    # 단어의 등장 빈도수가 threshold보다 작으면\\n    if(value < threshold):\\n        rare_cnt = rare_cnt + 1\\n        rare_freq = rare_freq + value\\n\\nprint(\\'단어 집합(vocabulary)의 크기 :\\',total_cnt)\\nprint(\\'등장 빈도가 %s번 이하인 희귀 단어의 수: %s\\'%(threshold - 1, rare_cnt))\\nprint(\"단어 집합에서 희귀 단어의 비율:\", (rare_cnt / total_cnt)*100)\\nprint(\"전체 등장 빈도에서 희귀 단어 등장 빈도 비율:\", (rare_freq / total_freq)*100)\\n'"
      ]
     },
     "execution_count": 47,
     "metadata": {},
     "output_type": "execute_result"
    }
   ],
   "source": [
    "'''threshold = 2\n",
    "total_cnt = len(tokenizer.word_index) # 단어의 수\n",
    "rare_cnt = 0 # 등장 빈도수가 threshold보다 작은 단어의 개수를 카운트\n",
    "total_freq = 0 # 훈련 데이터의 전체 단어 빈도수 총 합\n",
    "rare_freq = 0 # 등장 빈도수가 threshold보다 작은 단어의 등장 빈도수의 총 합\n",
    "\n",
    "# 단어와 빈도수의 쌍(pair)을 key와 value로 받는다.\n",
    "for key, value in tokenizer.word_counts.items():\n",
    "    total_freq = total_freq + value\n",
    "\n",
    "    # 단어의 등장 빈도수가 threshold보다 작으면\n",
    "    if(value < threshold):\n",
    "        rare_cnt = rare_cnt + 1\n",
    "        rare_freq = rare_freq + value\n",
    "\n",
    "print('단어 집합(vocabulary)의 크기 :',total_cnt)\n",
    "print('등장 빈도가 %s번 이하인 희귀 단어의 수: %s'%(threshold - 1, rare_cnt))\n",
    "print(\"단어 집합에서 희귀 단어의 비율:\", (rare_cnt / total_cnt)*100)\n",
    "print(\"전체 등장 빈도에서 희귀 단어 등장 빈도 비율:\", (rare_freq / total_freq)*100)\n",
    "'''"
   ]
  },
  {
   "cell_type": "code",
   "execution_count": null,
   "id": "4je2TsiL_IcA",
   "metadata": {
    "colab": {
     "base_uri": "https://localhost:8080/",
     "height": 54
    },
    "executionInfo": {
     "elapsed": 12,
     "status": "ok",
     "timestamp": 1652978525039,
     "user": {
      "displayName": "YoungBok Hong",
      "userId": "00711479927724396415"
     },
     "user_tz": -540
    },
    "id": "4je2TsiL_IcA",
    "outputId": "fa8e9924-c68e-40e7-a13e-e6d1b7e9ac5d"
   },
   "outputs": [
    {
     "data": {
      "application/vnd.google.colaboratory.intrinsic+json": {
       "type": "string"
      },
      "text/plain": [
       "\"# 전체 단어 개수 중 빈도수 2이하인 단어는 제거.\\n# 0번 패딩 토큰을 고려하여 + 1\\nvocab_size = total_cnt - rare_cnt + 1\\nprint('단어 집합의 크기 :',vocab_size)\\n\""
      ]
     },
     "execution_count": 48,
     "metadata": {},
     "output_type": "execute_result"
    }
   ],
   "source": [
    "'''# 전체 단어 개수 중 빈도수 2이하인 단어는 제거.\n",
    "# 0번 패딩 토큰을 고려하여 + 1\n",
    "vocab_size = total_cnt - rare_cnt + 1\n",
    "print('단어 집합의 크기 :',vocab_size)\n",
    "'''"
   ]
  },
  {
   "cell_type": "code",
   "execution_count": null,
   "id": "2wAsLRnq_Iy_",
   "metadata": {
    "id": "2wAsLRnq_Iy_"
   },
   "outputs": [],
   "source": []
  },
  {
   "cell_type": "code",
   "execution_count": null,
   "id": "141hzIkE_I1K",
   "metadata": {
    "id": "141hzIkE_I1K"
   },
   "outputs": [],
   "source": [
    "def below_threshold_len(max_len, nested_list):\n",
    "  count = 0\n",
    "  for code_line in nested_list:\n",
    "    if(len(code_line) <= max_len):\n",
    "        count = count + 1\n",
    "  print('전체 샘플 중 길이가 %s 이하인 샘플의 비율: %s'%(max_len, (count / len(nested_list))*100))"
   ]
  },
  {
   "cell_type": "code",
   "execution_count": null,
   "id": "0Wwbhezi_I4B",
   "metadata": {
    "colab": {
     "base_uri": "https://localhost:8080/"
    },
    "executionInfo": {
     "elapsed": 12,
     "status": "ok",
     "timestamp": 1652978525040,
     "user": {
      "displayName": "YoungBok Hong",
      "userId": "00711479927724396415"
     },
     "user_tz": -540
    },
    "id": "0Wwbhezi_I4B",
    "outputId": "a63a0b2b-f71e-449d-a5f4-a033bf8db8fd"
   },
   "outputs": [
    {
     "name": "stdout",
     "output_type": "stream",
     "text": [
      "전체 샘플 중 길이가 200 이하인 샘플의 비율: 96.77660753880266\n"
     ]
    }
   ],
   "source": [
    "max_len = 200\n",
    "below_threshold_len(max_len, x_train)"
   ]
  },
  {
   "cell_type": "code",
   "execution_count": null,
   "id": "xUKVvv7__I5z",
   "metadata": {
    "id": "xUKVvv7__I5z"
   },
   "outputs": [],
   "source": [
    "pad_x_train = pad_sequences(x_train, maxlen=max_len)\n",
    "pad_x_val = pad_sequences(x_val, maxlen=max_len)"
   ]
  },
  {
   "cell_type": "code",
   "execution_count": null,
   "id": "3H8ZI5doKS5Q",
   "metadata": {
    "id": "3H8ZI5doKS5Q"
   },
   "outputs": [],
   "source": []
  },
  {
   "cell_type": "code",
   "execution_count": null,
   "id": "9s-MBeF9k9-k",
   "metadata": {
    "colab": {
     "base_uri": "https://localhost:8080/"
    },
    "executionInfo": {
     "elapsed": 3,
     "status": "ok",
     "timestamp": 1652978506981,
     "user": {
      "displayName": "YoungBok Hong",
      "userId": "00711479927724396415"
     },
     "user_tz": -540
    },
    "id": "9s-MBeF9k9-k",
    "outputId": "bb09016a-534b-4f94-b6cd-460ff706bcf4"
   },
   "outputs": [
    {
     "name": "stdout",
     "output_type": "stream",
     "text": [
      "200\n",
      "200\n"
     ]
    }
   ],
   "source": [
    "print(len(pad_x_train[0]))\n",
    "print(len(pad_x_val[0]))"
   ]
  },
  {
   "cell_type": "code",
   "execution_count": null,
   "id": "tbodsp4vk-bE",
   "metadata": {
    "id": "tbodsp4vk-bE"
   },
   "outputs": [],
   "source": [
    "# 다중입력 함수형 모델 API\n",
    "model = Sequential()\n",
    "\n",
    "embedding_dim = 64\n",
    "\n",
    "'''input_text = Input(shape=(None,))\n",
    "embadded_text = layers.Embedding(input_dim = max_len, output_dim = embedding_dim))\n",
    "x_1 = layers.Dense(32, activation='relu')(input_tensor)\n",
    "x_2 = layers.Dense(32, activation='relu')(x)\n",
    "output_tensor = layers.Dense(10, activation='softmax')(x)\n",
    "\n",
    "model = Model(input_tensor, output_tensor)\n",
    "'''\n",
    "model.add(Embedding(input_dim = max_len, output_dim = embedding_dim))\n",
    "model.add(LSTM(128, return_sequences=True))\n",
    "model.add(LSTM(128, return_sequences=True))\n",
    "model.add(LSTM(64))\n",
    "model.add(Dense(1, activation='softmax'))\n",
    "model.add(Flatten())\n",
    "\n",
    "es = EarlyStopping(monitor='loss', mode='min', verbose=1, patience=4)\n",
    "mc = ModelCheckpoint('best_model.h5', monitor='val_acc', mode='max', verbose=1, save_best_only=True)"
   ]
  },
  {
   "cell_type": "code",
   "execution_count": null,
   "id": "vAJnNkoKr2Y1",
   "metadata": {
    "id": "vAJnNkoKr2Y1"
   },
   "outputs": [],
   "source": []
  },
  {
   "cell_type": "code",
   "execution_count": null,
   "id": "Lxyis-AUk-jN",
   "metadata": {
    "colab": {
     "base_uri": "https://localhost:8080/"
    },
    "executionInfo": {
     "elapsed": 11,
     "status": "ok",
     "timestamp": 1652978534216,
     "user": {
      "displayName": "YoungBok Hong",
      "userId": "00711479927724396415"
     },
     "user_tz": -540
    },
    "id": "Lxyis-AUk-jN",
    "outputId": "cf3e2d23-319f-4395-d7f4-977ac6c8a3e5"
   },
   "outputs": [
    {
     "name": "stdout",
     "output_type": "stream",
     "text": [
      "Model: \"sequential_1\"\n",
      "_________________________________________________________________\n",
      " Layer (type)                Output Shape              Param #   \n",
      "=================================================================\n",
      " embedding_1 (Embedding)     (None, None, 64)          12800     \n",
      "                                                                 \n",
      " lstm_3 (LSTM)               (None, None, 128)         98816     \n",
      "                                                                 \n",
      " lstm_4 (LSTM)               (None, None, 128)         131584    \n",
      "                                                                 \n",
      " lstm_5 (LSTM)               (None, 64)                49408     \n",
      "                                                                 \n",
      " dense_1 (Dense)             (None, 1)                 65        \n",
      "                                                                 \n",
      " flatten_1 (Flatten)         (None, 1)                 0         \n",
      "                                                                 \n",
      "=================================================================\n",
      "Total params: 292,673\n",
      "Trainable params: 292,673\n",
      "Non-trainable params: 0\n",
      "_________________________________________________________________\n"
     ]
    }
   ],
   "source": [
    "model.compile(optimizer='adam', loss='sparse_categorical_crossentropy', metrics=['acc'])\n",
    "model.summary()"
   ]
  },
  {
   "cell_type": "code",
   "execution_count": null,
   "id": "TwWNhxl6rxQG",
   "metadata": {
    "colab": {
     "base_uri": "https://localhost:8080/",
     "height": 1000
    },
    "executionInfo": {
     "elapsed": 6136,
     "status": "error",
     "timestamp": 1652978541443,
     "user": {
      "displayName": "YoungBok Hong",
      "userId": "00711479927724396415"
     },
     "user_tz": -540
    },
    "id": "TwWNhxl6rxQG",
    "outputId": "cd22dded-0941-49e2-8711-5441c6de12ab"
   },
   "outputs": [
    {
     "name": "stdout",
     "output_type": "stream",
     "text": [
      "Epoch 1/15\n"
     ]
    },
    {
     "ename": "UnimplementedError",
     "evalue": "ignored",
     "output_type": "error",
     "traceback": [
      "\u001b[0;31m---------------------------------------------------------------------------\u001b[0m",
      "\u001b[0;31mUnimplementedError\u001b[0m                        Traceback (most recent call last)",
      "\u001b[0;32m<ipython-input-54-b9949d474fb8>\u001b[0m in \u001b[0;36m<module>\u001b[0;34m()\u001b[0m\n\u001b[1;32m      2\u001b[0m                     \u001b[0mepochs\u001b[0m\u001b[0;34m=\u001b[0m\u001b[0;36m15\u001b[0m\u001b[0;34m,\u001b[0m\u001b[0;34m\u001b[0m\u001b[0;34m\u001b[0m\u001b[0m\n\u001b[1;32m      3\u001b[0m                     \u001b[0mcallbacks\u001b[0m\u001b[0;34m=\u001b[0m\u001b[0;34m[\u001b[0m\u001b[0mes\u001b[0m\u001b[0;34m,\u001b[0m \u001b[0mmc\u001b[0m\u001b[0;34m]\u001b[0m\u001b[0;34m,\u001b[0m\u001b[0;34m\u001b[0m\u001b[0;34m\u001b[0m\u001b[0m\n\u001b[0;32m----> 4\u001b[0;31m                     batch_size=64)\n\u001b[0m",
      "\u001b[0;32m/usr/local/lib/python3.7/dist-packages/keras/utils/traceback_utils.py\u001b[0m in \u001b[0;36merror_handler\u001b[0;34m(*args, **kwargs)\u001b[0m\n\u001b[1;32m     65\u001b[0m     \u001b[0;32mexcept\u001b[0m \u001b[0mException\u001b[0m \u001b[0;32mas\u001b[0m \u001b[0me\u001b[0m\u001b[0;34m:\u001b[0m  \u001b[0;31m# pylint: disable=broad-except\u001b[0m\u001b[0;34m\u001b[0m\u001b[0;34m\u001b[0m\u001b[0m\n\u001b[1;32m     66\u001b[0m       \u001b[0mfiltered_tb\u001b[0m \u001b[0;34m=\u001b[0m \u001b[0m_process_traceback_frames\u001b[0m\u001b[0;34m(\u001b[0m\u001b[0me\u001b[0m\u001b[0;34m.\u001b[0m\u001b[0m__traceback__\u001b[0m\u001b[0;34m)\u001b[0m\u001b[0;34m\u001b[0m\u001b[0;34m\u001b[0m\u001b[0m\n\u001b[0;32m---> 67\u001b[0;31m       \u001b[0;32mraise\u001b[0m \u001b[0me\u001b[0m\u001b[0;34m.\u001b[0m\u001b[0mwith_traceback\u001b[0m\u001b[0;34m(\u001b[0m\u001b[0mfiltered_tb\u001b[0m\u001b[0;34m)\u001b[0m \u001b[0;32mfrom\u001b[0m \u001b[0;32mNone\u001b[0m\u001b[0;34m\u001b[0m\u001b[0;34m\u001b[0m\u001b[0m\n\u001b[0m\u001b[1;32m     68\u001b[0m     \u001b[0;32mfinally\u001b[0m\u001b[0;34m:\u001b[0m\u001b[0;34m\u001b[0m\u001b[0;34m\u001b[0m\u001b[0m\n\u001b[1;32m     69\u001b[0m       \u001b[0;32mdel\u001b[0m \u001b[0mfiltered_tb\u001b[0m\u001b[0;34m\u001b[0m\u001b[0;34m\u001b[0m\u001b[0m\n",
      "\u001b[0;32m/usr/local/lib/python3.7/dist-packages/tensorflow/python/eager/execute.py\u001b[0m in \u001b[0;36mquick_execute\u001b[0;34m(op_name, num_outputs, inputs, attrs, ctx, name)\u001b[0m\n\u001b[1;32m     53\u001b[0m     \u001b[0mctx\u001b[0m\u001b[0;34m.\u001b[0m\u001b[0mensure_initialized\u001b[0m\u001b[0;34m(\u001b[0m\u001b[0;34m)\u001b[0m\u001b[0;34m\u001b[0m\u001b[0;34m\u001b[0m\u001b[0m\n\u001b[1;32m     54\u001b[0m     tensors = pywrap_tfe.TFE_Py_Execute(ctx._handle, device_name, op_name,\n\u001b[0;32m---> 55\u001b[0;31m                                         inputs, attrs, num_outputs)\n\u001b[0m\u001b[1;32m     56\u001b[0m   \u001b[0;32mexcept\u001b[0m \u001b[0mcore\u001b[0m\u001b[0;34m.\u001b[0m\u001b[0m_NotOkStatusException\u001b[0m \u001b[0;32mas\u001b[0m \u001b[0me\u001b[0m\u001b[0;34m:\u001b[0m\u001b[0;34m\u001b[0m\u001b[0;34m\u001b[0m\u001b[0m\n\u001b[1;32m     57\u001b[0m     \u001b[0;32mif\u001b[0m \u001b[0mname\u001b[0m \u001b[0;32mis\u001b[0m \u001b[0;32mnot\u001b[0m \u001b[0;32mNone\u001b[0m\u001b[0;34m:\u001b[0m\u001b[0;34m\u001b[0m\u001b[0;34m\u001b[0m\u001b[0m\n",
      "\u001b[0;31mUnimplementedError\u001b[0m: Graph execution error:\n\nDetected at node 'Cast_1' defined at (most recent call last):\n    File \"/usr/lib/python3.7/runpy.py\", line 193, in _run_module_as_main\n      \"__main__\", mod_spec)\n    File \"/usr/lib/python3.7/runpy.py\", line 85, in _run_code\n      exec(code, run_globals)\n    File \"/usr/local/lib/python3.7/dist-packages/ipykernel_launcher.py\", line 16, in <module>\n      app.launch_new_instance()\n    File \"/usr/local/lib/python3.7/dist-packages/traitlets/config/application.py\", line 972, in launch_instance\n      app.start()\n    File \"/usr/local/lib/python3.7/dist-packages/ipykernel/kernelapp.py\", line 499, in start\n      self.io_loop.start()\n    File \"/usr/local/lib/python3.7/dist-packages/tornado/platform/asyncio.py\", line 132, in start\n      self.asyncio_loop.run_forever()\n    File \"/usr/lib/python3.7/asyncio/base_events.py\", line 541, in run_forever\n      self._run_once()\n    File \"/usr/lib/python3.7/asyncio/base_events.py\", line 1786, in _run_once\n      handle._run()\n    File \"/usr/lib/python3.7/asyncio/events.py\", line 88, in _run\n      self._context.run(self._callback, *self._args)\n    File \"/usr/local/lib/python3.7/dist-packages/tornado/platform/asyncio.py\", line 122, in _handle_events\n      handler_func(fileobj, events)\n    File \"/usr/local/lib/python3.7/dist-packages/tornado/stack_context.py\", line 300, in null_wrapper\n      return fn(*args, **kwargs)\n    File \"/usr/local/lib/python3.7/dist-packages/zmq/eventloop/zmqstream.py\", line 452, in _handle_events\n      self._handle_recv()\n    File \"/usr/local/lib/python3.7/dist-packages/zmq/eventloop/zmqstream.py\", line 481, in _handle_recv\n      self._run_callback(callback, msg)\n    File \"/usr/local/lib/python3.7/dist-packages/zmq/eventloop/zmqstream.py\", line 431, in _run_callback\n      callback(*args, **kwargs)\n    File \"/usr/local/lib/python3.7/dist-packages/tornado/stack_context.py\", line 300, in null_wrapper\n      return fn(*args, **kwargs)\n    File \"/usr/local/lib/python3.7/dist-packages/ipykernel/kernelbase.py\", line 283, in dispatcher\n      return self.dispatch_shell(stream, msg)\n    File \"/usr/local/lib/python3.7/dist-packages/ipykernel/kernelbase.py\", line 233, in dispatch_shell\n      handler(stream, idents, msg)\n    File \"/usr/local/lib/python3.7/dist-packages/ipykernel/kernelbase.py\", line 399, in execute_request\n      user_expressions, allow_stdin)\n    File \"/usr/local/lib/python3.7/dist-packages/ipykernel/ipkernel.py\", line 208, in do_execute\n      res = shell.run_cell(code, store_history=store_history, silent=silent)\n    File \"/usr/local/lib/python3.7/dist-packages/ipykernel/zmqshell.py\", line 537, in run_cell\n      return super(ZMQInteractiveShell, self).run_cell(*args, **kwargs)\n    File \"/usr/local/lib/python3.7/dist-packages/IPython/core/interactiveshell.py\", line 2718, in run_cell\n      interactivity=interactivity, compiler=compiler, result=result)\n    File \"/usr/local/lib/python3.7/dist-packages/IPython/core/interactiveshell.py\", line 2822, in run_ast_nodes\n      if self.run_code(code, result):\n    File \"/usr/local/lib/python3.7/dist-packages/IPython/core/interactiveshell.py\", line 2882, in run_code\n      exec(code_obj, self.user_global_ns, self.user_ns)\n    File \"<ipython-input-54-b9949d474fb8>\", line 4, in <module>\n      batch_size=64)\n    File \"/usr/local/lib/python3.7/dist-packages/keras/utils/traceback_utils.py\", line 64, in error_handler\n      return fn(*args, **kwargs)\n    File \"/usr/local/lib/python3.7/dist-packages/keras/engine/training.py\", line 1384, in fit\n      tmp_logs = self.train_function(iterator)\n    File \"/usr/local/lib/python3.7/dist-packages/keras/engine/training.py\", line 1021, in train_function\n      return step_function(self, iterator)\n    File \"/usr/local/lib/python3.7/dist-packages/keras/engine/training.py\", line 1010, in step_function\n      outputs = model.distribute_strategy.run(run_step, args=(data,))\n    File \"/usr/local/lib/python3.7/dist-packages/keras/engine/training.py\", line 1000, in run_step\n      outputs = model.train_step(data)\n    File \"/usr/local/lib/python3.7/dist-packages/keras/engine/training.py\", line 864, in train_step\n      return self.compute_metrics(x, y, y_pred, sample_weight)\n    File \"/usr/local/lib/python3.7/dist-packages/keras/engine/training.py\", line 957, in compute_metrics\n      self.compiled_metrics.update_state(y, y_pred, sample_weight)\n    File \"/usr/local/lib/python3.7/dist-packages/keras/engine/compile_utils.py\", line 459, in update_state\n      metric_obj.update_state(y_t, y_p, sample_weight=mask)\n    File \"/usr/local/lib/python3.7/dist-packages/keras/utils/metrics_utils.py\", line 70, in decorated\n      update_op = update_state_fn(*args, **kwargs)\n    File \"/usr/local/lib/python3.7/dist-packages/keras/metrics.py\", line 178, in update_state_fn\n      return ag_update_state(*args, **kwargs)\n    File \"/usr/local/lib/python3.7/dist-packages/keras/metrics.py\", line 720, in update_state\n      y_true = tf.cast(y_true, self._dtype)\nNode: 'Cast_1'\n2 root error(s) found.\n  (0) UNIMPLEMENTED:  Cast string to float is not supported\n\t [[{{node Cast_1}}]]\n  (1) CANCELLED:  Function was cancelled before it was started\n0 successful operations.\n0 derived errors ignored. [Op:__inference_train_function_9454]"
     ]
    }
   ],
   "source": [
    "istory = model.fit(pad_x_train, y_train, \n",
    "                    epochs=15,\n",
    "                    callbacks=[es, mc],\n",
    "                    batch_size=64\n",
    "                   )"
   ]
  },
  {
   "cell_type": "code",
   "execution_count": null,
   "id": "ciEqkURelev-",
   "metadata": {
    "id": "ciEqkURelev-"
   },
   "outputs": [],
   "source": []
  },
  {
   "cell_type": "code",
   "execution_count": null,
   "id": "oZ1EtZWTleyH",
   "metadata": {
    "id": "oZ1EtZWTleyH"
   },
   "outputs": [],
   "source": []
  },
  {
   "cell_type": "code",
   "execution_count": null,
   "id": "EpGslM69le0X",
   "metadata": {
    "id": "EpGslM69le0X"
   },
   "outputs": [],
   "source": []
  },
  {
   "cell_type": "code",
   "execution_count": null,
   "id": "FmKBkK6ele2t",
   "metadata": {
    "id": "FmKBkK6ele2t"
   },
   "outputs": [],
   "source": []
  },
  {
   "cell_type": "code",
   "execution_count": null,
   "id": "yEurTv--k-sN",
   "metadata": {
    "id": "yEurTv--k-sN"
   },
   "outputs": [],
   "source": []
  },
  {
   "cell_type": "code",
   "execution_count": null,
   "id": "7mhanKsgk-3E",
   "metadata": {
    "id": "7mhanKsgk-3E"
   },
   "outputs": [],
   "source": []
  },
  {
   "cell_type": "code",
   "execution_count": null,
   "id": "f338db07-b68e-4f4d-8844-efa025df6065",
   "metadata": {
    "id": "f338db07-b68e-4f4d-8844-efa025df6065"
   },
   "outputs": [],
   "source": [
    "# txt 파일 DF 저장\n",
    "'''\n",
    "csv_tr = []\n",
    "csv_tr2 = []\n",
    "similarity = []\n",
    "for i in glob.glob(\"./open/code/*/*.txt\"):\n",
    "    with open(os.path.join(os.getcwd(), i), 'r') as f:\n",
    "        text = f.read()\n",
    "        #무작위 행 셔플\n",
    "        csv_tr.append(text)\n",
    "        csv_tr2.append(text)\n",
    "        similarity.append(1)\n",
    "csv_tr = sklearn.utils.shuffle(csv_tr, random_state = 42)\n",
    "'''"
   ]
  },
  {
   "cell_type": "code",
   "execution_count": null,
   "id": "4a21a299-f537-4635-b062-4c2202285d1c",
   "metadata": {
    "id": "4a21a299-f537-4635-b062-4c2202285d1c"
   },
   "outputs": [],
   "source": [
    "# DF 생성\n",
    "'''\n",
    "code_csv = pd.DataFrame(zip(csv_tr, csv_tr2,similarity),\n",
    "                        columns=['code1', 'code2','similarity'])\n",
    "code_csv.to_csv(\"code_csv.csv\")\n",
    "'''"
   ]
  },
  {
   "cell_type": "code",
   "execution_count": null,
   "id": "599f0ca2-80ff-48ff-9b88-dd8c8b98274b",
   "metadata": {
    "id": "599f0ca2-80ff-48ff-9b88-dd8c8b98274b"
   },
   "outputs": [],
   "source": []
  },
  {
   "cell_type": "code",
   "execution_count": null,
   "id": "17b0fe5d-25b5-4545-beca-b144cac6e8cc",
   "metadata": {
    "id": "17b0fe5d-25b5-4545-beca-b144cac6e8cc"
   },
   "outputs": [],
   "source": [
    "tokenizer = Tokenizer() # 가장 빈도가 높은 1000개의 단어만 선택하도록 Tokenizer 객체를 만든다.\n",
    "tokenizer.fit_on_texts(code_csv['code1'],code_csv['code2']) # 단어 인덱스 구축\n",
    "sequences = tokenizer.texts_to_sequences(code_csv['code1']) # 문자열을 정수 인덱스의 리스트로 변환한다. \n",
    "\n",
    "one_hot_results = tokenizer.texts_to_matrix(code_csv['code1'], mode='binary') # 직접 원-핫 이진 벡터 표현을 얻을 수 있다.\n",
    "vocab_size = len(tokenizer.word_index) + 1 # 패딩을 고려하여 +1"
   ]
  },
  {
   "cell_type": "code",
   "execution_count": null,
   "id": "d26dc8fc-e9ff-4e38-9324-5b657e2c85b3",
   "metadata": {
    "id": "d26dc8fc-e9ff-4e38-9324-5b657e2c85b3"
   },
   "outputs": [],
   "source": [
    "print('단어 집합 :',vocab_size)"
   ]
  },
  {
   "cell_type": "code",
   "execution_count": null,
   "id": "040386a3-56c0-4eef-a679-3594e86bdeaa",
   "metadata": {
    "id": "040386a3-56c0-4eef-a679-3594e86bdeaa"
   },
   "outputs": [],
   "source": [
    "X_encoded = tokenizer.texts_to_sequences(code_csv['code1'])\n",
    "print('정수 인코딩 결과 :',sequences)"
   ]
  },
  {
   "cell_type": "code",
   "execution_count": null,
   "id": "8df765b8-f997-4449-abd7-0a6ed1ca6a21",
   "metadata": {
    "id": "8df765b8-f997-4449-abd7-0a6ed1ca6a21"
   },
   "outputs": [],
   "source": [
    "vocab_size = 34668\n",
    "output_dim = 128\n",
    "\n",
    "v = Embedding(vocab_size, output_dim)"
   ]
  },
  {
   "cell_type": "code",
   "execution_count": null,
   "id": "a72dd298-8f76-426d-8df1-bbbbc1c8a366",
   "metadata": {
    "id": "a72dd298-8f76-426d-8df1-bbbbc1c8a366"
   },
   "outputs": [],
   "source": []
  },
  {
   "cell_type": "code",
   "execution_count": null,
   "id": "a66e5d5d-91e2-4013-bf80-95c80443d4b7",
   "metadata": {
    "id": "a66e5d5d-91e2-4013-bf80-95c80443d4b7"
   },
   "outputs": [],
   "source": []
  }
 ],
 "metadata": {
  "colab": {
   "collapsed_sections": [],
   "name": "RNN_Word_Embedding.ipynb",
   "provenance": []
  },
  "kernelspec": {
   "display_name": "Python 3 (ipykernel)",
   "language": "python",
   "name": "python3"
  },
  "language_info": {
   "codemirror_mode": {
    "name": "ipython",
    "version": 3
   },
   "file_extension": ".py",
   "mimetype": "text/x-python",
   "name": "python",
   "nbconvert_exporter": "python",
   "pygments_lexer": "ipython3",
   "version": "3.9.12"
  },
  "toc": {
   "base_numbering": 1,
   "nav_menu": {},
   "number_sections": true,
   "sideBar": true,
   "skip_h1_title": false,
   "title_cell": "Table of Contents",
   "title_sidebar": "Contents",
   "toc_cell": false,
   "toc_position": {},
   "toc_section_display": true,
   "toc_window_display": false
  },
  "varInspector": {
   "cols": {
    "lenName": 16,
    "lenType": 16,
    "lenVar": 40
   },
   "kernels_config": {
    "python": {
     "delete_cmd_postfix": "",
     "delete_cmd_prefix": "del ",
     "library": "var_list.py",
     "varRefreshCmd": "print(var_dic_list())"
    },
    "r": {
     "delete_cmd_postfix": ") ",
     "delete_cmd_prefix": "rm(",
     "library": "var_list.r",
     "varRefreshCmd": "cat(var_dic_list()) "
    }
   },
   "types_to_exclude": [
    "module",
    "function",
    "builtin_function_or_method",
    "instance",
    "_Feature"
   ],
   "window_display": false
  }
 },
 "nbformat": 4,
 "nbformat_minor": 5
}
