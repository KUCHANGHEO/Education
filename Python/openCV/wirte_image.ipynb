{
 "cells": [
  {
   "cell_type": "code",
   "execution_count": 1,
   "id": "69c82da1",
   "metadata": {},
   "outputs": [
    {
     "name": "stdout",
     "output_type": "stream",
     "text": [
      "저장 완료\n"
     ]
    }
   ],
   "source": [
    "import cv2\n",
    "image = cv2.imread(\"images/read_color.jpg\", cv2.IMREAD_COLOR)\n",
    "if image is None: raise Exception(\"영상 파일 읽기 에러\")\n",
    "params_jpg = (cv2.IMWRITE_JPEG_QUALITY, 10)        # JPEG 화질 설정\n",
    "params_png = [cv2.IMWRITE_PNG_COMPRESSION, 9]       # PNG 압축 레벨 설정\n",
    "## 행렬을 영상 파일로 저장\n",
    "cv2.imwrite(\"images/write_test1.jpg\", image)       # 디폴트는 95\n",
    "cv2.imwrite(\"images/write_test2.jpg\", image, params_jpg) # 지정 화질로 저장\n",
    "cv2.imwrite(\"images/write_test3.png\", image, params_png)\n",
    "cv2.imwrite(\"iamges/write_test4.bmp\", image)         # BMP 파일로 저장\n",
    "print(\"저장 완료\")"
   ]
  },
  {
   "cell_type": "code",
   "execution_count": null,
   "id": "54264d34",
   "metadata": {},
   "outputs": [],
   "source": []
  }
 ],
 "metadata": {
  "kernelspec": {
   "display_name": "Python 3 (ipykernel)",
   "language": "python",
   "name": "python3"
  },
  "language_info": {
   "codemirror_mode": {
    "name": "ipython",
    "version": 3
   },
   "file_extension": ".py",
   "mimetype": "text/x-python",
   "name": "python",
   "nbconvert_exporter": "python",
   "pygments_lexer": "ipython3",
   "version": "3.9.12"
  },
  "toc": {
   "base_numbering": 1,
   "nav_menu": {},
   "number_sections": true,
   "sideBar": true,
   "skip_h1_title": false,
   "title_cell": "Table of Contents",
   "title_sidebar": "Contents",
   "toc_cell": false,
   "toc_position": {},
   "toc_section_display": true,
   "toc_window_display": false
  },
  "varInspector": {
   "cols": {
    "lenName": 16,
    "lenType": 16,
    "lenVar": 40
   },
   "kernels_config": {
    "python": {
     "delete_cmd_postfix": "",
     "delete_cmd_prefix": "del ",
     "library": "var_list.py",
     "varRefreshCmd": "print(var_dic_list())"
    },
    "r": {
     "delete_cmd_postfix": ") ",
     "delete_cmd_prefix": "rm(",
     "library": "var_list.r",
     "varRefreshCmd": "cat(var_dic_list()) "
    }
   },
   "types_to_exclude": [
    "module",
    "function",
    "builtin_function_or_method",
    "instance",
    "_Feature"
   ],
   "window_display": false
  }
 },
 "nbformat": 4,
 "nbformat_minor": 5
}
