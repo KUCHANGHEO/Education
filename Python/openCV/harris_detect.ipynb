{
 "cells": [
  {
   "cell_type": "code",
   "execution_count": 2,
   "id": "89c68073",
   "metadata": {},
   "outputs": [],
   "source": [
    "import numpy as np, cv2\n",
    "from Common.utils import put_string, ck_time"
   ]
  },
  {
   "cell_type": "code",
   "execution_count": 3,
   "id": "9c5fe3ad",
   "metadata": {},
   "outputs": [],
   "source": [
    "def cornerHarris(image, ksize, k):\n",
    "    dx = cv2.Sobel(image, cv2.CV_32F, 1, 0, ksize)   # 미분 행렬 - 수평 소벨 마스크\n",
    "    dy = cv2.Sobel(image, cv2.CV_32F, 0, 1, ksize)   # 미분 행렬 - 수직 소벨 마스크\n",
    "\n",
    "    a = cv2.GaussianBlur(dx * dx, (5, 5), 0)                     # 가우시안 블러링 수행\n",
    "    b = cv2.GaussianBlur(dy * dy, (5, 5), 0)\n",
    "    c = cv2.GaussianBlur(dx * dy, (5, 5), 0)\n",
    "    \n",
    "    corner = (a * b - c * c) - k * (a + b) ** 2        # 코너 응답 함수 계산 -행렬 연산 적용\n",
    "    return corner"
   ]
  },
  {
   "cell_type": "code",
   "execution_count": 4,
   "id": "e559716a",
   "metadata": {},
   "outputs": [],
   "source": [
    "def drawCorner(corner, image, thresh):\n",
    "    cnt = 0\n",
    "    corner = cv2.normalize(corner, 0, 100, cv2.NORM_MINMAX)\n",
    "    corners = []\n",
    "    for i in range(1, corner.shape[0]-1 ):\n",
    "        for j in range(1, corner.shape[1]-1 ):\n",
    "            neighbor = corner[i-1:i+2, j-1:j+2].flatten()\n",
    "            max = np.max(neighbor[1::2])\n",
    "            if thresh < corner[i, j] > max : corners.append((j,i))\n",
    "\n",
    "    for pt in corners:\n",
    "        cv2.circle(image, pt, 3, (0, 230, 0), -1)    # 좌표 표시\n",
    "    print(\"임계값: %2d , 코너 개수: %2d\" %(thresh, len(corners)) )\n",
    "    return image"
   ]
  },
  {
   "cell_type": "code",
   "execution_count": 5,
   "id": "34c71a22",
   "metadata": {},
   "outputs": [],
   "source": [
    "def onCornerHarris(thresh):\n",
    "    img1 = drawCorner(corner1, np.copy(image), thresh)\n",
    "    img2 = drawCorner(corner2, np.copy(image), thresh)\n",
    "\n",
    "    put_string(img1, \"USER\", (10, 30), \"\" )\n",
    "    put_string(img2, \"OpenCV\", (10, 30), \"\")\n",
    "    dst = cv2.repeat(img1, 1, 2)                            # 두 개 영상을 하나의 윈도우에 표시\n",
    "    dst[:, img1.shape[1]:, :] = img2\n",
    "    cv2.imshow(\"harris detect\", dst)"
   ]
  },
  {
   "cell_type": "code",
   "execution_count": 6,
   "id": "085baa5b",
   "metadata": {},
   "outputs": [],
   "source": [
    "image = cv2.imread('images/harris.jpg', cv2.IMREAD_COLOR)\n",
    "if image is None: raise Exception(\"영상 파일 읽기 에러\")"
   ]
  },
  {
   "cell_type": "code",
   "execution_count": 7,
   "id": "9f2e14fe",
   "metadata": {},
   "outputs": [],
   "source": [
    "blockSize = 4                                                # 이웃 화소 범위\n",
    "apertureSize = 3                                             # 소벨 마스크 크기\n",
    "k = 0.04\n",
    "thresh = 2                                                   # 코너 응답 임계값\n",
    "gray = cv2.cvtColor(image, cv2.COLOR_BGR2GRAY)\n",
    "corner1 = cornerHarris(gray, apertureSize, k)                # 사용자 정의 함수\n",
    "corner2 = cv2.cornerHarris(gray, blockSize, apertureSize, k) # OpenCV 제공 함수"
   ]
  },
  {
   "cell_type": "code",
   "execution_count": 8,
   "id": "21f75c79",
   "metadata": {},
   "outputs": [
    {
     "name": "stdout",
     "output_type": "stream",
     "text": [
      "임계값:  2 , 코너 개수: 98\n",
      "임계값:  2 , 코너 개수: 103\n",
      "임계값:  2 , 코너 개수: 98\n",
      "임계값:  2 , 코너 개수: 103\n",
      "임계값:  3 , 코너 개수: 35\n",
      "임계값:  3 , 코너 개수: 37\n",
      "임계값:  5 , 코너 개수:  7\n",
      "임계값:  5 , 코너 개수:  2\n",
      "임계값:  1 , 코너 개수: 361\n",
      "임계값:  1 , 코너 개수: 401\n",
      "임계값:  5 , 코너 개수:  7\n",
      "임계값:  5 , 코너 개수:  2\n",
      "임계값:  9 , 코너 개수:  0\n",
      "임계값:  9 , 코너 개수:  0\n",
      "임계값:  5 , 코너 개수:  7\n",
      "임계값:  5 , 코너 개수:  2\n",
      "임계값:  9 , 코너 개수:  0\n",
      "임계값:  9 , 코너 개수:  0\n",
      "임계값: 13 , 코너 개수:  0\n",
      "임계값: 13 , 코너 개수:  0\n",
      "임계값: 17 , 코너 개수:  0\n",
      "임계값: 17 , 코너 개수:  0\n",
      "임계값: 20 , 코너 개수:  0\n",
      "임계값: 20 , 코너 개수:  0\n",
      "임계값: 16 , 코너 개수:  0\n",
      "임계값: 16 , 코너 개수:  0\n",
      "임계값: 20 , 코너 개수:  0\n",
      "임계값: 20 , 코너 개수:  0\n",
      "임계값: 19 , 코너 개수:  0\n",
      "임계값: 19 , 코너 개수:  0\n",
      "임계값: 15 , 코너 개수:  0\n",
      "임계값: 15 , 코너 개수:  0\n",
      "임계값: 14 , 코너 개수:  0\n",
      "임계값: 14 , 코너 개수:  0\n",
      "임계값: 12 , 코너 개수:  0\n",
      "임계값: 12 , 코너 개수:  0\n",
      "임계값: 11 , 코너 개수:  0\n",
      "임계값: 11 , 코너 개수:  0\n",
      "임계값:  6 , 코너 개수:  1\n",
      "임계값:  6 , 코너 개수:  0\n",
      "임계값:  5 , 코너 개수:  7\n",
      "임계값:  5 , 코너 개수:  2\n",
      "임계값:  0 , 코너 개수: 3255\n",
      "임계값:  0 , 코너 개수: 4443\n",
      "임계값:  1 , 코너 개수: 361\n",
      "임계값:  1 , 코너 개수: 401\n",
      "임계값:  2 , 코너 개수: 98\n",
      "임계값:  2 , 코너 개수: 103\n",
      "임계값:  3 , 코너 개수: 35\n",
      "임계값:  3 , 코너 개수: 37\n",
      "임계값:  4 , 코너 개수: 13\n",
      "임계값:  4 , 코너 개수: 12\n",
      "임계값:  5 , 코너 개수:  7\n",
      "임계값:  5 , 코너 개수:  2\n",
      "임계값:  4 , 코너 개수: 13\n",
      "임계값:  4 , 코너 개수: 12\n"
     ]
    },
    {
     "data": {
      "text/plain": [
       "<function destroyAllWindows>"
      ]
     },
     "execution_count": 8,
     "metadata": {},
     "output_type": "execute_result"
    }
   ],
   "source": [
    "onCornerHarris(thresh)\n",
    "cv2.createTrackbar(\"Threshold\", \"harris detect\", thresh, 20, onCornerHarris)\n",
    "cv2.waitKey(0)\n",
    "cv2.destroyAllWindows()"
   ]
  },
  {
   "cell_type": "code",
   "execution_count": null,
   "id": "20a29ad2",
   "metadata": {},
   "outputs": [],
   "source": []
  }
 ],
 "metadata": {
  "kernelspec": {
   "display_name": "Python 3 (ipykernel)",
   "language": "python",
   "name": "python3"
  },
  "language_info": {
   "codemirror_mode": {
    "name": "ipython",
    "version": 3
   },
   "file_extension": ".py",
   "mimetype": "text/x-python",
   "name": "python",
   "nbconvert_exporter": "python",
   "pygments_lexer": "ipython3",
   "version": "3.9.12"
  },
  "toc": {
   "base_numbering": 1,
   "nav_menu": {},
   "number_sections": true,
   "sideBar": true,
   "skip_h1_title": false,
   "title_cell": "Table of Contents",
   "title_sidebar": "Contents",
   "toc_cell": false,
   "toc_position": {},
   "toc_section_display": true,
   "toc_window_display": false
  },
  "varInspector": {
   "cols": {
    "lenName": 16,
    "lenType": 16,
    "lenVar": 40
   },
   "kernels_config": {
    "python": {
     "delete_cmd_postfix": "",
     "delete_cmd_prefix": "del ",
     "library": "var_list.py",
     "varRefreshCmd": "print(var_dic_list())"
    },
    "r": {
     "delete_cmd_postfix": ") ",
     "delete_cmd_prefix": "rm(",
     "library": "var_list.r",
     "varRefreshCmd": "cat(var_dic_list()) "
    }
   },
   "types_to_exclude": [
    "module",
    "function",
    "builtin_function_or_method",
    "instance",
    "_Feature"
   ],
   "window_display": false
  }
 },
 "nbformat": 4,
 "nbformat_minor": 5
}
