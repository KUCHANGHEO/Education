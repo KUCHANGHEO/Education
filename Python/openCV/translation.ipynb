{
 "cells": [
  {
   "cell_type": "code",
   "execution_count": 1,
   "id": "3c043b9b",
   "metadata": {},
   "outputs": [],
   "source": [
    "import numpy as np, cv2"
   ]
  },
  {
   "cell_type": "code",
   "execution_count": 2,
   "id": "d4d96893",
   "metadata": {},
   "outputs": [],
   "source": [
    "def contain(p, shape):                              # 좌표(y,x)가 범위내 인지 검사\n",
    "    return 0<= p[0] < shape[0] and 0<= p[1] < shape[1]\n",
    "def translate(img, pt):\n",
    "    dst = np.zeros(img.shape, img.dtype)            # 목적 영상 생성\n",
    "    for i in range(img.shape[0]):                           # 목적 영상 순회 - 역방향 사상\n",
    "        for j in range(img.shape[1]):\n",
    "            x, y = np.subtract((j, i) , pt)\n",
    "            if contain((y, x), img.shape):\n",
    "                dst[i, j] = img[y, x]\n",
    "    return dst"
   ]
  },
  {
   "cell_type": "code",
   "execution_count": 3,
   "id": "3ed8c3a8",
   "metadata": {},
   "outputs": [],
   "source": [
    "image = cv2.imread('images/translate.jpg', cv2.IMREAD_GRAYSCALE)\n",
    "if image is None: raise Exception(\"영상 파일을 읽기 에러\")"
   ]
  },
  {
   "cell_type": "code",
   "execution_count": 4,
   "id": "a00eeab1",
   "metadata": {},
   "outputs": [],
   "source": [
    "dst1 = translate(image, (30, 80))                  # x = 30, y = 80 으로 평행이동\n",
    "dst2 = translate(image, (-70, -50))"
   ]
  },
  {
   "cell_type": "code",
   "execution_count": 5,
   "id": "84899ca2",
   "metadata": {},
   "outputs": [],
   "source": [
    "cv2.imshow(\"image\", image)\n",
    "cv2.imshow(\"dst1: trans to (80, 30)\", dst1);\n",
    "cv2.imshow(\"dst2: trans to (-50, -70)\", dst2);\n",
    "cv2.waitKey(0)\n",
    "cv2.destroyAllWindows()"
   ]
  },
  {
   "cell_type": "code",
   "execution_count": null,
   "id": "004843cc",
   "metadata": {},
   "outputs": [],
   "source": []
  }
 ],
 "metadata": {
  "kernelspec": {
   "display_name": "Python 3 (ipykernel)",
   "language": "python",
   "name": "python3"
  },
  "language_info": {
   "codemirror_mode": {
    "name": "ipython",
    "version": 3
   },
   "file_extension": ".py",
   "mimetype": "text/x-python",
   "name": "python",
   "nbconvert_exporter": "python",
   "pygments_lexer": "ipython3",
   "version": "3.9.12"
  },
  "toc": {
   "base_numbering": 1,
   "nav_menu": {},
   "number_sections": true,
   "sideBar": true,
   "skip_h1_title": false,
   "title_cell": "Table of Contents",
   "title_sidebar": "Contents",
   "toc_cell": false,
   "toc_position": {},
   "toc_section_display": true,
   "toc_window_display": false
  },
  "varInspector": {
   "cols": {
    "lenName": 16,
    "lenType": 16,
    "lenVar": 40
   },
   "kernels_config": {
    "python": {
     "delete_cmd_postfix": "",
     "delete_cmd_prefix": "del ",
     "library": "var_list.py",
     "varRefreshCmd": "print(var_dic_list())"
    },
    "r": {
     "delete_cmd_postfix": ") ",
     "delete_cmd_prefix": "rm(",
     "library": "var_list.r",
     "varRefreshCmd": "cat(var_dic_list()) "
    }
   },
   "types_to_exclude": [
    "module",
    "function",
    "builtin_function_or_method",
    "instance",
    "_Feature"
   ],
   "window_display": false
  }
 },
 "nbformat": 4,
 "nbformat_minor": 5
}
