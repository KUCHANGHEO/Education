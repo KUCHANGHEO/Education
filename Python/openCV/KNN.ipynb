{
 "cells": [
  {
   "cell_type": "code",
   "execution_count": 2,
   "id": "b7128537",
   "metadata": {},
   "outputs": [],
   "source": [
    "import numpy as np, cv2"
   ]
  },
  {
   "cell_type": "code",
   "execution_count": 3,
   "id": "6eaa6e28",
   "metadata": {},
   "outputs": [],
   "source": [
    "def draw_points(image, group, color):\n",
    "    for p in group:\n",
    "        pt = tuple(p.astype(int))\n",
    "        cv2.circle(image, pt, 3, color, cv2.FILLED)"
   ]
  },
  {
   "cell_type": "code",
   "execution_count": 4,
   "id": "883b7478",
   "metadata": {},
   "outputs": [],
   "source": [
    "nsample = 50\n",
    "traindata = np.zeros((nsample*2, 2), np.float32)  # 학습 데이터 행렬\n",
    "label = np.zeros((nsample*2, 1), np.float32)   # 레이블"
   ]
  },
  {
   "cell_type": "code",
   "execution_count": 5,
   "id": "ecb60286",
   "metadata": {},
   "outputs": [],
   "source": [
    "cv2.randn(traindata[:nsample], 150, 30)\n",
    "cv2.randn(traindata[nsample:], 250, 60)\n",
    "label[:nsample], label[nsample:] = 0 , 1"
   ]
  },
  {
   "cell_type": "code",
   "execution_count": 14,
   "id": "9ed0974f",
   "metadata": {},
   "outputs": [
    {
     "data": {
      "text/plain": [
       "True"
      ]
     },
     "execution_count": 14,
     "metadata": {},
     "output_type": "execute_result"
    }
   ],
   "source": [
    "K = 10\n",
    "knn = cv2.ml.KNearest_create()  # kNN 클래스로 객체 생성\n",
    "knn.train(traindata, cv2.ml.ROW_SAMPLE, label)  # 학습 수행"
   ]
  },
  {
   "cell_type": "code",
   "execution_count": 15,
   "id": "7929773b",
   "metadata": {},
   "outputs": [],
   "source": [
    "points = [(x, y) for y in range(400) for x in range(400)  ]\n",
    "ret, resp, neig, dist = knn.findNearest(np.array(points, np.float32), K)  # 분류 수행"
   ]
  },
  {
   "cell_type": "code",
   "execution_count": 16,
   "id": "efd5c5ac",
   "metadata": {},
   "outputs": [],
   "source": [
    "colors = [(0, 180, 0) if p==1 else  (0, 0, 180) for p in resp]\n",
    "image = np.reshape(colors, (400,400,3)).astype(\"uint8\")"
   ]
  },
  {
   "cell_type": "code",
   "execution_count": 17,
   "id": "fe92fa0a",
   "metadata": {},
   "outputs": [],
   "source": [
    "draw_points(image, traindata[:nsample], color=(0, 0, 255))\n",
    "draw_points(image, traindata[nsample:], color=(0, 255, 0))\n",
    "cv2.imshow(\"sample K=\"+ str(K), image)\n",
    "cv2.waitKey(0)\n",
    "cv2.destroyAllWindows()"
   ]
  },
  {
   "cell_type": "code",
   "execution_count": null,
   "id": "d78c3a0a",
   "metadata": {},
   "outputs": [],
   "source": []
  }
 ],
 "metadata": {
  "kernelspec": {
   "display_name": "Python 3 (ipykernel)",
   "language": "python",
   "name": "python3"
  },
  "language_info": {
   "codemirror_mode": {
    "name": "ipython",
    "version": 3
   },
   "file_extension": ".py",
   "mimetype": "text/x-python",
   "name": "python",
   "nbconvert_exporter": "python",
   "pygments_lexer": "ipython3",
   "version": "3.9.12"
  },
  "toc": {
   "base_numbering": 1,
   "nav_menu": {},
   "number_sections": true,
   "sideBar": true,
   "skip_h1_title": false,
   "title_cell": "Table of Contents",
   "title_sidebar": "Contents",
   "toc_cell": false,
   "toc_position": {},
   "toc_section_display": true,
   "toc_window_display": false
  },
  "varInspector": {
   "cols": {
    "lenName": 16,
    "lenType": 16,
    "lenVar": 40
   },
   "kernels_config": {
    "python": {
     "delete_cmd_postfix": "",
     "delete_cmd_prefix": "del ",
     "library": "var_list.py",
     "varRefreshCmd": "print(var_dic_list())"
    },
    "r": {
     "delete_cmd_postfix": ") ",
     "delete_cmd_prefix": "rm(",
     "library": "var_list.r",
     "varRefreshCmd": "cat(var_dic_list()) "
    }
   },
   "types_to_exclude": [
    "module",
    "function",
    "builtin_function_or_method",
    "instance",
    "_Feature"
   ],
   "window_display": false
  }
 },
 "nbformat": 4,
 "nbformat_minor": 5
}
