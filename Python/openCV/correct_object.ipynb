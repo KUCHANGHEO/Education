{
 "cells": [
  {
   "cell_type": "code",
   "execution_count": 1,
   "id": "4989a216",
   "metadata": {},
   "outputs": [],
   "source": [
    "import numpy as np, cv2\n",
    "from Common.hough import *                    # 허프 변환 관련 사용자 정의 함수 포함"
   ]
  },
  {
   "cell_type": "code",
   "execution_count": 2,
   "id": "b3ba76e3",
   "metadata": {},
   "outputs": [],
   "source": [
    "def detect_maxObject(img):\n",
    "    # 외곽선 검출 - Opnecv 4.0부터 반환값은 2개 원소 갖는 튜플\n",
    "    results = cv2.findContours(img, cv2.RETR_EXTERNAL, cv2.CHAIN_APPROX_SIMPLE)\n",
    "    if int(cv2.__version__[0]) >= 4:                # Opnecv 4.0은 2원소 튜플 반환\n",
    "        contours = results[0]\n",
    "    else:\n",
    "        contours = results[1]\t\t\t\t# OpenCV 3.x은 3원소 튜플 반환\n",
    "\n",
    "    areas = [cv2.contourArea(c) for c in contours]\n",
    "    idx = np.argsort(areas)\n",
    "    max_rect = contours[idx[-1]]\n",
    "\n",
    "    rect = cv2.boundingRect(max_rect)        # 외곽선을 모두 포함하는 사각형 반환\n",
    "    rect = np.add(rect, (-10, -10, 20, 20))   # 검출 객체 사각형 크기 확대\n",
    "    return rect"
   ]
  },
  {
   "cell_type": "code",
   "execution_count": 3,
   "id": "58d8a778",
   "metadata": {},
   "outputs": [],
   "source": [
    "image = cv2.imread('images/harness.jpg', cv2.IMREAD_COLOR)\n",
    "if image is None: raise Exception(\"영상 파일 읽기 에러\")\n",
    "rho, theta = 1, np.pi / 180                             # 허프변환 거리간격, 각도간격\n",
    "gray = cv2.cvtColor(image, cv2.COLOR_BGR2GRAY)          # 명암도 영상 변환\n",
    "_, th_gray = cv2.threshold(gray, 240, 255, cv2.THRESH_BINARY) # 이진 영상 변환\n",
    "kernel = np.ones((3, 3), np.uint8)\n",
    "morph = cv2.erode(th_gray, kernel, iterations=2)        # 침식 연산 - 2번 반복"
   ]
  },
  {
   "cell_type": "code",
   "execution_count": 4,
   "id": "870ba2a6",
   "metadata": {},
   "outputs": [],
   "source": [
    "x, y, w, h = detect_maxObject(np.copy(morph))               # 가장 큰 객체 검출\n",
    "roi = th_gray[y:y+h, x:x+w]"
   ]
  },
  {
   "cell_type": "code",
   "execution_count": 5,
   "id": "af8af3ff",
   "metadata": {},
   "outputs": [],
   "source": [
    "canny = cv2.Canny(roi, 40, 100)                         # 캐니 에지 검출\n",
    "lines = houghLines(canny, rho, theta, 50)               # 허프 직선 검출\n",
    "# lines = cv2.HoughLines(canny, rho, theta, 50)         # OpenCV 함수"
   ]
  },
  {
   "cell_type": "code",
   "execution_count": 6,
   "id": "c1081f73",
   "metadata": {},
   "outputs": [],
   "source": [
    "cv2.rectangle(morph, (x, y, w, h), 100, 2)                   # 큰 객체 사각형 표시\n",
    "canny_line = draw_houghLines(canny, lines, 1)           # 직선 표시"
   ]
  },
  {
   "cell_type": "code",
   "execution_count": 7,
   "id": "dc22769d",
   "metadata": {},
   "outputs": [],
   "source": [
    "angle = (np.pi - lines[0, 0, 1]) * 180 / np.pi           # 회전 각도 계산\n",
    "h, w = image.shape[:2]\n",
    "center = (w//2, h//2)                           # 입력 영상의 중심점\n",
    "rot_map = cv2.getRotationMatrix2D(center, -angle, 1)    # 반대방향 회전 행렬 계산\n",
    "dst = cv2.warpAffine(image, rot_map, (w, h), cv2.INTER_LINEAR)  # 역회전 수행"
   ]
  },
  {
   "cell_type": "code",
   "execution_count": 8,
   "id": "62f68eee",
   "metadata": {},
   "outputs": [],
   "source": [
    "cv2.imshow(\"image\", image)\n",
    "cv2.imshow(\"morph\", morph)\n",
    "cv2.imshow(\"line_detect\", canny_line)\n",
    "cv2.resizeWindow(\"line_detect\", 250, canny_line.shape[0])\n",
    "cv2.imshow(\"dst\", dst)\n",
    "cv2.waitKey(0)\n",
    "cv2.destroyAllWindows()"
   ]
  },
  {
   "cell_type": "code",
   "execution_count": null,
   "id": "ec5c6295",
   "metadata": {},
   "outputs": [],
   "source": []
  }
 ],
 "metadata": {
  "kernelspec": {
   "display_name": "Python 3 (ipykernel)",
   "language": "python",
   "name": "python3"
  },
  "language_info": {
   "codemirror_mode": {
    "name": "ipython",
    "version": 3
   },
   "file_extension": ".py",
   "mimetype": "text/x-python",
   "name": "python",
   "nbconvert_exporter": "python",
   "pygments_lexer": "ipython3",
   "version": "3.9.12"
  },
  "toc": {
   "base_numbering": 1,
   "nav_menu": {},
   "number_sections": true,
   "sideBar": true,
   "skip_h1_title": false,
   "title_cell": "Table of Contents",
   "title_sidebar": "Contents",
   "toc_cell": false,
   "toc_position": {},
   "toc_section_display": true,
   "toc_window_display": false
  },
  "varInspector": {
   "cols": {
    "lenName": 16,
    "lenType": 16,
    "lenVar": 40
   },
   "kernels_config": {
    "python": {
     "delete_cmd_postfix": "",
     "delete_cmd_prefix": "del ",
     "library": "var_list.py",
     "varRefreshCmd": "print(var_dic_list())"
    },
    "r": {
     "delete_cmd_postfix": ") ",
     "delete_cmd_prefix": "rm(",
     "library": "var_list.r",
     "varRefreshCmd": "cat(var_dic_list()) "
    }
   },
   "types_to_exclude": [
    "module",
    "function",
    "builtin_function_or_method",
    "instance",
    "_Feature"
   ],
   "window_display": false
  }
 },
 "nbformat": 4,
 "nbformat_minor": 5
}
