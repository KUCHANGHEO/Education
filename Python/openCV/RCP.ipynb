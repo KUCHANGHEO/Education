{
 "cells": [
  {
   "cell_type": "code",
   "execution_count": 1,
   "id": "be47e154",
   "metadata": {},
   "outputs": [],
   "source": [
    "# 전이학습에 대하야 알아봅시다\n",
    "# 비학습된 Pretrained Network VGG16을 이용해 보는것\n",
    "\n",
    "from tensorflow.keras.applications import VGG16"
   ]
  },
  {
   "cell_type": "code",
   "execution_count": 6,
   "id": "074a0700",
   "metadata": {},
   "outputs": [],
   "source": [
    "import numpy as np\n",
    "from tensorflow.keras.models import Sequential\n",
    "from tensorflow.keras.layers import Conv2D, MaxPooling2D\n",
    "from tensorflow.keras.layers import Flatten, Dense, Dropout\n",
    "from tensorflow.keras.optimizers import Adam\n",
    "from tensorflow.keras.preprocessing.image import ImageDataGenerator"
   ]
  },
  {
   "cell_type": "code",
   "execution_count": 3,
   "id": "4a138665",
   "metadata": {},
   "outputs": [],
   "source": [
    "# ImageDataGenerator 객체 생성\n",
    "Train_Datagen = ImageDataGenerator(rescale=1/255)\n",
    "Test_Datagen = ImageDataGenerator(rescale=1/255)"
   ]
  },
  {
   "cell_type": "code",
   "execution_count": 4,
   "id": "19b81a9b",
   "metadata": {},
   "outputs": [],
   "source": [
    "train_dir = './data/train'\n",
    "test_dir = './data/test'"
   ]
  },
  {
   "cell_type": "code",
   "execution_count": 5,
   "id": "8407e2ba",
   "metadata": {
    "scrolled": true
   },
   "outputs": [
    {
     "name": "stdout",
     "output_type": "stream",
     "text": [
      "Found 2160 images belonging to 3 classes.\n",
      "Found 372 images belonging to 3 classes.\n"
     ]
    }
   ],
   "source": [
    "# ImageDataGenerator 설정\n",
    "\n",
    "train_generator = Train_Datagen.flow_from_directory(\n",
    "    train_dir,               # 학습용 이미지를 가져올 폴더\n",
    "    classes=['paper','rock','scissors'], # cats 폴더의 이미지 label을 0으로 \n",
    "                             # dogs 폴더의 이미지는 label을 1으로\n",
    "    target_size=(150,150),   # 이미지 resize\n",
    "    batch_size=12,           # 한번에 20개의 이미지만 가져와서 학습\n",
    ")\n",
    "\n",
    "\n",
    "test_generator = Test_Datagen.flow_from_directory(\n",
    "    test_dir,               # 학습용 이미지를 가져올 폴더\n",
    "    classes=['paper','rock','scissors'], # cats 폴더의 이미지 label을 0으로 \n",
    "                             # dogs 폴더의 이미지는 label을 1으로\n",
    "    target_size=(150,150),   # 이미지 resize\n",
    "    batch_size=12,           # 한번에 10개의 이미지만 가져와서 학습\n",
    ")"
   ]
  },
  {
   "cell_type": "code",
   "execution_count": 8,
   "id": "981d3208",
   "metadata": {},
   "outputs": [],
   "source": [
    "model = Sequential()\n",
    "# Convolution\n",
    "model.add(Conv2D(\n",
    "    filters=16,\n",
    "    kernel_size=(3,3),\n",
    "    strides=(1,1),\n",
    "    activation='relu'))\n",
    "model.add(MaxPooling2D(pool_size=(2,2)))\n",
    "\n",
    "model.add(Conv2D(\n",
    "    filters=32,\n",
    "    kernel_size=(3,3),\n",
    "    strides=(1,1),\n",
    "    activation='relu'))\n",
    "model.add(MaxPooling2D(pool_size=(2,2)))\n",
    "\n",
    "model.add(Conv2D(\n",
    "    filters=64,\n",
    "    kernel_size=(3,3),\n",
    "    strides=(1,1),\n",
    "    activation='relu'))\n",
    "model.add(MaxPooling2D(pool_size=(2,2)))\n",
    "\n",
    "model.add(Conv2D(\n",
    "    filters=64,\n",
    "    kernel_size=(3,3),\n",
    "    strides=(1,1),\n",
    "    activation='relu'))\n",
    "model.add(MaxPooling2D(pool_size=(2,2)))\n",
    "\n",
    "model.add(Conv2D(\n",
    "    filters=64,\n",
    "    kernel_size=(3,3),\n",
    "    strides=(1,1),\n",
    "    activation='relu'))\n",
    "model.add(Dropout(0.2))"
   ]
  },
  {
   "cell_type": "code",
   "execution_count": 9,
   "id": "ba04d88b",
   "metadata": {},
   "outputs": [],
   "source": [
    "# FC layer(DNN) 의: input layer\n",
    "model.add(Flatten(input_shape=())) # 전체 4차원 에서 2차원으로 바꿔주는것\n",
    "# hidden Layer\n",
    "model.add(Dense(units=64, activation='relu'))\n",
    "# output layer\n",
    "model.add(Dense(units=3, activation='softmax'))"
   ]
  },
  {
   "cell_type": "code",
   "execution_count": 10,
   "id": "f27fce12",
   "metadata": {},
   "outputs": [],
   "source": [
    "# model이 어떻게 동작하는지를 지정\n",
    "model.compile(optimizer=Adam(learning_rate=0.001),\n",
    "             loss='categorical_crossentropy',\n",
    "             metrics=['accuracy'])"
   ]
  },
  {
   "cell_type": "code",
   "execution_count": 11,
   "id": "0ab009a6",
   "metadata": {
    "scrolled": true
   },
   "outputs": [
    {
     "name": "stdout",
     "output_type": "stream",
     "text": [
      "Epoch 1/10\n",
      "180/180 [==============================] - 17s 92ms/step - loss: 0.3570 - accuracy: 0.8394 - val_loss: 0.7731 - val_accuracy: 0.7473\n",
      "Epoch 2/10\n",
      "180/180 [==============================] - 13s 74ms/step - loss: 0.0285 - accuracy: 0.9926 - val_loss: 0.6682 - val_accuracy: 0.7312\n",
      "Epoch 3/10\n",
      "180/180 [==============================] - 13s 71ms/step - loss: 0.0129 - accuracy: 0.9958 - val_loss: 0.9369 - val_accuracy: 0.7984\n",
      "Epoch 4/10\n",
      "180/180 [==============================] - 13s 74ms/step - loss: 2.2339e-04 - accuracy: 1.0000 - val_loss: 0.8723 - val_accuracy: 0.7984\n",
      "Epoch 5/10\n",
      "180/180 [==============================] - 14s 75ms/step - loss: 5.7224e-05 - accuracy: 1.0000 - val_loss: 0.9536 - val_accuracy: 0.8011\n",
      "Epoch 6/10\n",
      "180/180 [==============================] - 13s 72ms/step - loss: 4.0057e-05 - accuracy: 1.0000 - val_loss: 0.9672 - val_accuracy: 0.7984\n",
      "Epoch 7/10\n",
      "180/180 [==============================] - 13s 73ms/step - loss: 2.8397e-05 - accuracy: 1.0000 - val_loss: 0.9750 - val_accuracy: 0.7984\n",
      "Epoch 8/10\n",
      "180/180 [==============================] - 13s 73ms/step - loss: 3.8428e-05 - accuracy: 1.0000 - val_loss: 1.1238 - val_accuracy: 0.7634\n",
      "Epoch 9/10\n",
      "180/180 [==============================] - 13s 74ms/step - loss: 3.0555e-05 - accuracy: 1.0000 - val_loss: 1.0036 - val_accuracy: 0.8038\n",
      "Epoch 10/10\n",
      "180/180 [==============================] - 13s 74ms/step - loss: 1.0944e-05 - accuracy: 1.0000 - val_loss: 0.9823 - val_accuracy: 0.8038\n"
     ]
    }
   ],
   "source": [
    "# 설정을 모두 마치었으면 모델 학습\n",
    "history = model.fit(train_generator,\n",
    "                    steps_per_epoch = 180,\n",
    "                    epochs = 10,\n",
    "                    verbose= 1,\n",
    "                    validation_data = test_generator, validation_steps=31)"
   ]
  },
  {
   "cell_type": "code",
   "execution_count": 12,
   "id": "2433184a",
   "metadata": {
    "scrolled": true
   },
   "outputs": [
    {
     "name": "stdout",
     "output_type": "stream",
     "text": [
      "Model: \"sequential\"\n",
      "_________________________________________________________________\n",
      " Layer (type)                Output Shape              Param #   \n",
      "=================================================================\n",
      " conv2d (Conv2D)             (None, None, None, 16)    448       \n",
      "                                                                 \n",
      " max_pooling2d (MaxPooling2D  (None, None, None, 16)   0         \n",
      " )                                                               \n",
      "                                                                 \n",
      " conv2d_1 (Conv2D)           (None, None, None, 32)    4640      \n",
      "                                                                 \n",
      " max_pooling2d_1 (MaxPooling  (None, None, None, 32)   0         \n",
      " 2D)                                                             \n",
      "                                                                 \n",
      " conv2d_2 (Conv2D)           (None, None, None, 64)    18496     \n",
      "                                                                 \n",
      " max_pooling2d_2 (MaxPooling  (None, None, None, 64)   0         \n",
      " 2D)                                                             \n",
      "                                                                 \n",
      " conv2d_3 (Conv2D)           (None, None, None, 64)    36928     \n",
      "                                                                 \n",
      " max_pooling2d_3 (MaxPooling  (None, None, None, 64)   0         \n",
      " 2D)                                                             \n",
      "                                                                 \n",
      " conv2d_4 (Conv2D)           (None, None, None, 64)    36928     \n",
      "                                                                 \n",
      " dropout (Dropout)           (None, None, None, 64)    0         \n",
      "                                                                 \n",
      " flatten (Flatten)           (None, None)              0         \n",
      "                                                                 \n",
      " dense (Dense)               (None, 64)                102464    \n",
      "                                                                 \n",
      " dense_1 (Dense)             (None, 3)                 195       \n",
      "                                                                 \n",
      "=================================================================\n",
      "Total params: 200,099\n",
      "Trainable params: 200,099\n",
      "Non-trainable params: 0\n",
      "_________________________________________________________________\n"
     ]
    }
   ],
   "source": [
    "model.summary()"
   ]
  },
  {
   "cell_type": "code",
   "execution_count": 13,
   "id": "e035100e",
   "metadata": {},
   "outputs": [
    {
     "name": "stdout",
     "output_type": "stream",
     "text": [
      "31/31 [==============================] - 1s 16ms/step - loss: 0.9823 - accuracy: 0.8038\n"
     ]
    },
    {
     "data": {
      "text/plain": [
       "[0.9822606444358826, 0.8037634491920471]"
      ]
     },
     "execution_count": 13,
     "metadata": {},
     "output_type": "execute_result"
    }
   ],
   "source": [
    "model.evaluate(test_generator)"
   ]
  },
  {
   "cell_type": "code",
   "execution_count": 14,
   "id": "4bcbfb11",
   "metadata": {},
   "outputs": [],
   "source": [
    "import matplotlib.pyplot as plt"
   ]
  },
  {
   "cell_type": "code",
   "execution_count": 15,
   "id": "0c04d7fa",
   "metadata": {},
   "outputs": [],
   "source": [
    "acc = history.history['accuracy']\n",
    "loss= history.history['loss']\n",
    "val_acc = history.history['val_accuracy']\n",
    "val_loss = history.history['val_loss']"
   ]
  },
  {
   "cell_type": "code",
   "execution_count": 16,
   "id": "f88c1a5c",
   "metadata": {},
   "outputs": [],
   "source": [
    "epochs = range(len(acc))"
   ]
  },
  {
   "cell_type": "code",
   "execution_count": 17,
   "id": "97dac9b1",
   "metadata": {},
   "outputs": [
    {
     "data": {
      "image/png": "[encoded data removed]",
      "text/plain": [
       "<Figure size 432x288 with 1 Axes>"
      ]
     },
     "metadata": {
      "needs_background": "light"
     },
     "output_type": "display_data"
    },
    {
     "data": {
      "image/png": "[encoded data removed]",
      "text/plain": [
       "<Figure size 432x288 with 1 Axes>"
      ]
     },
     "metadata": {
      "needs_background": "light"
     },
     "output_type": "display_data"
    }
   ],
   "source": [
    "plt.plot(epochs, acc, 'bo', label= 'Training accuracy')\n",
    "plt.plot(epochs, val_acc, 'b', label= 'Validation accuracy')\n",
    "plt.title('Training and validation accuracy')\n",
    "plt.legend()\n",
    "\n",
    "plt.figure()\n",
    "\n",
    "plt.plot(epochs, loss, 'bo', label= 'Training loss')\n",
    "plt.plot(epochs, val_loss, 'b', label= 'Validation loss')\n",
    "plt.title('Training and validation loss')\n",
    "plt.legend()\n",
    "\n",
    "plt.show()"
   ]
  },
  {
   "cell_type": "code",
   "execution_count": null,
   "id": "dcde59ec",
   "metadata": {},
   "outputs": [],
   "source": []
  }
 ],
 "metadata": {
  "kernelspec": {
   "display_name": "Python 3 (ipykernel)",
   "language": "python",
   "name": "python3"
  },
  "language_info": {
   "codemirror_mode": {
    "name": "ipython",
    "version": 3
   },
   "file_extension": ".py",
   "mimetype": "text/x-python",
   "name": "python",
   "nbconvert_exporter": "python",
   "pygments_lexer": "ipython3",
   "version": "3.9.12"
  },
  "toc": {
   "base_numbering": 1,
   "nav_menu": {},
   "number_sections": true,
   "sideBar": true,
   "skip_h1_title": false,
   "title_cell": "Table of Contents",
   "title_sidebar": "Contents",
   "toc_cell": false,
   "toc_position": {},
   "toc_section_display": true,
   "toc_window_display": false
  },
  "varInspector": {
   "cols": {
    "lenName": 16,
    "lenType": 16,
    "lenVar": 40
   },
   "kernels_config": {
    "python": {
     "delete_cmd_postfix": "",
     "delete_cmd_prefix": "del ",
     "library": "var_list.py",
     "varRefreshCmd": "print(var_dic_list())"
    },
    "r": {
     "delete_cmd_postfix": ") ",
     "delete_cmd_prefix": "rm(",
     "library": "var_list.r",
     "varRefreshCmd": "cat(var_dic_list()) "
    }
   },
   "types_to_exclude": [
    "module",
    "function",
    "builtin_function_or_method",
    "instance",
    "_Feature"
   ],
   "window_display": false
  }
 },
 "nbformat": 4,
 "nbformat_minor": 5
}
