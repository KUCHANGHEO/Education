{
 "cells": [
  {
   "cell_type": "code",
   "execution_count": 4,
   "id": "continuous-wedding",
   "metadata": {},
   "outputs": [],
   "source": [
    "import cv2\n",
    "import numpy as np"
   ]
  },
  {
   "cell_type": "markdown",
   "id": "otherwise-tribe",
   "metadata": {},
   "source": [
    "알고리즘을 로드합니다. 알고리즘을 실행하기 위해서 세개의 파일이 필요합니다.\n",
    "\n",
    "\n",
    "Weight file : 훈련된 model\n",
    "\n",
    "Cfg file : 구성파일. 알고리즘에 관한 모든 설정이 있다.\n",
    "\n",
    "Name files : 알고리즘이 감지할 수 있는 객체의 이름을 포함한다."
   ]
  },
  {
   "cell_type": "code",
   "execution_count": 5,
   "id": "reasonable-diesel",
   "metadata": {},
   "outputs": [
    {
     "data": {
      "text/plain": [
       "'d:\\\\WEBCAM예제'"
      ]
     },
     "execution_count": 5,
     "metadata": {},
     "output_type": "execute_result"
    }
   ],
   "source": [
    "import os\n",
    "os.getcwd()"
   ]
  },
  {
   "cell_type": "code",
   "execution_count": 6,
   "id": "needed-oriental",
   "metadata": {},
   "outputs": [],
   "source": [
    "# Yolo 로드\n",
    "net = cv2.dnn.readNet(\"./yolopython/yolov3.weights\", \"./yolopython/yolov3.cfg\")\n",
    "classes = []\n",
    "with open(\"./yolopython/coco.names\", \"r\") as f:\n",
    "    classes = [line.strip() for line in f.readlines()]\n",
    "layer_names = net.getLayerNames()\n",
    "output_layers = [layer_names[i - 1] for i in net.getUnconnectedOutLayers()]\n",
    "colors = np.random.uniform(0, 255, size=(len(classes), 3))"
   ]
  },
  {
   "cell_type": "markdown",
   "id": "committed-vulnerability",
   "metadata": {},
   "source": [
    "그 다음 물체 감지를 할 이미지를 로드하고 너비, 높이도 가져옵니다 :"
   ]
  },
  {
   "cell_type": "code",
   "execution_count": 7,
   "id": "cloudy-purpose",
   "metadata": {},
   "outputs": [],
   "source": [
    "# 이미지 가져오기\n",
    "img = cv2.imread(\"./yolopython/geese.jpg\")\n",
    "img = cv2.resize(img, None, fx=0.4, fy=0.4)\n",
    "height, width, channels = img.shape"
   ]
  },
  {
   "cell_type": "code",
   "execution_count": 8,
   "id": "precious-sessions",
   "metadata": {},
   "outputs": [
    {
     "data": {
      "text/plain": [
       "(512, 768, 3)"
      ]
     },
     "execution_count": 8,
     "metadata": {},
     "output_type": "execute_result"
    }
   ],
   "source": [
    "height, width, channels"
   ]
  },
  {
   "cell_type": "markdown",
   "id": "distant-canada",
   "metadata": {},
   "source": [
    "네트워크에서 이미지를 바로 사용할 수 없기때문에 먼저 이미지를 Blob으로 변환해야 한다.\n",
    "\n",
    "Blob은 이미지에서 특징을 잡아내고 크기를 조정하는데 사용된다.\n",
    "\n",
    "\n",
    "YOLO가 허용하는 세가지 크기\n",
    "\n",
    "\n",
    "- 320 × 320 : 작고 정확도는 떨어지지 만 속도 빠름\n",
    "- 609 × 609 : 정확도는 더 높지만 속도 느림\n",
    "- 416 × 416 : 중간"
   ]
  },
  {
   "cell_type": "code",
   "execution_count": 9,
   "id": "varied-mongolia",
   "metadata": {},
   "outputs": [],
   "source": [
    "# Detecting objects\n",
    "blob = cv2.dnn.blobFromImage(img, 0.00392, (416, 416), (0, 0, 0), True, crop=False)\n",
    "net.setInput(blob)\n",
    "outs = net.forward(output_layers)"
   ]
  },
  {
   "cell_type": "markdown",
   "id": "clinical-opening",
   "metadata": {},
   "source": [
    "outs는 감지 결과이다. 탐지된 개체에 대한 모든 정보와 위치를 제공한다."
   ]
  },
  {
   "cell_type": "markdown",
   "id": "threaded-collins",
   "metadata": {},
   "source": [
    "결과 화면에 표시 / 신뢰도, 신뢰 임계값  계산 (이 부분이 완전 이해가 안된다 ) : "
   ]
  },
  {
   "cell_type": "code",
   "execution_count": 10,
   "id": "horizontal-orange",
   "metadata": {},
   "outputs": [],
   "source": [
    "# 정보를 화면에 표시\n",
    "class_ids = []\n",
    "confidences = []\n",
    "boxes = []\n",
    "for out in outs:\n",
    "    for detection in out:\n",
    "        scores = detection[5:]\n",
    "        class_id = np.argmax(scores)\n",
    "        confidence = scores[class_id]\n",
    "        if confidence > 0.5:\n",
    "            # Object detected\n",
    "            center_x = int(detection[0] * width)\n",
    "            center_y = int(detection[1] * height)\n",
    "            w = int(detection[2] * width)\n",
    "            h = int(detection[3] * height)\n",
    "            # 좌표\n",
    "            x = int(center_x - w / 2)\n",
    "            y = int(center_y - h / 2)\n",
    "            boxes.append([x, y, w, h])\n",
    "            confidences.append(float(confidence))\n",
    "            class_ids.append(class_id)"
   ]
  },
  {
   "cell_type": "markdown",
   "id": "blond-cathedral",
   "metadata": {},
   "source": [
    "신뢰도가 0.5 이상이라면 물체가 정확히 감지되었다고 간주한다. 아니라면 넘어감..\n",
    "\n",
    "\n",
    "임계값은 0에서 1사이의 값을 가지는데\n",
    "\n",
    "1에 가까울수록 탐지 정확도가 높고 , 0에 가까울수록 정확도는 낮아지지만 탐지되는 물체의 수는 많아진다."
   ]
  },
  {
   "cell_type": "code",
   "execution_count": 11,
   "id": "fleet-google",
   "metadata": {},
   "outputs": [],
   "source": [
    "# 노이즈 제거 : \n",
    "indexes = cv2.dnn.NMSBoxes(boxes, confidences, 0.5, 0.4)"
   ]
  },
  {
   "cell_type": "markdown",
   "id": "going-forge",
   "metadata": {},
   "source": [
    "같은 물체에 대한 박스가 많은것을 제거\n",
    "\n",
    "Non maximum suppresion이라고 한답니다."
   ]
  },
  {
   "cell_type": "markdown",
   "id": "sorted-words",
   "metadata": {},
   "source": [
    "마지막으로 모든 정보를 추출하여 화면에 표시합니다.\n",
    " \n",
    "Box : 감지된 개체를 둘러싼 사각형의 좌표\n",
    "\n",
    "Label : 감지된 물체의 이름\n",
    "\n",
    "Confidence : 0에서 1까지의 탐지에 대한 신뢰도"
   ]
  },
  {
   "cell_type": "markdown",
   "id": "czech-burning",
   "metadata": {},
   "source": [
    "화면에 표시하기"
   ]
  },
  {
   "cell_type": "code",
   "execution_count": 12,
   "id": "desirable-detroit",
   "metadata": {},
   "outputs": [],
   "source": [
    "font = cv2.FONT_HERSHEY_PLAIN\n",
    "for i in range(len(boxes)):\n",
    "    if i in indexes:\n",
    "        x, y, w, h = boxes[i]\n",
    "        label = str(classes[class_ids[i]])\n",
    "        color = colors[i]\n",
    "        cv2.rectangle(img, (x, y), (x + w, y + h), color, 2)\n",
    "        cv2.putText(img, label, (x, y + 30), font, 3, color, 3)\n",
    "cv2.imshow(\"Image\", img)\n",
    "cv2.waitKey(0)\n",
    "cv2.destroyAllWindows()"
   ]
  },
  {
   "cell_type": "code",
   "execution_count": 13,
   "id": "embedded-playback",
   "metadata": {},
   "outputs": [],
   "source": [
    "import cv2\n",
    "import numpy as np\n",
    "\n",
    "eye_detect = False\n",
    "\n",
    "face_cascade = cv2.CascadeClassifier('haarcascade_frontface.xml')\n",
    "eye_cascade = cv2.CascadeClassifier('haarcascade_eye.xml')\n",
    "\n",
    "# Create a VideoCapture object\n",
    "cap = cv2.VideoCapture(0)\n",
    " \n",
    "# Check if camera opened successfully\n",
    "if (cap.isOpened() == False): \n",
    "  print(\"Unable to read camera feed\")\n",
    " \n",
    "# Default resolutions of the frame are obtained.The default resolutions are system dependent.\n",
    "# We convert the resolutions from float to integer.\n",
    "frame_width = int(cap.get(3))\n",
    "frame_height = int(cap.get(4))\n",
    " \n",
    "# Define the codec and create VideoWriter object.The output is stored in 'outpy.avi' file.\n",
    "out = cv2.VideoWriter('./yolopython/road.avi',cv2.VideoWriter_fourcc('M','J','P','G'), 10, (frame_width,frame_height))\n",
    " \n",
    "while(True):\n",
    "    ret, frame = cap.read()\n",
    " \n",
    "    if eye_detect:\n",
    "        info = 'Eye detection On'\n",
    "    else:\n",
    "        info = 'Eye detection off'\n",
    "   \n",
    "    gray = cv2.cvtColor(frame, cv2.COLOR_BGR2GRAY)\n",
    "\n",
    "    faces = face_cascade.detectMultiScale(gray, 1.3, 5)\n",
    "\n",
    "    cv2.putText(frame, info, (5, 10), font, 2, (255, 0, 0), 1)\n",
    "        \n",
    "    for (x,y,w,h) in faces:\n",
    "        cv2.rectangle(frame,(x,y), (x+w,y+h), (255,0,0), 2)\n",
    "        cv2.putText(frame, 'Detected Face', (x-5, y-5), font, 1, (255, 0, 255), 2)\n",
    "        if eye_detect:\n",
    "            roi_gray = gray[y:y+h, x:x+w]\n",
    "            roi_color = frame[y:y+h, x:x+w]\n",
    "            eyes = eye_cascade.detectMultiScale(roi_gray, 1.1, 3)\n",
    "            for (ex,ey,ew,eh) in eyes:\n",
    "                cv2.rectangle(roi_color, (ex,ey), (ex+ew,ey+eh), (0,255,0), 2)\n",
    "        \n",
    "    # Write the frame into the file 'output.avi'\n",
    "    out.write(frame)\n",
    " \n",
    "    # Display the resulting frame    \n",
    "    cv2.imshow('frame',frame)\n",
    " \n",
    "    # Press Q on keyboard to stop recording\n",
    "    k = cv2.waitKey(20)\n",
    "        \n",
    "    if k == ord('i'):\n",
    "        eye_detect = not eye_detect\n",
    "    if k == ord('q'):\n",
    "        break\n",
    " \n",
    "# When everything done, release the video capture and video write objects\n",
    "cap.release()\n",
    "out.release()\n",
    " \n",
    "# Closes all the frames\n",
    "cv2.destroyAllWindows() "
   ]
  },
  {
   "cell_type": "code",
   "execution_count": null,
   "id": "secondary-mainland",
   "metadata": {},
   "outputs": [],
   "source": []
  }
 ],
 "metadata": {
  "kernelspec": {
   "display_name": "Python 3 (ipykernel)",
   "language": "python",
   "name": "python3"
  },
  "language_info": {
   "codemirror_mode": {
    "name": "ipython",
    "version": 3
   },
   "file_extension": ".py",
   "mimetype": "text/x-python",
   "name": "python",
   "nbconvert_exporter": "python",
   "pygments_lexer": "ipython3",
   "version": "3.9.12"
  },
  "latex_envs": {
   "LaTeX_envs_menu_present": true,
   "autoclose": false,
   "autocomplete": true,
   "bibliofile": "biblio.bib",
   "cite_by": "apalike",
   "current_citInitial": 1,
   "eqLabelWithNumbers": true,
   "eqNumInitial": 1,
   "hotkeys": {
    "equation": "Ctrl-E",
    "itemize": "Ctrl-I"
   },
   "labels_anchors": false,
   "latex_user_defs": false,
   "report_style_numbering": false,
   "user_envs_cfg": false
  },
  "nbTranslate": {
   "displayLangs": [
    "*"
   ],
   "hotkey": "",
   "langInMainMenu": true,
   "sourceLang": "en",
   "targetLang": "fr",
   "useGoogleTranslate": true
  },
  "toc": {
   "base_numbering": 1,
   "nav_menu": {},
   "number_sections": true,
   "sideBar": true,
   "skip_h1_title": false,
   "title_cell": "Table of Contents",
   "title_sidebar": "Contents",
   "toc_cell": false,
   "toc_position": {},
   "toc_section_display": true,
   "toc_window_display": false
  },
  "varInspector": {
   "cols": {
    "lenName": 16,
    "lenType": 16,
    "lenVar": 40
   },
   "kernels_config": {
    "python": {
     "delete_cmd_postfix": "",
     "delete_cmd_prefix": "del ",
     "library": "var_list.py",
     "varRefreshCmd": "print(var_dic_list())"
    },
    "r": {
     "delete_cmd_postfix": ") ",
     "delete_cmd_prefix": "rm(",
     "library": "var_list.r",
     "varRefreshCmd": "cat(var_dic_list()) "
    }
   },
   "types_to_exclude": [
    "module",
    "function",
    "builtin_function_or_method",
    "instance",
    "_Feature"
   ],
   "window_display": false
  }
 },
 "nbformat": 4,
 "nbformat_minor": 5
}
