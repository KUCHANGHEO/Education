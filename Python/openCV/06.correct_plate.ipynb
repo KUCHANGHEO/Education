{
 "cells": [
  {
   "cell_type": "code",
   "execution_count": 1,
   "id": "4f0d5354",
   "metadata": {},
   "outputs": [],
   "source": [
    "from header.plate_preprocess import *        # 전처리 및 후보 영역 검출 함수\n",
    "from header.plate_candidate import *         # 후보 영역 개선 및 후보 영상 생성 함수"
   ]
  },
  {
   "cell_type": "code",
   "execution_count": 2,
   "id": "f21c1b2e",
   "metadata": {},
   "outputs": [],
   "source": [
    "car_no = 0\n",
    "image, morph = preprocessing(car_no)  # 전처리 - 이진화\n",
    "candidates = find_candidates(morph)  # 번호판 후보 영역 검색"
   ]
  },
  {
   "cell_type": "code",
   "execution_count": 3,
   "id": "d2fb973b",
   "metadata": {},
   "outputs": [],
   "source": [
    "fills = [color_candidate_img(image, size) for size, _, _ in candidates]\n",
    "new_candis = [find_candidates(fill) for fill in fills]\n",
    "new_candis = [cand[0] for cand in new_candis if cand]\n",
    "candidate_imgs = [rotate_plate(image, cand) for cand in new_candis]"
   ]
  },
  {
   "cell_type": "code",
   "execution_count": 6,
   "id": "423b9139",
   "metadata": {},
   "outputs": [],
   "source": [
    "for i, img in enumerate(candidate_imgs):\n",
    "    cv2.imshow(\"candidate_img - \" + str(i), img)\n",
    "    cv2.polylines(image, [np.int32(cv2.boxPoints(new_candis[i]))], True, (0, 255, 0), 2)\n",
    "cv2.imshow(\"image\", image)\n",
    "cv2.waitKey()  # 키 이벤트 대기\n",
    "cv2.destroyAllWindows()"
   ]
  },
  {
   "cell_type": "code",
   "execution_count": null,
   "id": "38ca0f21",
   "metadata": {},
   "outputs": [],
   "source": []
  }
 ],
 "metadata": {
  "kernelspec": {
   "display_name": "Python 3 (ipykernel)",
   "language": "python",
   "name": "python3"
  },
  "language_info": {
   "codemirror_mode": {
    "name": "ipython",
    "version": 3
   },
   "file_extension": ".py",
   "mimetype": "text/x-python",
   "name": "python",
   "nbconvert_exporter": "python",
   "pygments_lexer": "ipython3",
   "version": "3.9.12"
  },
  "toc": {
   "base_numbering": 1,
   "nav_menu": {},
   "number_sections": true,
   "sideBar": true,
   "skip_h1_title": false,
   "title_cell": "Table of Contents",
   "title_sidebar": "Contents",
   "toc_cell": false,
   "toc_position": {},
   "toc_section_display": true,
   "toc_window_display": false
  },
  "varInspector": {
   "cols": {
    "lenName": 16,
    "lenType": 16,
    "lenVar": 40
   },
   "kernels_config": {
    "python": {
     "delete_cmd_postfix": "",
     "delete_cmd_prefix": "del ",
     "library": "var_list.py",
     "varRefreshCmd": "print(var_dic_list())"
    },
    "r": {
     "delete_cmd_postfix": ") ",
     "delete_cmd_prefix": "rm(",
     "library": "var_list.r",
     "varRefreshCmd": "cat(var_dic_list()) "
    }
   },
   "types_to_exclude": [
    "module",
    "function",
    "builtin_function_or_method",
    "instance",
    "_Feature"
   ],
   "window_display": false
  }
 },
 "nbformat": 4,
 "nbformat_minor": 5
}
