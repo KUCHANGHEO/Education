{
 "cells": [
  {
   "cell_type": "code",
   "execution_count": 6,
   "id": "dafce813",
   "metadata": {},
   "outputs": [],
   "source": [
    "from haar_utils import *                            # 전처리 및 영역 검출 함수 임포트"
   ]
  },
  {
   "cell_type": "code",
   "execution_count": 9,
   "id": "360ade88",
   "metadata": {},
   "outputs": [],
   "source": [
    "face_cascade = cv2.CascadeClassifier(\"haarcascade_frontalface_alt2.xml\")  # 정면 검출기\n",
    "eye_cascade = cv2.CascadeClassifier(\"haarcascade_eye.xml\")  # 눈 검출기\n",
    "image, gray = preprocessing(34)  # 전처리\n",
    "if image is None: raise Exception(\"영상 파일을 읽기 에러\")"
   ]
  },
  {
   "cell_type": "code",
   "execution_count": 18,
   "id": "cd12f920",
   "metadata": {},
   "outputs": [],
   "source": [
    "faces = face_cascade.detectMultiScale(gray, 1.1, 2, 0, (100, 100));  # 얼굴 검출\n",
    "if faces.any() :\n",
    "    x, y, w, h = faces[0]\n",
    "    face_image = image[y:y+h, x:x+w]  # 얼굴 영역 영상 가져오기\n",
    "    eyes = eye_cascade.detectMultiScale(face_image, 1.15, 7, 0, (25, 20))  # 눈 검출\n",
    "    if len(eyes) == 2:\n",
    "        face_center = (int(x + w//2), int(y + h//2))\n",
    "        eye_centers  = [[x+ex+ew//2, y+ey+eh//2] for ex,ey,ew,eh in eyes]\n",
    "        corr_image, corr_center = correct_image(image, face_center, eye_centers )  # 기울기 보정\n",
    "        rois = detect_object(face_center, faces[0])  # 머리 및 입술영역 검출\n",
    "        cv2.rectangle(corr_image, rois[0], (255, 0, 255), 2)\n",
    "        cv2.rectangle(corr_image, rois[1], (255, 0, 255), 2)\n",
    "        cv2.rectangle(corr_image, rois[2], (255, 0, 0), 2)\n",
    "        cv2.circle(corr_image, tuple(corr_center[0]), 5, (0, 255, 0), 2)\n",
    "        cv2.circle(corr_image, tuple(corr_center[1]), 5, (0, 255, 0), 2)\n",
    "        cv2.circle(corr_image, face_center, 3, (0, 0, 255), 2)\n",
    "        cv2.imshow(\"correct_image\", corr_image)\n",
    "    else:\n",
    "        print(\"눈 미검출\")\n",
    "else:\n",
    "    cv2.imshow(\"image\", image)\n",
    "cv2.waitKey(0)\n",
    "cv2.destroyAllWindows()"
   ]
  },
  {
   "cell_type": "code",
   "execution_count": null,
   "id": "a285eec9",
   "metadata": {},
   "outputs": [],
   "source": []
  }
 ],
 "metadata": {
  "kernelspec": {
   "display_name": "Python 3 (ipykernel)",
   "language": "python",
   "name": "python3"
  },
  "language_info": {
   "codemirror_mode": {
    "name": "ipython",
    "version": 3
   },
   "file_extension": ".py",
   "mimetype": "text/x-python",
   "name": "python",
   "nbconvert_exporter": "python",
   "pygments_lexer": "ipython3",
   "version": "3.9.12"
  },
  "toc": {
   "base_numbering": 1,
   "nav_menu": {},
   "number_sections": true,
   "sideBar": true,
   "skip_h1_title": false,
   "title_cell": "Table of Contents",
   "title_sidebar": "Contents",
   "toc_cell": false,
   "toc_position": {},
   "toc_section_display": true,
   "toc_window_display": false
  },
  "varInspector": {
   "cols": {
    "lenName": 16,
    "lenType": 16,
    "lenVar": 40
   },
   "kernels_config": {
    "python": {
     "delete_cmd_postfix": "",
     "delete_cmd_prefix": "del ",
     "library": "var_list.py",
     "varRefreshCmd": "print(var_dic_list())"
    },
    "r": {
     "delete_cmd_postfix": ") ",
     "delete_cmd_prefix": "rm(",
     "library": "var_list.r",
     "varRefreshCmd": "cat(var_dic_list()) "
    }
   },
   "types_to_exclude": [
    "module",
    "function",
    "builtin_function_or_method",
    "instance",
    "_Feature"
   ],
   "window_display": false
  }
 },
 "nbformat": 4,
 "nbformat_minor": 5
}
