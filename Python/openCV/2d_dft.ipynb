{
 "cells": [
  {
   "cell_type": "code",
   "execution_count": 16,
   "id": "b0e86edc",
   "metadata": {},
   "outputs": [],
   "source": [
    "import numpy as np, cv2, time\n",
    "from Common.dft2d import dft, idft, calc_spectrum, fftshift"
   ]
  },
  {
   "cell_type": "code",
   "execution_count": 17,
   "id": "c2d996c8",
   "metadata": {},
   "outputs": [],
   "source": [
    "def dft2(image):\n",
    "    tmp = [dft(row) for row in image]\n",
    "    dst = [dft(row) for row in np.transpose(tmp)]\n",
    "    return np.transpose(dst)                   # 전치 환원 후 반환"
   ]
  },
  {
   "cell_type": "code",
   "execution_count": 18,
   "id": "00fb49f8",
   "metadata": {},
   "outputs": [],
   "source": [
    "def idft2(image):\n",
    "    tmp = [idft(row) for row in image]\n",
    "    dst = [idft(row) for row in np.transpose(tmp)]\n",
    "    return np.transpose(dst)                   # 전치 환원 후 반환"
   ]
  },
  {
   "cell_type": "code",
   "execution_count": 19,
   "id": "a436c869",
   "metadata": {},
   "outputs": [],
   "source": [
    "def ck_time(mode = 0):\n",
    "    global stime\n",
    "    if (mode ==0 ):\n",
    "       stime = time.perf_counter()\n",
    "    elif (mode==1):\n",
    "       etime = time.perf_counter()\n",
    "       print(\"수행시간 = %.5f sec\" % (etime - stime))   #초 단위 경과 시간"
   ]
  },
  {
   "cell_type": "code",
   "execution_count": 20,
   "id": "f9407be5",
   "metadata": {},
   "outputs": [],
   "source": [
    "image = cv2.imread('images/dft_64.jpg', cv2.IMREAD_GRAYSCALE)\n",
    "if image is None: raise Exception(\"영상파일 읽기 에러\")"
   ]
  },
  {
   "cell_type": "code",
   "execution_count": 21,
   "id": "24416c1b",
   "metadata": {},
   "outputs": [
    {
     "name": "stdout",
     "output_type": "stream",
     "text": [
      "수행시간 = 1.01982 sec\n"
     ]
    }
   ],
   "source": [
    "ck_time(0)\n",
    "dft = dft2(image)                     # 2차원 DFT 수행\n",
    "spectrum1 = calc_spectrum(dft)\n",
    "spectrum2 = fftshift(spectrum1)\n",
    "idft = idft2(dft).real                # 2차원 IDFT 수행\n",
    "ck_time(1)"
   ]
  },
  {
   "cell_type": "code",
   "execution_count": 22,
   "id": "819cf799",
   "metadata": {},
   "outputs": [],
   "source": [
    "cv2.imshow(\"image\", image)\n",
    "cv2.imshow(\"spectrum1\", spectrum1)\n",
    "cv2.imshow(\"spectrum2\", spectrum2)\n",
    "cv2.imshow(\"idft_img\", cv2.convertScaleAbs(idft))\n",
    "cv2.waitKey(0)\n",
    "cv2.destroyAllWindows()"
   ]
  },
  {
   "cell_type": "code",
   "execution_count": null,
   "id": "88c4e197",
   "metadata": {},
   "outputs": [],
   "source": []
  }
 ],
 "metadata": {
  "kernelspec": {
   "display_name": "Python 3 (ipykernel)",
   "language": "python",
   "name": "python3"
  },
  "language_info": {
   "codemirror_mode": {
    "name": "ipython",
    "version": 3
   },
   "file_extension": ".py",
   "mimetype": "text/x-python",
   "name": "python",
   "nbconvert_exporter": "python",
   "pygments_lexer": "ipython3",
   "version": "3.9.12"
  },
  "toc": {
   "base_numbering": 1,
   "nav_menu": {},
   "number_sections": true,
   "sideBar": true,
   "skip_h1_title": false,
   "title_cell": "Table of Contents",
   "title_sidebar": "Contents",
   "toc_cell": false,
   "toc_position": {},
   "toc_section_display": true,
   "toc_window_display": false
  },
  "varInspector": {
   "cols": {
    "lenName": 16,
    "lenType": 16,
    "lenVar": 40
   },
   "kernels_config": {
    "python": {
     "delete_cmd_postfix": "",
     "delete_cmd_prefix": "del ",
     "library": "var_list.py",
     "varRefreshCmd": "print(var_dic_list())"
    },
    "r": {
     "delete_cmd_postfix": ") ",
     "delete_cmd_prefix": "rm(",
     "library": "var_list.r",
     "varRefreshCmd": "cat(var_dic_list()) "
    }
   },
   "types_to_exclude": [
    "module",
    "function",
    "builtin_function_or_method",
    "instance",
    "_Feature"
   ],
   "window_display": false
  }
 },
 "nbformat": 4,
 "nbformat_minor": 5
}
