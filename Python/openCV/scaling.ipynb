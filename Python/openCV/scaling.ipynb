{
 "cells": [
  {
   "cell_type": "code",
   "execution_count": 2,
   "id": "1b09998e",
   "metadata": {},
   "outputs": [],
   "source": [
    "import numpy as np, cv2, time"
   ]
  },
  {
   "cell_type": "code",
   "execution_count": 3,
   "id": "b949e717",
   "metadata": {},
   "outputs": [],
   "source": [
    "def scaling(img, size):  # 크기 변경 함수\n",
    "    dst = np.zeros(size[::-1], img.dtype)  # 행렬과 크기는 원소가 역순\n",
    "    ratioY, ratioX = np.divide(size[::-1], img.shape[:2])\n",
    "    y = np.arange(0, img.shape[0], 1)\n",
    "    x = np.arange(0, img.shape[1], 1)\n",
    "    y, x = np.meshgrid(y, x)\n",
    "    i, j = np.int32(y * ratioY), np.int32(x * ratioX)\n",
    "    dst[i, j] = img[y, x]\n",
    "    return dst"
   ]
  },
  {
   "cell_type": "code",
   "execution_count": 4,
   "id": "f527f40e",
   "metadata": {},
   "outputs": [],
   "source": [
    "def scaling2(img, size):  # 크기 변경 함수\n",
    "    dst = np.zeros(size[::-1], img.dtype)  # 행렬과 크기는 원소가 역순\n",
    "    ratioY, ratioX = np.divide(size[::-1], img.shape[:2])\n",
    "    for y in range(img.shape[0]):  # 입력 영상 순회 - 순방향 사상\n",
    "        for x in range(img.shape[1]):\n",
    "            i, j = int(y * ratioY), int(x * ratioX)  # 목적 영상의 y, x 좌표\n",
    "            dst[i, j] = img[y, x]\n",
    "    return dst"
   ]
  },
  {
   "cell_type": "code",
   "execution_count": 5,
   "id": "bc1544ae",
   "metadata": {},
   "outputs": [],
   "source": [
    "def time_check(func, image, size, title):  ## 수행시간 체크 함수\n",
    "    start_time = time.perf_counter()\n",
    "    ret_img = func(image, size)\n",
    "    elapsed = (time.perf_counter() - start_time) * 1000\n",
    "    print(title, \" 수행시간 = %0.2f ms\" % elapsed)\n",
    "    return ret_img"
   ]
  },
  {
   "cell_type": "code",
   "execution_count": 6,
   "id": "c33bd5c5",
   "metadata": {},
   "outputs": [],
   "source": [
    "image = cv2.imread('images/scaling.jpg', cv2.IMREAD_GRAYSCALE)\n",
    "if image is None: raise Exception(\"영상 파일을 읽기 에러\")"
   ]
  },
  {
   "cell_type": "code",
   "execution_count": 7,
   "id": "f4d10e3a",
   "metadata": {},
   "outputs": [
    {
     "name": "stdout",
     "output_type": "stream",
     "text": [
      "[방법1] 정방행렬 방식>  수행시간 = 1.62 ms\n",
      "[방법2] 반복문 방식>  수행시간 = 36.30 ms\n"
     ]
    }
   ],
   "source": [
    "dst1 = scaling(image, (150, 200))  # 크기 변경 - 축소\n",
    "dst2 = scaling2(image, (150, 200))  # 크기 변경 - 축소\n",
    "dst3 = time_check(scaling, image, (300, 400), \"[방법1] 정방행렬 방식>\")\n",
    "dst4 = time_check(scaling2, image, (300, 400), \"[방법2] 반복문 방식>\")"
   ]
  },
  {
   "cell_type": "code",
   "execution_count": 8,
   "id": "2c535e22",
   "metadata": {},
   "outputs": [],
   "source": [
    "cv2.imshow(\"image\", image)\n",
    "cv2.imshow(\"dst1- zoom out\", dst1)\n",
    "cv2.imshow(\"dst3- zoom out\", dst3)\n",
    "cv2.resizeWindow(\"dst1- zoom out\", 260, 200)  # 윈도우 크기 확장\n",
    "cv2.waitKey(0)\n",
    "cv2.destroyAllWindows()"
   ]
  },
  {
   "cell_type": "code",
   "execution_count": null,
   "id": "7cf1fbf3",
   "metadata": {},
   "outputs": [],
   "source": []
  }
 ],
 "metadata": {
  "kernelspec": {
   "display_name": "Python 3 (ipykernel)",
   "language": "python",
   "name": "python3"
  },
  "language_info": {
   "codemirror_mode": {
    "name": "ipython",
    "version": 3
   },
   "file_extension": ".py",
   "mimetype": "text/x-python",
   "name": "python",
   "nbconvert_exporter": "python",
   "pygments_lexer": "ipython3",
   "version": "3.9.12"
  },
  "toc": {
   "base_numbering": 1,
   "nav_menu": {},
   "number_sections": true,
   "sideBar": true,
   "skip_h1_title": false,
   "title_cell": "Table of Contents",
   "title_sidebar": "Contents",
   "toc_cell": false,
   "toc_position": {},
   "toc_section_display": true,
   "toc_window_display": false
  },
  "varInspector": {
   "cols": {
    "lenName": 16,
    "lenType": 16,
    "lenVar": 40
   },
   "kernels_config": {
    "python": {
     "delete_cmd_postfix": "",
     "delete_cmd_prefix": "del ",
     "library": "var_list.py",
     "varRefreshCmd": "print(var_dic_list())"
    },
    "r": {
     "delete_cmd_postfix": ") ",
     "delete_cmd_prefix": "rm(",
     "library": "var_list.r",
     "varRefreshCmd": "cat(var_dic_list()) "
    }
   },
   "types_to_exclude": [
    "module",
    "function",
    "builtin_function_or_method",
    "instance",
    "_Feature"
   ],
   "window_display": false
  }
 },
 "nbformat": 4,
 "nbformat_minor": 5
}
