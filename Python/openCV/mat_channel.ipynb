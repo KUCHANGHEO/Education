{
 "cells": [
  {
   "cell_type": "code",
   "execution_count": 2,
   "id": "c8d308ac",
   "metadata": {},
   "outputs": [],
   "source": [
    "import numpy as np\n",
    "import cv2"
   ]
  },
  {
   "cell_type": "code",
   "execution_count": 3,
   "id": "9071e6e5",
   "metadata": {},
   "outputs": [],
   "source": [
    "# numpy array이용해 단일 채널 3개 생성\n",
    "ch0 = np.zeros((2, 4), np.uint8) + 10           # 0원소 행렬 선언 후 10 더하기\n",
    "ch1 = np.ones((2, 4), np.uint8) * 20            # 1원소 행렬 선언 후 20 곱하기\n",
    "ch2 = np.zeros((2, 4), np.uint8); ch2[:] = 30   # 0원소 행렬 선언 후 행렬원소값 30 지정"
   ]
  },
  {
   "cell_type": "code",
   "execution_count": 4,
   "id": "12568957",
   "metadata": {},
   "outputs": [],
   "source": [
    "list_bgr = [ch0, ch1, ch2]   \n",
    "merge_bgr = cv2.merge(list_bgr)                 # 채널 합성\n",
    "split_bgr = cv2.split(merge_bgr)                # 채널 분리: 컬러영상--> 3채널 분리"
   ]
  },
  {
   "cell_type": "code",
   "execution_count": 5,
   "id": "7c5ca838",
   "metadata": {},
   "outputs": [
    {
     "name": "stdout",
     "output_type": "stream",
     "text": [
      "split_bgr 행렬 형태  (3, 2, 4)\n",
      "merge_bgr 행렬 형태 (2, 4, 3)\n",
      "[ch0] = \n",
      "[[10 10 10 10]\n",
      " [10 10 10 10]]\n",
      "[ch1] = \n",
      "[[20 20 20 20]\n",
      " [20 20 20 20]]\n",
      "[ch2] = \n",
      "[[30 30 30 30]\n",
      " [30 30 30 30]]\n",
      "[merge_bgr] = \n",
      " [[[10 20 30]\n",
      "  [10 20 30]\n",
      "  [10 20 30]\n",
      "  [10 20 30]]\n",
      "\n",
      " [[10 20 30]\n",
      "  [10 20 30]\n",
      "  [10 20 30]\n",
      "  [10 20 30]]]\n",
      "\n",
      "[split_bgr[0]] =\n",
      "[[10 10 10 10]\n",
      " [10 10 10 10]] \n",
      "[split_bgr[1]] =\n",
      "[[20 20 20 20]\n",
      " [20 20 20 20]] \n",
      "[split_bgr[2]] =\n",
      "[[30 30 30 30]\n",
      " [30 30 30 30]] \n"
     ]
    }
   ],
   "source": [
    "print('split_bgr 행렬 형태 ', np.array(split_bgr).shape)\n",
    "print('merge_bgr 행렬 형태', merge_bgr.shape)\n",
    "print(\"[ch0] = \\n%s\" % ch0)                     # 단일 채널 원소 출력\n",
    "print(\"[ch1] = \\n%s\" % ch1)\n",
    "print(\"[ch2] = \\n%s\" % ch2)\n",
    "print(\"[merge_bgr] = \\n %s\\n\" % merge_bgr)       # 다중 채널 원소 출력\n",
    "print(\"[split_bgr[0]] =\\n%s \" % split_bgr[0])\n",
    "print(\"[split_bgr[1]] =\\n%s \" % split_bgr[1])\n",
    "print(\"[split_bgr[2]] =\\n%s \" % split_bgr[2])"
   ]
  },
  {
   "cell_type": "code",
   "execution_count": null,
   "id": "56c916cb",
   "metadata": {},
   "outputs": [],
   "source": []
  }
 ],
 "metadata": {
  "kernelspec": {
   "display_name": "Python 3 (ipykernel)",
   "language": "python",
   "name": "python3"
  },
  "language_info": {
   "codemirror_mode": {
    "name": "ipython",
    "version": 3
   },
   "file_extension": ".py",
   "mimetype": "text/x-python",
   "name": "python",
   "nbconvert_exporter": "python",
   "pygments_lexer": "ipython3",
   "version": "3.9.12"
  },
  "toc": {
   "base_numbering": 1,
   "nav_menu": {},
   "number_sections": true,
   "sideBar": true,
   "skip_h1_title": false,
   "title_cell": "Table of Contents",
   "title_sidebar": "Contents",
   "toc_cell": false,
   "toc_position": {},
   "toc_section_display": true,
   "toc_window_display": false
  },
  "varInspector": {
   "cols": {
    "lenName": 16,
    "lenType": 16,
    "lenVar": 40
   },
   "kernels_config": {
    "python": {
     "delete_cmd_postfix": "",
     "delete_cmd_prefix": "del ",
     "library": "var_list.py",
     "varRefreshCmd": "print(var_dic_list())"
    },
    "r": {
     "delete_cmd_postfix": ") ",
     "delete_cmd_prefix": "rm(",
     "library": "var_list.r",
     "varRefreshCmd": "cat(var_dic_list()) "
    }
   },
   "types_to_exclude": [
    "module",
    "function",
    "builtin_function_or_method",
    "instance",
    "_Feature"
   ],
   "window_display": false
  }
 },
 "nbformat": 4,
 "nbformat_minor": 5
}
