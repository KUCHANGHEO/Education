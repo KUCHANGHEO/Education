{
 "cells": [
  {
   "cell_type": "code",
   "execution_count": 1,
   "id": "0c15f131",
   "metadata": {},
   "outputs": [],
   "source": [
    "import numpy as np, cv2\n",
    "from Common.interpolation import scaling_nearest"
   ]
  },
  {
   "cell_type": "code",
   "execution_count": 2,
   "id": "760bf827",
   "metadata": {},
   "outputs": [],
   "source": [
    "def bilinear_value(img, pt):\n",
    "    x, y = np.int32(pt)\n",
    "    if x >= img.shape[1]-1: x = x -1\n",
    "    if y >= img.shape[0]-1: y = y - 1\n",
    "    P1, P3, P2, P4 = np.float32(img[y:y+2,x:x+2].flatten())\n",
    "   ## 4개의 화소 가져옴 – 화소 직접 접근\n",
    "   #  P1 = float(img[y, x] )                         # 상단 왼쪽 화소\n",
    "   #  P3 = float(img[y + 0, x + 1])                  # 상단 오른쪽 화소\n",
    "   #  P2 = float(img[y + 1, x + 0])                  # 하단 왼쪽 화소\n",
    "   #  P4 = float(img[y + 1, x + 1])                  # 하단 오른쪽 화소\n",
    "    alpha, beta = pt[1] - y,  pt[0] - x                   # 거리 비율\n",
    "    M1 = P1 + alpha * (P3 - P1)                      # 1차 보간\n",
    "    M2 = P2 + alpha * (P4 - P2)\n",
    "    P  = M1 + beta  * (M2 - M1)                     # 2차 보간\n",
    "    return  np.clip(P, 0, 255)                       # 화소값 saturation후 반환"
   ]
  },
  {
   "cell_type": "code",
   "execution_count": 3,
   "id": "9df15793",
   "metadata": {},
   "outputs": [],
   "source": [
    "def scaling_bilinear(img, size):                   \t# 양선형 보간\n",
    "    ratioY, ratioX = np.divide(size[::-1], img.shape[:2])  # 변경 크기 비율\n",
    "    dst = [[ bilinear_value(img, (j/ratioX, i/ratioY))  # for문 이용한 리스트 생성\n",
    "             for j in range(size[0])]\n",
    "           for i in range(size[1])]\n",
    "    return np.array(dst, img.dtype)"
   ]
  },
  {
   "cell_type": "code",
   "execution_count": 4,
   "id": "2127974e",
   "metadata": {},
   "outputs": [],
   "source": [
    "image = cv2.imread('images/interpolation.jpg', cv2.IMREAD_GRAYSCALE)\n",
    "if image is None: raise Exception(\"영상 파일 읽기 에러\")\n",
    "    "
   ]
  },
  {
   "cell_type": "code",
   "execution_count": 5,
   "id": "d3a114cf",
   "metadata": {},
   "outputs": [],
   "source": [
    "size = (350, 400)\n",
    "dst1 = scaling_bilinear(image, size)                # 크기 변경 - 양선형 보간\n",
    "dst2 = scaling_nearest(image, size)                 # 크기 변경 - 최근접 이웃 보간\n",
    "dst3 = cv2.resize(image, size, 0, 0, cv2.INTER_LINEAR)  # OpenCV 함수 적용\n",
    "dst4 = cv2.resize(image, size, 0, 0, cv2.INTER_NEAREST)"
   ]
  },
  {
   "cell_type": "code",
   "execution_count": 7,
   "id": "e5102fee",
   "metadata": {},
   "outputs": [],
   "source": [
    "cv2.imshow(\"image\", image)\n",
    "cv2.imshow(\"User_bilinear\", dst1)\n",
    "cv2.imshow(\"User_Nearest\", dst2)\n",
    "cv2.imshow(\"OpenCV_bilinear\", dst3)\n",
    "cv2.imshow(\"OpenCV_Nearest\", dst4)\n",
    "cv2.waitKey(0)\n",
    "cv2.destroyAllWindows()"
   ]
  },
  {
   "cell_type": "code",
   "execution_count": null,
   "id": "978d9f07",
   "metadata": {},
   "outputs": [],
   "source": []
  }
 ],
 "metadata": {
  "kernelspec": {
   "display_name": "Python 3 (ipykernel)",
   "language": "python",
   "name": "python3"
  },
  "language_info": {
   "codemirror_mode": {
    "name": "ipython",
    "version": 3
   },
   "file_extension": ".py",
   "mimetype": "text/x-python",
   "name": "python",
   "nbconvert_exporter": "python",
   "pygments_lexer": "ipython3",
   "version": "3.9.12"
  },
  "toc": {
   "base_numbering": 1,
   "nav_menu": {},
   "number_sections": true,
   "sideBar": true,
   "skip_h1_title": false,
   "title_cell": "Table of Contents",
   "title_sidebar": "Contents",
   "toc_cell": false,
   "toc_position": {},
   "toc_section_display": true,
   "toc_window_display": false
  },
  "varInspector": {
   "cols": {
    "lenName": 16,
    "lenType": 16,
    "lenVar": 40
   },
   "kernels_config": {
    "python": {
     "delete_cmd_postfix": "",
     "delete_cmd_prefix": "del ",
     "library": "var_list.py",
     "varRefreshCmd": "print(var_dic_list())"
    },
    "r": {
     "delete_cmd_postfix": ") ",
     "delete_cmd_prefix": "rm(",
     "library": "var_list.r",
     "varRefreshCmd": "cat(var_dic_list()) "
    }
   },
   "types_to_exclude": [
    "module",
    "function",
    "builtin_function_or_method",
    "instance",
    "_Feature"
   ],
   "window_display": false
  }
 },
 "nbformat": 4,
 "nbformat_minor": 5
}
