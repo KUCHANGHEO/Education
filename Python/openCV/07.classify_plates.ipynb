{
 "cells": [
  {
   "cell_type": "code",
   "execution_count": 6,
   "id": "40d35bb5",
   "metadata": {},
   "outputs": [],
   "source": [
    "from header.plate_preprocess import *        # 전처리 및 후보 영역 검출 함수\n",
    "from header.plate_candidate import *         # 후보 영역 개선 및 후보 영상 생성 함수"
   ]
  },
  {
   "cell_type": "code",
   "execution_count": 7,
   "id": "d643e534",
   "metadata": {},
   "outputs": [
    {
     "name": "stdout",
     "output_type": "stream",
     "text": [
      "자동차 영상 번호 (0~15): 3\n"
     ]
    }
   ],
   "source": [
    "car_no = int(input(\"자동차 영상 번호 (0~15): \"))\n",
    "image, morph = preprocessing(car_no)                               # 전처리\n",
    "candidates = find_candidates(morph)                        # 번호판 후보 영역 검색"
   ]
  },
  {
   "cell_type": "code",
   "execution_count": 8,
   "id": "a50480cb",
   "metadata": {},
   "outputs": [],
   "source": [
    "fills = [color_candidate_img(image, size) for size, _, _ in candidates]\n",
    "new_candis = [find_candidates(fill) for fill in fills]\n",
    "new_candis = [cand[0] for cand in new_candis if cand]\n",
    "candidate_imgs = [rotate_plate(image, cand) for cand in new_candis]"
   ]
  },
  {
   "cell_type": "code",
   "execution_count": 9,
   "id": "e4e18208",
   "metadata": {
    "scrolled": false
   },
   "outputs": [
    {
     "name": "stdout",
     "output_type": "stream",
     "text": [
      "분류 결과:\n",
      " [[0.]]\n",
      "번호판 영상 인덱스: []\n"
     ]
    }
   ],
   "source": [
    "svm = cv2.ml.SVM_load(\"SVMtrain.xml\")                  # 학습된 데이터 적재\n",
    "rows = np.reshape(candidate_imgs, (len(candidate_imgs), -1))    # 1행 데이터들로 변환\n",
    "_, results = svm.predict(rows.astype(\"float32\"))                # 분류 수행\n",
    "correct = np.where(results == 1)[0]        # 1인 값의 위치 찾기\n",
    "\n",
    "print('분류 결과:\\n', results)\n",
    "print('번호판 영상 인덱스:', correct )"
   ]
  },
  {
   "cell_type": "code",
   "execution_count": 10,
   "id": "a0508c25",
   "metadata": {},
   "outputs": [
    {
     "name": "stdout",
     "output_type": "stream",
     "text": [
      "번호판 미검출\n"
     ]
    }
   ],
   "source": [
    "for i, idx in enumerate(correct):\n",
    "    cv2.imshow(\"plate_\" +str(i), candidate_imgs[idx])\n",
    "    cv2.resizeWindow(\"plate image_\" + str(i), (250,28))\n",
    "\n",
    "for i, candi in enumerate(new_candis):\n",
    "    color = (0, 255, 0) if i in correct else (0, 0, 255)\n",
    "    cv2.polylines(image, [np.int32(cv2.boxPoints(candi))], True, color, 2)\n",
    "\n",
    "print(\"번호판 검출완료\") if len(correct)>0 else print(\"번호판 미검출\")\n",
    "\n",
    "cv2.imshow(\"image\", image)\n",
    "cv2.waitKey(0)\n",
    "cv2.destroyAllWindows()"
   ]
  },
  {
   "cell_type": "code",
   "execution_count": null,
   "id": "6cba168a",
   "metadata": {},
   "outputs": [],
   "source": []
  }
 ],
 "metadata": {
  "kernelspec": {
   "display_name": "Python 3 (ipykernel)",
   "language": "python",
   "name": "python3"
  },
  "language_info": {
   "codemirror_mode": {
    "name": "ipython",
    "version": 3
   },
   "file_extension": ".py",
   "mimetype": "text/x-python",
   "name": "python",
   "nbconvert_exporter": "python",
   "pygments_lexer": "ipython3",
   "version": "3.9.12"
  },
  "toc": {
   "base_numbering": 1,
   "nav_menu": {},
   "number_sections": true,
   "sideBar": true,
   "skip_h1_title": false,
   "title_cell": "Table of Contents",
   "title_sidebar": "Contents",
   "toc_cell": false,
   "toc_position": {},
   "toc_section_display": true,
   "toc_window_display": false
  },
  "varInspector": {
   "cols": {
    "lenName": 16,
    "lenType": 16,
    "lenVar": 40
   },
   "kernels_config": {
    "python": {
     "delete_cmd_postfix": "",
     "delete_cmd_prefix": "del ",
     "library": "var_list.py",
     "varRefreshCmd": "print(var_dic_list())"
    },
    "r": {
     "delete_cmd_postfix": ") ",
     "delete_cmd_prefix": "rm(",
     "library": "var_list.r",
     "varRefreshCmd": "cat(var_dic_list()) "
    }
   },
   "types_to_exclude": [
    "module",
    "function",
    "builtin_function_or_method",
    "instance",
    "_Feature"
   ],
   "window_display": false
  }
 },
 "nbformat": 4,
 "nbformat_minor": 5
}
