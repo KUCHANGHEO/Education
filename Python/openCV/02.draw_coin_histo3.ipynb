{
 "cells": [
  {
   "cell_type": "code",
   "execution_count": 1,
   "id": "04a3b941",
   "metadata": {},
   "outputs": [],
   "source": [
    "from header.coin_preprocess import *\n",
    "from header.coin_utils import *                            # 기타 함수\n",
    "from Common.histogram import draw_histo_hue\n",
    "import matplotlib.pyplot as plt"
   ]
  },
  {
   "cell_type": "code",
   "execution_count": 4,
   "id": "0f816caf",
   "metadata": {},
   "outputs": [],
   "source": [
    "no, max_no = 50, 100\n",
    "\n",
    "while True:\n",
    "    gray, image = preprocessing(no)                             # 전처리 수행\n",
    "    if image is None:\n",
    "        print(\"{0:02d}.jpg: 영상 파일이 없습니다.\".format(no))\n",
    "        if no < 0 : no: no = max_no\n",
    "        no = no + 1\n",
    "        if no >= max_no: no = 0\n",
    "        continue\n",
    "\n",
    "    image, th_img = preprocessing(no)                            # 전처리 수행\n",
    "    circles = find_coins(th_img)                     # 객체(회전사각형) 검출\n",
    "    coin_imgs = make_coin_img(image, circles)                # 동전 영상 생성\n",
    "    coin_hists = [calc_histo_hue(coin) for coin in coin_imgs] # 영상 히스토그램\n",
    "\n",
    "    merge = np.zeros((200, 456, 3), np.uint8)\n",
    "    n = int(np.ceil(len(coin_imgs)/4))\n",
    "    merges = cv2.repeat(merge, n, 4)\n",
    "    for i, img in enumerate(coin_imgs):\n",
    "        hist_img = draw_histo_hue(coin_hists[i], (200, 256, 3))    # 색상 히스토그램 표시\n",
    "        h, w = hist_img.shape[:2]\n",
    "        merge[:, :w] = hist_img\n",
    "        merge[:, w:] = cv2.resize(img, (h, h))\n",
    "        x, y = i%4 , i//4\n",
    "        y, x = np.multiply( (y, x), merge.shape[:2])\n",
    "        merges[y:y+h, x:x+w+200] = merge\n",
    "\n",
    "    cv2.imshow(\"hist- \"+ str(no) ,merges)\n",
    "    cv2.moveWindow(\"hist- \"+ str(no), -2000,400)\n",
    "\n",
    "    key = cv2.waitKeyEx(0)  # 키 이벤트 대기\n",
    "    cv2.destroyAllWindows()\n",
    "    if key == 2621440:\n",
    "        no = no + 1  # 아래쪽 화살표 키이면 다음 영상\n",
    "    elif key == 2490368:\n",
    "        no = no - 1  # 윗쪽 화살표 키이면 이전 영상\n",
    "    elif key == 32 or key == 27:\n",
    "        break  # 프로그램 종료 조건"
   ]
  },
  {
   "cell_type": "code",
   "execution_count": null,
   "id": "9f2d2a94",
   "metadata": {},
   "outputs": [],
   "source": []
  }
 ],
 "metadata": {
  "kernelspec": {
   "display_name": "Python 3 (ipykernel)",
   "language": "python",
   "name": "python3"
  },
  "language_info": {
   "codemirror_mode": {
    "name": "ipython",
    "version": 3
   },
   "file_extension": ".py",
   "mimetype": "text/x-python",
   "name": "python",
   "nbconvert_exporter": "python",
   "pygments_lexer": "ipython3",
   "version": "3.9.12"
  },
  "toc": {
   "base_numbering": 1,
   "nav_menu": {},
   "number_sections": true,
   "sideBar": true,
   "skip_h1_title": false,
   "title_cell": "Table of Contents",
   "title_sidebar": "Contents",
   "toc_cell": false,
   "toc_position": {},
   "toc_section_display": true,
   "toc_window_display": false
  },
  "varInspector": {
   "cols": {
    "lenName": 16,
    "lenType": 16,
    "lenVar": 40
   },
   "kernels_config": {
    "python": {
     "delete_cmd_postfix": "",
     "delete_cmd_prefix": "del ",
     "library": "var_list.py",
     "varRefreshCmd": "print(var_dic_list())"
    },
    "r": {
     "delete_cmd_postfix": ") ",
     "delete_cmd_prefix": "rm(",
     "library": "var_list.r",
     "varRefreshCmd": "cat(var_dic_list()) "
    }
   },
   "types_to_exclude": [
    "module",
    "function",
    "builtin_function_or_method",
    "instance",
    "_Feature"
   ],
   "window_display": false
  }
 },
 "nbformat": 4,
 "nbformat_minor": 5
}
