{
 "cells": [
  {
   "cell_type": "code",
   "execution_count": 1,
   "id": "d91b0c3f",
   "metadata": {},
   "outputs": [],
   "source": [
    "import numpy as np, cv2"
   ]
  },
  {
   "cell_type": "code",
   "execution_count": 2,
   "id": "e0b8d0e1",
   "metadata": {},
   "outputs": [],
   "source": [
    "def contain_pts(p, p1, p2):                 # p가 2개 좌표 범위 내 검사\n",
    "    return p1[0] <= p[0] < p2[0] and p1[1] <= p[1] < p2[1]"
   ]
  },
  {
   "cell_type": "code",
   "execution_count": 3,
   "id": "7de7e4c6",
   "metadata": {},
   "outputs": [],
   "source": [
    "def draw_rect(title, img, pts):\n",
    "    rois = [(p - small, small * 2) for p in pts]\n",
    "    for (x,y), (w,h) in np.int32(rois):\n",
    "        cv2.rectangle(img, (x,y,w,h), (0, 255, 0), 2)\n",
    "    cv2.imshow(title, img)"
   ]
  },
  {
   "cell_type": "code",
   "execution_count": 4,
   "id": "f9f64437",
   "metadata": {},
   "outputs": [],
   "source": [
    "def affine(img):\n",
    "    aff_mat = cv2.getAffineTransform(pts1, pts2)\n",
    "    dst = cv2.warpAffine(img, aff_mat, image.shape[1::-1], cv2.INTER_LINEAR)\n",
    "    draw_rect(\"image\", np.copy(image), pts1)\n",
    "    draw_rect('dst', dst, pts2)"
   ]
  },
  {
   "cell_type": "code",
   "execution_count": 5,
   "id": "b4799a23",
   "metadata": {},
   "outputs": [],
   "source": [
    "def onMouse(event, x, y, flags, param):\n",
    "    global check\n",
    "    if event == cv2.EVENT_LBUTTONDOWN:\n",
    "        for i, p in enumerate(pts1):\n",
    "            p1, p2 = p - small, p + small\n",
    "            if contain_pts((x, y), p1, p2): check = i\n",
    "    if event == cv2.EVENT_LBUTTONUP: check = -1\n",
    "    if check >= 0:\n",
    "        pts1[check] = (x, y)\n",
    "        affine(np.copy(image))"
   ]
  },
  {
   "cell_type": "code",
   "execution_count": 6,
   "id": "6cb06829",
   "metadata": {},
   "outputs": [],
   "source": [
    "image = cv2.imread('images/affine1.jpg')\n",
    "if image is None: raise Exception(\"영상파일 읽기 에러\")"
   ]
  },
  {
   "cell_type": "code",
   "execution_count": 7,
   "id": "543d1c3a",
   "metadata": {},
   "outputs": [],
   "source": [
    "small = np.array((12, 12))\n",
    "check = -1\n",
    "pts1 = np.float32([(30, 30), (450, 30), (200, 370)])\n",
    "pts2 = np.float32([(30, 30), (450, 30), (200, 370)])"
   ]
  },
  {
   "cell_type": "code",
   "execution_count": 9,
   "id": "9dd28593",
   "metadata": {},
   "outputs": [],
   "source": [
    "draw_rect('image', np.copy(image), pts1)\n",
    "draw_rect('dst', np.copy(image), pts2)\n",
    "cv2.setMouseCallback(\"image\", onMouse, 0)\n",
    "cv2.waitKey(0)\n",
    "cv2.destroyAllWindows()"
   ]
  },
  {
   "cell_type": "code",
   "execution_count": null,
   "id": "f81b77ca",
   "metadata": {},
   "outputs": [],
   "source": []
  }
 ],
 "metadata": {
  "kernelspec": {
   "display_name": "Python 3 (ipykernel)",
   "language": "python",
   "name": "python3"
  },
  "language_info": {
   "codemirror_mode": {
    "name": "ipython",
    "version": 3
   },
   "file_extension": ".py",
   "mimetype": "text/x-python",
   "name": "python",
   "nbconvert_exporter": "python",
   "pygments_lexer": "ipython3",
   "version": "3.9.12"
  },
  "toc": {
   "base_numbering": 1,
   "nav_menu": {},
   "number_sections": true,
   "sideBar": true,
   "skip_h1_title": false,
   "title_cell": "Table of Contents",
   "title_sidebar": "Contents",
   "toc_cell": false,
   "toc_position": {},
   "toc_section_display": true,
   "toc_window_display": false
  },
  "varInspector": {
   "cols": {
    "lenName": 16,
    "lenType": 16,
    "lenVar": 40
   },
   "kernels_config": {
    "python": {
     "delete_cmd_postfix": "",
     "delete_cmd_prefix": "del ",
     "library": "var_list.py",
     "varRefreshCmd": "print(var_dic_list())"
    },
    "r": {
     "delete_cmd_postfix": ") ",
     "delete_cmd_prefix": "rm(",
     "library": "var_list.r",
     "varRefreshCmd": "cat(var_dic_list()) "
    }
   },
   "types_to_exclude": [
    "module",
    "function",
    "builtin_function_or_method",
    "instance",
    "_Feature"
   ],
   "window_display": false
  }
 },
 "nbformat": 4,
 "nbformat_minor": 5
}
