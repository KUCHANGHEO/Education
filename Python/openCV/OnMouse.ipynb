{
 "cells": [
  {
   "cell_type": "code",
   "execution_count": 6,
   "id": "5a13ec27",
   "metadata": {},
   "outputs": [],
   "source": [
    "import numpy as np\n",
    "import cv2"
   ]
  },
  {
   "cell_type": "code",
   "execution_count": 7,
   "id": "097e9e87",
   "metadata": {},
   "outputs": [],
   "source": [
    "def onMouse(event, x, y, flags, param):\n",
    "    if event == cv2.EVENT_LBUTTONDOWN:\n",
    "        print(\"마우스 왼쪽 버튼 누르기\")\n",
    "    elif event == cv2.EVENT_RBUTTONDOWN:\n",
    "        print(\"마우스 오른쪽 버튼 누르기\")\n",
    "    elif event == cv2.EVENT_RBUTTONUP:\n",
    "        print(\"마우스 오른쪽 버튼 떼기\")\n",
    "    elif event == cv2.EVENT_LBUTTONDBLCLK:\n",
    "        print(\"마우스 왼쪽 버튼 더블클릭\")"
   ]
  },
  {
   "cell_type": "code",
   "execution_count": 8,
   "id": "e28c907a",
   "metadata": {},
   "outputs": [
    {
     "name": "stdout",
     "output_type": "stream",
     "text": [
      "마우스 왼쪽 버튼 누르기\n",
      "마우스 왼쪽 버튼 누르기\n",
      "마우스 왼쪽 버튼 누르기\n",
      "마우스 왼쪽 버튼 더블클릭\n",
      "마우스 왼쪽 버튼 누르기\n",
      "마우스 왼쪽 버튼 누르기\n",
      "마우스 오른쪽 버튼 누르기\n",
      "마우스 오른쪽 버튼 떼기\n",
      "마우스 왼쪽 버튼 누르기\n",
      "마우스 오른쪽 버튼 누르기\n",
      "마우스 오른쪽 버튼 떼기\n",
      "마우스 왼쪽 버튼 누르기\n",
      "마우스 왼쪽 버튼 누르기\n",
      "마우스 오른쪽 버튼 누르기\n",
      "마우스 오른쪽 버튼 떼기\n",
      "마우스 왼쪽 버튼 누르기\n",
      "마우스 오른쪽 버튼 누르기\n",
      "마우스 오른쪽 버튼 떼기\n",
      "마우스 왼쪽 버튼 누르기\n",
      "마우스 오른쪽 버튼 누르기\n",
      "마우스 오른쪽 버튼 떼기\n",
      "마우스 왼쪽 버튼 누르기\n",
      "마우스 왼쪽 버튼 더블클릭\n",
      "마우스 왼쪽 버튼 누르기\n",
      "마우스 왼쪽 버튼 누르기\n",
      "마우스 오른쪽 버튼 누르기\n",
      "마우스 오른쪽 버튼 떼기\n"
     ]
    }
   ],
   "source": [
    "image = np.full((200,300), 255, np.uint8)\n",
    "title1, title2 = \"Mouse Event1\", \"Mouse Event2\"\n",
    "cv2.imshow(title1, image)\n",
    "cv2.imshow(title2, image)\n",
    "cv2.setMouseCallback(\"Mouse Event1\", onMouse)\n",
    "cv2.waitKey(0)\n",
    "cv2.destroyAllWindows()"
   ]
  }
 ],
 "metadata": {
  "kernelspec": {
   "display_name": "Python 3 (ipykernel)",
   "language": "python",
   "name": "python3"
  },
  "language_info": {
   "codemirror_mode": {
    "name": "ipython",
    "version": 3
   },
   "file_extension": ".py",
   "mimetype": "text/x-python",
   "name": "python",
   "nbconvert_exporter": "python",
   "pygments_lexer": "ipython3",
   "version": "3.9.12"
  },
  "toc": {
   "base_numbering": 1,
   "nav_menu": {},
   "number_sections": true,
   "sideBar": true,
   "skip_h1_title": false,
   "title_cell": "Table of Contents",
   "title_sidebar": "Contents",
   "toc_cell": false,
   "toc_position": {},
   "toc_section_display": true,
   "toc_window_display": false
  },
  "varInspector": {
   "cols": {
    "lenName": 16,
    "lenType": 16,
    "lenVar": 40
   },
   "kernels_config": {
    "python": {
     "delete_cmd_postfix": "",
     "delete_cmd_prefix": "del ",
     "library": "var_list.py",
     "varRefreshCmd": "print(var_dic_list())"
    },
    "r": {
     "delete_cmd_postfix": ") ",
     "delete_cmd_prefix": "rm(",
     "library": "var_list.r",
     "varRefreshCmd": "cat(var_dic_list()) "
    }
   },
   "types_to_exclude": [
    "module",
    "function",
    "builtin_function_or_method",
    "instance",
    "_Feature"
   ],
   "window_display": false
  }
 },
 "nbformat": 4,
 "nbformat_minor": 5
}
