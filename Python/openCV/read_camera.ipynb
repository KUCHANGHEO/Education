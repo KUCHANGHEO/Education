{
 "cells": [
  {
   "cell_type": "code",
   "execution_count": null,
   "id": "8d88bc14",
   "metadata": {},
   "outputs": [],
   "source": [
    "0\n",
    "import cv2\n",
    "capture = cv2.VideoCapture(0)                       # 0번 카메라 연결\n",
    "if capture.isOpened() == False: raise Exception(\"카메라 연결 안됨\")\n",
    "fps = 29.97                                         # 초당 프레임 수\n",
    "delay = round(1000/ fps)                            # 프레임 간 지연 시간\n",
    "size  = (640, 360)                                  # 동영상 파일 해상도\n",
    "fourcc = cv2.VideoWriter_fourcc(*'DX50')            # 압축 코덱 설정\n",
    "# 카메라 속성 콘솔창에 출력\n",
    "print(\"프레임 해상도:\", size )\n",
    "print(\"압축코덱 숫자:\", fourcc)\n",
    "print(\"delay: %2d ms\" % delay)\n",
    "print(\"fps: %.2f\" % fps)\n",
    "capture.set(cv2.CAP_PROP_ZOOM, 1)                   # 카메라 속성 지정\n",
    "capture.set(cv2.CAP_PROP_FOCUS, 0)\n",
    "capture.set(cv2.CAP_PROP_FRAME_WIDTH , size[0])     \t# 해상도 설정\n",
    "capture.set(cv2.CAP_PROP_FRAME_HEIGHT, size[1])\n",
    "# 동영상 파일 개방 및 코덱, 해상도 설정\n",
    "writer = cv2.VideoWriter(\"images/video_file.avi\", fourcc, fps, size)\n",
    "if writer.isOpened() == False: raise Exception(\"동영상 파일 개방 안됨\")\n",
    "while True:\n",
    "    ret, frame = capture.read()             # 카메라 영상 받기\n",
    "    if not ret: break\n",
    "    if cv2.waitKey(delay) >= 0: break\n",
    "    writer.write(frame)                 # 프레임을 동영상으로 저장\n",
    "    cv2.imshow(\"View Frame from Camera\", frame)\n",
    "writer.release()\n",
    "capture.release()"
   ]
  }
 ],
 "metadata": {
  "kernelspec": {
   "display_name": "Python 3 (ipykernel)",
   "language": "python",
   "name": "python3"
  },
  "language_info": {
   "codemirror_mode": {
    "name": "ipython",
    "version": 3
   },
   "file_extension": ".py",
   "mimetype": "text/x-python",
   "name": "python",
   "nbconvert_exporter": "python",
   "pygments_lexer": "ipython3",
   "version": "3.9.12"
  },
  "toc": {
   "base_numbering": 1,
   "nav_menu": {},
   "number_sections": true,
   "sideBar": true,
   "skip_h1_title": false,
   "title_cell": "Table of Contents",
   "title_sidebar": "Contents",
   "toc_cell": false,
   "toc_position": {},
   "toc_section_display": true,
   "toc_window_display": false
  },
  "varInspector": {
   "cols": {
    "lenName": 16,
    "lenType": 16,
    "lenVar": 40
   },
   "kernels_config": {
    "python": {
     "delete_cmd_postfix": "",
     "delete_cmd_prefix": "del ",
     "library": "var_list.py",
     "varRefreshCmd": "print(var_dic_list())"
    },
    "r": {
     "delete_cmd_postfix": ") ",
     "delete_cmd_prefix": "rm(",
     "library": "var_list.r",
     "varRefreshCmd": "cat(var_dic_list()) "
    }
   },
   "types_to_exclude": [
    "module",
    "function",
    "builtin_function_or_method",
    "instance",
    "_Feature"
   ],
   "window_display": false
  }
 },
 "nbformat": 4,
 "nbformat_minor": 5
}
