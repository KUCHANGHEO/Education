{
 "cells": [
  {
   "cell_type": "code",
   "execution_count": 1,
   "id": "cac768fb",
   "metadata": {},
   "outputs": [],
   "source": [
    "import numpy as np, cv2"
   ]
  },
  {
   "cell_type": "code",
   "execution_count": 2,
   "id": "15c07936",
   "metadata": {},
   "outputs": [],
   "source": [
    "def morphing():\n",
    "    h, w = image.shape[:2]\n",
    "    dst = np.zeros((h, w), image.dtype)\n",
    "    ys = np.arange(0, image.shape[0], 1)\n",
    "    xs = np.arange(0, image.shape[1], 0.1)\n",
    "\n",
    "    x1, x10 = pt1[0] , pt1[0]*10\n",
    "    ratios = xs / x1\n",
    "    ratios[x10:] = (w - xs[x10:]) / (w-x1)\n",
    "\n",
    "    dxs = xs + ratios * (pt2[0] - pt1[0])\n",
    "    xs, dxs = xs.astype(int), dxs.astype(int)\n",
    "\n",
    "    ym, xm = np.meshgrid(ys, xs)\n",
    "    _, dxm = np.meshgrid(ys, dxs)\n",
    "    dst[ym, dxm] = image[ym, xm]\n",
    "    cv2.imshow(\"image\", dst)"
   ]
  },
  {
   "cell_type": "code",
   "execution_count": 3,
   "id": "784e9c0e",
   "metadata": {},
   "outputs": [],
   "source": [
    "def onMouse(event, x, y, flags, param):\n",
    "    global pt1, pt2\n",
    "    if event == cv2.EVENT_LBUTTONDOWN:\n",
    "        pt1 = (x, y)                               # 드래그 시작 좌표\n",
    "    elif event == cv2.EVENT_LBUTTONUP:\n",
    "        pt2 = (x, y)                               # 드래그 종료 좌표\n",
    "        morphing()                                 # 드래그 종료 시 워핑 변환 수행\n",
    "    elif event == cv2.EVENT_RBUTTONDBLCLK:\n",
    "        pt1 = pt2 = (-1, -1)\n",
    "        cv2.imshow(\"image\", image)                 # 오른쪽 버튼 더블 클릭 시 원복"
   ]
  },
  {
   "cell_type": "code",
   "execution_count": 4,
   "id": "0ba6da7b",
   "metadata": {},
   "outputs": [],
   "source": [
    "image = cv2.imread('images/warp.jpg', cv2.IMREAD_GRAYSCALE)\n",
    "if image is None: raise Exception(\"영상 파일 읽기 에러\")"
   ]
  },
  {
   "cell_type": "code",
   "execution_count": 5,
   "id": "8146473e",
   "metadata": {},
   "outputs": [],
   "source": [
    "pt1 = pt2 = (-1, -1)\n",
    "cv2.imshow(\"image\", image)\n",
    "cv2.setMouseCallback(\"image\", onMouse, 0)          # 마우스 콜백 함수 등록\n",
    "cv2.waitKey(0)\n",
    "cv2.destroyAllWindows()"
   ]
  },
  {
   "cell_type": "code",
   "execution_count": null,
   "id": "c3440103",
   "metadata": {},
   "outputs": [],
   "source": []
  }
 ],
 "metadata": {
  "kernelspec": {
   "display_name": "Python 3 (ipykernel)",
   "language": "python",
   "name": "python3"
  },
  "language_info": {
   "codemirror_mode": {
    "name": "ipython",
    "version": 3
   },
   "file_extension": ".py",
   "mimetype": "text/x-python",
   "name": "python",
   "nbconvert_exporter": "python",
   "pygments_lexer": "ipython3",
   "version": "3.9.12"
  },
  "toc": {
   "base_numbering": 1,
   "nav_menu": {},
   "number_sections": true,
   "sideBar": true,
   "skip_h1_title": false,
   "title_cell": "Table of Contents",
   "title_sidebar": "Contents",
   "toc_cell": false,
   "toc_position": {},
   "toc_section_display": true,
   "toc_window_display": false
  },
  "varInspector": {
   "cols": {
    "lenName": 16,
    "lenType": 16,
    "lenVar": 40
   },
   "kernels_config": {
    "python": {
     "delete_cmd_postfix": "",
     "delete_cmd_prefix": "del ",
     "library": "var_list.py",
     "varRefreshCmd": "print(var_dic_list())"
    },
    "r": {
     "delete_cmd_postfix": ") ",
     "delete_cmd_prefix": "rm(",
     "library": "var_list.r",
     "varRefreshCmd": "cat(var_dic_list()) "
    }
   },
   "types_to_exclude": [
    "module",
    "function",
    "builtin_function_or_method",
    "instance",
    "_Feature"
   ],
   "window_display": false
  }
 },
 "nbformat": 4,
 "nbformat_minor": 5
}
