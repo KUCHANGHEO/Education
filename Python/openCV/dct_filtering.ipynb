{
 "cells": [
  {
   "cell_type": "code",
   "execution_count": 1,
   "id": "e2c83768",
   "metadata": {},
   "outputs": [],
   "source": [
    "import numpy as np, cv2\n",
    "from Common.dct2d import *"
   ]
  },
  {
   "cell_type": "code",
   "execution_count": 2,
   "id": "b97e5ab7",
   "metadata": {},
   "outputs": [],
   "source": [
    "def dct2_mode(block, mode):\n",
    "    if mode==1: return dct2(block)\n",
    "    elif mode==2: return  scipy_dct2(block)\n",
    "    elif mode==3: return  cv2.dct(block.astype('float32'))"
   ]
  },
  {
   "cell_type": "code",
   "execution_count": 3,
   "id": "840b257f",
   "metadata": {},
   "outputs": [],
   "source": [
    "def idct2_mode(block, mode):\n",
    "    if mode==1: return idct2(block)\n",
    "    elif mode==2: return scipy_idct2(block)\n",
    "    elif mode==3: return cv2.dct(block, flags=cv2.DCT_INVERSE)"
   ]
  },
  {
   "cell_type": "code",
   "execution_count": 4,
   "id": "2c862430",
   "metadata": {},
   "outputs": [],
   "source": [
    "def dct_filtering(img, filter, M, N):\n",
    "    dst = np.empty(img.shape, np.float32)\n",
    "    for i in range(0, img.shape[0], M):                    # ?? ?? ??\n",
    "        for j in range(0, img.shape[1], N):\n",
    "            block = img[i:i+M, j:j+N]                      # ?? ??\n",
    "            dct_block = dct2_mode(block, mode)             # DCT ??\n",
    "            dct_block = dct_block * filter                 # ??? ?? ???\n",
    "            dst[i:i+M, j:j+N] = idct2_mode(dct_block, mode)    # ? DCT\n",
    "    return cv2.convertScaleAbs(dst)"
   ]
  },
  {
   "cell_type": "code",
   "execution_count": 5,
   "id": "c0317d74",
   "metadata": {},
   "outputs": [],
   "source": [
    "image = cv2.imread('images/dct.jpg', cv2.IMREAD_GRAYSCALE)\n",
    "if image is None: raise Exception(\"영상 파일을 읽기 에러\")\n",
    "mode = 2\n",
    "M, N = 8, 8\n",
    "filters = [np.zeros((M, N), np.float32) for i in range(5)]\n",
    "titles = ['DC Pass', 'High Pass', 'Low Pass', 'Vertical Pass', 'Horizental Pass' ]"
   ]
  },
  {
   "cell_type": "code",
   "execution_count": 6,
   "id": "4ec689f3",
   "metadata": {},
   "outputs": [],
   "source": [
    "filters[0][0, 0] = 1                     \t# DC 계수만 1 지정 – DC Pass\n",
    "filters[1][:], filters[1][0, 0] = 1, 0\t\t# 모든 계수 1, DC 계수만 0 지정 – High Pass\n",
    "filters[2][:M//2, :N//2] = 1\t\t\t\t# 저주파 영역 모두 1 지정 – Low Pass\n",
    "filters[3][0, 1:] = 1                     \t# 첫 행열 1 지정 – Vertical\n",
    "filters[4][1:, 0] = 1\t\t\t\t\t\t# 첫 열만 1 지정 – Horizental"
   ]
  },
  {
   "cell_type": "code",
   "execution_count": 7,
   "id": "4c5e28f5",
   "metadata": {},
   "outputs": [],
   "source": [
    "for filter, title in zip(filters, titles):\n",
    "    dst = dct_filtering(image, filter, M, N)          # ?? ??? DCT ??\n",
    "    cv2.imshow(title, dst)"
   ]
  },
  {
   "cell_type": "code",
   "execution_count": 8,
   "id": "ffe85d9d",
   "metadata": {},
   "outputs": [],
   "source": [
    "cv2.imshow(\"image\", image)\n",
    "cv2.waitKey(0)\n",
    "cv2.destroyAllWindows()"
   ]
  },
  {
   "cell_type": "code",
   "execution_count": null,
   "id": "5a7e1ece",
   "metadata": {},
   "outputs": [],
   "source": []
  }
 ],
 "metadata": {
  "kernelspec": {
   "display_name": "Python 3 (ipykernel)",
   "language": "python",
   "name": "python3"
  },
  "language_info": {
   "codemirror_mode": {
    "name": "ipython",
    "version": 3
   },
   "file_extension": ".py",
   "mimetype": "text/x-python",
   "name": "python",
   "nbconvert_exporter": "python",
   "pygments_lexer": "ipython3",
   "version": "3.9.12"
  },
  "toc": {
   "base_numbering": 1,
   "nav_menu": {},
   "number_sections": true,
   "sideBar": true,
   "skip_h1_title": false,
   "title_cell": "Table of Contents",
   "title_sidebar": "Contents",
   "toc_cell": false,
   "toc_position": {},
   "toc_section_display": true,
   "toc_window_display": false
  },
  "varInspector": {
   "cols": {
    "lenName": 16,
    "lenType": 16,
    "lenVar": 40
   },
   "kernels_config": {
    "python": {
     "delete_cmd_postfix": "",
     "delete_cmd_prefix": "del ",
     "library": "var_list.py",
     "varRefreshCmd": "print(var_dic_list())"
    },
    "r": {
     "delete_cmd_postfix": ") ",
     "delete_cmd_prefix": "rm(",
     "library": "var_list.r",
     "varRefreshCmd": "cat(var_dic_list()) "
    }
   },
   "types_to_exclude": [
    "module",
    "function",
    "builtin_function_or_method",
    "instance",
    "_Feature"
   ],
   "window_display": false
  }
 },
 "nbformat": 4,
 "nbformat_minor": 5
}
