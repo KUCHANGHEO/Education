{
 "cells": [
  {
   "cell_type": "code",
   "execution_count": 1,
   "id": "7849712c",
   "metadata": {},
   "outputs": [],
   "source": [
    "import numpy as np, cv2\n",
    "from Common.interpolation import rotate_pt"
   ]
  },
  {
   "cell_type": "code",
   "execution_count": 2,
   "id": "a2a4ddc6",
   "metadata": {},
   "outputs": [],
   "source": [
    "def calc_angle(pts):\n",
    "    d1 = np.subtract(pts[1], pts[0]).astype(float)        # 두 좌표간 차분 계산\n",
    "    d2 = np.subtract(pts[2], pts[0]).astype(float)\n",
    "    angle1 = cv2.fastAtan2(d1[1], d1[0])  # 차분으로 각도 계산\n",
    "    angle2 = cv2.fastAtan2(d2[1], d2[0])\n",
    "    return (angle2 - angle1)  # 두 각도 간의 차분"
   ]
  },
  {
   "cell_type": "code",
   "execution_count": 3,
   "id": "e450672b",
   "metadata": {},
   "outputs": [],
   "source": [
    "def draw_point(x, y):\n",
    "    pts.append([x,y])\n",
    "    print(\"좌표:\", len(pts), [x,y])\n",
    "    cv2.circle(tmp, (x, y), 2, 255, 2)  # 중심 좌표 표시\n",
    "    cv2.imshow(\"image\", tmp)"
   ]
  },
  {
   "cell_type": "code",
   "execution_count": 4,
   "id": "117d075e",
   "metadata": {},
   "outputs": [],
   "source": [
    "def onMouse(event, x, y, flags, param):\n",
    "    global tmp, pts\n",
    "    if (event == cv2.EVENT_LBUTTONUP and len(pts) == 0):  draw_point(x, y)\n",
    "    if (event == cv2.EVENT_LBUTTONDOWN and len(pts) == 1): draw_point(x, y)\n",
    "    if (event == cv2.EVENT_LBUTTONUP and len(pts) == 2):   draw_point(x, y)\n",
    "\n",
    "    if len(pts) == 3:\n",
    "        angle = calc_angle(pts)  # 회전각 계산\n",
    "        print(\"회전각 : %3.2f\" % angle)\n",
    "        dst = rotate_pt(image, angle, pts[0])  # 사용자 정의 함수 회전 수행\n",
    "        cv2.imshow(\"image\", dst)  # 연습문제 - OpenCV 이용해 작성하기, 컬러 영상으로 수행되게 작성하기\n",
    "        tmp = np.copy(image)  # 임시 행렬 초기화\n",
    "        pts = []"
   ]
  },
  {
   "cell_type": "code",
   "execution_count": 5,
   "id": "385b18a4",
   "metadata": {},
   "outputs": [],
   "source": [
    "image = cv2.imread('images/rotate.jpg', cv2.IMREAD_GRAYSCALE)\n",
    "if image is None: raise Exception(\"영상 파일을 읽기 에러\")\n",
    "tmp = np.copy(image)\n",
    "pts = []"
   ]
  },
  {
   "cell_type": "code",
   "execution_count": 6,
   "id": "9eba6cf9",
   "metadata": {},
   "outputs": [
    {
     "name": "stdout",
     "output_type": "stream",
     "text": [
      "좌표: 1 [174, 102]\n",
      "좌표: 2 [173, 221]\n",
      "좌표: 3 [174, 222]\n",
      "회전각 : -0.48\n",
      "좌표: 1 [39, 236]\n",
      "좌표: 2 [246, 131]\n",
      "좌표: 3 [247, 280]\n",
      "회전각 : -321.16\n",
      "좌표: 1 [156, 120]\n",
      "좌표: 2 [67, 240]\n",
      "좌표: 3 [372, 257]\n",
      "회전각 : -94.18\n",
      "좌표: 1 [181, 176]\n",
      "좌표: 2 [178, 43]\n",
      "좌표: 3 [156, 317]\n",
      "회전각 : -168.65\n",
      "좌표: 1 [177, 179]\n",
      "좌표: 2 [176, 18]\n",
      "좌표: 3 [317, 176]\n",
      "회전각 : 89.13\n"
     ]
    }
   ],
   "source": [
    "cv2.imshow(\"image\", image)\n",
    "cv2.setMouseCallback(\"image\", onMouse, 0)\n",
    "cv2.waitKey(0)\n",
    "cv2.destroyAllWindows()"
   ]
  },
  {
   "cell_type": "code",
   "execution_count": null,
   "id": "11b759ed",
   "metadata": {},
   "outputs": [],
   "source": []
  }
 ],
 "metadata": {
  "kernelspec": {
   "display_name": "Python 3 (ipykernel)",
   "language": "python",
   "name": "python3"
  },
  "language_info": {
   "codemirror_mode": {
    "name": "ipython",
    "version": 3
   },
   "file_extension": ".py",
   "mimetype": "text/x-python",
   "name": "python",
   "nbconvert_exporter": "python",
   "pygments_lexer": "ipython3",
   "version": "3.9.12"
  },
  "toc": {
   "base_numbering": 1,
   "nav_menu": {},
   "number_sections": true,
   "sideBar": true,
   "skip_h1_title": false,
   "title_cell": "Table of Contents",
   "title_sidebar": "Contents",
   "toc_cell": false,
   "toc_position": {},
   "toc_section_display": true,
   "toc_window_display": false
  },
  "varInspector": {
   "cols": {
    "lenName": 16,
    "lenType": 16,
    "lenVar": 40
   },
   "kernels_config": {
    "python": {
     "delete_cmd_postfix": "",
     "delete_cmd_prefix": "del ",
     "library": "var_list.py",
     "varRefreshCmd": "print(var_dic_list())"
    },
    "r": {
     "delete_cmd_postfix": ") ",
     "delete_cmd_prefix": "rm(",
     "library": "var_list.r",
     "varRefreshCmd": "cat(var_dic_list()) "
    }
   },
   "types_to_exclude": [
    "module",
    "function",
    "builtin_function_or_method",
    "instance",
    "_Feature"
   ],
   "window_display": false
  }
 },
 "nbformat": 4,
 "nbformat_minor": 5
}
