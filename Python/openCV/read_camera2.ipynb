{
 "cells": [
  {
   "cell_type": "code",
   "execution_count": null,
   "id": "a48b63ec",
   "metadata": {},
   "outputs": [],
   "source": [
    "import cv2\n",
    "from Common.utils import put_string\n",
    "def zoom_bar(value):\n",
    "    global capture\n",
    "    capture.set(cv2.CAP_PROP_ZOOM, value) # 줌 설정\n",
    "def focus_bar(value):\n",
    "    global capture\n",
    "    capture.set(cv2.CAP_PROP_FOCUS, value)\n",
    "capture = cv2.VideoCapture(0)\t\t\t\t\t\t\t\t# 0번 카메라 연결\n",
    "if capture.isOpened() is None: raise Exception(\"카메라 연결 안됨\")\n",
    "capture.set(cv2.CAP_PROP_FRAME_WIDTH, 400)      # 카메라 프레임 너비\n",
    "capture.set(cv2.CAP_PROP_FRAME_HEIGHT, 300)     # 카메라 프레임 높이\n",
    "capture.set(cv2.CAP_PROP_AUTOFOCUS, 0)          # 오토포커싱 중지\n",
    "capture.set(cv2.CAP_PROP_BRIGHTNESS, 100)       # 프레임 밝기 초기화\n",
    "title = \"Change Camera Properties\"              # 윈도우 이름 지정\n",
    "cv2.namedWindow(title)                          # 윈도우 생성 - 반드시 생성 해야함\n",
    "cv2.createTrackbar(\"zoom\" , title, 0, 10, zoom_bar)\n",
    "cv2.createTrackbar(\"focus\", title, 0, 40, focus_bar)\n",
    "while True:\n",
    "    ret, frame = capture.read()                 # 카메라 영상 받기\n",
    "    if not ret: break\n",
    "    if cv2.waitKey(30) >= 0: break\n",
    "    zoom = int(capture.get(cv2.CAP_PROP_ZOOM))\n",
    "    focus = int(capture.get(cv2.CAP_PROP_FOCUS))\n",
    "    put_string(frame, \"zoom : \" , (10, 240), zoom)   # 줌 값 표시\n",
    "    put_string(frame, \"focus : \", (10, 270), focus)    # 초점 값 표시\n",
    "    cv2.imshow(title, frame)\n",
    "capture.release()"
   ]
  }
 ],
 "metadata": {
  "kernelspec": {
   "display_name": "Python 3 (ipykernel)",
   "language": "python",
   "name": "python3"
  },
  "language_info": {
   "codemirror_mode": {
    "name": "ipython",
    "version": 3
   },
   "file_extension": ".py",
   "mimetype": "text/x-python",
   "name": "python",
   "nbconvert_exporter": "python",
   "pygments_lexer": "ipython3",
   "version": "3.9.12"
  },
  "toc": {
   "base_numbering": 1,
   "nav_menu": {},
   "number_sections": true,
   "sideBar": true,
   "skip_h1_title": false,
   "title_cell": "Table of Contents",
   "title_sidebar": "Contents",
   "toc_cell": false,
   "toc_position": {},
   "toc_section_display": true,
   "toc_window_display": false
  },
  "varInspector": {
   "cols": {
    "lenName": 16,
    "lenType": 16,
    "lenVar": 40
   },
   "kernels_config": {
    "python": {
     "delete_cmd_postfix": "",
     "delete_cmd_prefix": "del ",
     "library": "var_list.py",
     "varRefreshCmd": "print(var_dic_list())"
    },
    "r": {
     "delete_cmd_postfix": ") ",
     "delete_cmd_prefix": "rm(",
     "library": "var_list.r",
     "varRefreshCmd": "cat(var_dic_list()) "
    }
   },
   "types_to_exclude": [
    "module",
    "function",
    "builtin_function_or_method",
    "instance",
    "_Feature"
   ],
   "window_display": false
  }
 },
 "nbformat": 4,
 "nbformat_minor": 5
}
