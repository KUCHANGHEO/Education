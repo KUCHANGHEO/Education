{
 "cells": [
  {
   "cell_type": "code",
   "execution_count": 2,
   "id": "88d0eb55",
   "metadata": {},
   "outputs": [],
   "source": [
    "import numpy as np, cv2\n",
    "from Common.utils import contain, ck_time\n",
    "from Common.interpolation import bilinear_value"
   ]
  },
  {
   "cell_type": "code",
   "execution_count": 3,
   "id": "991c97ee",
   "metadata": {},
   "outputs": [],
   "source": [
    "def affine_transform(img, mat):\n",
    "    rows, cols = img.shape[:2]\n",
    "    inv_mat = cv2.invertAffineTransform(mat)  # 어파인 변환의 역행렬\n",
    "    ## 리스트 생성 방식\n",
    "    pts = [np.dot(inv_mat, (j, i, 1)) for i in range(rows) for j in range(cols)]\n",
    "    dst = [bilinear_value(img, p) if contain(p, size) else 0 for p in pts]\n",
    "    dst = np.reshape(dst, (rows, cols)).astype('uint8')\n",
    "\n",
    "    ## 반복문 방식\n",
    "    # dst = np.zeros(img.shape, img.dtype)  # 목적 영상 생성\n",
    "    # for i in range(rows):  # 목적 영상 순회- 역방향 사상\n",
    "    #     for j in range(cols):\n",
    "    #         pt = np.dot(inv_mat, (j, i, 1))                # 행렬 내적 계산\n",
    "    #         if contain(pt, size):  dst[i, j] = bilinear_value(img, pt)     # 화소 양선형 보간\n",
    "\n",
    "    return dst"
   ]
  },
  {
   "cell_type": "code",
   "execution_count": 4,
   "id": "f146a3c2",
   "metadata": {},
   "outputs": [],
   "source": [
    "image = cv2.imread('images/affine.jpg', cv2.IMREAD_GRAYSCALE)\n",
    "if image is None: raise Exception(\"영상 파일을 읽기 에러\")"
   ]
  },
  {
   "cell_type": "code",
   "execution_count": 5,
   "id": "de17905b",
   "metadata": {},
   "outputs": [],
   "source": [
    "center = (200, 200)                                 # 회전 변환 기준 좌표\n",
    "angle, scale = 30,  1                               # 회전 각도, 크기 지정 - 크기 변경은 안 함\n",
    "size = image.shape[::-1]                            # 영상크기는 행렬 행태의 역순"
   ]
  },
  {
   "cell_type": "code",
   "execution_count": 6,
   "id": "7fa608b2",
   "metadata": {},
   "outputs": [],
   "source": [
    "pt1 = np.array([( 30, 70),(20, 240), (300, 110)], np.float32)\n",
    "pt2 = np.array([(120, 20),(10, 180), (280, 260)], np.float32)\n",
    "aff_mat = cv2.getAffineTransform(pt1, pt2)              # 3개 좌표 쌍으로 어파인 행렬 생성\n",
    "rot_mat = cv2.getRotationMatrix2D(center, angle, scale) # 회전 변환을 위한 어파인 행렬"
   ]
  },
  {
   "cell_type": "code",
   "execution_count": 7,
   "id": "1713403f",
   "metadata": {},
   "outputs": [],
   "source": [
    "dst1 = affine_transform(image, aff_mat)             # 어파인 변환 수행\n",
    "dst2 = affine_transform(image, rot_mat)             # 회전 변환 수행\n",
    "dst3 = cv2.warpAffine(image, aff_mat, size, cv2.INTER_LINEAR)\n",
    "dst4 = cv2.warpAffine(image, rot_mat, size, cv2.INTER_LINEAR)"
   ]
  },
  {
   "cell_type": "code",
   "execution_count": 8,
   "id": "21f8a91a",
   "metadata": {},
   "outputs": [],
   "source": [
    "image = cv2.cvtColor(image, cv2.COLOR_GRAY2BGR)\n",
    "dst1 = cv2.cvtColor(dst1, cv2.COLOR_GRAY2BGR )\n",
    "dst3 = cv2.cvtColor(dst3, cv2.COLOR_GRAY2BGR )"
   ]
  },
  {
   "cell_type": "code",
   "execution_count": 9,
   "id": "c492df83",
   "metadata": {},
   "outputs": [],
   "source": [
    "for i in range(len(pt1)):\n",
    "    cv2.circle(image, tuple(pt1[i].astype(int)), 3, (0, 0, 255), 2)\n",
    "    cv2.circle(dst1 , tuple(pt2[i].astype(int)), 3, (0, 0, 255), 2)\n",
    "    cv2.circle(dst3 , tuple(pt2[i].astype(int)), 3, (0, 0, 255), 2)"
   ]
  },
  {
   "cell_type": "code",
   "execution_count": 10,
   "id": "c6eef98d",
   "metadata": {},
   "outputs": [],
   "source": [
    "cv2.imshow(\"image\", image)\n",
    "cv2.imshow(\"dst1_affine\", dst1);        cv2.imshow(\"dst2_affine_rotate\", dst2)\n",
    "cv2.imshow(\"dst3_OpenCV_affine\", dst3); cv2.imshow(\"dst4_OpenCV_affine_rotate\", dst4)\n",
    "cv2.waitKey(0)\n",
    "cv2.destroyAllWindows()"
   ]
  },
  {
   "cell_type": "code",
   "execution_count": null,
   "id": "46e90a06",
   "metadata": {},
   "outputs": [],
   "source": []
  }
 ],
 "metadata": {
  "kernelspec": {
   "display_name": "Python 3 (ipykernel)",
   "language": "python",
   "name": "python3"
  },
  "language_info": {
   "codemirror_mode": {
    "name": "ipython",
    "version": 3
   },
   "file_extension": ".py",
   "mimetype": "text/x-python",
   "name": "python",
   "nbconvert_exporter": "python",
   "pygments_lexer": "ipython3",
   "version": "3.9.12"
  },
  "toc": {
   "base_numbering": 1,
   "nav_menu": {},
   "number_sections": true,
   "sideBar": true,
   "skip_h1_title": false,
   "title_cell": "Table of Contents",
   "title_sidebar": "Contents",
   "toc_cell": false,
   "toc_position": {},
   "toc_section_display": true,
   "toc_window_display": false
  },
  "varInspector": {
   "cols": {
    "lenName": 16,
    "lenType": 16,
    "lenVar": 40
   },
   "kernels_config": {
    "python": {
     "delete_cmd_postfix": "",
     "delete_cmd_prefix": "del ",
     "library": "var_list.py",
     "varRefreshCmd": "print(var_dic_list())"
    },
    "r": {
     "delete_cmd_postfix": ") ",
     "delete_cmd_prefix": "rm(",
     "library": "var_list.r",
     "varRefreshCmd": "cat(var_dic_list()) "
    }
   },
   "types_to_exclude": [
    "module",
    "function",
    "builtin_function_or_method",
    "instance",
    "_Feature"
   ],
   "window_display": false
  }
 },
 "nbformat": 4,
 "nbformat_minor": 5
}
