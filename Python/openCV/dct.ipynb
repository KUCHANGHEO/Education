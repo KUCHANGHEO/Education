{
 "cells": [
  {
   "cell_type": "code",
   "execution_count": 1,
   "id": "824f85c2",
   "metadata": {},
   "outputs": [],
   "source": [
    "import numpy as np, cv2, math\n",
    "import scipy.fftpack as sf"
   ]
  },
  {
   "cell_type": "code",
   "execution_count": 2,
   "id": "442dcd58",
   "metadata": {},
   "outputs": [],
   "source": [
    "def cos(n,k,N):\n",
    "    return math.cos((n + 1/2) * math.pi * k / N)"
   ]
  },
  {
   "cell_type": "code",
   "execution_count": 3,
   "id": "a4eb4be7",
   "metadata": {},
   "outputs": [],
   "source": [
    "def C(k, N):\n",
    "    return math.sqrt(1/N) if k==0 else math.sqrt(2/N)"
   ]
  },
  {
   "cell_type": "code",
   "execution_count": 4,
   "id": "93502841",
   "metadata": {},
   "outputs": [],
   "source": [
    "def dct(g):\n",
    "    N = len(g)\n",
    "    f = [C(k, N) * sum(g[n] * cos(n, k, N ) for n in range(N)) for k in range(N)]\n",
    "    return np.array(f, np.float32)"
   ]
  },
  {
   "cell_type": "code",
   "execution_count": 5,
   "id": "05166f9e",
   "metadata": {},
   "outputs": [],
   "source": [
    "def idct(f):\n",
    "    N = len(f)\n",
    "    g = [sum(C(k, N) * f[k] * cos(n, k, N) for k in range(N)) for n in range(N)]\n",
    "    return np.array(g)"
   ]
  },
  {
   "cell_type": "code",
   "execution_count": 6,
   "id": "5b999037",
   "metadata": {},
   "outputs": [],
   "source": [
    "def dct2(image):\n",
    "    tmp = [dct(row) for row in image]\n",
    "    dst = [dct(row) for row in np.transpose(tmp)]\n",
    "    return np.transpose(dst)                   # 전치 환원 후 반환"
   ]
  },
  {
   "cell_type": "code",
   "execution_count": 7,
   "id": "b5e61725",
   "metadata": {},
   "outputs": [],
   "source": [
    "def idct2(image):\n",
    "    tmp = [idct(row) for row in image]\n",
    "    dst = [idct(row) for row in np.transpose(tmp)]\n",
    "    return np.transpose(dst)                   # 전치 환원 후 반환"
   ]
  },
  {
   "cell_type": "code",
   "execution_count": 8,
   "id": "3785230e",
   "metadata": {},
   "outputs": [],
   "source": [
    "def scipy_dct2(a):\n",
    "    tmp = sf.dct(a, axis=0, norm='ortho' )\n",
    "    return sf.dct(tmp, axis=1, norm='ortho' )"
   ]
  },
  {
   "cell_type": "code",
   "execution_count": 9,
   "id": "3402964a",
   "metadata": {},
   "outputs": [],
   "source": [
    "def scipy_idct2(a):\n",
    "    tmp = sf.idct(a, axis=0, norm='ortho')\n",
    "    return sf.idct(tmp, axis=1 , norm='ortho')"
   ]
  },
  {
   "cell_type": "code",
   "execution_count": 10,
   "id": "9d8310a6",
   "metadata": {},
   "outputs": [
    {
     "data": {
      "text/plain": [
       "array([[128, 136,  93, 107, 190, 114,  96, 143],\n",
       "       [154,  71, 166, 126, 193,  30,  33, 101],\n",
       "       [ 91, 223, 142,  59, 205,  89,   4,  51],\n",
       "       [ 60, 125, 196, 168, 115, 102, 220, 146],\n",
       "       [193,  96,  85, 182, 130, 114, 120, 110],\n",
       "       [180, 152, 123, 179,  91,  98, 117, 186],\n",
       "       [ 29, 163, 117, 133, 141,  86, 160, 120],\n",
       "       [211, 114,  88, 163, 158, 162, 104,  99]], dtype=uint8)"
      ]
     },
     "execution_count": 10,
     "metadata": {},
     "output_type": "execute_result"
    }
   ],
   "source": [
    "block = np.zeros((8,8), np.uint8)\n",
    "cv2.randn(block, 128, 50)"
   ]
  },
  {
   "cell_type": "code",
   "execution_count": 11,
   "id": "378805a4",
   "metadata": {},
   "outputs": [],
   "source": [
    "dct1 = dct2(block)\n",
    "dct2 = scipy_dct2(block)\n",
    "dct3 = sf.dctn(block, shape=block.shape, norm='ortho')\t\t\t# 2차원 dct 수행 다른 방식\n",
    "dct4 = cv2.dct(block.astype(\"float32\"))"
   ]
  },
  {
   "cell_type": "code",
   "execution_count": 12,
   "id": "aed2502e",
   "metadata": {},
   "outputs": [],
   "source": [
    "idct1 = idct2(dct1)\n",
    "idct2 = scipy_idct2(dct2)\n",
    "idct3 = sf.idctn(dct3, shape=dct2.shape, norm='ortho')\t\t\t# 2차원 dct 수행 다른 방식\n",
    "idct4 = cv2.dct(dct4, flags=cv2.DCT_INVERSE)"
   ]
  },
  {
   "cell_type": "code",
   "execution_count": 13,
   "id": "1efdd9b8",
   "metadata": {},
   "outputs": [
    {
     "name": "stdout",
     "output_type": "stream",
     "text": [
      "block=\n",
      " [[128 136  93 107 190 114  96 143]\n",
      " [154  71 166 126 193  30  33 101]\n",
      " [ 91 223 142  59 205  89   4  51]\n",
      " [ 60 125 196 168 115 102 220 146]\n",
      " [193  96  85 182 130 114 120 110]\n",
      " [180 152 123 179  91  98 117 186]\n",
      " [ 29 163 117 133 141  86 160 120]\n",
      " [211 114  88 163 158 162 104  99]]\n",
      "dct1(저자구현 함수)=\n",
      " [[1010.125       66.28257    -46.4755     -21.431795    75.375\n",
      "   -38.51036    -43.933865    30.88792  ]\n",
      " [ -49.188576    39.439724   -36.440662   -16.729065    17.86372\n",
      "   -84.11798     23.710556    81.19413  ]\n",
      " [ -20.443415     7.045197   -10.812631    62.11756     45.385826\n",
      "   -51.337383    14.928116    12.200523 ]\n",
      " [  24.471926   -48.239067    64.25619    -17.18532     51.097008\n",
      "    49.593323    -6.691223   -43.100742 ]\n",
      " [  56.87501    -58.001377    14.010731    58.923492     9.125002\n",
      "    86.76855      8.673561   -29.032633 ]\n",
      " [   9.9247     -89.663605   -14.28731    -72.784615  -127.56446\n",
      "   -43.465958   -74.75635      4.8181767]\n",
      " [  23.486116    57.468174    37.928116    51.74977      4.0661125\n",
      "   -67.843834    19.062632   -47.703285 ]\n",
      " [ -52.001637    38.81619    -29.584309    71.060745    -5.9248543\n",
      "   -81.964714   -27.472942   -10.288444 ]]\n",
      "dct2(scipy 모듈 함수1)=\n",
      " [[1010.125        66.28256926  -46.47549815  -21.43179458   75.375\n",
      "   -38.51036326  -43.93386304   30.88792021]\n",
      " [ -49.1885848    39.4397232   -36.44066338  -16.72906491   17.86372067\n",
      "   -84.11798714   23.71055523   81.19412906]\n",
      " [ -20.44340934    7.04519774  -10.81263075   62.1175615    45.38582363\n",
      "   -51.33738335   14.92811595   12.20052358]\n",
      " [  24.47193147  -48.23906523   64.25618419  -17.18532042   51.09700852\n",
      "    49.59332376   -6.69122283  -43.10074356]\n",
      " [  56.875       -58.00137841   14.01073141   58.9234934     9.125\n",
      "    86.76854709    8.67356071  -29.03263274]\n",
      " [   9.92471579  -89.66360524  -14.28731046  -72.78461624 -127.56446133\n",
      "   -43.46596018  -74.75634881    4.81817679]\n",
      " [  23.48612919   57.46817271   37.92811595   51.74977076    4.06611154\n",
      "   -67.84383641   19.06263075  -47.70328342]\n",
      " [ -52.00163663   38.81618905  -29.58431006   71.06074512   -5.92485528\n",
      "   -81.96471611  -27.4729435   -10.2884426 ]]\n",
      "dct3(scipy 모듈 함수2)=\n",
      " [[1010.125        66.28256926  -46.47549815  -21.43179458   75.375\n",
      "   -38.51036326  -43.93386304   30.88792021]\n",
      " [ -49.1885848    39.4397232   -36.44066338  -16.72906491   17.86372067\n",
      "   -84.11798714   23.71055523   81.19412906]\n",
      " [ -20.44340934    7.04519774  -10.81263075   62.1175615    45.38582363\n",
      "   -51.33738335   14.92811595   12.20052358]\n",
      " [  24.47193147  -48.23906523   64.25618419  -17.18532042   51.09700852\n",
      "    49.59332376   -6.69122283  -43.10074356]\n",
      " [  56.875       -58.00137841   14.01073141   58.9234934     9.125\n",
      "    86.76854709    8.67356071  -29.03263274]\n",
      " [   9.92471579  -89.66360524  -14.28731046  -72.78461624 -127.56446133\n",
      "   -43.46596018  -74.75634881    4.81817679]\n",
      " [  23.48612919   57.46817271   37.92811595   51.74977076    4.06611154\n",
      "   -67.84383641   19.06263075  -47.70328342]\n",
      " [ -52.00163663   38.81618905  -29.58431006   71.06074512   -5.92485528\n",
      "   -81.96471611  -27.4729435   -10.2884426 ]]\n",
      "dct4(OpenCV 함수)=\n",
      " [[1010.125       66.28257    -46.475502   -21.431793    75.375\n",
      "   -38.51036    -43.93387     30.887924 ]\n",
      " [ -49.188587    39.43972    -36.440662   -16.729065    17.86372\n",
      "   -84.11798     23.710556    81.19412  ]\n",
      " [ -20.44341      7.0451956  -10.81263     62.117554    45.385826\n",
      "   -51.337383    14.928115    12.200525 ]\n",
      " [  24.47193    -48.239056    64.25618    -17.185322    51.097\n",
      "    49.59332     -6.691225   -43.100742 ]\n",
      " [  56.875      -58.001377    14.010734    58.923492     9.125\n",
      "    86.76855      8.673561   -29.032635 ]\n",
      " [   9.924715   -89.663605   -14.287311   -72.78462   -127.564445\n",
      "   -43.465965   -74.75635      4.8181796]\n",
      " [  23.486132    57.46817     37.928116    51.74977      4.066112\n",
      "   -67.843834    19.062634   -47.703285 ]\n",
      " [ -52.00164     38.81619    -29.584305    71.060745    -5.9248543\n",
      "   -81.964714   -27.47294    -10.288441 ]]\n",
      "\n",
      "idct1(저자구현 함수)=\n",
      " [[128 136  93 107 190 114  96 143]\n",
      " [154  71 166 126 193  30  33 101]\n",
      " [ 91 223 142  59 205  89   4  51]\n",
      " [ 60 125 196 168 115 102 220 146]\n",
      " [193  96  85 182 130 114 120 110]\n",
      " [180 152 123 179  91  98 117 186]\n",
      " [ 29 163 117 133 141  86 160 120]\n",
      " [211 114  88 163 158 162 104  99]]\n",
      "idct2(scipy 모듈 함수1)=\n",
      " [[128 136  93 107 190 114  96 143]\n",
      " [154  71 166 126 193  30  33 101]\n",
      " [ 91 223 142  59 205  89   4  51]\n",
      " [ 60 125 196 168 115 102 220 146]\n",
      " [193  96  85 182 130 114 120 110]\n",
      " [180 152 123 179  91  98 117 186]\n",
      " [ 29 163 117 133 141  86 160 120]\n",
      " [211 114  88 163 158 162 104  99]]\n",
      "idct3(scipy 모듈 함수2)=\n",
      " [[128 136  93 107 190 114  96 143]\n",
      " [154  71 166 126 193  30  33 101]\n",
      " [ 91 223 142  59 205  89   4  51]\n",
      " [ 60 125 196 168 115 102 220 146]\n",
      " [193  96  85 182 130 114 120 110]\n",
      " [180 152 123 179  91  98 117 186]\n",
      " [ 29 163 117 133 141  86 160 120]\n",
      " [211 114  88 163 158 162 104  99]]\n",
      "idct4(OpenCV 함수)=\n",
      " [[128 136  93 107 190 114  96 143]\n",
      " [154  71 166 126 193  30  33 101]\n",
      " [ 91 223 142  59 205  89   4  51]\n",
      " [ 60 125 196 168 115 102 220 146]\n",
      " [193  96  85 182 130 114 120 110]\n",
      " [180 152 123 179  91  98 117 186]\n",
      " [ 29 163 117 133 141  86 160 120]\n",
      " [211 114  88 163 158 162 104  99]]\n"
     ]
    }
   ],
   "source": [
    "print('block=\\n', block)\n",
    "print('dct1(저자구현 함수)=\\n', dct1)\n",
    "print('dct2(scipy 모듈 함수1)=\\n', dct2)\n",
    "print('dct3(scipy 모듈 함수2)=\\n', dct3)\n",
    "print('dct4(OpenCV 함수)=\\n', dct4)\n",
    "print()\n",
    "print('idct1(저자구현 함수)=\\n', cv2.convertScaleAbs(idct1))\n",
    "print('idct2(scipy 모듈 함수1)=\\n', cv2.convertScaleAbs(idct2))\n",
    "print('idct3(scipy 모듈 함수2)=\\n', cv2.convertScaleAbs(idct3))\n",
    "print('idct4(OpenCV 함수)=\\n', cv2.convertScaleAbs(idct4))"
   ]
  },
  {
   "cell_type": "code",
   "execution_count": null,
   "id": "a4efacc8",
   "metadata": {},
   "outputs": [],
   "source": []
  }
 ],
 "metadata": {
  "kernelspec": {
   "display_name": "Python 3 (ipykernel)",
   "language": "python",
   "name": "python3"
  },
  "language_info": {
   "codemirror_mode": {
    "name": "ipython",
    "version": 3
   },
   "file_extension": ".py",
   "mimetype": "text/x-python",
   "name": "python",
   "nbconvert_exporter": "python",
   "pygments_lexer": "ipython3",
   "version": "3.9.12"
  },
  "toc": {
   "base_numbering": 1,
   "nav_menu": {},
   "number_sections": true,
   "sideBar": true,
   "skip_h1_title": false,
   "title_cell": "Table of Contents",
   "title_sidebar": "Contents",
   "toc_cell": false,
   "toc_position": {},
   "toc_section_display": true,
   "toc_window_display": false
  },
  "varInspector": {
   "cols": {
    "lenName": 16,
    "lenType": 16,
    "lenVar": 40
   },
   "kernels_config": {
    "python": {
     "delete_cmd_postfix": "",
     "delete_cmd_prefix": "del ",
     "library": "var_list.py",
     "varRefreshCmd": "print(var_dic_list())"
    },
    "r": {
     "delete_cmd_postfix": ") ",
     "delete_cmd_prefix": "rm(",
     "library": "var_list.r",
     "varRefreshCmd": "cat(var_dic_list()) "
    }
   },
   "types_to_exclude": [
    "module",
    "function",
    "builtin_function_or_method",
    "instance",
    "_Feature"
   ],
   "window_display": false
  }
 },
 "nbformat": 4,
 "nbformat_minor": 5
}
