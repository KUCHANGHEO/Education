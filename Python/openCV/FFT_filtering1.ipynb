{
 "cells": [
  {
   "cell_type": "code",
   "execution_count": 1,
   "id": "1de64151",
   "metadata": {},
   "outputs": [],
   "source": [
    "import numpy as np, cv2\n",
    "from Common.fft2d import fft2, ifft2, calc_spectrum, fftshift"
   ]
  },
  {
   "cell_type": "code",
   "execution_count": 2,
   "id": "df428de0",
   "metadata": {},
   "outputs": [],
   "source": [
    "def FFT(image, mode = 2):\n",
    "    if mode == 1: dft = fft2(image)\n",
    "    elif mode==2: dft = np.fft.fft2(image)\n",
    "    elif mode==3: dft = cv2.dft(np.float32(image), flags=cv2.DFT_COMPLEX_OUTPUT)\n",
    "    dft = fftshift(dft)                              # 셔플링\n",
    "    spectrum = calc_spectrum(dft)               # 주파수 스펙트럼 영상\n",
    "    return dft, spectrum"
   ]
  },
  {
   "cell_type": "code",
   "execution_count": 3,
   "id": "f670beb8",
   "metadata": {},
   "outputs": [],
   "source": [
    "def IFFT(dft, shape, mode=2):\n",
    "    dft = fftshift(dft)                                 # 역 셔플링\n",
    "    if mode == 1: img = ifft2(dft).real\n",
    "    if mode == 2: img = np.fft.ifft2(dft).real\n",
    "    if mode ==3:  img = cv2.idft(dft, flags= cv2.DFT_SCALE)[:,:,0]\n",
    "    img = img[:shape[0], :shape[1]]                 # 영삽입 부분 제거\n",
    "    return cv2.convertScaleAbs(img)"
   ]
  },
  {
   "cell_type": "code",
   "execution_count": 4,
   "id": "dc3d8c17",
   "metadata": {},
   "outputs": [],
   "source": [
    "image = cv2.imread('images/dft_240.jpg', cv2.IMREAD_GRAYSCALE)\n",
    "if image is None: raise Exception(\"영상 파일 읽기 에러\")\n",
    "cy, cx = np.divmod(image.shape, 2)[0]                 # 행렬 중심점 구하기\n",
    "mode = 1"
   ]
  },
  {
   "cell_type": "code",
   "execution_count": 5,
   "id": "658065c6",
   "metadata": {},
   "outputs": [
    {
     "data": {
      "text/plain": [
       "array([[1., 1., 1., ..., 1., 1., 1.],\n",
       "       [1., 1., 1., ..., 1., 1., 1.],\n",
       "       [1., 1., 1., ..., 1., 1., 1.],\n",
       "       ...,\n",
       "       [1., 1., 1., ..., 1., 1., 1.],\n",
       "       [1., 1., 1., ..., 1., 1., 1.],\n",
       "       [1., 1., 1., ..., 1., 1., 1.]], dtype=float32)"
      ]
     },
     "execution_count": 5,
     "metadata": {},
     "output_type": "execute_result"
    }
   ],
   "source": [
    "dft, spectrum = FFT(image, mode)                  # FFT 수행 및 셔플링\n",
    "lowpass = np.zeros(dft.shape, np.float32)\n",
    "highpass = np.ones(dft.shape, np.float32)\n",
    "cv2.circle(lowpass , (cx, cy), 30, (1,1), -1)\n",
    "cv2.circle(highpass, (cx, cy), 30, (0,0), -1)"
   ]
  },
  {
   "cell_type": "code",
   "execution_count": 6,
   "id": "0d8083f9",
   "metadata": {},
   "outputs": [],
   "source": [
    "lowpassed_dft = dft * lowpass\n",
    "highpassed_dft = dft * highpass\n",
    "lowpassed_img = IFFT(lowpassed_dft, image.shape, mode)\n",
    "highpased_img = IFFT(highpassed_dft, image.shape, mode)"
   ]
  },
  {
   "cell_type": "code",
   "execution_count": 7,
   "id": "c83a45c2",
   "metadata": {},
   "outputs": [],
   "source": [
    "cv2.imshow(\"image\", image)\n",
    "cv2.imshow(\"lowpassed_img\", lowpassed_img) # 역푸리에 변환 영상\n",
    "cv2.imshow(\"highpased_img\", highpased_img)\n",
    "cv2.imshow(\"spectrum_img\", spectrum)\n",
    "cv2.imshow(\"lowpass_spect\", calc_spectrum(lowpassed_dft))\n",
    "cv2.imshow(\"highpass_spect\", calc_spectrum(highpassed_dft))\n",
    "cv2.waitKey(0)\n",
    "cv2.destroyAllWindows()"
   ]
  },
  {
   "cell_type": "code",
   "execution_count": null,
   "id": "7cb6c73a",
   "metadata": {},
   "outputs": [],
   "source": []
  }
 ],
 "metadata": {
  "kernelspec": {
   "display_name": "Python 3 (ipykernel)",
   "language": "python",
   "name": "python3"
  },
  "language_info": {
   "codemirror_mode": {
    "name": "ipython",
    "version": 3
   },
   "file_extension": ".py",
   "mimetype": "text/x-python",
   "name": "python",
   "nbconvert_exporter": "python",
   "pygments_lexer": "ipython3",
   "version": "3.9.12"
  },
  "toc": {
   "base_numbering": 1,
   "nav_menu": {},
   "number_sections": true,
   "sideBar": true,
   "skip_h1_title": false,
   "title_cell": "Table of Contents",
   "title_sidebar": "Contents",
   "toc_cell": false,
   "toc_position": {},
   "toc_section_display": true,
   "toc_window_display": false
  },
  "varInspector": {
   "cols": {
    "lenName": 16,
    "lenType": 16,
    "lenVar": 40
   },
   "kernels_config": {
    "python": {
     "delete_cmd_postfix": "",
     "delete_cmd_prefix": "del ",
     "library": "var_list.py",
     "varRefreshCmd": "print(var_dic_list())"
    },
    "r": {
     "delete_cmd_postfix": ") ",
     "delete_cmd_prefix": "rm(",
     "library": "var_list.r",
     "varRefreshCmd": "cat(var_dic_list()) "
    }
   },
   "types_to_exclude": [
    "module",
    "function",
    "builtin_function_or_method",
    "instance",
    "_Feature"
   ],
   "window_display": false
  }
 },
 "nbformat": 4,
 "nbformat_minor": 5
}
