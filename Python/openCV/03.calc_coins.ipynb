{
 "cells": [
  {
   "cell_type": "code",
   "execution_count": 1,
   "id": "601d8278",
   "metadata": {},
   "outputs": [],
   "source": [
    "from header.coin_preprocess import *\n",
    "from header.coin_utils import *                            # 기타 함수\n",
    "from Common.utils import put_string"
   ]
  },
  {
   "cell_type": "code",
   "execution_count": 2,
   "id": "08200805",
   "metadata": {},
   "outputs": [
    {
     "name": "stdout",
     "output_type": "stream",
     "text": [
      "동전 영상 번호: 1\n"
     ]
    }
   ],
   "source": [
    "coin_no = int(input(\"동전 영상 번호: \"))\n",
    "image, th_img = preprocessing(coin_no)                              # 전처리 수행\n",
    "circles = find_coins(th_img)                     # 객체(회전사각형) 검출\n",
    "coin_imgs = make_coin_img(image, circles)                  # 동전 영상 생성\n",
    "coin_hists= [calc_histo_hue(coin) for coin in coin_imgs]   # 동전 영상 히스토그램"
   ]
  },
  {
   "cell_type": "code",
   "execution_count": 3,
   "id": "6880981e",
   "metadata": {},
   "outputs": [],
   "source": [
    "groups = grouping(coin_hists)                              # 동전 영상 그룹 분리\n",
    "ncoins = classify_coins(circles, groups)                   # 동전 인식"
   ]
  },
  {
   "cell_type": "code",
   "execution_count": 4,
   "id": "ecd5c419",
   "metadata": {},
   "outputs": [
    {
     "name": "stdout",
     "output_type": "stream",
     "text": [
      " 10원:  11개\n",
      " 50원:   0개\n",
      "100원:   4개\n",
      "500원:   1개\n",
      "Total coin: 1,010 Won\n"
     ]
    }
   ],
   "source": [
    "coin_value = np.array([10, 50, 100, 500])                             # 동전 금액\n",
    "for i in range(4):\n",
    "    print(\"%3d원: %3d개\" % (coin_value[i], ncoins[i]))\n",
    "\n",
    "total = sum(coin_value * ncoins )           # 동전금액* 동전별 개수\n",
    "str = \"Total coin: {:,} Won\".format(total)            # 계산된 금액 문자열\n",
    "print(str)                                                 # 콘솔창에 출력\n",
    "put_string(image, str, (650, 50), '', (0,230,0))"
   ]
  },
  {
   "cell_type": "code",
   "execution_count": 5,
   "id": "74ef2a81",
   "metadata": {},
   "outputs": [],
   "source": [
    "## 동전 객체에 정보(반지름, 금액) 표시\n",
    "color = [(0, 0, 250), (255, 255, 0), (0, 250, 0), (250, 0, 255)]  # 동전별 색상\n",
    "for i, (c, r) in enumerate(circles):\n",
    "    cv2.circle(image, c, r, color[groups[i]], 2)\n",
    "    put_string(image, i, (c[0] - 15, c[1] - 10), '', color[2])  # 검출 순번과 동전 반지 표시\n",
    "    put_string(image, r, (c[0], c[1] + 15), '', color[3])"
   ]
  },
  {
   "cell_type": "code",
   "execution_count": 7,
   "id": "fcbc9dc5",
   "metadata": {},
   "outputs": [],
   "source": [
    "cv2.imshow(\"result image\", image)\n",
    "key = cv2.waitKey(0)  # 키 이벤트 대기\n",
    "cv2.destroyAllWindows()"
   ]
  },
  {
   "cell_type": "code",
   "execution_count": null,
   "id": "fb96dadf",
   "metadata": {},
   "outputs": [],
   "source": []
  }
 ],
 "metadata": {
  "kernelspec": {
   "display_name": "Python 3 (ipykernel)",
   "language": "python",
   "name": "python3"
  },
  "language_info": {
   "codemirror_mode": {
    "name": "ipython",
    "version": 3
   },
   "file_extension": ".py",
   "mimetype": "text/x-python",
   "name": "python",
   "nbconvert_exporter": "python",
   "pygments_lexer": "ipython3",
   "version": "3.9.12"
  },
  "toc": {
   "base_numbering": 1,
   "nav_menu": {},
   "number_sections": true,
   "sideBar": true,
   "skip_h1_title": false,
   "title_cell": "Table of Contents",
   "title_sidebar": "Contents",
   "toc_cell": false,
   "toc_position": {},
   "toc_section_display": true,
   "toc_window_display": false
  },
  "varInspector": {
   "cols": {
    "lenName": 16,
    "lenType": 16,
    "lenVar": 40
   },
   "kernels_config": {
    "python": {
     "delete_cmd_postfix": "",
     "delete_cmd_prefix": "del ",
     "library": "var_list.py",
     "varRefreshCmd": "print(var_dic_list())"
    },
    "r": {
     "delete_cmd_postfix": ") ",
     "delete_cmd_prefix": "rm(",
     "library": "var_list.r",
     "varRefreshCmd": "cat(var_dic_list()) "
    }
   },
   "types_to_exclude": [
    "module",
    "function",
    "builtin_function_or_method",
    "instance",
    "_Feature"
   ],
   "window_display": false
  }
 },
 "nbformat": 4,
 "nbformat_minor": 5
}
