{
 "cells": [
  {
   "cell_type": "code",
   "execution_count": 1,
   "id": "8dbe42a6",
   "metadata": {},
   "outputs": [],
   "source": [
    "import numpy as np, cv2\n",
    "from Common.utils import contain_pts  # 좌표로 범위 확인 함수"
   ]
  },
  {
   "cell_type": "code",
   "execution_count": 2,
   "id": "ed8e03e4",
   "metadata": {},
   "outputs": [],
   "source": [
    "def draw_rect(img):\n",
    "    rois = [(p-small, small * 2) for p in pts1]\n",
    "    for (x,y), (w,h) in np.int32(rois):\n",
    "        roi = img[y:y + h, x:x + w]                 # 좌표 사각형 범위 가져오기\n",
    "        val = np.full(roi.shape, 80, np.uint8)  # 컬러(3차원) 행렬 생성\t\tcv2.add(roi, val, roi)                      \t\t\t# 관심영역 밝기 증가\n",
    "        cv2.add(roi, val, roi)\n",
    "        cv2.rectangle(img, (x,y, w, h), (0, 255, 0), 1)\n",
    "    cv2.polylines(img, [pts1.astype(int)], True, (0, 255, 0), 1)     # pts는 numpy 배열\n",
    "    cv2.imshow(\"select rect\", img)"
   ]
  },
  {
   "cell_type": "code",
   "execution_count": 3,
   "id": "3af97b75",
   "metadata": {},
   "outputs": [],
   "source": [
    "def warp(img):\n",
    "    perspect_mat = cv2.getPerspectiveTransform(pts1, pts2)\n",
    "    dst = cv2.warpPerspective(img, perspect_mat, (350, 400), cv2.INTER_CUBIC)\n",
    "    cv2.imshow(\"perspective transform\", dst)"
   ]
  },
  {
   "cell_type": "code",
   "execution_count": 4,
   "id": "5f760980",
   "metadata": {},
   "outputs": [],
   "source": [
    "def onMouse(event, x, y, flags, param):\n",
    "    global check\n",
    "    if event == cv2.EVENT_LBUTTONDOWN:\n",
    "        for i, p in enumerate(pts1):\n",
    "            p1, p2 = p - small, p + small           # p점에서 우상단, 좌하단 좌표생성\n",
    "            if contain_pts((x,y), p1, p2): check = i\n",
    "    if event == cv2.EVENT_LBUTTONUP: check = -1                                  # 좌표 번호 초기화\n",
    "    if check >= 0 :                                 # 좌표 사각형 선택 시\n",
    "        pts1[check] = (x, y)\n",
    "        draw_rect(np.copy(image))\n",
    "        warp(np.copy(image))"
   ]
  },
  {
   "cell_type": "code",
   "execution_count": 5,
   "id": "1a050994",
   "metadata": {},
   "outputs": [],
   "source": [
    "image = cv2.imread('images/perspective2.jpg')\n",
    "if image is None: raise Exception(\"영상 파일을 읽기 에러\")"
   ]
  },
  {
   "cell_type": "code",
   "execution_count": 6,
   "id": "7ce29de3",
   "metadata": {},
   "outputs": [],
   "source": [
    "small = np.array((12, 12))                                    # 좌표 사각형 크기\n",
    "check = -1                                          # 선택 좌표 사각형 번호 초기화\n",
    "pts1 = np.float32([(100, 100), (300, 100), (300, 300), (100, 300)])\n",
    "pts2 = np.float32([(0, 0), (400, 0), (400, 350), (0, 350)])  # 목적 영상 4개 좌표                         # 목적 영상 4개 좌표"
   ]
  },
  {
   "cell_type": "code",
   "execution_count": 7,
   "id": "7b6e4a0e",
   "metadata": {},
   "outputs": [],
   "source": [
    "draw_rect(np.copy(image))\n",
    "cv2.setMouseCallback(\"select rect\", onMouse, 0)\n",
    "cv2.waitKey(0)\n",
    "cv2.destroyAllWindows()"
   ]
  },
  {
   "cell_type": "code",
   "execution_count": null,
   "id": "0ac4caae",
   "metadata": {},
   "outputs": [],
   "source": []
  }
 ],
 "metadata": {
  "kernelspec": {
   "display_name": "Python 3 (ipykernel)",
   "language": "python",
   "name": "python3"
  },
  "language_info": {
   "codemirror_mode": {
    "name": "ipython",
    "version": 3
   },
   "file_extension": ".py",
   "mimetype": "text/x-python",
   "name": "python",
   "nbconvert_exporter": "python",
   "pygments_lexer": "ipython3",
   "version": "3.9.12"
  },
  "toc": {
   "base_numbering": 1,
   "nav_menu": {},
   "number_sections": true,
   "sideBar": true,
   "skip_h1_title": false,
   "title_cell": "Table of Contents",
   "title_sidebar": "Contents",
   "toc_cell": false,
   "toc_position": {},
   "toc_section_display": true,
   "toc_window_display": false
  },
  "varInspector": {
   "cols": {
    "lenName": 16,
    "lenType": 16,
    "lenVar": 40
   },
   "kernels_config": {
    "python": {
     "delete_cmd_postfix": "",
     "delete_cmd_prefix": "del ",
     "library": "var_list.py",
     "varRefreshCmd": "print(var_dic_list())"
    },
    "r": {
     "delete_cmd_postfix": ") ",
     "delete_cmd_prefix": "rm(",
     "library": "var_list.r",
     "varRefreshCmd": "cat(var_dic_list()) "
    }
   },
   "types_to_exclude": [
    "module",
    "function",
    "builtin_function_or_method",
    "instance",
    "_Feature"
   ],
   "window_display": false
  }
 },
 "nbformat": 4,
 "nbformat_minor": 5
}
