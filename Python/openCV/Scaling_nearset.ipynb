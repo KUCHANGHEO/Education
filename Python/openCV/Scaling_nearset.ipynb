{
 "cells": [
  {
   "cell_type": "code",
   "execution_count": 1,
   "id": "d8d77b42",
   "metadata": {},
   "outputs": [],
   "source": [
    "import numpy as np, cv2\n",
    "from Common.interpolation import scaling"
   ]
  },
  {
   "cell_type": "code",
   "execution_count": 2,
   "id": "495ec933",
   "metadata": {},
   "outputs": [],
   "source": [
    "def scaling_nearest(img, size):                                # 크기 변경 함수\n",
    "    dst = np.zeros(size[::-1], img.dtype)               # 행렬과 크기는 원소가 역순\n",
    "    ratioY, ratioX = np.divide(size[::-1], img.shape[:2])\n",
    "    i = np.arange(0, size[1], 1)\n",
    "    j = np.arange(0, size[0], 1)\n",
    "    i, j = np.meshgrid(i, j)\n",
    "    y, x = np.int32(i / ratioY), np.int32(j / ratioX)\n",
    "    dst[i,j] = img[y,x]\n",
    "    return dst"
   ]
  },
  {
   "cell_type": "code",
   "execution_count": 3,
   "id": "09b5d785",
   "metadata": {},
   "outputs": [],
   "source": [
    "image = cv2.imread('images/interpolation.jpg', cv2.IMREAD_GRAYSCALE)\n",
    "if image is None: raise Exception(\"영상 파일을 읽기 에러\")"
   ]
  },
  {
   "cell_type": "code",
   "execution_count": 4,
   "id": "420ad065",
   "metadata": {},
   "outputs": [],
   "source": [
    "dst1 = scaling(image, (350, 400))                   # 크기 변경 - 기본\n",
    "dst2 = scaling_nearest(image, (350, 400))           # 크기 변경 - 최근접 이웃 보간"
   ]
  },
  {
   "cell_type": "code",
   "execution_count": 5,
   "id": "0f44acdc",
   "metadata": {},
   "outputs": [
    {
     "data": {
      "text/plain": [
       "106"
      ]
     },
     "execution_count": 5,
     "metadata": {},
     "output_type": "execute_result"
    }
   ],
   "source": [
    "cv2.imshow(\"image\", image)\n",
    "cv2.imshow(\"dst1- forward mapping\", dst1)          # 순방향 사상\n",
    "cv2.imshow(\"dst2- NN interpolation\", dst2)         # Nearest Neighbor interpolation\n",
    "cv2.waitKey(0)"
   ]
  },
  {
   "cell_type": "code",
   "execution_count": null,
   "id": "9f481bef",
   "metadata": {},
   "outputs": [],
   "source": []
  }
 ],
 "metadata": {
  "kernelspec": {
   "display_name": "Python 3 (ipykernel)",
   "language": "python",
   "name": "python3"
  },
  "language_info": {
   "codemirror_mode": {
    "name": "ipython",
    "version": 3
   },
   "file_extension": ".py",
   "mimetype": "text/x-python",
   "name": "python",
   "nbconvert_exporter": "python",
   "pygments_lexer": "ipython3",
   "version": "3.9.12"
  },
  "toc": {
   "base_numbering": 1,
   "nav_menu": {},
   "number_sections": true,
   "sideBar": true,
   "skip_h1_title": false,
   "title_cell": "Table of Contents",
   "title_sidebar": "Contents",
   "toc_cell": false,
   "toc_position": {},
   "toc_section_display": true,
   "toc_window_display": false
  },
  "varInspector": {
   "cols": {
    "lenName": 16,
    "lenType": 16,
    "lenVar": 40
   },
   "kernels_config": {
    "python": {
     "delete_cmd_postfix": "",
     "delete_cmd_prefix": "del ",
     "library": "var_list.py",
     "varRefreshCmd": "print(var_dic_list())"
    },
    "r": {
     "delete_cmd_postfix": ") ",
     "delete_cmd_prefix": "rm(",
     "library": "var_list.r",
     "varRefreshCmd": "cat(var_dic_list()) "
    }
   },
   "types_to_exclude": [
    "module",
    "function",
    "builtin_function_or_method",
    "instance",
    "_Feature"
   ],
   "window_display": false
  }
 },
 "nbformat": 4,
 "nbformat_minor": 5
}
