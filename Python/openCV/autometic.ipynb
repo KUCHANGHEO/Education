{
 "cells": [
  {
   "cell_type": "code",
   "execution_count": 1,
   "id": "cd5c6717",
   "metadata": {},
   "outputs": [],
   "source": [
    "import numpy as np, cv2"
   ]
  },
  {
   "cell_type": "code",
   "execution_count": 2,
   "id": "1bc667be",
   "metadata": {},
   "outputs": [],
   "source": [
    "m1 = np.full((3, 6), 10, np.uint8)\t\t\t# 단일 채널 생성 및 초기화\n",
    "m2 = np.full((3, 6), 50, np.uint8)"
   ]
  },
  {
   "cell_type": "code",
   "execution_count": 3,
   "id": "474f9ddc",
   "metadata": {},
   "outputs": [],
   "source": [
    "m_mask = np.zeros(m1.shape, np.uint8)\t\t# 마스크 생성\n",
    "m_mask[ :, 3: ] = 1\t\t\t\t\t\t\t# 관심 영역을 지정한 후, 1을 할당\n",
    "m_add1 = cv2.add(m1, m2)                    # 행렬 덧셈\n",
    "m_add2 = cv2.add(m1, m2, mask=m_mask)       # 관심 영역만 덧셈 수행"
   ]
  },
  {
   "cell_type": "code",
   "execution_count": 4,
   "id": "028d0963",
   "metadata": {},
   "outputs": [],
   "source": [
    "# 행렬 나눗셈 수행\n",
    "m_div1 = cv2.divide(m1, m2)\n",
    "m1 = m1.astype(np.float32)                  # 형변환 - 소수 부분 보존\n",
    "m2 = np.float32(m2)\n",
    "m_div2 = cv2.divide(m1, m2)"
   ]
  },
  {
   "cell_type": "code",
   "execution_count": 5,
   "id": "a107815b",
   "metadata": {},
   "outputs": [
    {
     "name": "stdout",
     "output_type": "stream",
     "text": [
      "[m1] = \n",
      "[[10. 10. 10. 10. 10. 10.]\n",
      " [10. 10. 10. 10. 10. 10.]\n",
      " [10. 10. 10. 10. 10. 10.]] \n",
      "\n",
      "[m2] = \n",
      "[[50. 50. 50. 50. 50. 50.]\n",
      " [50. 50. 50. 50. 50. 50.]\n",
      " [50. 50. 50. 50. 50. 50.]] \n",
      "\n",
      "[m_mask] = \n",
      "[[0 0 0 1 1 1]\n",
      " [0 0 0 1 1 1]\n",
      " [0 0 0 1 1 1]] \n",
      "\n",
      "[m_add1] = \n",
      "[[60 60 60 60 60 60]\n",
      " [60 60 60 60 60 60]\n",
      " [60 60 60 60 60 60]] \n",
      "\n",
      "[m_add2] = \n",
      "[[ 0  0  0 60 60 60]\n",
      " [ 0  0  0 60 60 60]\n",
      " [ 0  0  0 60 60 60]] \n",
      "\n",
      "[m_div1] = \n",
      "[[0 0 0 0 0 0]\n",
      " [0 0 0 0 0 0]\n",
      " [0 0 0 0 0 0]] \n",
      "\n",
      "[m_div2] = \n",
      "[[0.2 0.2 0.2 0.2 0.2 0.2]\n",
      " [0.2 0.2 0.2 0.2 0.2 0.2]\n",
      " [0.2 0.2 0.2 0.2 0.2 0.2]] \n",
      "\n"
     ]
    }
   ],
   "source": [
    "titles = ['m1', 'm2', 'm_mask','m_add1','m_add2','m_div1', 'm_div2']\n",
    "for title in titles:\n",
    "    print(\"[%s] = \\n%s \\n\" % (title, eval(title)))"
   ]
  },
  {
   "cell_type": "code",
   "execution_count": null,
   "id": "fad6861c",
   "metadata": {},
   "outputs": [],
   "source": []
  }
 ],
 "metadata": {
  "kernelspec": {
   "display_name": "Python 3 (ipykernel)",
   "language": "python",
   "name": "python3"
  },
  "language_info": {
   "codemirror_mode": {
    "name": "ipython",
    "version": 3
   },
   "file_extension": ".py",
   "mimetype": "text/x-python",
   "name": "python",
   "nbconvert_exporter": "python",
   "pygments_lexer": "ipython3",
   "version": "3.9.12"
  },
  "toc": {
   "base_numbering": 1,
   "nav_menu": {},
   "number_sections": true,
   "sideBar": true,
   "skip_h1_title": false,
   "title_cell": "Table of Contents",
   "title_sidebar": "Contents",
   "toc_cell": false,
   "toc_position": {},
   "toc_section_display": true,
   "toc_window_display": false
  },
  "varInspector": {
   "cols": {
    "lenName": 16,
    "lenType": 16,
    "lenVar": 40
   },
   "kernels_config": {
    "python": {
     "delete_cmd_postfix": "",
     "delete_cmd_prefix": "del ",
     "library": "var_list.py",
     "varRefreshCmd": "print(var_dic_list())"
    },
    "r": {
     "delete_cmd_postfix": ") ",
     "delete_cmd_prefix": "rm(",
     "library": "var_list.r",
     "varRefreshCmd": "cat(var_dic_list()) "
    }
   },
   "types_to_exclude": [
    "module",
    "function",
    "builtin_function_or_method",
    "instance",
    "_Feature"
   ],
   "window_display": false
  }
 },
 "nbformat": 4,
 "nbformat_minor": 5
}
