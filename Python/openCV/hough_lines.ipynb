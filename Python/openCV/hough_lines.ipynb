{
 "cells": [
  {
   "cell_type": "code",
   "execution_count": 1,
   "id": "61e7938a",
   "metadata": {},
   "outputs": [],
   "source": [
    "import numpy as np, cv2, math\n",
    "from Common.hough import accumulate, masking, select_lines"
   ]
  },
  {
   "cell_type": "code",
   "execution_count": 2,
   "id": "23b436b2",
   "metadata": {},
   "outputs": [],
   "source": [
    "def houghLines(src, rho, theta, thresh):\n",
    "    acc_mat = accumulate(src, rho, theta)  # 허프 누적 행렬 계산\n",
    "    acc_dst = masking(acc_mat, 7, 3, thresh)  # 마스킹 처리 7행,3열\n",
    "    lines = select_lines(acc_dst, rho, theta, thresh)  # 직선 가져오기\n",
    "    return lines"
   ]
  },
  {
   "cell_type": "code",
   "execution_count": 6,
   "id": "e4c03557",
   "metadata": {},
   "outputs": [],
   "source": [
    "def draw_houghLines(src, lines, nline):\n",
    "    dst = cv2.cvtColor(src, cv2.COLOR_GRAY2BGR)  # 컬러 영상 변환\n",
    "    min_length = min(len(lines), nline)\n",
    "\n",
    "    for i in range(min_length):\n",
    "        rho, radian = lines[i, 0, 0:2]  # 수직거리 , 각도 - 3차원 행렬임\n",
    "        a, b = math.cos(radian), math.sin(radian)\n",
    "        pt = (a * rho, b * rho)  # 검출 직선상의 한 좌표 계산\n",
    "        delta = (-1000 * b, 1000 * a)  # 직선상의 이동 위치\n",
    "        pt1 = np.add(pt, delta).astype('int')\n",
    "        pt2 = np.subtract(pt, delta).astype('int')\n",
    "        cv2.line(dst, tuple(pt1), tuple(pt2), (0, 255, 0), 2, cv2.LINE_AA)\n",
    "\n",
    "    return dst"
   ]
  },
  {
   "cell_type": "code",
   "execution_count": 7,
   "id": "6b6fcef0",
   "metadata": {},
   "outputs": [],
   "source": [
    "image = cv2.imread('images/hough.jpg', cv2.IMREAD_GRAYSCALE)\n",
    "if image is None: raise Exception(\"영상 파일 읽기 에러\")\n",
    "blur  = cv2.GaussianBlur(image, (5, 5), 2, 2)\n",
    "canny = cv2.Canny(blur, 100, 200, 5)"
   ]
  },
  {
   "cell_type": "code",
   "execution_count": 8,
   "id": "a0ba6f25",
   "metadata": {},
   "outputs": [],
   "source": [
    "rho, theta = 1,  np.pi / 180\n",
    "lines1 = houghLines(canny, rho, theta, 80)\n",
    "lines2 = cv2.HoughLines(canny, rho, theta, 80)\n",
    "dst1 = draw_houghLines(canny, lines1, 7)\n",
    "dst2 = draw_houghLines(canny, lines2, 7)"
   ]
  },
  {
   "cell_type": "code",
   "execution_count": 10,
   "id": "03e21235",
   "metadata": {},
   "outputs": [],
   "source": [
    "cv2.imshow(\"image\", image)\n",
    "cv2.imshow(\"canny\", canny)\n",
    "cv2.imshow(\"detected lines\", dst1)\n",
    "cv2.imshow(\"detected lines_OpenCV\", dst2)\n",
    "cv2.waitKey(0)\n",
    "cv2.destroyAllWindows()"
   ]
  },
  {
   "cell_type": "code",
   "execution_count": null,
   "id": "d25d4d6e",
   "metadata": {},
   "outputs": [],
   "source": []
  }
 ],
 "metadata": {
  "kernelspec": {
   "display_name": "Python 3 (ipykernel)",
   "language": "python",
   "name": "python3"
  },
  "language_info": {
   "codemirror_mode": {
    "name": "ipython",
    "version": 3
   },
   "file_extension": ".py",
   "mimetype": "text/x-python",
   "name": "python",
   "nbconvert_exporter": "python",
   "pygments_lexer": "ipython3",
   "version": "3.9.12"
  },
  "toc": {
   "base_numbering": 1,
   "nav_menu": {},
   "number_sections": true,
   "sideBar": true,
   "skip_h1_title": false,
   "title_cell": "Table of Contents",
   "title_sidebar": "Contents",
   "toc_cell": false,
   "toc_position": {},
   "toc_section_display": true,
   "toc_window_display": false
  },
  "varInspector": {
   "cols": {
    "lenName": 16,
    "lenType": 16,
    "lenVar": 40
   },
   "kernels_config": {
    "python": {
     "delete_cmd_postfix": "",
     "delete_cmd_prefix": "del ",
     "library": "var_list.py",
     "varRefreshCmd": "print(var_dic_list())"
    },
    "r": {
     "delete_cmd_postfix": ") ",
     "delete_cmd_prefix": "rm(",
     "library": "var_list.r",
     "varRefreshCmd": "cat(var_dic_list()) "
    }
   },
   "types_to_exclude": [
    "module",
    "function",
    "builtin_function_or_method",
    "instance",
    "_Feature"
   ],
   "window_display": false
  }
 },
 "nbformat": 4,
 "nbformat_minor": 5
}
