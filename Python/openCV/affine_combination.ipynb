{
 "cells": [
  {
   "cell_type": "code",
   "execution_count": 1,
   "id": "8ead91a0",
   "metadata": {},
   "outputs": [],
   "source": [
    "import numpy as np, math, cv2\n",
    "from Common.interpolation import affine_transform"
   ]
  },
  {
   "cell_type": "code",
   "execution_count": 2,
   "id": "ac235075",
   "metadata": {},
   "outputs": [],
   "source": [
    "def getAffineMat(center, degree, fx = 1, fy = 1, translate = (0,0)):\n",
    "    cen_trans = np.eye(3, dtype=np.float32)\n",
    "    org_trans = np.eye(3, dtype=np.float32)\n",
    "    scale_mat = np.eye(3, dtype=np.float32)         # 크기 변경 행렬\n",
    "    trans_mat = np.eye(3, dtype=np.float32)         # 평행 이동 행렬\n",
    "    rot_mat   = np.eye(3, dtype=np.float32)         # 회전 변환 행렬\n",
    "\n",
    "    radian = (degree/180.0) * np.pi                 # 회전 각도 - 라디언  계산\n",
    "    rot_mat[0] = [ np.cos(radian), np.sin(radian), 0]\n",
    "    rot_mat[1] = [-np.sin(radian), np.cos(radian), 0]\n",
    "\n",
    "    cen_trans[:2, 2] = center                       # 중심 좌표를 기준으로 회전\n",
    "    org_trans[:2, 2] = np.multiply(center[0], -1)   # 원점으로 이동\n",
    "    trans_mat[:2, 2] = translate                    # 평행 이동 행렬의 원소 지정\n",
    "    scale_mat[0, 0], scale_mat[1, 1] = fx, fy       # 크기 변경 행렬의 원소 지정\n",
    "\n",
    "    ret_mat = cen_trans.dot(rot_mat.dot(trans_mat.dot(scale_mat.dot(org_trans))))\n",
    "    # ret_mat = cen_trans.dot(rot_mat.dot(scale_mat.dot(trans_mat.dot(org_trans))))\n",
    "    return np.delete(ret_mat, 2, axis=0)            # 행 제거 ret_mat[0:2,:]"
   ]
  },
  {
   "cell_type": "code",
   "execution_count": 3,
   "id": "7eacbd13",
   "metadata": {},
   "outputs": [],
   "source": [
    "image = cv2.imread('images/affine2.jpg', cv2.IMREAD_GRAYSCALE)\n",
    "if image is None: raise Exception(\"영상 파일 읽기 에러\")"
   ]
  },
  {
   "cell_type": "code",
   "execution_count": 4,
   "id": "31ea79ea",
   "metadata": {},
   "outputs": [],
   "source": [
    "size = image.shape[::-1]\n",
    "center = np.divmod(size, 2)[0]                  # 회전 중심 좌표 - 크기는 행,열의 역순\n",
    "angle, tr = 45.0, (200, 0)                                      # 각도와 평행이동"
   ]
  },
  {
   "cell_type": "code",
   "execution_count": 5,
   "id": "4e57eaef",
   "metadata": {},
   "outputs": [],
   "source": [
    "aff_mat1 = getAffineMat(center, angle)                          # 중심 좌표 기준 회전\n",
    "aff_mat2 = getAffineMat((0,0), 0, 2.0, 1.5)                     # 크기 변경 - 확대\n",
    "aff_mat3 = getAffineMat(center, angle, 0.7, 0.7)                # 회전 및 축소\n",
    "aff_mat4 = getAffineMat(center, angle, 0.7, 0.7, tr)            # 복합 변환"
   ]
  },
  {
   "cell_type": "code",
   "execution_count": 6,
   "id": "e05e698f",
   "metadata": {},
   "outputs": [],
   "source": [
    "dst1 = cv2.warpAffine(image, aff_mat1, size)             # OpenCV 함수\n",
    "dst2 = cv2.warpAffine(image, aff_mat2, size)\n",
    "dst3 = affine_transform(image, aff_mat3)                        # 사용자 정의 함수\n",
    "dst4 = affine_transform(image, aff_mat4)"
   ]
  },
  {
   "cell_type": "code",
   "execution_count": 7,
   "id": "206b66ef",
   "metadata": {},
   "outputs": [],
   "source": [
    "cv2.imshow(\"image\", image)\n",
    "cv2.imshow(\"dst1_only_rotate\", dst1)\n",
    "cv2.imshow(\"dst2_only_scaling\", dst2)\n",
    "cv2.imshow(\"dst3_rotate_scaling\", dst3)\n",
    "cv2.imshow(\"dst4_rotate_scaling_translate\", dst4)\n",
    "cv2.waitKey(0)\n",
    "cv2.destroyAllWindows()"
   ]
  },
  {
   "cell_type": "code",
   "execution_count": null,
   "id": "6405de03",
   "metadata": {},
   "outputs": [],
   "source": []
  }
 ],
 "metadata": {
  "kernelspec": {
   "display_name": "Python 3 (ipykernel)",
   "language": "python",
   "name": "python3"
  },
  "language_info": {
   "codemirror_mode": {
    "name": "ipython",
    "version": 3
   },
   "file_extension": ".py",
   "mimetype": "text/x-python",
   "name": "python",
   "nbconvert_exporter": "python",
   "pygments_lexer": "ipython3",
   "version": "3.9.12"
  },
  "toc": {
   "base_numbering": 1,
   "nav_menu": {},
   "number_sections": true,
   "sideBar": true,
   "skip_h1_title": false,
   "title_cell": "Table of Contents",
   "title_sidebar": "Contents",
   "toc_cell": false,
   "toc_position": {},
   "toc_section_display": true,
   "toc_window_display": false
  },
  "varInspector": {
   "cols": {
    "lenName": 16,
    "lenType": 16,
    "lenVar": 40
   },
   "kernels_config": {
    "python": {
     "delete_cmd_postfix": "",
     "delete_cmd_prefix": "del ",
     "library": "var_list.py",
     "varRefreshCmd": "print(var_dic_list())"
    },
    "r": {
     "delete_cmd_postfix": ") ",
     "delete_cmd_prefix": "rm(",
     "library": "var_list.r",
     "varRefreshCmd": "cat(var_dic_list()) "
    }
   },
   "types_to_exclude": [
    "module",
    "function",
    "builtin_function_or_method",
    "instance",
    "_Feature"
   ],
   "window_display": false
  }
 },
 "nbformat": 4,
 "nbformat_minor": 5
}
