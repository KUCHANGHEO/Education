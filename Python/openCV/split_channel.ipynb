{
 "cells": [
  {
   "cell_type": "code",
   "execution_count": 2,
   "id": "f933e7ac",
   "metadata": {},
   "outputs": [],
   "source": [
    "import cv2"
   ]
  },
  {
   "cell_type": "code",
   "execution_count": 3,
   "id": "40e80b32",
   "metadata": {},
   "outputs": [],
   "source": [
    "image = cv2.imread( \"images/color.jpg\", cv2.IMREAD_COLOR)   # 영상 읽기"
   ]
  },
  {
   "cell_type": "code",
   "execution_count": 4,
   "id": "edba33d1",
   "metadata": {},
   "outputs": [],
   "source": [
    "if image is None: raise Exception(\"영상 파일 읽기 오류 발생\")  # 예외 처리\n",
    "if image.ndim != 3: raise Exception(\"컬러 영상 아님\")\n",
    "bgr = cv2.split(image)                      # 채널 분리: 컬러영상--> 3채널 분리"
   ]
  },
  {
   "cell_type": "code",
   "execution_count": 5,
   "id": "6c9267d8",
   "metadata": {},
   "outputs": [
    {
     "name": "stdout",
     "output_type": "stream",
     "text": [
      "bgr 자료형: <class 'tuple'> <class 'numpy.ndarray'> <class 'numpy.uint8'>\n",
      "bgr 원소개수: 3\n"
     ]
    }
   ],
   "source": [
    "# blue, green, red = cv2.split(image)\n",
    "print(\"bgr 자료형:\",  type(bgr), type(bgr[0]), type(bgr[0][0][0]))\n",
    "print(\"bgr 원소개수:\", len(bgr))"
   ]
  },
  {
   "cell_type": "code",
   "execution_count": 8,
   "id": "1a74b797",
   "metadata": {},
   "outputs": [],
   "source": [
    "# 각 채널을 윈도우에 띄우기\n",
    "cv2.imshow(\"image\", image)\n",
    "'''\n",
    "cv2.imshow(\"Blue channel\" , bgr[0])         # blue 채널\n",
    "cv2.imshow(\"Green channel\", bgr[1])         # green 채널\n",
    "cv2.imshow(\"Red channel\"  , bgr[2])         # red 채널\n",
    "'''\n",
    "cv2.imshow(\"Blue channel\" , image[:,:,0])         \t# 넘파이 객체 인덱싱\n",
    "cv2.imshow(\"Green channel\", image[:,:,1])\n",
    "cv2.imshow(\"Red channel\"  , image[:,:,2])\n",
    "cv2.waitKey()\n",
    "cv2.destroyAllWindows()"
   ]
  }
 ],
 "metadata": {
  "kernelspec": {
   "display_name": "Python 3 (ipykernel)",
   "language": "python",
   "name": "python3"
  },
  "language_info": {
   "codemirror_mode": {
    "name": "ipython",
    "version": 3
   },
   "file_extension": ".py",
   "mimetype": "text/x-python",
   "name": "python",
   "nbconvert_exporter": "python",
   "pygments_lexer": "ipython3",
   "version": "3.9.12"
  },
  "toc": {
   "base_numbering": 1,
   "nav_menu": {},
   "number_sections": true,
   "sideBar": true,
   "skip_h1_title": false,
   "title_cell": "Table of Contents",
   "title_sidebar": "Contents",
   "toc_cell": false,
   "toc_position": {},
   "toc_section_display": true,
   "toc_window_display": false
  },
  "varInspector": {
   "cols": {
    "lenName": 16,
    "lenType": 16,
    "lenVar": 40
   },
   "kernels_config": {
    "python": {
     "delete_cmd_postfix": "",
     "delete_cmd_prefix": "del ",
     "library": "var_list.py",
     "varRefreshCmd": "print(var_dic_list())"
    },
    "r": {
     "delete_cmd_postfix": ") ",
     "delete_cmd_prefix": "rm(",
     "library": "var_list.r",
     "varRefreshCmd": "cat(var_dic_list()) "
    }
   },
   "types_to_exclude": [
    "module",
    "function",
    "builtin_function_or_method",
    "instance",
    "_Feature"
   ],
   "window_display": false
  }
 },
 "nbformat": 4,
 "nbformat_minor": 5
}
