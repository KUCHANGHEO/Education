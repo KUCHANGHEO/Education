{
 "cells": [
  {
   "cell_type": "code",
   "execution_count": 16,
   "id": "55838100",
   "metadata": {},
   "outputs": [],
   "source": [
    "import pandas as pd\n",
    "import numpy as np"
   ]
  },
  {
   "cell_type": "code",
   "execution_count": 17,
   "id": "9d3e1ec0",
   "metadata": {},
   "outputs": [
    {
     "name": "stdout",
     "output_type": "stream",
     "text": [
      "     admit    gre   gpa  rank\n",
      "0        0  380.0  3.21     3\n",
      "1        1  660.0  3.67     3\n",
      "2        1  800.0  4.00     1\n",
      "3        1  640.0  3.19     4\n",
      "4        0  520.0  2.33     4\n",
      "..     ...    ...   ...   ...\n",
      "421      1  750.0  3.44     4\n",
      "422      1  710.0  3.66     4\n",
      "423      0  450.0  3.25     4\n",
      "424      1  760.0  3.76     2\n",
      "425      1  710.0  3.82     3\n",
      "\n",
      "[426 rows x 4 columns]\n"
     ]
    }
   ],
   "source": [
    "data = pd.read_csv('./gpascore.csv')\n",
    "print(data)"
   ]
  },
  {
   "cell_type": "markdown",
   "id": "90e48117",
   "metadata": {},
   "source": [
    "# 결측데이터 전처리"
   ]
  },
  {
   "cell_type": "code",
   "execution_count": 18,
   "id": "56659fc3",
   "metadata": {},
   "outputs": [
    {
     "data": {
      "text/plain": [
       "admit    0\n",
       "gre      1\n",
       "gpa      0\n",
       "rank     0\n",
       "dtype: int64"
      ]
     },
     "execution_count": 18,
     "metadata": {},
     "output_type": "execute_result"
    }
   ],
   "source": [
    "data.isnull().sum()"
   ]
  },
  {
   "cell_type": "code",
   "execution_count": 19,
   "id": "e1723ee2",
   "metadata": {},
   "outputs": [
    {
     "name": "stdout",
     "output_type": "stream",
     "text": [
      "     admit    gre   gpa  rank\n",
      "0        0  380.0  3.21     3\n",
      "1        1  660.0  3.67     3\n",
      "2        1  800.0  4.00     1\n",
      "3        1  640.0  3.19     4\n",
      "4        0  520.0  2.33     4\n",
      "..     ...    ...   ...   ...\n",
      "421      1  750.0  3.44     4\n",
      "422      1  710.0  3.66     4\n",
      "423      0  450.0  3.25     4\n",
      "424      1  760.0  3.76     2\n",
      "425      1  710.0  3.82     3\n",
      "\n",
      "[425 rows x 4 columns]\n"
     ]
    }
   ],
   "source": [
    "data2 = data.dropna()\n",
    "print(data2)"
   ]
  },
  {
   "cell_type": "code",
   "execution_count": 20,
   "id": "65eddc53",
   "metadata": {},
   "outputs": [
    {
     "data": {
      "text/plain": [
       "0      0\n",
       "1      1\n",
       "2      1\n",
       "3      1\n",
       "4      0\n",
       "      ..\n",
       "421    1\n",
       "422    1\n",
       "423    0\n",
       "424    1\n",
       "425    1\n",
       "Name: admit, Length: 425, dtype: int64"
      ]
     },
     "execution_count": 20,
     "metadata": {},
     "output_type": "execute_result"
    }
   ],
   "source": [
    "Y_data = data2['admit']\n",
    "Y_data"
   ]
  },
  {
   "cell_type": "code",
   "execution_count": 22,
   "id": "af4b754b",
   "metadata": {},
   "outputs": [
    {
     "name": "stdout",
     "output_type": "stream",
     "text": [
      "       gre   gpa  rank\n",
      "0    380.0  3.21     3\n",
      "1    660.0  3.67     3\n",
      "2    800.0  4.00     1\n",
      "3    640.0  3.19     4\n",
      "4    520.0  2.33     4\n",
      "..     ...   ...   ...\n",
      "421  750.0  3.44     4\n",
      "422  710.0  3.66     4\n",
      "423  450.0  3.25     4\n",
      "424  760.0  3.76     2\n",
      "425  710.0  3.82     3\n",
      "\n",
      "[425 rows x 3 columns]\n"
     ]
    }
   ],
   "source": [
    "X_data = data2.drop(['admit'], axis = 1)\n",
    "print(X_data)"
   ]
  },
  {
   "cell_type": "code",
   "execution_count": 2,
   "id": "f5d4d50a",
   "metadata": {},
   "outputs": [],
   "source": [
    "import tensorflow as tf\n",
    "from tensorflow.keras.models import Sequential\n",
    "from tensorflow.keras.layers import Dense"
   ]
  },
  {
   "cell_type": "code",
   "execution_count": 11,
   "id": "3a1533e9",
   "metadata": {},
   "outputs": [],
   "source": [
    "del model"
   ]
  },
  {
   "cell_type": "code",
   "execution_count": 12,
   "id": "32e76ce1",
   "metadata": {},
   "outputs": [],
   "source": [
    "model = Sequential()"
   ]
  },
  {
   "cell_type": "code",
   "execution_count": 13,
   "id": "751eadcd",
   "metadata": {},
   "outputs": [],
   "source": [
    "model.add(Dense(64, input_dim = 3, activation = 'relu'))\n",
    "model.add(Dense(128, activation = 'relu'))\n",
    "model.add(Dense(1, activation = 'sigmoid'))"
   ]
  },
  {
   "cell_type": "code",
   "execution_count": 14,
   "id": "79073c24",
   "metadata": {},
   "outputs": [
    {
     "name": "stdout",
     "output_type": "stream",
     "text": [
      "Model: \"sequential_2\"\n",
      "_________________________________________________________________\n",
      " Layer (type)                Output Shape              Param #   \n",
      "=================================================================\n",
      " dense_9 (Dense)             (None, 64)                256       \n",
      "                                                                 \n",
      " dense_10 (Dense)            (None, 128)               8320      \n",
      "                                                                 \n",
      " dense_11 (Dense)            (None, 1)                 129       \n",
      "                                                                 \n",
      "=================================================================\n",
      "Total params: 8,705\n",
      "Trainable params: 8,705\n",
      "Non-trainable params: 0\n",
      "_________________________________________________________________\n"
     ]
    }
   ],
   "source": [
    "model.summary()"
   ]
  },
  {
   "cell_type": "code",
   "execution_count": 15,
   "id": "9a7fdbd9",
   "metadata": {},
   "outputs": [],
   "source": [
    "model.compile(optimizer = 'adam', loss = 'binary_crossentropy', metrics = 'accuracy')"
   ]
  },
  {
   "cell_type": "code",
   "execution_count": 23,
   "id": "94421571",
   "metadata": {},
   "outputs": [
    {
     "name": "stdout",
     "output_type": "stream",
     "text": [
      "Epoch 1/10\n",
      "43/43 [==============================] - 0s 933us/step - loss: 6.1353 - accuracy: 0.5082\n",
      "Epoch 2/10\n",
      "43/43 [==============================] - 0s 641us/step - loss: 1.1125 - accuracy: 0.4988\n",
      "Epoch 3/10\n",
      "43/43 [==============================] - 0s 816us/step - loss: 0.8084 - accuracy: 0.5012\n",
      "Epoch 4/10\n",
      "43/43 [==============================] - 0s 689us/step - loss: 0.9197 - accuracy: 0.5412\n",
      "Epoch 5/10\n",
      "43/43 [==============================] - 0s 902us/step - loss: 1.3336 - accuracy: 0.4518\n",
      "Epoch 6/10\n",
      "43/43 [==============================] - 0s 784us/step - loss: 0.8396 - accuracy: 0.4800\n",
      "Epoch 7/10\n",
      "43/43 [==============================] - 0s 714us/step - loss: 0.8461 - accuracy: 0.5506\n",
      "Epoch 8/10\n",
      "43/43 [==============================] - 0s 784us/step - loss: 0.8277 - accuracy: 0.5129\n",
      "Epoch 9/10\n",
      "43/43 [==============================] - 0s 692us/step - loss: 0.9328 - accuracy: 0.4588\n",
      "Epoch 10/10\n",
      "43/43 [==============================] - 0s 689us/step - loss: 1.2348 - accuracy: 0.4824\n"
     ]
    },
    {
     "data": {
      "text/plain": [
       "<keras.callbacks.History at 0x2ae5ad90bb0>"
      ]
     },
     "execution_count": 23,
     "metadata": {},
     "output_type": "execute_result"
    }
   ],
   "source": [
    "model.fit(np.array(X_data), np.array(Y_data), epochs = 10 , batch_size = 10)"
   ]
  },
  {
   "cell_type": "code",
   "execution_count": 25,
   "id": "034e490f",
   "metadata": {},
   "outputs": [],
   "source": [
    "import cv2"
   ]
  },
  {
   "cell_type": "code",
   "execution_count": 27,
   "id": "a5c1db57",
   "metadata": {},
   "outputs": [
    {
     "data": {
      "text/plain": [
       "'4.5.5'"
      ]
     },
     "execution_count": 27,
     "metadata": {},
     "output_type": "execute_result"
    }
   ],
   "source": [
    "cv2.__version__"
   ]
  },
  {
   "cell_type": "code",
   "execution_count": null,
   "id": "c1a7b6c2",
   "metadata": {},
   "outputs": [],
   "source": []
  }
 ],
 "metadata": {
  "kernelspec": {
   "display_name": "Python 3 (ipykernel)",
   "language": "python",
   "name": "python3"
  },
  "language_info": {
   "codemirror_mode": {
    "name": "ipython",
    "version": 3
   },
   "file_extension": ".py",
   "mimetype": "text/x-python",
   "name": "python",
   "nbconvert_exporter": "python",
   "pygments_lexer": "ipython3",
   "version": "3.9.12"
  },
  "toc": {
   "base_numbering": 1,
   "nav_menu": {},
   "number_sections": true,
   "sideBar": true,
   "skip_h1_title": false,
   "title_cell": "Table of Contents",
   "title_sidebar": "Contents",
   "toc_cell": false,
   "toc_position": {},
   "toc_section_display": true,
   "toc_window_display": false
  },
  "varInspector": {
   "cols": {
    "lenName": 16,
    "lenType": 16,
    "lenVar": 40
   },
   "kernels_config": {
    "python": {
     "delete_cmd_postfix": "",
     "delete_cmd_prefix": "del ",
     "library": "var_list.py",
     "varRefreshCmd": "print(var_dic_list())"
    },
    "r": {
     "delete_cmd_postfix": ") ",
     "delete_cmd_prefix": "rm(",
     "library": "var_list.r",
     "varRefreshCmd": "cat(var_dic_list()) "
    }
   },
   "types_to_exclude": [
    "module",
    "function",
    "builtin_function_or_method",
    "instance",
    "_Feature"
   ],
   "window_display": false
  }
 },
 "nbformat": 4,
 "nbformat_minor": 5
}
