{
 "cells": [
  {
   "cell_type": "code",
   "execution_count": 1,
   "id": "f48a1d23",
   "metadata": {},
   "outputs": [],
   "source": [
    "# ImageDataGenerator를 이용해서 Cats and Dogs binary classification\n",
    "# 문제를 해결해 보아요!\n",
    "\n",
    "import numpy as np\n",
    "from tensorflow.keras.models import Sequential\n",
    "from tensorflow.keras.layers import Conv2D, MaxPooling2D, GlobalAveragePooling2D\n",
    "from tensorflow.keras.layers import Flatten, Dense\n",
    "from tensorflow.keras.optimizers import Adam  # 평균적으로 높은 효율을 내는 알고리즘\n",
    "from tensorflow.keras.preprocessing.image import ImageDataGenerator"
   ]
  },
  {
   "cell_type": "code",
   "execution_count": 2,
   "id": "127a883a",
   "metadata": {},
   "outputs": [],
   "source": [
    "# ImageDataGenerator 객체 생성\n",
    "Train_Datagen =  ImageDataGenerator(rescale=1/255)\n",
    "Test_Datagen =  ImageDataGenerator(rescale=1/255)"
   ]
  },
  {
   "cell_type": "code",
   "execution_count": 3,
   "id": "8cf82527",
   "metadata": {},
   "outputs": [],
   "source": [
    "train_dir = './cats_and_dogs/train'\n",
    "test_dir = './cats_and_dogs/test'"
   ]
  },
  {
   "cell_type": "code",
   "execution_count": 4,
   "id": "72a22c5e",
   "metadata": {},
   "outputs": [
    {
     "name": "stdout",
     "output_type": "stream",
     "text": [
      "Found 2000 images belonging to 2 classes.\n",
      "Found 1000 images belonging to 2 classes.\n"
     ]
    }
   ],
   "source": [
    "# ImageDataGenerator  설정\n",
    "\n",
    "train_generator = Train_Datagen.flow_from_directory(\n",
    "    train_dir,   # 학습용 이미지를 가져올 폴더\n",
    "    classes=['cats', 'dogs'],  # cats 포더의 이미지 label을 0으로\n",
    "                               #dogs 폴의 이미지는 label을 1로 설정\n",
    "    target_size=(150, 150),    #이미지 resize\n",
    "    batch_size=20,             #한번에 20개의 이미지만 가져와서 학습\n",
    "    class_mode='binary'        #이진분류인 경우 설정\n",
    ")\n",
    "\n",
    "test_generator = Test_Datagen.flow_from_directory(\n",
    "    test_dir,   # 학습용 이미지를 가져올 폴더\n",
    "    classes=['cats', 'dogs'],  # cats 포더의 이미지 label을 0으로\n",
    "                               #dogs 폴의 이미지는 label을 1로 설정\n",
    "    target_size=(150, 150),    #이미지 resize\n",
    "    batch_size=20,             #한번에 20개의 이미지만 가져와서 학습\n",
    "    class_mode='binary'        #이진분류인 경우 설정\n",
    ")"
   ]
  },
  {
   "cell_type": "code",
   "execution_count": 5,
   "id": "834e325e",
   "metadata": {
    "run_control": {
     "marked": false
    }
   },
   "outputs": [
    {
     "name": "stdout",
     "output_type": "stream",
     "text": [
      "Model: \"vgg16\"\n",
      "_________________________________________________________________\n",
      "Layer (type)                 Output Shape              Param #   \n",
      "=================================================================\n",
      "input_1 (InputLayer)         [(None, 150, 150, 3)]     0         \n",
      "_________________________________________________________________\n",
      "block1_conv1 (Conv2D)        (None, 150, 150, 64)      1792      \n",
      "_________________________________________________________________\n",
      "block1_conv2 (Conv2D)        (None, 150, 150, 64)      36928     \n",
      "_________________________________________________________________\n",
      "block1_pool (MaxPooling2D)   (None, 75, 75, 64)        0         \n",
      "_________________________________________________________________\n",
      "block2_conv1 (Conv2D)        (None, 75, 75, 128)       73856     \n",
      "_________________________________________________________________\n",
      "block2_conv2 (Conv2D)        (None, 75, 75, 128)       147584    \n",
      "_________________________________________________________________\n",
      "block2_pool (MaxPooling2D)   (None, 37, 37, 128)       0         \n",
      "_________________________________________________________________\n",
      "block3_conv1 (Conv2D)        (None, 37, 37, 256)       295168    \n",
      "_________________________________________________________________\n",
      "block3_conv2 (Conv2D)        (None, 37, 37, 256)       590080    \n",
      "_________________________________________________________________\n",
      "block3_conv3 (Conv2D)        (None, 37, 37, 256)       590080    \n",
      "_________________________________________________________________\n",
      "block3_pool (MaxPooling2D)   (None, 18, 18, 256)       0         \n",
      "_________________________________________________________________\n",
      "block4_conv1 (Conv2D)        (None, 18, 18, 512)       1180160   \n",
      "_________________________________________________________________\n",
      "block4_conv2 (Conv2D)        (None, 18, 18, 512)       2359808   \n",
      "_________________________________________________________________\n",
      "block4_conv3 (Conv2D)        (None, 18, 18, 512)       2359808   \n",
      "_________________________________________________________________\n",
      "block4_pool (MaxPooling2D)   (None, 9, 9, 512)         0         \n",
      "_________________________________________________________________\n",
      "block5_conv1 (Conv2D)        (None, 9, 9, 512)         2359808   \n",
      "_________________________________________________________________\n",
      "block5_conv2 (Conv2D)        (None, 9, 9, 512)         2359808   \n",
      "_________________________________________________________________\n",
      "block5_conv3 (Conv2D)        (None, 9, 9, 512)         2359808   \n",
      "_________________________________________________________________\n",
      "block5_pool (MaxPooling2D)   (None, 4, 4, 512)         0         \n",
      "=================================================================\n",
      "Total params: 14,714,688\n",
      "Trainable params: 14,714,688\n",
      "Non-trainable params: 0\n",
      "_________________________________________________________________\n",
      "None\n"
     ]
    }
   ],
   "source": [
    "## 전이학습에 대해서 알아보아요!!\n",
    "## 사용하는 기학습된 네트워크(Pretrained Network)는\n",
    "## VGG16을 이용해 보아요!\n",
    "\n",
    "from tensorflow.keras.applications import VGG16\n",
    "\n",
    "model_base = VGG16(weights='imagenet',\n",
    "                   include_top=False,    # classification 제외!\n",
    "                   input_shape=(150,150,3))\n",
    "\n",
    "print(model_base.summary())"
   ]
  },
  {
   "cell_type": "code",
   "execution_count": 6,
   "id": "c75c6500",
   "metadata": {},
   "outputs": [],
   "source": [
    "# CNN Model 구현\n",
    "model = Sequential()\n",
    "\n",
    "model.add(model_base)\n",
    "\n",
    "model.add(Flatten())    # 전체 데이터를 4차원에서 2차원으로 변경\n",
    "\n",
    "model.add(Dense(256, activation= 'relu'))\n",
    "\n",
    "# output layer\n",
    "model.add(Dense(units=1,\n",
    "                activation='sigmoid'))"
   ]
  },
  {
   "cell_type": "code",
   "execution_count": 7,
   "id": "e96747cf",
   "metadata": {},
   "outputs": [
    {
     "name": "stdout",
     "output_type": "stream",
     "text": [
      "before freeze, len of trainable_weights 30\n",
      "after  freeze, len of trainable_weights 30\n"
     ]
    }
   ],
   "source": [
    "print('before freeze, len of trainable_weights', len(model.trainable_weights))\n",
    "model_base.trainable = True\n",
    "print('after  freeze, len of trainable_weights', len(model.trainable_weights))"
   ]
  },
  {
   "cell_type": "code",
   "execution_count": 8,
   "id": "f0559150",
   "metadata": {},
   "outputs": [
    {
     "name": "stdout",
     "output_type": "stream",
     "text": [
      "<keras.engine.input_layer.InputLayer object at 0x00000232645E8F70> False\n",
      "<keras.layers.convolutional.Conv2D object at 0x000002326FA8E3A0> False\n",
      "<keras.layers.convolutional.Conv2D object at 0x000002326FA8E9A0> False\n",
      "<keras.layers.pooling.MaxPooling2D object at 0x00000232030EFD00> False\n",
      "<keras.layers.convolutional.Conv2D object at 0x00000232030EF310> False\n",
      "<keras.layers.convolutional.Conv2D object at 0x00000232030F8CA0> False\n",
      "<keras.layers.pooling.MaxPooling2D object at 0x000002320310D730> False\n",
      "<keras.layers.convolutional.Conv2D object at 0x000002320310D3D0> False\n",
      "<keras.layers.convolutional.Conv2D object at 0x00000232032802E0> False\n",
      "<keras.layers.convolutional.Conv2D object at 0x0000023203280430> True\n",
      "<keras.layers.pooling.MaxPooling2D object at 0x00000232030F7AC0> True\n",
      "<keras.layers.convolutional.Conv2D object at 0x0000023203280F70> True\n",
      "<keras.layers.convolutional.Conv2D object at 0x0000023203295EE0> True\n",
      "<keras.layers.convolutional.Conv2D object at 0x000002320328F250> True\n",
      "<keras.layers.pooling.MaxPooling2D object at 0x00000232032A64F0> True\n",
      "<keras.layers.convolutional.Conv2D object at 0x0000023203295B20> True\n",
      "<keras.layers.convolutional.Conv2D object at 0x00000232032B3A60> True\n",
      "<keras.layers.convolutional.Conv2D object at 0x00000232032BAB20> True\n",
      "<keras.layers.pooling.MaxPooling2D object at 0x00000232030F79A0> True\n"
     ]
    }
   ],
   "source": [
    "for layer in model_base.layers[:-10]:\n",
    "    layer.trainable = False\n",
    "\n",
    "for layer in model_base.layers:\n",
    "    print(layer, layer.trainable)"
   ]
  },
  {
   "cell_type": "code",
   "execution_count": 9,
   "id": "7adb3411",
   "metadata": {},
   "outputs": [],
   "source": [
    "# print(model.summary())\n",
    "# model이 어떻게 동작하는지를 지정\n",
    "model.compile(optimizer=Adam(learning_rate=0.0001),\n",
    "              loss='binary_crossentropy',\n",
    "              metrics=['accuracy'])"
   ]
  },
  {
   "cell_type": "code",
   "execution_count": 10,
   "id": "3b964e56",
   "metadata": {},
   "outputs": [
    {
     "name": "stdout",
     "output_type": "stream",
     "text": [
      "Model: \"vgg16\"\n",
      "_________________________________________________________________\n",
      "Layer (type)                 Output Shape              Param #   \n",
      "=================================================================\n",
      "input_1 (InputLayer)         [(None, 150, 150, 3)]     0         \n",
      "_________________________________________________________________\n",
      "block1_conv1 (Conv2D)        (None, 150, 150, 64)      1792      \n",
      "_________________________________________________________________\n",
      "block1_conv2 (Conv2D)        (None, 150, 150, 64)      36928     \n",
      "_________________________________________________________________\n",
      "block1_pool (MaxPooling2D)   (None, 75, 75, 64)        0         \n",
      "_________________________________________________________________\n",
      "block2_conv1 (Conv2D)        (None, 75, 75, 128)       73856     \n",
      "_________________________________________________________________\n",
      "block2_conv2 (Conv2D)        (None, 75, 75, 128)       147584    \n",
      "_________________________________________________________________\n",
      "block2_pool (MaxPooling2D)   (None, 37, 37, 128)       0         \n",
      "_________________________________________________________________\n",
      "block3_conv1 (Conv2D)        (None, 37, 37, 256)       295168    \n",
      "_________________________________________________________________\n",
      "block3_conv2 (Conv2D)        (None, 37, 37, 256)       590080    \n",
      "_________________________________________________________________\n",
      "block3_conv3 (Conv2D)        (None, 37, 37, 256)       590080    \n",
      "_________________________________________________________________\n",
      "block3_pool (MaxPooling2D)   (None, 18, 18, 256)       0         \n",
      "_________________________________________________________________\n",
      "block4_conv1 (Conv2D)        (None, 18, 18, 512)       1180160   \n",
      "_________________________________________________________________\n",
      "block4_conv2 (Conv2D)        (None, 18, 18, 512)       2359808   \n",
      "_________________________________________________________________\n",
      "block4_conv3 (Conv2D)        (None, 18, 18, 512)       2359808   \n",
      "_________________________________________________________________\n",
      "block4_pool (MaxPooling2D)   (None, 9, 9, 512)         0         \n",
      "_________________________________________________________________\n",
      "block5_conv1 (Conv2D)        (None, 9, 9, 512)         2359808   \n",
      "_________________________________________________________________\n",
      "block5_conv2 (Conv2D)        (None, 9, 9, 512)         2359808   \n",
      "_________________________________________________________________\n",
      "block5_conv3 (Conv2D)        (None, 9, 9, 512)         2359808   \n",
      "_________________________________________________________________\n",
      "block5_pool (MaxPooling2D)   (None, 4, 4, 512)         0         \n",
      "=================================================================\n",
      "Total params: 14,714,688\n",
      "Trainable params: 13,569,280\n",
      "Non-trainable params: 1,145,408\n",
      "_________________________________________________________________\n",
      "None\n"
     ]
    }
   ],
   "source": [
    "print(model_base.summary())"
   ]
  },
  {
   "cell_type": "code",
   "execution_count": 11,
   "id": "a4d2373f",
   "metadata": {},
   "outputs": [
    {
     "name": "stdout",
     "output_type": "stream",
     "text": [
      "Model: \"sequential\"\n",
      "_________________________________________________________________\n",
      "Layer (type)                 Output Shape              Param #   \n",
      "=================================================================\n",
      "vgg16 (Functional)           (None, 4, 4, 512)         14714688  \n",
      "_________________________________________________________________\n",
      "flatten (Flatten)            (None, 8192)              0         \n",
      "_________________________________________________________________\n",
      "dense (Dense)                (None, 256)               2097408   \n",
      "_________________________________________________________________\n",
      "dense_1 (Dense)              (None, 1)                 257       \n",
      "=================================================================\n",
      "Total params: 16,812,353\n",
      "Trainable params: 15,666,945\n",
      "Non-trainable params: 1,145,408\n",
      "_________________________________________________________________\n",
      "None\n"
     ]
    }
   ],
   "source": [
    "print(model.summary())"
   ]
  },
  {
   "cell_type": "code",
   "execution_count": 12,
   "id": "0d295cb6",
   "metadata": {},
   "outputs": [
    {
     "name": "stdout",
     "output_type": "stream",
     "text": [
      "Epoch 1/30\n",
      "100/100 [==============================] - 32s 244ms/step - loss: 0.5276 - accuracy: 0.7310 - val_loss: 0.3813 - val_accuracy: 0.8260\n",
      "Epoch 2/30\n",
      "100/100 [==============================] - 24s 243ms/step - loss: 0.2661 - accuracy: 0.8890 - val_loss: 0.2538 - val_accuracy: 0.9030\n",
      "Epoch 3/30\n",
      "100/100 [==============================] - 24s 244ms/step - loss: 0.1590 - accuracy: 0.9390 - val_loss: 0.3144 - val_accuracy: 0.89204s - - ETA: 4s - loss: 0.1715 - accu - ETA: 3s - loss: 0.1731 - accuracy: 0.93 - ETA: 3s - loss: 0.1735 -  - ETA: 2s - loss: 0\n",
      "Epoch 4/30\n",
      "100/100 [==============================] - 24s 244ms/step - loss: 0.0951 - accuracy: 0.9690 - val_loss: 0.2800 - val_accuracy: 0.9020\n",
      "Epoch 5/30\n",
      "100/100 [==============================] - 24s 244ms/step - loss: 0.0570 - accuracy: 0.9830 - val_loss: 0.2931 - val_accuracy: 0.8880 0.0574 - accuracy: 0.\n",
      "Epoch 6/30\n",
      "100/100 [==============================] - 24s 244ms/step - loss: 0.0450 - accuracy: 0.9815 - val_loss: 0.3399 - val_accuracy: 0.8940\n",
      "Epoch 7/30\n",
      "100/100 [==============================] - 25s 246ms/step - loss: 0.0237 - accuracy: 0.9925 - val_loss: 0.3987 - val_accuracy: 0.9070\n",
      "Epoch 8/30\n",
      "100/100 [==============================] - 25s 246ms/step - loss: 0.0140 - accuracy: 0.9960 - val_loss: 0.4106 - val_accuracy: 0.9060\n",
      "Epoch 9/30\n",
      "100/100 [==============================] - 25s 246ms/step - loss: 4.4649e-04 - accuracy: 1.0000 - val_loss: 0.4539 - val_accuracy: 0.9050\n",
      "Epoch 10/30\n",
      "100/100 [==============================] - 25s 246ms/step - loss: 6.2268e-05 - accuracy: 1.0000 - val_loss: 0.4696 - val_accuracy: 0.9090e-05 - accuracy: 1.\n",
      "Epoch 11/30\n",
      "100/100 [==============================] - 25s 246ms/step - loss: 2.4459e-05 - accuracy: 1.0000 - val_loss: 0.4791 - val_accuracy: 0.908014s - loss: 2.8557e-05 - - ETA: 1s - loss: 2.4808e-05 - ac\n",
      "Epoch 12/30\n",
      "100/100 [==============================] - 25s 246ms/step - loss: 1.7110e-05 - accuracy: 1.0000 - val_loss: 0.4898 - val_accuracy: 0.9090\n",
      "Epoch 13/30\n",
      "100/100 [==============================] - 25s 246ms/step - loss: 1.2885e-05 - accuracy: 1.0000 - val_loss: 0.5005 - val_accuracy: 0.9090s - loss: 1.2547e-05 - accuracy: 1.00 - ETA: 3s - loss: 1.3044e-05 - accu - ETA: 1s - loss: 1.2993e\n",
      "Epoch 14/30\n",
      "100/100 [==============================] - 25s 246ms/step - loss: 1.0089e-05 - accuracy: 1.0000 - val_loss: 0.5107 - val_accuracy: 0.90905s - loss: 8.9824e-06 - accuracy: 1.00 - ETA: 15s - loss: 1.0359e-05 - accuracy: 1. - ETA: 14s - loss: 1.0525e-05 - accuracy: 1. - ETA: 13s - los - ETA: 8s - loss: 1.0129e-05 - accuracy: 1.00 - ETA: 8s - loss: 9.9452e-06 - accuracy:  - ETA: 8s\n",
      "Epoch 15/30\n",
      "100/100 [==============================] - 25s 246ms/step - loss: 8.0847e-06 - accuracy: 1.0000 - val_loss: 0.5197 - val_accuracy: 0.9100ETA: 16s - loss: 8.7933e - ETA: 6s - loss: 8.3615e-06 - accuracy: 1. - ETA: 6s - loss: 8.3745e-06 - accuracy - ETA: 5s - los - ETA: 2s - loss: 8.1575e-06 - accuracy: 1.00 - ETA: 2s - loss: 8.0698e-06 - accuracy: 1.00 - ETA: 1s - loss: 8.0692e-06 - accuracy:  - ETA: 1s - loss: 8.2364e-06 - \n",
      "Epoch 16/30\n",
      "100/100 [==============================] - 25s 246ms/step - loss: 6.5861e-06 - accuracy: 1.0000 - val_loss: 0.5295 - val_accuracy: 0.91009268e-06 - acc - ETA: 0s - loss: 6.6256e-06 - accuracy: 1.\n",
      "Epoch 17/30\n",
      "100/100 [==============================] - 25s 246ms/step - loss: 5.4290e-06 - accuracy: 1.0000 - val_loss: 0.5388 - val_accuracy: 0.9110curacy - ETA: 2s - loss: 5.6\n",
      "Epoch 18/30\n",
      "100/100 [==============================] - 25s 246ms/step - loss: 4.5254e-06 - accuracy: 1.0000 - val_loss: 0.5475 - val_accuracy: 0.9100A: 17s - los - ETA: 11s - loss: 4.9417e-06 - accuracy:  - ETA: 10s - loss: 4.86 - ETA: 7s - loss: 4.2182e-06 - accuracy: 1.00 - ETA: 7s - loss: 4.1770e-06 - accuracy:  - ETA: 6s - loss: 4.2271e-06 - accuracy:  - ETA: 6s - loss: 4.3828e-06 - accuracy: 1. - ETA: 5s - loss: 4.4589e - ETA: 3s - loss: 4.6081e-06 -  - ETA: 2s - loss: 4.4540e-06 - accuracy:  - ETA: 1s - loss: 4.6613e-06 -  - ETA: 0s - loss: 4.5297e-06 - accuracy: 1.\n",
      "Epoch 19/30\n",
      "100/100 [==============================] - 25s 246ms/step - loss: 3.8241e-06 - accuracy: 1.0000 - val_loss: 0.5559 - val_accuracy: 0.910006 - accuracy\n",
      "Epoch 20/30\n",
      "100/100 [==============================] - 25s 246ms/step - loss: 3.2513e-06 - accuracy: 1.0000 - val_loss: 0.5645 - val_accuracy: 0.9100\n",
      "Epoch 21/30\n",
      "100/100 [==============================] - 25s 246ms/step - loss: 2.7824e-06 - accuracy: 1.0000 - val_loss: 0.5730 - val_accuracy: 0.9100 9s - loss: 2.7715e-06 - ac - ETA: 8s - loss: 2.9080e-06 -  - ETA: 6s - loss: 2.9075e-06 -  - ETA: 5s - loss: 2.9725e-06 - accura - ETA: 4s - ETA: 0s - loss: 2.7772e-06 - accura\n",
      "Epoch 22/30\n",
      "100/100 [==============================] - 25s 247ms/step - loss: 2.3973e-06 - accuracy: 1.0000 - val_loss: 0.5810 - val_accuracy: 0.9110\n",
      "Epoch 23/30\n",
      "100/100 [==============================] - 25s 247ms/step - loss: 2.0713e-06 - accuracy: 1.0000 - val_loss: 0.5896 - val_accuracy: 0.9110\n",
      "Epoch 24/30\n",
      "100/100 [==============================] - 25s 247ms/step - loss: 1.7922e-06 - accuracy: 1.0000 - val_loss: 0.5972 - val_accuracy: 0.9110.6801e-06 - - - ETA: 4s - loss: 1.8 - ETA: 1s - loss: 1.7143e-06 - accu - ETA: 0s - loss: 1.7337e-06 - accura\n",
      "Epoch 25/30\n",
      "100/100 [==============================] - 25s 247ms/step - loss: 1.5533e-06 - accuracy: 1.0000 - val_loss: 0.6063 - val_accuracy: 0.9110\n",
      "Epoch 26/30\n",
      "100/100 [==============================] - 25s 247ms/step - loss: 1.3402e-06 - accuracy: 1.0000 - val_loss: 0.6147 - val_accuracy: 0.9110os\n",
      "Epoch 27/30\n",
      "100/100 [==============================] - 25s 248ms/step - loss: 1.1468e-06 - accuracy: 1.0000 - val_loss: 0.6235 - val_accuracy: 0.9110\n",
      "Epoch 28/30\n",
      "100/100 [==============================] - 25s 247ms/step - loss: 9.7527e-07 - accuracy: 1.0000 - val_loss: 0.6333 - val_accuracy: 0.9100\n",
      "Epoch 29/30\n",
      "100/100 [==============================] - 25s 247ms/step - loss: 8.2245e-07 - accuracy: 1.0000 - val_loss: 0.6423 - val_accuracy: 0.9100\n",
      "Epoch 30/30\n",
      "100/100 [==============================] - 25s 246ms/step - loss: 6.9332e-07 - accuracy: 1.0000 - val_loss: 0.6532 - val_accuracy: 0.9100: 14s - loss: 8.8830e-07 - accuracy:  - ETA: 13s - loss: 8.6744e-07 -  - ETA: 10s - loss: 8.2922e-07 - a - E\n"
     ]
    }
   ],
   "source": [
    "# 설정이 다 되었으면 모델을 학습.\n",
    "history = model.fit(train_generator,\n",
    "          steps_per_epoch=100,\n",
    "          epochs=30,\n",
    "          verbose=1,\n",
    "          validation_data=test_generator,\n",
    "          validation_steps=50)"
   ]
  },
  {
   "cell_type": "code",
   "execution_count": 13,
   "id": "1ddb5fce",
   "metadata": {},
   "outputs": [
    {
     "name": "stdout",
     "output_type": "stream",
     "text": [
      "Model: \"sequential\"\n",
      "_________________________________________________________________\n",
      "Layer (type)                 Output Shape              Param #   \n",
      "=================================================================\n",
      "vgg16 (Functional)           (None, 4, 4, 512)         14714688  \n",
      "_________________________________________________________________\n",
      "flatten (Flatten)            (None, 8192)              0         \n",
      "_________________________________________________________________\n",
      "dense (Dense)                (None, 256)               2097408   \n",
      "_________________________________________________________________\n",
      "dense_1 (Dense)              (None, 1)                 257       \n",
      "=================================================================\n",
      "Total params: 16,812,353\n",
      "Trainable params: 15,666,945\n",
      "Non-trainable params: 1,145,408\n",
      "_________________________________________________________________\n"
     ]
    }
   ],
   "source": [
    "model.summary()"
   ]
  },
  {
   "cell_type": "code",
   "execution_count": 14,
   "id": "0d5fcc20",
   "metadata": {},
   "outputs": [],
   "source": [
    "import matplotlib.pylab as plt"
   ]
  },
  {
   "cell_type": "code",
   "execution_count": 15,
   "id": "e5db2c74",
   "metadata": {},
   "outputs": [
    {
     "data": {
      "image/png": "[encoded data removed]",
      "text/plain": [
       "<Figure size 864x288 with 2 Axes>"
      ]
     },
     "metadata": {
      "needs_background": "light"
     },
     "output_type": "display_data"
    }
   ],
   "source": [
    "def plot_loss_acc(history, epoch):\n",
    "\n",
    "    loss, val_loss = history.history['loss'], history.history['val_loss']\n",
    "    acc, val_acc = history.history['accuracy'], history.history['val_accuracy']\n",
    "\n",
    "    fig, axes = plt.subplots(1, 2, figsize=(12, 4))\n",
    "\n",
    "    axes[0].plot(range(1, epoch + 1), loss, label='Training')\n",
    "    axes[0].plot(range(1, epoch + 1), val_loss, label='Validation')\n",
    "    axes[0].legend(loc='best')\n",
    "    axes[0].set_title('Loss')\n",
    "\n",
    "    axes[1].plot(range(1, epoch + 1), acc, label='Training')\n",
    "    axes[1].plot(range(1, epoch + 1), val_acc, label='Validation')\n",
    "    axes[1].legend(loc='best')\n",
    "    axes[1].set_title('Accuracy')\n",
    "\n",
    "    plt.show()\n",
    "\n",
    "plot_loss_acc(history, 30)"
   ]
  },
  {
   "cell_type": "code",
   "execution_count": null,
   "id": "edbe3735",
   "metadata": {},
   "outputs": [],
   "source": []
  }
 ],
 "metadata": {
  "kernelspec": {
   "display_name": "Python 3 (ipykernel)",
   "language": "python",
   "name": "python3"
  },
  "language_info": {
   "codemirror_mode": {
    "name": "ipython",
    "version": 3
   },
   "file_extension": ".py",
   "mimetype": "text/x-python",
   "name": "python",
   "nbconvert_exporter": "python",
   "pygments_lexer": "ipython3",
   "version": "3.9.12"
  },
  "latex_envs": {
   "LaTeX_envs_menu_present": true,
   "autoclose": false,
   "autocomplete": true,
   "bibliofile": "biblio.bib",
   "cite_by": "apalike",
   "current_citInitial": 1,
   "eqLabelWithNumbers": true,
   "eqNumInitial": 1,
   "hotkeys": {
    "equation": "Ctrl-E",
    "itemize": "Ctrl-I"
   },
   "labels_anchors": false,
   "latex_user_defs": false,
   "report_style_numbering": false,
   "user_envs_cfg": false
  },
  "nbTranslate": {
   "displayLangs": [
    "*"
   ],
   "hotkey": "",
   "langInMainMenu": true,
   "sourceLang": "en",
   "targetLang": "fr",
   "useGoogleTranslate": true
  },
  "toc": {
   "base_numbering": 1,
   "nav_menu": {},
   "number_sections": false,
   "sideBar": true,
   "skip_h1_title": false,
   "title_cell": "Table of Contents",
   "title_sidebar": "Contents",
   "toc_cell": false,
   "toc_position": {},
   "toc_section_display": true,
   "toc_window_display": false
  },
  "varInspector": {
   "cols": {
    "lenName": 16,
    "lenType": 16,
    "lenVar": 40
   },
   "kernels_config": {
    "python": {
     "delete_cmd_postfix": "",
     "delete_cmd_prefix": "del ",
     "library": "var_list.py",
     "varRefreshCmd": "print(var_dic_list())"
    },
    "r": {
     "delete_cmd_postfix": ") ",
     "delete_cmd_prefix": "rm(",
     "library": "var_list.r",
     "varRefreshCmd": "cat(var_dic_list()) "
    }
   },
   "types_to_exclude": [
    "module",
    "function",
    "builtin_function_or_method",
    "instance",
    "_Feature"
   ],
   "window_display": false
  }
 },
 "nbformat": 4,
 "nbformat_minor": 5
}
