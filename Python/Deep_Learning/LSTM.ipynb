{
 "cells": [
  {
   "cell_type": "code",
   "execution_count": 1,
   "id": "fa598f09",
   "metadata": {},
   "outputs": [],
   "source": [
    "import os\n",
    "import tensorflow as tf\n",
    "import numpy as np\n",
    "from tensorflow.keras.datasets import imdb\n",
    "from tensorflow.keras.preprocessing import sequence\n",
    "from tensorflow.keras.layers import Embedding, Dense\n",
    "from tensorflow.keras.models import Sequential\n",
    "from tensorflow.keras.optimizers import Adam"
   ]
  },
  {
   "cell_type": "code",
   "execution_count": 4,
   "id": "0fd7a680",
   "metadata": {},
   "outputs": [],
   "source": [
    "total_words = 10000\n",
    "batch_size = 128\n",
    "max_review_len = 80\n",
    "embedding_len = 100"
   ]
  },
  {
   "cell_type": "code",
   "execution_count": 5,
   "id": "2eaa3aab",
   "metadata": {},
   "outputs": [],
   "source": [
    "(x_train, y_train), (x_test,y_test) = imdb.load_data(num_words = total_words)"
   ]
  },
  {
   "cell_type": "code",
   "execution_count": 6,
   "id": "e36f0e04",
   "metadata": {},
   "outputs": [
    {
     "name": "stdout",
     "output_type": "stream",
     "text": [
      "(25000,)\n",
      "(25000,)\n"
     ]
    }
   ],
   "source": [
    "print(x_train.shape)\n",
    "print(x_test.shape)"
   ]
  },
  {
   "cell_type": "code",
   "execution_count": 7,
   "id": "b9c72c72",
   "metadata": {},
   "outputs": [],
   "source": [
    "pad_x_train = sequence.pad_sequences(x_train, maxlen= max_review_len)\n",
    "pad_x_test = sequence.pad_sequences(x_test, maxlen= max_review_len)"
   ]
  },
  {
   "cell_type": "code",
   "execution_count": 8,
   "id": "f2e74de7",
   "metadata": {},
   "outputs": [
    {
     "name": "stdout",
     "output_type": "stream",
     "text": [
      "(25000, 80)\n",
      "(25000, 80)\n"
     ]
    }
   ],
   "source": [
    "print(pad_x_train.shape)\n",
    "print(pad_x_test.shape)"
   ]
  },
  {
   "cell_type": "code",
   "execution_count": 16,
   "id": "25248b3f",
   "metadata": {},
   "outputs": [
    {
     "name": "stdout",
     "output_type": "stream",
     "text": [
      "x_train_shape: (25000, 80) tf.Tensor(1, shape=(), dtype=int64) tf.Tensor(0, shape=(), dtype=int64)\n",
      "x_test_shape: (25000, 80)\n"
     ]
    }
   ],
   "source": [
    "train_data = tf.data.Dataset.from_tensor_slices((pad_x_train,y_train))\n",
    "train_data = train_data.shuffle(10000).batch(batch_size, drop_remainder=True)\n",
    "test_data = tf.data.Dataset.from_tensor_slices((pad_x_test,y_test))\n",
    "test_data = test_data.batch(batch_size, drop_remainder=True)\n",
    "print('x_train_shape:', pad_x_train.shape, tf.reduce_max(y_train), tf.reduce_min(y_train))\n",
    "print('x_test_shape:', pad_x_test.shape)"
   ]
  },
  {
   "cell_type": "code",
   "execution_count": null,
   "id": "5a9ac61b",
   "metadata": {},
   "outputs": [],
   "source": [
    "class LSTM_Build(tf.keras.Model):\n",
    "    def __init__(self, units):\n",
    "        super(LSTM_Build, self).__init__()\n",
    "        \n",
    "        self.state0 = [tf.zeros([batch_size, units]), tf.zeros([batch_size,units])]\n",
    "        self.state1 = [tf.zeros([batch_size, units]), tf.zeros([batch_size,units])]\n",
    "        \n",
    "        self.embedding = tf.keras.layers.Embedding(total_words, embedding_len, input_length=max_review_len)\n",
    "        self.RNNCell0 = tf.keras.layers.LSTMCell(units, dropout=0.5)\n",
    "        self.RNNCell1 = tf.keras.layers.LSTMCell(units, dropout=0.5)\n",
    "        self.outlayer = tf.keras.layers.Dense(1)\n",
    "        \n",
    "    def call(self, inputs, training=None):\n",
    "        x = inputs\n",
    "        x = self.embedding(x)\n",
    "        state0 = self.state0\n",
    "        state1 = self.state1\n",
    "        for word in tf.unstack(x, axis=1):\n",
    "            out0, state0 = self.RNNCell0(word, state0, training)\n",
    "            out1, state1 = self.RNNCell1(out0, state1, training)\n",
    "        x = self.outlayer(out1)\n",
    "        prob = tf.sigmoid(x)\n",
    "        return prob"
   ]
  },
  {
   "cell_type": "code",
   "execution_count": null,
   "id": "929ba021",
   "metadata": {},
   "outputs": [],
   "source": [
    "import time\n",
    "units = 64\n",
    "epochs = 4\n",
    "t0 = time.time()\n",
    "\n",
    "model = LSTM_Build(units)\n",
    "\n",
    "model.compile(optimizer=Adam(0.001),\n",
    "             loss=tf.losses.BinaryCrossentropy(),\n",
    "             metrics=['accuracy'],\n",
    "             experimental_run_tf_function=False)"
   ]
  },
  {
   "cell_type": "code",
   "execution_count": null,
   "id": "3e5ddd82",
   "metadata": {},
   "outputs": [],
   "source": [
    "model.fit(train_data, epochs=epochs, validation_data=test_data, validation_freq=2)"
   ]
  },
  {
   "cell_type": "code",
   "execution_count": 38,
   "id": "8953af01",
   "metadata": {},
   "outputs": [
    {
     "name": "stdout",
     "output_type": "stream",
     "text": [
      "훈련 데이터셋 평가...\n",
      "loss=0.1690, accuracy: 93.7180%\n",
      "테스트 데이터셋 평가...\n",
      "loss=0.4099, accuracy: 82.5521%\n",
      "시간: 116.50875282287598\n"
     ]
    }
   ],
   "source": [
    "print(\"훈련 데이터셋 평가...\")\n",
    "(loss, accuracy) = model.evaluate(train_data, verbose=0)\n",
    "print(\"loss={:.4f}, accuracy: {:.4f}%\".format(loss,accuracy * 100))\n",
    "print(\"테스트 데이터셋 평가...\")\n",
    "(loss, accuracy) = model.evaluate(test_data, verbose=0)\n",
    "print(\"loss={:.4f}, accuracy: {:.4f}%\".format(loss,accuracy * 100))\n",
    "t1 = time.time()\n",
    "print('시간:', t1-t0)"
   ]
  },
  {
   "cell_type": "code",
   "execution_count": 52,
   "id": "e018b536",
   "metadata": {},
   "outputs": [],
   "source": [
    "class LSTM_Build(tf.keras.Model):\n",
    "    def __init__(self, units):\n",
    "        super(LSTM_Build, self).__init__()\n",
    "        \n",
    "        self.state0 = [tf.zeros([batch_size, units]), tf.zeros([batch_size,units])]\n",
    "        self.state1 = [tf.zeros([batch_size, units]), tf.zeros([batch_size,units])]\n",
    "        \n",
    "        self.embedding = tf.keras.layers.Embedding(total_words, embedding_len, input_length=max_review_len)\n",
    "        self.rnn = tf.keras.Sequential([\n",
    "            tf.keras.layers.LSTM(units, dropout=0.5, return_sequences=True, unroll=True),\n",
    "            tf.keras.layers.LSTM(units, dropout=0.5, unroll=True)])\n",
    "        self.outlayer = tf.keras.layers.Dense(1)\n",
    "        \n",
    "    def call(self, inputs, training=None):\n",
    "        x = inputs\n",
    "        x = self.embedding(x)\n",
    "        x = self.rnn(x)\n",
    "        x = self.outlayer(x)\n",
    "        prob = tf.sigmoid(x)\n",
    "        return prob"
   ]
  },
  {
   "cell_type": "code",
   "execution_count": 53,
   "id": "4cbdfb6a",
   "metadata": {},
   "outputs": [],
   "source": [
    "import time\n",
    "units = 64\n",
    "epochs = 4\n",
    "t0 = time.time()\n",
    "\n",
    "model = LSTM_Build(units)\n",
    "\n",
    "model.compile(optimizer=Adam(0.001),\n",
    "             loss=tf.losses.BinaryCrossentropy(),\n",
    "             metrics=['accuracy'],\n",
    "             experimental_run_tf_function=False)"
   ]
  },
  {
   "cell_type": "code",
   "execution_count": 54,
   "id": "c0b61ad6",
   "metadata": {},
   "outputs": [
    {
     "name": "stdout",
     "output_type": "stream",
     "text": [
      "Epoch 1/4\n",
      "195/195 [==============================] - 36s 148ms/step - loss: 0.4806 - accuracy: 0.7550\n",
      "Epoch 2/4\n",
      "195/195 [==============================] - 40s 205ms/step - loss: 0.3176 - accuracy: 0.8687 - val_loss: 0.3670 - val_accuracy: 0.8356\n",
      "Epoch 3/4\n",
      "195/195 [==============================] - 29s 150ms/step - loss: 0.2599 - accuracy: 0.8976\n",
      "Epoch 4/4\n",
      "195/195 [==============================] - 40s 203ms/step - loss: 0.2186 - accuracy: 0.9141 - val_loss: 0.4603 - val_accuracy: 0.8333\n"
     ]
    },
    {
     "data": {
      "text/plain": [
       "<keras.callbacks.History at 0x2a89bc32a60>"
      ]
     },
     "execution_count": 54,
     "metadata": {},
     "output_type": "execute_result"
    }
   ],
   "source": [
    "model.fit(train_data, epochs=epochs, validation_data=test_data, validation_freq=2)"
   ]
  },
  {
   "cell_type": "code",
   "execution_count": 55,
   "id": "e0e13f40",
   "metadata": {},
   "outputs": [
    {
     "name": "stdout",
     "output_type": "stream",
     "text": [
      "훈련 데이터셋 평가...\n",
      "loss=0.1417, accuracy: 95.0761%\n",
      "테스트 데이터셋 평가...\n",
      "loss=0.4603, accuracy: 83.3333%\n",
      "시간: 165.08115935325623\n"
     ]
    }
   ],
   "source": [
    "print(\"훈련 데이터셋 평가...\")\n",
    "(loss, accuracy) = model.evaluate(train_data, verbose=0)\n",
    "print(\"loss={:.4f}, accuracy: {:.4f}%\".format(loss,accuracy * 100))\n",
    "print(\"테스트 데이터셋 평가...\")\n",
    "(loss, accuracy) = model.evaluate(test_data, verbose=0)\n",
    "print(\"loss={:.4f}, accuracy: {:.4f}%\".format(loss,accuracy * 100))\n",
    "t1 = time.time()\n",
    "print('시간:', t1-t0)"
   ]
  },
  {
   "cell_type": "code",
   "execution_count": 56,
   "id": "1ce589a0",
   "metadata": {},
   "outputs": [
    {
     "name": "stdout",
     "output_type": "stream",
     "text": [
      "Model: \"lstm__build_13\"\n",
      "_________________________________________________________________\n",
      " Layer (type)                Output Shape              Param #   \n",
      "=================================================================\n",
      " embedding_13 (Embedding)    multiple                  1000000   \n",
      "                                                                 \n",
      " sequential_1 (Sequential)   (128, 64)                 75264     \n",
      "                                                                 \n",
      " dense_8 (Dense)             multiple                  65        \n",
      "                                                                 \n",
      "=================================================================\n",
      "Total params: 1,075,329\n",
      "Trainable params: 1,075,329\n",
      "Non-trainable params: 0\n",
      "_________________________________________________________________\n"
     ]
    }
   ],
   "source": [
    "model.summary()"
   ]
  },
  {
   "cell_type": "code",
   "execution_count": 57,
   "id": "82df83f8",
   "metadata": {},
   "outputs": [],
   "source": [
    "class GRU_Build(tf.keras.Model):\n",
    "    def __init__(self, units):\n",
    "        super(GRU_Build, self).__init__()\n",
    "        \n",
    "        self.state0 = [tf.zeros([batch_size, units]), tf.zeros([batch_size,units])]\n",
    "        self.state1 = [tf.zeros([batch_size, units]), tf.zeros([batch_size,units])]\n",
    "        \n",
    "        self.embedding = tf.keras.layers.Embedding(total_words, embedding_len, input_length=max_review_len)\n",
    "        self.RNNCell0 = tf.keras.layers.GRUCell(units, dropout=0.5)\n",
    "        self.RNNCell1 = tf.keras.layers.GRUCell(units, dropout=0.5)\n",
    "        self.outlayer = tf.keras.layers.Dense(1)\n",
    "        \n",
    "    def call(self, inputs, training=None):\n",
    "        x = inputs\n",
    "        x = self.embedding(x)\n",
    "        state0 = self.state0\n",
    "        state1 = self.state1\n",
    "        for word in tf.unstack(x, axis=1):\n",
    "            out0, state0 = self.RNNCell0(word, state0, training)\n",
    "            out1, state1 = self.RNNCell1(out0, state1, training)\n",
    "        x = self.outlayer(out1)\n",
    "        prob = tf.sigmoid(x)\n",
    "        return prob"
   ]
  },
  {
   "cell_type": "code",
   "execution_count": 58,
   "id": "4733f242",
   "metadata": {},
   "outputs": [],
   "source": [
    "import time\n",
    "units = 64\n",
    "epochs = 4\n",
    "t0 = time.time()\n",
    "\n",
    "model = GRU_Build(units)\n",
    "\n",
    "model.compile(optimizer=Adam(0.001),\n",
    "             loss=tf.losses.BinaryCrossentropy(),\n",
    "             metrics=['accuracy'],\n",
    "             experimental_run_tf_function=False)"
   ]
  },
  {
   "cell_type": "code",
   "execution_count": 59,
   "id": "298cf4c7",
   "metadata": {},
   "outputs": [
    {
     "name": "stdout",
     "output_type": "stream",
     "text": [
      "Epoch 1/4\n",
      "195/195 [==============================] - 57s 248ms/step - loss: 0.5108 - accuracy: 0.7271\n",
      "Epoch 2/4\n",
      "195/195 [==============================] - 64s 329ms/step - loss: 0.3232 - accuracy: 0.8635 - val_loss: 0.3590 - val_accuracy: 0.8409\n",
      "Epoch 3/4\n",
      "195/195 [==============================] - 52s 267ms/step - loss: 0.2631 - accuracy: 0.8956\n",
      "Epoch 4/4\n",
      "195/195 [==============================] - 67s 345ms/step - loss: 0.2266 - accuracy: 0.9120 - val_loss: 0.4437 - val_accuracy: 0.8298\n"
     ]
    },
    {
     "data": {
      "text/plain": [
       "<keras.callbacks.History at 0x2a89bfbfc40>"
      ]
     },
     "execution_count": 59,
     "metadata": {},
     "output_type": "execute_result"
    }
   ],
   "source": [
    "model.fit(train_data, epochs=epochs, validation_data=test_data, validation_freq=2)"
   ]
  },
  {
   "cell_type": "code",
   "execution_count": 62,
   "id": "9ec0dd0b",
   "metadata": {},
   "outputs": [
    {
     "name": "stdout",
     "output_type": "stream",
     "text": [
      "GRU 훈련 데이터셋 평가...\n",
      "loss=0.1464, accuracy: 94.6995%\n",
      "GRU 테스트 데이터셋 평가...\n",
      "loss=0.4437, accuracy: 82.9848%\n",
      "시간: 339.1012153625488\n"
     ]
    }
   ],
   "source": [
    "print(\"GRU 훈련 데이터셋 평가...\")\n",
    "(loss, accuracy) = model.evaluate(train_data, verbose=0)\n",
    "print(\"loss={:.4f}, accuracy: {:.4f}%\".format(loss,accuracy * 100))\n",
    "print(\"GRU 테스트 데이터셋 평가...\")\n",
    "(loss, accuracy) = model.evaluate(test_data, verbose=0)\n",
    "print(\"loss={:.4f}, accuracy: {:.4f}%\".format(loss,accuracy * 100))\n",
    "t1 = time.time()\n",
    "print('시간:', t1-t0)"
   ]
  },
  {
   "cell_type": "code",
   "execution_count": 63,
   "id": "2d3c641e",
   "metadata": {},
   "outputs": [],
   "source": [
    "class GRU_Build(tf.keras.Model):\n",
    "    def __init__(self, units):\n",
    "        super(GRU_Build, self).__init__()\n",
    "        \n",
    "        self.state0 = [tf.zeros([batch_size, units]), tf.zeros([batch_size,units])]\n",
    "        self.state1 = [tf.zeros([batch_size, units]), tf.zeros([batch_size,units])]\n",
    "        \n",
    "        self.embedding = tf.keras.layers.Embedding(total_words, embedding_len, input_length=max_review_len)\n",
    "        self.rnn = tf.keras.Sequential([\n",
    "            tf.keras.layers.GRU(units, dropout=0.5, return_sequences=True, unroll=True),\n",
    "            tf.keras.layers.GRU(units, dropout=0.5, unroll=True)])\n",
    "        self.outlayer = tf.keras.layers.Dense(1)\n",
    "        \n",
    "    def call(self, inputs, training=None):\n",
    "        x = inputs\n",
    "        x = self.embedding(x)\n",
    "        x = self.rnn(x)\n",
    "        x = self.outlayer(x)\n",
    "        prob = tf.sigmoid(x)\n",
    "        return prob"
   ]
  },
  {
   "cell_type": "code",
   "execution_count": 64,
   "id": "e3e9d2a0",
   "metadata": {},
   "outputs": [],
   "source": [
    "import time\n",
    "units = 64\n",
    "epochs = 4\n",
    "t0 = time.time()\n",
    "\n",
    "model = GRU_Build(units)\n",
    "\n",
    "model.compile(optimizer=Adam(0.001),\n",
    "             loss=tf.losses.BinaryCrossentropy(),\n",
    "             metrics=['accuracy'],\n",
    "             experimental_run_tf_function=False)"
   ]
  },
  {
   "cell_type": "code",
   "execution_count": 65,
   "id": "a247b651",
   "metadata": {},
   "outputs": [
    {
     "name": "stdout",
     "output_type": "stream",
     "text": [
      "Epoch 1/4\n",
      "195/195 [==============================] - 73s 324ms/step - loss: 0.5131 - accuracy: 0.7252\n",
      "Epoch 2/4\n",
      "195/195 [==============================] - 79s 406ms/step - loss: 0.3257 - accuracy: 0.8627 - val_loss: 0.3747 - val_accuracy: 0.8373\n",
      "Epoch 3/4\n",
      "195/195 [==============================] - 62s 319ms/step - loss: 0.2731 - accuracy: 0.8906\n",
      "Epoch 4/4\n",
      "195/195 [==============================] - 83s 425ms/step - loss: 0.2412 - accuracy: 0.9070 - val_loss: 0.3723 - val_accuracy: 0.8362\n"
     ]
    },
    {
     "data": {
      "text/plain": [
       "<keras.callbacks.History at 0x2a9117c02b0>"
      ]
     },
     "execution_count": 65,
     "metadata": {},
     "output_type": "execute_result"
    }
   ],
   "source": [
    "model.fit(train_data, epochs=epochs, validation_data=test_data, validation_freq=2)"
   ]
  },
  {
   "cell_type": "code",
   "execution_count": 66,
   "id": "419fc31c",
   "metadata": {},
   "outputs": [
    {
     "name": "stdout",
     "output_type": "stream",
     "text": [
      "GRU 훈련 데이터셋 평가...\n",
      "loss=0.1901, accuracy: 94.2428%\n",
      "GRU 테스트 데이터셋 평가...\n",
      "loss=0.3723, accuracy: 83.6218%\n",
      "시간: 334.7041964530945\n"
     ]
    }
   ],
   "source": [
    "print(\"GRU 훈련 데이터셋 평가...\")\n",
    "(loss, accuracy) = model.evaluate(train_data, verbose=0)\n",
    "print(\"loss={:.4f}, accuracy: {:.4f}%\".format(loss,accuracy * 100))\n",
    "print(\"GRU 테스트 데이터셋 평가...\")\n",
    "(loss, accuracy) = model.evaluate(test_data, verbose=0)\n",
    "print(\"loss={:.4f}, accuracy: {:.4f}%\".format(loss,accuracy * 100))\n",
    "t1 = time.time()\n",
    "print('시간:', t1-t0)"
   ]
  },
  {
   "cell_type": "code",
   "execution_count": null,
   "id": "2465876c",
   "metadata": {},
   "outputs": [],
   "source": []
  }
 ],
 "metadata": {
  "kernelspec": {
   "display_name": "Python 3 (ipykernel)",
   "language": "python",
   "name": "python3"
  },
  "language_info": {
   "codemirror_mode": {
    "name": "ipython",
    "version": 3
   },
   "file_extension": ".py",
   "mimetype": "text/x-python",
   "name": "python",
   "nbconvert_exporter": "python",
   "pygments_lexer": "ipython3",
   "version": "3.9.12"
  },
  "toc": {
   "base_numbering": 1,
   "nav_menu": {},
   "number_sections": true,
   "sideBar": true,
   "skip_h1_title": false,
   "title_cell": "Table of Contents",
   "title_sidebar": "Contents",
   "toc_cell": false,
   "toc_position": {},
   "toc_section_display": true,
   "toc_window_display": false
  },
  "varInspector": {
   "cols": {
    "lenName": 16,
    "lenType": 16,
    "lenVar": 40
   },
   "kernels_config": {
    "python": {
     "delete_cmd_postfix": "",
     "delete_cmd_prefix": "del ",
     "library": "var_list.py",
     "varRefreshCmd": "print(var_dic_list())"
    },
    "r": {
     "delete_cmd_postfix": ") ",
     "delete_cmd_prefix": "rm(",
     "library": "var_list.r",
     "varRefreshCmd": "cat(var_dic_list()) "
    }
   },
   "types_to_exclude": [
    "module",
    "function",
    "builtin_function_or_method",
    "instance",
    "_Feature"
   ],
   "window_display": false
  }
 },
 "nbformat": 4,
 "nbformat_minor": 5
}
