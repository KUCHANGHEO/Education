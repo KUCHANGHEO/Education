{
 "cells": [
  {
   "cell_type": "code",
   "execution_count": 2,
   "id": "f25f1beb",
   "metadata": {},
   "outputs": [],
   "source": [
    "import numpy as np\n",
    "from tensorflow.keras.models import Sequential\n",
    "from tensorflow.keras.layers import Conv2D, MaxPooling2D\n",
    "from tensorflow.keras.layers import Flatten, Dense\n",
    "from tensorflow.keras.optimizers import Adam\n",
    "from tensorflow.keras.preprocessing.image import ImageDataGenerator"
   ]
  },
  {
   "cell_type": "code",
   "execution_count": 4,
   "id": "7780b8e1",
   "metadata": {},
   "outputs": [],
   "source": [
    "# ImageDataGenerator 객체 생성\n",
    "Train_Datagen = ImageDataGenerator(rescale=1/255)\n",
    "Test_Datagen = ImageDataGenerator(rescale=1/255)"
   ]
  },
  {
   "cell_type": "code",
   "execution_count": 21,
   "id": "05673ec9",
   "metadata": {},
   "outputs": [],
   "source": [
    "train_dir = './cats_and_dogs_small/train'\n",
    "test_dir = './cats_and_dogs_small/test'"
   ]
  },
  {
   "cell_type": "code",
   "execution_count": 33,
   "id": "a2a6452b",
   "metadata": {},
   "outputs": [
    {
     "name": "stdout",
     "output_type": "stream",
     "text": [
      "Found 2000 images belonging to 2 classes.\n",
      "Found 1000 images belonging to 2 classes.\n"
     ]
    }
   ],
   "source": [
    "# ImageDataGenerator 설정\n",
    "\n",
    "train_generator = Train_Datagen.flow_from_directory(\n",
    "    train_dir,               # 학습용 이미지를 가져올 폴더\n",
    "    classes=['cats','dogs'], # cats 폴더의 이미지 label을 0으로 \n",
    "                             # dogs 폴더의 이미지는 label을 1으로\n",
    "    target_size=(150,150),   # 이미지 resize\n",
    "    batch_size=20,           # 한번에 20개의 이미지만 가져와서 학습\n",
    "    class_mode = 'binary'    # 이진분류인 경우 설정\n",
    ")\n",
    "\n",
    "\n",
    "test_generator = Test_Datagen.flow_from_directory(\n",
    "    test_dir,               # 학습용 이미지를 가져올 폴더\n",
    "    classes=['cats','dogs'], # cats 폴더의 이미지 label을 0으로 \n",
    "                             # dogs 폴더의 이미지는 label을 1으로\n",
    "    target_size=(150,150),   # 이미지 resize\n",
    "    batch_size=20,           # 한번에 10개의 이미지만 가져와서 학습\n",
    "    class_mode = 'binary'    # 이진분류인 경우 설정\n",
    ")"
   ]
  },
  {
   "cell_type": "code",
   "execution_count": 13,
   "id": "ee11a0ad",
   "metadata": {},
   "outputs": [],
   "source": [
    "model = Sequential()"
   ]
  },
  {
   "cell_type": "code",
   "execution_count": 14,
   "id": "166c7ee8",
   "metadata": {},
   "outputs": [],
   "source": [
    "# Convolution\n",
    "model.add(Conv2D(\n",
    "    filters=32,\n",
    "    kernel_size=(3,3),\n",
    "    strides=(1,1),\n",
    "    activation='relu',\n",
    "    input_shape=(150,150,3)))"
   ]
  },
  {
   "cell_type": "code",
   "execution_count": 15,
   "id": "19cabf11",
   "metadata": {},
   "outputs": [],
   "source": [
    "model.add(Conv2D(\n",
    "    filters=64,\n",
    "    kernel_size=(3,3),\n",
    "    strides=(1,1),\n",
    "    activation='relu'))"
   ]
  },
  {
   "cell_type": "code",
   "execution_count": 16,
   "id": "7365e3d8",
   "metadata": {},
   "outputs": [],
   "source": [
    "model.add(MaxPooling2D(pool_size=(2,2)))"
   ]
  },
  {
   "cell_type": "code",
   "execution_count": 17,
   "id": "2a873a2b",
   "metadata": {},
   "outputs": [],
   "source": [
    "model.add(Conv2D(\n",
    "    filters=64,\n",
    "    kernel_size=(3,3),\n",
    "    strides=(1,1),\n",
    "    activation='relu'))"
   ]
  },
  {
   "cell_type": "code",
   "execution_count": 18,
   "id": "0eb358af",
   "metadata": {},
   "outputs": [],
   "source": [
    "# FC layer(DNN) 의: input layer\n",
    "model.add(Flatten(input_shape=())) # 전체 4차원 에서 2차원으로 바꿔주는것"
   ]
  },
  {
   "cell_type": "code",
   "execution_count": 19,
   "id": "5204c152",
   "metadata": {},
   "outputs": [],
   "source": [
    "# hidden Layer\n",
    "model.add(Dense(units=256, activation='relu'))"
   ]
  },
  {
   "cell_type": "code",
   "execution_count": 20,
   "id": "691c0054",
   "metadata": {},
   "outputs": [],
   "source": [
    "# output layer\n",
    "model.add(Dense(units=1, activation='sigmoid'))"
   ]
  },
  {
   "cell_type": "code",
   "execution_count": 23,
   "id": "cc59218f",
   "metadata": {},
   "outputs": [],
   "source": [
    "# model이 어떻게 동작하는지를 지정\n",
    "model.compile(optimizer=Adam(learning_rate=1e-4),\n",
    "             loss='binary_crossentropy',\n",
    "             metrics=['accuracy'])"
   ]
  },
  {
   "cell_type": "code",
   "execution_count": 37,
   "id": "5986f531",
   "metadata": {},
   "outputs": [
    {
     "name": "stdout",
     "output_type": "stream",
     "text": [
      "Epoch 1/10\n",
      "100/100 [==============================] - 73s 733ms/step - loss: 0.2362 - accuracy: 0.9110 - val_loss: 0.7109 - val_accuracy: 0.6730\n",
      "Epoch 2/10\n",
      "100/100 [==============================] - 73s 734ms/step - loss: 0.1482 - accuracy: 0.9555 - val_loss: 0.7571 - val_accuracy: 0.6790\n",
      "Epoch 3/10\n",
      "100/100 [==============================] - 73s 734ms/step - loss: 0.1080 - accuracy: 0.9750 - val_loss: 0.8891 - val_accuracy: 0.6770\n",
      "Epoch 4/10\n",
      "100/100 [==============================] - 74s 742ms/step - loss: 0.0726 - accuracy: 0.9860 - val_loss: 0.9681 - val_accuracy: 0.6890\n",
      "Epoch 5/10\n",
      "100/100 [==============================] - 74s 736ms/step - loss: 0.0341 - accuracy: 0.9975 - val_loss: 1.1605 - val_accuracy: 0.6720\n",
      "Epoch 6/10\n",
      "100/100 [==============================] - 75s 746ms/step - loss: 0.0188 - accuracy: 0.9995 - val_loss: 1.1732 - val_accuracy: 0.6810\n",
      "Epoch 7/10\n",
      "100/100 [==============================] - 75s 746ms/step - loss: 0.0117 - accuracy: 1.0000 - val_loss: 1.2424 - val_accuracy: 0.6760\n",
      "Epoch 8/10\n",
      "100/100 [==============================] - 73s 733ms/step - loss: 0.0082 - accuracy: 1.0000 - val_loss: 1.3094 - val_accuracy: 0.6780\n",
      "Epoch 9/10\n",
      "100/100 [==============================] - 73s 735ms/step - loss: 0.0060 - accuracy: 1.0000 - val_loss: 1.3809 - val_accuracy: 0.6740\n",
      "Epoch 10/10\n",
      "100/100 [==============================] - 74s 736ms/step - loss: 0.0039 - accuracy: 1.0000 - val_loss: 1.4235 - val_accuracy: 0.6810\n"
     ]
    }
   ],
   "source": [
    "# 설정을 모두 마치었으면 모델 학습\n",
    "history = model.fit(train_generator,\n",
    "             steps_per_epoch = 100,\n",
    "             epochs = 10,\n",
    "             verbose= 1,\n",
    "             validation_data = test_generator,\n",
    "             validation_steps =50)"
   ]
  },
  {
   "cell_type": "code",
   "execution_count": 38,
   "id": "c63be8f6",
   "metadata": {},
   "outputs": [
    {
     "name": "stdout",
     "output_type": "stream",
     "text": [
      "Model: \"sequential_1\"\n",
      "_________________________________________________________________\n",
      " Layer (type)                Output Shape              Param #   \n",
      "=================================================================\n",
      " conv2d_2 (Conv2D)           (None, 148, 148, 32)      896       \n",
      "                                                                 \n",
      " conv2d_3 (Conv2D)           (None, 146, 146, 64)      18496     \n",
      "                                                                 \n",
      " max_pooling2d (MaxPooling2D  (None, 73, 73, 64)       0         \n",
      " )                                                               \n",
      "                                                                 \n",
      " conv2d_4 (Conv2D)           (None, 71, 71, 64)        36928     \n",
      "                                                                 \n",
      " flatten (Flatten)           (None, 322624)            0         \n",
      "                                                                 \n",
      " dense (Dense)               (None, 256)               82592000  \n",
      "                                                                 \n",
      " dense_1 (Dense)             (None, 1)                 257       \n",
      "                                                                 \n",
      "=================================================================\n",
      "Total params: 82,648,577\n",
      "Trainable params: 82,648,577\n",
      "Non-trainable params: 0\n",
      "_________________________________________________________________\n"
     ]
    }
   ],
   "source": [
    "model.summary()"
   ]
  },
  {
   "cell_type": "code",
   "execution_count": 39,
   "id": "00e844ed",
   "metadata": {},
   "outputs": [
    {
     "name": "stdout",
     "output_type": "stream",
     "text": [
      "50/50 [==============================] - 5s 105ms/step - loss: 1.4235 - accuracy: 0.6810\n"
     ]
    },
    {
     "data": {
      "text/plain": [
       "[1.423485517501831, 0.6809999942779541]"
      ]
     },
     "execution_count": 39,
     "metadata": {},
     "output_type": "execute_result"
    }
   ],
   "source": [
    "model.evaluate(test_generator)"
   ]
  },
  {
   "cell_type": "code",
   "execution_count": 40,
   "id": "01372936",
   "metadata": {},
   "outputs": [],
   "source": [
    "import matplotlib.pyplot as plt"
   ]
  },
  {
   "cell_type": "code",
   "execution_count": 41,
   "id": "24dbd93a",
   "metadata": {},
   "outputs": [],
   "source": [
    "acc = history.history['accuracy']\n",
    "loss= history.history['loss']\n",
    "val_acc = history.history['val_accuracy']\n",
    "val_loss = history.history['val_loss']"
   ]
  },
  {
   "cell_type": "code",
   "execution_count": 42,
   "id": "6af3cbe1",
   "metadata": {},
   "outputs": [],
   "source": [
    "epochs = range(len(acc))"
   ]
  },
  {
   "cell_type": "code",
   "execution_count": 43,
   "id": "f4daaf14",
   "metadata": {},
   "outputs": [
    {
     "data": {
      "image/png": "[encoded data removed]",
      "text/plain": [
       "<Figure size 432x288 with 1 Axes>"
      ]
     },
     "metadata": {
      "needs_background": "light"
     },
     "output_type": "display_data"
    },
    {
     "data": {
      "image/png": "[encoded data removed]",
      "text/plain": [
       "<Figure size 432x288 with 1 Axes>"
      ]
     },
     "metadata": {
      "needs_background": "light"
     },
     "output_type": "display_data"
    }
   ],
   "source": [
    "plt.plot(epochs, acc, 'bo', label= 'Training accuracy')\n",
    "plt.plot(epochs, val_acc, 'b', label= 'Training accuracy')\n",
    "plt.title('Training and validation accuracy')\n",
    "plt.legend()\n",
    "\n",
    "plt.figure()\n",
    "\n",
    "plt.plot(epochs, loss, 'bo', label= 'Training loss')\n",
    "plt.plot(epochs, val_loss, 'b', label= 'Training loss')\n",
    "plt.title('Training and validation loss')\n",
    "plt.legend()\n",
    "\n",
    "plt.show()"
   ]
  },
  {
   "cell_type": "code",
   "execution_count": null,
   "id": "761719b2",
   "metadata": {},
   "outputs": [],
   "source": []
  }
 ],
 "metadata": {
  "kernelspec": {
   "display_name": "Python 3 (ipykernel)",
   "language": "python",
   "name": "python3"
  },
  "language_info": {
   "codemirror_mode": {
    "name": "ipython",
    "version": 3
   },
   "file_extension": ".py",
   "mimetype": "text/x-python",
   "name": "python",
   "nbconvert_exporter": "python",
   "pygments_lexer": "ipython3",
   "version": "3.9.12"
  },
  "toc": {
   "base_numbering": 1,
   "nav_menu": {},
   "number_sections": true,
   "sideBar": true,
   "skip_h1_title": false,
   "title_cell": "Table of Contents",
   "title_sidebar": "Contents",
   "toc_cell": false,
   "toc_position": {},
   "toc_section_display": true,
   "toc_window_display": false
  },
  "varInspector": {
   "cols": {
    "lenName": 16,
    "lenType": 16,
    "lenVar": 40
   },
   "kernels_config": {
    "python": {
     "delete_cmd_postfix": "",
     "delete_cmd_prefix": "del ",
     "library": "var_list.py",
     "varRefreshCmd": "print(var_dic_list())"
    },
    "r": {
     "delete_cmd_postfix": ") ",
     "delete_cmd_prefix": "rm(",
     "library": "var_list.r",
     "varRefreshCmd": "cat(var_dic_list()) "
    }
   },
   "types_to_exclude": [
    "module",
    "function",
    "builtin_function_or_method",
    "instance",
    "_Feature"
   ],
   "window_display": false
  }
 },
 "nbformat": 4,
 "nbformat_minor": 5
}
