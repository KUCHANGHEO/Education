{
 "cells": [
  {
   "cell_type": "code",
   "execution_count": 1,
   "id": "3bfe0602",
   "metadata": {},
   "outputs": [],
   "source": [
    "import pandas as pd"
   ]
  },
  {
   "cell_type": "code",
   "execution_count": 2,
   "id": "2aa6fe06",
   "metadata": {},
   "outputs": [],
   "source": [
    "df = pd.read_csv('mnist_train.csv')"
   ]
  },
  {
   "cell_type": "code",
   "execution_count": 3,
   "id": "10d71443",
   "metadata": {},
   "outputs": [
    {
     "data": {
      "text/html": [
       "<div>\n",
       "<style scoped>\n",
       "    .dataframe tbody tr th:only-of-type {\n",
       "        vertical-align: middle;\n",
       "    }\n",
       "\n",
       "    .dataframe tbody tr th {\n",
       "        vertical-align: top;\n",
       "    }\n",
       "\n",
       "    .dataframe thead th {\n",
       "        text-align: right;\n",
       "    }\n",
       "</style>\n",
       "<table border=\"1\" class=\"dataframe\">\n",
       "  <thead>\n",
       "    <tr style=\"text-align: right;\">\n",
       "      <th></th>\n",
       "      <th>label</th>\n",
       "      <th>1x1</th>\n",
       "      <th>1x2</th>\n",
       "      <th>1x3</th>\n",
       "      <th>1x4</th>\n",
       "      <th>1x5</th>\n",
       "      <th>1x6</th>\n",
       "      <th>1x7</th>\n",
       "      <th>1x8</th>\n",
       "      <th>1x9</th>\n",
       "      <th>...</th>\n",
       "      <th>28x19</th>\n",
       "      <th>28x20</th>\n",
       "      <th>28x21</th>\n",
       "      <th>28x22</th>\n",
       "      <th>28x23</th>\n",
       "      <th>28x24</th>\n",
       "      <th>28x25</th>\n",
       "      <th>28x26</th>\n",
       "      <th>28x27</th>\n",
       "      <th>28x28</th>\n",
       "    </tr>\n",
       "  </thead>\n",
       "  <tbody>\n",
       "    <tr>\n",
       "      <th>0</th>\n",
       "      <td>5</td>\n",
       "      <td>0</td>\n",
       "      <td>0</td>\n",
       "      <td>0</td>\n",
       "      <td>0</td>\n",
       "      <td>0</td>\n",
       "      <td>0</td>\n",
       "      <td>0</td>\n",
       "      <td>0</td>\n",
       "      <td>0</td>\n",
       "      <td>...</td>\n",
       "      <td>0</td>\n",
       "      <td>0</td>\n",
       "      <td>0</td>\n",
       "      <td>0</td>\n",
       "      <td>0</td>\n",
       "      <td>0</td>\n",
       "      <td>0</td>\n",
       "      <td>0</td>\n",
       "      <td>0</td>\n",
       "      <td>0</td>\n",
       "    </tr>\n",
       "    <tr>\n",
       "      <th>1</th>\n",
       "      <td>0</td>\n",
       "      <td>0</td>\n",
       "      <td>0</td>\n",
       "      <td>0</td>\n",
       "      <td>0</td>\n",
       "      <td>0</td>\n",
       "      <td>0</td>\n",
       "      <td>0</td>\n",
       "      <td>0</td>\n",
       "      <td>0</td>\n",
       "      <td>...</td>\n",
       "      <td>0</td>\n",
       "      <td>0</td>\n",
       "      <td>0</td>\n",
       "      <td>0</td>\n",
       "      <td>0</td>\n",
       "      <td>0</td>\n",
       "      <td>0</td>\n",
       "      <td>0</td>\n",
       "      <td>0</td>\n",
       "      <td>0</td>\n",
       "    </tr>\n",
       "    <tr>\n",
       "      <th>2</th>\n",
       "      <td>4</td>\n",
       "      <td>0</td>\n",
       "      <td>0</td>\n",
       "      <td>0</td>\n",
       "      <td>0</td>\n",
       "      <td>0</td>\n",
       "      <td>0</td>\n",
       "      <td>0</td>\n",
       "      <td>0</td>\n",
       "      <td>0</td>\n",
       "      <td>...</td>\n",
       "      <td>0</td>\n",
       "      <td>0</td>\n",
       "      <td>0</td>\n",
       "      <td>0</td>\n",
       "      <td>0</td>\n",
       "      <td>0</td>\n",
       "      <td>0</td>\n",
       "      <td>0</td>\n",
       "      <td>0</td>\n",
       "      <td>0</td>\n",
       "    </tr>\n",
       "    <tr>\n",
       "      <th>3</th>\n",
       "      <td>1</td>\n",
       "      <td>0</td>\n",
       "      <td>0</td>\n",
       "      <td>0</td>\n",
       "      <td>0</td>\n",
       "      <td>0</td>\n",
       "      <td>0</td>\n",
       "      <td>0</td>\n",
       "      <td>0</td>\n",
       "      <td>0</td>\n",
       "      <td>...</td>\n",
       "      <td>0</td>\n",
       "      <td>0</td>\n",
       "      <td>0</td>\n",
       "      <td>0</td>\n",
       "      <td>0</td>\n",
       "      <td>0</td>\n",
       "      <td>0</td>\n",
       "      <td>0</td>\n",
       "      <td>0</td>\n",
       "      <td>0</td>\n",
       "    </tr>\n",
       "    <tr>\n",
       "      <th>4</th>\n",
       "      <td>9</td>\n",
       "      <td>0</td>\n",
       "      <td>0</td>\n",
       "      <td>0</td>\n",
       "      <td>0</td>\n",
       "      <td>0</td>\n",
       "      <td>0</td>\n",
       "      <td>0</td>\n",
       "      <td>0</td>\n",
       "      <td>0</td>\n",
       "      <td>...</td>\n",
       "      <td>0</td>\n",
       "      <td>0</td>\n",
       "      <td>0</td>\n",
       "      <td>0</td>\n",
       "      <td>0</td>\n",
       "      <td>0</td>\n",
       "      <td>0</td>\n",
       "      <td>0</td>\n",
       "      <td>0</td>\n",
       "      <td>0</td>\n",
       "    </tr>\n",
       "  </tbody>\n",
       "</table>\n",
       "<p>5 rows × 785 columns</p>\n",
       "</div>"
      ],
      "text/plain": [
       "   label  1x1  1x2  1x3  1x4  1x5  1x6  1x7  1x8  1x9  ...  28x19  28x20  \\\n",
       "0      5    0    0    0    0    0    0    0    0    0  ...      0      0   \n",
       "1      0    0    0    0    0    0    0    0    0    0  ...      0      0   \n",
       "2      4    0    0    0    0    0    0    0    0    0  ...      0      0   \n",
       "3      1    0    0    0    0    0    0    0    0    0  ...      0      0   \n",
       "4      9    0    0    0    0    0    0    0    0    0  ...      0      0   \n",
       "\n",
       "   28x21  28x22  28x23  28x24  28x25  28x26  28x27  28x28  \n",
       "0      0      0      0      0      0      0      0      0  \n",
       "1      0      0      0      0      0      0      0      0  \n",
       "2      0      0      0      0      0      0      0      0  \n",
       "3      0      0      0      0      0      0      0      0  \n",
       "4      0      0      0      0      0      0      0      0  \n",
       "\n",
       "[5 rows x 785 columns]"
      ]
     },
     "execution_count": 3,
     "metadata": {},
     "output_type": "execute_result"
    }
   ],
   "source": [
    "df.head()"
   ]
  },
  {
   "cell_type": "code",
   "execution_count": 4,
   "id": "cd47c36b",
   "metadata": {},
   "outputs": [],
   "source": [
    "import numpy as np\n",
    "import tensorflow as tf              # tensorflow 기본\n",
    "from tensorflow.keras.models import Sequential # 모델 Box 정의\n",
    "from tensorflow.keras.layers import Flatten, Dense # 모델 BOX의 Input Layer와 Output Layer\n",
    "\n",
    "from tensorflow.keras.optimizers import SGD # 알고리즘 담당\n",
    "from sklearn.model_selection import train_test_split # train, test 데이터를 분리\n",
    "from sklearn.preprocessing import MinMaxScaler # 데이터 정규화 - 큰 숫자를 작은 숫자로 변경 (-1 ~ + 1)"
   ]
  },
  {
   "cell_type": "code",
   "execution_count": 5,
   "id": "1ef086aa",
   "metadata": {},
   "outputs": [],
   "source": [
    "X_data = df.drop('label',axis=1)"
   ]
  },
  {
   "cell_type": "code",
   "execution_count": 6,
   "id": "2f28e175",
   "metadata": {},
   "outputs": [
    {
     "data": {
      "text/html": [
       "<div>\n",
       "<style scoped>\n",
       "    .dataframe tbody tr th:only-of-type {\n",
       "        vertical-align: middle;\n",
       "    }\n",
       "\n",
       "    .dataframe tbody tr th {\n",
       "        vertical-align: top;\n",
       "    }\n",
       "\n",
       "    .dataframe thead th {\n",
       "        text-align: right;\n",
       "    }\n",
       "</style>\n",
       "<table border=\"1\" class=\"dataframe\">\n",
       "  <thead>\n",
       "    <tr style=\"text-align: right;\">\n",
       "      <th></th>\n",
       "      <th>1x1</th>\n",
       "      <th>1x2</th>\n",
       "      <th>1x3</th>\n",
       "      <th>1x4</th>\n",
       "      <th>1x5</th>\n",
       "      <th>1x6</th>\n",
       "      <th>1x7</th>\n",
       "      <th>1x8</th>\n",
       "      <th>1x9</th>\n",
       "      <th>1x10</th>\n",
       "      <th>...</th>\n",
       "      <th>28x19</th>\n",
       "      <th>28x20</th>\n",
       "      <th>28x21</th>\n",
       "      <th>28x22</th>\n",
       "      <th>28x23</th>\n",
       "      <th>28x24</th>\n",
       "      <th>28x25</th>\n",
       "      <th>28x26</th>\n",
       "      <th>28x27</th>\n",
       "      <th>28x28</th>\n",
       "    </tr>\n",
       "  </thead>\n",
       "  <tbody>\n",
       "    <tr>\n",
       "      <th>0</th>\n",
       "      <td>0</td>\n",
       "      <td>0</td>\n",
       "      <td>0</td>\n",
       "      <td>0</td>\n",
       "      <td>0</td>\n",
       "      <td>0</td>\n",
       "      <td>0</td>\n",
       "      <td>0</td>\n",
       "      <td>0</td>\n",
       "      <td>0</td>\n",
       "      <td>...</td>\n",
       "      <td>0</td>\n",
       "      <td>0</td>\n",
       "      <td>0</td>\n",
       "      <td>0</td>\n",
       "      <td>0</td>\n",
       "      <td>0</td>\n",
       "      <td>0</td>\n",
       "      <td>0</td>\n",
       "      <td>0</td>\n",
       "      <td>0</td>\n",
       "    </tr>\n",
       "    <tr>\n",
       "      <th>1</th>\n",
       "      <td>0</td>\n",
       "      <td>0</td>\n",
       "      <td>0</td>\n",
       "      <td>0</td>\n",
       "      <td>0</td>\n",
       "      <td>0</td>\n",
       "      <td>0</td>\n",
       "      <td>0</td>\n",
       "      <td>0</td>\n",
       "      <td>0</td>\n",
       "      <td>...</td>\n",
       "      <td>0</td>\n",
       "      <td>0</td>\n",
       "      <td>0</td>\n",
       "      <td>0</td>\n",
       "      <td>0</td>\n",
       "      <td>0</td>\n",
       "      <td>0</td>\n",
       "      <td>0</td>\n",
       "      <td>0</td>\n",
       "      <td>0</td>\n",
       "    </tr>\n",
       "    <tr>\n",
       "      <th>2</th>\n",
       "      <td>0</td>\n",
       "      <td>0</td>\n",
       "      <td>0</td>\n",
       "      <td>0</td>\n",
       "      <td>0</td>\n",
       "      <td>0</td>\n",
       "      <td>0</td>\n",
       "      <td>0</td>\n",
       "      <td>0</td>\n",
       "      <td>0</td>\n",
       "      <td>...</td>\n",
       "      <td>0</td>\n",
       "      <td>0</td>\n",
       "      <td>0</td>\n",
       "      <td>0</td>\n",
       "      <td>0</td>\n",
       "      <td>0</td>\n",
       "      <td>0</td>\n",
       "      <td>0</td>\n",
       "      <td>0</td>\n",
       "      <td>0</td>\n",
       "    </tr>\n",
       "    <tr>\n",
       "      <th>3</th>\n",
       "      <td>0</td>\n",
       "      <td>0</td>\n",
       "      <td>0</td>\n",
       "      <td>0</td>\n",
       "      <td>0</td>\n",
       "      <td>0</td>\n",
       "      <td>0</td>\n",
       "      <td>0</td>\n",
       "      <td>0</td>\n",
       "      <td>0</td>\n",
       "      <td>...</td>\n",
       "      <td>0</td>\n",
       "      <td>0</td>\n",
       "      <td>0</td>\n",
       "      <td>0</td>\n",
       "      <td>0</td>\n",
       "      <td>0</td>\n",
       "      <td>0</td>\n",
       "      <td>0</td>\n",
       "      <td>0</td>\n",
       "      <td>0</td>\n",
       "    </tr>\n",
       "    <tr>\n",
       "      <th>4</th>\n",
       "      <td>0</td>\n",
       "      <td>0</td>\n",
       "      <td>0</td>\n",
       "      <td>0</td>\n",
       "      <td>0</td>\n",
       "      <td>0</td>\n",
       "      <td>0</td>\n",
       "      <td>0</td>\n",
       "      <td>0</td>\n",
       "      <td>0</td>\n",
       "      <td>...</td>\n",
       "      <td>0</td>\n",
       "      <td>0</td>\n",
       "      <td>0</td>\n",
       "      <td>0</td>\n",
       "      <td>0</td>\n",
       "      <td>0</td>\n",
       "      <td>0</td>\n",
       "      <td>0</td>\n",
       "      <td>0</td>\n",
       "      <td>0</td>\n",
       "    </tr>\n",
       "  </tbody>\n",
       "</table>\n",
       "<p>5 rows × 784 columns</p>\n",
       "</div>"
      ],
      "text/plain": [
       "   1x1  1x2  1x3  1x4  1x5  1x6  1x7  1x8  1x9  1x10  ...  28x19  28x20  \\\n",
       "0    0    0    0    0    0    0    0    0    0     0  ...      0      0   \n",
       "1    0    0    0    0    0    0    0    0    0     0  ...      0      0   \n",
       "2    0    0    0    0    0    0    0    0    0     0  ...      0      0   \n",
       "3    0    0    0    0    0    0    0    0    0     0  ...      0      0   \n",
       "4    0    0    0    0    0    0    0    0    0     0  ...      0      0   \n",
       "\n",
       "   28x21  28x22  28x23  28x24  28x25  28x26  28x27  28x28  \n",
       "0      0      0      0      0      0      0      0      0  \n",
       "1      0      0      0      0      0      0      0      0  \n",
       "2      0      0      0      0      0      0      0      0  \n",
       "3      0      0      0      0      0      0      0      0  \n",
       "4      0      0      0      0      0      0      0      0  \n",
       "\n",
       "[5 rows x 784 columns]"
      ]
     },
     "execution_count": 6,
     "metadata": {},
     "output_type": "execute_result"
    }
   ],
   "source": [
    "X_data.head()"
   ]
  },
  {
   "cell_type": "code",
   "execution_count": 7,
   "id": "c0747fee",
   "metadata": {},
   "outputs": [],
   "source": [
    "y_data = df['label']"
   ]
  },
  {
   "cell_type": "code",
   "execution_count": 8,
   "id": "9f590fbd",
   "metadata": {},
   "outputs": [
    {
     "data": {
      "text/plain": [
       "0    5\n",
       "1    0\n",
       "2    4\n",
       "3    1\n",
       "4    9\n",
       "Name: label, dtype: int64"
      ]
     },
     "execution_count": 8,
     "metadata": {},
     "output_type": "execute_result"
    }
   ],
   "source": [
    "y_data.head()"
   ]
  },
  {
   "cell_type": "code",
   "execution_count": 9,
   "id": "ecc46c05",
   "metadata": {},
   "outputs": [],
   "source": [
    "# 픽셀 데이터를 정규화(0~1 사이의 실수로 변환)\n",
    "scaler = MinMaxScaler()                    # scaler 객체 생성\n",
    "scaler.fit(X_data)                         # scaler 객체를 학습\n",
    "normal_x_data = scaler.transform(X_data)   # scaler를 통해서 실제값을 변환"
   ]
  },
  {
   "cell_type": "code",
   "execution_count": 10,
   "id": "339a74f4",
   "metadata": {},
   "outputs": [],
   "source": [
    "norm_train_x_data, norm_test_x_data, train_y_data, test_y_data = train_test_split(normal_x_data,y_data,test_size=0.3)"
   ]
  },
  {
   "cell_type": "code",
   "execution_count": 11,
   "id": "b0507c61",
   "metadata": {},
   "outputs": [],
   "source": [
    "norm_train_x_data = norm_test_x_data.reshape(-1,28,28,1)\n",
    "norm_test_x_data = norm_test_x_data.reshape(-1,28,28,1)"
   ]
  },
  {
   "cell_type": "code",
   "execution_count": 12,
   "id": "053bacd1",
   "metadata": {},
   "outputs": [],
   "source": [
    "from tensorflow.keras.layers import Conv2D, MaxPool2D"
   ]
  },
  {
   "cell_type": "code",
   "execution_count": 13,
   "id": "fffc6fe0",
   "metadata": {},
   "outputs": [],
   "source": [
    "model = Sequential()"
   ]
  },
  {
   "cell_type": "code",
   "execution_count": 14,
   "id": "39349a8f",
   "metadata": {},
   "outputs": [],
   "source": [
    "# Convolution\n",
    "model.add(Conv2D(\n",
    "    filters=32,\n",
    "    kernel_size=(3,3),\n",
    "    strides=(1,1),\n",
    "    activation='relu',\n",
    "    input_shape=(28,28,1)))"
   ]
  },
  {
   "cell_type": "code",
   "execution_count": 15,
   "id": "f2513bc7",
   "metadata": {},
   "outputs": [],
   "source": [
    "model.add(Conv2D(\n",
    "    filters=64,\n",
    "    kernel_size=(3,3),\n",
    "    strides=(1,1),\n",
    "    activation='relu'))"
   ]
  },
  {
   "cell_type": "code",
   "execution_count": 16,
   "id": "90cb16cb",
   "metadata": {},
   "outputs": [],
   "source": [
    "model.add(MaxPool2D(pool_size=(2,2)))"
   ]
  },
  {
   "cell_type": "code",
   "execution_count": 17,
   "id": "3f099a46",
   "metadata": {},
   "outputs": [],
   "source": [
    "model.add(Conv2D(\n",
    "    filters=64,\n",
    "    kernel_size=(3,3),\n",
    "    strides=(1,1),\n",
    "    activation='relu'))"
   ]
  },
  {
   "cell_type": "code",
   "execution_count": 18,
   "id": "aab883d4",
   "metadata": {},
   "outputs": [],
   "source": [
    "# FC layer(DNN) 의: input layer\n",
    "model.add(Flatten(input_shape=())) # 전체 4차원 에서 2차원으로 바꿔주는것"
   ]
  },
  {
   "cell_type": "code",
   "execution_count": 19,
   "id": "b3153bbc",
   "metadata": {},
   "outputs": [],
   "source": [
    "# hidden Layer\n",
    "model.add(Dense(units=256, activation='relu'))"
   ]
  },
  {
   "cell_type": "code",
   "execution_count": 20,
   "id": "becbecfe",
   "metadata": {},
   "outputs": [],
   "source": [
    "# output layer\n",
    "model.add(Dense(units=10, activation='softmax'))"
   ]
  },
  {
   "cell_type": "code",
   "execution_count": 21,
   "id": "5ae79d4f",
   "metadata": {},
   "outputs": [],
   "source": [
    "# model이 어떻게 동작하는지를 지정\n",
    "model.compile(optimizer=SGD(learning_rate=0.0001),\n",
    "             loss='sparse_categorical_crossentropy',\n",
    "             metrics=['accuracy'])"
   ]
  },
  {
   "cell_type": "code",
   "execution_count": 34,
   "id": "da7d7df6",
   "metadata": {
    "scrolled": true
   },
   "outputs": [
    {
     "name": "stdout",
     "output_type": "stream",
     "text": [
      "Epoch 1/30\n",
      "450/450 [==============================] - 14s 32ms/step - loss: 2.3012 - accuracy: 0.1100 - val_loss: 2.3025 - val_accuracy: 0.1028\n",
      "Epoch 2/30\n",
      "450/450 [==============================] - 15s 32ms/step - loss: 2.3011 - accuracy: 0.1101 - val_loss: 2.3025 - val_accuracy: 0.1069\n",
      "Epoch 3/30\n",
      "450/450 [==============================] - 14s 32ms/step - loss: 2.3011 - accuracy: 0.1099 - val_loss: 2.3025 - val_accuracy: 0.1061\n",
      "Epoch 4/30\n",
      "450/450 [==============================] - 15s 32ms/step - loss: 2.3010 - accuracy: 0.1108 - val_loss: 2.3025 - val_accuracy: 0.1069\n",
      "Epoch 5/30\n",
      "450/450 [==============================] - 14s 31ms/step - loss: 2.3009 - accuracy: 0.1110 - val_loss: 2.3025 - val_accuracy: 0.1056\n",
      "Epoch 6/30\n",
      "450/450 [==============================] - 14s 31ms/step - loss: 2.3009 - accuracy: 0.1119 - val_loss: 2.3025 - val_accuracy: 0.1053\n",
      "Epoch 7/30\n",
      "450/450 [==============================] - 14s 31ms/step - loss: 2.3008 - accuracy: 0.1128 - val_loss: 2.3026 - val_accuracy: 0.1056\n",
      "Epoch 8/30\n",
      "450/450 [==============================] - 14s 30ms/step - loss: 2.3008 - accuracy: 0.1131 - val_loss: 2.3026 - val_accuracy: 0.1053\n",
      "Epoch 9/30\n",
      "450/450 [==============================] - 14s 31ms/step - loss: 2.3007 - accuracy: 0.1133 - val_loss: 2.3026 - val_accuracy: 0.1067\n",
      "Epoch 10/30\n",
      "450/450 [==============================] - 14s 31ms/step - loss: 2.3007 - accuracy: 0.1134 - val_loss: 2.3026 - val_accuracy: 0.1075\n",
      "Epoch 11/30\n",
      "450/450 [==============================] - 14s 31ms/step - loss: 2.3006 - accuracy: 0.1138 - val_loss: 2.3026 - val_accuracy: 0.1075\n",
      "Epoch 12/30\n",
      "450/450 [==============================] - 14s 31ms/step - loss: 2.3006 - accuracy: 0.1137 - val_loss: 2.3026 - val_accuracy: 0.1069\n",
      "Epoch 13/30\n",
      "450/450 [==============================] - 14s 31ms/step - loss: 2.3005 - accuracy: 0.1137 - val_loss: 2.3026 - val_accuracy: 0.1067\n",
      "Epoch 14/30\n",
      "450/450 [==============================] - 14s 31ms/step - loss: 2.3005 - accuracy: 0.1138 - val_loss: 2.3026 - val_accuracy: 0.1061\n",
      "Epoch 15/30\n",
      "450/450 [==============================] - 14s 30ms/step - loss: 2.3004 - accuracy: 0.1138 - val_loss: 2.3026 - val_accuracy: 0.1061\n",
      "Epoch 16/30\n",
      "450/450 [==============================] - 14s 31ms/step - loss: 2.3004 - accuracy: 0.1135 - val_loss: 2.3026 - val_accuracy: 0.1058\n",
      "Epoch 17/30\n",
      "450/450 [==============================] - 14s 31ms/step - loss: 2.3004 - accuracy: 0.1134 - val_loss: 2.3027 - val_accuracy: 0.1064\n",
      "Epoch 18/30\n",
      "450/450 [==============================] - 14s 31ms/step - loss: 2.3003 - accuracy: 0.1133 - val_loss: 2.3027 - val_accuracy: 0.1067\n",
      "Epoch 19/30\n",
      "450/450 [==============================] - 14s 30ms/step - loss: 2.3003 - accuracy: 0.1133 - val_loss: 2.3027 - val_accuracy: 0.1061\n",
      "Epoch 20/30\n",
      "450/450 [==============================] - 14s 31ms/step - loss: 2.3003 - accuracy: 0.1133 - val_loss: 2.3027 - val_accuracy: 0.1064\n",
      "Epoch 21/30\n",
      "450/450 [==============================] - 14s 31ms/step - loss: 2.3002 - accuracy: 0.1135 - val_loss: 2.3027 - val_accuracy: 0.1064\n",
      "Epoch 22/30\n",
      "450/450 [==============================] - 14s 31ms/step - loss: 2.3002 - accuracy: 0.1132 - val_loss: 2.3027 - val_accuracy: 0.1064\n",
      "Epoch 23/30\n",
      "450/450 [==============================] - 14s 31ms/step - loss: 2.3002 - accuracy: 0.1134 - val_loss: 2.3027 - val_accuracy: 0.1067\n",
      "Epoch 24/30\n",
      "450/450 [==============================] - 14s 30ms/step - loss: 2.3001 - accuracy: 0.1135 - val_loss: 2.3028 - val_accuracy: 0.1067\n",
      "Epoch 25/30\n",
      "450/450 [==============================] - 14s 31ms/step - loss: 2.3001 - accuracy: 0.1135 - val_loss: 2.3028 - val_accuracy: 0.1069\n",
      "Epoch 26/30\n",
      "450/450 [==============================] - 14s 31ms/step - loss: 2.3001 - accuracy: 0.1138 - val_loss: 2.3028 - val_accuracy: 0.1067\n",
      "Epoch 27/30\n",
      "450/450 [==============================] - 14s 31ms/step - loss: 2.3000 - accuracy: 0.1138 - val_loss: 2.3028 - val_accuracy: 0.1058\n",
      "Epoch 28/30\n",
      "450/450 [==============================] - 14s 31ms/step - loss: 2.3000 - accuracy: 0.1138 - val_loss: 2.3028 - val_accuracy: 0.1058\n",
      "Epoch 29/30\n",
      "450/450 [==============================] - 14s 31ms/step - loss: 2.3000 - accuracy: 0.1138 - val_loss: 2.3028 - val_accuracy: 0.1061\n",
      "Epoch 30/30\n",
      "450/450 [==============================] - 14s 31ms/step - loss: 2.3000 - accuracy: 0.1140 - val_loss: 2.3028 - val_accuracy: 0.1064\n"
     ]
    }
   ],
   "source": [
    "# 설정을 모두 마치었으면 모델 학습\n",
    "history = model.fit(norm_train_x_data,train_y_data, epochs = 30,\n",
    "             verbose= 1,\n",
    "             validation_split=0.2)"
   ]
  },
  {
   "cell_type": "code",
   "execution_count": 35,
   "id": "e6faa6c0",
   "metadata": {},
   "outputs": [
    {
     "name": "stdout",
     "output_type": "stream",
     "text": [
      "Model: \"sequential\"\n",
      "_________________________________________________________________\n",
      " Layer (type)                Output Shape              Param #   \n",
      "=================================================================\n",
      " conv2d (Conv2D)             (None, 26, 26, 32)        320       \n",
      "                                                                 \n",
      " conv2d_1 (Conv2D)           (None, 24, 24, 64)        18496     \n",
      "                                                                 \n",
      " max_pooling2d (MaxPooling2D  (None, 12, 12, 64)       0         \n",
      " )                                                               \n",
      "                                                                 \n",
      " conv2d_2 (Conv2D)           (None, 10, 10, 64)        36928     \n",
      "                                                                 \n",
      " flatten (Flatten)           (None, 6400)              0         \n",
      "                                                                 \n",
      " dense (Dense)               (None, 256)               1638656   \n",
      "                                                                 \n",
      " dense_1 (Dense)             (None, 10)                2570      \n",
      "                                                                 \n",
      "=================================================================\n",
      "Total params: 1,696,970\n",
      "Trainable params: 1,696,970\n",
      "Non-trainable params: 0\n",
      "_________________________________________________________________\n"
     ]
    }
   ],
   "source": [
    "model.summary()"
   ]
  },
  {
   "cell_type": "code",
   "execution_count": 36,
   "id": "eb2ee1cb",
   "metadata": {
    "scrolled": true
   },
   "outputs": [
    {
     "name": "stdout",
     "output_type": "stream",
     "text": [
      "563/563 [==============================] - 4s 7ms/step - loss: 2.3030 - accuracy: 0.1374\n"
     ]
    },
    {
     "data": {
      "text/plain": [
       "[2.3029887676239014, 0.13744445145130157]"
      ]
     },
     "execution_count": 36,
     "metadata": {},
     "output_type": "execute_result"
    }
   ],
   "source": [
    "model.evaluate(norm_test_x_data, test_y_data)"
   ]
  },
  {
   "cell_type": "code",
   "execution_count": 37,
   "id": "48103230",
   "metadata": {},
   "outputs": [],
   "source": [
    "import matplotlib.pyplot as plt"
   ]
  },
  {
   "cell_type": "code",
   "execution_count": 38,
   "id": "08bc75b7",
   "metadata": {},
   "outputs": [],
   "source": [
    "acc = history.history['accuracy']\n",
    "loss= history.history['loss']\n",
    "val_acc = history.history['val_accuracy']\n",
    "val_loss = history.history['val_loss']"
   ]
  },
  {
   "cell_type": "code",
   "execution_count": 39,
   "id": "93d142cf",
   "metadata": {},
   "outputs": [],
   "source": [
    "epochs = range(len(acc))"
   ]
  },
  {
   "cell_type": "code",
   "execution_count": 40,
   "id": "80611a77",
   "metadata": {},
   "outputs": [
    {
     "data": {
      "image/png": "[encoded data removed]",
      "text/plain": [
       "<Figure size 432x288 with 1 Axes>"
      ]
     },
     "metadata": {
      "needs_background": "light"
     },
     "output_type": "display_data"
    },
    {
     "data": {
      "image/png": "[encoded data removed]",
      "text/plain": [
       "<Figure size 432x288 with 1 Axes>"
      ]
     },
     "metadata": {
      "needs_background": "light"
     },
     "output_type": "display_data"
    }
   ],
   "source": [
    "plt.plot(epochs, acc, 'bo', label= 'Training accuracy')\n",
    "plt.plot(epochs, val_acc, 'b', label= 'Training accuracy')\n",
    "plt.title('Training and validation accuracy')\n",
    "plt.legend()\n",
    "\n",
    "plt.figure()\n",
    "\n",
    "plt.plot(epochs, loss, 'bo', label= 'Training loss')\n",
    "plt.plot(epochs, val_loss, 'b', label= 'Training loss')\n",
    "plt.title('Training and validation loss')\n",
    "plt.legend()\n",
    "\n",
    "plt.show()"
   ]
  },
  {
   "cell_type": "code",
   "execution_count": null,
   "id": "0e94d919",
   "metadata": {},
   "outputs": [],
   "source": []
  }
 ],
 "metadata": {
  "kernelspec": {
   "display_name": "Python 3 (ipykernel)",
   "language": "python",
   "name": "python3"
  },
  "language_info": {
   "codemirror_mode": {
    "name": "ipython",
    "version": 3
   },
   "file_extension": ".py",
   "mimetype": "text/x-python",
   "name": "python",
   "nbconvert_exporter": "python",
   "pygments_lexer": "ipython3",
   "version": "3.9.12"
  },
  "toc": {
   "base_numbering": 1,
   "nav_menu": {},
   "number_sections": true,
   "sideBar": true,
   "skip_h1_title": false,
   "title_cell": "Table of Contents",
   "title_sidebar": "Contents",
   "toc_cell": false,
   "toc_position": {},
   "toc_section_display": true,
   "toc_window_display": false
  },
  "varInspector": {
   "cols": {
    "lenName": 16,
    "lenType": 16,
    "lenVar": 40
   },
   "kernels_config": {
    "python": {
     "delete_cmd_postfix": "",
     "delete_cmd_prefix": "del ",
     "library": "var_list.py",
     "varRefreshCmd": "print(var_dic_list())"
    },
    "r": {
     "delete_cmd_postfix": ") ",
     "delete_cmd_prefix": "rm(",
     "library": "var_list.r",
     "varRefreshCmd": "cat(var_dic_list()) "
    }
   },
   "types_to_exclude": [
    "module",
    "function",
    "builtin_function_or_method",
    "instance",
    "_Feature"
   ],
   "window_display": false
  }
 },
 "nbformat": 4,
 "nbformat_minor": 5
}
