{
 "cells": [
  {
   "cell_type": "code",
   "execution_count": 6,
   "id": "bf674551",
   "metadata": {},
   "outputs": [],
   "source": [
    "# 전이학습에 대하야 알아봅시다\n",
    "# 비학습된 Pretrained Network VGG16을 이용해 보는것\n",
    "\n",
    "from tensorflow.keras.applications import VGG16"
   ]
  },
  {
   "cell_type": "code",
   "execution_count": 7,
   "id": "f25f1beb",
   "metadata": {},
   "outputs": [],
   "source": [
    "import numpy as np\n",
    "from tensorflow.keras.models import Sequential\n",
    "from tensorflow.keras.layers import Conv2D, MaxPooling2D\n",
    "from tensorflow.keras.layers import Flatten, Dense\n",
    "from tensorflow.keras.optimizers import Adam\n",
    "from tensorflow.keras.preprocessing.image import ImageDataGenerator"
   ]
  },
  {
   "cell_type": "code",
   "execution_count": 8,
   "id": "7780b8e1",
   "metadata": {},
   "outputs": [],
   "source": [
    "# ImageDataGenerator 객체 생성\n",
    "Train_Datagen = ImageDataGenerator(rescale=1/255)\n",
    "Test_Datagen = ImageDataGenerator(rescale=1/255)"
   ]
  },
  {
   "cell_type": "code",
   "execution_count": 9,
   "id": "05673ec9",
   "metadata": {},
   "outputs": [],
   "source": [
    "train_dir = './cats_and_dogs_small/train'\n",
    "test_dir = './cats_and_dogs_small/test'"
   ]
  },
  {
   "cell_type": "code",
   "execution_count": 10,
   "id": "a2a6452b",
   "metadata": {},
   "outputs": [
    {
     "name": "stdout",
     "output_type": "stream",
     "text": [
      "Found 2000 images belonging to 2 classes.\n",
      "Found 1000 images belonging to 2 classes.\n"
     ]
    }
   ],
   "source": [
    "# ImageDataGenerator 설정\n",
    "\n",
    "train_generator = Train_Datagen.flow_from_directory(\n",
    "    train_dir,               # 학습용 이미지를 가져올 폴더\n",
    "    classes=['cats','dogs'], # cats 폴더의 이미지 label을 0으로 \n",
    "                             # dogs 폴더의 이미지는 label을 1으로\n",
    "    target_size=(150,150),   # 이미지 resize\n",
    "    batch_size=20,           # 한번에 20개의 이미지만 가져와서 학습\n",
    "    class_mode = 'binary'    # 이진분류인 경우 설정\n",
    ")\n",
    "\n",
    "\n",
    "test_generator = Test_Datagen.flow_from_directory(\n",
    "    test_dir,               # 학습용 이미지를 가져올 폴더\n",
    "    classes=['cats','dogs'], # cats 폴더의 이미지 label을 0으로 \n",
    "                             # dogs 폴더의 이미지는 label을 1으로\n",
    "    target_size=(150,150),   # 이미지 resize\n",
    "    batch_size=20,           # 한번에 10개의 이미지만 가져와서 학습\n",
    "    class_mode = 'binary'    # 이진분류인 경우 설정\n",
    ")"
   ]
  },
  {
   "cell_type": "code",
   "execution_count": 13,
   "id": "7ae7245b",
   "metadata": {},
   "outputs": [],
   "source": [
    "model = Sequential()\n",
    "\n",
    "model_base = VGG16(weights='imagenet',\n",
    "                   include_top=False,\n",
    "                   input_shape = (150,150,3))\n",
    "\n",
    "model.add(model_base)\n",
    "\n",
    "# Classification 하는 부분은 우리가 구현해야 합니다\n",
    "# FC Layer(DNN)의 Input Layer\n",
    "\n",
    "model.add(Flatten())\n",
    "\n",
    "# output layer\n",
    "model.add(Dense(units=1,\n",
    "               activation='sigmoid'))"
   ]
  },
  {
   "cell_type": "code",
   "execution_count": null,
   "id": "8bb60975",
   "metadata": {},
   "outputs": [],
   "source": []
  },
  {
   "cell_type": "code",
   "execution_count": 14,
   "id": "cc59218f",
   "metadata": {},
   "outputs": [],
   "source": [
    "# model이 어떻게 동작하는지를 지정\n",
    "model.compile(optimizer=Adam(learning_rate=1e-4),\n",
    "             loss='binary_crossentropy',\n",
    "             metrics=['accuracy'])"
   ]
  },
  {
   "cell_type": "code",
   "execution_count": 15,
   "id": "5986f531",
   "metadata": {},
   "outputs": [
    {
     "name": "stdout",
     "output_type": "stream",
     "text": [
      "Epoch 1/10\n",
      "100/100 [==============================] - 268s 3s/step - loss: 0.4085 - accuracy: 0.8160 - val_loss: 0.2170 - val_accuracy: 0.9010\n",
      "Epoch 2/10\n",
      "100/100 [==============================] - 263s 3s/step - loss: 0.1835 - accuracy: 0.9270 - val_loss: 0.1942 - val_accuracy: 0.9120\n",
      "Epoch 3/10\n",
      "100/100 [==============================] - 262s 3s/step - loss: 0.1996 - accuracy: 0.9195 - val_loss: 0.3866 - val_accuracy: 0.8600\n",
      "Epoch 4/10\n",
      "100/100 [==============================] - 263s 3s/step - loss: 0.1140 - accuracy: 0.9640 - val_loss: 0.2972 - val_accuracy: 0.8910\n",
      "Epoch 5/10\n",
      "100/100 [==============================] - 265s 3s/step - loss: 0.0307 - accuracy: 0.9880 - val_loss: 0.3059 - val_accuracy: 0.9140\n",
      "Epoch 6/10\n",
      "100/100 [==============================] - 263s 3s/step - loss: 0.0240 - accuracy: 0.9925 - val_loss: 0.3277 - val_accuracy: 0.9170\n",
      "Epoch 7/10\n",
      "100/100 [==============================] - 263s 3s/step - loss: 0.0208 - accuracy: 0.9925 - val_loss: 0.4621 - val_accuracy: 0.8840\n",
      "Epoch 8/10\n",
      "100/100 [==============================] - 267s 3s/step - loss: 0.0279 - accuracy: 0.9925 - val_loss: 0.3208 - val_accuracy: 0.9190\n",
      "Epoch 9/10\n",
      "100/100 [==============================] - 271s 3s/step - loss: 0.0554 - accuracy: 0.9795 - val_loss: 0.2758 - val_accuracy: 0.9190\n",
      "Epoch 10/10\n",
      "100/100 [==============================] - 269s 3s/step - loss: 0.0285 - accuracy: 0.9925 - val_loss: 0.2834 - val_accuracy: 0.9230\n"
     ]
    }
   ],
   "source": [
    "# 설정을 모두 마치었으면 모델 학습\n",
    "history = model.fit(train_generator,\n",
    "             steps_per_epoch = 100,\n",
    "             epochs = 10,\n",
    "             verbose= 1,\n",
    "             validation_data = test_generator,\n",
    "             validation_steps =50)"
   ]
  },
  {
   "cell_type": "code",
   "execution_count": 16,
   "id": "c63be8f6",
   "metadata": {
    "scrolled": true
   },
   "outputs": [
    {
     "name": "stdout",
     "output_type": "stream",
     "text": [
      "Model: \"sequential_2\"\n",
      "_________________________________________________________________\n",
      " Layer (type)                Output Shape              Param #   \n",
      "=================================================================\n",
      " vgg16 (Functional)          (None, 4, 4, 512)         14714688  \n",
      "                                                                 \n",
      " flatten_2 (Flatten)         (None, 8192)              0         \n",
      "                                                                 \n",
      " dense (Dense)               (None, 1)                 8193      \n",
      "                                                                 \n",
      "=================================================================\n",
      "Total params: 14,722,881\n",
      "Trainable params: 14,722,881\n",
      "Non-trainable params: 0\n",
      "_________________________________________________________________\n"
     ]
    }
   ],
   "source": [
    "model.summary()"
   ]
  },
  {
   "cell_type": "code",
   "execution_count": 17,
   "id": "00e844ed",
   "metadata": {},
   "outputs": [
    {
     "name": "stdout",
     "output_type": "stream",
     "text": [
      "50/50 [==============================] - 27s 532ms/step - loss: 0.2834 - accuracy: 0.9230\n"
     ]
    },
    {
     "data": {
      "text/plain": [
       "[0.28341880440711975, 0.9229999780654907]"
      ]
     },
     "execution_count": 17,
     "metadata": {},
     "output_type": "execute_result"
    }
   ],
   "source": [
    "model.evaluate(test_generator)"
   ]
  },
  {
   "cell_type": "code",
   "execution_count": 18,
   "id": "01372936",
   "metadata": {},
   "outputs": [],
   "source": [
    "import matplotlib.pyplot as plt"
   ]
  },
  {
   "cell_type": "code",
   "execution_count": 19,
   "id": "24dbd93a",
   "metadata": {},
   "outputs": [],
   "source": [
    "acc = history.history['accuracy']\n",
    "loss= history.history['loss']\n",
    "val_acc = history.history['val_accuracy']\n",
    "val_loss = history.history['val_loss']"
   ]
  },
  {
   "cell_type": "code",
   "execution_count": 20,
   "id": "6af3cbe1",
   "metadata": {},
   "outputs": [],
   "source": [
    "epochs = range(len(acc))"
   ]
  },
  {
   "cell_type": "code",
   "execution_count": 21,
   "id": "f4daaf14",
   "metadata": {},
   "outputs": [
    {
     "data": {
      "image/png": "[encoded data removed]",
      "text/plain": [
       "<Figure size 432x288 with 1 Axes>"
      ]
     },
     "metadata": {
      "needs_background": "light"
     },
     "output_type": "display_data"
    },
    {
     "data": {
      "image/png": "[encoded data removed]",
      "text/plain": [
       "<Figure size 432x288 with 1 Axes>"
      ]
     },
     "metadata": {
      "needs_background": "light"
     },
     "output_type": "display_data"
    }
   ],
   "source": [
    "plt.plot(epochs, acc, 'bo', label= 'Training accuracy')\n",
    "plt.plot(epochs, val_acc, 'b', label= 'Training accuracy')\n",
    "plt.title('Training and validation accuracy')\n",
    "plt.legend()\n",
    "\n",
    "plt.figure()\n",
    "\n",
    "plt.plot(epochs, loss, 'bo', label= 'Training loss')\n",
    "plt.plot(epochs, val_loss, 'b', label= 'Training loss')\n",
    "plt.title('Training and validation loss')\n",
    "plt.legend()\n",
    "\n",
    "plt.show()"
   ]
  },
  {
   "cell_type": "code",
   "execution_count": null,
   "id": "761719b2",
   "metadata": {},
   "outputs": [],
   "source": []
  }
 ],
 "metadata": {
  "kernelspec": {
   "display_name": "Python 3 (ipykernel)",
   "language": "python",
   "name": "python3"
  },
  "language_info": {
   "codemirror_mode": {
    "name": "ipython",
    "version": 3
   },
   "file_extension": ".py",
   "mimetype": "text/x-python",
   "name": "python",
   "nbconvert_exporter": "python",
   "pygments_lexer": "ipython3",
   "version": "3.9.12"
  },
  "toc": {
   "base_numbering": 1,
   "nav_menu": {},
   "number_sections": true,
   "sideBar": true,
   "skip_h1_title": false,
   "title_cell": "Table of Contents",
   "title_sidebar": "Contents",
   "toc_cell": false,
   "toc_position": {},
   "toc_section_display": true,
   "toc_window_display": false
  },
  "varInspector": {
   "cols": {
    "lenName": 16,
    "lenType": 16,
    "lenVar": 40
   },
   "kernels_config": {
    "python": {
     "delete_cmd_postfix": "",
     "delete_cmd_prefix": "del ",
     "library": "var_list.py",
     "varRefreshCmd": "print(var_dic_list())"
    },
    "r": {
     "delete_cmd_postfix": ") ",
     "delete_cmd_prefix": "rm(",
     "library": "var_list.r",
     "varRefreshCmd": "cat(var_dic_list()) "
    }
   },
   "types_to_exclude": [
    "module",
    "function",
    "builtin_function_or_method",
    "instance",
    "_Feature"
   ],
   "window_display": false
  }
 },
 "nbformat": 4,
 "nbformat_minor": 5
}
